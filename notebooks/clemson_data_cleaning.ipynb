{
 "cells": [
  {
   "cell_type": "markdown",
   "metadata": {},
   "source": [
    "### Clemson Sorghum Experiments Data Cleaning Notebook\n",
    "#### Data from [Brenton et al., 2016](https://www.genetics.org/content/204/1/21) collected from Clemson University Pee Dee Research and Education Center in 2014\n",
    "- goal: to gather more cultivar and environmental data in addition to MAC Sorghum Seasons 4 & 6 and KSU Experiments\n",
    "- please contact David LeBauer at dlebauer@email.arizona.edu or Emily Cain at ejcain@email.arizona.edu with any questions or feedback, or create an issue in this [repository](https://github.com/genophenoenvo/terraref-datasets)"
   ]
  },
  {
   "cell_type": "code",
   "execution_count": 1,
   "metadata": {},
   "outputs": [],
   "source": [
    "import datetime\n",
    "import numpy as np\n",
    "import os\n",
    "import pandas as pd\n",
    "import requests"
   ]
  },
  {
   "cell_type": "markdown",
   "metadata": {},
   "source": [
    "#### Read in data queried from betydb in `R` using this code:\n",
    "```\n",
    "library(traits)\n",
    "\n",
    "options(betydb_url = \"https://terraref.ncsa.illinois.edu/bety/\",\n",
    "        betydb_api_version = 'v1',\n",
    "        betydb_key = 'secret_api_key_123456_abcde')\n",
    "        \n",
    "clemson <- betydb_query(sitename  = \"~Clemson\",\n",
    "                         limit     =  \"none\")\n",
    "                      \n",
    "write.csv(clemson, file = \"clemson_data_2020-06-01.csv\")\n",
    "```"
   ]
  },
  {
   "cell_type": "code",
   "execution_count": null,
   "metadata": {},
   "outputs": [],
   "source": []
  },
  {
   "cell_type": "code",
   "execution_count": 2,
   "metadata": {},
   "outputs": [],
   "source": [
    "def download_csv(url, folder_name, file_name):\n",
    "    response = requests.get(url)\n",
    "    with open(os.path.join(folder_name, file_name), 'wb') as f:\n",
    "        f.write(response.content)"
   ]
  },
  {
   "cell_type": "code",
   "execution_count": 3,
   "metadata": {},
   "outputs": [],
   "source": [
    "def read_in_csv(folder_name, file_name):\n",
    "    df = pd.read_csv(folder_name + '/' + file_name, low_memory=False)\n",
    "    return df"
   ]
  },
  {
   "cell_type": "code",
   "execution_count": 4,
   "metadata": {},
   "outputs": [],
   "source": [
    "def save_to_csv_without_timestamp(list_of_dfs, list_of_output_filenames):\n",
    "\n",
    "    for i,j in zip(list_of_dfs, list_of_output_filenames):\n",
    "        i.to_csv(j, index=False)"
   ]
  },
  {
   "cell_type": "code",
   "execution_count": null,
   "metadata": {},
   "outputs": [],
   "source": []
  },
  {
   "cell_type": "code",
   "execution_count": 5,
   "metadata": {},
   "outputs": [],
   "source": [
    "folder_name = 'data'\n",
    "if not os.path.exists(folder_name):\n",
    "    os.makedirs(folder_name)"
   ]
  },
  {
   "cell_type": "code",
   "execution_count": 6,
   "metadata": {},
   "outputs": [],
   "source": [
    "clemson_url = 'https://de.cyverse.org/dl/d/D946B9A0-870C-4071-847C-F6377E61D30B/clemson_data_2020-06-01.csv'\n",
    "clemson_input_filename = 'clemson_trait_data.csv'"
   ]
  },
  {
   "cell_type": "code",
   "execution_count": 7,
   "metadata": {},
   "outputs": [],
   "source": [
    "download_csv(clemson_url, folder_name=folder_name, file_name=clemson_input_filename)"
   ]
  },
  {
   "cell_type": "code",
   "execution_count": 8,
   "metadata": {},
   "outputs": [],
   "source": [
    "df_0 = read_in_csv(folder_name=folder_name, file_name=clemson_input_filename)\n",
    "# print(df_0.shape)\n",
    "# df_0.head()"
   ]
  },
  {
   "cell_type": "markdown",
   "metadata": {},
   "source": [
    "#### Slice for selected traits\n",
    "- plant height\n",
    "- days & GDD to flowering\n",
    "- aboveground dry biomass"
   ]
  },
  {
   "cell_type": "code",
   "execution_count": 9,
   "metadata": {},
   "outputs": [
    {
     "data": {
      "text/plain": [
       "array(['ndf', 'adf', 'flowering_time', 'plant_height',\n",
       "       'aboveground_dry_biomass'], dtype=object)"
      ]
     },
     "execution_count": 9,
     "metadata": {},
     "output_type": "execute_result"
    }
   ],
   "source": [
    "df_0.trait.unique()"
   ]
  },
  {
   "cell_type": "code",
   "execution_count": 10,
   "metadata": {},
   "outputs": [],
   "source": [
    "df_1 = df_0.loc[(df_0.trait == 'flowering_time') | (df_0.trait == 'plant_height') | (df_0.trait == 'aboveground_dry_biomass')]\n",
    "# print(df_1.shape)\n",
    "# df_1.tail()"
   ]
  },
  {
   "cell_type": "markdown",
   "metadata": {},
   "source": [
    "#### Drop & Rename Columns\n",
    "- rename `mean` to `value`\n",
    "- convert `raw_date` to new datetime object\n",
    "- new datetime object will be in `date` column\n",
    "- drop `raw_date` column"
   ]
  },
  {
   "cell_type": "code",
   "execution_count": 11,
   "metadata": {},
   "outputs": [
    {
     "name": "stdout",
     "output_type": "stream",
     "text": [
      "(931, 13)\n"
     ]
    }
   ],
   "source": [
    "cols_to_drop = ['Unnamed: 0', 'checked', 'result_type', 'id', 'citation_id', 'site_id', 'treatment_id', \n",
    "                'commonname', 'genus', 'species_id', 'cultivar_id', 'month', 'year', 'dateloc', 'n', 'statname', \n",
    "                'stat', 'notes', 'access_level', 'entity', 'view_url', 'edit_url', 'date', 'time', 'method_name', \n",
    "                'treatment']\n",
    "\n",
    "df_2 = df_1.drop(labels=cols_to_drop, axis=1)\n",
    "print(df_2.shape)\n",
    "# df_2.head()"
   ]
  },
  {
   "cell_type": "markdown",
   "metadata": {},
   "source": [
    "#### Convert `raw_date` to datetime object"
   ]
  },
  {
   "cell_type": "code",
   "execution_count": 12,
   "metadata": {},
   "outputs": [],
   "source": [
    "new_dates = pd.to_datetime(df_2.raw_date)\n",
    "\n",
    "df_3 = df_2.copy()\n",
    "df_3['date'] = new_dates\n",
    "\n",
    "# print(df_2.shape)\n",
    "# print(df_3.shape)\n",
    "\n",
    "# df_3.head(3)"
   ]
  },
  {
   "cell_type": "code",
   "execution_count": 13,
   "metadata": {},
   "outputs": [],
   "source": [
    "df_4 = df_3.rename({'mean': 'value'}, axis=1)\n",
    "# print(df_4.shape)\n",
    "# df_4.tail(3)"
   ]
  },
  {
   "cell_type": "code",
   "execution_count": 14,
   "metadata": {},
   "outputs": [],
   "source": [
    "df_5 = df_4.drop(labels=['raw_date'], axis=1)\n",
    "# print(df_5.shape)\n",
    "# df_5.head()"
   ]
  },
  {
   "cell_type": "markdown",
   "metadata": {},
   "source": [
    "### Add Weather Data\n",
    "- downloaded from [Daymet](https://daymet.ornl.gov/getdata) and [Climate Engine](http://climateengine.org/data)"
   ]
  },
  {
   "cell_type": "code",
   "execution_count": 15,
   "metadata": {},
   "outputs": [],
   "source": [
    "clemson_weather_url = 'https://de.cyverse.org/dl/d/1EB28C81-10A1-4E1B-A406-1D0C6A20AF2D/clemson_weather.csv'\n",
    "clemson_weather_input_filename = 'clemson_weather_data.csv'"
   ]
  },
  {
   "cell_type": "code",
   "execution_count": 16,
   "metadata": {},
   "outputs": [],
   "source": [
    "download_csv(clemson_weather_url, folder_name=folder_name, file_name=clemson_weather_input_filename)"
   ]
  },
  {
   "cell_type": "code",
   "execution_count": 17,
   "metadata": {},
   "outputs": [
    {
     "name": "stdout",
     "output_type": "stream",
     "text": [
      "(163, 14)\n"
     ]
    },
    {
     "data": {
      "text/html": [
       "<div>\n",
       "<style scoped>\n",
       "    .dataframe tbody tr th:only-of-type {\n",
       "        vertical-align: middle;\n",
       "    }\n",
       "\n",
       "    .dataframe tbody tr th {\n",
       "        vertical-align: top;\n",
       "    }\n",
       "\n",
       "    .dataframe thead th {\n",
       "        text-align: right;\n",
       "    }\n",
       "</style>\n",
       "<table border=\"1\" class=\"dataframe\">\n",
       "  <thead>\n",
       "    <tr style=\"text-align: right;\">\n",
       "      <th></th>\n",
       "      <th>date</th>\n",
       "      <th>day_of_year</th>\n",
       "      <th>temp_min</th>\n",
       "      <th>temp_max</th>\n",
       "      <th>temp_mean</th>\n",
       "      <th>gdd</th>\n",
       "      <th>rh_min</th>\n",
       "      <th>rh_max</th>\n",
       "      <th>rh_mean</th>\n",
       "      <th>vpd_mean</th>\n",
       "      <th>precip</th>\n",
       "      <th>precip_cumulative</th>\n",
       "      <th>first_water_deficit_treatment</th>\n",
       "      <th>second_water_deficit_treatment</th>\n",
       "    </tr>\n",
       "  </thead>\n",
       "  <tbody>\n",
       "    <tr>\n",
       "      <th>0</th>\n",
       "      <td>2014-05-06</td>\n",
       "      <td>126</td>\n",
       "      <td>15.0</td>\n",
       "      <td>32.5</td>\n",
       "      <td>23.75</td>\n",
       "      <td>14.0</td>\n",
       "      <td>22.64</td>\n",
       "      <td>79.11</td>\n",
       "      <td>50.87</td>\n",
       "      <td>1.47</td>\n",
       "      <td>0</td>\n",
       "      <td>0</td>\n",
       "      <td>False</td>\n",
       "      <td>False</td>\n",
       "    </tr>\n",
       "    <tr>\n",
       "      <th>1</th>\n",
       "      <td>2014-05-07</td>\n",
       "      <td>127</td>\n",
       "      <td>14.5</td>\n",
       "      <td>33.0</td>\n",
       "      <td>23.75</td>\n",
       "      <td>28.0</td>\n",
       "      <td>22.29</td>\n",
       "      <td>73.16</td>\n",
       "      <td>47.73</td>\n",
       "      <td>1.57</td>\n",
       "      <td>0</td>\n",
       "      <td>0</td>\n",
       "      <td>False</td>\n",
       "      <td>False</td>\n",
       "    </tr>\n",
       "    <tr>\n",
       "      <th>2</th>\n",
       "      <td>2014-05-08</td>\n",
       "      <td>128</td>\n",
       "      <td>15.5</td>\n",
       "      <td>33.5</td>\n",
       "      <td>24.50</td>\n",
       "      <td>42.0</td>\n",
       "      <td>24.37</td>\n",
       "      <td>78.09</td>\n",
       "      <td>51.23</td>\n",
       "      <td>1.53</td>\n",
       "      <td>0</td>\n",
       "      <td>0</td>\n",
       "      <td>False</td>\n",
       "      <td>False</td>\n",
       "    </tr>\n",
       "    <tr>\n",
       "      <th>3</th>\n",
       "      <td>2014-05-09</td>\n",
       "      <td>129</td>\n",
       "      <td>16.5</td>\n",
       "      <td>33.5</td>\n",
       "      <td>25.00</td>\n",
       "      <td>57.0</td>\n",
       "      <td>28.85</td>\n",
       "      <td>70.50</td>\n",
       "      <td>49.67</td>\n",
       "      <td>1.63</td>\n",
       "      <td>0</td>\n",
       "      <td>0</td>\n",
       "      <td>False</td>\n",
       "      <td>False</td>\n",
       "    </tr>\n",
       "    <tr>\n",
       "      <th>4</th>\n",
       "      <td>2014-05-10</td>\n",
       "      <td>130</td>\n",
       "      <td>19.0</td>\n",
       "      <td>32.5</td>\n",
       "      <td>25.75</td>\n",
       "      <td>73.0</td>\n",
       "      <td>35.96</td>\n",
       "      <td>79.65</td>\n",
       "      <td>57.81</td>\n",
       "      <td>1.43</td>\n",
       "      <td>0</td>\n",
       "      <td>0</td>\n",
       "      <td>False</td>\n",
       "      <td>False</td>\n",
       "    </tr>\n",
       "  </tbody>\n",
       "</table>\n",
       "</div>"
      ],
      "text/plain": [
       "         date  day_of_year  temp_min  temp_max  temp_mean   gdd  rh_min  \\\n",
       "0  2014-05-06          126      15.0      32.5      23.75  14.0   22.64   \n",
       "1  2014-05-07          127      14.5      33.0      23.75  28.0   22.29   \n",
       "2  2014-05-08          128      15.5      33.5      24.50  42.0   24.37   \n",
       "3  2014-05-09          129      16.5      33.5      25.00  57.0   28.85   \n",
       "4  2014-05-10          130      19.0      32.5      25.75  73.0   35.96   \n",
       "\n",
       "   rh_max  rh_mean  vpd_mean  precip  precip_cumulative  \\\n",
       "0   79.11    50.87      1.47       0                  0   \n",
       "1   73.16    47.73      1.57       0                  0   \n",
       "2   78.09    51.23      1.53       0                  0   \n",
       "3   70.50    49.67      1.63       0                  0   \n",
       "4   79.65    57.81      1.43       0                  0   \n",
       "\n",
       "   first_water_deficit_treatment  second_water_deficit_treatment  \n",
       "0                          False                           False  \n",
       "1                          False                           False  \n",
       "2                          False                           False  \n",
       "3                          False                           False  \n",
       "4                          False                           False  "
      ]
     },
     "execution_count": 17,
     "metadata": {},
     "output_type": "execute_result"
    }
   ],
   "source": [
    "weather_0 = read_in_csv(folder_name=folder_name, file_name=clemson_weather_input_filename)\n",
    "print(weather_0.shape)\n",
    "weather_0.head()"
   ]
  },
  {
   "cell_type": "markdown",
   "metadata": {},
   "source": [
    "### A. Days & GDD to Flowering\n",
    "- planting date: 2014-05-06"
   ]
  },
  {
   "cell_type": "code",
   "execution_count": 18,
   "metadata": {},
   "outputs": [
    {
     "name": "stdout",
     "output_type": "stream",
     "text": [
      "(168, 13)\n"
     ]
    }
   ],
   "source": [
    "fl_0 = df_5.loc[df_5.trait == 'flowering_time']\n",
    "print(fl_0.shape)\n",
    "# fl_0.head()"
   ]
  },
  {
   "cell_type": "markdown",
   "metadata": {},
   "source": [
    "#### Add planting date"
   ]
  },
  {
   "cell_type": "code",
   "execution_count": 19,
   "metadata": {},
   "outputs": [],
   "source": [
    "day_of_planting = datetime.date(2014,5,6)\n",
    "fl_1 = fl_0.copy()\n",
    "\n",
    "fl_1['date_of_planting'] = day_of_planting\n",
    "# print(fl_1.shape)\n",
    "# fl_1.head(5)"
   ]
  },
  {
   "cell_type": "markdown",
   "metadata": {},
   "source": [
    "#### Create timedelta using days to flowering"
   ]
  },
  {
   "cell_type": "code",
   "execution_count": 20,
   "metadata": {},
   "outputs": [],
   "source": [
    "timedelta_values = fl_1['value'].values\n",
    "dates_of_flowering = []\n",
    "\n",
    "for val in timedelta_values:\n",
    "    \n",
    "    date_of_flowering = day_of_planting + datetime.timedelta(days=val)\n",
    "    dates_of_flowering.append(date_of_flowering)\n",
    "    \n",
    "# print(fl_1.shape[0])\n",
    "# print(len(dates_of_flowering))"
   ]
  },
  {
   "cell_type": "code",
   "execution_count": 21,
   "metadata": {},
   "outputs": [],
   "source": [
    "fl_2 = fl_1.copy()\n",
    "fl_2['date_of_flowering'] = dates_of_flowering\n",
    "# print(fl_2.shape)\n",
    "# fl_2.tail()"
   ]
  },
  {
   "cell_type": "markdown",
   "metadata": {},
   "source": [
    "#### Merge temperature data from weather dataframe with flowering dataframe"
   ]
  },
  {
   "cell_type": "code",
   "execution_count": 22,
   "metadata": {},
   "outputs": [],
   "source": [
    "temp_df = weather_0[['date', 'day_of_year', 'temp_min', 'temp_max', 'gdd']]\n",
    "# print(temp_df.shape)\n",
    "# temp_df.head()"
   ]
  },
  {
   "cell_type": "markdown",
   "metadata": {},
   "source": [
    "#### Convert dates to datetime objects\n",
    "- date of flowering\n",
    "- date in the weather df"
   ]
  },
  {
   "cell_type": "code",
   "execution_count": 23,
   "metadata": {},
   "outputs": [],
   "source": [
    "fl_3 = fl_2.copy()\n",
    "fl_3.date_of_flowering = pd.to_datetime(fl_3.date_of_flowering)\n",
    "# fl_3.dtypes"
   ]
  },
  {
   "cell_type": "code",
   "execution_count": 24,
   "metadata": {},
   "outputs": [],
   "source": [
    "temp_df_1 = temp_df.copy()\n",
    "temp_df_1.date = pd.to_datetime(temp_df_1.date)"
   ]
  },
  {
   "cell_type": "code",
   "execution_count": 25,
   "metadata": {},
   "outputs": [],
   "source": [
    "fl_4 = fl_3.merge(temp_df_1, how='left', left_on='date_of_flowering', right_on='date')\n",
    "# print(fl_4.shape)\n",
    "# fl_4.tail()"
   ]
  },
  {
   "cell_type": "markdown",
   "metadata": {},
   "source": [
    "#### Rename & Drop Columns"
   ]
  },
  {
   "cell_type": "code",
   "execution_count": 26,
   "metadata": {},
   "outputs": [],
   "source": [
    "cols_to_drop = ['scientificname', 'author', 'citation_year', 'trait', 'units', 'date_of_planting', 'date_x', 'date_y',\n",
    "               'temp_min', 'temp_max']\n",
    "\n",
    "fl_5 = fl_4.drop(labels=cols_to_drop, axis=1)\n",
    "# print(fl_5.shape)\n",
    "# fl_5.head()"
   ]
  },
  {
   "cell_type": "code",
   "execution_count": 27,
   "metadata": {},
   "outputs": [],
   "source": [
    "fl_6 = fl_5.rename({'value': 'days_to_flowering', 'gdd': 'gdd_to_flowering'}, axis=1)\n",
    "# print(fl_6.shape)\n",
    "# fl_6.head()"
   ]
  },
  {
   "cell_type": "code",
   "execution_count": 28,
   "metadata": {},
   "outputs": [],
   "source": [
    "new_col_order = ['sitename', 'city', 'lat', 'lon', 'trait_description', 'cultivar', \n",
    "                 'days_to_flowering', 'gdd_to_flowering', 'date_of_flowering']\n",
    "\n",
    "fl_7 = pd.DataFrame(data=fl_6, columns=new_col_order)\n",
    "# print(fl_7.shape)\n",
    "# fl_7.head(3)"
   ]
  },
  {
   "cell_type": "markdown",
   "metadata": {},
   "source": [
    "### B. Plant Height"
   ]
  },
  {
   "cell_type": "code",
   "execution_count": 29,
   "metadata": {},
   "outputs": [],
   "source": [
    "ph_0 = df_5.loc[df_5.trait == 'plant_height']\n",
    "# print(ph_0.shape)\n",
    "# ph_0.head()"
   ]
  },
  {
   "cell_type": "markdown",
   "metadata": {},
   "source": [
    "#### Rename, Drop, & Reorder Columns"
   ]
  },
  {
   "cell_type": "code",
   "execution_count": 30,
   "metadata": {},
   "outputs": [],
   "source": [
    "ph_1 = ph_0.rename({'value': 'plant_height_cm'}, axis=1)\n",
    "# ph_1.tail()"
   ]
  },
  {
   "cell_type": "code",
   "execution_count": 31,
   "metadata": {},
   "outputs": [],
   "source": [
    "cols_to_drop = ['author', 'citation_year', 'trait', 'units']\n",
    "\n",
    "ph_2 = ph_1.drop(labels=cols_to_drop, axis=1)\n",
    "# print(ph_2.shape)\n",
    "# ph_2.head()"
   ]
  },
  {
   "cell_type": "code",
   "execution_count": 32,
   "metadata": {},
   "outputs": [],
   "source": [
    "new_col_order = ['sitename', 'city', 'lat', 'lon', 'scientificname', 'trait_description', 'cultivar', \n",
    "                'plant_height_cm', 'date']\n",
    "\n",
    "ph_3 = pd.DataFrame(data=ph_2, columns=new_col_order)\n",
    "# print(ph_3.shape)\n",
    "# ph_3.head()"
   ]
  },
  {
   "cell_type": "code",
   "execution_count": null,
   "metadata": {},
   "outputs": [],
   "source": []
  },
  {
   "cell_type": "markdown",
   "metadata": {},
   "source": [
    "### C. Aboveground dry biomass"
   ]
  },
  {
   "cell_type": "code",
   "execution_count": 33,
   "metadata": {},
   "outputs": [],
   "source": [
    "adb_0 = df_5.loc[df_5.trait == 'aboveground_dry_biomass']\n",
    "# print(adb_0.shape)\n",
    "# adb_0.head()"
   ]
  },
  {
   "cell_type": "markdown",
   "metadata": {},
   "source": [
    "#### Rename, Drop, & Reorder Columns"
   ]
  },
  {
   "cell_type": "code",
   "execution_count": 34,
   "metadata": {},
   "outputs": [],
   "source": [
    "adb_1 = adb_0.rename({'value': 'aboveground_dry_biomass'}, axis=1)\n",
    "# adb_1.tail()"
   ]
  },
  {
   "cell_type": "code",
   "execution_count": 35,
   "metadata": {},
   "outputs": [],
   "source": [
    "cols_to_drop = ['author', 'citation_year', 'trait', 'trait_description']\n",
    "\n",
    "adb_2 = adb_1.drop(labels=cols_to_drop, axis=1)\n",
    "# print(adb_2.shape)\n",
    "# adb_2.head()"
   ]
  },
  {
   "cell_type": "code",
   "execution_count": 36,
   "metadata": {},
   "outputs": [
    {
     "name": "stdout",
     "output_type": "stream",
     "text": [
      "(382, 9)\n"
     ]
    },
    {
     "data": {
      "text/html": [
       "<div>\n",
       "<style scoped>\n",
       "    .dataframe tbody tr th:only-of-type {\n",
       "        vertical-align: middle;\n",
       "    }\n",
       "\n",
       "    .dataframe tbody tr th {\n",
       "        vertical-align: top;\n",
       "    }\n",
       "\n",
       "    .dataframe thead th {\n",
       "        text-align: right;\n",
       "    }\n",
       "</style>\n",
       "<table border=\"1\" class=\"dataframe\">\n",
       "  <thead>\n",
       "    <tr style=\"text-align: right;\">\n",
       "      <th></th>\n",
       "      <th>date</th>\n",
       "      <th>sitename</th>\n",
       "      <th>city</th>\n",
       "      <th>lat</th>\n",
       "      <th>lon</th>\n",
       "      <th>scientificname</th>\n",
       "      <th>cultivar</th>\n",
       "      <th>aboveground_dry_biomass</th>\n",
       "      <th>units</th>\n",
       "    </tr>\n",
       "  </thead>\n",
       "  <tbody>\n",
       "    <tr>\n",
       "      <th>943</th>\n",
       "      <td>2014-09-02 19:00:00-05:00</td>\n",
       "      <td>Clemson University Pee Dee Research and Educat...</td>\n",
       "      <td>Florence</td>\n",
       "      <td>34.289</td>\n",
       "      <td>-79.737</td>\n",
       "      <td>Sorghum bicolor</td>\n",
       "      <td>PI197542</td>\n",
       "      <td>5380.0</td>\n",
       "      <td>kg / ha</td>\n",
       "    </tr>\n",
       "    <tr>\n",
       "      <th>944</th>\n",
       "      <td>2014-08-30 19:00:00-05:00</td>\n",
       "      <td>Clemson University Pee Dee Research and Educat...</td>\n",
       "      <td>Florence</td>\n",
       "      <td>34.289</td>\n",
       "      <td>-79.737</td>\n",
       "      <td>Sorghum bicolor</td>\n",
       "      <td>PI365512</td>\n",
       "      <td>6090.0</td>\n",
       "      <td>kg / ha</td>\n",
       "    </tr>\n",
       "    <tr>\n",
       "      <th>945</th>\n",
       "      <td>2014-08-23 19:00:00-05:00</td>\n",
       "      <td>Clemson University Pee Dee Research and Educat...</td>\n",
       "      <td>Florence</td>\n",
       "      <td>34.289</td>\n",
       "      <td>-79.737</td>\n",
       "      <td>Sorghum bicolor</td>\n",
       "      <td>PI533998</td>\n",
       "      <td>6090.0</td>\n",
       "      <td>kg / ha</td>\n",
       "    </tr>\n",
       "    <tr>\n",
       "      <th>946</th>\n",
       "      <td>2014-09-16 19:00:00-05:00</td>\n",
       "      <td>Clemson University Pee Dee Research and Educat...</td>\n",
       "      <td>Florence</td>\n",
       "      <td>34.289</td>\n",
       "      <td>-79.737</td>\n",
       "      <td>Sorghum bicolor</td>\n",
       "      <td>PI533792</td>\n",
       "      <td>6990.0</td>\n",
       "      <td>kg / ha</td>\n",
       "    </tr>\n",
       "    <tr>\n",
       "      <th>947</th>\n",
       "      <td>2014-09-17 19:00:00-05:00</td>\n",
       "      <td>Clemson University Pee Dee Research and Educat...</td>\n",
       "      <td>Florence</td>\n",
       "      <td>34.289</td>\n",
       "      <td>-79.737</td>\n",
       "      <td>Sorghum bicolor</td>\n",
       "      <td>PI655978</td>\n",
       "      <td>6990.0</td>\n",
       "      <td>kg / ha</td>\n",
       "    </tr>\n",
       "  </tbody>\n",
       "</table>\n",
       "</div>"
      ],
      "text/plain": [
       "                         date  \\\n",
       "943 2014-09-02 19:00:00-05:00   \n",
       "944 2014-08-30 19:00:00-05:00   \n",
       "945 2014-08-23 19:00:00-05:00   \n",
       "946 2014-09-16 19:00:00-05:00   \n",
       "947 2014-09-17 19:00:00-05:00   \n",
       "\n",
       "                                              sitename      city     lat  \\\n",
       "943  Clemson University Pee Dee Research and Educat...  Florence  34.289   \n",
       "944  Clemson University Pee Dee Research and Educat...  Florence  34.289   \n",
       "945  Clemson University Pee Dee Research and Educat...  Florence  34.289   \n",
       "946  Clemson University Pee Dee Research and Educat...  Florence  34.289   \n",
       "947  Clemson University Pee Dee Research and Educat...  Florence  34.289   \n",
       "\n",
       "        lon   scientificname  cultivar  aboveground_dry_biomass    units  \n",
       "943 -79.737  Sorghum bicolor  PI197542                   5380.0  kg / ha  \n",
       "944 -79.737  Sorghum bicolor  PI365512                   6090.0  kg / ha  \n",
       "945 -79.737  Sorghum bicolor  PI533998                   6090.0  kg / ha  \n",
       "946 -79.737  Sorghum bicolor  PI533792                   6990.0  kg / ha  \n",
       "947 -79.737  Sorghum bicolor  PI655978                   6990.0  kg / ha  "
      ]
     },
     "execution_count": 36,
     "metadata": {},
     "output_type": "execute_result"
    }
   ],
   "source": [
    "new_col_order = ['date', 'sitename', 'city', 'lat', 'lon', 'scientificname', 'cultivar', \n",
    "                'aboveground_dry_biomass', 'units']\n",
    "\n",
    "adb_3 = pd.DataFrame(data=adb_2, columns=new_col_order)\n",
    "print(adb_3.shape)\n",
    "adb_3.head()"
   ]
  },
  {
   "cell_type": "code",
   "execution_count": null,
   "metadata": {},
   "outputs": [],
   "source": []
  },
  {
   "cell_type": "code",
   "execution_count": null,
   "metadata": {},
   "outputs": [],
   "source": []
  },
  {
   "cell_type": "code",
   "execution_count": null,
   "metadata": {},
   "outputs": [],
   "source": []
  },
  {
   "cell_type": "code",
   "execution_count": 37,
   "metadata": {},
   "outputs": [],
   "source": [
    "list_of_dfs = [fl_7, ph_3, adb_3]\n",
    "list_of_output_filenames = ['clemson_days_gdd_to_flowering.csv', 'clemson_plant_height.csv', \n",
    "                           'clemson_aboveground_dry_biomass.csv']\n",
    "\n",
    "save_to_csv_without_timestamp(list_of_dfs=list_of_dfs, list_of_output_filenames=list_of_output_filenames)"
   ]
  },
  {
   "cell_type": "code",
   "execution_count": null,
   "metadata": {},
   "outputs": [],
   "source": []
  }
 ],
 "metadata": {
  "kernelspec": {
   "display_name": "Python 3",
   "language": "python",
   "name": "python3"
  },
  "language_info": {
   "codemirror_mode": {
    "name": "ipython",
    "version": 3
   },
   "file_extension": ".py",
   "mimetype": "text/x-python",
   "name": "python",
   "nbconvert_exporter": "python",
   "pygments_lexer": "ipython3",
   "version": "3.8.3"
  }
 },
 "nbformat": 4,
 "nbformat_minor": 4
}
