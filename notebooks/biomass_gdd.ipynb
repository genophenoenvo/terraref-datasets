{
 "cells": [
  {
   "cell_type": "markdown",
   "metadata": {},
   "source": [
    "## Phenotype Table I\n",
    "December 2019\n",
    "#### Traits\n",
    "* Season 4 biomass at harvest\n",
    "    * `aboveground_dry_biomass`\n",
    "    * `aboveground_fresh_biomass`\n",
    "* Season 4 `growing_degree_days`\n",
    "\n",
    "#### Notes\n",
    "* one plot per row\n",
    "* 2017 daily weather station data downloaded from [MAC Weather Station](https://cals.arizona.edu/azmet/06.htm)\n",
    "    * raw data [description](https://cals.arizona.edu/azmet/raw2003.htm)\n",
    "    * `.csv` [gist](https://gist.github.com/MagicMilly/92785c81acdb703c40298230a7b84140)\n",
    "* [Metadata](https://terraref.ncsa.illinois.edu/bety/api/v1/managements) dates in UTC\n",
    "* All curated data will use Arizona datetimes"
   ]
  },
  {
   "cell_type": "code",
   "execution_count": 1,
   "metadata": {},
   "outputs": [],
   "source": [
    "import datetime\n",
    "import pandas as pd\n",
    "import numpy as np"
   ]
  },
  {
   "cell_type": "code",
   "execution_count": 2,
   "metadata": {},
   "outputs": [
    {
     "name": "stdout",
     "output_type": "stream",
     "text": [
      "(372363, 39)\n"
     ]
    }
   ],
   "source": [
    "df_0 = pd.read_csv('../data/raw/mac_season_4.csv', low_memory=False)\n",
    "print(df_0.shape)\n",
    "# df_0.head()"
   ]
  },
  {
   "cell_type": "code",
   "execution_count": null,
   "metadata": {},
   "outputs": [],
   "source": []
  },
  {
   "cell_type": "markdown",
   "metadata": {},
   "source": [
    "### I. Set index to sitename \n",
    "* Maintain shape of dataframe\n",
    "* No grouping\n",
    "* Strip `E` and `W` from sitenames"
   ]
  },
  {
   "cell_type": "code",
   "execution_count": 3,
   "metadata": {},
   "outputs": [
    {
     "data": {
      "text/plain": [
       "(9460, 39)"
      ]
     },
     "execution_count": 3,
     "metadata": {},
     "output_type": "execute_result"
    }
   ],
   "source": [
    "e_w_subplots = df_0.loc[(df_0.sitename.str.endswith(' E')) | (df_0.sitename.str.endswith(' W'))]\n",
    "e_w_subplots.shape"
   ]
  },
  {
   "cell_type": "code",
   "execution_count": 4,
   "metadata": {},
   "outputs": [
    {
     "name": "stdout",
     "output_type": "stream",
     "text": [
      "Length of original sitename values list: 372363\n",
      "Length new sitename list: 372363\n",
      "Number of E and W subplots: 9460\n"
     ]
    }
   ],
   "source": [
    "new_sitenames = []\n",
    "e_w_counter = 0\n",
    "\n",
    "for site in df_0.sitename.values:\n",
    "    \n",
    "    if (site.endswith(' W')) | (site.endswith(' E')):\n",
    "        new_name = site[:-2]\n",
    "        new_sitenames.append(new_name)\n",
    "        e_w_counter += 1\n",
    "        \n",
    "    else:\n",
    "        new_sitenames.append(site)\n",
    "        \n",
    "print(f'Length of original sitename values list: {len(df_0.sitename.values)}')\n",
    "print(f'Length new sitename list: {len(new_sitenames)}')\n",
    "print(f'Number of E and W subplots: {e_w_counter}')"
   ]
  },
  {
   "cell_type": "code",
   "execution_count": 5,
   "metadata": {},
   "outputs": [
    {
     "name": "stdout",
     "output_type": "stream",
     "text": [
      "(372363, 40)\n"
     ]
    }
   ],
   "source": [
    "df_0['plot_name'] = new_sitenames\n",
    "print(df_0.shape)\n",
    "# df_0.head()"
   ]
  },
  {
   "cell_type": "code",
   "execution_count": 6,
   "metadata": {},
   "outputs": [
    {
     "name": "stdout",
     "output_type": "stream",
     "text": [
      "(372363, 39)\n"
     ]
    }
   ],
   "source": [
    "df_1 = df_0.set_index(keys='plot_name')\n",
    "print(df_1.shape)\n",
    "# df_1.head()"
   ]
  },
  {
   "cell_type": "code",
   "execution_count": 7,
   "metadata": {},
   "outputs": [
    {
     "name": "stdout",
     "output_type": "stream",
     "text": [
      "Number of unique plot names: 847\n"
     ]
    }
   ],
   "source": [
    "print(f'Number of unique plot names: {df_1.index.nunique()}')"
   ]
  },
  {
   "cell_type": "code",
   "execution_count": null,
   "metadata": {},
   "outputs": [],
   "source": []
  },
  {
   "cell_type": "markdown",
   "metadata": {},
   "source": [
    "### II. Biomass at harvest"
   ]
  },
  {
   "cell_type": "markdown",
   "metadata": {},
   "source": [
    "#### A. Aboveground dry biomass"
   ]
  },
  {
   "cell_type": "code",
   "execution_count": 8,
   "metadata": {},
   "outputs": [
    {
     "name": "stdout",
     "output_type": "stream",
     "text": [
      "Number of aboveground dry biomass values in dataset: 200\n",
      "Number of unique plots in biomass df: 199\n"
     ]
    }
   ],
   "source": [
    "dry_bio_values_only = df_1.loc[df_1.trait == 'aboveground_dry_biomass']\n",
    "print(f'Number of aboveground dry biomass values in dataset: {dry_bio_values_only.shape[0]}')\n",
    "print(f'Number of unique plots in biomass df: {dry_bio_values_only.index.nunique()}')"
   ]
  },
  {
   "cell_type": "code",
   "execution_count": 9,
   "metadata": {},
   "outputs": [],
   "source": [
    "# Identify the duplicate plot\n",
    "\n",
    "duplicates = dry_bio_values_only[dry_bio_values_only.index.duplicated(keep=False)]\n",
    "# duplicates"
   ]
  },
  {
   "cell_type": "code",
   "execution_count": 10,
   "metadata": {},
   "outputs": [
    {
     "name": "stdout",
     "output_type": "stream",
     "text": [
      "Index(['MAC Field Scanner Season 4 Range 20 Column 11'], dtype='object', name='plot_name')\n",
      "[10950.]\n"
     ]
    }
   ],
   "source": [
    "print(duplicates.index.unique())\n",
    "print(duplicates['mean'].unique())"
   ]
  },
  {
   "cell_type": "code",
   "execution_count": 11,
   "metadata": {},
   "outputs": [
    {
     "name": "stdout",
     "output_type": "stream",
     "text": [
      "Unnamed: 0: 72499\n",
      "Unnamed: 0: 279789\n",
      "n: nan\n",
      "n: nan\n",
      "statname: nan\n",
      "statname: nan\n",
      "stat: nan\n",
      "stat: nan\n",
      "notes: nan\n",
      "notes: nan\n",
      "entity: nan\n",
      "entity: nan\n"
     ]
    }
   ],
   "source": [
    "non_duplicate_columns = []\n",
    "\n",
    "for col in duplicates.columns:\n",
    "    \n",
    "    if duplicates.iloc[0][col] != duplicates.iloc[1][col]:\n",
    "        non_duplicate_columns.append(col)\n",
    "        \n",
    "# print(non_duplicate_columns)\n",
    "\n",
    "for col in non_duplicate_columns:\n",
    "    print(f'{col}: {duplicates.iloc[0][col]}')\n",
    "    print(f'{col}: {duplicates.iloc[1][col]}')"
   ]
  },
  {
   "cell_type": "markdown",
   "metadata": {},
   "source": [
    "#### Create new column `aboveground_dry_biomass` and populate with values\n",
    "* Null values will be represented by an empty string (after calculations)"
   ]
  },
  {
   "cell_type": "code",
   "execution_count": 12,
   "metadata": {},
   "outputs": [],
   "source": [
    "# Create new empty column\n",
    "\n",
    "df_1['aboveground_dry_biomass'] = np.nan"
   ]
  },
  {
   "cell_type": "code",
   "execution_count": 13,
   "metadata": {},
   "outputs": [],
   "source": [
    "df_2 = df_1.copy()\n",
    "# df_2.head()"
   ]
  },
  {
   "cell_type": "code",
   "execution_count": 14,
   "metadata": {},
   "outputs": [],
   "source": [
    "# for rows where trait == aboveground_dry_biomass, use that value to populate new aboveground_dry_biomass column\n",
    "\n",
    "for index, row in df_2.iterrows():            \n",
    "    \n",
    "        if row['trait'] == 'aboveground_dry_biomass':\n",
    "            df_2.loc[index, ['aboveground_dry_biomass']] = row['mean']"
   ]
  },
  {
   "cell_type": "markdown",
   "metadata": {},
   "source": [
    "#### B. Aboveground fresh biomass"
   ]
  },
  {
   "cell_type": "code",
   "execution_count": 15,
   "metadata": {},
   "outputs": [
    {
     "name": "stdout",
     "output_type": "stream",
     "text": [
      "Number of aboveground fresh biomass values in dataset: 543\n",
      "Number of unique plots in biomass df: 543\n"
     ]
    }
   ],
   "source": [
    "fresh_bio_values_only = df_1.loc[df_1.trait == 'aboveground_fresh_biomass']\n",
    "print(f'Number of aboveground fresh biomass values in dataset: {fresh_bio_values_only.shape[0]}')\n",
    "print(f'Number of unique plots in biomass df: {fresh_bio_values_only.index.nunique()}')"
   ]
  },
  {
   "cell_type": "markdown",
   "metadata": {},
   "source": [
    "#### Create new column `aboveground_fresh_biomass` and populate with values\n",
    "* Null values will be represented by an empty string (after calculations)"
   ]
  },
  {
   "cell_type": "code",
   "execution_count": 16,
   "metadata": {},
   "outputs": [],
   "source": [
    "# Create new empty column\n",
    "\n",
    "df_2['aboveground_fresh_biomass'] = np.nan"
   ]
  },
  {
   "cell_type": "code",
   "execution_count": 17,
   "metadata": {},
   "outputs": [],
   "source": [
    "df_3 = df_2.copy()"
   ]
  },
  {
   "cell_type": "code",
   "execution_count": 18,
   "metadata": {},
   "outputs": [],
   "source": [
    "# for rows where trait == aboveground_fresh_biomass, use that value to populate new aboveground_fresh_biomass column\n",
    "\n",
    "for index, row in df_3.iterrows():            \n",
    "    \n",
    "        if row['trait'] == 'aboveground_fresh_biomass':\n",
    "            df_3.loc[index, ['aboveground_fresh_biomass']] = row['mean']"
   ]
  },
  {
   "cell_type": "code",
   "execution_count": null,
   "metadata": {},
   "outputs": [],
   "source": []
  },
  {
   "cell_type": "markdown",
   "metadata": {},
   "source": [
    "### III. Drop columns"
   ]
  },
  {
   "cell_type": "code",
   "execution_count": 19,
   "metadata": {},
   "outputs": [
    {
     "data": {
      "text/plain": [
       "Index(['Unnamed: 0', 'checked', 'result_type', 'id', 'citation_id', 'site_id',\n",
       "       'treatment_id', 'sitename', 'city', 'lat', 'lon', 'scientificname',\n",
       "       'commonname', 'genus', 'species_id', 'cultivar_id', 'author',\n",
       "       'citation_year', 'treatment', 'date', 'time', 'raw_date', 'month',\n",
       "       'year', 'dateloc', 'trait', 'trait_description', 'mean', 'units', 'n',\n",
       "       'statname', 'stat', 'notes', 'access_level', 'cultivar', 'entity',\n",
       "       'method_name', 'view_url', 'edit_url', 'aboveground_dry_biomass',\n",
       "       'aboveground_fresh_biomass'],\n",
       "      dtype='object')"
      ]
     },
     "execution_count": 19,
     "metadata": {},
     "output_type": "execute_result"
    }
   ],
   "source": [
    "df_3.columns"
   ]
  },
  {
   "cell_type": "code",
   "execution_count": 20,
   "metadata": {},
   "outputs": [],
   "source": [
    "cols_to_drop = ['Unnamed: 0', 'checked', 'site_id', 'result_type', 'id', 'citation_id', 'treatment_id', 'sitename', 'city', \n",
    "                'lat', 'lon', 'scientificname', 'commonname', 'genus', 'species_id', 'author', 'citation_year', \n",
    "                'treatment', 'time', 'month', 'year', 'dateloc', 'trait', 'trait_description', 'mean', \n",
    "                'units', 'n', 'statname', 'stat', 'notes', 'access_level', 'entity', 'method_name', 'view_url', \n",
    "                'edit_url',]"
   ]
  },
  {
   "cell_type": "code",
   "execution_count": 21,
   "metadata": {},
   "outputs": [],
   "source": [
    "df_4 = df_3.drop(labels=cols_to_drop, axis=1)\n",
    "# df_4.head()"
   ]
  },
  {
   "cell_type": "markdown",
   "metadata": {},
   "source": [
    "#### A. Sort by raw date so that only the first duplicate `plot_name` (latest date) will be kept\n",
    "* Can be changed to Arizona time later if needed"
   ]
  },
  {
   "cell_type": "code",
   "execution_count": 22,
   "metadata": {},
   "outputs": [
    {
     "data": {
      "text/plain": [
       "cultivar_id                    int64\n",
       "date                          object\n",
       "raw_date                      object\n",
       "cultivar                      object\n",
       "aboveground_dry_biomass      float64\n",
       "aboveground_fresh_biomass    float64\n",
       "dtype: object"
      ]
     },
     "execution_count": 22,
     "metadata": {},
     "output_type": "execute_result"
    }
   ],
   "source": [
    "df_4.dtypes"
   ]
  },
  {
   "cell_type": "code",
   "execution_count": 23,
   "metadata": {},
   "outputs": [
    {
     "data": {
      "text/html": [
       "<div>\n",
       "<style scoped>\n",
       "    .dataframe tbody tr th:only-of-type {\n",
       "        vertical-align: middle;\n",
       "    }\n",
       "\n",
       "    .dataframe tbody tr th {\n",
       "        vertical-align: top;\n",
       "    }\n",
       "\n",
       "    .dataframe thead th {\n",
       "        text-align: right;\n",
       "    }\n",
       "</style>\n",
       "<table border=\"1\" class=\"dataframe\">\n",
       "  <thead>\n",
       "    <tr style=\"text-align: right;\">\n",
       "      <th></th>\n",
       "      <th>cultivar_id</th>\n",
       "      <th>date</th>\n",
       "      <th>raw_date</th>\n",
       "      <th>cultivar</th>\n",
       "      <th>aboveground_dry_biomass</th>\n",
       "      <th>aboveground_fresh_biomass</th>\n",
       "    </tr>\n",
       "    <tr>\n",
       "      <th>plot_name</th>\n",
       "      <th></th>\n",
       "      <th></th>\n",
       "      <th></th>\n",
       "      <th></th>\n",
       "      <th></th>\n",
       "      <th></th>\n",
       "    </tr>\n",
       "  </thead>\n",
       "  <tbody>\n",
       "    <tr>\n",
       "      <th>MAC Field Scanner Season 4 Range 50 Column 14</th>\n",
       "      <td>6000001057</td>\n",
       "      <td>2017 Sep 15 (America/Phoenix)</td>\n",
       "      <td>2017-09-16 00:00:00 -0500</td>\n",
       "      <td>PI534165</td>\n",
       "      <td>NaN</td>\n",
       "      <td>38370.0</td>\n",
       "    </tr>\n",
       "    <tr>\n",
       "      <th>MAC Field Scanner Season 4 Range 28 Column 14</th>\n",
       "      <td>6000000804</td>\n",
       "      <td>2017 Sep 15 (America/Phoenix)</td>\n",
       "      <td>2017-09-16 00:00:00 -0500</td>\n",
       "      <td>PI329645</td>\n",
       "      <td>NaN</td>\n",
       "      <td>31550.0</td>\n",
       "    </tr>\n",
       "    <tr>\n",
       "      <th>MAC Field Scanner Season 4 Range 32 Column 15</th>\n",
       "      <td>6000000224</td>\n",
       "      <td>2017 Sep 15 (America/Phoenix)</td>\n",
       "      <td>2017-09-16 00:00:00 -0500</td>\n",
       "      <td>PI297130</td>\n",
       "      <td>NaN</td>\n",
       "      <td>43480.0</td>\n",
       "    </tr>\n",
       "    <tr>\n",
       "      <th>MAC Field Scanner Season 4 Range 50 Column 14</th>\n",
       "      <td>6000001057</td>\n",
       "      <td>2017 Sep 15 (America/Phoenix)</td>\n",
       "      <td>2017-09-16 00:00:00 -0500</td>\n",
       "      <td>PI534165</td>\n",
       "      <td>NaN</td>\n",
       "      <td>38370.0</td>\n",
       "    </tr>\n",
       "    <tr>\n",
       "      <th>MAC Field Scanner Season 4 Range 11 Column 13</th>\n",
       "      <td>6000000868</td>\n",
       "      <td>2017 Sep 15 (America/Phoenix)</td>\n",
       "      <td>2017-09-16 00:00:00 -0500</td>\n",
       "      <td>PI535793</td>\n",
       "      <td>25330.0</td>\n",
       "      <td>94640.0</td>\n",
       "    </tr>\n",
       "  </tbody>\n",
       "</table>\n",
       "</div>"
      ],
      "text/plain": [
       "                                               cultivar_id  \\\n",
       "plot_name                                                    \n",
       "MAC Field Scanner Season 4 Range 50 Column 14   6000001057   \n",
       "MAC Field Scanner Season 4 Range 28 Column 14   6000000804   \n",
       "MAC Field Scanner Season 4 Range 32 Column 15   6000000224   \n",
       "MAC Field Scanner Season 4 Range 50 Column 14   6000001057   \n",
       "MAC Field Scanner Season 4 Range 11 Column 13   6000000868   \n",
       "\n",
       "                                                                        date  \\\n",
       "plot_name                                                                      \n",
       "MAC Field Scanner Season 4 Range 50 Column 14  2017 Sep 15 (America/Phoenix)   \n",
       "MAC Field Scanner Season 4 Range 28 Column 14  2017 Sep 15 (America/Phoenix)   \n",
       "MAC Field Scanner Season 4 Range 32 Column 15  2017 Sep 15 (America/Phoenix)   \n",
       "MAC Field Scanner Season 4 Range 50 Column 14  2017 Sep 15 (America/Phoenix)   \n",
       "MAC Field Scanner Season 4 Range 11 Column 13  2017 Sep 15 (America/Phoenix)   \n",
       "\n",
       "                                                                raw_date  \\\n",
       "plot_name                                                                  \n",
       "MAC Field Scanner Season 4 Range 50 Column 14  2017-09-16 00:00:00 -0500   \n",
       "MAC Field Scanner Season 4 Range 28 Column 14  2017-09-16 00:00:00 -0500   \n",
       "MAC Field Scanner Season 4 Range 32 Column 15  2017-09-16 00:00:00 -0500   \n",
       "MAC Field Scanner Season 4 Range 50 Column 14  2017-09-16 00:00:00 -0500   \n",
       "MAC Field Scanner Season 4 Range 11 Column 13  2017-09-16 00:00:00 -0500   \n",
       "\n",
       "                                               cultivar  \\\n",
       "plot_name                                                 \n",
       "MAC Field Scanner Season 4 Range 50 Column 14  PI534165   \n",
       "MAC Field Scanner Season 4 Range 28 Column 14  PI329645   \n",
       "MAC Field Scanner Season 4 Range 32 Column 15  PI297130   \n",
       "MAC Field Scanner Season 4 Range 50 Column 14  PI534165   \n",
       "MAC Field Scanner Season 4 Range 11 Column 13  PI535793   \n",
       "\n",
       "                                               aboveground_dry_biomass  \\\n",
       "plot_name                                                                \n",
       "MAC Field Scanner Season 4 Range 50 Column 14                      NaN   \n",
       "MAC Field Scanner Season 4 Range 28 Column 14                      NaN   \n",
       "MAC Field Scanner Season 4 Range 32 Column 15                      NaN   \n",
       "MAC Field Scanner Season 4 Range 50 Column 14                      NaN   \n",
       "MAC Field Scanner Season 4 Range 11 Column 13                  25330.0   \n",
       "\n",
       "                                               aboveground_fresh_biomass  \n",
       "plot_name                                                                 \n",
       "MAC Field Scanner Season 4 Range 50 Column 14                    38370.0  \n",
       "MAC Field Scanner Season 4 Range 28 Column 14                    31550.0  \n",
       "MAC Field Scanner Season 4 Range 32 Column 15                    43480.0  \n",
       "MAC Field Scanner Season 4 Range 50 Column 14                    38370.0  \n",
       "MAC Field Scanner Season 4 Range 11 Column 13                    94640.0  "
      ]
     },
     "execution_count": 23,
     "metadata": {},
     "output_type": "execute_result"
    }
   ],
   "source": [
    "df_5 = df_4.sort_values(by=['raw_date'], ascending=False)\n",
    "# df_5.head()"
   ]
  },
  {
   "cell_type": "code",
   "execution_count": 24,
   "metadata": {},
   "outputs": [
    {
     "name": "stdout",
     "output_type": "stream",
     "text": [
      "Number of unique plot names: 847\n",
      " \n",
      "Shape of original data: (372363, 40)\n",
      "Shape of current processed data with dropped columns: (372363, 6)\n"
     ]
    }
   ],
   "source": [
    "print(f'Number of unique plot names: {df_5.index.nunique()}')\n",
    "print(' ')\n",
    "print(f'Shape of original data: {df_0.shape}')\n",
    "print(f'Shape of current processed data with dropped columns: {df_5.shape}')"
   ]
  },
  {
   "cell_type": "markdown",
   "metadata": {},
   "source": [
    "#### B. Drop duplicates by\n",
    "* `plot_name`\n",
    "* `cultivar_id`\n",
    "* `cultivar`\n",
    "* `aboveground_dry_biomass`\n",
    "* `aboveground_fresh_biomass`\n",
    "\n",
    "#### Notes\n",
    "* Only the latest (harvest) date should be used since df sorted by descending date\n",
    "* reset index so that duplicates can be checked in axis 1 columns only, rather than having to check for both axes"
   ]
  },
  {
   "cell_type": "code",
   "execution_count": 25,
   "metadata": {},
   "outputs": [
    {
     "data": {
      "text/html": [
       "<div>\n",
       "<style scoped>\n",
       "    .dataframe tbody tr th:only-of-type {\n",
       "        vertical-align: middle;\n",
       "    }\n",
       "\n",
       "    .dataframe tbody tr th {\n",
       "        vertical-align: top;\n",
       "    }\n",
       "\n",
       "    .dataframe thead th {\n",
       "        text-align: right;\n",
       "    }\n",
       "</style>\n",
       "<table border=\"1\" class=\"dataframe\">\n",
       "  <thead>\n",
       "    <tr style=\"text-align: right;\">\n",
       "      <th></th>\n",
       "      <th>plot_name</th>\n",
       "      <th>cultivar_id</th>\n",
       "      <th>date</th>\n",
       "      <th>raw_date</th>\n",
       "      <th>cultivar</th>\n",
       "      <th>aboveground_dry_biomass</th>\n",
       "      <th>aboveground_fresh_biomass</th>\n",
       "    </tr>\n",
       "  </thead>\n",
       "  <tbody>\n",
       "    <tr>\n",
       "      <th>0</th>\n",
       "      <td>MAC Field Scanner Season 4 Range 50 Column 14</td>\n",
       "      <td>6000001057</td>\n",
       "      <td>2017 Sep 15 (America/Phoenix)</td>\n",
       "      <td>2017-09-16 00:00:00 -0500</td>\n",
       "      <td>PI534165</td>\n",
       "      <td>NaN</td>\n",
       "      <td>38370.0</td>\n",
       "    </tr>\n",
       "    <tr>\n",
       "      <th>1</th>\n",
       "      <td>MAC Field Scanner Season 4 Range 28 Column 14</td>\n",
       "      <td>6000000804</td>\n",
       "      <td>2017 Sep 15 (America/Phoenix)</td>\n",
       "      <td>2017-09-16 00:00:00 -0500</td>\n",
       "      <td>PI329645</td>\n",
       "      <td>NaN</td>\n",
       "      <td>31550.0</td>\n",
       "    </tr>\n",
       "    <tr>\n",
       "      <th>2</th>\n",
       "      <td>MAC Field Scanner Season 4 Range 32 Column 15</td>\n",
       "      <td>6000000224</td>\n",
       "      <td>2017 Sep 15 (America/Phoenix)</td>\n",
       "      <td>2017-09-16 00:00:00 -0500</td>\n",
       "      <td>PI297130</td>\n",
       "      <td>NaN</td>\n",
       "      <td>43480.0</td>\n",
       "    </tr>\n",
       "    <tr>\n",
       "      <th>3</th>\n",
       "      <td>MAC Field Scanner Season 4 Range 50 Column 14</td>\n",
       "      <td>6000001057</td>\n",
       "      <td>2017 Sep 15 (America/Phoenix)</td>\n",
       "      <td>2017-09-16 00:00:00 -0500</td>\n",
       "      <td>PI534165</td>\n",
       "      <td>NaN</td>\n",
       "      <td>38370.0</td>\n",
       "    </tr>\n",
       "    <tr>\n",
       "      <th>4</th>\n",
       "      <td>MAC Field Scanner Season 4 Range 11 Column 13</td>\n",
       "      <td>6000000868</td>\n",
       "      <td>2017 Sep 15 (America/Phoenix)</td>\n",
       "      <td>2017-09-16 00:00:00 -0500</td>\n",
       "      <td>PI535793</td>\n",
       "      <td>25330.0</td>\n",
       "      <td>94640.0</td>\n",
       "    </tr>\n",
       "  </tbody>\n",
       "</table>\n",
       "</div>"
      ],
      "text/plain": [
       "                                       plot_name  cultivar_id  \\\n",
       "0  MAC Field Scanner Season 4 Range 50 Column 14   6000001057   \n",
       "1  MAC Field Scanner Season 4 Range 28 Column 14   6000000804   \n",
       "2  MAC Field Scanner Season 4 Range 32 Column 15   6000000224   \n",
       "3  MAC Field Scanner Season 4 Range 50 Column 14   6000001057   \n",
       "4  MAC Field Scanner Season 4 Range 11 Column 13   6000000868   \n",
       "\n",
       "                            date                   raw_date  cultivar  \\\n",
       "0  2017 Sep 15 (America/Phoenix)  2017-09-16 00:00:00 -0500  PI534165   \n",
       "1  2017 Sep 15 (America/Phoenix)  2017-09-16 00:00:00 -0500  PI329645   \n",
       "2  2017 Sep 15 (America/Phoenix)  2017-09-16 00:00:00 -0500  PI297130   \n",
       "3  2017 Sep 15 (America/Phoenix)  2017-09-16 00:00:00 -0500  PI534165   \n",
       "4  2017 Sep 15 (America/Phoenix)  2017-09-16 00:00:00 -0500  PI535793   \n",
       "\n",
       "   aboveground_dry_biomass  aboveground_fresh_biomass  \n",
       "0                      NaN                    38370.0  \n",
       "1                      NaN                    31550.0  \n",
       "2                      NaN                    43480.0  \n",
       "3                      NaN                    38370.0  \n",
       "4                  25330.0                    94640.0  "
      ]
     },
     "execution_count": 25,
     "metadata": {},
     "output_type": "execute_result"
    }
   ],
   "source": [
    "df_6 = df_5.reset_index()\n",
    "# df_6.head()"
   ]
  },
  {
   "cell_type": "code",
   "execution_count": 26,
   "metadata": {},
   "outputs": [
    {
     "data": {
      "text/html": [
       "<div>\n",
       "<style scoped>\n",
       "    .dataframe tbody tr th:only-of-type {\n",
       "        vertical-align: middle;\n",
       "    }\n",
       "\n",
       "    .dataframe tbody tr th {\n",
       "        vertical-align: top;\n",
       "    }\n",
       "\n",
       "    .dataframe thead th {\n",
       "        text-align: right;\n",
       "    }\n",
       "</style>\n",
       "<table border=\"1\" class=\"dataframe\">\n",
       "  <thead>\n",
       "    <tr style=\"text-align: right;\">\n",
       "      <th></th>\n",
       "      <th>plot_name</th>\n",
       "      <th>cultivar_id</th>\n",
       "      <th>date</th>\n",
       "      <th>raw_date</th>\n",
       "      <th>cultivar</th>\n",
       "      <th>aboveground_dry_biomass</th>\n",
       "      <th>aboveground_fresh_biomass</th>\n",
       "    </tr>\n",
       "  </thead>\n",
       "  <tbody>\n",
       "    <tr>\n",
       "      <th>0</th>\n",
       "      <td>MAC Field Scanner Season 4 Range 50 Column 14</td>\n",
       "      <td>6000001057</td>\n",
       "      <td>2017 Sep 15 (America/Phoenix)</td>\n",
       "      <td>2017-09-16 00:00:00 -0500</td>\n",
       "      <td>PI534165</td>\n",
       "      <td>NaN</td>\n",
       "      <td>38370.0</td>\n",
       "    </tr>\n",
       "    <tr>\n",
       "      <th>1</th>\n",
       "      <td>MAC Field Scanner Season 4 Range 28 Column 14</td>\n",
       "      <td>6000000804</td>\n",
       "      <td>2017 Sep 15 (America/Phoenix)</td>\n",
       "      <td>2017-09-16 00:00:00 -0500</td>\n",
       "      <td>PI329645</td>\n",
       "      <td>NaN</td>\n",
       "      <td>31550.0</td>\n",
       "    </tr>\n",
       "    <tr>\n",
       "      <th>2</th>\n",
       "      <td>MAC Field Scanner Season 4 Range 32 Column 15</td>\n",
       "      <td>6000000224</td>\n",
       "      <td>2017 Sep 15 (America/Phoenix)</td>\n",
       "      <td>2017-09-16 00:00:00 -0500</td>\n",
       "      <td>PI297130</td>\n",
       "      <td>NaN</td>\n",
       "      <td>43480.0</td>\n",
       "    </tr>\n",
       "    <tr>\n",
       "      <th>4</th>\n",
       "      <td>MAC Field Scanner Season 4 Range 11 Column 13</td>\n",
       "      <td>6000000868</td>\n",
       "      <td>2017 Sep 15 (America/Phoenix)</td>\n",
       "      <td>2017-09-16 00:00:00 -0500</td>\n",
       "      <td>PI535793</td>\n",
       "      <td>25330.0</td>\n",
       "      <td>94640.0</td>\n",
       "    </tr>\n",
       "    <tr>\n",
       "      <th>5</th>\n",
       "      <td>MAC Field Scanner Season 4 Range 31 Column 15</td>\n",
       "      <td>6000001007</td>\n",
       "      <td>2017 Sep 15 (America/Phoenix)</td>\n",
       "      <td>2017-09-16 00:00:00 -0500</td>\n",
       "      <td>PI641909</td>\n",
       "      <td>NaN</td>\n",
       "      <td>62240.0</td>\n",
       "    </tr>\n",
       "  </tbody>\n",
       "</table>\n",
       "</div>"
      ],
      "text/plain": [
       "                                       plot_name  cultivar_id  \\\n",
       "0  MAC Field Scanner Season 4 Range 50 Column 14   6000001057   \n",
       "1  MAC Field Scanner Season 4 Range 28 Column 14   6000000804   \n",
       "2  MAC Field Scanner Season 4 Range 32 Column 15   6000000224   \n",
       "4  MAC Field Scanner Season 4 Range 11 Column 13   6000000868   \n",
       "5  MAC Field Scanner Season 4 Range 31 Column 15   6000001007   \n",
       "\n",
       "                            date                   raw_date  cultivar  \\\n",
       "0  2017 Sep 15 (America/Phoenix)  2017-09-16 00:00:00 -0500  PI534165   \n",
       "1  2017 Sep 15 (America/Phoenix)  2017-09-16 00:00:00 -0500  PI329645   \n",
       "2  2017 Sep 15 (America/Phoenix)  2017-09-16 00:00:00 -0500  PI297130   \n",
       "4  2017 Sep 15 (America/Phoenix)  2017-09-16 00:00:00 -0500  PI535793   \n",
       "5  2017 Sep 15 (America/Phoenix)  2017-09-16 00:00:00 -0500  PI641909   \n",
       "\n",
       "   aboveground_dry_biomass  aboveground_fresh_biomass  \n",
       "0                      NaN                    38370.0  \n",
       "1                      NaN                    31550.0  \n",
       "2                      NaN                    43480.0  \n",
       "4                  25330.0                    94640.0  \n",
       "5                      NaN                    62240.0  "
      ]
     },
     "execution_count": 26,
     "metadata": {},
     "output_type": "execute_result"
    }
   ],
   "source": [
    "df_7 = df_6.drop_duplicates(subset=['plot_name', 'cultivar_id', 'cultivar', 'aboveground_dry_biomass',\n",
    "                                   'aboveground_fresh_biomass'], keep='first')\n",
    "# df_7.head()"
   ]
  },
  {
   "cell_type": "code",
   "execution_count": 27,
   "metadata": {},
   "outputs": [
    {
     "name": "stdout",
     "output_type": "stream",
     "text": [
      "Number of unique plot names: 847\n",
      "Number of rows after duplicates dropped: 847\n"
     ]
    }
   ],
   "source": [
    "print(f'Number of unique plot names: {df_4.index.nunique()}')\n",
    "print(f'Number of rows after duplicates dropped: {df_7.shape[0]}')"
   ]
  },
  {
   "cell_type": "code",
   "execution_count": 28,
   "metadata": {},
   "outputs": [
    {
     "data": {
      "text/plain": [
       "plot_name                      0\n",
       "cultivar_id                    0\n",
       "date                           0\n",
       "raw_date                       0\n",
       "cultivar                       0\n",
       "aboveground_dry_biomass      648\n",
       "aboveground_fresh_biomass    304\n",
       "dtype: int64"
      ]
     },
     "execution_count": 28,
     "metadata": {},
     "output_type": "execute_result"
    }
   ],
   "source": [
    "# check number of null values\n",
    "\n",
    "df_7.isnull().sum()"
   ]
  },
  {
   "cell_type": "code",
   "execution_count": 29,
   "metadata": {},
   "outputs": [
    {
     "data": {
      "text/plain": [
       "(547, 7)"
      ]
     },
     "execution_count": 29,
     "metadata": {},
     "output_type": "execute_result"
    }
   ],
   "source": [
    "# check proper dates - harvest dates for non-null values should be between 2017-9-10 to 2017-9-15 (Arizona dates)\n",
    "# the raw harvest UTC dates in the metadata are between 2017-09-11 to 2017-9-16\n",
    "\n",
    "non_nulls = df_7.loc[(df_6.aboveground_dry_biomass.notna()) | (df_7.aboveground_fresh_biomass.notna())]\n",
    "non_nulls.shape"
   ]
  },
  {
   "cell_type": "markdown",
   "metadata": {},
   "source": [
    "#### C. Drop `raw_date` and use only Arizona datetime for curated dataset"
   ]
  },
  {
   "cell_type": "code",
   "execution_count": 33,
   "metadata": {},
   "outputs": [
    {
     "name": "stdout",
     "output_type": "stream",
     "text": [
      "Arizona harvest dates: ['2017 Sep 15 (America/Phoenix)' '2017 Sep 14 (America/Phoenix)'\n",
      " '2017 Sep 11 (America/Phoenix)' '2017 Sep 10 (America/Phoenix)']\n"
     ]
    }
   ],
   "source": [
    "print(f'Arizona harvest dates: {non_nulls.date.unique()}')"
   ]
  },
  {
   "cell_type": "code",
   "execution_count": 39,
   "metadata": {},
   "outputs": [
    {
     "data": {
      "text/html": [
       "<div>\n",
       "<style scoped>\n",
       "    .dataframe tbody tr th:only-of-type {\n",
       "        vertical-align: middle;\n",
       "    }\n",
       "\n",
       "    .dataframe tbody tr th {\n",
       "        vertical-align: top;\n",
       "    }\n",
       "\n",
       "    .dataframe thead th {\n",
       "        text-align: right;\n",
       "    }\n",
       "</style>\n",
       "<table border=\"1\" class=\"dataframe\">\n",
       "  <thead>\n",
       "    <tr style=\"text-align: right;\">\n",
       "      <th></th>\n",
       "      <th>plot_name</th>\n",
       "      <th>cultivar_id</th>\n",
       "      <th>date</th>\n",
       "      <th>cultivar</th>\n",
       "      <th>aboveground_dry_biomass</th>\n",
       "      <th>aboveground_fresh_biomass</th>\n",
       "    </tr>\n",
       "  </thead>\n",
       "  <tbody>\n",
       "    <tr>\n",
       "      <th>0</th>\n",
       "      <td>MAC Field Scanner Season 4 Range 50 Column 14</td>\n",
       "      <td>6000001057</td>\n",
       "      <td>2017 Sep 15 (America/Phoenix)</td>\n",
       "      <td>PI534165</td>\n",
       "      <td>NaN</td>\n",
       "      <td>38370.0</td>\n",
       "    </tr>\n",
       "    <tr>\n",
       "      <th>1</th>\n",
       "      <td>MAC Field Scanner Season 4 Range 28 Column 14</td>\n",
       "      <td>6000000804</td>\n",
       "      <td>2017 Sep 15 (America/Phoenix)</td>\n",
       "      <td>PI329645</td>\n",
       "      <td>NaN</td>\n",
       "      <td>31550.0</td>\n",
       "    </tr>\n",
       "    <tr>\n",
       "      <th>2</th>\n",
       "      <td>MAC Field Scanner Season 4 Range 32 Column 15</td>\n",
       "      <td>6000000224</td>\n",
       "      <td>2017 Sep 15 (America/Phoenix)</td>\n",
       "      <td>PI297130</td>\n",
       "      <td>NaN</td>\n",
       "      <td>43480.0</td>\n",
       "    </tr>\n",
       "    <tr>\n",
       "      <th>4</th>\n",
       "      <td>MAC Field Scanner Season 4 Range 11 Column 13</td>\n",
       "      <td>6000000868</td>\n",
       "      <td>2017 Sep 15 (America/Phoenix)</td>\n",
       "      <td>PI535793</td>\n",
       "      <td>25330.0</td>\n",
       "      <td>94640.0</td>\n",
       "    </tr>\n",
       "    <tr>\n",
       "      <th>5</th>\n",
       "      <td>MAC Field Scanner Season 4 Range 31 Column 15</td>\n",
       "      <td>6000001007</td>\n",
       "      <td>2017 Sep 15 (America/Phoenix)</td>\n",
       "      <td>PI641909</td>\n",
       "      <td>NaN</td>\n",
       "      <td>62240.0</td>\n",
       "    </tr>\n",
       "  </tbody>\n",
       "</table>\n",
       "</div>"
      ],
      "text/plain": [
       "                                       plot_name  cultivar_id  \\\n",
       "0  MAC Field Scanner Season 4 Range 50 Column 14   6000001057   \n",
       "1  MAC Field Scanner Season 4 Range 28 Column 14   6000000804   \n",
       "2  MAC Field Scanner Season 4 Range 32 Column 15   6000000224   \n",
       "4  MAC Field Scanner Season 4 Range 11 Column 13   6000000868   \n",
       "5  MAC Field Scanner Season 4 Range 31 Column 15   6000001007   \n",
       "\n",
       "                            date  cultivar  aboveground_dry_biomass  \\\n",
       "0  2017 Sep 15 (America/Phoenix)  PI534165                      NaN   \n",
       "1  2017 Sep 15 (America/Phoenix)  PI329645                      NaN   \n",
       "2  2017 Sep 15 (America/Phoenix)  PI297130                      NaN   \n",
       "4  2017 Sep 15 (America/Phoenix)  PI535793                  25330.0   \n",
       "5  2017 Sep 15 (America/Phoenix)  PI641909                      NaN   \n",
       "\n",
       "   aboveground_fresh_biomass  \n",
       "0                    38370.0  \n",
       "1                    31550.0  \n",
       "2                    43480.0  \n",
       "4                    94640.0  \n",
       "5                    62240.0  "
      ]
     },
     "execution_count": 39,
     "metadata": {},
     "output_type": "execute_result"
    }
   ],
   "source": [
    "df_8 = df_7.drop(labels='raw_date', axis=1)\n",
    "# df_8.head()"
   ]
  },
  {
   "cell_type": "markdown",
   "metadata": {},
   "source": [
    "#### Convert date to iso format\n",
    "* Strip date strings of trailing `(America/Phoenix)`\n",
    "* Convert string to datetime"
   ]
  },
  {
   "cell_type": "code",
   "execution_count": 40,
   "metadata": {},
   "outputs": [],
   "source": [
    "df_9 = df_8.copy()"
   ]
  },
  {
   "cell_type": "code",
   "execution_count": 60,
   "metadata": {},
   "outputs": [],
   "source": [
    "date_values = df_9.date.values\n",
    "new_date_values = []"
   ]
  },
  {
   "cell_type": "code",
   "execution_count": 61,
   "metadata": {},
   "outputs": [],
   "source": [
    "for d in date_values:\n",
    "    if d.endswith('(America/Phoenix)'):\n",
    "        new_date = d[:-18]\n",
    "        new_date_values.append(new_date)\n",
    "    else:\n",
    "        new_date = d\n",
    "        new_date_values.append(new_date)    "
   ]
  },
  {
   "cell_type": "code",
   "execution_count": 65,
   "metadata": {},
   "outputs": [
    {
     "data": {
      "text/html": [
       "<div>\n",
       "<style scoped>\n",
       "    .dataframe tbody tr th:only-of-type {\n",
       "        vertical-align: middle;\n",
       "    }\n",
       "\n",
       "    .dataframe tbody tr th {\n",
       "        vertical-align: top;\n",
       "    }\n",
       "\n",
       "    .dataframe thead th {\n",
       "        text-align: right;\n",
       "    }\n",
       "</style>\n",
       "<table border=\"1\" class=\"dataframe\">\n",
       "  <thead>\n",
       "    <tr style=\"text-align: right;\">\n",
       "      <th></th>\n",
       "      <th>plot_name</th>\n",
       "      <th>cultivar_id</th>\n",
       "      <th>date</th>\n",
       "      <th>cultivar</th>\n",
       "      <th>aboveground_dry_biomass</th>\n",
       "      <th>aboveground_fresh_biomass</th>\n",
       "      <th>new_string_date</th>\n",
       "    </tr>\n",
       "  </thead>\n",
       "  <tbody>\n",
       "    <tr>\n",
       "      <th>0</th>\n",
       "      <td>MAC Field Scanner Season 4 Range 50 Column 14</td>\n",
       "      <td>6000001057</td>\n",
       "      <td>2017 Sep 15 (America/Phoenix)</td>\n",
       "      <td>PI534165</td>\n",
       "      <td>NaN</td>\n",
       "      <td>38370.0</td>\n",
       "      <td>2017 Sep 15</td>\n",
       "    </tr>\n",
       "    <tr>\n",
       "      <th>1</th>\n",
       "      <td>MAC Field Scanner Season 4 Range 28 Column 14</td>\n",
       "      <td>6000000804</td>\n",
       "      <td>2017 Sep 15 (America/Phoenix)</td>\n",
       "      <td>PI329645</td>\n",
       "      <td>NaN</td>\n",
       "      <td>31550.0</td>\n",
       "      <td>2017 Sep 15</td>\n",
       "    </tr>\n",
       "    <tr>\n",
       "      <th>2</th>\n",
       "      <td>MAC Field Scanner Season 4 Range 32 Column 15</td>\n",
       "      <td>6000000224</td>\n",
       "      <td>2017 Sep 15 (America/Phoenix)</td>\n",
       "      <td>PI297130</td>\n",
       "      <td>NaN</td>\n",
       "      <td>43480.0</td>\n",
       "      <td>2017 Sep 15</td>\n",
       "    </tr>\n",
       "    <tr>\n",
       "      <th>4</th>\n",
       "      <td>MAC Field Scanner Season 4 Range 11 Column 13</td>\n",
       "      <td>6000000868</td>\n",
       "      <td>2017 Sep 15 (America/Phoenix)</td>\n",
       "      <td>PI535793</td>\n",
       "      <td>25330.0</td>\n",
       "      <td>94640.0</td>\n",
       "      <td>2017 Sep 15</td>\n",
       "    </tr>\n",
       "    <tr>\n",
       "      <th>5</th>\n",
       "      <td>MAC Field Scanner Season 4 Range 31 Column 15</td>\n",
       "      <td>6000001007</td>\n",
       "      <td>2017 Sep 15 (America/Phoenix)</td>\n",
       "      <td>PI641909</td>\n",
       "      <td>NaN</td>\n",
       "      <td>62240.0</td>\n",
       "      <td>2017 Sep 15</td>\n",
       "    </tr>\n",
       "  </tbody>\n",
       "</table>\n",
       "</div>"
      ],
      "text/plain": [
       "                                       plot_name  cultivar_id  \\\n",
       "0  MAC Field Scanner Season 4 Range 50 Column 14   6000001057   \n",
       "1  MAC Field Scanner Season 4 Range 28 Column 14   6000000804   \n",
       "2  MAC Field Scanner Season 4 Range 32 Column 15   6000000224   \n",
       "4  MAC Field Scanner Season 4 Range 11 Column 13   6000000868   \n",
       "5  MAC Field Scanner Season 4 Range 31 Column 15   6000001007   \n",
       "\n",
       "                            date  cultivar  aboveground_dry_biomass  \\\n",
       "0  2017 Sep 15 (America/Phoenix)  PI534165                      NaN   \n",
       "1  2017 Sep 15 (America/Phoenix)  PI329645                      NaN   \n",
       "2  2017 Sep 15 (America/Phoenix)  PI297130                      NaN   \n",
       "4  2017 Sep 15 (America/Phoenix)  PI535793                  25330.0   \n",
       "5  2017 Sep 15 (America/Phoenix)  PI641909                      NaN   \n",
       "\n",
       "   aboveground_fresh_biomass new_string_date  \n",
       "0                    38370.0     2017 Sep 15  \n",
       "1                    31550.0     2017 Sep 15  \n",
       "2                    43480.0     2017 Sep 15  \n",
       "4                    94640.0     2017 Sep 15  \n",
       "5                    62240.0     2017 Sep 15  "
      ]
     },
     "execution_count": 65,
     "metadata": {},
     "output_type": "execute_result"
    }
   ],
   "source": [
    "df_9['new_string_date'] = new_date_values\n",
    "# df_9.head()"
   ]
  },
  {
   "cell_type": "code",
   "execution_count": 67,
   "metadata": {},
   "outputs": [
    {
     "data": {
      "text/html": [
       "<div>\n",
       "<style scoped>\n",
       "    .dataframe tbody tr th:only-of-type {\n",
       "        vertical-align: middle;\n",
       "    }\n",
       "\n",
       "    .dataframe tbody tr th {\n",
       "        vertical-align: top;\n",
       "    }\n",
       "\n",
       "    .dataframe thead th {\n",
       "        text-align: right;\n",
       "    }\n",
       "</style>\n",
       "<table border=\"1\" class=\"dataframe\">\n",
       "  <thead>\n",
       "    <tr style=\"text-align: right;\">\n",
       "      <th></th>\n",
       "      <th>plot_name</th>\n",
       "      <th>cultivar_id</th>\n",
       "      <th>cultivar</th>\n",
       "      <th>aboveground_dry_biomass</th>\n",
       "      <th>aboveground_fresh_biomass</th>\n",
       "      <th>new_string_date</th>\n",
       "    </tr>\n",
       "  </thead>\n",
       "  <tbody>\n",
       "    <tr>\n",
       "      <th>0</th>\n",
       "      <td>MAC Field Scanner Season 4 Range 50 Column 14</td>\n",
       "      <td>6000001057</td>\n",
       "      <td>PI534165</td>\n",
       "      <td>NaN</td>\n",
       "      <td>38370.0</td>\n",
       "      <td>2017 Sep 15</td>\n",
       "    </tr>\n",
       "    <tr>\n",
       "      <th>1</th>\n",
       "      <td>MAC Field Scanner Season 4 Range 28 Column 14</td>\n",
       "      <td>6000000804</td>\n",
       "      <td>PI329645</td>\n",
       "      <td>NaN</td>\n",
       "      <td>31550.0</td>\n",
       "      <td>2017 Sep 15</td>\n",
       "    </tr>\n",
       "    <tr>\n",
       "      <th>2</th>\n",
       "      <td>MAC Field Scanner Season 4 Range 32 Column 15</td>\n",
       "      <td>6000000224</td>\n",
       "      <td>PI297130</td>\n",
       "      <td>NaN</td>\n",
       "      <td>43480.0</td>\n",
       "      <td>2017 Sep 15</td>\n",
       "    </tr>\n",
       "    <tr>\n",
       "      <th>4</th>\n",
       "      <td>MAC Field Scanner Season 4 Range 11 Column 13</td>\n",
       "      <td>6000000868</td>\n",
       "      <td>PI535793</td>\n",
       "      <td>25330.0</td>\n",
       "      <td>94640.0</td>\n",
       "      <td>2017 Sep 15</td>\n",
       "    </tr>\n",
       "    <tr>\n",
       "      <th>5</th>\n",
       "      <td>MAC Field Scanner Season 4 Range 31 Column 15</td>\n",
       "      <td>6000001007</td>\n",
       "      <td>PI641909</td>\n",
       "      <td>NaN</td>\n",
       "      <td>62240.0</td>\n",
       "      <td>2017 Sep 15</td>\n",
       "    </tr>\n",
       "  </tbody>\n",
       "</table>\n",
       "</div>"
      ],
      "text/plain": [
       "                                       plot_name  cultivar_id  cultivar  \\\n",
       "0  MAC Field Scanner Season 4 Range 50 Column 14   6000001057  PI534165   \n",
       "1  MAC Field Scanner Season 4 Range 28 Column 14   6000000804  PI329645   \n",
       "2  MAC Field Scanner Season 4 Range 32 Column 15   6000000224  PI297130   \n",
       "4  MAC Field Scanner Season 4 Range 11 Column 13   6000000868  PI535793   \n",
       "5  MAC Field Scanner Season 4 Range 31 Column 15   6000001007  PI641909   \n",
       "\n",
       "   aboveground_dry_biomass  aboveground_fresh_biomass new_string_date  \n",
       "0                      NaN                    38370.0     2017 Sep 15  \n",
       "1                      NaN                    31550.0     2017 Sep 15  \n",
       "2                      NaN                    43480.0     2017 Sep 15  \n",
       "4                  25330.0                    94640.0     2017 Sep 15  \n",
       "5                      NaN                    62240.0     2017 Sep 15  "
      ]
     },
     "execution_count": 67,
     "metadata": {},
     "output_type": "execute_result"
    }
   ],
   "source": [
    "df_10 = df_9.drop(labels='date', axis=1)\n",
    "# df_10.head()"
   ]
  },
  {
   "cell_type": "code",
   "execution_count": 70,
   "metadata": {},
   "outputs": [],
   "source": [
    "df_10['date'] = pd.to_datetime(df_10['new_string_date'])\n",
    "# df_10.sample(n=15)"
   ]
  },
  {
   "cell_type": "code",
   "execution_count": 72,
   "metadata": {},
   "outputs": [
    {
     "data": {
      "text/html": [
       "<div>\n",
       "<style scoped>\n",
       "    .dataframe tbody tr th:only-of-type {\n",
       "        vertical-align: middle;\n",
       "    }\n",
       "\n",
       "    .dataframe tbody tr th {\n",
       "        vertical-align: top;\n",
       "    }\n",
       "\n",
       "    .dataframe thead th {\n",
       "        text-align: right;\n",
       "    }\n",
       "</style>\n",
       "<table border=\"1\" class=\"dataframe\">\n",
       "  <thead>\n",
       "    <tr style=\"text-align: right;\">\n",
       "      <th></th>\n",
       "      <th>plot_name</th>\n",
       "      <th>cultivar_id</th>\n",
       "      <th>cultivar</th>\n",
       "      <th>aboveground_dry_biomass</th>\n",
       "      <th>aboveground_fresh_biomass</th>\n",
       "      <th>date</th>\n",
       "    </tr>\n",
       "  </thead>\n",
       "  <tbody>\n",
       "    <tr>\n",
       "      <th>0</th>\n",
       "      <td>MAC Field Scanner Season 4 Range 50 Column 14</td>\n",
       "      <td>6000001057</td>\n",
       "      <td>PI534165</td>\n",
       "      <td>NaN</td>\n",
       "      <td>38370.0</td>\n",
       "      <td>2017-09-15</td>\n",
       "    </tr>\n",
       "    <tr>\n",
       "      <th>1</th>\n",
       "      <td>MAC Field Scanner Season 4 Range 28 Column 14</td>\n",
       "      <td>6000000804</td>\n",
       "      <td>PI329645</td>\n",
       "      <td>NaN</td>\n",
       "      <td>31550.0</td>\n",
       "      <td>2017-09-15</td>\n",
       "    </tr>\n",
       "    <tr>\n",
       "      <th>2</th>\n",
       "      <td>MAC Field Scanner Season 4 Range 32 Column 15</td>\n",
       "      <td>6000000224</td>\n",
       "      <td>PI297130</td>\n",
       "      <td>NaN</td>\n",
       "      <td>43480.0</td>\n",
       "      <td>2017-09-15</td>\n",
       "    </tr>\n",
       "    <tr>\n",
       "      <th>4</th>\n",
       "      <td>MAC Field Scanner Season 4 Range 11 Column 13</td>\n",
       "      <td>6000000868</td>\n",
       "      <td>PI535793</td>\n",
       "      <td>25330.0</td>\n",
       "      <td>94640.0</td>\n",
       "      <td>2017-09-15</td>\n",
       "    </tr>\n",
       "    <tr>\n",
       "      <th>5</th>\n",
       "      <td>MAC Field Scanner Season 4 Range 31 Column 15</td>\n",
       "      <td>6000001007</td>\n",
       "      <td>PI641909</td>\n",
       "      <td>NaN</td>\n",
       "      <td>62240.0</td>\n",
       "      <td>2017-09-15</td>\n",
       "    </tr>\n",
       "  </tbody>\n",
       "</table>\n",
       "</div>"
      ],
      "text/plain": [
       "                                       plot_name  cultivar_id  cultivar  \\\n",
       "0  MAC Field Scanner Season 4 Range 50 Column 14   6000001057  PI534165   \n",
       "1  MAC Field Scanner Season 4 Range 28 Column 14   6000000804  PI329645   \n",
       "2  MAC Field Scanner Season 4 Range 32 Column 15   6000000224  PI297130   \n",
       "4  MAC Field Scanner Season 4 Range 11 Column 13   6000000868  PI535793   \n",
       "5  MAC Field Scanner Season 4 Range 31 Column 15   6000001007  PI641909   \n",
       "\n",
       "   aboveground_dry_biomass  aboveground_fresh_biomass       date  \n",
       "0                      NaN                    38370.0 2017-09-15  \n",
       "1                      NaN                    31550.0 2017-09-15  \n",
       "2                      NaN                    43480.0 2017-09-15  \n",
       "4                  25330.0                    94640.0 2017-09-15  \n",
       "5                      NaN                    62240.0 2017-09-15  "
      ]
     },
     "execution_count": 72,
     "metadata": {},
     "output_type": "execute_result"
    }
   ],
   "source": [
    "df_11 = df_10.drop(labels='new_string_date', axis=1)\n",
    "# df_11.head()"
   ]
  },
  {
   "cell_type": "markdown",
   "metadata": {},
   "source": [
    "#### D. Re-order columns / Set index to plot name\n",
    "* Uncomment line based on index as `plot_name` or not"
   ]
  },
  {
   "cell_type": "code",
   "execution_count": 73,
   "metadata": {},
   "outputs": [
    {
     "data": {
      "text/html": [
       "<div>\n",
       "<style scoped>\n",
       "    .dataframe tbody tr th:only-of-type {\n",
       "        vertical-align: middle;\n",
       "    }\n",
       "\n",
       "    .dataframe tbody tr th {\n",
       "        vertical-align: top;\n",
       "    }\n",
       "\n",
       "    .dataframe thead th {\n",
       "        text-align: right;\n",
       "    }\n",
       "</style>\n",
       "<table border=\"1\" class=\"dataframe\">\n",
       "  <thead>\n",
       "    <tr style=\"text-align: right;\">\n",
       "      <th></th>\n",
       "      <th>cultivar_id</th>\n",
       "      <th>cultivar</th>\n",
       "      <th>aboveground_dry_biomass</th>\n",
       "      <th>aboveground_fresh_biomass</th>\n",
       "      <th>date</th>\n",
       "    </tr>\n",
       "    <tr>\n",
       "      <th>plot_name</th>\n",
       "      <th></th>\n",
       "      <th></th>\n",
       "      <th></th>\n",
       "      <th></th>\n",
       "      <th></th>\n",
       "    </tr>\n",
       "  </thead>\n",
       "  <tbody>\n",
       "    <tr>\n",
       "      <th>MAC Field Scanner Season 4 Range 50 Column 14</th>\n",
       "      <td>6000001057</td>\n",
       "      <td>PI534165</td>\n",
       "      <td>NaN</td>\n",
       "      <td>38370.0</td>\n",
       "      <td>2017-09-15</td>\n",
       "    </tr>\n",
       "    <tr>\n",
       "      <th>MAC Field Scanner Season 4 Range 28 Column 14</th>\n",
       "      <td>6000000804</td>\n",
       "      <td>PI329645</td>\n",
       "      <td>NaN</td>\n",
       "      <td>31550.0</td>\n",
       "      <td>2017-09-15</td>\n",
       "    </tr>\n",
       "    <tr>\n",
       "      <th>MAC Field Scanner Season 4 Range 32 Column 15</th>\n",
       "      <td>6000000224</td>\n",
       "      <td>PI297130</td>\n",
       "      <td>NaN</td>\n",
       "      <td>43480.0</td>\n",
       "      <td>2017-09-15</td>\n",
       "    </tr>\n",
       "    <tr>\n",
       "      <th>MAC Field Scanner Season 4 Range 11 Column 13</th>\n",
       "      <td>6000000868</td>\n",
       "      <td>PI535793</td>\n",
       "      <td>25330.0</td>\n",
       "      <td>94640.0</td>\n",
       "      <td>2017-09-15</td>\n",
       "    </tr>\n",
       "    <tr>\n",
       "      <th>MAC Field Scanner Season 4 Range 31 Column 15</th>\n",
       "      <td>6000001007</td>\n",
       "      <td>PI641909</td>\n",
       "      <td>NaN</td>\n",
       "      <td>62240.0</td>\n",
       "      <td>2017-09-15</td>\n",
       "    </tr>\n",
       "  </tbody>\n",
       "</table>\n",
       "</div>"
      ],
      "text/plain": [
       "                                               cultivar_id  cultivar  \\\n",
       "plot_name                                                              \n",
       "MAC Field Scanner Season 4 Range 50 Column 14   6000001057  PI534165   \n",
       "MAC Field Scanner Season 4 Range 28 Column 14   6000000804  PI329645   \n",
       "MAC Field Scanner Season 4 Range 32 Column 15   6000000224  PI297130   \n",
       "MAC Field Scanner Season 4 Range 11 Column 13   6000000868  PI535793   \n",
       "MAC Field Scanner Season 4 Range 31 Column 15   6000001007  PI641909   \n",
       "\n",
       "                                               aboveground_dry_biomass  \\\n",
       "plot_name                                                                \n",
       "MAC Field Scanner Season 4 Range 50 Column 14                      NaN   \n",
       "MAC Field Scanner Season 4 Range 28 Column 14                      NaN   \n",
       "MAC Field Scanner Season 4 Range 32 Column 15                      NaN   \n",
       "MAC Field Scanner Season 4 Range 11 Column 13                  25330.0   \n",
       "MAC Field Scanner Season 4 Range 31 Column 15                      NaN   \n",
       "\n",
       "                                               aboveground_fresh_biomass  \\\n",
       "plot_name                                                                  \n",
       "MAC Field Scanner Season 4 Range 50 Column 14                    38370.0   \n",
       "MAC Field Scanner Season 4 Range 28 Column 14                    31550.0   \n",
       "MAC Field Scanner Season 4 Range 32 Column 15                    43480.0   \n",
       "MAC Field Scanner Season 4 Range 11 Column 13                    94640.0   \n",
       "MAC Field Scanner Season 4 Range 31 Column 15                    62240.0   \n",
       "\n",
       "                                                    date  \n",
       "plot_name                                                 \n",
       "MAC Field Scanner Season 4 Range 50 Column 14 2017-09-15  \n",
       "MAC Field Scanner Season 4 Range 28 Column 14 2017-09-15  \n",
       "MAC Field Scanner Season 4 Range 32 Column 15 2017-09-15  \n",
       "MAC Field Scanner Season 4 Range 11 Column 13 2017-09-15  \n",
       "MAC Field Scanner Season 4 Range 31 Column 15 2017-09-15  "
      ]
     },
     "execution_count": 73,
     "metadata": {},
     "output_type": "execute_result"
    }
   ],
   "source": [
    "# new_col_order = ['plot_name', 'cultivar', 'cultivar_id', 'date', 'aboveground_dry_biomass',\n",
    "#                  'aboveground_fresh_biomass']\n",
    "\n",
    "# to set plot_name as index\n",
    "# df_8 = pd.DataFrame(data=df_7, columns=new_col_order, index=df_7.plot_name)\n",
    "\n",
    "# to keep working with columns without setting index\n",
    "# df_8 = pd.DataFrame(data=df_7, columns=new_col_order)\n",
    "\n",
    "# to only set index to plot names without re-ordering columns\n",
    "df_12 = df_11.set_index(keys='plot_name')\n",
    "df_12.head()"
   ]
  },
  {
   "cell_type": "code",
   "execution_count": 74,
   "metadata": {},
   "outputs": [
    {
     "data": {
      "text/plain": [
       "(847, 5)"
      ]
     },
     "execution_count": 74,
     "metadata": {},
     "output_type": "execute_result"
    }
   ],
   "source": [
    "df_12.shape"
   ]
  },
  {
   "cell_type": "markdown",
   "metadata": {},
   "source": [
    "### Go to final steps before converting to `.csv`"
   ]
  },
  {
   "cell_type": "markdown",
   "metadata": {},
   "source": [
    "Dates for plots without biomass values?"
   ]
  },
  {
   "cell_type": "code",
   "execution_count": null,
   "metadata": {},
   "outputs": [],
   "source": []
  },
  {
   "cell_type": "code",
   "execution_count": null,
   "metadata": {},
   "outputs": [],
   "source": []
  },
  {
   "cell_type": "code",
   "execution_count": null,
   "metadata": {},
   "outputs": [],
   "source": []
  },
  {
   "cell_type": "markdown",
   "metadata": {},
   "source": [
    "### IV. Growing Degree Days\n",
    "* Metadata contains UTC dates, but Arizona datetimes (MST, GMT-7) will be used in curated dataset\n",
    "* Weather station data in Arizona time\n",
    "* Air temperature values are in [Celsius](https://cals.arizona.edu/azmet/raw2003.htm)\n",
    "* Day of Year [Conversion](https://www.esrl.noaa.gov/gmd/grad/neubrew/Calendar.jsp?view=DOY&year=2017&col=4)\n",
    "* Planting date for Season 4: `2017-04-19`\n",
    "* Planting date as Day of Year: `109` \n",
    "* Harvest Dates for Season 4\n",
    "    * 1st Day of Harvest\n",
    "        * `2017-09-10`\n",
    "        * Day of Year `253`\n",
    "    * 2nd Day of Harvest\n",
    "        * `2017-09-11`\n",
    "        * Day of Year `254`\n",
    "    * 3rd Day of Harvest\n",
    "        * `2017-09-14`\n",
    "        * Day of Year `257`\n",
    "    * 4th Day of Harvest\n",
    "        * `2017-09-15`\n",
    "        * Day of Year `258`"
   ]
  },
  {
   "cell_type": "code",
   "execution_count": 42,
   "metadata": {},
   "outputs": [
    {
     "data": {
      "text/html": [
       "<div>\n",
       "<style scoped>\n",
       "    .dataframe tbody tr th:only-of-type {\n",
       "        vertical-align: middle;\n",
       "    }\n",
       "\n",
       "    .dataframe tbody tr th {\n",
       "        vertical-align: top;\n",
       "    }\n",
       "\n",
       "    .dataframe thead th {\n",
       "        text-align: right;\n",
       "    }\n",
       "</style>\n",
       "<table border=\"1\" class=\"dataframe\">\n",
       "  <thead>\n",
       "    <tr style=\"text-align: right;\">\n",
       "      <th></th>\n",
       "      <th>year</th>\n",
       "      <th>day_of_year</th>\n",
       "      <th>station_number</th>\n",
       "      <th>air_temp_max</th>\n",
       "      <th>air_temp_min</th>\n",
       "      <th>air_temp_mean</th>\n",
       "      <th>rh_max</th>\n",
       "      <th>rh_min</th>\n",
       "      <th>rh_mean</th>\n",
       "      <th>vpd_mean</th>\n",
       "      <th>...</th>\n",
       "      <th>wind_speed_mean</th>\n",
       "      <th>wind_vector_magnitude</th>\n",
       "      <th>wind_vector_direction</th>\n",
       "      <th>wind_direction_std</th>\n",
       "      <th>max_wind_speed</th>\n",
       "      <th>heat_units</th>\n",
       "      <th>eto_azmet</th>\n",
       "      <th>eto_p_m</th>\n",
       "      <th>vapor_pressure_mean</th>\n",
       "      <th>dewpoint_mean</th>\n",
       "    </tr>\n",
       "  </thead>\n",
       "  <tbody>\n",
       "    <tr>\n",
       "      <th>0</th>\n",
       "      <td>2017</td>\n",
       "      <td>1</td>\n",
       "      <td>6</td>\n",
       "      <td>13.6</td>\n",
       "      <td>9.3</td>\n",
       "      <td>11.8</td>\n",
       "      <td>92.7</td>\n",
       "      <td>69.2</td>\n",
       "      <td>83.5</td>\n",
       "      <td>0.23</td>\n",
       "      <td>...</td>\n",
       "      <td>3.5</td>\n",
       "      <td>2.6</td>\n",
       "      <td>188</td>\n",
       "      <td>43</td>\n",
       "      <td>10.9</td>\n",
       "      <td>0.2</td>\n",
       "      <td>1.0</td>\n",
       "      <td>1.2</td>\n",
       "      <td>1.16</td>\n",
       "      <td>9.0</td>\n",
       "    </tr>\n",
       "    <tr>\n",
       "      <th>1</th>\n",
       "      <td>2017</td>\n",
       "      <td>2</td>\n",
       "      <td>6</td>\n",
       "      <td>14.9</td>\n",
       "      <td>7.2</td>\n",
       "      <td>10.5</td>\n",
       "      <td>87.7</td>\n",
       "      <td>44.7</td>\n",
       "      <td>71.4</td>\n",
       "      <td>0.39</td>\n",
       "      <td>...</td>\n",
       "      <td>2.2</td>\n",
       "      <td>1.5</td>\n",
       "      <td>129</td>\n",
       "      <td>44</td>\n",
       "      <td>5.8</td>\n",
       "      <td>0.5</td>\n",
       "      <td>1.0</td>\n",
       "      <td>1.6</td>\n",
       "      <td>0.89</td>\n",
       "      <td>5.3</td>\n",
       "    </tr>\n",
       "    <tr>\n",
       "      <th>2</th>\n",
       "      <td>2017</td>\n",
       "      <td>3</td>\n",
       "      <td>6</td>\n",
       "      <td>13.9</td>\n",
       "      <td>3.2</td>\n",
       "      <td>9.0</td>\n",
       "      <td>97.0</td>\n",
       "      <td>60.6</td>\n",
       "      <td>81.9</td>\n",
       "      <td>0.24</td>\n",
       "      <td>...</td>\n",
       "      <td>1.0</td>\n",
       "      <td>0.1</td>\n",
       "      <td>349</td>\n",
       "      <td>78</td>\n",
       "      <td>3.3</td>\n",
       "      <td>0.2</td>\n",
       "      <td>0.6</td>\n",
       "      <td>0.9</td>\n",
       "      <td>0.93</td>\n",
       "      <td>5.8</td>\n",
       "    </tr>\n",
       "    <tr>\n",
       "      <th>3</th>\n",
       "      <td>2017</td>\n",
       "      <td>4</td>\n",
       "      <td>6</td>\n",
       "      <td>20.4</td>\n",
       "      <td>3.0</td>\n",
       "      <td>11.0</td>\n",
       "      <td>97.8</td>\n",
       "      <td>31.4</td>\n",
       "      <td>73.2</td>\n",
       "      <td>0.46</td>\n",
       "      <td>...</td>\n",
       "      <td>0.9</td>\n",
       "      <td>0.3</td>\n",
       "      <td>76</td>\n",
       "      <td>68</td>\n",
       "      <td>3.6</td>\n",
       "      <td>2.3</td>\n",
       "      <td>1.8</td>\n",
       "      <td>1.5</td>\n",
       "      <td>0.92</td>\n",
       "      <td>5.7</td>\n",
       "    </tr>\n",
       "    <tr>\n",
       "      <th>4</th>\n",
       "      <td>2017</td>\n",
       "      <td>5</td>\n",
       "      <td>6</td>\n",
       "      <td>20.9</td>\n",
       "      <td>4.0</td>\n",
       "      <td>12.3</td>\n",
       "      <td>95.5</td>\n",
       "      <td>39.8</td>\n",
       "      <td>71.0</td>\n",
       "      <td>0.53</td>\n",
       "      <td>...</td>\n",
       "      <td>1.5</td>\n",
       "      <td>0.8</td>\n",
       "      <td>253</td>\n",
       "      <td>54</td>\n",
       "      <td>7.1</td>\n",
       "      <td>2.5</td>\n",
       "      <td>2.2</td>\n",
       "      <td>1.8</td>\n",
       "      <td>0.98</td>\n",
       "      <td>6.6</td>\n",
       "    </tr>\n",
       "  </tbody>\n",
       "</table>\n",
       "<p>5 rows × 28 columns</p>\n",
       "</div>"
      ],
      "text/plain": [
       "   year  day_of_year  station_number  air_temp_max  air_temp_min  \\\n",
       "0  2017            1               6          13.6           9.3   \n",
       "1  2017            2               6          14.9           7.2   \n",
       "2  2017            3               6          13.9           3.2   \n",
       "3  2017            4               6          20.4           3.0   \n",
       "4  2017            5               6          20.9           4.0   \n",
       "\n",
       "   air_temp_mean  rh_max  rh_min  rh_mean  vpd_mean  ...  wind_speed_mean  \\\n",
       "0           11.8    92.7    69.2     83.5      0.23  ...              3.5   \n",
       "1           10.5    87.7    44.7     71.4      0.39  ...              2.2   \n",
       "2            9.0    97.0    60.6     81.9      0.24  ...              1.0   \n",
       "3           11.0    97.8    31.4     73.2      0.46  ...              0.9   \n",
       "4           12.3    95.5    39.8     71.0      0.53  ...              1.5   \n",
       "\n",
       "   wind_vector_magnitude  wind_vector_direction  wind_direction_std  \\\n",
       "0                    2.6                    188                  43   \n",
       "1                    1.5                    129                  44   \n",
       "2                    0.1                    349                  78   \n",
       "3                    0.3                     76                  68   \n",
       "4                    0.8                    253                  54   \n",
       "\n",
       "   max_wind_speed  heat_units  eto_azmet  eto_p_m  vapor_pressure_mean  \\\n",
       "0            10.9         0.2        1.0      1.2                 1.16   \n",
       "1             5.8         0.5        1.0      1.6                 0.89   \n",
       "2             3.3         0.2        0.6      0.9                 0.93   \n",
       "3             3.6         2.3        1.8      1.5                 0.92   \n",
       "4             7.1         2.5        2.2      1.8                 0.98   \n",
       "\n",
       "   dewpoint_mean  \n",
       "0            9.0  \n",
       "1            5.3  \n",
       "2            5.8  \n",
       "3            5.7  \n",
       "4            6.6  \n",
       "\n",
       "[5 rows x 28 columns]"
      ]
     },
     "execution_count": 42,
     "metadata": {},
     "output_type": "execute_result"
    }
   ],
   "source": [
    "weather_df_0 = pd.read_csv('data/raw/mac_weather_station_raw_daily_2017.csv')\n",
    "weather_df_0.head()"
   ]
  },
  {
   "cell_type": "code",
   "execution_count": 43,
   "metadata": {},
   "outputs": [
    {
     "data": {
      "text/html": [
       "<div>\n",
       "<style scoped>\n",
       "    .dataframe tbody tr th:only-of-type {\n",
       "        vertical-align: middle;\n",
       "    }\n",
       "\n",
       "    .dataframe tbody tr th {\n",
       "        vertical-align: top;\n",
       "    }\n",
       "\n",
       "    .dataframe thead th {\n",
       "        text-align: right;\n",
       "    }\n",
       "</style>\n",
       "<table border=\"1\" class=\"dataframe\">\n",
       "  <thead>\n",
       "    <tr style=\"text-align: right;\">\n",
       "      <th></th>\n",
       "      <th>day_of_year</th>\n",
       "      <th>air_temp_max</th>\n",
       "      <th>air_temp_min</th>\n",
       "      <th>air_temp_mean</th>\n",
       "    </tr>\n",
       "  </thead>\n",
       "  <tbody>\n",
       "    <tr>\n",
       "      <th>360</th>\n",
       "      <td>361</td>\n",
       "      <td>23.2</td>\n",
       "      <td>1.6</td>\n",
       "      <td>10.8</td>\n",
       "    </tr>\n",
       "    <tr>\n",
       "      <th>361</th>\n",
       "      <td>362</td>\n",
       "      <td>23.4</td>\n",
       "      <td>-0.6</td>\n",
       "      <td>10.5</td>\n",
       "    </tr>\n",
       "    <tr>\n",
       "      <th>362</th>\n",
       "      <td>363</td>\n",
       "      <td>24.4</td>\n",
       "      <td>-0.4</td>\n",
       "      <td>10.9</td>\n",
       "    </tr>\n",
       "    <tr>\n",
       "      <th>363</th>\n",
       "      <td>364</td>\n",
       "      <td>25.4</td>\n",
       "      <td>0.2</td>\n",
       "      <td>10.8</td>\n",
       "    </tr>\n",
       "    <tr>\n",
       "      <th>364</th>\n",
       "      <td>365</td>\n",
       "      <td>18.9</td>\n",
       "      <td>0.3</td>\n",
       "      <td>8.7</td>\n",
       "    </tr>\n",
       "  </tbody>\n",
       "</table>\n",
       "</div>"
      ],
      "text/plain": [
       "     day_of_year  air_temp_max  air_temp_min  air_temp_mean\n",
       "360          361          23.2           1.6           10.8\n",
       "361          362          23.4          -0.6           10.5\n",
       "362          363          24.4          -0.4           10.9\n",
       "363          364          25.4           0.2           10.8\n",
       "364          365          18.9           0.3            8.7"
      ]
     },
     "execution_count": 43,
     "metadata": {},
     "output_type": "execute_result"
    }
   ],
   "source": [
    "air_temps = weather_df_0[['day_of_year', 'air_temp_max', 'air_temp_min', 'air_temp_mean']]\n",
    "air_temps.tail()"
   ]
  },
  {
   "cell_type": "markdown",
   "metadata": {},
   "source": [
    "#### Slice dataframe from April to September\n",
    "UTC Time\n",
    "\n",
    "* Planting date: 2017-04-20, Day of Year 110\n",
    "* Last Harvest Date: 2017-09-16, Day of Year 259\n",
    "\n",
    "Arizona Time\n",
    "* assume Days of Year are the same?"
   ]
  },
  {
   "cell_type": "code",
   "execution_count": 61,
   "metadata": {},
   "outputs": [],
   "source": [
    "air_temps_1 = air_temps.loc[(air_temps.day_of_year >= 110) & (air_temps.day_of_year <= 259)]\n",
    "# air_temps_1.head()"
   ]
  },
  {
   "cell_type": "code",
   "execution_count": null,
   "metadata": {},
   "outputs": [],
   "source": [
    "# air_temps_1.tail()"
   ]
  },
  {
   "cell_type": "code",
   "execution_count": null,
   "metadata": {},
   "outputs": [],
   "source": [
    "# GDD are cumulative - the below code only calculates a daily value\n",
    "# sample_df['gdd'] = (((sample_df['air_temp_max'] + sample_df['air_temp_min']) / 2) - 10)"
   ]
  },
  {
   "cell_type": "markdown",
   "metadata": {},
   "source": [
    "### Growing Degree Days Table - for Reference\n",
    "* #### A. Weather Station Data - AZ time"
   ]
  },
  {
   "cell_type": "code",
   "execution_count": 57,
   "metadata": {},
   "outputs": [
    {
     "data": {
      "text/html": [
       "<div>\n",
       "<style scoped>\n",
       "    .dataframe tbody tr th:only-of-type {\n",
       "        vertical-align: middle;\n",
       "    }\n",
       "\n",
       "    .dataframe tbody tr th {\n",
       "        vertical-align: top;\n",
       "    }\n",
       "\n",
       "    .dataframe thead th {\n",
       "        text-align: right;\n",
       "    }\n",
       "</style>\n",
       "<table border=\"1\" class=\"dataframe\">\n",
       "  <thead>\n",
       "    <tr style=\"text-align: right;\">\n",
       "      <th></th>\n",
       "      <th>day_of_year</th>\n",
       "      <th>air_temp_max</th>\n",
       "      <th>air_temp_min</th>\n",
       "      <th>air_temp_mean</th>\n",
       "    </tr>\n",
       "  </thead>\n",
       "  <tbody>\n",
       "    <tr>\n",
       "      <th>90</th>\n",
       "      <td>91</td>\n",
       "      <td>22.2</td>\n",
       "      <td>6.6</td>\n",
       "      <td>14.5</td>\n",
       "    </tr>\n",
       "    <tr>\n",
       "      <th>91</th>\n",
       "      <td>92</td>\n",
       "      <td>27.5</td>\n",
       "      <td>5.4</td>\n",
       "      <td>17.6</td>\n",
       "    </tr>\n",
       "    <tr>\n",
       "      <th>92</th>\n",
       "      <td>93</td>\n",
       "      <td>29.9</td>\n",
       "      <td>13.5</td>\n",
       "      <td>21.1</td>\n",
       "    </tr>\n",
       "    <tr>\n",
       "      <th>93</th>\n",
       "      <td>94</td>\n",
       "      <td>25.7</td>\n",
       "      <td>8.9</td>\n",
       "      <td>18.0</td>\n",
       "    </tr>\n",
       "    <tr>\n",
       "      <th>94</th>\n",
       "      <td>95</td>\n",
       "      <td>29.0</td>\n",
       "      <td>6.8</td>\n",
       "      <td>18.6</td>\n",
       "    </tr>\n",
       "  </tbody>\n",
       "</table>\n",
       "</div>"
      ],
      "text/plain": [
       "    day_of_year  air_temp_max  air_temp_min  air_temp_mean\n",
       "90           91          22.2           6.6           14.5\n",
       "91           92          27.5           5.4           17.6\n",
       "92           93          29.9          13.5           21.1\n",
       "93           94          25.7           8.9           18.0\n",
       "94           95          29.0           6.8           18.6"
      ]
     },
     "execution_count": 57,
     "metadata": {},
     "output_type": "execute_result"
    }
   ],
   "source": [
    "air_temps_1.head()"
   ]
  },
  {
   "cell_type": "code",
   "execution_count": 63,
   "metadata": {},
   "outputs": [],
   "source": [
    "air_temps_2 = air_temps_1.copy()\n",
    "air_temps_2['gdd'] = np.cumsum((((air_temps_2['air_temp_max'] + air_temps_2['air_temp_min']) / 2) - 10))"
   ]
  },
  {
   "cell_type": "code",
   "execution_count": 64,
   "metadata": {},
   "outputs": [
    {
     "data": {
      "text/html": [
       "<div>\n",
       "<style scoped>\n",
       "    .dataframe tbody tr th:only-of-type {\n",
       "        vertical-align: middle;\n",
       "    }\n",
       "\n",
       "    .dataframe tbody tr th {\n",
       "        vertical-align: top;\n",
       "    }\n",
       "\n",
       "    .dataframe thead th {\n",
       "        text-align: right;\n",
       "    }\n",
       "</style>\n",
       "<table border=\"1\" class=\"dataframe\">\n",
       "  <thead>\n",
       "    <tr style=\"text-align: right;\">\n",
       "      <th></th>\n",
       "      <th>day_of_year</th>\n",
       "      <th>air_temp_max</th>\n",
       "      <th>air_temp_min</th>\n",
       "      <th>air_temp_mean</th>\n",
       "      <th>gdd</th>\n",
       "    </tr>\n",
       "  </thead>\n",
       "  <tbody>\n",
       "    <tr>\n",
       "      <th>254</th>\n",
       "      <td>255</td>\n",
       "      <td>42.8</td>\n",
       "      <td>24.2</td>\n",
       "      <td>34.0</td>\n",
       "      <td>2955.20</td>\n",
       "    </tr>\n",
       "    <tr>\n",
       "      <th>255</th>\n",
       "      <td>256</td>\n",
       "      <td>41.3</td>\n",
       "      <td>24.3</td>\n",
       "      <td>33.9</td>\n",
       "      <td>2978.00</td>\n",
       "    </tr>\n",
       "    <tr>\n",
       "      <th>256</th>\n",
       "      <td>257</td>\n",
       "      <td>39.5</td>\n",
       "      <td>22.8</td>\n",
       "      <td>31.4</td>\n",
       "      <td>2999.15</td>\n",
       "    </tr>\n",
       "    <tr>\n",
       "      <th>257</th>\n",
       "      <td>258</td>\n",
       "      <td>36.2</td>\n",
       "      <td>21.4</td>\n",
       "      <td>28.5</td>\n",
       "      <td>3017.95</td>\n",
       "    </tr>\n",
       "    <tr>\n",
       "      <th>258</th>\n",
       "      <td>259</td>\n",
       "      <td>36.3</td>\n",
       "      <td>18.2</td>\n",
       "      <td>27.6</td>\n",
       "      <td>3035.20</td>\n",
       "    </tr>\n",
       "  </tbody>\n",
       "</table>\n",
       "</div>"
      ],
      "text/plain": [
       "     day_of_year  air_temp_max  air_temp_min  air_temp_mean      gdd\n",
       "254          255          42.8          24.2           34.0  2955.20\n",
       "255          256          41.3          24.3           33.9  2978.00\n",
       "256          257          39.5          22.8           31.4  2999.15\n",
       "257          258          36.2          21.4           28.5  3017.95\n",
       "258          259          36.3          18.2           27.6  3035.20"
      ]
     },
     "execution_count": 64,
     "metadata": {},
     "output_type": "execute_result"
    }
   ],
   "source": [
    "air_temps_2.tail()"
   ]
  },
  {
   "cell_type": "code",
   "execution_count": 71,
   "metadata": {},
   "outputs": [],
   "source": [
    "season_dates = pd.date_range(start='4/20/2017', end='9/16/2017').tolist()\n",
    "# season_dates"
   ]
  },
  {
   "cell_type": "code",
   "execution_count": 76,
   "metadata": {},
   "outputs": [],
   "source": [
    "air_temps_3 = air_temps_2.copy()\n",
    "air_temps_3['date'] = season_dates"
   ]
  },
  {
   "cell_type": "code",
   "execution_count": 77,
   "metadata": {},
   "outputs": [
    {
     "data": {
      "text/html": [
       "<div>\n",
       "<style scoped>\n",
       "    .dataframe tbody tr th:only-of-type {\n",
       "        vertical-align: middle;\n",
       "    }\n",
       "\n",
       "    .dataframe tbody tr th {\n",
       "        vertical-align: top;\n",
       "    }\n",
       "\n",
       "    .dataframe thead th {\n",
       "        text-align: right;\n",
       "    }\n",
       "</style>\n",
       "<table border=\"1\" class=\"dataframe\">\n",
       "  <thead>\n",
       "    <tr style=\"text-align: right;\">\n",
       "      <th></th>\n",
       "      <th>date</th>\n",
       "      <th>day_of_year</th>\n",
       "      <th>gdd</th>\n",
       "      <th>air_temp_min</th>\n",
       "      <th>air_temp_max</th>\n",
       "      <th>air_temp_mean</th>\n",
       "    </tr>\n",
       "  </thead>\n",
       "  <tbody>\n",
       "    <tr>\n",
       "      <th>109</th>\n",
       "      <td>2017-04-20</td>\n",
       "      <td>110</td>\n",
       "      <td>13.70</td>\n",
       "      <td>14.1</td>\n",
       "      <td>33.3</td>\n",
       "      <td>23.5</td>\n",
       "    </tr>\n",
       "    <tr>\n",
       "      <th>110</th>\n",
       "      <td>2017-04-21</td>\n",
       "      <td>111</td>\n",
       "      <td>26.45</td>\n",
       "      <td>11.1</td>\n",
       "      <td>34.4</td>\n",
       "      <td>24.0</td>\n",
       "    </tr>\n",
       "    <tr>\n",
       "      <th>111</th>\n",
       "      <td>2017-04-22</td>\n",
       "      <td>112</td>\n",
       "      <td>41.45</td>\n",
       "      <td>14.5</td>\n",
       "      <td>35.5</td>\n",
       "      <td>25.0</td>\n",
       "    </tr>\n",
       "    <tr>\n",
       "      <th>112</th>\n",
       "      <td>2017-04-23</td>\n",
       "      <td>113</td>\n",
       "      <td>56.25</td>\n",
       "      <td>12.6</td>\n",
       "      <td>37.0</td>\n",
       "      <td>26.5</td>\n",
       "    </tr>\n",
       "    <tr>\n",
       "      <th>113</th>\n",
       "      <td>2017-04-24</td>\n",
       "      <td>114</td>\n",
       "      <td>70.55</td>\n",
       "      <td>14.9</td>\n",
       "      <td>33.7</td>\n",
       "      <td>25.7</td>\n",
       "    </tr>\n",
       "  </tbody>\n",
       "</table>\n",
       "</div>"
      ],
      "text/plain": [
       "          date  day_of_year    gdd  air_temp_min  air_temp_max  air_temp_mean\n",
       "109 2017-04-20          110  13.70          14.1          33.3           23.5\n",
       "110 2017-04-21          111  26.45          11.1          34.4           24.0\n",
       "111 2017-04-22          112  41.45          14.5          35.5           25.0\n",
       "112 2017-04-23          113  56.25          12.6          37.0           26.5\n",
       "113 2017-04-24          114  70.55          14.9          33.7           25.7"
      ]
     },
     "execution_count": 77,
     "metadata": {},
     "output_type": "execute_result"
    }
   ],
   "source": [
    "reorder_cols = ['date', 'day_of_year', 'gdd', 'air_temp_min', 'air_temp_max', 'air_temp_mean']\n",
    "\n",
    "air_temps_4 = pd.DataFrame(data=air_temps_3, columns=reorder_cols, index=air_temps_3.index)\n",
    "air_temps_4.head()"
   ]
  },
  {
   "cell_type": "code",
   "execution_count": 78,
   "metadata": {},
   "outputs": [
    {
     "data": {
      "text/html": [
       "<div>\n",
       "<style scoped>\n",
       "    .dataframe tbody tr th:only-of-type {\n",
       "        vertical-align: middle;\n",
       "    }\n",
       "\n",
       "    .dataframe tbody tr th {\n",
       "        vertical-align: top;\n",
       "    }\n",
       "\n",
       "    .dataframe thead th {\n",
       "        text-align: right;\n",
       "    }\n",
       "</style>\n",
       "<table border=\"1\" class=\"dataframe\">\n",
       "  <thead>\n",
       "    <tr style=\"text-align: right;\">\n",
       "      <th></th>\n",
       "      <th>date</th>\n",
       "      <th>day_of_year</th>\n",
       "      <th>gdd</th>\n",
       "      <th>air_temp_min</th>\n",
       "      <th>air_temp_max</th>\n",
       "      <th>air_temp_mean</th>\n",
       "    </tr>\n",
       "  </thead>\n",
       "  <tbody>\n",
       "    <tr>\n",
       "      <th>254</th>\n",
       "      <td>2017-09-12</td>\n",
       "      <td>255</td>\n",
       "      <td>2955.20</td>\n",
       "      <td>24.2</td>\n",
       "      <td>42.8</td>\n",
       "      <td>34.0</td>\n",
       "    </tr>\n",
       "    <tr>\n",
       "      <th>255</th>\n",
       "      <td>2017-09-13</td>\n",
       "      <td>256</td>\n",
       "      <td>2978.00</td>\n",
       "      <td>24.3</td>\n",
       "      <td>41.3</td>\n",
       "      <td>33.9</td>\n",
       "    </tr>\n",
       "    <tr>\n",
       "      <th>256</th>\n",
       "      <td>2017-09-14</td>\n",
       "      <td>257</td>\n",
       "      <td>2999.15</td>\n",
       "      <td>22.8</td>\n",
       "      <td>39.5</td>\n",
       "      <td>31.4</td>\n",
       "    </tr>\n",
       "    <tr>\n",
       "      <th>257</th>\n",
       "      <td>2017-09-15</td>\n",
       "      <td>258</td>\n",
       "      <td>3017.95</td>\n",
       "      <td>21.4</td>\n",
       "      <td>36.2</td>\n",
       "      <td>28.5</td>\n",
       "    </tr>\n",
       "    <tr>\n",
       "      <th>258</th>\n",
       "      <td>2017-09-16</td>\n",
       "      <td>259</td>\n",
       "      <td>3035.20</td>\n",
       "      <td>18.2</td>\n",
       "      <td>36.3</td>\n",
       "      <td>27.6</td>\n",
       "    </tr>\n",
       "  </tbody>\n",
       "</table>\n",
       "</div>"
      ],
      "text/plain": [
       "          date  day_of_year      gdd  air_temp_min  air_temp_max  \\\n",
       "254 2017-09-12          255  2955.20          24.2          42.8   \n",
       "255 2017-09-13          256  2978.00          24.3          41.3   \n",
       "256 2017-09-14          257  2999.15          22.8          39.5   \n",
       "257 2017-09-15          258  3017.95          21.4          36.2   \n",
       "258 2017-09-16          259  3035.20          18.2          36.3   \n",
       "\n",
       "     air_temp_mean  \n",
       "254           34.0  \n",
       "255           33.9  \n",
       "256           31.4  \n",
       "257           28.5  \n",
       "258           27.6  "
      ]
     },
     "execution_count": 78,
     "metadata": {},
     "output_type": "execute_result"
    }
   ],
   "source": [
    "air_temps_4.tail()"
   ]
  },
  {
   "cell_type": "code",
   "execution_count": 78,
   "metadata": {},
   "outputs": [
    {
     "data": {
      "text/plain": [
       "'/Users/ejcain/UA-AG/phenotypes/terraref-datasets'"
      ]
     },
     "execution_count": 78,
     "metadata": {},
     "output_type": "execute_result"
    }
   ],
   "source": [
    "%pwd"
   ]
  },
  {
   "cell_type": "code",
   "execution_count": 80,
   "metadata": {},
   "outputs": [],
   "source": [
    "air_temps_4.to_csv('data/processed/mac_season_4_temp_gdd_2019-12-12.csv')"
   ]
  },
  {
   "cell_type": "code",
   "execution_count": 86,
   "metadata": {},
   "outputs": [],
   "source": [
    "test_df = air_temps_4.copy()\n",
    "test_df_slice = test_df.iloc[249:258]"
   ]
  },
  {
   "cell_type": "code",
   "execution_count": 88,
   "metadata": {},
   "outputs": [
    {
     "data": {
      "text/html": [
       "<div>\n",
       "<style scoped>\n",
       "    .dataframe tbody tr th:only-of-type {\n",
       "        vertical-align: middle;\n",
       "    }\n",
       "\n",
       "    .dataframe tbody tr th {\n",
       "        vertical-align: top;\n",
       "    }\n",
       "\n",
       "    .dataframe thead th {\n",
       "        text-align: right;\n",
       "    }\n",
       "</style>\n",
       "<table border=\"1\" class=\"dataframe\">\n",
       "  <thead>\n",
       "    <tr style=\"text-align: right;\">\n",
       "      <th></th>\n",
       "      <th>date</th>\n",
       "      <th>day_of_year</th>\n",
       "      <th>gdd</th>\n",
       "      <th>air_temp_min</th>\n",
       "      <th>air_temp_max</th>\n",
       "      <th>air_temp_mean</th>\n",
       "    </tr>\n",
       "  </thead>\n",
       "  <tbody>\n",
       "  </tbody>\n",
       "</table>\n",
       "</div>"
      ],
      "text/plain": [
       "Empty DataFrame\n",
       "Columns: [date, day_of_year, gdd, air_temp_min, air_temp_max, air_temp_mean]\n",
       "Index: []"
      ]
     },
     "execution_count": 88,
     "metadata": {},
     "output_type": "execute_result"
    }
   ],
   "source": [
    "test_df_slice['gdd'] = np.round(test_df_slice.gdd, decimals=2)\n",
    "test_df_slice"
   ]
  },
  {
   "cell_type": "code",
   "execution_count": 82,
   "metadata": {},
   "outputs": [
    {
     "data": {
      "text/html": [
       "<div>\n",
       "<style scoped>\n",
       "    .dataframe tbody tr th:only-of-type {\n",
       "        vertical-align: middle;\n",
       "    }\n",
       "\n",
       "    .dataframe tbody tr th {\n",
       "        vertical-align: top;\n",
       "    }\n",
       "\n",
       "    .dataframe thead th {\n",
       "        text-align: right;\n",
       "    }\n",
       "</style>\n",
       "<table border=\"1\" class=\"dataframe\">\n",
       "  <thead>\n",
       "    <tr style=\"text-align: right;\">\n",
       "      <th></th>\n",
       "      <th>date</th>\n",
       "      <th>day_of_year</th>\n",
       "      <th>gdd</th>\n",
       "      <th>air_temp_min</th>\n",
       "      <th>air_temp_max</th>\n",
       "      <th>air_temp_mean</th>\n",
       "    </tr>\n",
       "  </thead>\n",
       "  <tbody>\n",
       "    <tr>\n",
       "      <th>115</th>\n",
       "      <td>2017-04-26</td>\n",
       "      <td>116</td>\n",
       "      <td>96.95</td>\n",
       "      <td>14.7</td>\n",
       "      <td>31.5</td>\n",
       "      <td>24.1</td>\n",
       "    </tr>\n",
       "  </tbody>\n",
       "</table>\n",
       "</div>"
      ],
      "text/plain": [
       "          date  day_of_year    gdd  air_temp_min  air_temp_max  air_temp_mean\n",
       "115 2017-04-26          116  96.95          14.7          31.5           24.1"
      ]
     },
     "execution_count": 82,
     "metadata": {},
     "output_type": "execute_result"
    }
   ],
   "source": [
    "air_temps_4.loc[air_temps_4.day_of_year == 116]"
   ]
  },
  {
   "cell_type": "code",
   "execution_count": null,
   "metadata": {},
   "outputs": [],
   "source": []
  },
  {
   "cell_type": "code",
   "execution_count": null,
   "metadata": {},
   "outputs": [],
   "source": []
  },
  {
   "cell_type": "code",
   "execution_count": null,
   "metadata": {},
   "outputs": [],
   "source": []
  },
  {
   "cell_type": "code",
   "execution_count": null,
   "metadata": {},
   "outputs": [],
   "source": []
  },
  {
   "cell_type": "markdown",
   "metadata": {},
   "source": [
    "### V. Final Steps before `.csv` conversion\n",
    "* Change `if` statements to `True` to run cells\n",
    "* Change names of dataframes as needed\n",
    "* Change name of output file as needed"
   ]
  },
  {
   "cell_type": "markdown",
   "metadata": {},
   "source": [
    "#### A. Fill NaN's with empty strings"
   ]
  },
  {
   "cell_type": "code",
   "execution_count": 79,
   "metadata": {},
   "outputs": [],
   "source": [
    "need_to_fill_nas = False\n",
    "\n",
    "if need_to_fill_nas:\n",
    "    \n",
    "    df_13 = df_12.fillna(value=' ', axis=1)\n",
    "    df_13.isnull().sum()"
   ]
  },
  {
   "cell_type": "markdown",
   "metadata": {},
   "source": [
    "#### B. Set `plot_name` as index"
   ]
  },
  {
   "cell_type": "code",
   "execution_count": null,
   "metadata": {},
   "outputs": [],
   "source": [
    "need_to_set_index = False\n",
    "\n",
    "if need_to_set_index:\n",
    "    \n",
    "    df_9 = df_8.set_index(keys='plot_name')\n",
    "    df_9.head()"
   ]
  },
  {
   "cell_type": "markdown",
   "metadata": {},
   "source": [
    "#### C. Convert to `.csv`"
   ]
  },
  {
   "cell_type": "code",
   "execution_count": 81,
   "metadata": {},
   "outputs": [],
   "source": [
    "need_to_create_csv = True\n",
    "\n",
    "if need_to_create_csv:\n",
    "\n",
    "    timestamp = datetime.datetime.now().replace(microsecond=0).isoformat()\n",
    "    output_filename = f'aboveground_biomass_harvest_{timestamp}.csv'.replace(':', '')\n",
    "    df_13.to_csv(f'data/processed/{output_filename}')"
   ]
  },
  {
   "cell_type": "code",
   "execution_count": null,
   "metadata": {},
   "outputs": [],
   "source": []
  },
  {
   "cell_type": "markdown",
   "metadata": {},
   "source": [
    "### VI. For Future Tests"
   ]
  },
  {
   "cell_type": "markdown",
   "metadata": {},
   "source": [
    "#### A. Determine number of rows for processed dataset"
   ]
  },
  {
   "cell_type": "code",
   "execution_count": null,
   "metadata": {},
   "outputs": [],
   "source": []
  },
  {
   "cell_type": "markdown",
   "metadata": {},
   "source": [
    "### VII. Code Keeping"
   ]
  },
  {
   "cell_type": "markdown",
   "metadata": {},
   "source": [
    "#### A. Extract Range and Column Values"
   ]
  },
  {
   "cell_type": "code",
   "execution_count": null,
   "metadata": {},
   "outputs": [],
   "source": [
    "# df_4['range'] = df_4['sitename'].str.extract(\"Range (\\d+)\").astype(int)\n",
    "# df_4['column'] = df_4['sitename'].str.extract(\"Column (\\d+)\").astype(int)"
   ]
  }
 ],
 "metadata": {
  "kernelspec": {
   "display_name": "Python 3",
   "language": "python",
   "name": "python3"
  },
  "language_info": {
   "codemirror_mode": {
    "name": "ipython",
    "version": 3
   },
   "file_extension": ".py",
   "mimetype": "text/x-python",
   "name": "python",
   "nbconvert_exporter": "python",
   "pygments_lexer": "ipython3",
   "version": "3.6.8"
  }
 },
 "nbformat": 4,
 "nbformat_minor": 2
}
