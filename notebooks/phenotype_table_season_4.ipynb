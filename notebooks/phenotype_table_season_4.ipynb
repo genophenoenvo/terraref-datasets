{
 "cells": [
  {
   "cell_type": "markdown",
   "metadata": {},
   "source": [
    "## Phenotype Table\n",
    "### MAC Season 4\n",
    "* Season 4 trait data queried from betydb in R using terra-ref [tutorial](https://terraref.github.io/tutorials/accessing-trait-data-in-r.html) \n",
    "\n",
    "#### Will also include:\n",
    "* Environmental data\n",
    "* Fertilizer inputs"
   ]
  },
  {
   "cell_type": "code",
   "execution_count": null,
   "metadata": {},
   "outputs": [],
   "source": [
    "# notes = delete exploratory / commented lines and cells before final push to GitHub"
   ]
  },
  {
   "cell_type": "code",
   "execution_count": 1,
   "metadata": {},
   "outputs": [],
   "source": [
    "import datetime\n",
    "import pandas as pd\n",
    "import numpy as np"
   ]
  },
  {
   "cell_type": "code",
   "execution_count": 2,
   "metadata": {},
   "outputs": [
    {
     "name": "stdout",
     "output_type": "stream",
     "text": [
      "/Users/ejcain/UA-AG/phenotypes/terraref-datasets\n"
     ]
    }
   ],
   "source": [
    "# %cd '/Users/ejcain/UA-AG/phenotypes/terraref-datasets'"
   ]
  },
  {
   "cell_type": "code",
   "execution_count": 3,
   "metadata": {},
   "outputs": [],
   "source": [
    "df = pd.read_csv('data/raw/mac_season_4.csv', low_memory=False)\n",
    "# df.head()"
   ]
  },
  {
   "cell_type": "markdown",
   "metadata": {},
   "source": [
    "### I. Explore and Drop Columns as Needed\n",
    "#### A. Null values or duplicate information\n",
    "* `Unnamed: 0` \n",
    "* `checked` - `0` in every row\n",
    "* `result_type` - `trait` in every row\n",
    "* `commonname` - `sorghum` in every row\n",
    "* `genus` - `Sorghum` in every row\n",
    "* `n` - no values in this column\n",
    "* `statname` - no values in this column\n",
    "* `month` - already included in other date columns\n",
    "* `year` - already included in other date columns\n",
    "\n",
    "#### B . Columns with only 1 or 2 non-null values that will be included in data dictionary\n",
    "* `citation_id`\n",
    "* `city` - `Maricopa` in every row\n",
    "* `scientificname` - `Sorghum bicolor` in every row\n",
    "* `dateloc` - `5` in every row (need clarification on this value)\n",
    "* `author` - only 2 non-null values of `Newcomb, Maria` and `Zongyang, Li`\n",
    "* `species_id` - `2588` in every row\n",
    "* `citation_year` - 2 non-null values of `2016` and `2017`\n",
    "\n",
    "#### C. URL columns that can be added back if needed\n",
    "* `edit_url`\n",
    "* `view_url`\n",
    "\n",
    "#### D. Columns that may be dropped later after feedback\n",
    "* `access_level` - need clarification on these values of `2` or `4`\n",
    "* `treatment_id` - need clarification if this will be needed for the initial dataset\n",
    "* `treatment` - need clarification if water deficit stress treatments will be needed for initial dataset\n",
    "* `notes` - may be able to be added to data dictionary"
   ]
  },
  {
   "cell_type": "markdown",
   "metadata": {},
   "source": [
    "#### Find Columns that can be dropped\n",
    "* Check for number of unique values\n",
    "* For columns with fewer than 5 unique values, check to see if these columns are needed in the dataset.\n",
    "* Columns with only one unique value (city, for example) can just be included in the data dictionary and metadata."
   ]
  },
  {
   "cell_type": "code",
   "execution_count": null,
   "metadata": {},
   "outputs": [],
   "source": [
    "for col in df.columns:\n",
    "    \n",
    "    print(f'{df[col].nunique()} unique value(s) in the {col} column.')"
   ]
  },
  {
   "cell_type": "code",
   "execution_count": null,
   "metadata": {},
   "outputs": [],
   "source": [
    "for col in df.columns:\n",
    "    \n",
    "    if df[col].nunique() < 5:\n",
    "        print(f'Unique value(s) for {col} column: {df[col].unique()}')\n",
    "        print(' ')"
   ]
  },
  {
   "cell_type": "code",
   "execution_count": 4,
   "metadata": {},
   "outputs": [],
   "source": [
    "cols_to_drop = ['Unnamed: 0', 'checked', 'result_type', 'city', 'scientificname', 'commonname', 'genus', 'species_id', \n",
    "                'citation_year', 'citation_id', 'month', 'author', 'year', 'dateloc', 'n', 'statname', 'view_url', 'edit_url']"
   ]
  },
  {
   "cell_type": "code",
   "execution_count": 5,
   "metadata": {},
   "outputs": [
    {
     "data": {
      "text/html": [
       "<div>\n",
       "<style scoped>\n",
       "    .dataframe tbody tr th:only-of-type {\n",
       "        vertical-align: middle;\n",
       "    }\n",
       "\n",
       "    .dataframe tbody tr th {\n",
       "        vertical-align: top;\n",
       "    }\n",
       "\n",
       "    .dataframe thead th {\n",
       "        text-align: right;\n",
       "    }\n",
       "</style>\n",
       "<table border=\"1\" class=\"dataframe\">\n",
       "  <thead>\n",
       "    <tr style=\"text-align: right;\">\n",
       "      <th></th>\n",
       "      <th>id</th>\n",
       "      <th>site_id</th>\n",
       "      <th>treatment_id</th>\n",
       "      <th>sitename</th>\n",
       "      <th>lat</th>\n",
       "      <th>lon</th>\n",
       "      <th>cultivar_id</th>\n",
       "      <th>treatment</th>\n",
       "      <th>date</th>\n",
       "      <th>time</th>\n",
       "      <th>...</th>\n",
       "      <th>trait</th>\n",
       "      <th>trait_description</th>\n",
       "      <th>mean</th>\n",
       "      <th>units</th>\n",
       "      <th>stat</th>\n",
       "      <th>notes</th>\n",
       "      <th>access_level</th>\n",
       "      <th>cultivar</th>\n",
       "      <th>entity</th>\n",
       "      <th>method_name</th>\n",
       "    </tr>\n",
       "  </thead>\n",
       "  <tbody>\n",
       "    <tr>\n",
       "      <th>0</th>\n",
       "      <td>6001958927</td>\n",
       "      <td>6000005673</td>\n",
       "      <td>6.000000e+09</td>\n",
       "      <td>MAC Field Scanner Season 4 Range 11 Column 5</td>\n",
       "      <td>33.074907</td>\n",
       "      <td>-111.974982</td>\n",
       "      <td>6000000730</td>\n",
       "      <td>BAP 2017, water-deficit stress Aug 1-14</td>\n",
       "      <td>2017 Jun 14 (America/Phoenix)</td>\n",
       "      <td>[time unspecified or unknown]</td>\n",
       "      <td>...</td>\n",
       "      <td>leaf_desiccation_present</td>\n",
       "      <td>Presence or absence of leaves showing desiccat...</td>\n",
       "      <td>0.0</td>\n",
       "      <td>NaN</td>\n",
       "      <td>NaN</td>\n",
       "      <td>NaN</td>\n",
       "      <td>2</td>\n",
       "      <td>PI181083</td>\n",
       "      <td>NaN</td>\n",
       "      <td>Visual assessment of leaf dessication</td>\n",
       "    </tr>\n",
       "    <tr>\n",
       "      <th>1</th>\n",
       "      <td>6001958928</td>\n",
       "      <td>6000005676</td>\n",
       "      <td>6.000000e+09</td>\n",
       "      <td>MAC Field Scanner Season 4 Range 11 Column 6</td>\n",
       "      <td>33.074907</td>\n",
       "      <td>-111.974966</td>\n",
       "      <td>6000000231</td>\n",
       "      <td>BAP 2017, water-deficit stress Aug 1-14</td>\n",
       "      <td>2017 Jun 14 (America/Phoenix)</td>\n",
       "      <td>[time unspecified or unknown]</td>\n",
       "      <td>...</td>\n",
       "      <td>leaf_desiccation_present</td>\n",
       "      <td>Presence or absence of leaves showing desiccat...</td>\n",
       "      <td>0.0</td>\n",
       "      <td>NaN</td>\n",
       "      <td>NaN</td>\n",
       "      <td>NaN</td>\n",
       "      <td>2</td>\n",
       "      <td>PI564163</td>\n",
       "      <td>NaN</td>\n",
       "      <td>Visual assessment of leaf dessication</td>\n",
       "    </tr>\n",
       "    <tr>\n",
       "      <th>2</th>\n",
       "      <td>6001958931</td>\n",
       "      <td>6000005685</td>\n",
       "      <td>6.000000e+09</td>\n",
       "      <td>MAC Field Scanner Season 4 Range 11 Column 9</td>\n",
       "      <td>33.074907</td>\n",
       "      <td>-111.974917</td>\n",
       "      <td>6000000860</td>\n",
       "      <td>BAP 2017, water-deficit stress Aug 1-14</td>\n",
       "      <td>2017 Jun 14 (America/Phoenix)</td>\n",
       "      <td>[time unspecified or unknown]</td>\n",
       "      <td>...</td>\n",
       "      <td>leaf_desiccation_present</td>\n",
       "      <td>Presence or absence of leaves showing desiccat...</td>\n",
       "      <td>0.0</td>\n",
       "      <td>NaN</td>\n",
       "      <td>NaN</td>\n",
       "      <td>NaN</td>\n",
       "      <td>2</td>\n",
       "      <td>PI52606</td>\n",
       "      <td>NaN</td>\n",
       "      <td>Visual assessment of leaf dessication</td>\n",
       "    </tr>\n",
       "    <tr>\n",
       "      <th>3</th>\n",
       "      <td>6001958933</td>\n",
       "      <td>6000005691</td>\n",
       "      <td>6.000000e+09</td>\n",
       "      <td>MAC Field Scanner Season 4 Range 11 Column 11</td>\n",
       "      <td>33.074907</td>\n",
       "      <td>-111.974884</td>\n",
       "      <td>6000000863</td>\n",
       "      <td>BAP 2017, water-deficit stress Aug 1-14</td>\n",
       "      <td>2017 Jun 14 (America/Phoenix)</td>\n",
       "      <td>[time unspecified or unknown]</td>\n",
       "      <td>...</td>\n",
       "      <td>leaf_desiccation_present</td>\n",
       "      <td>Presence or absence of leaves showing desiccat...</td>\n",
       "      <td>0.0</td>\n",
       "      <td>NaN</td>\n",
       "      <td>NaN</td>\n",
       "      <td>NaN</td>\n",
       "      <td>2</td>\n",
       "      <td>PI533792</td>\n",
       "      <td>NaN</td>\n",
       "      <td>Visual assessment of leaf dessication</td>\n",
       "    </tr>\n",
       "    <tr>\n",
       "      <th>4</th>\n",
       "      <td>6001958936</td>\n",
       "      <td>6000005700</td>\n",
       "      <td>6.000000e+09</td>\n",
       "      <td>MAC Field Scanner Season 4 Range 11 Column 14</td>\n",
       "      <td>33.074907</td>\n",
       "      <td>-111.974835</td>\n",
       "      <td>6000000869</td>\n",
       "      <td>BAP 2017, water-deficit stress Aug 1-14</td>\n",
       "      <td>2017 Jun 14 (America/Phoenix)</td>\n",
       "      <td>[time unspecified or unknown]</td>\n",
       "      <td>...</td>\n",
       "      <td>leaf_desiccation_present</td>\n",
       "      <td>Presence or absence of leaves showing desiccat...</td>\n",
       "      <td>0.0</td>\n",
       "      <td>NaN</td>\n",
       "      <td>NaN</td>\n",
       "      <td>NaN</td>\n",
       "      <td>2</td>\n",
       "      <td>PI535794</td>\n",
       "      <td>NaN</td>\n",
       "      <td>Visual assessment of leaf dessication</td>\n",
       "    </tr>\n",
       "  </tbody>\n",
       "</table>\n",
       "<p>5 rows × 21 columns</p>\n",
       "</div>"
      ],
      "text/plain": [
       "           id     site_id  treatment_id  \\\n",
       "0  6001958927  6000005673  6.000000e+09   \n",
       "1  6001958928  6000005676  6.000000e+09   \n",
       "2  6001958931  6000005685  6.000000e+09   \n",
       "3  6001958933  6000005691  6.000000e+09   \n",
       "4  6001958936  6000005700  6.000000e+09   \n",
       "\n",
       "                                        sitename        lat         lon  \\\n",
       "0   MAC Field Scanner Season 4 Range 11 Column 5  33.074907 -111.974982   \n",
       "1   MAC Field Scanner Season 4 Range 11 Column 6  33.074907 -111.974966   \n",
       "2   MAC Field Scanner Season 4 Range 11 Column 9  33.074907 -111.974917   \n",
       "3  MAC Field Scanner Season 4 Range 11 Column 11  33.074907 -111.974884   \n",
       "4  MAC Field Scanner Season 4 Range 11 Column 14  33.074907 -111.974835   \n",
       "\n",
       "   cultivar_id                                treatment  \\\n",
       "0   6000000730  BAP 2017, water-deficit stress Aug 1-14   \n",
       "1   6000000231  BAP 2017, water-deficit stress Aug 1-14   \n",
       "2   6000000860  BAP 2017, water-deficit stress Aug 1-14   \n",
       "3   6000000863  BAP 2017, water-deficit stress Aug 1-14   \n",
       "4   6000000869  BAP 2017, water-deficit stress Aug 1-14   \n",
       "\n",
       "                            date                           time  ...  \\\n",
       "0  2017 Jun 14 (America/Phoenix)  [time unspecified or unknown]  ...   \n",
       "1  2017 Jun 14 (America/Phoenix)  [time unspecified or unknown]  ...   \n",
       "2  2017 Jun 14 (America/Phoenix)  [time unspecified or unknown]  ...   \n",
       "3  2017 Jun 14 (America/Phoenix)  [time unspecified or unknown]  ...   \n",
       "4  2017 Jun 14 (America/Phoenix)  [time unspecified or unknown]  ...   \n",
       "\n",
       "                      trait  \\\n",
       "0  leaf_desiccation_present   \n",
       "1  leaf_desiccation_present   \n",
       "2  leaf_desiccation_present   \n",
       "3  leaf_desiccation_present   \n",
       "4  leaf_desiccation_present   \n",
       "\n",
       "                                   trait_description mean  units stat  notes  \\\n",
       "0  Presence or absence of leaves showing desiccat...  0.0    NaN  NaN    NaN   \n",
       "1  Presence or absence of leaves showing desiccat...  0.0    NaN  NaN    NaN   \n",
       "2  Presence or absence of leaves showing desiccat...  0.0    NaN  NaN    NaN   \n",
       "3  Presence or absence of leaves showing desiccat...  0.0    NaN  NaN    NaN   \n",
       "4  Presence or absence of leaves showing desiccat...  0.0    NaN  NaN    NaN   \n",
       "\n",
       "  access_level  cultivar entity                            method_name  \n",
       "0            2  PI181083    NaN  Visual assessment of leaf dessication  \n",
       "1            2  PI564163    NaN  Visual assessment of leaf dessication  \n",
       "2            2   PI52606    NaN  Visual assessment of leaf dessication  \n",
       "3            2  PI533792    NaN  Visual assessment of leaf dessication  \n",
       "4            2  PI535794    NaN  Visual assessment of leaf dessication  \n",
       "\n",
       "[5 rows x 21 columns]"
      ]
     },
     "execution_count": 5,
     "metadata": {},
     "output_type": "execute_result"
    }
   ],
   "source": [
    "df_1 = df.drop(labels=cols_to_drop, axis=1)\n",
    "df_1.head()"
   ]
  },
  {
   "cell_type": "code",
   "execution_count": 6,
   "metadata": {},
   "outputs": [
    {
     "name": "stdout",
     "output_type": "stream",
     "text": [
      "New dataset with dropped columns should now contain 21 columns.\n",
      "New dataset contains 21.\n"
     ]
    }
   ],
   "source": [
    "remaining_cols = len(df.columns) - len(cols_to_drop)\n",
    "\n",
    "print(f'New dataset with dropped columns should now contain {remaining_cols} columns.')\n",
    "print(f'New dataset contains {len(df_1.columns)}.')"
   ]
  },
  {
   "cell_type": "markdown",
   "metadata": {},
   "source": [
    "### A. Extract range and column values to determine number of unique sitenames / plots\n",
    "* This will ignore any `E` or `W` subplots in the calculation\n",
    "* Confirm with terra-ref docs"
   ]
  },
  {
   "cell_type": "code",
   "execution_count": 7,
   "metadata": {},
   "outputs": [],
   "source": [
    "df_1['range'] = df_1['sitename'].str.extract(\"Range (\\d+)\").astype(int)\n",
    "df_1['column'] = df_1['sitename'].str.extract(\"Column (\\d+)\").astype(int)"
   ]
  },
  {
   "cell_type": "code",
   "execution_count": null,
   "metadata": {},
   "outputs": [],
   "source": [
    "# df_1.sample(n=10)"
   ]
  },
  {
   "cell_type": "code",
   "execution_count": 13,
   "metadata": {},
   "outputs": [
    {
     "name": "stdout",
     "output_type": "stream",
     "text": [
      "Number of unique sitenames / plots: 848\n"
     ]
    }
   ],
   "source": [
    "# need to confirm that there is a plot for every range / column combination\n",
    "# some EW subplots may not be with the rest of the non EW subplots\n",
    "\n",
    "num_unique_ranges = df_1.range.nunique()\n",
    "num_unique_columns = df_1.column.nunique()\n",
    "num_plots = num_unique_ranges * num_unique_columns\n",
    "\n",
    "print(f'Number of unique sitenames / plots: {num_plots}')"
   ]
  },
  {
   "cell_type": "markdown",
   "metadata": {},
   "source": [
    "### B. Determine number of days in season from planting to harvest dates according to the Season 4 [metadata](https://terraref.ncsa.illinois.edu/bety/api/v1/managements)\n",
    "* Planting date 2019-04-20 \n",
    "* Fourth and final harvest date 2019-9-16"
   ]
  },
  {
   "cell_type": "markdown",
   "metadata": {},
   "source": [
    "#### Confirm these dates in the Season 4 trait dataset."
   ]
  },
  {
   "cell_type": "code",
   "execution_count": 9,
   "metadata": {},
   "outputs": [
    {
     "name": "stdout",
     "output_type": "stream",
     "text": [
      "Earliest date for Season 4 trait dataset: 2017 Apr 25 (America/Phoenix)\n",
      "Latest date for Season 4 trait dataset: 2017 Sep 15 (America/Phoenix)\n"
     ]
    }
   ],
   "source": [
    "print(f'Earliest date for Season 4 trait dataset: {df.date.min()}')\n",
    "print(f'Latest date for Season 4 trait dataset: {df.date.max()}')"
   ]
  },
  {
   "cell_type": "code",
   "execution_count": 10,
   "metadata": {},
   "outputs": [
    {
     "data": {
      "text/plain": [
       "'2017 Sep 15 (America/Phoenix)'"
      ]
     },
     "execution_count": 10,
     "metadata": {},
     "output_type": "execute_result"
    }
   ],
   "source": [
    "# df.loc[df.trait == 'aboveground_dry_biomass'].date.max()"
   ]
  },
  {
   "cell_type": "markdown",
   "metadata": {},
   "source": [
    "#### Calculate number of days"
   ]
  },
  {
   "cell_type": "code",
   "execution_count": 14,
   "metadata": {},
   "outputs": [
    {
     "name": "stdout",
     "output_type": "stream",
     "text": [
      "Total number of days in season: 150\n"
     ]
    }
   ],
   "source": [
    "# datetime arithmetic does not include both dates in the calculation for timedelta, so 1 day is added\n",
    "\n",
    "planting_date = datetime.date(2017, 4, 20)\n",
    "harvest_date = datetime.date(2017, 9, 16)\n",
    "\n",
    "time_delta = harvest_date - planting_date\n",
    "total_season_days = time_delta.days + 1\n",
    "print(f'Total number of days in season: {total_season_days}')"
   ]
  },
  {
   "cell_type": "code",
   "execution_count": null,
   "metadata": {},
   "outputs": [],
   "source": [
    "# confirm arithmetic with datetime and number of days\n",
    "\n",
    "# test_date_1 = datetime.date(2019, 12, 1)\n",
    "# test_date_2 = datetime.date(2019, 12, 3)\n",
    "\n",
    "# delt = test_date_2 - test_date_1\n",
    "# delt.days"
   ]
  },
  {
   "cell_type": "markdown",
   "metadata": {},
   "source": [
    "#### Number of columns TBD"
   ]
  },
  {
   "cell_type": "code",
   "execution_count": null,
   "metadata": {},
   "outputs": [],
   "source": []
  },
  {
   "cell_type": "markdown",
   "metadata": {},
   "source": [
    "## III. Transform dataset to wide format\n",
    "* Each trait, environmental factor, and treatment will be a single column\n",
    "* For daily values, each day / value will represent a single column. For example:\n",
    "    * Day 1 temp min\n",
    "    * Day 1 temp max\n",
    "    * Day 2 temp min\n",
    "    * Day 2 temp max\n",
    "* Each row will represent a plot"
   ]
  },
  {
   "cell_type": "markdown",
   "metadata": {},
   "source": [
    "### A. For index, use unique sorted sitenames"
   ]
  },
  {
   "cell_type": "code",
   "execution_count": 17,
   "metadata": {},
   "outputs": [
    {
     "data": {
      "text/plain": [
       "(362903, 23)"
      ]
     },
     "execution_count": 17,
     "metadata": {},
     "output_type": "execute_result"
    }
   ],
   "source": [
    "no_e_w_sites = df_1.loc[~((df_1.sitename.str.endswith(' E')) | df_1.sitename.str.endswith(' W'))]\n",
    "no_e_w_sites.shape"
   ]
  },
  {
   "cell_type": "code",
   "execution_count": 18,
   "metadata": {},
   "outputs": [],
   "source": [
    "# Confirm calculation\n",
    "\n",
    "e_w_sites = df_1.loc[(df_1.sitename.str.endswith(' E')) | df_1.sitename.str.endswith(' W')]\n",
    "# e_w_sites.head()"
   ]
  },
  {
   "cell_type": "code",
   "execution_count": null,
   "metadata": {},
   "outputs": [],
   "source": [
    "e_w_sites.columns"
   ]
  },
  {
   "cell_type": "code",
   "execution_count": null,
   "metadata": {},
   "outputs": [],
   "source": [
    "# e_w_sites.method_name.unique()"
   ]
  },
  {
   "cell_type": "code",
   "execution_count": null,
   "metadata": {},
   "outputs": [],
   "source": [
    "# no_e_w_sites.method_name.unique()"
   ]
  },
  {
   "cell_type": "code",
   "execution_count": 19,
   "metadata": {},
   "outputs": [
    {
     "name": "stdout",
     "output_type": "stream",
     "text": [
      "Total number of rows in raw dataset: 372363\n",
      "Total number of rows with E and W subbplot sitenames: 9460\n",
      "Total number of rows with no E or W subplot sitenames: 362903\n",
      "Future test or function should show this will be the same number as original number of rows: 372363\n"
     ]
    }
   ],
   "source": [
    "print(f'Total number of rows in raw dataset: {df.shape[0]}')\n",
    "\n",
    "print(f'Total number of rows with E and W subbplot sitenames: {e_w_sites.shape[0]}')\n",
    "print(f'Total number of rows with no E or W subplot sitenames: {no_e_w_sites.shape[0]}')\n",
    "\n",
    "print(f'Future test or function should show this will be the same number as original number of rows: {e_w_sites.shape[0] + no_e_w_sites.shape[0]}')"
   ]
  },
  {
   "cell_type": "code",
   "execution_count": 20,
   "metadata": {},
   "outputs": [
    {
     "data": {
      "text/plain": [
       "847"
      ]
     },
     "execution_count": 20,
     "metadata": {},
     "output_type": "execute_result"
    }
   ],
   "source": [
    "no_e_w_sites.sitename.nunique()"
   ]
  },
  {
   "cell_type": "code",
   "execution_count": null,
   "metadata": {},
   "outputs": [],
   "source": [
    "# could be off from earlier calculation of 848 due to range values starting at 2 and not 1\n",
    "# or other issues like the EW subplots\n",
    "# need clarification"
   ]
  },
  {
   "cell_type": "code",
   "execution_count": 22,
   "metadata": {},
   "outputs": [],
   "source": [
    "# sitename_list = no_e_w_sites.sitename.unique()\n",
    "# sitename_list"
   ]
  },
  {
   "cell_type": "code",
   "execution_count": 23,
   "metadata": {},
   "outputs": [
    {
     "name": "stdout",
     "output_type": "stream",
     "text": [
      "Min range value: 2\n",
      "Max range value: 54\n",
      " \n",
      "Min column value: 1\n",
      "Max column value: 16\n"
     ]
    }
   ],
   "source": [
    "print(f'Min range value: {df_1.range.min()}')\n",
    "print(f'Max range value: {df_1.range.max()}')\n",
    "print(' ')\n",
    "print(f'Min column value: {df_1.column.min()}')\n",
    "print(f'Max column value: {df_1.column.max()}')"
   ]
  },
  {
   "cell_type": "code",
   "execution_count": 24,
   "metadata": {},
   "outputs": [
    {
     "data": {
      "text/plain": [
       "Index(['id', 'site_id', 'treatment_id', 'sitename', 'lat', 'lon',\n",
       "       'cultivar_id', 'treatment', 'date', 'time', 'raw_date', 'trait',\n",
       "       'trait_description', 'mean', 'units', 'stat', 'notes', 'access_level',\n",
       "       'cultivar', 'entity', 'method_name', 'range', 'column'],\n",
       "      dtype='object')"
      ]
     },
     "execution_count": 24,
     "metadata": {},
     "output_type": "execute_result"
    }
   ],
   "source": [
    "df_1.columns"
   ]
  },
  {
   "cell_type": "code",
   "execution_count": 42,
   "metadata": {},
   "outputs": [],
   "source": [
    "id_cols = []\n",
    "trait_cols = []\n",
    "total_season_days = 0\n",
    "daily_values = []\n",
    "daily_value_cols = []\n",
    "all_cols = []"
   ]
  },
  {
   "cell_type": "code",
   "execution_count": 43,
   "metadata": {},
   "outputs": [],
   "source": [
    "id_cols = ['id', 'site_id', 'range', 'column', 'lat', 'lon', 'time', 'cultivar_id', \n",
    "           'cultivar']"
   ]
  },
  {
   "cell_type": "code",
   "execution_count": 44,
   "metadata": {},
   "outputs": [],
   "source": [
    "trait_cols = ['days_to_emergence', 'days_to_flowering', 'max_canopy_height', 'end_season_canopy_height',\n",
    "             'aboveground_dry_biomass', 'cumulative_gdd']"
   ]
  },
  {
   "cell_type": "code",
   "execution_count": 45,
   "metadata": {},
   "outputs": [],
   "source": [
    "total_season_days = range(1, 151)\n",
    "\n",
    "daily_values = ['date', 'raw_date', 'temp_min', 'temp_max', 'temp_mean', 'humidity_min', 'humidity_max', 'humidity_mean', 'canopy_height',\n",
    "               'soil_moisture_min', 'soil_moisture_max', 'soil_moisture_mean', 'wind_speed_min', 'wind_speed_max',\n",
    "               'wind_speed_mean']"
   ]
  },
  {
   "cell_type": "code",
   "execution_count": 46,
   "metadata": {},
   "outputs": [],
   "source": [
    "daily_value_cols = []\n",
    "\n",
    "for val in daily_values:\n",
    "    for i in total_season_days:\n",
    "        \n",
    "        day_col = val + '_day_' + str(i)\n",
    "        daily_value_cols.append(day_col)"
   ]
  },
  {
   "cell_type": "code",
   "execution_count": 47,
   "metadata": {},
   "outputs": [
    {
     "data": {
      "text/plain": [
       "2250"
      ]
     },
     "execution_count": 47,
     "metadata": {},
     "output_type": "execute_result"
    }
   ],
   "source": [
    "len(daily_value_cols)"
   ]
  },
  {
   "cell_type": "code",
   "execution_count": 48,
   "metadata": {},
   "outputs": [
    {
     "data": {
      "text/plain": [
       "2250"
      ]
     },
     "execution_count": 48,
     "metadata": {},
     "output_type": "execute_result"
    }
   ],
   "source": [
    "len(daily_values) * 150"
   ]
  },
  {
   "cell_type": "code",
   "execution_count": 50,
   "metadata": {},
   "outputs": [],
   "source": [
    "all_cols = id_cols + trait_cols + daily_value_cols"
   ]
  },
  {
   "cell_type": "code",
   "execution_count": 51,
   "metadata": {},
   "outputs": [
    {
     "name": "stdout",
     "output_type": "stream",
     "text": [
      "(847, 2265)\n"
     ]
    },
    {
     "data": {
      "text/html": [
       "<div>\n",
       "<style scoped>\n",
       "    .dataframe tbody tr th:only-of-type {\n",
       "        vertical-align: middle;\n",
       "    }\n",
       "\n",
       "    .dataframe tbody tr th {\n",
       "        vertical-align: top;\n",
       "    }\n",
       "\n",
       "    .dataframe thead th {\n",
       "        text-align: right;\n",
       "    }\n",
       "</style>\n",
       "<table border=\"1\" class=\"dataframe\">\n",
       "  <thead>\n",
       "    <tr style=\"text-align: right;\">\n",
       "      <th></th>\n",
       "      <th>id</th>\n",
       "      <th>site_id</th>\n",
       "      <th>range</th>\n",
       "      <th>column</th>\n",
       "      <th>lat</th>\n",
       "      <th>lon</th>\n",
       "      <th>time</th>\n",
       "      <th>cultivar_id</th>\n",
       "      <th>cultivar</th>\n",
       "      <th>days_to_emergence</th>\n",
       "      <th>...</th>\n",
       "      <th>wind_speed_mean_day_141</th>\n",
       "      <th>wind_speed_mean_day_142</th>\n",
       "      <th>wind_speed_mean_day_143</th>\n",
       "      <th>wind_speed_mean_day_144</th>\n",
       "      <th>wind_speed_mean_day_145</th>\n",
       "      <th>wind_speed_mean_day_146</th>\n",
       "      <th>wind_speed_mean_day_147</th>\n",
       "      <th>wind_speed_mean_day_148</th>\n",
       "      <th>wind_speed_mean_day_149</th>\n",
       "      <th>wind_speed_mean_day_150</th>\n",
       "    </tr>\n",
       "  </thead>\n",
       "  <tbody>\n",
       "    <tr>\n",
       "      <th>MAC Field Scanner Season 4 Range 11 Column 5</th>\n",
       "      <td>NaN</td>\n",
       "      <td>NaN</td>\n",
       "      <td>NaN</td>\n",
       "      <td>NaN</td>\n",
       "      <td>NaN</td>\n",
       "      <td>NaN</td>\n",
       "      <td>NaN</td>\n",
       "      <td>NaN</td>\n",
       "      <td>NaN</td>\n",
       "      <td>NaN</td>\n",
       "      <td>...</td>\n",
       "      <td>NaN</td>\n",
       "      <td>NaN</td>\n",
       "      <td>NaN</td>\n",
       "      <td>NaN</td>\n",
       "      <td>NaN</td>\n",
       "      <td>NaN</td>\n",
       "      <td>NaN</td>\n",
       "      <td>NaN</td>\n",
       "      <td>NaN</td>\n",
       "      <td>NaN</td>\n",
       "    </tr>\n",
       "    <tr>\n",
       "      <th>MAC Field Scanner Season 4 Range 11 Column 6</th>\n",
       "      <td>NaN</td>\n",
       "      <td>NaN</td>\n",
       "      <td>NaN</td>\n",
       "      <td>NaN</td>\n",
       "      <td>NaN</td>\n",
       "      <td>NaN</td>\n",
       "      <td>NaN</td>\n",
       "      <td>NaN</td>\n",
       "      <td>NaN</td>\n",
       "      <td>NaN</td>\n",
       "      <td>...</td>\n",
       "      <td>NaN</td>\n",
       "      <td>NaN</td>\n",
       "      <td>NaN</td>\n",
       "      <td>NaN</td>\n",
       "      <td>NaN</td>\n",
       "      <td>NaN</td>\n",
       "      <td>NaN</td>\n",
       "      <td>NaN</td>\n",
       "      <td>NaN</td>\n",
       "      <td>NaN</td>\n",
       "    </tr>\n",
       "    <tr>\n",
       "      <th>MAC Field Scanner Season 4 Range 11 Column 9</th>\n",
       "      <td>NaN</td>\n",
       "      <td>NaN</td>\n",
       "      <td>NaN</td>\n",
       "      <td>NaN</td>\n",
       "      <td>NaN</td>\n",
       "      <td>NaN</td>\n",
       "      <td>NaN</td>\n",
       "      <td>NaN</td>\n",
       "      <td>NaN</td>\n",
       "      <td>NaN</td>\n",
       "      <td>...</td>\n",
       "      <td>NaN</td>\n",
       "      <td>NaN</td>\n",
       "      <td>NaN</td>\n",
       "      <td>NaN</td>\n",
       "      <td>NaN</td>\n",
       "      <td>NaN</td>\n",
       "      <td>NaN</td>\n",
       "      <td>NaN</td>\n",
       "      <td>NaN</td>\n",
       "      <td>NaN</td>\n",
       "    </tr>\n",
       "    <tr>\n",
       "      <th>MAC Field Scanner Season 4 Range 11 Column 11</th>\n",
       "      <td>NaN</td>\n",
       "      <td>NaN</td>\n",
       "      <td>NaN</td>\n",
       "      <td>NaN</td>\n",
       "      <td>NaN</td>\n",
       "      <td>NaN</td>\n",
       "      <td>NaN</td>\n",
       "      <td>NaN</td>\n",
       "      <td>NaN</td>\n",
       "      <td>NaN</td>\n",
       "      <td>...</td>\n",
       "      <td>NaN</td>\n",
       "      <td>NaN</td>\n",
       "      <td>NaN</td>\n",
       "      <td>NaN</td>\n",
       "      <td>NaN</td>\n",
       "      <td>NaN</td>\n",
       "      <td>NaN</td>\n",
       "      <td>NaN</td>\n",
       "      <td>NaN</td>\n",
       "      <td>NaN</td>\n",
       "    </tr>\n",
       "    <tr>\n",
       "      <th>MAC Field Scanner Season 4 Range 11 Column 14</th>\n",
       "      <td>NaN</td>\n",
       "      <td>NaN</td>\n",
       "      <td>NaN</td>\n",
       "      <td>NaN</td>\n",
       "      <td>NaN</td>\n",
       "      <td>NaN</td>\n",
       "      <td>NaN</td>\n",
       "      <td>NaN</td>\n",
       "      <td>NaN</td>\n",
       "      <td>NaN</td>\n",
       "      <td>...</td>\n",
       "      <td>NaN</td>\n",
       "      <td>NaN</td>\n",
       "      <td>NaN</td>\n",
       "      <td>NaN</td>\n",
       "      <td>NaN</td>\n",
       "      <td>NaN</td>\n",
       "      <td>NaN</td>\n",
       "      <td>NaN</td>\n",
       "      <td>NaN</td>\n",
       "      <td>NaN</td>\n",
       "    </tr>\n",
       "  </tbody>\n",
       "</table>\n",
       "<p>5 rows × 2265 columns</p>\n",
       "</div>"
      ],
      "text/plain": [
       "                                               id  site_id  range  column  \\\n",
       "MAC Field Scanner Season 4 Range 11 Column 5  NaN      NaN    NaN     NaN   \n",
       "MAC Field Scanner Season 4 Range 11 Column 6  NaN      NaN    NaN     NaN   \n",
       "MAC Field Scanner Season 4 Range 11 Column 9  NaN      NaN    NaN     NaN   \n",
       "MAC Field Scanner Season 4 Range 11 Column 11 NaN      NaN    NaN     NaN   \n",
       "MAC Field Scanner Season 4 Range 11 Column 14 NaN      NaN    NaN     NaN   \n",
       "\n",
       "                                               lat  lon  time  cultivar_id  \\\n",
       "MAC Field Scanner Season 4 Range 11 Column 5   NaN  NaN   NaN          NaN   \n",
       "MAC Field Scanner Season 4 Range 11 Column 6   NaN  NaN   NaN          NaN   \n",
       "MAC Field Scanner Season 4 Range 11 Column 9   NaN  NaN   NaN          NaN   \n",
       "MAC Field Scanner Season 4 Range 11 Column 11  NaN  NaN   NaN          NaN   \n",
       "MAC Field Scanner Season 4 Range 11 Column 14  NaN  NaN   NaN          NaN   \n",
       "\n",
       "                                               cultivar  days_to_emergence  \\\n",
       "MAC Field Scanner Season 4 Range 11 Column 5        NaN                NaN   \n",
       "MAC Field Scanner Season 4 Range 11 Column 6        NaN                NaN   \n",
       "MAC Field Scanner Season 4 Range 11 Column 9        NaN                NaN   \n",
       "MAC Field Scanner Season 4 Range 11 Column 11       NaN                NaN   \n",
       "MAC Field Scanner Season 4 Range 11 Column 14       NaN                NaN   \n",
       "\n",
       "                                               ...  wind_speed_mean_day_141  \\\n",
       "MAC Field Scanner Season 4 Range 11 Column 5   ...                      NaN   \n",
       "MAC Field Scanner Season 4 Range 11 Column 6   ...                      NaN   \n",
       "MAC Field Scanner Season 4 Range 11 Column 9   ...                      NaN   \n",
       "MAC Field Scanner Season 4 Range 11 Column 11  ...                      NaN   \n",
       "MAC Field Scanner Season 4 Range 11 Column 14  ...                      NaN   \n",
       "\n",
       "                                               wind_speed_mean_day_142  \\\n",
       "MAC Field Scanner Season 4 Range 11 Column 5                       NaN   \n",
       "MAC Field Scanner Season 4 Range 11 Column 6                       NaN   \n",
       "MAC Field Scanner Season 4 Range 11 Column 9                       NaN   \n",
       "MAC Field Scanner Season 4 Range 11 Column 11                      NaN   \n",
       "MAC Field Scanner Season 4 Range 11 Column 14                      NaN   \n",
       "\n",
       "                                               wind_speed_mean_day_143  \\\n",
       "MAC Field Scanner Season 4 Range 11 Column 5                       NaN   \n",
       "MAC Field Scanner Season 4 Range 11 Column 6                       NaN   \n",
       "MAC Field Scanner Season 4 Range 11 Column 9                       NaN   \n",
       "MAC Field Scanner Season 4 Range 11 Column 11                      NaN   \n",
       "MAC Field Scanner Season 4 Range 11 Column 14                      NaN   \n",
       "\n",
       "                                               wind_speed_mean_day_144  \\\n",
       "MAC Field Scanner Season 4 Range 11 Column 5                       NaN   \n",
       "MAC Field Scanner Season 4 Range 11 Column 6                       NaN   \n",
       "MAC Field Scanner Season 4 Range 11 Column 9                       NaN   \n",
       "MAC Field Scanner Season 4 Range 11 Column 11                      NaN   \n",
       "MAC Field Scanner Season 4 Range 11 Column 14                      NaN   \n",
       "\n",
       "                                               wind_speed_mean_day_145  \\\n",
       "MAC Field Scanner Season 4 Range 11 Column 5                       NaN   \n",
       "MAC Field Scanner Season 4 Range 11 Column 6                       NaN   \n",
       "MAC Field Scanner Season 4 Range 11 Column 9                       NaN   \n",
       "MAC Field Scanner Season 4 Range 11 Column 11                      NaN   \n",
       "MAC Field Scanner Season 4 Range 11 Column 14                      NaN   \n",
       "\n",
       "                                               wind_speed_mean_day_146  \\\n",
       "MAC Field Scanner Season 4 Range 11 Column 5                       NaN   \n",
       "MAC Field Scanner Season 4 Range 11 Column 6                       NaN   \n",
       "MAC Field Scanner Season 4 Range 11 Column 9                       NaN   \n",
       "MAC Field Scanner Season 4 Range 11 Column 11                      NaN   \n",
       "MAC Field Scanner Season 4 Range 11 Column 14                      NaN   \n",
       "\n",
       "                                               wind_speed_mean_day_147  \\\n",
       "MAC Field Scanner Season 4 Range 11 Column 5                       NaN   \n",
       "MAC Field Scanner Season 4 Range 11 Column 6                       NaN   \n",
       "MAC Field Scanner Season 4 Range 11 Column 9                       NaN   \n",
       "MAC Field Scanner Season 4 Range 11 Column 11                      NaN   \n",
       "MAC Field Scanner Season 4 Range 11 Column 14                      NaN   \n",
       "\n",
       "                                               wind_speed_mean_day_148  \\\n",
       "MAC Field Scanner Season 4 Range 11 Column 5                       NaN   \n",
       "MAC Field Scanner Season 4 Range 11 Column 6                       NaN   \n",
       "MAC Field Scanner Season 4 Range 11 Column 9                       NaN   \n",
       "MAC Field Scanner Season 4 Range 11 Column 11                      NaN   \n",
       "MAC Field Scanner Season 4 Range 11 Column 14                      NaN   \n",
       "\n",
       "                                               wind_speed_mean_day_149  \\\n",
       "MAC Field Scanner Season 4 Range 11 Column 5                       NaN   \n",
       "MAC Field Scanner Season 4 Range 11 Column 6                       NaN   \n",
       "MAC Field Scanner Season 4 Range 11 Column 9                       NaN   \n",
       "MAC Field Scanner Season 4 Range 11 Column 11                      NaN   \n",
       "MAC Field Scanner Season 4 Range 11 Column 14                      NaN   \n",
       "\n",
       "                                               wind_speed_mean_day_150  \n",
       "MAC Field Scanner Season 4 Range 11 Column 5                       NaN  \n",
       "MAC Field Scanner Season 4 Range 11 Column 6                       NaN  \n",
       "MAC Field Scanner Season 4 Range 11 Column 9                       NaN  \n",
       "MAC Field Scanner Season 4 Range 11 Column 11                      NaN  \n",
       "MAC Field Scanner Season 4 Range 11 Column 14                      NaN  \n",
       "\n",
       "[5 rows x 2265 columns]"
      ]
     },
     "execution_count": 51,
     "metadata": {},
     "output_type": "execute_result"
    }
   ],
   "source": [
    "empty_df = pd.DataFrame(data=np.nan, index=sitename_list, columns=all_cols)\n",
    "print(empty_df.shape)\n",
    "empty_df.head()"
   ]
  },
  {
   "cell_type": "code",
   "execution_count": 52,
   "metadata": {},
   "outputs": [],
   "source": [
    "empty_df.to_csv('data/interim/empty_df_2019-12-09.csv')"
   ]
  },
  {
   "cell_type": "code",
   "execution_count": null,
   "metadata": {},
   "outputs": [],
   "source": []
  }
 ],
 "metadata": {
  "kernelspec": {
   "display_name": "Python 3",
   "language": "python",
   "name": "python3"
  },
  "language_info": {
   "codemirror_mode": {
    "name": "ipython",
    "version": 3
   },
   "file_extension": ".py",
   "mimetype": "text/x-python",
   "name": "python",
   "nbconvert_exporter": "python",
   "pygments_lexer": "ipython3",
   "version": "3.6.8"
  }
 },
 "nbformat": 4,
 "nbformat_minor": 2
}
