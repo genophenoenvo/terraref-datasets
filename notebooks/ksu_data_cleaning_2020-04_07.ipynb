{
 "cells": [
  {
   "cell_type": "markdown",
   "metadata": {},
   "source": [
    "### Kansas Sorghum Experiments Data Cleaning Notebook\n",
    "#### Data from Kansas State University Sorghum Experiments\n",
    "- goal: to gather more cultivar data in addition to MAC Sorghum Seasons 4 & 6\n",
    "- please contact Emily Cain at ejcain@arizona.edu with any questions or feedback"
   ]
  },
  {
   "cell_type": "code",
   "execution_count": 1,
   "metadata": {},
   "outputs": [],
   "source": [
    "import datetime\n",
    "import numpy as np\n",
    "import pandas as pd"
   ]
  },
  {
   "cell_type": "markdown",
   "metadata": {},
   "source": [
    "#### Read in data queried from betydb in `R` using this code:\n",
    "```\n",
    "library(traits)\n",
    "\n",
    "options(betydb_url = \"https://terraref.ncsa.illinois.edu/bety/\",\n",
    "        betydb_api_version = 'v1',\n",
    "        betydb_key = 'secret_api_key_123456_abcde')\n",
    "        \n",
    "kansas <- betydb_query(experiment  = \"~KSU\",\n",
    "                         limit     =  \"none\")\n",
    "                      \n",
    "write.csv(kansas, file = \"kansas_experiments_2020-03-24.csv\")\n",
    "```"
   ]
  },
  {
   "cell_type": "code",
   "execution_count": 3,
   "metadata": {},
   "outputs": [
    {
     "name": "stdout",
     "output_type": "stream",
     "text": [
      "(1552266, 39)\n"
     ]
    },
    {
     "data": {
      "text/html": [
       "<div>\n",
       "<style scoped>\n",
       "    .dataframe tbody tr th:only-of-type {\n",
       "        vertical-align: middle;\n",
       "    }\n",
       "\n",
       "    .dataframe tbody tr th {\n",
       "        vertical-align: top;\n",
       "    }\n",
       "\n",
       "    .dataframe thead th {\n",
       "        text-align: right;\n",
       "    }\n",
       "</style>\n",
       "<table border=\"1\" class=\"dataframe\">\n",
       "  <thead>\n",
       "    <tr style=\"text-align: right;\">\n",
       "      <th></th>\n",
       "      <th>Unnamed: 0</th>\n",
       "      <th>checked</th>\n",
       "      <th>result_type</th>\n",
       "      <th>id</th>\n",
       "      <th>citation_id</th>\n",
       "      <th>site_id</th>\n",
       "      <th>treatment_id</th>\n",
       "      <th>sitename</th>\n",
       "      <th>city</th>\n",
       "      <th>lat</th>\n",
       "      <th>...</th>\n",
       "      <th>n</th>\n",
       "      <th>statname</th>\n",
       "      <th>stat</th>\n",
       "      <th>notes</th>\n",
       "      <th>access_level</th>\n",
       "      <th>cultivar</th>\n",
       "      <th>entity</th>\n",
       "      <th>method_name</th>\n",
       "      <th>view_url</th>\n",
       "      <th>edit_url</th>\n",
       "    </tr>\n",
       "  </thead>\n",
       "  <tbody>\n",
       "    <tr>\n",
       "      <th>0</th>\n",
       "      <td>1</td>\n",
       "      <td>0</td>\n",
       "      <td>traits</td>\n",
       "      <td>6004546896</td>\n",
       "      <td>6.000000e+09</td>\n",
       "      <td>6000005848</td>\n",
       "      <td>6.000000e+09</td>\n",
       "      <td>MAC Field Scanner Season 4 Range 38 Column 14</td>\n",
       "      <td>Maricopa</td>\n",
       "      <td>33.075878</td>\n",
       "      <td>...</td>\n",
       "      <td>NaN</td>\n",
       "      <td>NaN</td>\n",
       "      <td>NaN</td>\n",
       "      <td>NaN</td>\n",
       "      <td>2</td>\n",
       "      <td>PI218112</td>\n",
       "      <td>NaN</td>\n",
       "      <td>3D scanner to leaf angle distribution</td>\n",
       "      <td>https://terraref.ncsa.illinois.edu/bety/traits...</td>\n",
       "      <td>https://terraref.ncsa.illinois.edu/bety/traits...</td>\n",
       "    </tr>\n",
       "    <tr>\n",
       "      <th>1</th>\n",
       "      <td>2</td>\n",
       "      <td>0</td>\n",
       "      <td>traits</td>\n",
       "      <td>6004555749</td>\n",
       "      <td>6.000000e+09</td>\n",
       "      <td>6000005848</td>\n",
       "      <td>6.000000e+09</td>\n",
       "      <td>MAC Field Scanner Season 4 Range 38 Column 14</td>\n",
       "      <td>Maricopa</td>\n",
       "      <td>33.075878</td>\n",
       "      <td>...</td>\n",
       "      <td>NaN</td>\n",
       "      <td>NaN</td>\n",
       "      <td>NaN</td>\n",
       "      <td>NaN</td>\n",
       "      <td>2</td>\n",
       "      <td>PI218112</td>\n",
       "      <td>NaN</td>\n",
       "      <td>3D scanner to leaf angle distribution</td>\n",
       "      <td>https://terraref.ncsa.illinois.edu/bety/traits...</td>\n",
       "      <td>https://terraref.ncsa.illinois.edu/bety/traits...</td>\n",
       "    </tr>\n",
       "    <tr>\n",
       "      <th>2</th>\n",
       "      <td>3</td>\n",
       "      <td>0</td>\n",
       "      <td>traits</td>\n",
       "      <td>6004555750</td>\n",
       "      <td>6.000000e+09</td>\n",
       "      <td>6000005848</td>\n",
       "      <td>6.000000e+09</td>\n",
       "      <td>MAC Field Scanner Season 4 Range 38 Column 14</td>\n",
       "      <td>Maricopa</td>\n",
       "      <td>33.075878</td>\n",
       "      <td>...</td>\n",
       "      <td>NaN</td>\n",
       "      <td>NaN</td>\n",
       "      <td>NaN</td>\n",
       "      <td>NaN</td>\n",
       "      <td>2</td>\n",
       "      <td>PI218112</td>\n",
       "      <td>NaN</td>\n",
       "      <td>3D scanner to leaf angle distribution</td>\n",
       "      <td>https://terraref.ncsa.illinois.edu/bety/traits...</td>\n",
       "      <td>https://terraref.ncsa.illinois.edu/bety/traits...</td>\n",
       "    </tr>\n",
       "  </tbody>\n",
       "</table>\n",
       "<p>3 rows × 39 columns</p>\n",
       "</div>"
      ],
      "text/plain": [
       "   Unnamed: 0  checked result_type          id   citation_id     site_id  \\\n",
       "0           1        0      traits  6004546896  6.000000e+09  6000005848   \n",
       "1           2        0      traits  6004555749  6.000000e+09  6000005848   \n",
       "2           3        0      traits  6004555750  6.000000e+09  6000005848   \n",
       "\n",
       "   treatment_id                                       sitename      city  \\\n",
       "0  6.000000e+09  MAC Field Scanner Season 4 Range 38 Column 14  Maricopa   \n",
       "1  6.000000e+09  MAC Field Scanner Season 4 Range 38 Column 14  Maricopa   \n",
       "2  6.000000e+09  MAC Field Scanner Season 4 Range 38 Column 14  Maricopa   \n",
       "\n",
       "         lat  ...   n statname stat notes  access_level  cultivar entity  \\\n",
       "0  33.075878  ... NaN      NaN  NaN   NaN             2  PI218112    NaN   \n",
       "1  33.075878  ... NaN      NaN  NaN   NaN             2  PI218112    NaN   \n",
       "2  33.075878  ... NaN      NaN  NaN   NaN             2  PI218112    NaN   \n",
       "\n",
       "                             method_name  \\\n",
       "0  3D scanner to leaf angle distribution   \n",
       "1  3D scanner to leaf angle distribution   \n",
       "2  3D scanner to leaf angle distribution   \n",
       "\n",
       "                                            view_url  \\\n",
       "0  https://terraref.ncsa.illinois.edu/bety/traits...   \n",
       "1  https://terraref.ncsa.illinois.edu/bety/traits...   \n",
       "2  https://terraref.ncsa.illinois.edu/bety/traits...   \n",
       "\n",
       "                                            edit_url  \n",
       "0  https://terraref.ncsa.illinois.edu/bety/traits...  \n",
       "1  https://terraref.ncsa.illinois.edu/bety/traits...  \n",
       "2  https://terraref.ncsa.illinois.edu/bety/traits...  \n",
       "\n",
       "[3 rows x 39 columns]"
      ]
     },
     "execution_count": 3,
     "metadata": {},
     "output_type": "execute_result"
    }
   ],
   "source": [
    "df_0 = pd.read_csv('ksu_experiments_2020-03-24.csv', low_memory=False)\n",
    "print(df_0.shape)\n",
    "df_0.head(3)"
   ]
  },
  {
   "cell_type": "markdown",
   "metadata": {},
   "source": [
    "#### Find sitenames that do **not** start with `MAC`\n",
    "- Slice dataframe to only include sitenames that include `KSU`"
   ]
  },
  {
   "cell_type": "code",
   "execution_count": 4,
   "metadata": {},
   "outputs": [
    {
     "name": "stdout",
     "output_type": "stream",
     "text": [
      "(41540, 39)\n"
     ]
    }
   ],
   "source": [
    "non_mac_sites = df_0[~df_0.sitename.str.startswith('MAC')]\n",
    "print(non_mac_sites.shape)\n",
    "# non_mac_sites.head(3)"
   ]
  },
  {
   "cell_type": "code",
   "execution_count": 5,
   "metadata": {},
   "outputs": [
    {
     "name": "stdout",
     "output_type": "stream",
     "text": [
      "2014-06-03 13:11:14 -0500\n",
      "2016-10-21 00:00:00 -0500\n"
     ]
    }
   ],
   "source": [
    "print(non_mac_sites.raw_date.min())\n",
    "print(non_mac_sites.raw_date.max())"
   ]
  },
  {
   "cell_type": "code",
   "execution_count": 6,
   "metadata": {},
   "outputs": [
    {
     "name": "stdout",
     "output_type": "stream",
     "text": [
      "(37353, 39)\n"
     ]
    }
   ],
   "source": [
    "ksu_0 = non_mac_sites[non_mac_sites.sitename.str.contains('KSU')]\n",
    "print(ksu_0.shape)\n",
    "# ksu_0.tail(3)"
   ]
  },
  {
   "cell_type": "markdown",
   "metadata": {},
   "source": [
    "#### Slice for selected traits\n",
    "- canopy height\n",
    "- days & GDD to flowering\n",
    "- may use other traits as needed for future models"
   ]
  },
  {
   "cell_type": "code",
   "execution_count": 7,
   "metadata": {},
   "outputs": [
    {
     "data": {
      "text/plain": [
       "array(['canopy_height', 'lodging_percent', 'emergence_score',\n",
       "       'seedling_vigor', 'Sugar_content', 'crude_protein', 'stem_width',\n",
       "       'flowering_time', 'crown_color',\n",
       "       'aboveground_fresh_biomass_per_plot', 'leaf_length', 'leaf_width',\n",
       "       'leaf_attachment_angle', 'adf', 'ndf',\n",
       "       'aboveground_biomass_moisture'], dtype=object)"
      ]
     },
     "execution_count": 7,
     "metadata": {},
     "output_type": "execute_result"
    }
   ],
   "source": [
    "ksu_0.trait.unique()"
   ]
  },
  {
   "cell_type": "code",
   "execution_count": 8,
   "metadata": {},
   "outputs": [
    {
     "name": "stdout",
     "output_type": "stream",
     "text": [
      "(5497, 39)\n"
     ]
    }
   ],
   "source": [
    "ksu_1 = ksu_0.loc[(ksu_0.trait == 'flowering_time') | (ksu_0.trait == 'canopy_height')]\n",
    "print(ksu_1.shape)\n",
    "# ksu_1.head(3)"
   ]
  },
  {
   "cell_type": "markdown",
   "metadata": {},
   "source": [
    "#### Drop & Rename Columns\n",
    "- rename `mean` to `value`\n",
    "- convert `raw_date` to new datetime object\n",
    "- new datetime object will be in `date` column"
   ]
  },
  {
   "cell_type": "code",
   "execution_count": 9,
   "metadata": {},
   "outputs": [],
   "source": [
    "# ksu_1.columns"
   ]
  },
  {
   "cell_type": "code",
   "execution_count": 10,
   "metadata": {},
   "outputs": [],
   "source": [
    "# Can drop most columns with only one value\n",
    "\n",
    "# for col in ksu_1.columns:\n",
    "    \n",
    "#     if ksu_1[col].nunique() < 5:\n",
    "#         print(f'Unique values for {col}: {ksu_1[col].unique()}')"
   ]
  },
  {
   "cell_type": "code",
   "execution_count": 11,
   "metadata": {},
   "outputs": [
    {
     "name": "stdout",
     "output_type": "stream",
     "text": [
      "(5497, 10)\n"
     ]
    }
   ],
   "source": [
    "cols_to_drop = ['Unnamed: 0', 'checked', 'result_type', 'id', 'citation_id', 'site_id', 'treatment_id', \n",
    "                'city', 'scientificname', 'commonname', 'genus', 'species_id', 'cultivar_id', 'author', \n",
    "                'citation_year', 'time', 'month', 'year', 'n', 'statname', 'stat', 'notes', 'access_level', \n",
    "                'entity', 'view_url', 'edit_url', 'treatment', 'date', 'dateloc']\n",
    "\n",
    "ksu_2 = ksu_1.drop(labels=cols_to_drop, axis=1)\n",
    "print(ksu_2.shape)\n",
    "# ksu_2.tail(3)"
   ]
  },
  {
   "cell_type": "markdown",
   "metadata": {},
   "source": [
    "#### Convert `raw_date` to datetime object"
   ]
  },
  {
   "cell_type": "code",
   "execution_count": 12,
   "metadata": {},
   "outputs": [
    {
     "data": {
      "text/plain": [
       "sitename              object\n",
       "lat                  float64\n",
       "lon                  float64\n",
       "raw_date              object\n",
       "trait                 object\n",
       "trait_description     object\n",
       "mean                 float64\n",
       "units                 object\n",
       "cultivar              object\n",
       "method_name           object\n",
       "dtype: object"
      ]
     },
     "execution_count": 12,
     "metadata": {},
     "output_type": "execute_result"
    }
   ],
   "source": [
    "ksu_2.dtypes"
   ]
  },
  {
   "cell_type": "code",
   "execution_count": 13,
   "metadata": {},
   "outputs": [
    {
     "name": "stdout",
     "output_type": "stream",
     "text": [
      "5497\n",
      "5497\n"
     ]
    }
   ],
   "source": [
    "new_dates = pd.to_datetime(ksu_2.raw_date)\n",
    "\n",
    "ksu_3 = ksu_2.copy()\n",
    "ksu_3['date'] = new_dates\n",
    "\n",
    "print(ksu_2.shape[0])\n",
    "print(ksu_3.shape[0])\n",
    "\n",
    "# ksu_3.head(3)"
   ]
  },
  {
   "cell_type": "code",
   "execution_count": 14,
   "metadata": {},
   "outputs": [
    {
     "name": "stdout",
     "output_type": "stream",
     "text": [
      "(5497, 11)\n"
     ]
    }
   ],
   "source": [
    "ksu_4 = ksu_3.rename({'mean': 'value'}, axis=1)\n",
    "print(ksu_4.shape)\n",
    "# ksu_4.tail(3)"
   ]
  },
  {
   "cell_type": "markdown",
   "metadata": {},
   "source": [
    "### Extract `Range` and `Pass` values\n",
    "- still need to determine how the field is structured\n",
    "- is `Pass` similar to `Column` in the MAC experiments?"
   ]
  },
  {
   "cell_type": "code",
   "execution_count": 15,
   "metadata": {},
   "outputs": [],
   "source": [
    "ksu_5 = ksu_4.copy()\n",
    "\n",
    "ksu_5['range'] = ksu_5['sitename'].str.extract(\"Range (\\d+)\").astype(int)\n",
    "ksu_5['pass'] = ksu_5['sitename'].str.extract(\"Pass (\\d+)\").astype(int)\n",
    "\n",
    "# ksu_5.sample(n=5)"
   ]
  },
  {
   "cell_type": "markdown",
   "metadata": {},
   "source": [
    "### Growing Degree Days (GDD) to Flowering\n",
    "- Weather data taken from [KSU Weather Station](http://mesonet.k-state.edu/weather/historical/) in Manhattan\n",
    "- planting date: 2016-06-17\n",
    "- harvest date: 2016-10-21"
   ]
  },
  {
   "cell_type": "code",
   "execution_count": 16,
   "metadata": {},
   "outputs": [
    {
     "name": "stdout",
     "output_type": "stream",
     "text": [
      "(155, 15)\n"
     ]
    },
    {
     "data": {
      "text/html": [
       "<div>\n",
       "<style scoped>\n",
       "    .dataframe tbody tr th:only-of-type {\n",
       "        vertical-align: middle;\n",
       "    }\n",
       "\n",
       "    .dataframe tbody tr th {\n",
       "        vertical-align: top;\n",
       "    }\n",
       "\n",
       "    .dataframe thead th {\n",
       "        text-align: right;\n",
       "    }\n",
       "</style>\n",
       "<table border=\"1\" class=\"dataframe\">\n",
       "  <thead>\n",
       "    <tr style=\"text-align: right;\">\n",
       "      <th></th>\n",
       "      <th>Timestamp</th>\n",
       "      <th>Station</th>\n",
       "      <th>AirTemperature</th>\n",
       "      <th>AirTemperature.1</th>\n",
       "      <th>RelativeHumidity</th>\n",
       "      <th>Precipitation</th>\n",
       "      <th>WindSpeed2m</th>\n",
       "      <th>WindSpeed2m.1</th>\n",
       "      <th>SoilTemperature5cm</th>\n",
       "      <th>SoilTemperature5cm.1</th>\n",
       "      <th>SoilTemperature10cm</th>\n",
       "      <th>SoilTemperature10cm.1</th>\n",
       "      <th>SolarRadiation</th>\n",
       "      <th>ETo</th>\n",
       "      <th>ETo.1</th>\n",
       "    </tr>\n",
       "  </thead>\n",
       "  <tbody>\n",
       "    <tr>\n",
       "      <th>0</th>\n",
       "      <td>NaN</td>\n",
       "      <td>NaN</td>\n",
       "      <td>max</td>\n",
       "      <td>min</td>\n",
       "      <td>avg</td>\n",
       "      <td>total</td>\n",
       "      <td>avg</td>\n",
       "      <td>max</td>\n",
       "      <td>max</td>\n",
       "      <td>min</td>\n",
       "      <td>max</td>\n",
       "      <td>min</td>\n",
       "      <td>total</td>\n",
       "      <td>grass</td>\n",
       "      <td>alfalfa</td>\n",
       "    </tr>\n",
       "    <tr>\n",
       "      <th>1</th>\n",
       "      <td>NaN</td>\n",
       "      <td>NaN</td>\n",
       "      <td>°F</td>\n",
       "      <td>°F</td>\n",
       "      <td>%</td>\n",
       "      <td>inches</td>\n",
       "      <td>mph</td>\n",
       "      <td>mph</td>\n",
       "      <td>°F</td>\n",
       "      <td>°F</td>\n",
       "      <td>°F</td>\n",
       "      <td>°F</td>\n",
       "      <td>ly</td>\n",
       "      <td>inches</td>\n",
       "      <td>inches</td>\n",
       "    </tr>\n",
       "    <tr>\n",
       "      <th>2</th>\n",
       "      <td>2016-06-01</td>\n",
       "      <td>Manhattan</td>\n",
       "      <td>81.7</td>\n",
       "      <td>57.9</td>\n",
       "      <td>65.9</td>\n",
       "      <td>0</td>\n",
       "      <td>3.1</td>\n",
       "      <td>13.8</td>\n",
       "      <td>82.1</td>\n",
       "      <td>66.7</td>\n",
       "      <td>78.4</td>\n",
       "      <td>68.1</td>\n",
       "      <td>660.1</td>\n",
       "      <td>0.21</td>\n",
       "      <td>0.25</td>\n",
       "    </tr>\n",
       "    <tr>\n",
       "      <th>3</th>\n",
       "      <td>2016-06-02</td>\n",
       "      <td>Manhattan</td>\n",
       "      <td>84.8</td>\n",
       "      <td>56.1</td>\n",
       "      <td>59.6</td>\n",
       "      <td>0</td>\n",
       "      <td>2.8</td>\n",
       "      <td>14</td>\n",
       "      <td>85.1</td>\n",
       "      <td>66.8</td>\n",
       "      <td>80.7</td>\n",
       "      <td>68.4</td>\n",
       "      <td>673.7</td>\n",
       "      <td>0.22</td>\n",
       "      <td>0.26</td>\n",
       "    </tr>\n",
       "    <tr>\n",
       "      <th>4</th>\n",
       "      <td>2016-06-03</td>\n",
       "      <td>Manhattan</td>\n",
       "      <td>85.8</td>\n",
       "      <td>55.4</td>\n",
       "      <td>63.2</td>\n",
       "      <td>0.15</td>\n",
       "      <td>3.9</td>\n",
       "      <td>22.9</td>\n",
       "      <td>85.8</td>\n",
       "      <td>67.9</td>\n",
       "      <td>81.1</td>\n",
       "      <td>69.5</td>\n",
       "      <td>667.8</td>\n",
       "      <td>0.23</td>\n",
       "      <td>0.28</td>\n",
       "    </tr>\n",
       "  </tbody>\n",
       "</table>\n",
       "</div>"
      ],
      "text/plain": [
       "    Timestamp    Station AirTemperature AirTemperature.1 RelativeHumidity  \\\n",
       "0         NaN        NaN            max              min              avg   \n",
       "1         NaN        NaN             °F               °F                %   \n",
       "2  2016-06-01  Manhattan           81.7             57.9             65.9   \n",
       "3  2016-06-02  Manhattan           84.8             56.1             59.6   \n",
       "4  2016-06-03  Manhattan           85.8             55.4             63.2   \n",
       "\n",
       "  Precipitation WindSpeed2m WindSpeed2m.1 SoilTemperature5cm  \\\n",
       "0         total         avg           max                max   \n",
       "1        inches         mph           mph                 °F   \n",
       "2             0         3.1          13.8               82.1   \n",
       "3             0         2.8            14               85.1   \n",
       "4          0.15         3.9          22.9               85.8   \n",
       "\n",
       "  SoilTemperature5cm.1 SoilTemperature10cm SoilTemperature10cm.1  \\\n",
       "0                  min                 max                   min   \n",
       "1                   °F                  °F                    °F   \n",
       "2                 66.7                78.4                  68.1   \n",
       "3                 66.8                80.7                  68.4   \n",
       "4                 67.9                81.1                  69.5   \n",
       "\n",
       "  SolarRadiation     ETo    ETo.1  \n",
       "0          total   grass  alfalfa  \n",
       "1             ly  inches   inches  \n",
       "2          660.1    0.21     0.25  \n",
       "3          673.7    0.22     0.26  \n",
       "4          667.8    0.23     0.28  "
      ]
     },
     "execution_count": 16,
     "metadata": {},
     "output_type": "execute_result"
    }
   ],
   "source": [
    "manhattan_weather_0 = pd.read_csv('manhattan_weather_2016_daily.csv')\n",
    "print(manhattan_weather_0.shape)\n",
    "manhattan_weather_0.head(5)"
   ]
  },
  {
   "cell_type": "markdown",
   "metadata": {},
   "source": [
    "#### Change column names and drop first two rows\n",
    "- Add datetime column"
   ]
  },
  {
   "cell_type": "code",
   "execution_count": 17,
   "metadata": {},
   "outputs": [
    {
     "name": "stdout",
     "output_type": "stream",
     "text": [
      "(155, 16)\n"
     ]
    }
   ],
   "source": [
    "manhattan_weather_1 = manhattan_weather_0.copy()\n",
    "\n",
    "datetimes = pd.to_datetime(manhattan_weather_1['Timestamp'])\n",
    "manhattan_weather_1['date'] = datetimes\n",
    "\n",
    "print(manhattan_weather_1.shape)\n",
    "# manhattan_weather_1.tail()"
   ]
  },
  {
   "cell_type": "code",
   "execution_count": 18,
   "metadata": {},
   "outputs": [],
   "source": [
    "# manhattan_weather_1.columns"
   ]
  },
  {
   "cell_type": "code",
   "execution_count": 19,
   "metadata": {},
   "outputs": [
    {
     "name": "stdout",
     "output_type": "stream",
     "text": [
      "(153, 16)\n"
     ]
    }
   ],
   "source": [
    "# Drop first 2 rows\n",
    "\n",
    "manhattan_weather_2 = manhattan_weather_1.iloc[2:]\n",
    "print(manhattan_weather_2.shape)\n",
    "# manhattan_weather_2.head()"
   ]
  },
  {
   "cell_type": "code",
   "execution_count": 20,
   "metadata": {},
   "outputs": [
    {
     "name": "stdout",
     "output_type": "stream",
     "text": [
      "(153, 15)\n"
     ]
    }
   ],
   "source": [
    "# Drop `timestamp` column\n",
    "\n",
    "manhattan_weather_3 = manhattan_weather_2.drop(labels=['Timestamp'], axis=1)\n",
    "print(manhattan_weather_3.shape)\n",
    "# manhattan_weather_3.head()"
   ]
  },
  {
   "cell_type": "code",
   "execution_count": 21,
   "metadata": {},
   "outputs": [
    {
     "name": "stdout",
     "output_type": "stream",
     "text": [
      "(153, 15)\n"
     ]
    }
   ],
   "source": [
    "manhattan_weather_4 = manhattan_weather_3.rename({'Station': 'station', 'AirTemperature': 'air_temp_max_F', \n",
    "                                                  'AirTemperature.1': 'air_temp_min_F', 'RelativeHumidity': 'avg_rh',\n",
    "                                                  'Precipitation': 'precip_total', 'WindSpeed2m': 'avg_wind_speed', \n",
    "                                                  'WindSpeed2m.1': 'max_wind_speed', 'SoilTemperature5cm': 'soil_temp_5cm_max',\n",
    "                                                  'SoilTemperature5cm.1': 'soil_temp_5cm_min', \n",
    "                                                  'SoilTemperature10cm': 'soil_temp_10cm_max', \n",
    "                                                  'SoilTemperature10cm.1': 'soil_temp_10cm_min', 'SolarRadiation': 'solar_rad',\n",
    "                                                  'ETo': 'eto_grass', 'ETo.1': 'eto_alfalfa'}, axis=1)\n",
    "print(manhattan_weather_4.shape)\n",
    "# manhattan_weather_4.head()"
   ]
  },
  {
   "cell_type": "markdown",
   "metadata": {},
   "source": [
    "#### Add Day-of-year (DOY) to Weather Dataframe\n",
    "- slice dataframe to only include season dates from planting to harvest\n",
    "- change `date` to index, but keep `date` column\n",
    "- use Pandas `PeriodIndex.dayofyear()`"
   ]
  },
  {
   "cell_type": "code",
   "execution_count": 22,
   "metadata": {},
   "outputs": [],
   "source": [
    "manhattan_weather_5 = manhattan_weather_4.loc[(manhattan_weather_4['date'] >= '2016-06-17') & (manhattan_weather_4['date'] <= '2016-10-21')]"
   ]
  },
  {
   "cell_type": "code",
   "execution_count": 23,
   "metadata": {},
   "outputs": [
    {
     "name": "stdout",
     "output_type": "stream",
     "text": [
      "(127, 15)\n"
     ]
    }
   ],
   "source": [
    "manhattan_weather_6 = manhattan_weather_5.set_index(keys=['date'], drop=False)\n",
    "print(manhattan_weather_6.shape)\n",
    "# manhattan_weather_6.tail(3)"
   ]
  },
  {
   "cell_type": "code",
   "execution_count": 24,
   "metadata": {},
   "outputs": [],
   "source": [
    "manhattan_weather_7 = manhattan_weather_6.copy()\n",
    "\n",
    "manhattan_weather_7['day_of_year'] = manhattan_weather_7.index.dayofyear"
   ]
  },
  {
   "cell_type": "code",
   "execution_count": 25,
   "metadata": {},
   "outputs": [],
   "source": [
    "# manhattan_weather_7.tail(3)"
   ]
  },
  {
   "cell_type": "markdown",
   "metadata": {},
   "source": [
    "#### Add Growing Degree Days (GDD)\n",
    "- convert all numeric columns from string `to_numeric`\n",
    "- add air temps in C\n",
    "- equation = (F - 32) x 0.5556 = C\n",
    "- daily gdd equation = ((max_air_temp + min_air_temp) / 2) - 10"
   ]
  },
  {
   "cell_type": "code",
   "execution_count": 26,
   "metadata": {},
   "outputs": [],
   "source": [
    "cols_to_convert = ['air_temp_max_F', 'air_temp_min_F', 'avg_rh', 'precip_total', 'avg_wind_speed', 'max_wind_speed', \n",
    "                   'soil_temp_5cm_max', 'soil_temp_5cm_min', 'soil_temp_10cm_max', 'soil_temp_10cm_min', 'solar_rad', \n",
    "                   'eto_grass', 'eto_alfalfa']"
   ]
  },
  {
   "cell_type": "code",
   "execution_count": 27,
   "metadata": {},
   "outputs": [],
   "source": [
    "manhattan_weather_7[cols_to_convert] = manhattan_weather_7[cols_to_convert].apply(pd.to_numeric)"
   ]
  },
  {
   "cell_type": "code",
   "execution_count": 28,
   "metadata": {},
   "outputs": [
    {
     "data": {
      "text/plain": [
       "station                       object\n",
       "air_temp_max_F               float64\n",
       "air_temp_min_F               float64\n",
       "avg_rh                       float64\n",
       "precip_total                 float64\n",
       "avg_wind_speed               float64\n",
       "max_wind_speed               float64\n",
       "soil_temp_5cm_max            float64\n",
       "soil_temp_5cm_min            float64\n",
       "soil_temp_10cm_max           float64\n",
       "soil_temp_10cm_min           float64\n",
       "solar_rad                    float64\n",
       "eto_grass                    float64\n",
       "eto_alfalfa                  float64\n",
       "date                  datetime64[ns]\n",
       "day_of_year                    int64\n",
       "dtype: object"
      ]
     },
     "execution_count": 28,
     "metadata": {},
     "output_type": "execute_result"
    }
   ],
   "source": [
    "manhattan_weather_7.dtypes"
   ]
  },
  {
   "cell_type": "code",
   "execution_count": 29,
   "metadata": {},
   "outputs": [
    {
     "name": "stdout",
     "output_type": "stream",
     "text": [
      "(127, 17)\n"
     ]
    }
   ],
   "source": [
    "manhattan_weather_8 = manhattan_weather_7.copy()\n",
    "\n",
    "manhattan_weather_8['air_temp_max_C'] = round(((manhattan_weather_8['air_temp_max_F'] - 32) * 0.556), 1)\n",
    "print(manhattan_weather_8.shape)\n",
    "# manhattan_weather_8.tail(3)"
   ]
  },
  {
   "cell_type": "code",
   "execution_count": 30,
   "metadata": {},
   "outputs": [
    {
     "name": "stdout",
     "output_type": "stream",
     "text": [
      "(127, 18)\n"
     ]
    }
   ],
   "source": [
    "manhattan_weather_9 = manhattan_weather_8.copy()\n",
    "\n",
    "manhattan_weather_9['air_temp_min_C'] = round(((manhattan_weather_9['air_temp_min_F'] - 32) * 0.556), 1)\n",
    "print(manhattan_weather_9.shape)\n",
    "# manhattan_weather_9.head(3)"
   ]
  },
  {
   "cell_type": "code",
   "execution_count": 31,
   "metadata": {},
   "outputs": [
    {
     "name": "stdout",
     "output_type": "stream",
     "text": [
      "(127, 19)\n"
     ]
    }
   ],
   "source": [
    "manhattan_weather_10 = manhattan_weather_9.copy()\n",
    "\n",
    "manhattan_weather_10['daily_gdd'] = (((manhattan_weather_10['air_temp_max_C'] + manhattan_weather_10['air_temp_min_C'])) / 2) - 10\n",
    "\n",
    "print(manhattan_weather_10.shape)\n",
    "# manhattan_weather_10.sample(n=3)"
   ]
  },
  {
   "cell_type": "code",
   "execution_count": 32,
   "metadata": {},
   "outputs": [
    {
     "data": {
      "text/html": [
       "<div>\n",
       "<style scoped>\n",
       "    .dataframe tbody tr th:only-of-type {\n",
       "        vertical-align: middle;\n",
       "    }\n",
       "\n",
       "    .dataframe tbody tr th {\n",
       "        vertical-align: top;\n",
       "    }\n",
       "\n",
       "    .dataframe thead th {\n",
       "        text-align: right;\n",
       "    }\n",
       "</style>\n",
       "<table border=\"1\" class=\"dataframe\">\n",
       "  <thead>\n",
       "    <tr style=\"text-align: right;\">\n",
       "      <th></th>\n",
       "      <th>station</th>\n",
       "      <th>air_temp_max_F</th>\n",
       "      <th>air_temp_min_F</th>\n",
       "      <th>avg_rh</th>\n",
       "      <th>precip_total</th>\n",
       "      <th>avg_wind_speed</th>\n",
       "      <th>max_wind_speed</th>\n",
       "      <th>soil_temp_5cm_max</th>\n",
       "      <th>soil_temp_5cm_min</th>\n",
       "      <th>soil_temp_10cm_max</th>\n",
       "      <th>soil_temp_10cm_min</th>\n",
       "      <th>solar_rad</th>\n",
       "      <th>eto_grass</th>\n",
       "      <th>eto_alfalfa</th>\n",
       "      <th>date</th>\n",
       "      <th>day_of_year</th>\n",
       "      <th>air_temp_max_C</th>\n",
       "      <th>air_temp_min_C</th>\n",
       "      <th>daily_gdd</th>\n",
       "    </tr>\n",
       "    <tr>\n",
       "      <th>date</th>\n",
       "      <th></th>\n",
       "      <th></th>\n",
       "      <th></th>\n",
       "      <th></th>\n",
       "      <th></th>\n",
       "      <th></th>\n",
       "      <th></th>\n",
       "      <th></th>\n",
       "      <th></th>\n",
       "      <th></th>\n",
       "      <th></th>\n",
       "      <th></th>\n",
       "      <th></th>\n",
       "      <th></th>\n",
       "      <th></th>\n",
       "      <th></th>\n",
       "      <th></th>\n",
       "      <th></th>\n",
       "      <th></th>\n",
       "    </tr>\n",
       "  </thead>\n",
       "  <tbody>\n",
       "    <tr>\n",
       "      <th>2016-10-12</th>\n",
       "      <td>Manhattan</td>\n",
       "      <td>58.2</td>\n",
       "      <td>40.3</td>\n",
       "      <td>70.9</td>\n",
       "      <td>0.0</td>\n",
       "      <td>7.7</td>\n",
       "      <td>19.6</td>\n",
       "      <td>63.0</td>\n",
       "      <td>57.2</td>\n",
       "      <td>63.9</td>\n",
       "      <td>59.2</td>\n",
       "      <td>332.7</td>\n",
       "      <td>0.09</td>\n",
       "      <td>0.14</td>\n",
       "      <td>2016-10-12</td>\n",
       "      <td>286</td>\n",
       "      <td>14.6</td>\n",
       "      <td>4.6</td>\n",
       "      <td>-0.40</td>\n",
       "    </tr>\n",
       "    <tr>\n",
       "      <th>2016-10-13</th>\n",
       "      <td>Manhattan</td>\n",
       "      <td>60.3</td>\n",
       "      <td>33.4</td>\n",
       "      <td>72.3</td>\n",
       "      <td>0.0</td>\n",
       "      <td>2.8</td>\n",
       "      <td>11.7</td>\n",
       "      <td>60.0</td>\n",
       "      <td>53.9</td>\n",
       "      <td>60.2</td>\n",
       "      <td>56.2</td>\n",
       "      <td>304.5</td>\n",
       "      <td>0.07</td>\n",
       "      <td>0.10</td>\n",
       "      <td>2016-10-13</td>\n",
       "      <td>287</td>\n",
       "      <td>15.7</td>\n",
       "      <td>0.8</td>\n",
       "      <td>-1.75</td>\n",
       "    </tr>\n",
       "  </tbody>\n",
       "</table>\n",
       "</div>"
      ],
      "text/plain": [
       "              station  air_temp_max_F  air_temp_min_F  avg_rh  precip_total  \\\n",
       "date                                                                          \n",
       "2016-10-12  Manhattan            58.2            40.3    70.9           0.0   \n",
       "2016-10-13  Manhattan            60.3            33.4    72.3           0.0   \n",
       "\n",
       "            avg_wind_speed  max_wind_speed  soil_temp_5cm_max  \\\n",
       "date                                                            \n",
       "2016-10-12             7.7            19.6               63.0   \n",
       "2016-10-13             2.8            11.7               60.0   \n",
       "\n",
       "            soil_temp_5cm_min  soil_temp_10cm_max  soil_temp_10cm_min  \\\n",
       "date                                                                    \n",
       "2016-10-12               57.2                63.9                59.2   \n",
       "2016-10-13               53.9                60.2                56.2   \n",
       "\n",
       "            solar_rad  eto_grass  eto_alfalfa       date  day_of_year  \\\n",
       "date                                                                    \n",
       "2016-10-12      332.7       0.09         0.14 2016-10-12          286   \n",
       "2016-10-13      304.5       0.07         0.10 2016-10-13          287   \n",
       "\n",
       "            air_temp_max_C  air_temp_min_C  daily_gdd  \n",
       "date                                                   \n",
       "2016-10-12            14.6             4.6      -0.40  \n",
       "2016-10-13            15.7             0.8      -1.75  "
      ]
     },
     "execution_count": 32,
     "metadata": {},
     "output_type": "execute_result"
    }
   ],
   "source": [
    "# Check for any negative daily GDD values (if any, need to be converted to 0)\n",
    "\n",
    "manhattan_weather_10.loc[manhattan_weather_10.daily_gdd < 0]"
   ]
  },
  {
   "cell_type": "code",
   "execution_count": 33,
   "metadata": {},
   "outputs": [],
   "source": [
    "# Assign negative daily gdd values to 0\n",
    "\n",
    "manhattan_weather_11 = manhattan_weather_10.copy()"
   ]
  },
  {
   "cell_type": "code",
   "execution_count": 34,
   "metadata": {},
   "outputs": [
    {
     "name": "stderr",
     "output_type": "stream",
     "text": [
      "/anaconda3/envs/ua-ag/lib/python3.7/site-packages/ipykernel_launcher.py:3: SettingWithCopyWarning: \n",
      "A value is trying to be set on a copy of a slice from a DataFrame\n",
      "\n",
      "See the caveats in the documentation: https://pandas.pydata.org/pandas-docs/stable/user_guide/indexing.html#returning-a-view-versus-a-copy\n",
      "  This is separate from the ipykernel package so we can avoid doing imports until\n",
      "/anaconda3/envs/ua-ag/lib/python3.7/site-packages/ipykernel_launcher.py:4: SettingWithCopyWarning: \n",
      "A value is trying to be set on a copy of a slice from a DataFrame\n",
      "\n",
      "See the caveats in the documentation: https://pandas.pydata.org/pandas-docs/stable/user_guide/indexing.html#returning-a-view-versus-a-copy\n",
      "  after removing the cwd from sys.path.\n"
     ]
    }
   ],
   "source": [
    "# ignore SeetingWithCopyWarning\n",
    "\n",
    "manhattan_weather_11['daily_gdd']['2016-10-12'] = 0\n",
    "manhattan_weather_11['daily_gdd']['2016-10-13'] = 0"
   ]
  },
  {
   "cell_type": "code",
   "execution_count": 35,
   "metadata": {},
   "outputs": [
    {
     "data": {
      "text/html": [
       "<div>\n",
       "<style scoped>\n",
       "    .dataframe tbody tr th:only-of-type {\n",
       "        vertical-align: middle;\n",
       "    }\n",
       "\n",
       "    .dataframe tbody tr th {\n",
       "        vertical-align: top;\n",
       "    }\n",
       "\n",
       "    .dataframe thead th {\n",
       "        text-align: right;\n",
       "    }\n",
       "</style>\n",
       "<table border=\"1\" class=\"dataframe\">\n",
       "  <thead>\n",
       "    <tr style=\"text-align: right;\">\n",
       "      <th></th>\n",
       "      <th>station</th>\n",
       "      <th>air_temp_max_F</th>\n",
       "      <th>air_temp_min_F</th>\n",
       "      <th>avg_rh</th>\n",
       "      <th>precip_total</th>\n",
       "      <th>avg_wind_speed</th>\n",
       "      <th>max_wind_speed</th>\n",
       "      <th>soil_temp_5cm_max</th>\n",
       "      <th>soil_temp_5cm_min</th>\n",
       "      <th>soil_temp_10cm_max</th>\n",
       "      <th>soil_temp_10cm_min</th>\n",
       "      <th>solar_rad</th>\n",
       "      <th>eto_grass</th>\n",
       "      <th>eto_alfalfa</th>\n",
       "      <th>date</th>\n",
       "      <th>day_of_year</th>\n",
       "      <th>air_temp_max_C</th>\n",
       "      <th>air_temp_min_C</th>\n",
       "      <th>daily_gdd</th>\n",
       "    </tr>\n",
       "    <tr>\n",
       "      <th>date</th>\n",
       "      <th></th>\n",
       "      <th></th>\n",
       "      <th></th>\n",
       "      <th></th>\n",
       "      <th></th>\n",
       "      <th></th>\n",
       "      <th></th>\n",
       "      <th></th>\n",
       "      <th></th>\n",
       "      <th></th>\n",
       "      <th></th>\n",
       "      <th></th>\n",
       "      <th></th>\n",
       "      <th></th>\n",
       "      <th></th>\n",
       "      <th></th>\n",
       "      <th></th>\n",
       "      <th></th>\n",
       "      <th></th>\n",
       "    </tr>\n",
       "  </thead>\n",
       "  <tbody>\n",
       "    <tr>\n",
       "      <th>2016-10-12</th>\n",
       "      <td>Manhattan</td>\n",
       "      <td>58.2</td>\n",
       "      <td>40.3</td>\n",
       "      <td>70.9</td>\n",
       "      <td>0.0</td>\n",
       "      <td>7.7</td>\n",
       "      <td>19.6</td>\n",
       "      <td>63.0</td>\n",
       "      <td>57.2</td>\n",
       "      <td>63.9</td>\n",
       "      <td>59.2</td>\n",
       "      <td>332.7</td>\n",
       "      <td>0.09</td>\n",
       "      <td>0.14</td>\n",
       "      <td>2016-10-12</td>\n",
       "      <td>286</td>\n",
       "      <td>14.6</td>\n",
       "      <td>4.6</td>\n",
       "      <td>0.0</td>\n",
       "    </tr>\n",
       "    <tr>\n",
       "      <th>2016-10-13</th>\n",
       "      <td>Manhattan</td>\n",
       "      <td>60.3</td>\n",
       "      <td>33.4</td>\n",
       "      <td>72.3</td>\n",
       "      <td>0.0</td>\n",
       "      <td>2.8</td>\n",
       "      <td>11.7</td>\n",
       "      <td>60.0</td>\n",
       "      <td>53.9</td>\n",
       "      <td>60.2</td>\n",
       "      <td>56.2</td>\n",
       "      <td>304.5</td>\n",
       "      <td>0.07</td>\n",
       "      <td>0.10</td>\n",
       "      <td>2016-10-13</td>\n",
       "      <td>287</td>\n",
       "      <td>15.7</td>\n",
       "      <td>0.8</td>\n",
       "      <td>0.0</td>\n",
       "    </tr>\n",
       "  </tbody>\n",
       "</table>\n",
       "</div>"
      ],
      "text/plain": [
       "              station  air_temp_max_F  air_temp_min_F  avg_rh  precip_total  \\\n",
       "date                                                                          \n",
       "2016-10-12  Manhattan            58.2            40.3    70.9           0.0   \n",
       "2016-10-13  Manhattan            60.3            33.4    72.3           0.0   \n",
       "\n",
       "            avg_wind_speed  max_wind_speed  soil_temp_5cm_max  \\\n",
       "date                                                            \n",
       "2016-10-12             7.7            19.6               63.0   \n",
       "2016-10-13             2.8            11.7               60.0   \n",
       "\n",
       "            soil_temp_5cm_min  soil_temp_10cm_max  soil_temp_10cm_min  \\\n",
       "date                                                                    \n",
       "2016-10-12               57.2                63.9                59.2   \n",
       "2016-10-13               53.9                60.2                56.2   \n",
       "\n",
       "            solar_rad  eto_grass  eto_alfalfa       date  day_of_year  \\\n",
       "date                                                                    \n",
       "2016-10-12      332.7       0.09         0.14 2016-10-12          286   \n",
       "2016-10-13      304.5       0.07         0.10 2016-10-13          287   \n",
       "\n",
       "            air_temp_max_C  air_temp_min_C  daily_gdd  \n",
       "date                                                   \n",
       "2016-10-12            14.6             4.6        0.0  \n",
       "2016-10-13            15.7             0.8        0.0  "
      ]
     },
     "execution_count": 35,
     "metadata": {},
     "output_type": "execute_result"
    }
   ],
   "source": [
    "# Check to see that negative values were successfully converted to 0\n",
    "\n",
    "manhattan_weather_11.loc[manhattan_weather_11.daily_gdd <= 0]"
   ]
  },
  {
   "cell_type": "code",
   "execution_count": 36,
   "metadata": {},
   "outputs": [
    {
     "data": {
      "text/html": [
       "<div>\n",
       "<style scoped>\n",
       "    .dataframe tbody tr th:only-of-type {\n",
       "        vertical-align: middle;\n",
       "    }\n",
       "\n",
       "    .dataframe tbody tr th {\n",
       "        vertical-align: top;\n",
       "    }\n",
       "\n",
       "    .dataframe thead th {\n",
       "        text-align: right;\n",
       "    }\n",
       "</style>\n",
       "<table border=\"1\" class=\"dataframe\">\n",
       "  <thead>\n",
       "    <tr style=\"text-align: right;\">\n",
       "      <th></th>\n",
       "      <th>station</th>\n",
       "      <th>air_temp_max_F</th>\n",
       "      <th>air_temp_min_F</th>\n",
       "      <th>avg_rh</th>\n",
       "      <th>precip_total</th>\n",
       "      <th>avg_wind_speed</th>\n",
       "      <th>max_wind_speed</th>\n",
       "      <th>soil_temp_5cm_max</th>\n",
       "      <th>soil_temp_5cm_min</th>\n",
       "      <th>soil_temp_10cm_max</th>\n",
       "      <th>soil_temp_10cm_min</th>\n",
       "      <th>solar_rad</th>\n",
       "      <th>eto_grass</th>\n",
       "      <th>eto_alfalfa</th>\n",
       "      <th>date</th>\n",
       "      <th>day_of_year</th>\n",
       "      <th>air_temp_max_C</th>\n",
       "      <th>air_temp_min_C</th>\n",
       "      <th>daily_gdd</th>\n",
       "    </tr>\n",
       "    <tr>\n",
       "      <th>date</th>\n",
       "      <th></th>\n",
       "      <th></th>\n",
       "      <th></th>\n",
       "      <th></th>\n",
       "      <th></th>\n",
       "      <th></th>\n",
       "      <th></th>\n",
       "      <th></th>\n",
       "      <th></th>\n",
       "      <th></th>\n",
       "      <th></th>\n",
       "      <th></th>\n",
       "      <th></th>\n",
       "      <th></th>\n",
       "      <th></th>\n",
       "      <th></th>\n",
       "      <th></th>\n",
       "      <th></th>\n",
       "      <th></th>\n",
       "    </tr>\n",
       "  </thead>\n",
       "  <tbody>\n",
       "  </tbody>\n",
       "</table>\n",
       "</div>"
      ],
      "text/plain": [
       "Empty DataFrame\n",
       "Columns: [station, air_temp_max_F, air_temp_min_F, avg_rh, precip_total, avg_wind_speed, max_wind_speed, soil_temp_5cm_max, soil_temp_5cm_min, soil_temp_10cm_max, soil_temp_10cm_min, solar_rad, eto_grass, eto_alfalfa, date, day_of_year, air_temp_max_C, air_temp_min_C, daily_gdd]\n",
       "Index: []"
      ]
     },
     "execution_count": 36,
     "metadata": {},
     "output_type": "execute_result"
    }
   ],
   "source": [
    "# should now return an empty df\n",
    "\n",
    "manhattan_weather_11.loc[manhattan_weather_11.daily_gdd < 0]"
   ]
  },
  {
   "cell_type": "code",
   "execution_count": 37,
   "metadata": {},
   "outputs": [
    {
     "name": "stdout",
     "output_type": "stream",
     "text": [
      "(127, 20)\n"
     ]
    }
   ],
   "source": [
    "# Add cumulative GDD, round to nearest integer\n",
    "\n",
    "manhattan_weather_12 = manhattan_weather_11.copy()\n",
    "\n",
    "manhattan_weather_12['gdd'] = np.rint(np.cumsum(manhattan_weather_12['daily_gdd']))\n",
    "print(manhattan_weather_12.shape)\n",
    "# manhattan_weather_12.tail()"
   ]
  },
  {
   "cell_type": "markdown",
   "metadata": {},
   "source": [
    "Drop `daily_gdd`"
   ]
  },
  {
   "cell_type": "code",
   "execution_count": 38,
   "metadata": {},
   "outputs": [
    {
     "name": "stdout",
     "output_type": "stream",
     "text": [
      "(127, 19)\n"
     ]
    }
   ],
   "source": [
    "manhattan_weather_13 = manhattan_weather_12.drop(labels=['daily_gdd'], axis=1)\n",
    "print(manhattan_weather_13.shape)\n",
    "# manhattan_weather_13.head()"
   ]
  },
  {
   "cell_type": "markdown",
   "metadata": {},
   "source": [
    "#### Write Manhattan Weather Data to `.csv`"
   ]
  },
  {
   "cell_type": "code",
   "execution_count": 39,
   "metadata": {},
   "outputs": [],
   "source": [
    "timestamp = datetime.datetime.now().replace(microsecond=0).isoformat()\n",
    "output_filename = f'ksu_weather_2016_daily_{timestamp}.csv'.replace(':', '')\n",
    "\n",
    "manhattan_weather_13.to_csv(output_filename)"
   ]
  },
  {
   "cell_type": "markdown",
   "metadata": {},
   "source": [
    "#### Add Day of Year & GDD to Days to Flowering DataFrame\n",
    "- slice trait data to only include `days_to_flowering`\n",
    "- merge DataFrames on `date_of_flowering`"
   ]
  },
  {
   "cell_type": "code",
   "execution_count": 40,
   "metadata": {},
   "outputs": [
    {
     "data": {
      "text/plain": [
       "array(['canopy_height', 'flowering_time'], dtype=object)"
      ]
     },
     "execution_count": 40,
     "metadata": {},
     "output_type": "execute_result"
    }
   ],
   "source": [
    "ksu_5.trait.unique()"
   ]
  },
  {
   "cell_type": "code",
   "execution_count": 41,
   "metadata": {},
   "outputs": [
    {
     "name": "stdout",
     "output_type": "stream",
     "text": [
      "(224, 13)\n"
     ]
    }
   ],
   "source": [
    "flowering_df_0 = ksu_5.loc[ksu_5.trait == 'flowering_time']\n",
    "print(flowering_df_0.shape)\n",
    "# flowering_df_0.head(3)"
   ]
  },
  {
   "cell_type": "code",
   "execution_count": 42,
   "metadata": {},
   "outputs": [
    {
     "data": {
      "text/plain": [
       "128"
      ]
     },
     "execution_count": 42,
     "metadata": {},
     "output_type": "execute_result"
    }
   ],
   "source": [
    "flowering_df_0.cultivar.nunique()"
   ]
  },
  {
   "cell_type": "markdown",
   "metadata": {},
   "source": [
    "#### Add `planting_date`\n",
    "- 2016-06-17"
   ]
  },
  {
   "cell_type": "code",
   "execution_count": 43,
   "metadata": {},
   "outputs": [
    {
     "name": "stdout",
     "output_type": "stream",
     "text": [
      "(224, 14)\n"
     ]
    }
   ],
   "source": [
    "day_of_planting = datetime.date(2016,6,17)\n",
    "flowering_df_1 = flowering_df_0.copy()\n",
    "\n",
    "flowering_df_1['date_of_planting'] = day_of_planting\n",
    "print(flowering_df_1.shape)\n",
    "# flowering_df_1.head(3)"
   ]
  },
  {
   "cell_type": "markdown",
   "metadata": {},
   "source": [
    "#### Create timedelta using `flowering_time` values"
   ]
  },
  {
   "cell_type": "code",
   "execution_count": 44,
   "metadata": {},
   "outputs": [
    {
     "name": "stdout",
     "output_type": "stream",
     "text": [
      "224\n",
      "224\n"
     ]
    }
   ],
   "source": [
    "timedelta_values = flowering_df_1['value'].values\n",
    "dates_of_flowering = []\n",
    "\n",
    "for val in timedelta_values:\n",
    "    \n",
    "    date_of_flowering = day_of_planting + datetime.timedelta(days=val)\n",
    "    dates_of_flowering.append(date_of_flowering)\n",
    "    \n",
    "print(flowering_df_1.shape[0])\n",
    "print(len(dates_of_flowering))"
   ]
  },
  {
   "cell_type": "code",
   "execution_count": 45,
   "metadata": {},
   "outputs": [
    {
     "name": "stdout",
     "output_type": "stream",
     "text": [
      "(224, 15)\n"
     ]
    }
   ],
   "source": [
    "flowering_df_2 = flowering_df_1.copy()\n",
    "flowering_df_2['date_of_flowering'] = dates_of_flowering\n",
    "print(flowering_df_2.shape)\n",
    "# flowering_df_2.sample(n = 3)"
   ]
  },
  {
   "cell_type": "markdown",
   "metadata": {},
   "source": [
    "#### Add GDD and day_of_year to flowering DataFrame"
   ]
  },
  {
   "cell_type": "code",
   "execution_count": 46,
   "metadata": {},
   "outputs": [],
   "source": [
    "ksu_gdd = manhattan_weather_13[['date', 'day_of_year', 'gdd']]"
   ]
  },
  {
   "cell_type": "code",
   "execution_count": 47,
   "metadata": {},
   "outputs": [
    {
     "data": {
      "text/html": [
       "<div>\n",
       "<style scoped>\n",
       "    .dataframe tbody tr th:only-of-type {\n",
       "        vertical-align: middle;\n",
       "    }\n",
       "\n",
       "    .dataframe tbody tr th {\n",
       "        vertical-align: top;\n",
       "    }\n",
       "\n",
       "    .dataframe thead th {\n",
       "        text-align: right;\n",
       "    }\n",
       "</style>\n",
       "<table border=\"1\" class=\"dataframe\">\n",
       "  <thead>\n",
       "    <tr style=\"text-align: right;\">\n",
       "      <th></th>\n",
       "      <th>date</th>\n",
       "      <th>day_of_year</th>\n",
       "      <th>gdd</th>\n",
       "    </tr>\n",
       "    <tr>\n",
       "      <th>date</th>\n",
       "      <th></th>\n",
       "      <th></th>\n",
       "      <th></th>\n",
       "    </tr>\n",
       "  </thead>\n",
       "  <tbody>\n",
       "    <tr>\n",
       "      <th>2016-06-17</th>\n",
       "      <td>2016-06-17</td>\n",
       "      <td>169</td>\n",
       "      <td>21.0</td>\n",
       "    </tr>\n",
       "    <tr>\n",
       "      <th>2016-06-18</th>\n",
       "      <td>2016-06-18</td>\n",
       "      <td>170</td>\n",
       "      <td>38.0</td>\n",
       "    </tr>\n",
       "    <tr>\n",
       "      <th>2016-06-19</th>\n",
       "      <td>2016-06-19</td>\n",
       "      <td>171</td>\n",
       "      <td>56.0</td>\n",
       "    </tr>\n",
       "    <tr>\n",
       "      <th>2016-06-20</th>\n",
       "      <td>2016-06-20</td>\n",
       "      <td>172</td>\n",
       "      <td>77.0</td>\n",
       "    </tr>\n",
       "    <tr>\n",
       "      <th>2016-06-21</th>\n",
       "      <td>2016-06-21</td>\n",
       "      <td>173</td>\n",
       "      <td>97.0</td>\n",
       "    </tr>\n",
       "  </tbody>\n",
       "</table>\n",
       "</div>"
      ],
      "text/plain": [
       "                 date  day_of_year   gdd\n",
       "date                                    \n",
       "2016-06-17 2016-06-17          169  21.0\n",
       "2016-06-18 2016-06-18          170  38.0\n",
       "2016-06-19 2016-06-19          171  56.0\n",
       "2016-06-20 2016-06-20          172  77.0\n",
       "2016-06-21 2016-06-21          173  97.0"
      ]
     },
     "execution_count": 47,
     "metadata": {},
     "output_type": "execute_result"
    }
   ],
   "source": [
    "ksu_gdd.head()"
   ]
  },
  {
   "cell_type": "code",
   "execution_count": 48,
   "metadata": {},
   "outputs": [
    {
     "data": {
      "text/plain": [
       "sitename                                             object\n",
       "lat                                                 float64\n",
       "lon                                                 float64\n",
       "raw_date                                             object\n",
       "trait                                                object\n",
       "trait_description                                    object\n",
       "value                                               float64\n",
       "units                                                object\n",
       "cultivar                                             object\n",
       "method_name                                          object\n",
       "date                 datetime64[ns, pytz.FixedOffset(-300)]\n",
       "range                                                 int64\n",
       "pass                                                  int64\n",
       "date_of_planting                                     object\n",
       "date_of_flowering                            datetime64[ns]\n",
       "dtype: object"
      ]
     },
     "execution_count": 48,
     "metadata": {},
     "output_type": "execute_result"
    }
   ],
   "source": [
    "flowering_df_3 = flowering_df_2.copy()\n",
    "flowering_df_3.date_of_flowering = pd.to_datetime(flowering_df_3.date_of_flowering)\n",
    "flowering_df_3.dtypes"
   ]
  },
  {
   "cell_type": "code",
   "execution_count": 49,
   "metadata": {},
   "outputs": [
    {
     "name": "stdout",
     "output_type": "stream",
     "text": [
      "(224, 18)\n"
     ]
    }
   ],
   "source": [
    "flowering_df_4 = flowering_df_3.merge(ksu_gdd, how='left', left_on='date_of_flowering', right_on=ksu_gdd.index)\n",
    "print(flowering_df_4.shape)\n",
    "# flowering_df_4.head(3)"
   ]
  },
  {
   "cell_type": "markdown",
   "metadata": {},
   "source": [
    "#### Drop all date columns except `date_of_flowering`"
   ]
  },
  {
   "cell_type": "code",
   "execution_count": 50,
   "metadata": {},
   "outputs": [
    {
     "name": "stdout",
     "output_type": "stream",
     "text": [
      "(224, 14)\n"
     ]
    }
   ],
   "source": [
    "date_cols_to_drop = ['date_x', 'raw_date', 'date_of_planting', 'date_y']\n",
    "flowering_df_5 = flowering_df_4.drop(labels=date_cols_to_drop, axis=1)\n",
    "print(flowering_df_5.shape)\n",
    "# flowering_df_5.tail(3)"
   ]
  },
  {
   "cell_type": "markdown",
   "metadata": {},
   "source": [
    "#### Check for duplicates"
   ]
  },
  {
   "cell_type": "code",
   "execution_count": 51,
   "metadata": {},
   "outputs": [
    {
     "data": {
      "text/plain": [
       "False    224\n",
       "dtype: int64"
      ]
     },
     "execution_count": 51,
     "metadata": {},
     "output_type": "execute_result"
    }
   ],
   "source": [
    "flowering_df_5.duplicated().value_counts()"
   ]
  },
  {
   "cell_type": "markdown",
   "metadata": {},
   "source": [
    "#### Sort flowering dataframe by `date`"
   ]
  },
  {
   "cell_type": "code",
   "execution_count": 52,
   "metadata": {},
   "outputs": [],
   "source": [
    "flowering_df_6 = flowering_df_5.sort_values(by='date_of_flowering', ascending=True).reset_index(drop=True)\n",
    "# flowering_df_6.head()"
   ]
  },
  {
   "cell_type": "markdown",
   "metadata": {},
   "source": [
    "#### Write flowering dataframe to `.csv`"
   ]
  },
  {
   "cell_type": "code",
   "execution_count": 53,
   "metadata": {},
   "outputs": [],
   "source": [
    "timestamp = datetime.datetime.now().replace(microsecond=0).isoformat()\n",
    "output_filename = f'ksu_flowering_{timestamp}.csv'.replace(':', '')\n",
    "\n",
    "flowering_df_6.to_csv(output_filename, index=False)"
   ]
  },
  {
   "cell_type": "markdown",
   "metadata": {},
   "source": [
    "#### Canopy Height DataFrame"
   ]
  },
  {
   "cell_type": "code",
   "execution_count": 54,
   "metadata": {},
   "outputs": [
    {
     "data": {
      "text/plain": [
       "canopy_height     5273\n",
       "flowering_time     224\n",
       "Name: trait, dtype: int64"
      ]
     },
     "execution_count": 54,
     "metadata": {},
     "output_type": "execute_result"
    }
   ],
   "source": [
    "ksu_5.trait.value_counts()"
   ]
  },
  {
   "cell_type": "code",
   "execution_count": 55,
   "metadata": {},
   "outputs": [
    {
     "name": "stdout",
     "output_type": "stream",
     "text": [
      "(5273, 13)\n"
     ]
    }
   ],
   "source": [
    "canopy_0 = ksu_5.loc[ksu_5.trait == 'canopy_height']\n",
    "print(canopy_0.shape)\n",
    "# canopy_0.head(3)"
   ]
  },
  {
   "cell_type": "markdown",
   "metadata": {},
   "source": [
    "#### Drop `raw_date`"
   ]
  },
  {
   "cell_type": "code",
   "execution_count": 56,
   "metadata": {},
   "outputs": [
    {
     "name": "stdout",
     "output_type": "stream",
     "text": [
      "(5273, 12)\n"
     ]
    }
   ],
   "source": [
    "canopy_1 = canopy_0.drop(labels=['raw_date'], axis=1)\n",
    "print(canopy_1.shape)\n",
    "# canopy_1.head(3)"
   ]
  },
  {
   "cell_type": "markdown",
   "metadata": {},
   "source": [
    "#### Sort by Date"
   ]
  },
  {
   "cell_type": "code",
   "execution_count": 57,
   "metadata": {},
   "outputs": [
    {
     "data": {
      "text/plain": [
       "sitename                     object\n",
       "lat                         float64\n",
       "lon                         float64\n",
       "trait                        object\n",
       "trait_description            object\n",
       "value                       float64\n",
       "units                        object\n",
       "cultivar                     object\n",
       "method_name                  object\n",
       "date                 datetime64[ns]\n",
       "range                         int64\n",
       "pass                          int64\n",
       "dtype: object"
      ]
     },
     "execution_count": 57,
     "metadata": {},
     "output_type": "execute_result"
    }
   ],
   "source": [
    "canopy_2 = canopy_1.copy()\n",
    "\n",
    "canopy_2['date'] = canopy_2['date'].astype('datetime64[ns]')\n",
    "canopy_2.dtypes"
   ]
  },
  {
   "cell_type": "code",
   "execution_count": 58,
   "metadata": {},
   "outputs": [
    {
     "name": "stdout",
     "output_type": "stream",
     "text": [
      "(5273, 11)\n"
     ]
    }
   ],
   "source": [
    "canopy_3 = canopy_2.set_index(keys=['date'], drop=True)\n",
    "print(canopy_3.shape)\n",
    "# canopy_3.head()"
   ]
  },
  {
   "cell_type": "code",
   "execution_count": 59,
   "metadata": {},
   "outputs": [
    {
     "name": "stdout",
     "output_type": "stream",
     "text": [
      "(5273, 11)\n"
     ]
    }
   ],
   "source": [
    "canopy_4 = canopy_3.sort_index()\n",
    "print(canopy_4.shape)\n",
    "# canopy_4.head()"
   ]
  },
  {
   "cell_type": "markdown",
   "metadata": {},
   "source": [
    "#### Write to `.csv`"
   ]
  },
  {
   "cell_type": "code",
   "execution_count": 60,
   "metadata": {},
   "outputs": [],
   "source": [
    "timestamp = datetime.datetime.now().replace(microsecond=0).isoformat()\n",
    "output_filename = f'ksu_canopy_heights_{timestamp}.csv'.replace(':', '')\n",
    "\n",
    "canopy_4.to_csv(output_filename, index=False)"
   ]
  }
 ],
 "metadata": {
  "kernelspec": {
   "display_name": "Python 3",
   "language": "python",
   "name": "python3"
  },
  "language_info": {
   "codemirror_mode": {
    "name": "ipython",
    "version": 3
   },
   "file_extension": ".py",
   "mimetype": "text/x-python",
   "name": "python",
   "nbconvert_exporter": "python",
   "pygments_lexer": "ipython3",
   "version": "3.7.5"
  }
 },
 "nbformat": 4,
 "nbformat_minor": 2
}
