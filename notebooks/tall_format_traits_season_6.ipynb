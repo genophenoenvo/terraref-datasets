{
 "cells": [
  {
   "cell_type": "markdown",
   "metadata": {},
   "source": [
    "## Tall Format Trait Table Season 6\n",
    "### Columns\n",
    "* Date\n",
    "* Sitename\n",
    "* Range\n",
    "* Column\n",
    "* Cultivar\n",
    "* Trait\n",
    "* Trait Value\n",
    "\n",
    "### Season Dates\n",
    "* Planting: 2018-04-25\n",
    "    * 700 experimental 2-row plots\n",
    "* Days of Harvest: 2018-07-31 & 2018-08-01\n",
    "\n",
    "### Notes and ToDos for this table\n",
    "* Add trait id - where is this located?\n",
    "* Can wait for feedback on the best way to incorporate TO Mappings\n",
    "* Add GDD?\n",
    "* Is there other Season 6 trait data located elsewhere? "
   ]
  },
  {
   "cell_type": "code",
   "execution_count": 1,
   "metadata": {},
   "outputs": [],
   "source": [
    "import datetime\n",
    "import numpy as np\n",
    "import pandas as pd"
   ]
  },
  {
   "cell_type": "code",
   "execution_count": 4,
   "metadata": {},
   "outputs": [
    {
     "data": {
      "text/plain": [
       "(925563, 38)"
      ]
     },
     "execution_count": 4,
     "metadata": {},
     "output_type": "execute_result"
    }
   ],
   "source": [
    "df_0 = pd.read_csv('data/raw/season_6_traits.csv', low_memory=False)\n",
    "df_0.shape"
   ]
  },
  {
   "cell_type": "code",
   "execution_count": 5,
   "metadata": {},
   "outputs": [
    {
     "data": {
      "text/plain": [
       "Index(['checked', 'result_type', 'id', 'citation_id', 'site_id',\n",
       "       'treatment_id', 'sitename', 'city', 'lat', 'lon', 'scientificname',\n",
       "       'commonname', 'genus', 'species_id', 'cultivar_id', 'author',\n",
       "       'citation_year', 'treatment', 'date', 'time', 'raw_date', 'month',\n",
       "       'year', 'dateloc', 'trait', 'trait_description', 'mean', 'units', 'n',\n",
       "       'statname', 'stat', 'notes', 'access_level', 'cultivar', 'entity',\n",
       "       'method_name', 'view_url', 'edit_url'],\n",
       "      dtype='object')"
      ]
     },
     "execution_count": 5,
     "metadata": {},
     "output_type": "execute_result"
    }
   ],
   "source": [
    "df_0.columns"
   ]
  },
  {
   "cell_type": "code",
   "execution_count": 17,
   "metadata": {},
   "outputs": [],
   "source": [
    "cols_to_drop = ['checked', 'result_type', 'id', 'citation_id', 'site_id', 'treatment_id', 'city', \n",
    "                'scientificname', 'commonname', 'genus', 'species_id', 'cultivar_id', 'author', 'citation_year',\n",
    "                'treatment', 'time', 'dateloc', 'trait_description', 'units', 'n', 'statname',\n",
    "                'stat', 'notes', 'access_level', 'entity', 'method_name', 'view_url', 'edit_url']"
   ]
  },
  {
   "cell_type": "code",
   "execution_count": 18,
   "metadata": {},
   "outputs": [
    {
     "data": {
      "text/html": [
       "<div>\n",
       "<style scoped>\n",
       "    .dataframe tbody tr th:only-of-type {\n",
       "        vertical-align: middle;\n",
       "    }\n",
       "\n",
       "    .dataframe tbody tr th {\n",
       "        vertical-align: top;\n",
       "    }\n",
       "\n",
       "    .dataframe thead th {\n",
       "        text-align: right;\n",
       "    }\n",
       "</style>\n",
       "<table border=\"1\" class=\"dataframe\">\n",
       "  <thead>\n",
       "    <tr style=\"text-align: right;\">\n",
       "      <th></th>\n",
       "      <th>sitename</th>\n",
       "      <th>lat</th>\n",
       "      <th>lon</th>\n",
       "      <th>date</th>\n",
       "      <th>raw_date</th>\n",
       "      <th>month</th>\n",
       "      <th>year</th>\n",
       "      <th>trait</th>\n",
       "      <th>mean</th>\n",
       "      <th>cultivar</th>\n",
       "    </tr>\n",
       "  </thead>\n",
       "  <tbody>\n",
       "    <tr>\n",
       "      <th>0</th>\n",
       "      <td>MAC Field Scanner Season 6 Range 16 Column 14 W</td>\n",
       "      <td>33.075087</td>\n",
       "      <td>-111.974839</td>\n",
       "      <td>2018 May 30 (America/Phoenix)</td>\n",
       "      <td>2018-05-30 02:00:00 -0500</td>\n",
       "      <td>5</td>\n",
       "      <td>2018</td>\n",
       "      <td>leaf_width</td>\n",
       "      <td>20.7</td>\n",
       "      <td>PI563022</td>\n",
       "    </tr>\n",
       "    <tr>\n",
       "      <th>1</th>\n",
       "      <td>MAC Field Scanner Season 6 Range 16 Column 14 W</td>\n",
       "      <td>33.075087</td>\n",
       "      <td>-111.974839</td>\n",
       "      <td>2018 May 31 (America/Phoenix)</td>\n",
       "      <td>2018-05-31 02:00:00 -0500</td>\n",
       "      <td>5</td>\n",
       "      <td>2018</td>\n",
       "      <td>leaf_width</td>\n",
       "      <td>22.1</td>\n",
       "      <td>PI563022</td>\n",
       "    </tr>\n",
       "    <tr>\n",
       "      <th>2</th>\n",
       "      <td>MAC Field Scanner Season 6 Range 16 Column 14 W</td>\n",
       "      <td>33.075087</td>\n",
       "      <td>-111.974839</td>\n",
       "      <td>2018 Jun 1 (America/Phoenix)</td>\n",
       "      <td>2018-06-01 02:00:00 -0500</td>\n",
       "      <td>6</td>\n",
       "      <td>2018</td>\n",
       "      <td>leaf_width</td>\n",
       "      <td>22.9</td>\n",
       "      <td>PI563022</td>\n",
       "    </tr>\n",
       "    <tr>\n",
       "      <th>3</th>\n",
       "      <td>MAC Field Scanner Season 6 Range 16 Column 14 W</td>\n",
       "      <td>33.075087</td>\n",
       "      <td>-111.974839</td>\n",
       "      <td>2018 Jun 2 (America/Phoenix)</td>\n",
       "      <td>2018-06-02 02:00:00 -0500</td>\n",
       "      <td>6</td>\n",
       "      <td>2018</td>\n",
       "      <td>leaf_width</td>\n",
       "      <td>23.7</td>\n",
       "      <td>PI563022</td>\n",
       "    </tr>\n",
       "    <tr>\n",
       "      <th>4</th>\n",
       "      <td>MAC Field Scanner Season 6 Range 16 Column 14 W</td>\n",
       "      <td>33.075087</td>\n",
       "      <td>-111.974839</td>\n",
       "      <td>2018 Jun 3 (America/Phoenix)</td>\n",
       "      <td>2018-06-03 02:00:00 -0500</td>\n",
       "      <td>6</td>\n",
       "      <td>2018</td>\n",
       "      <td>leaf_width</td>\n",
       "      <td>24.5</td>\n",
       "      <td>PI563022</td>\n",
       "    </tr>\n",
       "  </tbody>\n",
       "</table>\n",
       "</div>"
      ],
      "text/plain": [
       "                                          sitename        lat         lon  \\\n",
       "0  MAC Field Scanner Season 6 Range 16 Column 14 W  33.075087 -111.974839   \n",
       "1  MAC Field Scanner Season 6 Range 16 Column 14 W  33.075087 -111.974839   \n",
       "2  MAC Field Scanner Season 6 Range 16 Column 14 W  33.075087 -111.974839   \n",
       "3  MAC Field Scanner Season 6 Range 16 Column 14 W  33.075087 -111.974839   \n",
       "4  MAC Field Scanner Season 6 Range 16 Column 14 W  33.075087 -111.974839   \n",
       "\n",
       "                            date                   raw_date  month  year  \\\n",
       "0  2018 May 30 (America/Phoenix)  2018-05-30 02:00:00 -0500      5  2018   \n",
       "1  2018 May 31 (America/Phoenix)  2018-05-31 02:00:00 -0500      5  2018   \n",
       "2   2018 Jun 1 (America/Phoenix)  2018-06-01 02:00:00 -0500      6  2018   \n",
       "3   2018 Jun 2 (America/Phoenix)  2018-06-02 02:00:00 -0500      6  2018   \n",
       "4   2018 Jun 3 (America/Phoenix)  2018-06-03 02:00:00 -0500      6  2018   \n",
       "\n",
       "        trait  mean  cultivar  \n",
       "0  leaf_width  20.7  PI563022  \n",
       "1  leaf_width  22.1  PI563022  \n",
       "2  leaf_width  22.9  PI563022  \n",
       "3  leaf_width  23.7  PI563022  \n",
       "4  leaf_width  24.5  PI563022  "
      ]
     },
     "execution_count": 18,
     "metadata": {},
     "output_type": "execute_result"
    }
   ],
   "source": [
    "df_1 = df_0.drop(labels=cols_to_drop, axis=1)\n",
    "# df_1.head()"
   ]
  },
  {
   "cell_type": "markdown",
   "metadata": {},
   "source": [
    "### Season Dates"
   ]
  },
  {
   "cell_type": "code",
   "execution_count": 19,
   "metadata": {},
   "outputs": [
    {
     "name": "stdout",
     "output_type": "stream",
     "text": [
      "Earliest raw date: 2017-07-05 14:00:00 -0500\n",
      "Latest raw date: 2018-08-22 14:00:00 -0500\n",
      " \n",
      "Earliest AZ date: 2017 Jul 5\n",
      "Latest AZ date: 2018 May 9\n"
     ]
    }
   ],
   "source": [
    "print(f'Earliest raw date: {df_1.raw_date.min()}')\n",
    "print(f'Latest raw date: {df_1.raw_date.max()}')\n",
    "print(' ')\n",
    "print(f'Earliest AZ date: {df_1.date.min()}')\n",
    "print(f'Latest AZ date: {df_1.date.max()}')"
   ]
  },
  {
   "cell_type": "code",
   "execution_count": 20,
   "metadata": {},
   "outputs": [],
   "source": [
    "# those dates. . . are not correct"
   ]
  },
  {
   "cell_type": "code",
   "execution_count": 21,
   "metadata": {},
   "outputs": [
    {
     "data": {
      "text/plain": [
       "array([2018, 2017])"
      ]
     },
     "execution_count": 21,
     "metadata": {},
     "output_type": "execute_result"
    }
   ],
   "source": [
    "df_1.year.unique()"
   ]
  },
  {
   "cell_type": "code",
   "execution_count": 27,
   "metadata": {},
   "outputs": [
    {
     "data": {
      "text/plain": [
       "(368, 10)"
      ]
     },
     "execution_count": 27,
     "metadata": {},
     "output_type": "execute_result"
    }
   ],
   "source": [
    "year_2017 = df_1.loc[df_1.year == 2017].shape\n",
    "year_2017."
   ]
  },
  {
   "cell_type": "code",
   "execution_count": 28,
   "metadata": {},
   "outputs": [
    {
     "name": "stdout",
     "output_type": "stream",
     "text": [
      "Number of unique values for sitename: 185\n",
      "Number of unique values for lat: 185\n",
      "Number of unique values for lon: 185\n",
      "Number of unique values for date: 1\n",
      "Unique values for date: ['2017 Jul 5']\n",
      "Number of unique values for raw_date: 1\n",
      "Unique values for raw_date: ['2017-07-05 14:00:00 -0500']\n",
      "Number of unique values for month: 1\n",
      "Unique values for month: [7]\n",
      "Number of unique values for year: 1\n",
      "Unique values for year: [2017]\n",
      "Number of unique values for trait: 1\n",
      "Unique values for trait: ['surface_temperature']\n",
      "Number of unique values for mean: 185\n",
      "Number of unique values for cultivar: 121\n"
     ]
    }
   ],
   "source": [
    "# year_2017.head()\n",
    "\n",
    "for col in year_2017.columns:\n",
    "    print(f'Number of unique values for {col}: {year_2017[col].nunique()}')\n",
    "    \n",
    "    if year_2017[col].nunique() < 5:\n",
    "        print(f'Unique values for {col}: {year_2017[col].unique()}')"
   ]
  },
  {
   "cell_type": "markdown",
   "metadata": {},
   "source": [
    "### I. Slice the dataframe to only include 2018 dates\n",
    "* '2017-7-05' does not belong - follow up on this"
   ]
  },
  {
   "cell_type": "code",
   "execution_count": 39,
   "metadata": {},
   "outputs": [
    {
     "data": {
      "text/plain": [
       "(925195, 10)"
      ]
     },
     "execution_count": 39,
     "metadata": {},
     "output_type": "execute_result"
    }
   ],
   "source": [
    "df_2 = df_1.loc[df_1.year == 2018]\n",
    "df_2.shape"
   ]
  },
  {
   "cell_type": "code",
   "execution_count": 33,
   "metadata": {},
   "outputs": [
    {
     "name": "stdout",
     "output_type": "stream",
     "text": [
      "164\n",
      "164\n"
     ]
    }
   ],
   "source": [
    "# print(df_2.raw_date.nunique())\n",
    "# print(df_2.date.nunique())"
   ]
  },
  {
   "cell_type": "markdown",
   "metadata": {},
   "source": [
    "### I. Change AZ date values to iso date format and strip `America/Phoenix` from string dates\n",
    "* date(s) as index?"
   ]
  },
  {
   "cell_type": "code",
   "execution_count": 40,
   "metadata": {},
   "outputs": [
    {
     "name": "stdout",
     "output_type": "stream",
     "text": [
      "925195\n"
     ]
    }
   ],
   "source": [
    "new_dates = []\n",
    "\n",
    "for d in df_2.date.values:\n",
    "    \n",
    "    if 'Phoenix' in d:\n",
    "        new_name = d[:-18]\n",
    "        new_dates.append(new_name)\n",
    "    \n",
    "    else:\n",
    "        new_name = d\n",
    "        new_dates.append(new_name)\n",
    "        \n",
    "print(len(new_dates))"
   ]
  },
  {
   "cell_type": "code",
   "execution_count": 41,
   "metadata": {},
   "outputs": [],
   "source": [
    "iso_format_dates = pd.to_datetime(new_dates)"
   ]
  },
  {
   "cell_type": "code",
   "execution_count": 42,
   "metadata": {},
   "outputs": [
    {
     "data": {
      "text/html": [
       "<div>\n",
       "<style scoped>\n",
       "    .dataframe tbody tr th:only-of-type {\n",
       "        vertical-align: middle;\n",
       "    }\n",
       "\n",
       "    .dataframe tbody tr th {\n",
       "        vertical-align: top;\n",
       "    }\n",
       "\n",
       "    .dataframe thead th {\n",
       "        text-align: right;\n",
       "    }\n",
       "</style>\n",
       "<table border=\"1\" class=\"dataframe\">\n",
       "  <thead>\n",
       "    <tr style=\"text-align: right;\">\n",
       "      <th></th>\n",
       "      <th>sitename</th>\n",
       "      <th>lat</th>\n",
       "      <th>lon</th>\n",
       "      <th>date</th>\n",
       "      <th>raw_date</th>\n",
       "      <th>month</th>\n",
       "      <th>year</th>\n",
       "      <th>trait</th>\n",
       "      <th>mean</th>\n",
       "      <th>cultivar</th>\n",
       "      <th>date_1</th>\n",
       "    </tr>\n",
       "  </thead>\n",
       "  <tbody>\n",
       "    <tr>\n",
       "      <th>0</th>\n",
       "      <td>MAC Field Scanner Season 6 Range 16 Column 14 W</td>\n",
       "      <td>33.075087</td>\n",
       "      <td>-111.974839</td>\n",
       "      <td>2018 May 30 (America/Phoenix)</td>\n",
       "      <td>2018-05-30 02:00:00 -0500</td>\n",
       "      <td>5</td>\n",
       "      <td>2018</td>\n",
       "      <td>leaf_width</td>\n",
       "      <td>20.7</td>\n",
       "      <td>PI563022</td>\n",
       "      <td>2018-05-30</td>\n",
       "    </tr>\n",
       "    <tr>\n",
       "      <th>1</th>\n",
       "      <td>MAC Field Scanner Season 6 Range 16 Column 14 W</td>\n",
       "      <td>33.075087</td>\n",
       "      <td>-111.974839</td>\n",
       "      <td>2018 May 31 (America/Phoenix)</td>\n",
       "      <td>2018-05-31 02:00:00 -0500</td>\n",
       "      <td>5</td>\n",
       "      <td>2018</td>\n",
       "      <td>leaf_width</td>\n",
       "      <td>22.1</td>\n",
       "      <td>PI563022</td>\n",
       "      <td>2018-05-31</td>\n",
       "    </tr>\n",
       "    <tr>\n",
       "      <th>2</th>\n",
       "      <td>MAC Field Scanner Season 6 Range 16 Column 14 W</td>\n",
       "      <td>33.075087</td>\n",
       "      <td>-111.974839</td>\n",
       "      <td>2018 Jun 1 (America/Phoenix)</td>\n",
       "      <td>2018-06-01 02:00:00 -0500</td>\n",
       "      <td>6</td>\n",
       "      <td>2018</td>\n",
       "      <td>leaf_width</td>\n",
       "      <td>22.9</td>\n",
       "      <td>PI563022</td>\n",
       "      <td>2018-06-01</td>\n",
       "    </tr>\n",
       "    <tr>\n",
       "      <th>3</th>\n",
       "      <td>MAC Field Scanner Season 6 Range 16 Column 14 W</td>\n",
       "      <td>33.075087</td>\n",
       "      <td>-111.974839</td>\n",
       "      <td>2018 Jun 2 (America/Phoenix)</td>\n",
       "      <td>2018-06-02 02:00:00 -0500</td>\n",
       "      <td>6</td>\n",
       "      <td>2018</td>\n",
       "      <td>leaf_width</td>\n",
       "      <td>23.7</td>\n",
       "      <td>PI563022</td>\n",
       "      <td>2018-06-02</td>\n",
       "    </tr>\n",
       "    <tr>\n",
       "      <th>4</th>\n",
       "      <td>MAC Field Scanner Season 6 Range 16 Column 14 W</td>\n",
       "      <td>33.075087</td>\n",
       "      <td>-111.974839</td>\n",
       "      <td>2018 Jun 3 (America/Phoenix)</td>\n",
       "      <td>2018-06-03 02:00:00 -0500</td>\n",
       "      <td>6</td>\n",
       "      <td>2018</td>\n",
       "      <td>leaf_width</td>\n",
       "      <td>24.5</td>\n",
       "      <td>PI563022</td>\n",
       "      <td>2018-06-03</td>\n",
       "    </tr>\n",
       "  </tbody>\n",
       "</table>\n",
       "</div>"
      ],
      "text/plain": [
       "                                          sitename        lat         lon  \\\n",
       "0  MAC Field Scanner Season 6 Range 16 Column 14 W  33.075087 -111.974839   \n",
       "1  MAC Field Scanner Season 6 Range 16 Column 14 W  33.075087 -111.974839   \n",
       "2  MAC Field Scanner Season 6 Range 16 Column 14 W  33.075087 -111.974839   \n",
       "3  MAC Field Scanner Season 6 Range 16 Column 14 W  33.075087 -111.974839   \n",
       "4  MAC Field Scanner Season 6 Range 16 Column 14 W  33.075087 -111.974839   \n",
       "\n",
       "                            date                   raw_date  month  year  \\\n",
       "0  2018 May 30 (America/Phoenix)  2018-05-30 02:00:00 -0500      5  2018   \n",
       "1  2018 May 31 (America/Phoenix)  2018-05-31 02:00:00 -0500      5  2018   \n",
       "2   2018 Jun 1 (America/Phoenix)  2018-06-01 02:00:00 -0500      6  2018   \n",
       "3   2018 Jun 2 (America/Phoenix)  2018-06-02 02:00:00 -0500      6  2018   \n",
       "4   2018 Jun 3 (America/Phoenix)  2018-06-03 02:00:00 -0500      6  2018   \n",
       "\n",
       "        trait  mean  cultivar     date_1  \n",
       "0  leaf_width  20.7  PI563022 2018-05-30  \n",
       "1  leaf_width  22.1  PI563022 2018-05-31  \n",
       "2  leaf_width  22.9  PI563022 2018-06-01  \n",
       "3  leaf_width  23.7  PI563022 2018-06-02  \n",
       "4  leaf_width  24.5  PI563022 2018-06-03  "
      ]
     },
     "execution_count": 42,
     "metadata": {},
     "output_type": "execute_result"
    }
   ],
   "source": [
    "df_3 = df_2.copy()\n",
    "\n",
    "df_3['date_1'] = iso_format_dates\n",
    "# df_3.head()"
   ]
  },
  {
   "cell_type": "code",
   "execution_count": 43,
   "metadata": {},
   "outputs": [
    {
     "data": {
      "text/plain": [
       "sitename            object\n",
       "lat                float64\n",
       "lon                float64\n",
       "date                object\n",
       "raw_date            object\n",
       "month                int64\n",
       "year                 int64\n",
       "trait               object\n",
       "mean               float64\n",
       "cultivar            object\n",
       "date_1      datetime64[ns]\n",
       "dtype: object"
      ]
     },
     "execution_count": 43,
     "metadata": {},
     "output_type": "execute_result"
    }
   ],
   "source": [
    "df_3.dtypes"
   ]
  },
  {
   "cell_type": "markdown",
   "metadata": {},
   "source": [
    "#### Drop other date columns"
   ]
  },
  {
   "cell_type": "code",
   "execution_count": 44,
   "metadata": {},
   "outputs": [
    {
     "data": {
      "text/plain": [
       "(925195, 7)"
      ]
     },
     "execution_count": 44,
     "metadata": {},
     "output_type": "execute_result"
    }
   ],
   "source": [
    "other_date_cols = ['date', 'raw_date', 'month', 'year']\n",
    "df_4 = df_3.drop(other_date_cols, axis=1)\n",
    "df_4.shape"
   ]
  },
  {
   "cell_type": "code",
   "execution_count": 46,
   "metadata": {},
   "outputs": [
    {
     "data": {
      "text/plain": [
       "array(['leaf_width', 'surface_temperature', 'canopy_cover', 'leaf_length',\n",
       "       'canopy_height', 'panicle_count', 'panicle_volume',\n",
       "       'panicle_surface_area', 'aboveground_dry_biomass',\n",
       "       'aboveground_fresh_biomass', 'stalk_diameter_fixed_height',\n",
       "       'aboveground_biomass_moisture', 'leaf_angle_mean',\n",
       "       'leaf_angle_alpha', 'leaf_angle_beta', 'leaf_angle_chi'],\n",
       "      dtype=object)"
      ]
     },
     "execution_count": 46,
     "metadata": {},
     "output_type": "execute_result"
    }
   ],
   "source": [
    "df_4.trait.unique()"
   ]
  },
  {
   "cell_type": "markdown",
   "metadata": {},
   "source": [
    "### II. Subset traits\n",
    "Needed now:\n",
    "* `aboveground_dry_biomass`\n",
    "* `canopy_height`"
   ]
  },
  {
   "cell_type": "code",
   "execution_count": 60,
   "metadata": {},
   "outputs": [
    {
     "data": {
      "text/plain": [
       "(48663, 7)"
      ]
     },
     "execution_count": 60,
     "metadata": {},
     "output_type": "execute_result"
    }
   ],
   "source": [
    "df_5 = df_4.loc[(df_4.trait == 'aboveground_dry_biomass') | (df_4.trait == 'canopy_height')]\n",
    "df_5.shape"
   ]
  },
  {
   "cell_type": "code",
   "execution_count": 61,
   "metadata": {},
   "outputs": [
    {
     "data": {
      "text/plain": [
       "83"
      ]
     },
     "execution_count": 61,
     "metadata": {},
     "output_type": "execute_result"
    }
   ],
   "source": [
    "df_5.date_1.nunique()"
   ]
  },
  {
   "cell_type": "code",
   "execution_count": 52,
   "metadata": {},
   "outputs": [
    {
     "data": {
      "text/plain": [
       "2"
      ]
     },
     "execution_count": 52,
     "metadata": {},
     "output_type": "execute_result"
    }
   ],
   "source": [
    "# df_5.loc[df_5.trait == 'aboveground_dry_biomass'].date_1.nunique()"
   ]
  },
  {
   "cell_type": "code",
   "execution_count": 58,
   "metadata": {},
   "outputs": [
    {
     "data": {
      "text/plain": [
       "81"
      ]
     },
     "execution_count": 58,
     "metadata": {},
     "output_type": "execute_result"
    }
   ],
   "source": [
    "# df_5.loc[df_5.trait == 'canopy_height'].date_1.nunique()"
   ]
  },
  {
   "cell_type": "markdown",
   "metadata": {},
   "source": [
    "### III. Extract Range and Column Values"
   ]
  },
  {
   "cell_type": "code",
   "execution_count": 62,
   "metadata": {},
   "outputs": [
    {
     "data": {
      "text/html": [
       "<div>\n",
       "<style scoped>\n",
       "    .dataframe tbody tr th:only-of-type {\n",
       "        vertical-align: middle;\n",
       "    }\n",
       "\n",
       "    .dataframe tbody tr th {\n",
       "        vertical-align: top;\n",
       "    }\n",
       "\n",
       "    .dataframe thead th {\n",
       "        text-align: right;\n",
       "    }\n",
       "</style>\n",
       "<table border=\"1\" class=\"dataframe\">\n",
       "  <thead>\n",
       "    <tr style=\"text-align: right;\">\n",
       "      <th></th>\n",
       "      <th>sitename</th>\n",
       "      <th>lat</th>\n",
       "      <th>lon</th>\n",
       "      <th>trait</th>\n",
       "      <th>mean</th>\n",
       "      <th>cultivar</th>\n",
       "      <th>date_1</th>\n",
       "      <th>range</th>\n",
       "      <th>column</th>\n",
       "    </tr>\n",
       "  </thead>\n",
       "  <tbody>\n",
       "    <tr>\n",
       "      <th>857460</th>\n",
       "      <td>MAC Field Scanner Season 6 Range 28 Column 7</td>\n",
       "      <td>33.075518</td>\n",
       "      <td>-111.974950</td>\n",
       "      <td>canopy_height</td>\n",
       "      <td>190.0</td>\n",
       "      <td>PI521152</td>\n",
       "      <td>2018-06-22</td>\n",
       "      <td>28</td>\n",
       "      <td>7</td>\n",
       "    </tr>\n",
       "    <tr>\n",
       "      <th>856357</th>\n",
       "      <td>MAC Field Scanner Season 6 Range 22 Column 4</td>\n",
       "      <td>33.075302</td>\n",
       "      <td>-111.974999</td>\n",
       "      <td>canopy_height</td>\n",
       "      <td>167.0</td>\n",
       "      <td>PI337689</td>\n",
       "      <td>2018-06-17</td>\n",
       "      <td>22</td>\n",
       "      <td>4</td>\n",
       "    </tr>\n",
       "    <tr>\n",
       "      <th>856292</th>\n",
       "      <td>MAC Field Scanner Season 6 Range 11 Column 9</td>\n",
       "      <td>33.074907</td>\n",
       "      <td>-111.974917</td>\n",
       "      <td>canopy_height</td>\n",
       "      <td>134.0</td>\n",
       "      <td>PI273465</td>\n",
       "      <td>2018-06-17</td>\n",
       "      <td>11</td>\n",
       "      <td>9</td>\n",
       "    </tr>\n",
       "    <tr>\n",
       "      <th>504926</th>\n",
       "      <td>MAC Field Scanner Season 6 Range 53 Column 7</td>\n",
       "      <td>33.076417</td>\n",
       "      <td>-111.974950</td>\n",
       "      <td>canopy_height</td>\n",
       "      <td>284.0</td>\n",
       "      <td>SP1516</td>\n",
       "      <td>2018-07-08</td>\n",
       "      <td>53</td>\n",
       "      <td>7</td>\n",
       "    </tr>\n",
       "    <tr>\n",
       "      <th>826462</th>\n",
       "      <td>MAC Field Scanner Season 6 Range 27 Column 3</td>\n",
       "      <td>33.075482</td>\n",
       "      <td>-111.975015</td>\n",
       "      <td>canopy_height</td>\n",
       "      <td>224.0</td>\n",
       "      <td>PI585954</td>\n",
       "      <td>2018-07-25</td>\n",
       "      <td>27</td>\n",
       "      <td>3</td>\n",
       "    </tr>\n",
       "    <tr>\n",
       "      <th>499049</th>\n",
       "      <td>MAC Field Scanner Season 6 Range 36 Column 7</td>\n",
       "      <td>33.075806</td>\n",
       "      <td>-111.974950</td>\n",
       "      <td>canopy_height</td>\n",
       "      <td>22.0</td>\n",
       "      <td>PI22913</td>\n",
       "      <td>2018-05-19</td>\n",
       "      <td>36</td>\n",
       "      <td>7</td>\n",
       "    </tr>\n",
       "    <tr>\n",
       "      <th>858014</th>\n",
       "      <td>MAC Field Scanner Season 6 Range 4 Column 15</td>\n",
       "      <td>33.074655</td>\n",
       "      <td>-111.974818</td>\n",
       "      <td>canopy_height</td>\n",
       "      <td>195.0</td>\n",
       "      <td>PI329394</td>\n",
       "      <td>2018-06-24</td>\n",
       "      <td>4</td>\n",
       "      <td>15</td>\n",
       "    </tr>\n",
       "  </tbody>\n",
       "</table>\n",
       "</div>"
      ],
      "text/plain": [
       "                                            sitename        lat         lon  \\\n",
       "857460  MAC Field Scanner Season 6 Range 28 Column 7  33.075518 -111.974950   \n",
       "856357  MAC Field Scanner Season 6 Range 22 Column 4  33.075302 -111.974999   \n",
       "856292  MAC Field Scanner Season 6 Range 11 Column 9  33.074907 -111.974917   \n",
       "504926  MAC Field Scanner Season 6 Range 53 Column 7  33.076417 -111.974950   \n",
       "826462  MAC Field Scanner Season 6 Range 27 Column 3  33.075482 -111.975015   \n",
       "499049  MAC Field Scanner Season 6 Range 36 Column 7  33.075806 -111.974950   \n",
       "858014  MAC Field Scanner Season 6 Range 4 Column 15  33.074655 -111.974818   \n",
       "\n",
       "                trait   mean  cultivar     date_1  range  column  \n",
       "857460  canopy_height  190.0  PI521152 2018-06-22     28       7  \n",
       "856357  canopy_height  167.0  PI337689 2018-06-17     22       4  \n",
       "856292  canopy_height  134.0  PI273465 2018-06-17     11       9  \n",
       "504926  canopy_height  284.0    SP1516 2018-07-08     53       7  \n",
       "826462  canopy_height  224.0  PI585954 2018-07-25     27       3  \n",
       "499049  canopy_height   22.0   PI22913 2018-05-19     36       7  \n",
       "858014  canopy_height  195.0  PI329394 2018-06-24      4      15  "
      ]
     },
     "execution_count": 62,
     "metadata": {},
     "output_type": "execute_result"
    }
   ],
   "source": [
    "df_6 = df_5.copy()\n",
    "\n",
    "df_6['range'] = df_6['sitename'].str.extract(\"Range (\\d+)\").astype(int)\n",
    "df_6['column'] = df_6['sitename'].str.extract(\"Column (\\d+)\").astype(int)\n",
    "\n",
    "# df_6.sample(n=7)"
   ]
  },
  {
   "cell_type": "markdown",
   "metadata": {},
   "source": [
    "#### Check for E W subplots"
   ]
  },
  {
   "cell_type": "code",
   "execution_count": 63,
   "metadata": {},
   "outputs": [
    {
     "data": {
      "text/html": [
       "<div>\n",
       "<style scoped>\n",
       "    .dataframe tbody tr th:only-of-type {\n",
       "        vertical-align: middle;\n",
       "    }\n",
       "\n",
       "    .dataframe tbody tr th {\n",
       "        vertical-align: top;\n",
       "    }\n",
       "\n",
       "    .dataframe thead th {\n",
       "        text-align: right;\n",
       "    }\n",
       "</style>\n",
       "<table border=\"1\" class=\"dataframe\">\n",
       "  <thead>\n",
       "    <tr style=\"text-align: right;\">\n",
       "      <th></th>\n",
       "      <th>sitename</th>\n",
       "      <th>lat</th>\n",
       "      <th>lon</th>\n",
       "      <th>trait</th>\n",
       "      <th>mean</th>\n",
       "      <th>cultivar</th>\n",
       "      <th>date_1</th>\n",
       "      <th>range</th>\n",
       "      <th>column</th>\n",
       "    </tr>\n",
       "  </thead>\n",
       "  <tbody>\n",
       "  </tbody>\n",
       "</table>\n",
       "</div>"
      ],
      "text/plain": [
       "Empty DataFrame\n",
       "Columns: [sitename, lat, lon, trait, mean, cultivar, date_1, range, column]\n",
       "Index: []"
      ]
     },
     "execution_count": 63,
     "metadata": {},
     "output_type": "execute_result"
    }
   ],
   "source": [
    "df_6.loc[(df_6.sitename.str.endswith(' E')) | (df_6.sitename.str.endswith(' W'))]"
   ]
  },
  {
   "cell_type": "markdown",
   "metadata": {},
   "source": [
    "### IV. Reorder & Rename Columns\n",
    "* Set date column as index"
   ]
  },
  {
   "cell_type": "code",
   "execution_count": 67,
   "metadata": {},
   "outputs": [
    {
     "data": {
      "text/html": [
       "<div>\n",
       "<style scoped>\n",
       "    .dataframe tbody tr th:only-of-type {\n",
       "        vertical-align: middle;\n",
       "    }\n",
       "\n",
       "    .dataframe tbody tr th {\n",
       "        vertical-align: top;\n",
       "    }\n",
       "\n",
       "    .dataframe thead th {\n",
       "        text-align: right;\n",
       "    }\n",
       "</style>\n",
       "<table border=\"1\" class=\"dataframe\">\n",
       "  <thead>\n",
       "    <tr style=\"text-align: right;\">\n",
       "      <th></th>\n",
       "      <th>sitename</th>\n",
       "      <th>lat</th>\n",
       "      <th>lon</th>\n",
       "      <th>trait</th>\n",
       "      <th>value</th>\n",
       "      <th>cultivar</th>\n",
       "      <th>date</th>\n",
       "      <th>range</th>\n",
       "      <th>column</th>\n",
       "    </tr>\n",
       "  </thead>\n",
       "  <tbody>\n",
       "    <tr>\n",
       "      <th>20292</th>\n",
       "      <td>MAC Field Scanner Season 6 Range 7 Column 11</td>\n",
       "      <td>33.074763</td>\n",
       "      <td>-111.974884</td>\n",
       "      <td>canopy_height</td>\n",
       "      <td>88.0</td>\n",
       "      <td>PI452619</td>\n",
       "      <td>2018-05-28</td>\n",
       "      <td>7</td>\n",
       "      <td>11</td>\n",
       "    </tr>\n",
       "    <tr>\n",
       "      <th>20341</th>\n",
       "      <td>MAC Field Scanner Season 6 Range 8 Column 12</td>\n",
       "      <td>33.074799</td>\n",
       "      <td>-111.974868</td>\n",
       "      <td>canopy_height</td>\n",
       "      <td>86.0</td>\n",
       "      <td>PI646266</td>\n",
       "      <td>2018-05-28</td>\n",
       "      <td>8</td>\n",
       "      <td>12</td>\n",
       "    </tr>\n",
       "    <tr>\n",
       "      <th>20369</th>\n",
       "      <td>MAC Field Scanner Season 6 Range 8 Column 2</td>\n",
       "      <td>33.074799</td>\n",
       "      <td>-111.975031</td>\n",
       "      <td>canopy_height</td>\n",
       "      <td>89.0</td>\n",
       "      <td>PI527045</td>\n",
       "      <td>2018-05-28</td>\n",
       "      <td>8</td>\n",
       "      <td>2</td>\n",
       "    </tr>\n",
       "    <tr>\n",
       "      <th>20629</th>\n",
       "      <td>MAC Field Scanner Season 6 Range 8 Column 16</td>\n",
       "      <td>33.074799</td>\n",
       "      <td>-111.974802</td>\n",
       "      <td>canopy_height</td>\n",
       "      <td>99.0</td>\n",
       "      <td>SP1516</td>\n",
       "      <td>2018-05-28</td>\n",
       "      <td>8</td>\n",
       "      <td>16</td>\n",
       "    </tr>\n",
       "    <tr>\n",
       "      <th>21431</th>\n",
       "      <td>MAC Field Scanner Season 6 Range 8 Column 7</td>\n",
       "      <td>33.074799</td>\n",
       "      <td>-111.974949</td>\n",
       "      <td>canopy_height</td>\n",
       "      <td>83.0</td>\n",
       "      <td>PI524475</td>\n",
       "      <td>2018-05-28</td>\n",
       "      <td>8</td>\n",
       "      <td>7</td>\n",
       "    </tr>\n",
       "  </tbody>\n",
       "</table>\n",
       "</div>"
      ],
      "text/plain": [
       "                                           sitename        lat         lon  \\\n",
       "20292  MAC Field Scanner Season 6 Range 7 Column 11  33.074763 -111.974884   \n",
       "20341  MAC Field Scanner Season 6 Range 8 Column 12  33.074799 -111.974868   \n",
       "20369   MAC Field Scanner Season 6 Range 8 Column 2  33.074799 -111.975031   \n",
       "20629  MAC Field Scanner Season 6 Range 8 Column 16  33.074799 -111.974802   \n",
       "21431   MAC Field Scanner Season 6 Range 8 Column 7  33.074799 -111.974949   \n",
       "\n",
       "               trait  value  cultivar       date  range  column  \n",
       "20292  canopy_height   88.0  PI452619 2018-05-28      7      11  \n",
       "20341  canopy_height   86.0  PI646266 2018-05-28      8      12  \n",
       "20369  canopy_height   89.0  PI527045 2018-05-28      8       2  \n",
       "20629  canopy_height   99.0    SP1516 2018-05-28      8      16  \n",
       "21431  canopy_height   83.0  PI524475 2018-05-28      8       7  "
      ]
     },
     "execution_count": 67,
     "metadata": {},
     "output_type": "execute_result"
    }
   ],
   "source": [
    "df_7 = df_6.rename({'date_1': 'date', 'mean': 'value'}, axis=1)\n",
    "# df_7.head()"
   ]
  },
  {
   "cell_type": "code",
   "execution_count": 68,
   "metadata": {},
   "outputs": [
    {
     "name": "stdout",
     "output_type": "stream",
     "text": [
      "(48663, 9)\n",
      "(48663, 8)\n"
     ]
    }
   ],
   "source": [
    "df_8 = df_7.set_index(keys='date')\n",
    "print(df_7.shape)\n",
    "print(df_8.shape)"
   ]
  },
  {
   "cell_type": "code",
   "execution_count": 71,
   "metadata": {},
   "outputs": [
    {
     "data": {
      "text/html": [
       "<div>\n",
       "<style scoped>\n",
       "    .dataframe tbody tr th:only-of-type {\n",
       "        vertical-align: middle;\n",
       "    }\n",
       "\n",
       "    .dataframe tbody tr th {\n",
       "        vertical-align: top;\n",
       "    }\n",
       "\n",
       "    .dataframe thead th {\n",
       "        text-align: right;\n",
       "    }\n",
       "</style>\n",
       "<table border=\"1\" class=\"dataframe\">\n",
       "  <thead>\n",
       "    <tr style=\"text-align: right;\">\n",
       "      <th></th>\n",
       "      <th>sitename</th>\n",
       "      <th>range</th>\n",
       "      <th>column</th>\n",
       "      <th>lat</th>\n",
       "      <th>lon</th>\n",
       "      <th>cultivar</th>\n",
       "      <th>trait</th>\n",
       "      <th>value</th>\n",
       "    </tr>\n",
       "    <tr>\n",
       "      <th>date</th>\n",
       "      <th></th>\n",
       "      <th></th>\n",
       "      <th></th>\n",
       "      <th></th>\n",
       "      <th></th>\n",
       "      <th></th>\n",
       "      <th></th>\n",
       "      <th></th>\n",
       "    </tr>\n",
       "  </thead>\n",
       "  <tbody>\n",
       "    <tr>\n",
       "      <th>2018-05-28</th>\n",
       "      <td>MAC Field Scanner Season 6 Range 7 Column 11</td>\n",
       "      <td>7</td>\n",
       "      <td>11</td>\n",
       "      <td>33.074763</td>\n",
       "      <td>-111.974884</td>\n",
       "      <td>PI452619</td>\n",
       "      <td>canopy_height</td>\n",
       "      <td>88.0</td>\n",
       "    </tr>\n",
       "    <tr>\n",
       "      <th>2018-05-28</th>\n",
       "      <td>MAC Field Scanner Season 6 Range 8 Column 12</td>\n",
       "      <td>8</td>\n",
       "      <td>12</td>\n",
       "      <td>33.074799</td>\n",
       "      <td>-111.974868</td>\n",
       "      <td>PI646266</td>\n",
       "      <td>canopy_height</td>\n",
       "      <td>86.0</td>\n",
       "    </tr>\n",
       "    <tr>\n",
       "      <th>2018-05-28</th>\n",
       "      <td>MAC Field Scanner Season 6 Range 8 Column 2</td>\n",
       "      <td>8</td>\n",
       "      <td>2</td>\n",
       "      <td>33.074799</td>\n",
       "      <td>-111.975031</td>\n",
       "      <td>PI527045</td>\n",
       "      <td>canopy_height</td>\n",
       "      <td>89.0</td>\n",
       "    </tr>\n",
       "    <tr>\n",
       "      <th>2018-05-28</th>\n",
       "      <td>MAC Field Scanner Season 6 Range 8 Column 16</td>\n",
       "      <td>8</td>\n",
       "      <td>16</td>\n",
       "      <td>33.074799</td>\n",
       "      <td>-111.974802</td>\n",
       "      <td>SP1516</td>\n",
       "      <td>canopy_height</td>\n",
       "      <td>99.0</td>\n",
       "    </tr>\n",
       "    <tr>\n",
       "      <th>2018-05-28</th>\n",
       "      <td>MAC Field Scanner Season 6 Range 8 Column 7</td>\n",
       "      <td>8</td>\n",
       "      <td>7</td>\n",
       "      <td>33.074799</td>\n",
       "      <td>-111.974949</td>\n",
       "      <td>PI524475</td>\n",
       "      <td>canopy_height</td>\n",
       "      <td>83.0</td>\n",
       "    </tr>\n",
       "  </tbody>\n",
       "</table>\n",
       "</div>"
      ],
      "text/plain": [
       "                                                sitename  range  column  \\\n",
       "date                                                                      \n",
       "2018-05-28  MAC Field Scanner Season 6 Range 7 Column 11      7      11   \n",
       "2018-05-28  MAC Field Scanner Season 6 Range 8 Column 12      8      12   \n",
       "2018-05-28   MAC Field Scanner Season 6 Range 8 Column 2      8       2   \n",
       "2018-05-28  MAC Field Scanner Season 6 Range 8 Column 16      8      16   \n",
       "2018-05-28   MAC Field Scanner Season 6 Range 8 Column 7      8       7   \n",
       "\n",
       "                  lat         lon  cultivar          trait  value  \n",
       "date                                                               \n",
       "2018-05-28  33.074763 -111.974884  PI452619  canopy_height   88.0  \n",
       "2018-05-28  33.074799 -111.974868  PI646266  canopy_height   86.0  \n",
       "2018-05-28  33.074799 -111.975031  PI527045  canopy_height   89.0  \n",
       "2018-05-28  33.074799 -111.974802    SP1516  canopy_height   99.0  \n",
       "2018-05-28  33.074799 -111.974949  PI524475  canopy_height   83.0  "
      ]
     },
     "execution_count": 71,
     "metadata": {},
     "output_type": "execute_result"
    }
   ],
   "source": [
    "col_reorder = ['sitename', 'range', 'column', 'lat', 'lon', 'cultivar', 'trait', 'value']\n",
    "df_9 = pd.DataFrame(data=df_8, columns=col_reorder, index=df_8.index)\n",
    "# df_9.head()"
   ]
  },
  {
   "cell_type": "code",
   "execution_count": 73,
   "metadata": {},
   "outputs": [],
   "source": [
    "df_10 = df_9.sort_index()"
   ]
  },
  {
   "cell_type": "code",
   "execution_count": 74,
   "metadata": {},
   "outputs": [
    {
     "data": {
      "text/html": [
       "<div>\n",
       "<style scoped>\n",
       "    .dataframe tbody tr th:only-of-type {\n",
       "        vertical-align: middle;\n",
       "    }\n",
       "\n",
       "    .dataframe tbody tr th {\n",
       "        vertical-align: top;\n",
       "    }\n",
       "\n",
       "    .dataframe thead th {\n",
       "        text-align: right;\n",
       "    }\n",
       "</style>\n",
       "<table border=\"1\" class=\"dataframe\">\n",
       "  <thead>\n",
       "    <tr style=\"text-align: right;\">\n",
       "      <th></th>\n",
       "      <th>sitename</th>\n",
       "      <th>range</th>\n",
       "      <th>column</th>\n",
       "      <th>lat</th>\n",
       "      <th>lon</th>\n",
       "      <th>cultivar</th>\n",
       "      <th>trait</th>\n",
       "      <th>value</th>\n",
       "    </tr>\n",
       "    <tr>\n",
       "      <th>date</th>\n",
       "      <th></th>\n",
       "      <th></th>\n",
       "      <th></th>\n",
       "      <th></th>\n",
       "      <th></th>\n",
       "      <th></th>\n",
       "      <th></th>\n",
       "      <th></th>\n",
       "    </tr>\n",
       "  </thead>\n",
       "  <tbody>\n",
       "    <tr>\n",
       "      <th>2018-08-01</th>\n",
       "      <td>MAC Field Scanner Season 6 Range 32 Column 2</td>\n",
       "      <td>32</td>\n",
       "      <td>2</td>\n",
       "      <td>33.075662</td>\n",
       "      <td>-111.975032</td>\n",
       "      <td>PI329632</td>\n",
       "      <td>aboveground_dry_biomass</td>\n",
       "      <td>8180.0</td>\n",
       "    </tr>\n",
       "    <tr>\n",
       "      <th>2018-08-01</th>\n",
       "      <td>MAC Field Scanner Season 6 Range 31 Column 12</td>\n",
       "      <td>31</td>\n",
       "      <td>12</td>\n",
       "      <td>33.075626</td>\n",
       "      <td>-111.974868</td>\n",
       "      <td>PI330184</td>\n",
       "      <td>aboveground_dry_biomass</td>\n",
       "      <td>16100.0</td>\n",
       "    </tr>\n",
       "    <tr>\n",
       "      <th>2018-08-01</th>\n",
       "      <td>MAC Field Scanner Season 6 Range 27 Column 11</td>\n",
       "      <td>27</td>\n",
       "      <td>11</td>\n",
       "      <td>33.075482</td>\n",
       "      <td>-111.974884</td>\n",
       "      <td>PI152727</td>\n",
       "      <td>aboveground_dry_biomass</td>\n",
       "      <td>13100.0</td>\n",
       "    </tr>\n",
       "    <tr>\n",
       "      <th>2018-08-01</th>\n",
       "      <td>MAC Field Scanner Season 6 Range 26 Column 12</td>\n",
       "      <td>26</td>\n",
       "      <td>12</td>\n",
       "      <td>33.075446</td>\n",
       "      <td>-111.974868</td>\n",
       "      <td>PI569458</td>\n",
       "      <td>aboveground_dry_biomass</td>\n",
       "      <td>7230.0</td>\n",
       "    </tr>\n",
       "    <tr>\n",
       "      <th>2018-08-01</th>\n",
       "      <td>MAC Field Scanner Season 6 Range 20 Column 15</td>\n",
       "      <td>20</td>\n",
       "      <td>15</td>\n",
       "      <td>33.075231</td>\n",
       "      <td>-111.974819</td>\n",
       "      <td>PI569422</td>\n",
       "      <td>aboveground_dry_biomass</td>\n",
       "      <td>8150.0</td>\n",
       "    </tr>\n",
       "  </tbody>\n",
       "</table>\n",
       "</div>"
      ],
      "text/plain": [
       "                                                 sitename  range  column  \\\n",
       "date                                                                       \n",
       "2018-08-01   MAC Field Scanner Season 6 Range 32 Column 2     32       2   \n",
       "2018-08-01  MAC Field Scanner Season 6 Range 31 Column 12     31      12   \n",
       "2018-08-01  MAC Field Scanner Season 6 Range 27 Column 11     27      11   \n",
       "2018-08-01  MAC Field Scanner Season 6 Range 26 Column 12     26      12   \n",
       "2018-08-01  MAC Field Scanner Season 6 Range 20 Column 15     20      15   \n",
       "\n",
       "                  lat         lon  cultivar                    trait    value  \n",
       "date                                                                           \n",
       "2018-08-01  33.075662 -111.975032  PI329632  aboveground_dry_biomass   8180.0  \n",
       "2018-08-01  33.075626 -111.974868  PI330184  aboveground_dry_biomass  16100.0  \n",
       "2018-08-01  33.075482 -111.974884  PI152727  aboveground_dry_biomass  13100.0  \n",
       "2018-08-01  33.075446 -111.974868  PI569458  aboveground_dry_biomass   7230.0  \n",
       "2018-08-01  33.075231 -111.974819  PI569422  aboveground_dry_biomass   8150.0  "
      ]
     },
     "execution_count": 74,
     "metadata": {},
     "output_type": "execute_result"
    }
   ],
   "source": [
    "# df_10.tail()"
   ]
  },
  {
   "cell_type": "code",
   "execution_count": null,
   "metadata": {},
   "outputs": [],
   "source": []
  },
  {
   "cell_type": "code",
   "execution_count": null,
   "metadata": {},
   "outputs": [],
   "source": []
  },
  {
   "cell_type": "code",
   "execution_count": null,
   "metadata": {},
   "outputs": [],
   "source": []
  },
  {
   "cell_type": "code",
   "execution_count": null,
   "metadata": {},
   "outputs": [],
   "source": []
  },
  {
   "cell_type": "markdown",
   "metadata": {},
   "source": [
    "### Add TO Mappings"
   ]
  },
  {
   "cell_type": "code",
   "execution_count": null,
   "metadata": {},
   "outputs": [],
   "source": []
  },
  {
   "cell_type": "code",
   "execution_count": null,
   "metadata": {},
   "outputs": [],
   "source": []
  },
  {
   "cell_type": "code",
   "execution_count": null,
   "metadata": {},
   "outputs": [],
   "source": []
  },
  {
   "cell_type": "code",
   "execution_count": null,
   "metadata": {},
   "outputs": [],
   "source": []
  },
  {
   "cell_type": "markdown",
   "metadata": {},
   "source": [
    "#### Final Steps\n",
    "* Create `.csv`"
   ]
  },
  {
   "cell_type": "code",
   "execution_count": 77,
   "metadata": {},
   "outputs": [],
   "source": [
    "need_to_create_csv = False\n",
    "\n",
    "if need_to_create_csv:\n",
    "\n",
    "    timestamp = datetime.datetime.now().replace(microsecond=0).isoformat()\n",
    "    output_filename = f'tall_format_traits_season_6{timestamp}.csv'.replace(':', '')\n",
    "    df_10.to_csv(f'data/processed/{output_filename}')"
   ]
  },
  {
   "cell_type": "code",
   "execution_count": null,
   "metadata": {},
   "outputs": [],
   "source": []
  },
  {
   "cell_type": "code",
   "execution_count": null,
   "metadata": {},
   "outputs": [],
   "source": []
  },
  {
   "cell_type": "code",
   "execution_count": null,
   "metadata": {},
   "outputs": [],
   "source": []
  },
  {
   "cell_type": "code",
   "execution_count": null,
   "metadata": {},
   "outputs": [],
   "source": []
  },
  {
   "cell_type": "code",
   "execution_count": null,
   "metadata": {},
   "outputs": [],
   "source": []
  }
 ],
 "metadata": {
  "kernelspec": {
   "display_name": "Python 3",
   "language": "python",
   "name": "python3"
  },
  "language_info": {
   "codemirror_mode": {
    "name": "ipython",
    "version": 3
   },
   "file_extension": ".py",
   "mimetype": "text/x-python",
   "name": "python",
   "nbconvert_exporter": "python",
   "pygments_lexer": "ipython3",
   "version": "3.6.8"
  }
 },
 "nbformat": 4,
 "nbformat_minor": 2
}
