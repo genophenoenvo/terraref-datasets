{
 "cells": [
  {
   "cell_type": "markdown",
   "metadata": {},
   "source": [
    "## Query betydb for phenotypes dataset\n",
    "* Season 4 & Season 6\n",
    "* Wide format: one row per plot\n",
    "* Days to Emergence\n",
    "* Days to Flowering\n",
    "* Aboveground dry biomass"
   ]
  },
  {
   "cell_type": "code",
   "execution_count": 1,
   "metadata": {
    "pycharm": {
     "is_executing": false
    }
   },
   "outputs": [],
   "source": [
    "import numpy as np\n",
    "import pandas as pd\n",
    "\n",
    "import matplotlib.pyplot as plt\n",
    "\n",
    "%matplotlib inline"
   ]
  },
  {
   "cell_type": "code",
   "execution_count": 2,
   "metadata": {
    "pycharm": {
     "is_executing": false
    }
   },
   "outputs": [],
   "source": [
    "# %pwd\n",
    "# %cd '/Users/ejcain/Dev/UA-AG/phenotypes/terraref-datasets/'"
   ]
  },
  {
   "cell_type": "code",
   "execution_count": 3,
   "metadata": {
    "pycharm": {
     "is_executing": false
    }
   },
   "outputs": [
    {
     "name": "stderr",
     "output_type": "stream",
     "text": [
      "/opt/miniconda3/envs/terraref-datasets/lib/python3.7/site-packages/IPython/core/interactiveshell.py:3058: DtypeWarning: Columns (18,26,32,35) have mixed types. Specify dtype option on import or set low_memory=False.\n",
      "  interactivity=interactivity, compiler=compiler, result=result)\n"
     ]
    },
    {
     "data": {
      "text/html": [
       "<div>\n",
       "<style scoped>\n",
       "    .dataframe tbody tr th:only-of-type {\n",
       "        vertical-align: middle;\n",
       "    }\n",
       "\n",
       "    .dataframe tbody tr th {\n",
       "        vertical-align: top;\n",
       "    }\n",
       "\n",
       "    .dataframe thead th {\n",
       "        text-align: right;\n",
       "    }\n",
       "</style>\n",
       "<table border=\"1\" class=\"dataframe\">\n",
       "  <thead>\n",
       "    <tr style=\"text-align: right;\">\n",
       "      <th></th>\n",
       "      <th>Unnamed: 0</th>\n",
       "      <th>checked</th>\n",
       "      <th>result_type</th>\n",
       "      <th>id</th>\n",
       "      <th>citation_id</th>\n",
       "      <th>site_id</th>\n",
       "      <th>treatment_id</th>\n",
       "      <th>sitename</th>\n",
       "      <th>city</th>\n",
       "      <th>lat</th>\n",
       "      <th>...</th>\n",
       "      <th>n</th>\n",
       "      <th>statname</th>\n",
       "      <th>stat</th>\n",
       "      <th>notes</th>\n",
       "      <th>access_level</th>\n",
       "      <th>cultivar</th>\n",
       "      <th>entity</th>\n",
       "      <th>method_name</th>\n",
       "      <th>view_url</th>\n",
       "      <th>edit_url</th>\n",
       "    </tr>\n",
       "  </thead>\n",
       "  <tbody>\n",
       "    <tr>\n",
       "      <th>0</th>\n",
       "      <td>1</td>\n",
       "      <td>0</td>\n",
       "      <td>traits</td>\n",
       "      <td>6001958927</td>\n",
       "      <td>6.000000e+09</td>\n",
       "      <td>6000005673</td>\n",
       "      <td>6.000000e+09</td>\n",
       "      <td>MAC Field Scanner Season 4 Range 11 Column 5</td>\n",
       "      <td>Maricopa</td>\n",
       "      <td>33.074907</td>\n",
       "      <td>...</td>\n",
       "      <td>NaN</td>\n",
       "      <td>NaN</td>\n",
       "      <td>NaN</td>\n",
       "      <td>NaN</td>\n",
       "      <td>2</td>\n",
       "      <td>PI181083</td>\n",
       "      <td>NaN</td>\n",
       "      <td>Visual assessment of leaf dessication</td>\n",
       "      <td>https://terraref.ncsa.illinois.edu/bety/traits...</td>\n",
       "      <td>https://terraref.ncsa.illinois.edu/bety/traits...</td>\n",
       "    </tr>\n",
       "    <tr>\n",
       "      <th>1</th>\n",
       "      <td>2</td>\n",
       "      <td>0</td>\n",
       "      <td>traits</td>\n",
       "      <td>6001958928</td>\n",
       "      <td>6.000000e+09</td>\n",
       "      <td>6000005676</td>\n",
       "      <td>6.000000e+09</td>\n",
       "      <td>MAC Field Scanner Season 4 Range 11 Column 6</td>\n",
       "      <td>Maricopa</td>\n",
       "      <td>33.074907</td>\n",
       "      <td>...</td>\n",
       "      <td>NaN</td>\n",
       "      <td>NaN</td>\n",
       "      <td>NaN</td>\n",
       "      <td>NaN</td>\n",
       "      <td>2</td>\n",
       "      <td>PI564163</td>\n",
       "      <td>NaN</td>\n",
       "      <td>Visual assessment of leaf dessication</td>\n",
       "      <td>https://terraref.ncsa.illinois.edu/bety/traits...</td>\n",
       "      <td>https://terraref.ncsa.illinois.edu/bety/traits...</td>\n",
       "    </tr>\n",
       "    <tr>\n",
       "      <th>2</th>\n",
       "      <td>3</td>\n",
       "      <td>0</td>\n",
       "      <td>traits</td>\n",
       "      <td>6001958931</td>\n",
       "      <td>6.000000e+09</td>\n",
       "      <td>6000005685</td>\n",
       "      <td>6.000000e+09</td>\n",
       "      <td>MAC Field Scanner Season 4 Range 11 Column 9</td>\n",
       "      <td>Maricopa</td>\n",
       "      <td>33.074907</td>\n",
       "      <td>...</td>\n",
       "      <td>NaN</td>\n",
       "      <td>NaN</td>\n",
       "      <td>NaN</td>\n",
       "      <td>NaN</td>\n",
       "      <td>2</td>\n",
       "      <td>PI52606</td>\n",
       "      <td>NaN</td>\n",
       "      <td>Visual assessment of leaf dessication</td>\n",
       "      <td>https://terraref.ncsa.illinois.edu/bety/traits...</td>\n",
       "      <td>https://terraref.ncsa.illinois.edu/bety/traits...</td>\n",
       "    </tr>\n",
       "    <tr>\n",
       "      <th>3</th>\n",
       "      <td>4</td>\n",
       "      <td>0</td>\n",
       "      <td>traits</td>\n",
       "      <td>6001958933</td>\n",
       "      <td>6.000000e+09</td>\n",
       "      <td>6000005691</td>\n",
       "      <td>6.000000e+09</td>\n",
       "      <td>MAC Field Scanner Season 4 Range 11 Column 11</td>\n",
       "      <td>Maricopa</td>\n",
       "      <td>33.074907</td>\n",
       "      <td>...</td>\n",
       "      <td>NaN</td>\n",
       "      <td>NaN</td>\n",
       "      <td>NaN</td>\n",
       "      <td>NaN</td>\n",
       "      <td>2</td>\n",
       "      <td>PI533792</td>\n",
       "      <td>NaN</td>\n",
       "      <td>Visual assessment of leaf dessication</td>\n",
       "      <td>https://terraref.ncsa.illinois.edu/bety/traits...</td>\n",
       "      <td>https://terraref.ncsa.illinois.edu/bety/traits...</td>\n",
       "    </tr>\n",
       "    <tr>\n",
       "      <th>4</th>\n",
       "      <td>5</td>\n",
       "      <td>0</td>\n",
       "      <td>traits</td>\n",
       "      <td>6001958936</td>\n",
       "      <td>6.000000e+09</td>\n",
       "      <td>6000005700</td>\n",
       "      <td>6.000000e+09</td>\n",
       "      <td>MAC Field Scanner Season 4 Range 11 Column 14</td>\n",
       "      <td>Maricopa</td>\n",
       "      <td>33.074907</td>\n",
       "      <td>...</td>\n",
       "      <td>NaN</td>\n",
       "      <td>NaN</td>\n",
       "      <td>NaN</td>\n",
       "      <td>NaN</td>\n",
       "      <td>2</td>\n",
       "      <td>PI535794</td>\n",
       "      <td>NaN</td>\n",
       "      <td>Visual assessment of leaf dessication</td>\n",
       "      <td>https://terraref.ncsa.illinois.edu/bety/traits...</td>\n",
       "      <td>https://terraref.ncsa.illinois.edu/bety/traits...</td>\n",
       "    </tr>\n",
       "  </tbody>\n",
       "</table>\n",
       "<p>5 rows × 39 columns</p>\n",
       "</div>"
      ],
      "text/plain": [
       "   Unnamed: 0  checked result_type          id   citation_id     site_id  \\\n",
       "0           1        0      traits  6001958927  6.000000e+09  6000005673   \n",
       "1           2        0      traits  6001958928  6.000000e+09  6000005676   \n",
       "2           3        0      traits  6001958931  6.000000e+09  6000005685   \n",
       "3           4        0      traits  6001958933  6.000000e+09  6000005691   \n",
       "4           5        0      traits  6001958936  6.000000e+09  6000005700   \n",
       "\n",
       "   treatment_id                                       sitename      city  \\\n",
       "0  6.000000e+09   MAC Field Scanner Season 4 Range 11 Column 5  Maricopa   \n",
       "1  6.000000e+09   MAC Field Scanner Season 4 Range 11 Column 6  Maricopa   \n",
       "2  6.000000e+09   MAC Field Scanner Season 4 Range 11 Column 9  Maricopa   \n",
       "3  6.000000e+09  MAC Field Scanner Season 4 Range 11 Column 11  Maricopa   \n",
       "4  6.000000e+09  MAC Field Scanner Season 4 Range 11 Column 14  Maricopa   \n",
       "\n",
       "         lat  ...   n statname stat notes  access_level  cultivar entity  \\\n",
       "0  33.074907  ... NaN      NaN  NaN   NaN             2  PI181083    NaN   \n",
       "1  33.074907  ... NaN      NaN  NaN   NaN             2  PI564163    NaN   \n",
       "2  33.074907  ... NaN      NaN  NaN   NaN             2   PI52606    NaN   \n",
       "3  33.074907  ... NaN      NaN  NaN   NaN             2  PI533792    NaN   \n",
       "4  33.074907  ... NaN      NaN  NaN   NaN             2  PI535794    NaN   \n",
       "\n",
       "                             method_name  \\\n",
       "0  Visual assessment of leaf dessication   \n",
       "1  Visual assessment of leaf dessication   \n",
       "2  Visual assessment of leaf dessication   \n",
       "3  Visual assessment of leaf dessication   \n",
       "4  Visual assessment of leaf dessication   \n",
       "\n",
       "                                            view_url  \\\n",
       "0  https://terraref.ncsa.illinois.edu/bety/traits...   \n",
       "1  https://terraref.ncsa.illinois.edu/bety/traits...   \n",
       "2  https://terraref.ncsa.illinois.edu/bety/traits...   \n",
       "3  https://terraref.ncsa.illinois.edu/bety/traits...   \n",
       "4  https://terraref.ncsa.illinois.edu/bety/traits...   \n",
       "\n",
       "                                            edit_url  \n",
       "0  https://terraref.ncsa.illinois.edu/bety/traits...  \n",
       "1  https://terraref.ncsa.illinois.edu/bety/traits...  \n",
       "2  https://terraref.ncsa.illinois.edu/bety/traits...  \n",
       "3  https://terraref.ncsa.illinois.edu/bety/traits...  \n",
       "4  https://terraref.ncsa.illinois.edu/bety/traits...  \n",
       "\n",
       "[5 rows x 39 columns]"
      ]
     },
     "execution_count": 3,
     "metadata": {},
     "output_type": "execute_result"
    }
   ],
   "source": [
    "# MAC Season 4 \n",
    "\n",
    "mac_season_4_df = pd.read_csv('../data/raw/mac_season_4.csv')\n",
    "mac_season_4_df.head()"
   ]
  },
  {
   "cell_type": "code",
   "execution_count": 4,
   "metadata": {
    "jupyter": {
     "outputs_hidden": true
    },
    "pycharm": {
     "is_executing": false
    }
   },
   "outputs": [
    {
     "data": {
      "text/html": [
       "<div>\n",
       "<style scoped>\n",
       "    .dataframe tbody tr th:only-of-type {\n",
       "        vertical-align: middle;\n",
       "    }\n",
       "\n",
       "    .dataframe tbody tr th {\n",
       "        vertical-align: top;\n",
       "    }\n",
       "\n",
       "    .dataframe thead th {\n",
       "        text-align: right;\n",
       "    }\n",
       "</style>\n",
       "<table border=\"1\" class=\"dataframe\">\n",
       "  <thead>\n",
       "    <tr style=\"text-align: right;\">\n",
       "      <th></th>\n",
       "      <th>Unnamed: 0</th>\n",
       "      <th>checked</th>\n",
       "      <th>result_type</th>\n",
       "      <th>id</th>\n",
       "      <th>citation_id</th>\n",
       "      <th>site_id</th>\n",
       "      <th>treatment_id</th>\n",
       "      <th>sitename</th>\n",
       "      <th>city</th>\n",
       "      <th>lat</th>\n",
       "      <th>...</th>\n",
       "      <th>n</th>\n",
       "      <th>statname</th>\n",
       "      <th>stat</th>\n",
       "      <th>notes</th>\n",
       "      <th>access_level</th>\n",
       "      <th>cultivar</th>\n",
       "      <th>entity</th>\n",
       "      <th>method_name</th>\n",
       "      <th>view_url</th>\n",
       "      <th>edit_url</th>\n",
       "    </tr>\n",
       "  </thead>\n",
       "  <tbody>\n",
       "    <tr>\n",
       "      <th>0</th>\n",
       "      <td>1</td>\n",
       "      <td>0</td>\n",
       "      <td>traits</td>\n",
       "      <td>6001958927</td>\n",
       "      <td>6.000000e+09</td>\n",
       "      <td>6000005673</td>\n",
       "      <td>6.000000e+09</td>\n",
       "      <td>MAC Field Scanner Season 4 Range 11 Column 5</td>\n",
       "      <td>Maricopa</td>\n",
       "      <td>33.074907</td>\n",
       "      <td>...</td>\n",
       "      <td>NaN</td>\n",
       "      <td>NaN</td>\n",
       "      <td>NaN</td>\n",
       "      <td>NaN</td>\n",
       "      <td>2</td>\n",
       "      <td>PI181083</td>\n",
       "      <td>NaN</td>\n",
       "      <td>Visual assessment of leaf dessication</td>\n",
       "      <td>https://terraref.ncsa.illinois.edu/bety/traits...</td>\n",
       "      <td>https://terraref.ncsa.illinois.edu/bety/traits...</td>\n",
       "    </tr>\n",
       "    <tr>\n",
       "      <th>1</th>\n",
       "      <td>2</td>\n",
       "      <td>0</td>\n",
       "      <td>traits</td>\n",
       "      <td>6001958928</td>\n",
       "      <td>6.000000e+09</td>\n",
       "      <td>6000005676</td>\n",
       "      <td>6.000000e+09</td>\n",
       "      <td>MAC Field Scanner Season 4 Range 11 Column 6</td>\n",
       "      <td>Maricopa</td>\n",
       "      <td>33.074907</td>\n",
       "      <td>...</td>\n",
       "      <td>NaN</td>\n",
       "      <td>NaN</td>\n",
       "      <td>NaN</td>\n",
       "      <td>NaN</td>\n",
       "      <td>2</td>\n",
       "      <td>PI564163</td>\n",
       "      <td>NaN</td>\n",
       "      <td>Visual assessment of leaf dessication</td>\n",
       "      <td>https://terraref.ncsa.illinois.edu/bety/traits...</td>\n",
       "      <td>https://terraref.ncsa.illinois.edu/bety/traits...</td>\n",
       "    </tr>\n",
       "    <tr>\n",
       "      <th>2</th>\n",
       "      <td>3</td>\n",
       "      <td>0</td>\n",
       "      <td>traits</td>\n",
       "      <td>6001958931</td>\n",
       "      <td>6.000000e+09</td>\n",
       "      <td>6000005685</td>\n",
       "      <td>6.000000e+09</td>\n",
       "      <td>MAC Field Scanner Season 4 Range 11 Column 9</td>\n",
       "      <td>Maricopa</td>\n",
       "      <td>33.074907</td>\n",
       "      <td>...</td>\n",
       "      <td>NaN</td>\n",
       "      <td>NaN</td>\n",
       "      <td>NaN</td>\n",
       "      <td>NaN</td>\n",
       "      <td>2</td>\n",
       "      <td>PI52606</td>\n",
       "      <td>NaN</td>\n",
       "      <td>Visual assessment of leaf dessication</td>\n",
       "      <td>https://terraref.ncsa.illinois.edu/bety/traits...</td>\n",
       "      <td>https://terraref.ncsa.illinois.edu/bety/traits...</td>\n",
       "    </tr>\n",
       "    <tr>\n",
       "      <th>3</th>\n",
       "      <td>4</td>\n",
       "      <td>0</td>\n",
       "      <td>traits</td>\n",
       "      <td>6001958933</td>\n",
       "      <td>6.000000e+09</td>\n",
       "      <td>6000005691</td>\n",
       "      <td>6.000000e+09</td>\n",
       "      <td>MAC Field Scanner Season 4 Range 11 Column 11</td>\n",
       "      <td>Maricopa</td>\n",
       "      <td>33.074907</td>\n",
       "      <td>...</td>\n",
       "      <td>NaN</td>\n",
       "      <td>NaN</td>\n",
       "      <td>NaN</td>\n",
       "      <td>NaN</td>\n",
       "      <td>2</td>\n",
       "      <td>PI533792</td>\n",
       "      <td>NaN</td>\n",
       "      <td>Visual assessment of leaf dessication</td>\n",
       "      <td>https://terraref.ncsa.illinois.edu/bety/traits...</td>\n",
       "      <td>https://terraref.ncsa.illinois.edu/bety/traits...</td>\n",
       "    </tr>\n",
       "    <tr>\n",
       "      <th>4</th>\n",
       "      <td>5</td>\n",
       "      <td>0</td>\n",
       "      <td>traits</td>\n",
       "      <td>6001958936</td>\n",
       "      <td>6.000000e+09</td>\n",
       "      <td>6000005700</td>\n",
       "      <td>6.000000e+09</td>\n",
       "      <td>MAC Field Scanner Season 4 Range 11 Column 14</td>\n",
       "      <td>Maricopa</td>\n",
       "      <td>33.074907</td>\n",
       "      <td>...</td>\n",
       "      <td>NaN</td>\n",
       "      <td>NaN</td>\n",
       "      <td>NaN</td>\n",
       "      <td>NaN</td>\n",
       "      <td>2</td>\n",
       "      <td>PI535794</td>\n",
       "      <td>NaN</td>\n",
       "      <td>Visual assessment of leaf dessication</td>\n",
       "      <td>https://terraref.ncsa.illinois.edu/bety/traits...</td>\n",
       "      <td>https://terraref.ncsa.illinois.edu/bety/traits...</td>\n",
       "    </tr>\n",
       "  </tbody>\n",
       "</table>\n",
       "<p>5 rows × 39 columns</p>\n",
       "</div>"
      ],
      "text/plain": [
       "   Unnamed: 0  checked result_type          id   citation_id     site_id  \\\n",
       "0           1        0      traits  6001958927  6.000000e+09  6000005673   \n",
       "1           2        0      traits  6001958928  6.000000e+09  6000005676   \n",
       "2           3        0      traits  6001958931  6.000000e+09  6000005685   \n",
       "3           4        0      traits  6001958933  6.000000e+09  6000005691   \n",
       "4           5        0      traits  6001958936  6.000000e+09  6000005700   \n",
       "\n",
       "   treatment_id                                       sitename      city  \\\n",
       "0  6.000000e+09   MAC Field Scanner Season 4 Range 11 Column 5  Maricopa   \n",
       "1  6.000000e+09   MAC Field Scanner Season 4 Range 11 Column 6  Maricopa   \n",
       "2  6.000000e+09   MAC Field Scanner Season 4 Range 11 Column 9  Maricopa   \n",
       "3  6.000000e+09  MAC Field Scanner Season 4 Range 11 Column 11  Maricopa   \n",
       "4  6.000000e+09  MAC Field Scanner Season 4 Range 11 Column 14  Maricopa   \n",
       "\n",
       "         lat  ...   n statname stat notes  access_level  cultivar entity  \\\n",
       "0  33.074907  ... NaN      NaN  NaN   NaN             2  PI181083    NaN   \n",
       "1  33.074907  ... NaN      NaN  NaN   NaN             2  PI564163    NaN   \n",
       "2  33.074907  ... NaN      NaN  NaN   NaN             2   PI52606    NaN   \n",
       "3  33.074907  ... NaN      NaN  NaN   NaN             2  PI533792    NaN   \n",
       "4  33.074907  ... NaN      NaN  NaN   NaN             2  PI535794    NaN   \n",
       "\n",
       "                             method_name  \\\n",
       "0  Visual assessment of leaf dessication   \n",
       "1  Visual assessment of leaf dessication   \n",
       "2  Visual assessment of leaf dessication   \n",
       "3  Visual assessment of leaf dessication   \n",
       "4  Visual assessment of leaf dessication   \n",
       "\n",
       "                                            view_url  \\\n",
       "0  https://terraref.ncsa.illinois.edu/bety/traits...   \n",
       "1  https://terraref.ncsa.illinois.edu/bety/traits...   \n",
       "2  https://terraref.ncsa.illinois.edu/bety/traits...   \n",
       "3  https://terraref.ncsa.illinois.edu/bety/traits...   \n",
       "4  https://terraref.ncsa.illinois.edu/bety/traits...   \n",
       "\n",
       "                                            edit_url  \n",
       "0  https://terraref.ncsa.illinois.edu/bety/traits...  \n",
       "1  https://terraref.ncsa.illinois.edu/bety/traits...  \n",
       "2  https://terraref.ncsa.illinois.edu/bety/traits...  \n",
       "3  https://terraref.ncsa.illinois.edu/bety/traits...  \n",
       "4  https://terraref.ncsa.illinois.edu/bety/traits...  \n",
       "\n",
       "[5 rows x 39 columns]"
      ]
     },
     "execution_count": 4,
     "metadata": {},
     "output_type": "execute_result"
    }
   ],
   "source": [
    "# try specifying dtype to eliminate DtypeWarning\n",
    "\n",
    "df2 = pd.read_csv('../data/raw/mac_season_4.csv', sep=',', dtype={'a': str})\n",
    "df2.head()"
   ]
  },
  {
   "cell_type": "code",
   "execution_count": 5,
   "metadata": {
    "pycharm": {
     "is_executing": false
    }
   },
   "outputs": [
    {
     "data": {
      "text/plain": [
       "(372363, 39)"
      ]
     },
     "execution_count": 5,
     "metadata": {},
     "output_type": "execute_result"
    }
   ],
   "source": [
    "# confirm same shape from R\n",
    "\n",
    "df2.shape"
   ]
  },
  {
   "cell_type": "code",
   "execution_count": 6,
   "metadata": {
    "pycharm": {
     "is_executing": false
    }
   },
   "outputs": [
    {
     "data": {
      "text/plain": [
       "Index(['Unnamed: 0', 'checked', 'result_type', 'id', 'citation_id', 'site_id',\n",
       "       'treatment_id', 'sitename', 'city', 'lat', 'lon', 'scientificname',\n",
       "       'commonname', 'genus', 'species_id', 'cultivar_id', 'author',\n",
       "       'citation_year', 'treatment', 'date', 'time', 'raw_date', 'month',\n",
       "       'year', 'dateloc', 'trait', 'trait_description', 'mean', 'units', 'n',\n",
       "       'statname', 'stat', 'notes', 'access_level', 'cultivar', 'entity',\n",
       "       'method_name', 'view_url', 'edit_url'],\n",
       "      dtype='object')"
      ]
     },
     "execution_count": 6,
     "metadata": {},
     "output_type": "execute_result"
    }
   ],
   "source": [
    "df2.columns"
   ]
  },
  {
   "cell_type": "code",
   "execution_count": 7,
   "metadata": {
    "pycharm": {
     "is_executing": false
    }
   },
   "outputs": [
    {
     "name": "stdout",
     "output_type": "stream",
     "text": [
      "treatment notes entity\n"
     ]
    }
   ],
   "source": [
    "# mixed dtypes in columns 18, 32, 35\n",
    "\n",
    "print(df2.columns[18], df2.columns[32], df2.columns[35])"
   ]
  },
  {
   "cell_type": "code",
   "execution_count": 8,
   "metadata": {
    "pycharm": {
     "is_executing": false
    }
   },
   "outputs": [
    {
     "data": {
      "text/plain": [
       "0    BAP 2017, water-deficit stress Aug 1-14\n",
       "1    BAP 2017, water-deficit stress Aug 1-14\n",
       "2    BAP 2017, water-deficit stress Aug 1-14\n",
       "3    BAP 2017, water-deficit stress Aug 1-14\n",
       "4    BAP 2017, water-deficit stress Aug 1-14\n",
       "Name: treatment, dtype: object"
      ]
     },
     "execution_count": 8,
     "metadata": {},
     "output_type": "execute_result"
    }
   ],
   "source": [
    "df2['treatment'].head()"
   ]
  },
  {
   "cell_type": "code",
   "execution_count": 9,
   "metadata": {
    "pycharm": {
     "is_executing": false
    }
   },
   "outputs": [
    {
     "data": {
      "text/plain": [
       "0    NaN\n",
       "1    NaN\n",
       "2    NaN\n",
       "3    NaN\n",
       "4    NaN\n",
       "Name: notes, dtype: object"
      ]
     },
     "execution_count": 9,
     "metadata": {},
     "output_type": "execute_result"
    }
   ],
   "source": [
    "df2['notes'].head()"
   ]
  },
  {
   "cell_type": "code",
   "execution_count": 10,
   "metadata": {
    "pycharm": {
     "is_executing": false
    }
   },
   "outputs": [
    {
     "data": {
      "text/plain": [
       "0    NaN\n",
       "1    NaN\n",
       "2    NaN\n",
       "3    NaN\n",
       "4    NaN\n",
       "Name: entity, dtype: object"
      ]
     },
     "execution_count": 10,
     "metadata": {},
     "output_type": "execute_result"
    }
   ],
   "source": [
    "df2['entity'].head()"
   ]
  },
  {
   "cell_type": "code",
   "execution_count": 11,
   "metadata": {
    "pycharm": {
     "is_executing": false
    }
   },
   "outputs": [
    {
     "data": {
      "text/plain": [
       "array(['traits'], dtype=object)"
      ]
     },
     "execution_count": 11,
     "metadata": {},
     "output_type": "execute_result"
    }
   ],
   "source": [
    "df2.result_type.unique()"
   ]
  },
  {
   "cell_type": "code",
   "execution_count": 12,
   "metadata": {
    "pycharm": {
     "is_executing": false
    }
   },
   "outputs": [
    {
     "data": {
      "text/plain": [
       "Unnamed: 0                                                           6\n",
       "checked                                                              0\n",
       "result_type                                                     traits\n",
       "id                                                          6001958937\n",
       "citation_id                                                      6e+09\n",
       "site_id                                                     6000005703\n",
       "treatment_id                                                     6e+09\n",
       "sitename                 MAC Field Scanner Season 4 Range 11 Column 15\n",
       "city                                                          Maricopa\n",
       "lat                                                            33.0749\n",
       "lon                                                           -111.975\n",
       "scientificname                                         Sorghum bicolor\n",
       "commonname                                                     sorghum\n",
       "genus                                                          Sorghum\n",
       "species_id                                                        2588\n",
       "cultivar_id                                                 6000000871\n",
       "author                                                  Newcomb, Maria\n",
       "citation_year                                                     2017\n",
       "treatment                      BAP 2017, water-deficit stress Aug 1-14\n",
       "date                                     2017 Jun 14 (America/Phoenix)\n",
       "time                                     [time unspecified or unknown]\n",
       "raw_date                                     2017-06-15 00:00:00 -0500\n",
       "month                                                                6\n",
       "year                                                              2017\n",
       "dateloc                                                              5\n",
       "trait                                         leaf_desiccation_present\n",
       "trait_description    Presence or absence of leaves showing desiccat...\n",
       "mean                                                                 0\n",
       "units                                                              NaN\n",
       "n                                                                  NaN\n",
       "statname                                                           NaN\n",
       "stat                                                               NaN\n",
       "notes                                                              NaN\n",
       "access_level                                                         2\n",
       "cultivar                                                      PI535796\n",
       "entity                                                             NaN\n",
       "method_name                      Visual assessment of leaf dessication\n",
       "view_url             https://terraref.ncsa.illinois.edu/bety/traits...\n",
       "edit_url             https://terraref.ncsa.illinois.edu/bety/traits...\n",
       "Name: 5, dtype: object"
      ]
     },
     "execution_count": 12,
     "metadata": {},
     "output_type": "execute_result"
    }
   ],
   "source": [
    "df2.iloc[5]"
   ]
  },
  {
   "cell_type": "code",
   "execution_count": 13,
   "metadata": {
    "pycharm": {
     "is_executing": false
    }
   },
   "outputs": [
    {
     "data": {
      "text/plain": [
       "array(['leaf_desiccation_present', 'lodging_present', 'leaf_temperature',\n",
       "       'planter_seed_drop', 'roll', 'PhiNO', 'PhiNPQ', 'absorbance_530',\n",
       "       'absorbance_605', 'absorbance_730', 'absorbance_880',\n",
       "       'absorbance_940', 'Fs', 'NPQt', 'qL', 'qP', 'RFd', 'SPAD_530',\n",
       "       'SPAD_605', 'SPAD_730', 'leaf_thickness', 'ambient_humidity',\n",
       "       'leaf_angle_clamp_position', 'pitch', 'proximal_air_temperature',\n",
       "       'FvP/FmP', 'gH+', 'ECSt', 'leaf_temperature_differential', 'Phi2',\n",
       "       'relative_chlorophyll', 'FmPrime', 'FoPrime', 'LEF', 'SPAD_420',\n",
       "       'SPAD_650', 'SPAD_850', 'SPAD_880', 'light_intensity_PAR', 'vH+',\n",
       "       'absorbance_650', 'absorbance_850', 'absorbance_420',\n",
       "       'surface_temperature', 'leaf_angle_chi', 'leaf_angle_mean',\n",
       "       'leaf_angle_alpha', 'leaf_angle_beta', 'aboveground_dry_biomass',\n",
       "       'seedling_emergence_rate', 'panicle_height', 'stand_count',\n",
       "       'dry_matter_fraction', 'harvest_lodging_rating', 'canopy_height',\n",
       "       'anthocyanin_index', 'chlorophyll_index',\n",
       "       'flag_leaf_emergence_time', 'flowering_time', 'grain_stage_time',\n",
       "       'leaf_length', 'leaf_width', 'leaf_stomatal_conductance',\n",
       "       'aboveground_biomass_moisture', 'aboveground_fresh_biomass',\n",
       "       'canopy_cover', 'panicle_count', 'panicle_volume',\n",
       "       'panicle_surface_area', 'stem_elongated_internodes_number',\n",
       "       'emergence_count', 'stalk_diameter_fixed_height',\n",
       "       'stalk_diameter_minor_axis', 'stalk_diameter_major_axis',\n",
       "       'plant_basal_tiller_number'], dtype=object)"
      ]
     },
     "execution_count": 13,
     "metadata": {},
     "output_type": "execute_result"
    }
   ],
   "source": [
    "df2.trait.unique()"
   ]
  },
  {
   "cell_type": "code",
   "execution_count": 14,
   "metadata": {
    "pycharm": {
     "is_executing": false
    }
   },
   "outputs": [
    {
     "data": {
      "text/plain": [
       "2202"
      ]
     },
     "execution_count": 14,
     "metadata": {},
     "output_type": "execute_result"
    }
   ],
   "source": [
    "df2.sitename.nunique()"
   ]
  },
  {
   "cell_type": "code",
   "execution_count": 15,
   "metadata": {
    "pycharm": {
     "is_executing": false
    }
   },
   "outputs": [
    {
     "data": {
      "text/plain": [
       "2202"
      ]
     },
     "execution_count": 15,
     "metadata": {},
     "output_type": "execute_result"
    }
   ],
   "source": [
    "df2.site_id.nunique()"
   ]
  },
  {
   "cell_type": "code",
   "execution_count": 16,
   "metadata": {
    "pycharm": {
     "is_executing": false
    }
   },
   "outputs": [
    {
     "data": {
      "text/plain": [
       "array(['MAC Field Scanner Season 4 Range 11 Column 5',\n",
       "       'MAC Field Scanner Season 4 Range 11 Column 6',\n",
       "       'MAC Field Scanner Season 4 Range 11 Column 9', ...,\n",
       "       'MAC Field Scanner Season 4 Range 20 Column 7 W',\n",
       "       'MAC Field Scanner Season 4 Range 21 Column 11 E',\n",
       "       'MAC Field Scanner Season 4 Range 30 Column 2 W'], dtype=object)"
      ]
     },
     "execution_count": 16,
     "metadata": {},
     "output_type": "execute_result"
    }
   ],
   "source": [
    "df2.sitename.unique()"
   ]
  },
  {
   "cell_type": "code",
   "execution_count": 17,
   "metadata": {
    "pycharm": {
     "is_executing": false
    }
   },
   "outputs": [
    {
     "data": {
      "text/plain": [
       "0      MAC Field Scanner Season 4 Range 11 Column 5\n",
       "1      MAC Field Scanner Season 4 Range 11 Column 6\n",
       "2      MAC Field Scanner Season 4 Range 11 Column 9\n",
       "3     MAC Field Scanner Season 4 Range 11 Column 11\n",
       "4     MAC Field Scanner Season 4 Range 11 Column 14\n",
       "5     MAC Field Scanner Season 4 Range 11 Column 15\n",
       "6      MAC Field Scanner Season 4 Range 12 Column 2\n",
       "7      MAC Field Scanner Season 4 Range 12 Column 3\n",
       "8      MAC Field Scanner Season 4 Range 12 Column 7\n",
       "9      MAC Field Scanner Season 4 Range 12 Column 9\n",
       "10    MAC Field Scanner Season 4 Range 12 Column 10\n",
       "11    MAC Field Scanner Season 4 Range 12 Column 12\n",
       "12    MAC Field Scanner Season 4 Range 12 Column 13\n",
       "13    MAC Field Scanner Season 4 Range 12 Column 14\n",
       "14     MAC Field Scanner Season 4 Range 13 Column 2\n",
       "15     MAC Field Scanner Season 4 Range 13 Column 5\n",
       "16     MAC Field Scanner Season 4 Range 13 Column 9\n",
       "17    MAC Field Scanner Season 4 Range 13 Column 10\n",
       "18    MAC Field Scanner Season 4 Range 13 Column 12\n",
       "19    MAC Field Scanner Season 4 Range 13 Column 13\n",
       "20     MAC Field Scanner Season 4 Range 14 Column 3\n",
       "21     MAC Field Scanner Season 4 Range 14 Column 4\n",
       "22     MAC Field Scanner Season 4 Range 14 Column 5\n",
       "23     MAC Field Scanner Season 4 Range 14 Column 7\n",
       "24    MAC Field Scanner Season 4 Range 14 Column 10\n",
       "Name: sitename, dtype: object"
      ]
     },
     "execution_count": 17,
     "metadata": {},
     "output_type": "execute_result"
    }
   ],
   "source": [
    "df2.sitename.head(25)"
   ]
  },
  {
   "cell_type": "code",
   "execution_count": 18,
   "metadata": {
    "jupyter": {
     "outputs_hidden": true
    },
    "pycharm": {
     "is_executing": false
    }
   },
   "outputs": [
    {
     "data": {
      "text/html": [
       "<div>\n",
       "<style scoped>\n",
       "    .dataframe tbody tr th:only-of-type {\n",
       "        vertical-align: middle;\n",
       "    }\n",
       "\n",
       "    .dataframe tbody tr th {\n",
       "        vertical-align: top;\n",
       "    }\n",
       "\n",
       "    .dataframe thead th {\n",
       "        text-align: right;\n",
       "    }\n",
       "</style>\n",
       "<table border=\"1\" class=\"dataframe\">\n",
       "  <thead>\n",
       "    <tr style=\"text-align: right;\">\n",
       "      <th></th>\n",
       "      <th>Unnamed: 0</th>\n",
       "      <th>checked</th>\n",
       "      <th>result_type</th>\n",
       "      <th>id</th>\n",
       "      <th>citation_id</th>\n",
       "      <th>site_id</th>\n",
       "      <th>treatment_id</th>\n",
       "      <th>sitename</th>\n",
       "      <th>city</th>\n",
       "      <th>lat</th>\n",
       "      <th>...</th>\n",
       "      <th>n</th>\n",
       "      <th>statname</th>\n",
       "      <th>stat</th>\n",
       "      <th>notes</th>\n",
       "      <th>access_level</th>\n",
       "      <th>cultivar</th>\n",
       "      <th>entity</th>\n",
       "      <th>method_name</th>\n",
       "      <th>view_url</th>\n",
       "      <th>edit_url</th>\n",
       "    </tr>\n",
       "  </thead>\n",
       "  <tbody>\n",
       "    <tr>\n",
       "      <th>23576</th>\n",
       "      <td>23577</td>\n",
       "      <td>0</td>\n",
       "      <td>traits</td>\n",
       "      <td>6001965127</td>\n",
       "      <td>6.000000e+09</td>\n",
       "      <td>6000005241</td>\n",
       "      <td>6.000000e+09</td>\n",
       "      <td>MAC Field Scanner Season 4 Range 2 Column 5</td>\n",
       "      <td>Maricopa</td>\n",
       "      <td>33.074584</td>\n",
       "      <td>...</td>\n",
       "      <td>NaN</td>\n",
       "      <td>NaN</td>\n",
       "      <td>NaN</td>\n",
       "      <td>NaN</td>\n",
       "      <td>2</td>\n",
       "      <td>SP1615</td>\n",
       "      <td>NaN</td>\n",
       "      <td>Whole above ground biomass at harvest</td>\n",
       "      <td>https://terraref.ncsa.illinois.edu/bety/traits...</td>\n",
       "      <td>https://terraref.ncsa.illinois.edu/bety/traits...</td>\n",
       "    </tr>\n",
       "    <tr>\n",
       "      <th>23577</th>\n",
       "      <td>23578</td>\n",
       "      <td>0</td>\n",
       "      <td>traits</td>\n",
       "      <td>6001965147</td>\n",
       "      <td>6.000000e+09</td>\n",
       "      <td>6000005237</td>\n",
       "      <td>6.000000e+09</td>\n",
       "      <td>MAC Field Scanner Season 4 Range 2 Column 9</td>\n",
       "      <td>Maricopa</td>\n",
       "      <td>33.074584</td>\n",
       "      <td>...</td>\n",
       "      <td>NaN</td>\n",
       "      <td>NaN</td>\n",
       "      <td>NaN</td>\n",
       "      <td>NaN</td>\n",
       "      <td>2</td>\n",
       "      <td>SP1615</td>\n",
       "      <td>NaN</td>\n",
       "      <td>Whole above ground biomass at harvest</td>\n",
       "      <td>https://terraref.ncsa.illinois.edu/bety/traits...</td>\n",
       "      <td>https://terraref.ncsa.illinois.edu/bety/traits...</td>\n",
       "    </tr>\n",
       "    <tr>\n",
       "      <th>23578</th>\n",
       "      <td>23579</td>\n",
       "      <td>0</td>\n",
       "      <td>traits</td>\n",
       "      <td>6001965192</td>\n",
       "      <td>6.000000e+09</td>\n",
       "      <td>6000005345</td>\n",
       "      <td>6.000000e+09</td>\n",
       "      <td>MAC Field Scanner Season 4 Range 3 Column 4</td>\n",
       "      <td>Maricopa</td>\n",
       "      <td>33.074619</td>\n",
       "      <td>...</td>\n",
       "      <td>NaN</td>\n",
       "      <td>NaN</td>\n",
       "      <td>NaN</td>\n",
       "      <td>NaN</td>\n",
       "      <td>2</td>\n",
       "      <td>PI145626</td>\n",
       "      <td>NaN</td>\n",
       "      <td>Whole above ground biomass at harvest</td>\n",
       "      <td>https://terraref.ncsa.illinois.edu/bety/traits...</td>\n",
       "      <td>https://terraref.ncsa.illinois.edu/bety/traits...</td>\n",
       "    </tr>\n",
       "    <tr>\n",
       "      <th>23579</th>\n",
       "      <td>23580</td>\n",
       "      <td>0</td>\n",
       "      <td>traits</td>\n",
       "      <td>6001965202</td>\n",
       "      <td>6.000000e+09</td>\n",
       "      <td>6000005351</td>\n",
       "      <td>6.000000e+09</td>\n",
       "      <td>MAC Field Scanner Season 4 Range 3 Column 6</td>\n",
       "      <td>Maricopa</td>\n",
       "      <td>33.074620</td>\n",
       "      <td>...</td>\n",
       "      <td>NaN</td>\n",
       "      <td>NaN</td>\n",
       "      <td>NaN</td>\n",
       "      <td>NaN</td>\n",
       "      <td>2</td>\n",
       "      <td>PI330181</td>\n",
       "      <td>NaN</td>\n",
       "      <td>Whole above ground biomass at harvest</td>\n",
       "      <td>https://terraref.ncsa.illinois.edu/bety/traits...</td>\n",
       "      <td>https://terraref.ncsa.illinois.edu/bety/traits...</td>\n",
       "    </tr>\n",
       "    <tr>\n",
       "      <th>23580</th>\n",
       "      <td>23581</td>\n",
       "      <td>0</td>\n",
       "      <td>traits</td>\n",
       "      <td>6001965232</td>\n",
       "      <td>6.000000e+09</td>\n",
       "      <td>6000005369</td>\n",
       "      <td>6.000000e+09</td>\n",
       "      <td>MAC Field Scanner Season 4 Range 3 Column 12</td>\n",
       "      <td>Maricopa</td>\n",
       "      <td>33.074620</td>\n",
       "      <td>...</td>\n",
       "      <td>NaN</td>\n",
       "      <td>NaN</td>\n",
       "      <td>NaN</td>\n",
       "      <td>NaN</td>\n",
       "      <td>2</td>\n",
       "      <td>PI152771</td>\n",
       "      <td>NaN</td>\n",
       "      <td>Whole above ground biomass at harvest</td>\n",
       "      <td>https://terraref.ncsa.illinois.edu/bety/traits...</td>\n",
       "      <td>https://terraref.ncsa.illinois.edu/bety/traits...</td>\n",
       "    </tr>\n",
       "  </tbody>\n",
       "</table>\n",
       "<p>5 rows × 39 columns</p>\n",
       "</div>"
      ],
      "text/plain": [
       "       Unnamed: 0  checked result_type          id   citation_id     site_id  \\\n",
       "23576       23577        0      traits  6001965127  6.000000e+09  6000005241   \n",
       "23577       23578        0      traits  6001965147  6.000000e+09  6000005237   \n",
       "23578       23579        0      traits  6001965192  6.000000e+09  6000005345   \n",
       "23579       23580        0      traits  6001965202  6.000000e+09  6000005351   \n",
       "23580       23581        0      traits  6001965232  6.000000e+09  6000005369   \n",
       "\n",
       "       treatment_id                                      sitename      city  \\\n",
       "23576  6.000000e+09   MAC Field Scanner Season 4 Range 2 Column 5  Maricopa   \n",
       "23577  6.000000e+09   MAC Field Scanner Season 4 Range 2 Column 9  Maricopa   \n",
       "23578  6.000000e+09   MAC Field Scanner Season 4 Range 3 Column 4  Maricopa   \n",
       "23579  6.000000e+09   MAC Field Scanner Season 4 Range 3 Column 6  Maricopa   \n",
       "23580  6.000000e+09  MAC Field Scanner Season 4 Range 3 Column 12  Maricopa   \n",
       "\n",
       "             lat  ...   n statname stat notes  access_level  cultivar entity  \\\n",
       "23576  33.074584  ... NaN      NaN  NaN   NaN             2    SP1615    NaN   \n",
       "23577  33.074584  ... NaN      NaN  NaN   NaN             2    SP1615    NaN   \n",
       "23578  33.074619  ... NaN      NaN  NaN   NaN             2  PI145626    NaN   \n",
       "23579  33.074620  ... NaN      NaN  NaN   NaN             2  PI330181    NaN   \n",
       "23580  33.074620  ... NaN      NaN  NaN   NaN             2  PI152771    NaN   \n",
       "\n",
       "                                 method_name  \\\n",
       "23576  Whole above ground biomass at harvest   \n",
       "23577  Whole above ground biomass at harvest   \n",
       "23578  Whole above ground biomass at harvest   \n",
       "23579  Whole above ground biomass at harvest   \n",
       "23580  Whole above ground biomass at harvest   \n",
       "\n",
       "                                                view_url  \\\n",
       "23576  https://terraref.ncsa.illinois.edu/bety/traits...   \n",
       "23577  https://terraref.ncsa.illinois.edu/bety/traits...   \n",
       "23578  https://terraref.ncsa.illinois.edu/bety/traits...   \n",
       "23579  https://terraref.ncsa.illinois.edu/bety/traits...   \n",
       "23580  https://terraref.ncsa.illinois.edu/bety/traits...   \n",
       "\n",
       "                                                edit_url  \n",
       "23576  https://terraref.ncsa.illinois.edu/bety/traits...  \n",
       "23577  https://terraref.ncsa.illinois.edu/bety/traits...  \n",
       "23578  https://terraref.ncsa.illinois.edu/bety/traits...  \n",
       "23579  https://terraref.ncsa.illinois.edu/bety/traits...  \n",
       "23580  https://terraref.ncsa.illinois.edu/bety/traits...  \n",
       "\n",
       "[5 rows x 39 columns]"
      ]
     },
     "execution_count": 18,
     "metadata": {},
     "output_type": "execute_result"
    }
   ],
   "source": [
    "df2.loc[df2.trait == 'aboveground_dry_biomass'].head()"
   ]
  },
  {
   "cell_type": "code",
   "execution_count": 19,
   "metadata": {
    "jupyter": {
     "outputs_hidden": true
    },
    "pycharm": {
     "is_executing": false
    }
   },
   "outputs": [
    {
     "data": {
      "text/plain": [
       "Unnamed: 0                                                         865\n",
       "checked                                                              0\n",
       "result_type                                                     traits\n",
       "id                                                          6001960853\n",
       "citation_id                                                      6e+09\n",
       "site_id                                                     6000005972\n",
       "treatment_id                                                     6e+09\n",
       "sitename                 MAC Field Scanner Season 4 Range 48 Column 13\n",
       "city                                                          Maricopa\n",
       "lat                                                            33.0762\n",
       "lon                                                           -111.975\n",
       "scientificname                                         Sorghum bicolor\n",
       "commonname                                                     sorghum\n",
       "genus                                                          Sorghum\n",
       "species_id                                                        2588\n",
       "cultivar_id                                                 6000000557\n",
       "author                                                  Newcomb, Maria\n",
       "citation_year                                                     2017\n",
       "treatment                      BAP 2017, water-deficit stress Aug 1-14\n",
       "date                                     2017 Jun 28 (America/Phoenix)\n",
       "time                                     [time unspecified or unknown]\n",
       "raw_date                                     2017-06-29 00:00:00 -0500\n",
       "month                                                                6\n",
       "year                                                              2017\n",
       "dateloc                                                              5\n",
       "trait                                         leaf_desiccation_present\n",
       "trait_description    Presence or absence of leaves showing desiccat...\n",
       "mean                                                                 0\n",
       "units                                                              NaN\n",
       "n                                                                  NaN\n",
       "statname                                                           NaN\n",
       "stat                                                               NaN\n",
       "notes                                                              NaN\n",
       "access_level                                                         2\n",
       "cultivar                                                      PI329300\n",
       "entity                                                             NaN\n",
       "method_name                      Visual assessment of leaf dessication\n",
       "view_url             https://terraref.ncsa.illinois.edu/bety/traits...\n",
       "edit_url             https://terraref.ncsa.illinois.edu/bety/traits...\n",
       "Name: 864, dtype: object"
      ]
     },
     "execution_count": 19,
     "metadata": {},
     "output_type": "execute_result"
    }
   ],
   "source": [
    "df2.iloc[864]"
   ]
  },
  {
   "cell_type": "code",
   "execution_count": 20,
   "metadata": {
    "pycharm": {
     "is_executing": false
    }
   },
   "outputs": [],
   "source": [
    "# sitename - column 7\n",
    "# trait - column 25\n",
    "# mean - column 27\n",
    "# units - column 28"
   ]
  },
  {
   "cell_type": "code",
   "execution_count": 21,
   "metadata": {
    "pycharm": {
     "is_executing": false
    }
   },
   "outputs": [],
   "source": [
    "# test_pivot_df = df2.pivot(index = 'sitename', columns = 'trait', values = ['mean', 'units'])\n",
    "# test_pivot_df.head()"
   ]
  },
  {
   "cell_type": "code",
   "execution_count": 22,
   "metadata": {
    "pycharm": {
     "is_executing": false
    }
   },
   "outputs": [],
   "source": [
    "# inspect duplicates\n",
    "\n",
    "duplicates = df2.duplicated(subset = ['sitename', 'trait'])"
   ]
  },
  {
   "cell_type": "code",
   "execution_count": 23,
   "metadata": {
    "jupyter": {
     "outputs_hidden": true
    },
    "pycharm": {
     "is_executing": false
    }
   },
   "outputs": [
    {
     "data": {
      "text/plain": [
       "True     359995\n",
       "False     12368\n",
       "dtype: int64"
      ]
     },
     "execution_count": 23,
     "metadata": {},
     "output_type": "execute_result"
    }
   ],
   "source": [
    "duplicates.value_counts()"
   ]
  },
  {
   "cell_type": "code",
   "execution_count": 24,
   "metadata": {
    "jupyter": {
     "outputs_hidden": true
    },
    "pycharm": {
     "is_executing": false
    }
   },
   "outputs": [
    {
     "data": {
      "text/plain": [
       "0    False\n",
       "1    False\n",
       "2    False\n",
       "3    False\n",
       "4    False\n",
       "dtype: bool"
      ]
     },
     "execution_count": 24,
     "metadata": {},
     "output_type": "execute_result"
    }
   ],
   "source": [
    "duplicates.head()"
   ]
  },
  {
   "cell_type": "code",
   "execution_count": 25,
   "metadata": {
    "jupyter": {
     "outputs_hidden": true
    },
    "pycharm": {
     "is_executing": false
    }
   },
   "outputs": [
    {
     "data": {
      "text/html": [
       "<div>\n",
       "<style scoped>\n",
       "    .dataframe tbody tr th:only-of-type {\n",
       "        vertical-align: middle;\n",
       "    }\n",
       "\n",
       "    .dataframe tbody tr th {\n",
       "        vertical-align: top;\n",
       "    }\n",
       "\n",
       "    .dataframe thead th {\n",
       "        text-align: right;\n",
       "    }\n",
       "</style>\n",
       "<table border=\"1\" class=\"dataframe\">\n",
       "  <thead>\n",
       "    <tr style=\"text-align: right;\">\n",
       "      <th></th>\n",
       "      <th>sitename</th>\n",
       "      <th>trait</th>\n",
       "      <th>mean</th>\n",
       "      <th>units</th>\n",
       "    </tr>\n",
       "  </thead>\n",
       "  <tbody>\n",
       "    <tr>\n",
       "      <th>1</th>\n",
       "      <td>MAC Field Scanner Season 4 Range 11 Column 6</td>\n",
       "      <td>leaf_desiccation_present</td>\n",
       "      <td>0.0</td>\n",
       "      <td>NaN</td>\n",
       "    </tr>\n",
       "    <tr>\n",
       "      <th>2</th>\n",
       "      <td>MAC Field Scanner Season 4 Range 11 Column 9</td>\n",
       "      <td>leaf_desiccation_present</td>\n",
       "      <td>0.0</td>\n",
       "      <td>NaN</td>\n",
       "    </tr>\n",
       "    <tr>\n",
       "      <th>3</th>\n",
       "      <td>MAC Field Scanner Season 4 Range 11 Column 11</td>\n",
       "      <td>leaf_desiccation_present</td>\n",
       "      <td>0.0</td>\n",
       "      <td>NaN</td>\n",
       "    </tr>\n",
       "    <tr>\n",
       "      <th>4</th>\n",
       "      <td>MAC Field Scanner Season 4 Range 11 Column 14</td>\n",
       "      <td>leaf_desiccation_present</td>\n",
       "      <td>0.0</td>\n",
       "      <td>NaN</td>\n",
       "    </tr>\n",
       "    <tr>\n",
       "      <th>5</th>\n",
       "      <td>MAC Field Scanner Season 4 Range 11 Column 15</td>\n",
       "      <td>leaf_desiccation_present</td>\n",
       "      <td>0.0</td>\n",
       "      <td>NaN</td>\n",
       "    </tr>\n",
       "  </tbody>\n",
       "</table>\n",
       "</div>"
      ],
      "text/plain": [
       "                                        sitename                     trait  \\\n",
       "1   MAC Field Scanner Season 4 Range 11 Column 6  leaf_desiccation_present   \n",
       "2   MAC Field Scanner Season 4 Range 11 Column 9  leaf_desiccation_present   \n",
       "3  MAC Field Scanner Season 4 Range 11 Column 11  leaf_desiccation_present   \n",
       "4  MAC Field Scanner Season 4 Range 11 Column 14  leaf_desiccation_present   \n",
       "5  MAC Field Scanner Season 4 Range 11 Column 15  leaf_desiccation_present   \n",
       "\n",
       "   mean units  \n",
       "1   0.0   NaN  \n",
       "2   0.0   NaN  \n",
       "3   0.0   NaN  \n",
       "4   0.0   NaN  \n",
       "5   0.0   NaN  "
      ]
     },
     "execution_count": 25,
     "metadata": {},
     "output_type": "execute_result"
    }
   ],
   "source": [
    "# rows 1:5 - sitename, trait, mean, units\n",
    "\n",
    "test_sample = df2.loc[1:5, ['sitename', 'trait', 'mean', 'units']]\n",
    "test_sample"
   ]
  },
  {
   "cell_type": "code",
   "execution_count": 26,
   "metadata": {
    "pycharm": {
     "is_executing": false
    }
   },
   "outputs": [],
   "source": [
    "# days to emergence\n",
    "# days to flowering\n",
    "# aboveground dry biomass"
   ]
  },
  {
   "cell_type": "code",
   "execution_count": 27,
   "metadata": {
    "pycharm": {
     "is_executing": false
    }
   },
   "outputs": [
    {
     "data": {
      "text/plain": [
       "False    199\n",
       "True       1\n",
       "dtype: int64"
      ]
     },
     "execution_count": 27,
     "metadata": {},
     "output_type": "execute_result"
    }
   ],
   "source": [
    "# aboveground dry biomass should only have been measured once per plot - at the end of harvest date\n",
    "# check for duplicates \n",
    "\n",
    "dry_biomass_trait = df2.loc[df2['trait'] == 'aboveground_dry_biomass']\n",
    "dry_biomass_trait.duplicated(subset = 'sitename').value_counts()"
   ]
  },
  {
   "cell_type": "code",
   "execution_count": 28,
   "metadata": {
    "pycharm": {
     "is_executing": false
    }
   },
   "outputs": [
    {
     "data": {
      "text/plain": [
       "False    53\n",
       "True      1\n",
       "dtype: int64"
      ]
     },
     "execution_count": 28,
     "metadata": {},
     "output_type": "execute_result"
    }
   ],
   "source": [
    "# days to flowering\n",
    "\n",
    "flowering_time = df2.loc[df2['trait'] == 'flowering_time']\n",
    "flowering_time.duplicated(subset = 'sitename').value_counts()"
   ]
  },
  {
   "cell_type": "code",
   "execution_count": 29,
   "metadata": {
    "pycharm": {
     "is_executing": false
    }
   },
   "outputs": [
    {
     "data": {
      "text/plain": [
       "False    78\n",
       "True      1\n",
       "dtype: int64"
      ]
     },
     "execution_count": 29,
     "metadata": {},
     "output_type": "execute_result"
    }
   ],
   "source": [
    "# days to emergence\n",
    "\n",
    "flag_leaf_emergence = df2.loc[df2['trait'] == 'flag_leaf_emergence_time']\n",
    "flag_leaf_emergence.duplicated(subset = 'sitename').value_counts()\n"
   ]
  },
  {
   "cell_type": "code",
   "execution_count": 30,
   "metadata": {
    "pycharm": {
     "is_executing": false
    }
   },
   "outputs": [],
   "source": [
    "test_check = df2.loc[df2['sitename'].str.contains('MAC Field Scanner Season 4 Range 3 Column 12')]"
   ]
  },
  {
   "cell_type": "code",
   "execution_count": 31,
   "metadata": {
    "pycharm": {
     "is_executing": false
    }
   },
   "outputs": [
    {
     "data": {
      "text/plain": [
       "Unnamed: 0                                                      371832\n",
       "checked                                                              0\n",
       "result_type                                                     traits\n",
       "id                                                          6004506432\n",
       "citation_id                                                      6e+09\n",
       "site_id                                                     6000005407\n",
       "treatment_id                                                       NaN\n",
       "sitename                   MAC Field Scanner Season 4 Range 4 Column 6\n",
       "city                                                          Maricopa\n",
       "lat                                                            33.0747\n",
       "lon                                                           -111.975\n",
       "scientificname                                         Sorghum bicolor\n",
       "commonname                                                     sorghum\n",
       "genus                                                          Sorghum\n",
       "species_id                                                        2588\n",
       "cultivar_id                                                 6000000552\n",
       "author                                                    Zongyang, Li\n",
       "citation_year                                                     2016\n",
       "treatment                                                          NaN\n",
       "date                                                        2017 Jun 6\n",
       "time                                        12:00:00 (America/Phoenix)\n",
       "raw_date                                     2017-06-06 14:00:00 -0500\n",
       "month                                                                6\n",
       "year                                                              2017\n",
       "dateloc                                                              5\n",
       "trait                                                   leaf_angle_chi\n",
       "trait_description                                                  NaN\n",
       "mean                                                           1.94651\n",
       "units                                                              NaN\n",
       "n                                                                  NaN\n",
       "statname                                                           NaN\n",
       "stat                                                               NaN\n",
       "notes                                                              NaN\n",
       "access_level                                                         2\n",
       "cultivar                                                      PI302252\n",
       "entity                                                             NaN\n",
       "method_name                      3D scanner to leaf angle distribution\n",
       "view_url             https://terraref.ncsa.illinois.edu/bety/traits...\n",
       "edit_url             https://terraref.ncsa.illinois.edu/bety/traits...\n",
       "Name: 371831, dtype: object"
      ]
     },
     "execution_count": 31,
     "metadata": {},
     "output_type": "execute_result"
    }
   ],
   "source": [
    "df2.iloc[371831]"
   ]
  },
  {
   "cell_type": "code",
   "execution_count": 32,
   "metadata": {
    "pycharm": {
     "is_executing": false
    }
   },
   "outputs": [
    {
     "data": {
      "text/plain": [
       "(360, 39)"
      ]
     },
     "execution_count": 32,
     "metadata": {},
     "output_type": "execute_result"
    }
   ],
   "source": [
    "test_check.shape"
   ]
  },
  {
   "cell_type": "code",
   "execution_count": 33,
   "metadata": {
    "pycharm": {
     "is_executing": false
    }
   },
   "outputs": [
    {
     "name": "stdout",
     "output_type": "stream",
     "text": [
      "2017-09-16 00:00:00 -0500\n",
      "2017-04-26 00:00:00 -0500\n"
     ]
    }
   ],
   "source": [
    "print(test_check.raw_date.max())\n",
    "print(test_check.raw_date.min())"
   ]
  },
  {
   "cell_type": "code",
   "execution_count": 34,
   "metadata": {
    "pycharm": {
     "is_executing": false
    }
   },
   "outputs": [
    {
     "data": {
      "text/plain": [
       "23580          aboveground_dry_biomass\n",
       "24787              dry_matter_fraction\n",
       "24958           harvest_lodging_rating\n",
       "303089    aboveground_biomass_moisture\n",
       "303265       aboveground_fresh_biomass\n",
       "Name: trait, dtype: object"
      ]
     },
     "execution_count": 34,
     "metadata": {},
     "output_type": "execute_result"
    }
   ],
   "source": [
    "test_check.loc[test_check.raw_date == test_check.raw_date.max()]['trait']"
   ]
  },
  {
   "cell_type": "code",
   "execution_count": 35,
   "metadata": {
    "pycharm": {
     "is_executing": false
    }
   },
   "outputs": [],
   "source": [
    "# drop all rows that do not contain trait values for days to flowering, days to emergence, and aboveground dry biomass\n",
    "\n",
    "selected_traits_only = df2[(df2['trait'] == 'aboveground_dry_biomass') | (df2['trait'] == 'flowering_time') | \\\n",
    "                          (df2['trait'] == 'flag_leaf_emergence_time')]"
   ]
  },
  {
   "cell_type": "code",
   "execution_count": 36,
   "metadata": {
    "pycharm": {
     "is_executing": false
    }
   },
   "outputs": [
    {
     "data": {
      "text/plain": [
       "(333, 39)"
      ]
     },
     "execution_count": 36,
     "metadata": {},
     "output_type": "execute_result"
    }
   ],
   "source": [
    "selected_traits_only.shape"
   ]
  },
  {
   "cell_type": "code",
   "execution_count": 37,
   "metadata": {
    "pycharm": {
     "is_executing": false
    }
   },
   "outputs": [
    {
     "data": {
      "text/plain": [
       "array(['aboveground_dry_biomass', 'flag_leaf_emergence_time',\n",
       "       'flowering_time'], dtype=object)"
      ]
     },
     "execution_count": 37,
     "metadata": {},
     "output_type": "execute_result"
    }
   ],
   "source": [
    "selected_traits_only.trait.unique()"
   ]
  },
  {
   "cell_type": "code",
   "execution_count": 38,
   "metadata": {
    "pycharm": {
     "is_executing": false
    }
   },
   "outputs": [
    {
     "data": {
      "text/plain": [
       "Index(['Unnamed: 0', 'checked', 'result_type', 'id', 'citation_id', 'site_id',\n",
       "       'treatment_id', 'sitename', 'city', 'lat', 'lon', 'scientificname',\n",
       "       'commonname', 'genus', 'species_id', 'cultivar_id', 'author',\n",
       "       'citation_year', 'treatment', 'date', 'time', 'raw_date', 'month',\n",
       "       'year', 'dateloc', 'trait', 'trait_description', 'mean', 'units', 'n',\n",
       "       'statname', 'stat', 'notes', 'access_level', 'cultivar', 'entity',\n",
       "       'method_name', 'view_url', 'edit_url'],\n",
       "      dtype='object')"
      ]
     },
     "execution_count": 38,
     "metadata": {},
     "output_type": "execute_result"
    }
   ],
   "source": [
    "selected_traits_only.columns"
   ]
  },
  {
   "cell_type": "code",
   "execution_count": 39,
   "metadata": {
    "pycharm": {
     "is_executing": false
    }
   },
   "outputs": [
    {
     "data": {
      "text/html": [
       "<div>\n",
       "<style scoped>\n",
       "    .dataframe tbody tr th:only-of-type {\n",
       "        vertical-align: middle;\n",
       "    }\n",
       "\n",
       "    .dataframe tbody tr th {\n",
       "        vertical-align: top;\n",
       "    }\n",
       "\n",
       "    .dataframe thead th {\n",
       "        text-align: right;\n",
       "    }\n",
       "</style>\n",
       "<table border=\"1\" class=\"dataframe\">\n",
       "  <thead>\n",
       "    <tr style=\"text-align: right;\">\n",
       "      <th></th>\n",
       "      <th>Unnamed: 0</th>\n",
       "      <th>checked</th>\n",
       "      <th>result_type</th>\n",
       "      <th>id</th>\n",
       "      <th>citation_id</th>\n",
       "      <th>site_id</th>\n",
       "      <th>treatment_id</th>\n",
       "      <th>sitename</th>\n",
       "      <th>city</th>\n",
       "      <th>lat</th>\n",
       "      <th>...</th>\n",
       "      <th>n</th>\n",
       "      <th>statname</th>\n",
       "      <th>stat</th>\n",
       "      <th>notes</th>\n",
       "      <th>access_level</th>\n",
       "      <th>cultivar</th>\n",
       "      <th>entity</th>\n",
       "      <th>method_name</th>\n",
       "      <th>view_url</th>\n",
       "      <th>edit_url</th>\n",
       "    </tr>\n",
       "  </thead>\n",
       "  <tbody>\n",
       "    <tr>\n",
       "      <th>23576</th>\n",
       "      <td>23577</td>\n",
       "      <td>0</td>\n",
       "      <td>traits</td>\n",
       "      <td>6001965127</td>\n",
       "      <td>6.000000e+09</td>\n",
       "      <td>6000005241</td>\n",
       "      <td>6.000000e+09</td>\n",
       "      <td>MAC Field Scanner Season 4 Range 2 Column 5</td>\n",
       "      <td>Maricopa</td>\n",
       "      <td>33.074584</td>\n",
       "      <td>...</td>\n",
       "      <td>NaN</td>\n",
       "      <td>NaN</td>\n",
       "      <td>NaN</td>\n",
       "      <td>NaN</td>\n",
       "      <td>2</td>\n",
       "      <td>SP1615</td>\n",
       "      <td>NaN</td>\n",
       "      <td>Whole above ground biomass at harvest</td>\n",
       "      <td>https://terraref.ncsa.illinois.edu/bety/traits...</td>\n",
       "      <td>https://terraref.ncsa.illinois.edu/bety/traits...</td>\n",
       "    </tr>\n",
       "    <tr>\n",
       "      <th>23577</th>\n",
       "      <td>23578</td>\n",
       "      <td>0</td>\n",
       "      <td>traits</td>\n",
       "      <td>6001965147</td>\n",
       "      <td>6.000000e+09</td>\n",
       "      <td>6000005237</td>\n",
       "      <td>6.000000e+09</td>\n",
       "      <td>MAC Field Scanner Season 4 Range 2 Column 9</td>\n",
       "      <td>Maricopa</td>\n",
       "      <td>33.074584</td>\n",
       "      <td>...</td>\n",
       "      <td>NaN</td>\n",
       "      <td>NaN</td>\n",
       "      <td>NaN</td>\n",
       "      <td>NaN</td>\n",
       "      <td>2</td>\n",
       "      <td>SP1615</td>\n",
       "      <td>NaN</td>\n",
       "      <td>Whole above ground biomass at harvest</td>\n",
       "      <td>https://terraref.ncsa.illinois.edu/bety/traits...</td>\n",
       "      <td>https://terraref.ncsa.illinois.edu/bety/traits...</td>\n",
       "    </tr>\n",
       "    <tr>\n",
       "      <th>23578</th>\n",
       "      <td>23579</td>\n",
       "      <td>0</td>\n",
       "      <td>traits</td>\n",
       "      <td>6001965192</td>\n",
       "      <td>6.000000e+09</td>\n",
       "      <td>6000005345</td>\n",
       "      <td>6.000000e+09</td>\n",
       "      <td>MAC Field Scanner Season 4 Range 3 Column 4</td>\n",
       "      <td>Maricopa</td>\n",
       "      <td>33.074619</td>\n",
       "      <td>...</td>\n",
       "      <td>NaN</td>\n",
       "      <td>NaN</td>\n",
       "      <td>NaN</td>\n",
       "      <td>NaN</td>\n",
       "      <td>2</td>\n",
       "      <td>PI145626</td>\n",
       "      <td>NaN</td>\n",
       "      <td>Whole above ground biomass at harvest</td>\n",
       "      <td>https://terraref.ncsa.illinois.edu/bety/traits...</td>\n",
       "      <td>https://terraref.ncsa.illinois.edu/bety/traits...</td>\n",
       "    </tr>\n",
       "    <tr>\n",
       "      <th>23579</th>\n",
       "      <td>23580</td>\n",
       "      <td>0</td>\n",
       "      <td>traits</td>\n",
       "      <td>6001965202</td>\n",
       "      <td>6.000000e+09</td>\n",
       "      <td>6000005351</td>\n",
       "      <td>6.000000e+09</td>\n",
       "      <td>MAC Field Scanner Season 4 Range 3 Column 6</td>\n",
       "      <td>Maricopa</td>\n",
       "      <td>33.074620</td>\n",
       "      <td>...</td>\n",
       "      <td>NaN</td>\n",
       "      <td>NaN</td>\n",
       "      <td>NaN</td>\n",
       "      <td>NaN</td>\n",
       "      <td>2</td>\n",
       "      <td>PI330181</td>\n",
       "      <td>NaN</td>\n",
       "      <td>Whole above ground biomass at harvest</td>\n",
       "      <td>https://terraref.ncsa.illinois.edu/bety/traits...</td>\n",
       "      <td>https://terraref.ncsa.illinois.edu/bety/traits...</td>\n",
       "    </tr>\n",
       "    <tr>\n",
       "      <th>23580</th>\n",
       "      <td>23581</td>\n",
       "      <td>0</td>\n",
       "      <td>traits</td>\n",
       "      <td>6001965232</td>\n",
       "      <td>6.000000e+09</td>\n",
       "      <td>6000005369</td>\n",
       "      <td>6.000000e+09</td>\n",
       "      <td>MAC Field Scanner Season 4 Range 3 Column 12</td>\n",
       "      <td>Maricopa</td>\n",
       "      <td>33.074620</td>\n",
       "      <td>...</td>\n",
       "      <td>NaN</td>\n",
       "      <td>NaN</td>\n",
       "      <td>NaN</td>\n",
       "      <td>NaN</td>\n",
       "      <td>2</td>\n",
       "      <td>PI152771</td>\n",
       "      <td>NaN</td>\n",
       "      <td>Whole above ground biomass at harvest</td>\n",
       "      <td>https://terraref.ncsa.illinois.edu/bety/traits...</td>\n",
       "      <td>https://terraref.ncsa.illinois.edu/bety/traits...</td>\n",
       "    </tr>\n",
       "  </tbody>\n",
       "</table>\n",
       "<p>5 rows × 39 columns</p>\n",
       "</div>"
      ],
      "text/plain": [
       "       Unnamed: 0  checked result_type          id   citation_id     site_id  \\\n",
       "23576       23577        0      traits  6001965127  6.000000e+09  6000005241   \n",
       "23577       23578        0      traits  6001965147  6.000000e+09  6000005237   \n",
       "23578       23579        0      traits  6001965192  6.000000e+09  6000005345   \n",
       "23579       23580        0      traits  6001965202  6.000000e+09  6000005351   \n",
       "23580       23581        0      traits  6001965232  6.000000e+09  6000005369   \n",
       "\n",
       "       treatment_id                                      sitename      city  \\\n",
       "23576  6.000000e+09   MAC Field Scanner Season 4 Range 2 Column 5  Maricopa   \n",
       "23577  6.000000e+09   MAC Field Scanner Season 4 Range 2 Column 9  Maricopa   \n",
       "23578  6.000000e+09   MAC Field Scanner Season 4 Range 3 Column 4  Maricopa   \n",
       "23579  6.000000e+09   MAC Field Scanner Season 4 Range 3 Column 6  Maricopa   \n",
       "23580  6.000000e+09  MAC Field Scanner Season 4 Range 3 Column 12  Maricopa   \n",
       "\n",
       "             lat  ...   n statname stat notes  access_level  cultivar entity  \\\n",
       "23576  33.074584  ... NaN      NaN  NaN   NaN             2    SP1615    NaN   \n",
       "23577  33.074584  ... NaN      NaN  NaN   NaN             2    SP1615    NaN   \n",
       "23578  33.074619  ... NaN      NaN  NaN   NaN             2  PI145626    NaN   \n",
       "23579  33.074620  ... NaN      NaN  NaN   NaN             2  PI330181    NaN   \n",
       "23580  33.074620  ... NaN      NaN  NaN   NaN             2  PI152771    NaN   \n",
       "\n",
       "                                 method_name  \\\n",
       "23576  Whole above ground biomass at harvest   \n",
       "23577  Whole above ground biomass at harvest   \n",
       "23578  Whole above ground biomass at harvest   \n",
       "23579  Whole above ground biomass at harvest   \n",
       "23580  Whole above ground biomass at harvest   \n",
       "\n",
       "                                                view_url  \\\n",
       "23576  https://terraref.ncsa.illinois.edu/bety/traits...   \n",
       "23577  https://terraref.ncsa.illinois.edu/bety/traits...   \n",
       "23578  https://terraref.ncsa.illinois.edu/bety/traits...   \n",
       "23579  https://terraref.ncsa.illinois.edu/bety/traits...   \n",
       "23580  https://terraref.ncsa.illinois.edu/bety/traits...   \n",
       "\n",
       "                                                edit_url  \n",
       "23576  https://terraref.ncsa.illinois.edu/bety/traits...  \n",
       "23577  https://terraref.ncsa.illinois.edu/bety/traits...  \n",
       "23578  https://terraref.ncsa.illinois.edu/bety/traits...  \n",
       "23579  https://terraref.ncsa.illinois.edu/bety/traits...  \n",
       "23580  https://terraref.ncsa.illinois.edu/bety/traits...  \n",
       "\n",
       "[5 rows x 39 columns]"
      ]
     },
     "execution_count": 39,
     "metadata": {},
     "output_type": "execute_result"
    }
   ],
   "source": [
    "selected_traits_only.head()\n",
    "\n"
   ]
  },
  {
   "cell_type": "code",
   "execution_count": 40,
   "metadata": {
    "pycharm": {
     "is_executing": false
    }
   },
   "outputs": [
    {
     "name": "stdout",
     "output_type": "stream",
     "text": [
      "['Maricopa']\n",
      "330\n",
      "1\n",
      "247\n",
      "247\n",
      "1\n",
      "1\n",
      "196\n",
      "['Aboveground Dry Biomass'\n",
      " 'Number days from sowing to the date when 50% of the plants in a plot have reached flag leaf emergence (ligulation) stage. Flag leaf is the last leaf to emerge from the whorl, positioned directly below the panicle.'\n",
      " 'Number of days from sowing to the date when 50% of the plants in a plot reach flowering (anthesis), defined as the time when 50% of the anthers on 50% of the plants in a plot have emerged.']\n",
      "[nan]\n",
      "[nan]\n",
      "196\n",
      "['Whole above ground biomass at harvest'\n",
      " 'Visual classification of sorghum growth stages to determine estimates of developmental timing']\n"
     ]
    }
   ],
   "source": [
    "print(selected_traits_only.city.unique())\n",
    "print(selected_traits_only.id.nunique())\n",
    "print(selected_traits_only.citation_id.nunique())\n",
    "print(selected_traits_only.site_id.nunique())\n",
    "print(selected_traits_only.lat.nunique())\n",
    "print(selected_traits_only.scientificname.nunique())\n",
    "print(selected_traits_only.species_id.nunique())\n",
    "print(selected_traits_only.cultivar_id.nunique())\n",
    "print(selected_traits_only.trait_description.unique())\n",
    "print(selected_traits_only.n.unique())\n",
    "print(selected_traits_only.notes.unique())\n",
    "print(selected_traits_only.cultivar.nunique())\n",
    "print(selected_traits_only.method_name.unique())"
   ]
  },
  {
   "cell_type": "code",
   "execution_count": 41,
   "metadata": {
    "pycharm": {
     "is_executing": false
    }
   },
   "outputs": [
    {
     "data": {
      "text/plain": [
       "(333, 39)"
      ]
     },
     "execution_count": 41,
     "metadata": {},
     "output_type": "execute_result"
    }
   ],
   "source": [
    "selected_traits_only.shape"
   ]
  },
  {
   "cell_type": "code",
   "execution_count": 42,
   "metadata": {
    "pycharm": {
     "is_executing": false
    }
   },
   "outputs": [],
   "source": [
    "cols_to_drop = ['Unnamed: 0', 'checked', 'result_type', 'citation_id', 'scientificname', 'species_id', 'author', \\\n",
    "               'citation_year', 'treatment', 'date', 'month', 'year', 'dateloc', 'n', 'statname', 'stat', 'notes', \\\n",
    "               'access_level', 'entity', 'method_name', 'view_url', 'edit_url', 'treatment_id', 'city', 'commonname', \\\n",
    "               'genus', 'time', 'raw_date']\n",
    "\n",
    "selected_and_dropped = selected_traits_only.drop(labels = cols_to_drop, axis = 1)"
   ]
  },
  {
   "cell_type": "code",
   "execution_count": 43,
   "metadata": {
    "pycharm": {
     "is_executing": false
    }
   },
   "outputs": [
    {
     "data": {
      "text/html": [
       "<div>\n",
       "<style scoped>\n",
       "    .dataframe tbody tr th:only-of-type {\n",
       "        vertical-align: middle;\n",
       "    }\n",
       "\n",
       "    .dataframe tbody tr th {\n",
       "        vertical-align: top;\n",
       "    }\n",
       "\n",
       "    .dataframe thead th {\n",
       "        text-align: right;\n",
       "    }\n",
       "</style>\n",
       "<table border=\"1\" class=\"dataframe\">\n",
       "  <thead>\n",
       "    <tr style=\"text-align: right;\">\n",
       "      <th></th>\n",
       "      <th>id</th>\n",
       "      <th>site_id</th>\n",
       "      <th>sitename</th>\n",
       "      <th>lat</th>\n",
       "      <th>lon</th>\n",
       "      <th>cultivar_id</th>\n",
       "      <th>trait</th>\n",
       "      <th>trait_description</th>\n",
       "      <th>mean</th>\n",
       "      <th>units</th>\n",
       "      <th>cultivar</th>\n",
       "    </tr>\n",
       "  </thead>\n",
       "  <tbody>\n",
       "    <tr>\n",
       "      <th>23576</th>\n",
       "      <td>6001965127</td>\n",
       "      <td>6000005241</td>\n",
       "      <td>MAC Field Scanner Season 4 Range 2 Column 5</td>\n",
       "      <td>33.074584</td>\n",
       "      <td>-111.974982</td>\n",
       "      <td>6000001054</td>\n",
       "      <td>aboveground_dry_biomass</td>\n",
       "      <td>Aboveground Dry Biomass</td>\n",
       "      <td>37330.0</td>\n",
       "      <td>kg / ha</td>\n",
       "      <td>SP1615</td>\n",
       "    </tr>\n",
       "    <tr>\n",
       "      <th>23577</th>\n",
       "      <td>6001965147</td>\n",
       "      <td>6000005237</td>\n",
       "      <td>MAC Field Scanner Season 4 Range 2 Column 9</td>\n",
       "      <td>33.074584</td>\n",
       "      <td>-111.974917</td>\n",
       "      <td>6000001054</td>\n",
       "      <td>aboveground_dry_biomass</td>\n",
       "      <td>Aboveground Dry Biomass</td>\n",
       "      <td>36900.0</td>\n",
       "      <td>kg / ha</td>\n",
       "      <td>SP1615</td>\n",
       "    </tr>\n",
       "    <tr>\n",
       "      <th>23578</th>\n",
       "      <td>6001965192</td>\n",
       "      <td>6000005345</td>\n",
       "      <td>MAC Field Scanner Season 4 Range 3 Column 4</td>\n",
       "      <td>33.074619</td>\n",
       "      <td>-111.974998</td>\n",
       "      <td>6000000462</td>\n",
       "      <td>aboveground_dry_biomass</td>\n",
       "      <td>Aboveground Dry Biomass</td>\n",
       "      <td>23190.0</td>\n",
       "      <td>kg / ha</td>\n",
       "      <td>PI145626</td>\n",
       "    </tr>\n",
       "    <tr>\n",
       "      <th>23579</th>\n",
       "      <td>6001965202</td>\n",
       "      <td>6000005351</td>\n",
       "      <td>MAC Field Scanner Season 4 Range 3 Column 6</td>\n",
       "      <td>33.074620</td>\n",
       "      <td>-111.974966</td>\n",
       "      <td>6000000818</td>\n",
       "      <td>aboveground_dry_biomass</td>\n",
       "      <td>Aboveground Dry Biomass</td>\n",
       "      <td>30150.0</td>\n",
       "      <td>kg / ha</td>\n",
       "      <td>PI330181</td>\n",
       "    </tr>\n",
       "    <tr>\n",
       "      <th>23580</th>\n",
       "      <td>6001965232</td>\n",
       "      <td>6000005369</td>\n",
       "      <td>MAC Field Scanner Season 4 Range 3 Column 12</td>\n",
       "      <td>33.074620</td>\n",
       "      <td>-111.974867</td>\n",
       "      <td>6000000685</td>\n",
       "      <td>aboveground_dry_biomass</td>\n",
       "      <td>Aboveground Dry Biomass</td>\n",
       "      <td>21990.0</td>\n",
       "      <td>kg / ha</td>\n",
       "      <td>PI152771</td>\n",
       "    </tr>\n",
       "  </tbody>\n",
       "</table>\n",
       "</div>"
      ],
      "text/plain": [
       "               id     site_id                                      sitename  \\\n",
       "23576  6001965127  6000005241   MAC Field Scanner Season 4 Range 2 Column 5   \n",
       "23577  6001965147  6000005237   MAC Field Scanner Season 4 Range 2 Column 9   \n",
       "23578  6001965192  6000005345   MAC Field Scanner Season 4 Range 3 Column 4   \n",
       "23579  6001965202  6000005351   MAC Field Scanner Season 4 Range 3 Column 6   \n",
       "23580  6001965232  6000005369  MAC Field Scanner Season 4 Range 3 Column 12   \n",
       "\n",
       "             lat         lon  cultivar_id                    trait  \\\n",
       "23576  33.074584 -111.974982   6000001054  aboveground_dry_biomass   \n",
       "23577  33.074584 -111.974917   6000001054  aboveground_dry_biomass   \n",
       "23578  33.074619 -111.974998   6000000462  aboveground_dry_biomass   \n",
       "23579  33.074620 -111.974966   6000000818  aboveground_dry_biomass   \n",
       "23580  33.074620 -111.974867   6000000685  aboveground_dry_biomass   \n",
       "\n",
       "             trait_description     mean    units  cultivar  \n",
       "23576  Aboveground Dry Biomass  37330.0  kg / ha    SP1615  \n",
       "23577  Aboveground Dry Biomass  36900.0  kg / ha    SP1615  \n",
       "23578  Aboveground Dry Biomass  23190.0  kg / ha  PI145626  \n",
       "23579  Aboveground Dry Biomass  30150.0  kg / ha  PI330181  \n",
       "23580  Aboveground Dry Biomass  21990.0  kg / ha  PI152771  "
      ]
     },
     "execution_count": 43,
     "metadata": {},
     "output_type": "execute_result"
    }
   ],
   "source": [
    "selected_and_dropped.head()"
   ]
  },
  {
   "cell_type": "code",
   "execution_count": 44,
   "metadata": {
    "pycharm": {
     "is_executing": false
    }
   },
   "outputs": [
    {
     "data": {
      "text/plain": [
       "(333, 11)"
      ]
     },
     "execution_count": 44,
     "metadata": {},
     "output_type": "execute_result"
    }
   ],
   "source": [
    "selected_and_dropped.shape"
   ]
  },
  {
   "cell_type": "code",
   "execution_count": 45,
   "metadata": {
    "pycharm": {
     "is_executing": false
    }
   },
   "outputs": [
    {
     "data": {
      "text/plain": [
       "False    330\n",
       "True       3\n",
       "dtype: int64"
      ]
     },
     "execution_count": 45,
     "metadata": {},
     "output_type": "execute_result"
    }
   ],
   "source": [
    "# Check for duplicates\n",
    "\n",
    "selected_and_dropped.duplicated(subset = ['site_id', 'sitename', 'trait_description']).value_counts()"
   ]
  },
  {
   "cell_type": "code",
   "execution_count": 46,
   "metadata": {
    "pycharm": {
     "is_executing": false
    }
   },
   "outputs": [],
   "source": [
    "selected_and_dropped.to_csv('selected_traits_with_cultivar_and_site_ids.csv', index = False)"
   ]
  },
  {
   "cell_type": "code",
   "execution_count": 47,
   "metadata": {
    "pycharm": {
     "is_executing": false
    }
   },
   "outputs": [
    {
     "name": "stdout",
     "output_type": "stream",
     "text": [
      "['aboveground_dry_biomass' 'flag_leaf_emergence_time' 'flowering_time']\n",
      "['Aboveground Dry Biomass'\n",
      " 'Number days from sowing to the date when 50% of the plants in a plot have reached flag leaf emergence (ligulation) stage. Flag leaf is the last leaf to emerge from the whorl, positioned directly below the panicle.'\n",
      " 'Number of days from sowing to the date when 50% of the plants in a plot reach flowering (anthesis), defined as the time when 50% of the anthers on 50% of the plants in a plot have emerged.']\n",
      "['kg / ha' 'days']\n"
     ]
    }
   ],
   "source": [
    "print(selected_and_dropped.trait.unique())\n",
    "print(selected_and_dropped.trait_description.unique())\n",
    "print(selected_and_dropped.units.unique())"
   ]
  },
  {
   "cell_type": "code",
   "execution_count": 48,
   "metadata": {
    "pycharm": {
     "is_executing": false
    }
   },
   "outputs": [],
   "source": [
    "id_cols_to_drop = ['id', 'site_id', 'lat', 'lon', 'cultivar_id', 'trait_description', 'units']\n",
    "bare_bones_df = selected_and_dropped.drop(labels = id_cols_to_drop, axis = 1)"
   ]
  },
  {
   "cell_type": "code",
   "execution_count": 49,
   "metadata": {
    "pycharm": {
     "is_executing": false
    }
   },
   "outputs": [
    {
     "data": {
      "text/html": [
       "<div>\n",
       "<style scoped>\n",
       "    .dataframe tbody tr th:only-of-type {\n",
       "        vertical-align: middle;\n",
       "    }\n",
       "\n",
       "    .dataframe tbody tr th {\n",
       "        vertical-align: top;\n",
       "    }\n",
       "\n",
       "    .dataframe thead th {\n",
       "        text-align: right;\n",
       "    }\n",
       "</style>\n",
       "<table border=\"1\" class=\"dataframe\">\n",
       "  <thead>\n",
       "    <tr style=\"text-align: right;\">\n",
       "      <th></th>\n",
       "      <th>sitename</th>\n",
       "      <th>trait</th>\n",
       "      <th>mean</th>\n",
       "      <th>cultivar</th>\n",
       "    </tr>\n",
       "  </thead>\n",
       "  <tbody>\n",
       "    <tr>\n",
       "      <th>333175</th>\n",
       "      <td>MAC Field Scanner Season 4 Range 46 Column 7</td>\n",
       "      <td>flowering_time</td>\n",
       "      <td>72.0</td>\n",
       "      <td>PI534120</td>\n",
       "    </tr>\n",
       "    <tr>\n",
       "      <th>333176</th>\n",
       "      <td>MAC Field Scanner Season 4 Range 46 Column 9</td>\n",
       "      <td>flowering_time</td>\n",
       "      <td>56.0</td>\n",
       "      <td>PI180348</td>\n",
       "    </tr>\n",
       "    <tr>\n",
       "      <th>333177</th>\n",
       "      <td>MAC Field Scanner Season 4 Range 46 Column 11</td>\n",
       "      <td>flowering_time</td>\n",
       "      <td>64.0</td>\n",
       "      <td>PI329435</td>\n",
       "    </tr>\n",
       "    <tr>\n",
       "      <th>333178</th>\n",
       "      <td>MAC Field Scanner Season 4 Range 46 Column 14</td>\n",
       "      <td>flowering_time</td>\n",
       "      <td>62.0</td>\n",
       "      <td>PI564163</td>\n",
       "    </tr>\n",
       "    <tr>\n",
       "      <th>333179</th>\n",
       "      <td>MAC Field Scanner Season 4 Range 50 Column 6</td>\n",
       "      <td>flowering_time</td>\n",
       "      <td>70.0</td>\n",
       "      <td>PI655972</td>\n",
       "    </tr>\n",
       "  </tbody>\n",
       "</table>\n",
       "</div>"
      ],
      "text/plain": [
       "                                             sitename           trait  mean  \\\n",
       "333175   MAC Field Scanner Season 4 Range 46 Column 7  flowering_time  72.0   \n",
       "333176   MAC Field Scanner Season 4 Range 46 Column 9  flowering_time  56.0   \n",
       "333177  MAC Field Scanner Season 4 Range 46 Column 11  flowering_time  64.0   \n",
       "333178  MAC Field Scanner Season 4 Range 46 Column 14  flowering_time  62.0   \n",
       "333179   MAC Field Scanner Season 4 Range 50 Column 6  flowering_time  70.0   \n",
       "\n",
       "        cultivar  \n",
       "333175  PI534120  \n",
       "333176  PI180348  \n",
       "333177  PI329435  \n",
       "333178  PI564163  \n",
       "333179  PI655972  "
      ]
     },
     "execution_count": 49,
     "metadata": {},
     "output_type": "execute_result"
    }
   ],
   "source": [
    "bare_bones_df.tail()"
   ]
  },
  {
   "cell_type": "code",
   "execution_count": 50,
   "metadata": {
    "pycharm": {
     "is_executing": false
    }
   },
   "outputs": [
    {
     "name": "stdout",
     "output_type": "stream",
     "text": [
      "247\n",
      "196\n",
      "3\n"
     ]
    }
   ],
   "source": [
    "print(bare_bones_df.sitename.nunique())\n",
    "print(bare_bones_df.cultivar.nunique())\n",
    "print(bare_bones_df.trait.nunique())"
   ]
  },
  {
   "cell_type": "code",
   "execution_count": 51,
   "metadata": {
    "pycharm": {
     "is_executing": false
    }
   },
   "outputs": [],
   "source": [
    "# two indices?\n",
    "\n",
    "site_cultivar_indices = pd.pivot_table(data = bare_bones_df, index = ['sitename', 'cultivar'], columns = 'trait',\n",
    "                                      values = 'mean')"
   ]
  },
  {
   "cell_type": "code",
   "execution_count": 52,
   "metadata": {
    "pycharm": {
     "is_executing": false
    }
   },
   "outputs": [
    {
     "data": {
      "text/html": [
       "<div>\n",
       "<style scoped>\n",
       "    .dataframe tbody tr th:only-of-type {\n",
       "        vertical-align: middle;\n",
       "    }\n",
       "\n",
       "    .dataframe tbody tr th {\n",
       "        vertical-align: top;\n",
       "    }\n",
       "\n",
       "    .dataframe thead th {\n",
       "        text-align: right;\n",
       "    }\n",
       "</style>\n",
       "<table border=\"1\" class=\"dataframe\">\n",
       "  <thead>\n",
       "    <tr style=\"text-align: right;\">\n",
       "      <th></th>\n",
       "      <th>trait</th>\n",
       "      <th>aboveground_dry_biomass</th>\n",
       "      <th>flag_leaf_emergence_time</th>\n",
       "      <th>flowering_time</th>\n",
       "    </tr>\n",
       "    <tr>\n",
       "      <th>sitename</th>\n",
       "      <th>cultivar</th>\n",
       "      <th></th>\n",
       "      <th></th>\n",
       "      <th></th>\n",
       "    </tr>\n",
       "  </thead>\n",
       "  <tbody>\n",
       "    <tr>\n",
       "      <th>MAC Field Scanner Season 4 Range 10 Column 11</th>\n",
       "      <th>PI195754</th>\n",
       "      <td>29400.0</td>\n",
       "      <td>68.0</td>\n",
       "      <td>71.0</td>\n",
       "    </tr>\n",
       "    <tr>\n",
       "      <th>MAC Field Scanner Season 4 Range 10 Column 14</th>\n",
       "      <th>PI19770</th>\n",
       "      <td>NaN</td>\n",
       "      <td>62.0</td>\n",
       "      <td>68.0</td>\n",
       "    </tr>\n",
       "    <tr>\n",
       "      <th>MAC Field Scanner Season 4 Range 10 Column 15</th>\n",
       "      <th>PI144134</th>\n",
       "      <td>NaN</td>\n",
       "      <td>77.0</td>\n",
       "      <td>NaN</td>\n",
       "    </tr>\n",
       "    <tr>\n",
       "      <th>MAC Field Scanner Season 4 Range 10 Column 2</th>\n",
       "      <th>PI641807</th>\n",
       "      <td>NaN</td>\n",
       "      <td>77.0</td>\n",
       "      <td>NaN</td>\n",
       "    </tr>\n",
       "    <tr>\n",
       "      <th>MAC Field Scanner Season 4 Range 10 Column 3</th>\n",
       "      <th>PI175919</th>\n",
       "      <td>NaN</td>\n",
       "      <td>70.0</td>\n",
       "      <td>71.0</td>\n",
       "    </tr>\n",
       "  </tbody>\n",
       "</table>\n",
       "</div>"
      ],
      "text/plain": [
       "trait                                                   aboveground_dry_biomass  \\\n",
       "sitename                                      cultivar                            \n",
       "MAC Field Scanner Season 4 Range 10 Column 11 PI195754                  29400.0   \n",
       "MAC Field Scanner Season 4 Range 10 Column 14 PI19770                       NaN   \n",
       "MAC Field Scanner Season 4 Range 10 Column 15 PI144134                      NaN   \n",
       "MAC Field Scanner Season 4 Range 10 Column 2  PI641807                      NaN   \n",
       "MAC Field Scanner Season 4 Range 10 Column 3  PI175919                      NaN   \n",
       "\n",
       "trait                                                   flag_leaf_emergence_time  \\\n",
       "sitename                                      cultivar                             \n",
       "MAC Field Scanner Season 4 Range 10 Column 11 PI195754                      68.0   \n",
       "MAC Field Scanner Season 4 Range 10 Column 14 PI19770                       62.0   \n",
       "MAC Field Scanner Season 4 Range 10 Column 15 PI144134                      77.0   \n",
       "MAC Field Scanner Season 4 Range 10 Column 2  PI641807                      77.0   \n",
       "MAC Field Scanner Season 4 Range 10 Column 3  PI175919                      70.0   \n",
       "\n",
       "trait                                                   flowering_time  \n",
       "sitename                                      cultivar                  \n",
       "MAC Field Scanner Season 4 Range 10 Column 11 PI195754            71.0  \n",
       "MAC Field Scanner Season 4 Range 10 Column 14 PI19770             68.0  \n",
       "MAC Field Scanner Season 4 Range 10 Column 15 PI144134             NaN  \n",
       "MAC Field Scanner Season 4 Range 10 Column 2  PI641807             NaN  \n",
       "MAC Field Scanner Season 4 Range 10 Column 3  PI175919            71.0  "
      ]
     },
     "execution_count": 52,
     "metadata": {},
     "output_type": "execute_result"
    }
   ],
   "source": [
    "site_cultivar_indices.head()"
   ]
  },
  {
   "cell_type": "code",
   "execution_count": 53,
   "metadata": {
    "pycharm": {
     "is_executing": false
    }
   },
   "outputs": [
    {
     "data": {
      "text/plain": [
       "(247, 3)"
      ]
     },
     "execution_count": 53,
     "metadata": {},
     "output_type": "execute_result"
    }
   ],
   "source": [
    "site_cultivar_indices.shape"
   ]
  },
  {
   "cell_type": "code",
   "execution_count": 54,
   "metadata": {
    "pycharm": {
     "is_executing": false
    }
   },
   "outputs": [],
   "source": [
    "site_cultivar_indices.to_csv('site_cultivar_indices.csv')"
   ]
  },
  {
   "cell_type": "code",
   "execution_count": 55,
   "metadata": {
    "pycharm": {
     "is_executing": false
    }
   },
   "outputs": [
    {
     "name": "stdout",
     "output_type": "stream",
     "text": [
      "(333, 4)\n",
      "247\n",
      "196\n"
     ]
    }
   ],
   "source": [
    "print(bare_bones_df.shape)\n",
    "print(bare_bones_df.sitename.nunique())\n",
    "print(bare_bones_df.cultivar.nunique())"
   ]
  },
  {
   "cell_type": "code",
   "execution_count": 56,
   "metadata": {
    "pycharm": {
     "is_executing": false
    }
   },
   "outputs": [],
   "source": [
    "minus_cultivar = bare_bones_df.drop(columns = 'cultivar', axis = 1)"
   ]
  },
  {
   "cell_type": "code",
   "execution_count": 57,
   "metadata": {
    "pycharm": {
     "is_executing": false
    }
   },
   "outputs": [
    {
     "data": {
      "text/html": [
       "<div>\n",
       "<style scoped>\n",
       "    .dataframe tbody tr th:only-of-type {\n",
       "        vertical-align: middle;\n",
       "    }\n",
       "\n",
       "    .dataframe tbody tr th {\n",
       "        vertical-align: top;\n",
       "    }\n",
       "\n",
       "    .dataframe thead th {\n",
       "        text-align: right;\n",
       "    }\n",
       "</style>\n",
       "<table border=\"1\" class=\"dataframe\">\n",
       "  <thead>\n",
       "    <tr style=\"text-align: right;\">\n",
       "      <th></th>\n",
       "      <th>sitename</th>\n",
       "      <th>trait</th>\n",
       "      <th>mean</th>\n",
       "    </tr>\n",
       "  </thead>\n",
       "  <tbody>\n",
       "    <tr>\n",
       "      <th>23576</th>\n",
       "      <td>MAC Field Scanner Season 4 Range 2 Column 5</td>\n",
       "      <td>aboveground_dry_biomass</td>\n",
       "      <td>37330.0</td>\n",
       "    </tr>\n",
       "    <tr>\n",
       "      <th>23577</th>\n",
       "      <td>MAC Field Scanner Season 4 Range 2 Column 9</td>\n",
       "      <td>aboveground_dry_biomass</td>\n",
       "      <td>36900.0</td>\n",
       "    </tr>\n",
       "    <tr>\n",
       "      <th>23578</th>\n",
       "      <td>MAC Field Scanner Season 4 Range 3 Column 4</td>\n",
       "      <td>aboveground_dry_biomass</td>\n",
       "      <td>23190.0</td>\n",
       "    </tr>\n",
       "    <tr>\n",
       "      <th>23579</th>\n",
       "      <td>MAC Field Scanner Season 4 Range 3 Column 6</td>\n",
       "      <td>aboveground_dry_biomass</td>\n",
       "      <td>30150.0</td>\n",
       "    </tr>\n",
       "    <tr>\n",
       "      <th>23580</th>\n",
       "      <td>MAC Field Scanner Season 4 Range 3 Column 12</td>\n",
       "      <td>aboveground_dry_biomass</td>\n",
       "      <td>21990.0</td>\n",
       "    </tr>\n",
       "  </tbody>\n",
       "</table>\n",
       "</div>"
      ],
      "text/plain": [
       "                                           sitename                    trait  \\\n",
       "23576   MAC Field Scanner Season 4 Range 2 Column 5  aboveground_dry_biomass   \n",
       "23577   MAC Field Scanner Season 4 Range 2 Column 9  aboveground_dry_biomass   \n",
       "23578   MAC Field Scanner Season 4 Range 3 Column 4  aboveground_dry_biomass   \n",
       "23579   MAC Field Scanner Season 4 Range 3 Column 6  aboveground_dry_biomass   \n",
       "23580  MAC Field Scanner Season 4 Range 3 Column 12  aboveground_dry_biomass   \n",
       "\n",
       "          mean  \n",
       "23576  37330.0  \n",
       "23577  36900.0  \n",
       "23578  23190.0  \n",
       "23579  30150.0  \n",
       "23580  21990.0  "
      ]
     },
     "execution_count": 57,
     "metadata": {},
     "output_type": "execute_result"
    }
   ],
   "source": [
    "minus_cultivar.head()"
   ]
  },
  {
   "cell_type": "code",
   "execution_count": 58,
   "metadata": {
    "pycharm": {
     "is_executing": false
    }
   },
   "outputs": [
    {
     "data": {
      "text/html": [
       "<div>\n",
       "<style scoped>\n",
       "    .dataframe tbody tr th:only-of-type {\n",
       "        vertical-align: middle;\n",
       "    }\n",
       "\n",
       "    .dataframe tbody tr th {\n",
       "        vertical-align: top;\n",
       "    }\n",
       "\n",
       "    .dataframe thead th {\n",
       "        text-align: right;\n",
       "    }\n",
       "</style>\n",
       "<table border=\"1\" class=\"dataframe\">\n",
       "  <thead>\n",
       "    <tr style=\"text-align: right;\">\n",
       "      <th></th>\n",
       "      <th>sitename</th>\n",
       "      <th>cultivar</th>\n",
       "    </tr>\n",
       "  </thead>\n",
       "  <tbody>\n",
       "    <tr>\n",
       "      <th>23576</th>\n",
       "      <td>MAC Field Scanner Season 4 Range 2 Column 5</td>\n",
       "      <td>SP1615</td>\n",
       "    </tr>\n",
       "    <tr>\n",
       "      <th>23577</th>\n",
       "      <td>MAC Field Scanner Season 4 Range 2 Column 9</td>\n",
       "      <td>SP1615</td>\n",
       "    </tr>\n",
       "    <tr>\n",
       "      <th>23578</th>\n",
       "      <td>MAC Field Scanner Season 4 Range 3 Column 4</td>\n",
       "      <td>PI145626</td>\n",
       "    </tr>\n",
       "    <tr>\n",
       "      <th>23579</th>\n",
       "      <td>MAC Field Scanner Season 4 Range 3 Column 6</td>\n",
       "      <td>PI330181</td>\n",
       "    </tr>\n",
       "    <tr>\n",
       "      <th>23580</th>\n",
       "      <td>MAC Field Scanner Season 4 Range 3 Column 12</td>\n",
       "      <td>PI152771</td>\n",
       "    </tr>\n",
       "  </tbody>\n",
       "</table>\n",
       "</div>"
      ],
      "text/plain": [
       "                                           sitename  cultivar\n",
       "23576   MAC Field Scanner Season 4 Range 2 Column 5    SP1615\n",
       "23577   MAC Field Scanner Season 4 Range 2 Column 9    SP1615\n",
       "23578   MAC Field Scanner Season 4 Range 3 Column 4  PI145626\n",
       "23579   MAC Field Scanner Season 4 Range 3 Column 6  PI330181\n",
       "23580  MAC Field Scanner Season 4 Range 3 Column 12  PI152771"
      ]
     },
     "execution_count": 58,
     "metadata": {},
     "output_type": "execute_result"
    }
   ],
   "source": [
    "cultivar_and_sitename = bare_bones_df[['sitename', 'cultivar']]\n",
    "cultivar_and_sitename.head()"
   ]
  },
  {
   "cell_type": "code",
   "execution_count": 59,
   "metadata": {
    "pycharm": {
     "is_executing": false
    }
   },
   "outputs": [
    {
     "data": {
      "text/html": [
       "<div>\n",
       "<style scoped>\n",
       "    .dataframe tbody tr th:only-of-type {\n",
       "        vertical-align: middle;\n",
       "    }\n",
       "\n",
       "    .dataframe tbody tr th {\n",
       "        vertical-align: top;\n",
       "    }\n",
       "\n",
       "    .dataframe thead th {\n",
       "        text-align: right;\n",
       "    }\n",
       "</style>\n",
       "<table border=\"1\" class=\"dataframe\">\n",
       "  <thead>\n",
       "    <tr style=\"text-align: right;\">\n",
       "      <th></th>\n",
       "      <th>sitename</th>\n",
       "      <th>cultivar</th>\n",
       "    </tr>\n",
       "  </thead>\n",
       "  <tbody>\n",
       "    <tr>\n",
       "      <th>23576</th>\n",
       "      <td>MAC Field Scanner Season 4 Range 2 Column 5</td>\n",
       "      <td>SP1615</td>\n",
       "    </tr>\n",
       "    <tr>\n",
       "      <th>23577</th>\n",
       "      <td>MAC Field Scanner Season 4 Range 2 Column 9</td>\n",
       "      <td>SP1615</td>\n",
       "    </tr>\n",
       "    <tr>\n",
       "      <th>23578</th>\n",
       "      <td>MAC Field Scanner Season 4 Range 3 Column 4</td>\n",
       "      <td>PI145626</td>\n",
       "    </tr>\n",
       "    <tr>\n",
       "      <th>23579</th>\n",
       "      <td>MAC Field Scanner Season 4 Range 3 Column 6</td>\n",
       "      <td>PI330181</td>\n",
       "    </tr>\n",
       "    <tr>\n",
       "      <th>23580</th>\n",
       "      <td>MAC Field Scanner Season 4 Range 3 Column 12</td>\n",
       "      <td>PI152771</td>\n",
       "    </tr>\n",
       "  </tbody>\n",
       "</table>\n",
       "</div>"
      ],
      "text/plain": [
       "                                           sitename  cultivar\n",
       "23576   MAC Field Scanner Season 4 Range 2 Column 5    SP1615\n",
       "23577   MAC Field Scanner Season 4 Range 2 Column 9    SP1615\n",
       "23578   MAC Field Scanner Season 4 Range 3 Column 4  PI145626\n",
       "23579   MAC Field Scanner Season 4 Range 3 Column 6  PI330181\n",
       "23580  MAC Field Scanner Season 4 Range 3 Column 12  PI152771"
      ]
     },
     "execution_count": 59,
     "metadata": {},
     "output_type": "execute_result"
    }
   ],
   "source": [
    "cultivar_and_sitename.set_index('sitename')\n",
    "cultivar_and_sitename.head()"
   ]
  },
  {
   "cell_type": "code",
   "execution_count": 60,
   "metadata": {
    "pycharm": {
     "is_executing": false
    }
   },
   "outputs": [
    {
     "data": {
      "text/html": [
       "<div>\n",
       "<style scoped>\n",
       "    .dataframe tbody tr th:only-of-type {\n",
       "        vertical-align: middle;\n",
       "    }\n",
       "\n",
       "    .dataframe tbody tr th {\n",
       "        vertical-align: top;\n",
       "    }\n",
       "\n",
       "    .dataframe thead th {\n",
       "        text-align: right;\n",
       "    }\n",
       "</style>\n",
       "<table border=\"1\" class=\"dataframe\">\n",
       "  <thead>\n",
       "    <tr style=\"text-align: right;\">\n",
       "      <th></th>\n",
       "      <th>sitename</th>\n",
       "      <th>cultivar</th>\n",
       "      <th>aboveground_dry_biomass</th>\n",
       "      <th>flag_leaf_emergence_time</th>\n",
       "      <th>flowering_time</th>\n",
       "    </tr>\n",
       "  </thead>\n",
       "  <tbody>\n",
       "    <tr>\n",
       "      <th>0</th>\n",
       "      <td>MAC Field Scanner Season 4 Range 10 Column 11</td>\n",
       "      <td>PI195754</td>\n",
       "      <td>29400.0</td>\n",
       "      <td>68.0</td>\n",
       "      <td>71.0</td>\n",
       "    </tr>\n",
       "    <tr>\n",
       "      <th>1</th>\n",
       "      <td>MAC Field Scanner Season 4 Range 10 Column 14</td>\n",
       "      <td>PI19770</td>\n",
       "      <td>NaN</td>\n",
       "      <td>62.0</td>\n",
       "      <td>68.0</td>\n",
       "    </tr>\n",
       "    <tr>\n",
       "      <th>2</th>\n",
       "      <td>MAC Field Scanner Season 4 Range 10 Column 15</td>\n",
       "      <td>PI144134</td>\n",
       "      <td>NaN</td>\n",
       "      <td>77.0</td>\n",
       "      <td>NaN</td>\n",
       "    </tr>\n",
       "    <tr>\n",
       "      <th>3</th>\n",
       "      <td>MAC Field Scanner Season 4 Range 10 Column 2</td>\n",
       "      <td>PI641807</td>\n",
       "      <td>NaN</td>\n",
       "      <td>77.0</td>\n",
       "      <td>NaN</td>\n",
       "    </tr>\n",
       "    <tr>\n",
       "      <th>4</th>\n",
       "      <td>MAC Field Scanner Season 4 Range 10 Column 3</td>\n",
       "      <td>PI175919</td>\n",
       "      <td>NaN</td>\n",
       "      <td>70.0</td>\n",
       "      <td>71.0</td>\n",
       "    </tr>\n",
       "  </tbody>\n",
       "</table>\n",
       "</div>"
      ],
      "text/plain": [
       "                                        sitename  cultivar  \\\n",
       "0  MAC Field Scanner Season 4 Range 10 Column 11  PI195754   \n",
       "1  MAC Field Scanner Season 4 Range 10 Column 14   PI19770   \n",
       "2  MAC Field Scanner Season 4 Range 10 Column 15  PI144134   \n",
       "3   MAC Field Scanner Season 4 Range 10 Column 2  PI641807   \n",
       "4   MAC Field Scanner Season 4 Range 10 Column 3  PI175919   \n",
       "\n",
       "   aboveground_dry_biomass  flag_leaf_emergence_time  flowering_time  \n",
       "0                  29400.0                      68.0            71.0  \n",
       "1                      NaN                      62.0            68.0  \n",
       "2                      NaN                      77.0             NaN  \n",
       "3                      NaN                      77.0             NaN  \n",
       "4                      NaN                      70.0            71.0  "
      ]
     },
     "execution_count": 60,
     "metadata": {},
     "output_type": "execute_result"
    }
   ],
   "source": [
    "site_cultivar_df = pd.read_csv('site_cultivar_indices.csv')\n",
    "site_cultivar_df.head()"
   ]
  },
  {
   "cell_type": "code",
   "execution_count": 61,
   "metadata": {
    "pycharm": {
     "is_executing": false
    }
   },
   "outputs": [
    {
     "data": {
      "text/html": [
       "<div>\n",
       "<style scoped>\n",
       "    .dataframe tbody tr th:only-of-type {\n",
       "        vertical-align: middle;\n",
       "    }\n",
       "\n",
       "    .dataframe tbody tr th {\n",
       "        vertical-align: top;\n",
       "    }\n",
       "\n",
       "    .dataframe thead th {\n",
       "        text-align: right;\n",
       "    }\n",
       "</style>\n",
       "<table border=\"1\" class=\"dataframe\">\n",
       "  <thead>\n",
       "    <tr style=\"text-align: right;\">\n",
       "      <th></th>\n",
       "      <th>sitename</th>\n",
       "      <th>cultivar</th>\n",
       "      <th>aboveground_dry_biomass</th>\n",
       "      <th>flag_leaf_emergence_time</th>\n",
       "      <th>flowering_time</th>\n",
       "    </tr>\n",
       "  </thead>\n",
       "  <tbody>\n",
       "    <tr>\n",
       "      <th>0</th>\n",
       "      <td>MAC Field Scanner Season 4 Range 10 Column 11</td>\n",
       "      <td>PI195754</td>\n",
       "      <td>29400</td>\n",
       "      <td>68</td>\n",
       "      <td>71</td>\n",
       "    </tr>\n",
       "    <tr>\n",
       "      <th>1</th>\n",
       "      <td>MAC Field Scanner Season 4 Range 10 Column 14</td>\n",
       "      <td>PI19770</td>\n",
       "      <td></td>\n",
       "      <td>62</td>\n",
       "      <td>68</td>\n",
       "    </tr>\n",
       "    <tr>\n",
       "      <th>2</th>\n",
       "      <td>MAC Field Scanner Season 4 Range 10 Column 15</td>\n",
       "      <td>PI144134</td>\n",
       "      <td></td>\n",
       "      <td>77</td>\n",
       "      <td></td>\n",
       "    </tr>\n",
       "    <tr>\n",
       "      <th>3</th>\n",
       "      <td>MAC Field Scanner Season 4 Range 10 Column 2</td>\n",
       "      <td>PI641807</td>\n",
       "      <td></td>\n",
       "      <td>77</td>\n",
       "      <td></td>\n",
       "    </tr>\n",
       "    <tr>\n",
       "      <th>4</th>\n",
       "      <td>MAC Field Scanner Season 4 Range 10 Column 3</td>\n",
       "      <td>PI175919</td>\n",
       "      <td></td>\n",
       "      <td>70</td>\n",
       "      <td>71</td>\n",
       "    </tr>\n",
       "  </tbody>\n",
       "</table>\n",
       "</div>"
      ],
      "text/plain": [
       "                                        sitename  cultivar  \\\n",
       "0  MAC Field Scanner Season 4 Range 10 Column 11  PI195754   \n",
       "1  MAC Field Scanner Season 4 Range 10 Column 14   PI19770   \n",
       "2  MAC Field Scanner Season 4 Range 10 Column 15  PI144134   \n",
       "3   MAC Field Scanner Season 4 Range 10 Column 2  PI641807   \n",
       "4   MAC Field Scanner Season 4 Range 10 Column 3  PI175919   \n",
       "\n",
       "  aboveground_dry_biomass flag_leaf_emergence_time flowering_time  \n",
       "0                   29400                       68             71  \n",
       "1                                               62             68  \n",
       "2                                               77                 \n",
       "3                                               77                 \n",
       "4                                               70             71  "
      ]
     },
     "execution_count": 61,
     "metadata": {},
     "output_type": "execute_result"
    }
   ],
   "source": [
    "filled_nas = site_cultivar_df.fillna(value='')\n",
    "filled_nas.head()"
   ]
  },
  {
   "cell_type": "code",
   "execution_count": 62,
   "metadata": {
    "pycharm": {
     "is_executing": false
    }
   },
   "outputs": [
    {
     "data": {
      "text/html": [
       "<div>\n",
       "<style scoped>\n",
       "    .dataframe tbody tr th:only-of-type {\n",
       "        vertical-align: middle;\n",
       "    }\n",
       "\n",
       "    .dataframe tbody tr th {\n",
       "        vertical-align: top;\n",
       "    }\n",
       "\n",
       "    .dataframe thead th {\n",
       "        text-align: right;\n",
       "    }\n",
       "</style>\n",
       "<table border=\"1\" class=\"dataframe\">\n",
       "  <thead>\n",
       "    <tr style=\"text-align: right;\">\n",
       "      <th></th>\n",
       "      <th>sitename</th>\n",
       "      <th>cultivar</th>\n",
       "      <th>aboveground_dry_biomass</th>\n",
       "      <th>flag_leaf_emergence_time</th>\n",
       "      <th>flowering_time</th>\n",
       "    </tr>\n",
       "  </thead>\n",
       "  <tbody>\n",
       "    <tr>\n",
       "      <th>33</th>\n",
       "      <td>MAC Field Scanner Season 4 Range 16 Column 2</td>\n",
       "      <td>PI152727</td>\n",
       "      <td>24380</td>\n",
       "      <td></td>\n",
       "      <td></td>\n",
       "    </tr>\n",
       "    <tr>\n",
       "      <th>6</th>\n",
       "      <td>MAC Field Scanner Season 4 Range 10 Column 5</td>\n",
       "      <td>PI641821</td>\n",
       "      <td></td>\n",
       "      <td>70</td>\n",
       "      <td></td>\n",
       "    </tr>\n",
       "    <tr>\n",
       "      <th>181</th>\n",
       "      <td>MAC Field Scanner Season 4 Range 41 Column 5</td>\n",
       "      <td>PI514456</td>\n",
       "      <td>22350</td>\n",
       "      <td></td>\n",
       "      <td></td>\n",
       "    </tr>\n",
       "    <tr>\n",
       "      <th>86</th>\n",
       "      <td>MAC Field Scanner Season 4 Range 26 Column 2</td>\n",
       "      <td>PI452619</td>\n",
       "      <td>17930</td>\n",
       "      <td></td>\n",
       "      <td></td>\n",
       "    </tr>\n",
       "    <tr>\n",
       "      <th>155</th>\n",
       "      <td>MAC Field Scanner Season 4 Range 38 Column 11</td>\n",
       "      <td>PI641835</td>\n",
       "      <td>28140</td>\n",
       "      <td></td>\n",
       "      <td></td>\n",
       "    </tr>\n",
       "    <tr>\n",
       "      <th>178</th>\n",
       "      <td>MAC Field Scanner Season 4 Range 41 Column 14</td>\n",
       "      <td>PI646242</td>\n",
       "      <td>25640</td>\n",
       "      <td></td>\n",
       "      <td></td>\n",
       "    </tr>\n",
       "    <tr>\n",
       "      <th>194</th>\n",
       "      <td>MAC Field Scanner Season 4 Range 45 Column 7</td>\n",
       "      <td>PI330796</td>\n",
       "      <td>8227</td>\n",
       "      <td></td>\n",
       "      <td></td>\n",
       "    </tr>\n",
       "    <tr>\n",
       "      <th>104</th>\n",
       "      <td>MAC Field Scanner Season 4 Range 29 Column 5</td>\n",
       "      <td>PI646266</td>\n",
       "      <td>35150</td>\n",
       "      <td></td>\n",
       "      <td></td>\n",
       "    </tr>\n",
       "    <tr>\n",
       "      <th>9</th>\n",
       "      <td>MAC Field Scanner Season 4 Range 11 Column 10</td>\n",
       "      <td>PI561840</td>\n",
       "      <td>20140</td>\n",
       "      <td></td>\n",
       "      <td></td>\n",
       "    </tr>\n",
       "    <tr>\n",
       "      <th>234</th>\n",
       "      <td>MAC Field Scanner Season 4 Range 53 Column 5</td>\n",
       "      <td>SP1615</td>\n",
       "      <td>38580</td>\n",
       "      <td></td>\n",
       "      <td></td>\n",
       "    </tr>\n",
       "    <tr>\n",
       "      <th>231</th>\n",
       "      <td>MAC Field Scanner Season 4 Range 53 Column 11</td>\n",
       "      <td>SP1615</td>\n",
       "      <td>33050</td>\n",
       "      <td></td>\n",
       "      <td></td>\n",
       "    </tr>\n",
       "    <tr>\n",
       "      <th>213</th>\n",
       "      <td>MAC Field Scanner Season 4 Range 49 Column 7</td>\n",
       "      <td>PI569423</td>\n",
       "      <td>15700</td>\n",
       "      <td></td>\n",
       "      <td></td>\n",
       "    </tr>\n",
       "    <tr>\n",
       "      <th>237</th>\n",
       "      <td>MAC Field Scanner Season 4 Range 7 Column 6</td>\n",
       "      <td>PI646242</td>\n",
       "      <td>32700</td>\n",
       "      <td></td>\n",
       "      <td></td>\n",
       "    </tr>\n",
       "    <tr>\n",
       "      <th>173</th>\n",
       "      <td>MAC Field Scanner Season 4 Range 40 Column 12</td>\n",
       "      <td>PI510757</td>\n",
       "      <td>8616</td>\n",
       "      <td></td>\n",
       "      <td></td>\n",
       "    </tr>\n",
       "    <tr>\n",
       "      <th>66</th>\n",
       "      <td>MAC Field Scanner Season 4 Range 20 Column 9</td>\n",
       "      <td>PI535792</td>\n",
       "      <td>17900</td>\n",
       "      <td>70</td>\n",
       "      <td>74</td>\n",
       "    </tr>\n",
       "    <tr>\n",
       "      <th>222</th>\n",
       "      <td>MAC Field Scanner Season 4 Range 50 Column 9</td>\n",
       "      <td>PI655978</td>\n",
       "      <td></td>\n",
       "      <td>62</td>\n",
       "      <td>68</td>\n",
       "    </tr>\n",
       "    <tr>\n",
       "      <th>219</th>\n",
       "      <td>MAC Field Scanner Season 4 Range 50 Column 14</td>\n",
       "      <td>PI534165</td>\n",
       "      <td></td>\n",
       "      <td>60</td>\n",
       "      <td>63</td>\n",
       "    </tr>\n",
       "    <tr>\n",
       "      <th>15</th>\n",
       "      <td>MAC Field Scanner Season 4 Range 11 Column 9</td>\n",
       "      <td>PI52606</td>\n",
       "      <td></td>\n",
       "      <td>62</td>\n",
       "      <td></td>\n",
       "    </tr>\n",
       "    <tr>\n",
       "      <th>182</th>\n",
       "      <td>MAC Field Scanner Season 4 Range 41 Column 7</td>\n",
       "      <td>PI329584</td>\n",
       "      <td>7196</td>\n",
       "      <td></td>\n",
       "      <td></td>\n",
       "    </tr>\n",
       "    <tr>\n",
       "      <th>24</th>\n",
       "      <td>MAC Field Scanner Season 4 Range 13 Column 15</td>\n",
       "      <td>PI156268</td>\n",
       "      <td>8841</td>\n",
       "      <td></td>\n",
       "      <td></td>\n",
       "    </tr>\n",
       "    <tr>\n",
       "      <th>120</th>\n",
       "      <td>MAC Field Scanner Season 4 Range 30 Column 6</td>\n",
       "      <td>PI297171</td>\n",
       "      <td>27410</td>\n",
       "      <td></td>\n",
       "      <td></td>\n",
       "    </tr>\n",
       "    <tr>\n",
       "      <th>19</th>\n",
       "      <td>MAC Field Scanner Season 4 Range 12 Column 15</td>\n",
       "      <td>PI641825</td>\n",
       "      <td>18050</td>\n",
       "      <td></td>\n",
       "      <td></td>\n",
       "    </tr>\n",
       "    <tr>\n",
       "      <th>112</th>\n",
       "      <td>MAC Field Scanner Season 4 Range 30 Column 11</td>\n",
       "      <td>PI563022</td>\n",
       "      <td>14990</td>\n",
       "      <td></td>\n",
       "      <td></td>\n",
       "    </tr>\n",
       "    <tr>\n",
       "      <th>67</th>\n",
       "      <td>MAC Field Scanner Season 4 Range 21 Column 14</td>\n",
       "      <td>PI570388</td>\n",
       "      <td>28420</td>\n",
       "      <td></td>\n",
       "      <td></td>\n",
       "    </tr>\n",
       "    <tr>\n",
       "      <th>221</th>\n",
       "      <td>MAC Field Scanner Season 4 Range 50 Column 6</td>\n",
       "      <td>PI655972</td>\n",
       "      <td>16680</td>\n",
       "      <td>68</td>\n",
       "      <td>70</td>\n",
       "    </tr>\n",
       "    <tr>\n",
       "      <th>156</th>\n",
       "      <td>MAC Field Scanner Season 4 Range 38 Column 13</td>\n",
       "      <td>PI253986</td>\n",
       "      <td>42420</td>\n",
       "      <td></td>\n",
       "      <td></td>\n",
       "    </tr>\n",
       "    <tr>\n",
       "      <th>199</th>\n",
       "      <td>MAC Field Scanner Season 4 Range 46 Column 5</td>\n",
       "      <td>PI535796</td>\n",
       "      <td>25210</td>\n",
       "      <td>62</td>\n",
       "      <td>70</td>\n",
       "    </tr>\n",
       "    <tr>\n",
       "      <th>10</th>\n",
       "      <td>MAC Field Scanner Season 4 Range 11 Column 12</td>\n",
       "      <td>PI656065</td>\n",
       "      <td></td>\n",
       "      <td>56</td>\n",
       "      <td>61</td>\n",
       "    </tr>\n",
       "    <tr>\n",
       "      <th>30</th>\n",
       "      <td>MAC Field Scanner Season 4 Range 15 Column 14</td>\n",
       "      <td>PI620157</td>\n",
       "      <td>22940</td>\n",
       "      <td>56</td>\n",
       "      <td>62</td>\n",
       "    </tr>\n",
       "    <tr>\n",
       "      <th>96</th>\n",
       "      <td>MAC Field Scanner Season 4 Range 28 Column 5</td>\n",
       "      <td>PI586541</td>\n",
       "      <td>19910</td>\n",
       "      <td></td>\n",
       "      <td></td>\n",
       "    </tr>\n",
       "    <tr>\n",
       "      <th>235</th>\n",
       "      <td>MAC Field Scanner Season 4 Range 53 Column 7</td>\n",
       "      <td>SP1615</td>\n",
       "      <td>31570</td>\n",
       "      <td></td>\n",
       "      <td></td>\n",
       "    </tr>\n",
       "    <tr>\n",
       "      <th>242</th>\n",
       "      <td>MAC Field Scanner Season 4 Range 8 Column 6</td>\n",
       "      <td>PI562990</td>\n",
       "      <td>15810</td>\n",
       "      <td></td>\n",
       "      <td></td>\n",
       "    </tr>\n",
       "    <tr>\n",
       "      <th>117</th>\n",
       "      <td>MAC Field Scanner Season 4 Range 30 Column 3</td>\n",
       "      <td>PI563006</td>\n",
       "      <td>11110</td>\n",
       "      <td></td>\n",
       "      <td></td>\n",
       "    </tr>\n",
       "    <tr>\n",
       "      <th>25</th>\n",
       "      <td>MAC Field Scanner Season 4 Range 13 Column 3</td>\n",
       "      <td>PI330833</td>\n",
       "      <td>16430</td>\n",
       "      <td></td>\n",
       "      <td></td>\n",
       "    </tr>\n",
       "    <tr>\n",
       "      <th>244</th>\n",
       "      <td>MAC Field Scanner Season 4 Range 9 Column 2</td>\n",
       "      <td>PI569416</td>\n",
       "      <td>9052</td>\n",
       "      <td></td>\n",
       "      <td></td>\n",
       "    </tr>\n",
       "    <tr>\n",
       "      <th>18</th>\n",
       "      <td>MAC Field Scanner Season 4 Range 12 Column 13</td>\n",
       "      <td>PI641824</td>\n",
       "      <td></td>\n",
       "      <td>70</td>\n",
       "      <td></td>\n",
       "    </tr>\n",
       "    <tr>\n",
       "      <th>132</th>\n",
       "      <td>MAC Field Scanner Season 4 Range 32 Column 13</td>\n",
       "      <td>PI585966</td>\n",
       "      <td>12110</td>\n",
       "      <td></td>\n",
       "      <td></td>\n",
       "    </tr>\n",
       "    <tr>\n",
       "      <th>198</th>\n",
       "      <td>MAC Field Scanner Season 4 Range 46 Column 2</td>\n",
       "      <td>PI533792</td>\n",
       "      <td>5903</td>\n",
       "      <td></td>\n",
       "      <td></td>\n",
       "    </tr>\n",
       "    <tr>\n",
       "      <th>55</th>\n",
       "      <td>MAC Field Scanner Season 4 Range 20 Column 12</td>\n",
       "      <td>PI329435</td>\n",
       "      <td>9525</td>\n",
       "      <td>61</td>\n",
       "      <td>64</td>\n",
       "    </tr>\n",
       "    <tr>\n",
       "      <th>45</th>\n",
       "      <td>MAC Field Scanner Season 4 Range 18 Column 3</td>\n",
       "      <td>PI196598</td>\n",
       "      <td>30080</td>\n",
       "      <td></td>\n",
       "      <td></td>\n",
       "    </tr>\n",
       "    <tr>\n",
       "      <th>216</th>\n",
       "      <td>MAC Field Scanner Season 4 Range 5 Column 14</td>\n",
       "      <td>PI653617</td>\n",
       "      <td></td>\n",
       "      <td>56</td>\n",
       "      <td></td>\n",
       "    </tr>\n",
       "    <tr>\n",
       "      <th>109</th>\n",
       "      <td>MAC Field Scanner Season 4 Range 3 Column 4</td>\n",
       "      <td>PI145626</td>\n",
       "      <td>23190</td>\n",
       "      <td>91</td>\n",
       "      <td></td>\n",
       "    </tr>\n",
       "    <tr>\n",
       "      <th>60</th>\n",
       "      <td>MAC Field Scanner Season 4 Range 20 Column 3</td>\n",
       "      <td>PI656026</td>\n",
       "      <td>11110</td>\n",
       "      <td>62</td>\n",
       "      <td>65</td>\n",
       "    </tr>\n",
       "    <tr>\n",
       "      <th>183</th>\n",
       "      <td>MAC Field Scanner Season 4 Range 42 Column 10</td>\n",
       "      <td>PI329665</td>\n",
       "      <td>2734</td>\n",
       "      <td></td>\n",
       "      <td></td>\n",
       "    </tr>\n",
       "    <tr>\n",
       "      <th>16</th>\n",
       "      <td>MAC Field Scanner Season 4 Range 12 Column 11</td>\n",
       "      <td>PI569443</td>\n",
       "      <td>25160</td>\n",
       "      <td></td>\n",
       "      <td></td>\n",
       "    </tr>\n",
       "    <tr>\n",
       "      <th>119</th>\n",
       "      <td>MAC Field Scanner Season 4 Range 30 Column 5</td>\n",
       "      <td>PI152727</td>\n",
       "      <td>22040</td>\n",
       "      <td></td>\n",
       "      <td></td>\n",
       "    </tr>\n",
       "    <tr>\n",
       "      <th>68</th>\n",
       "      <td>MAC Field Scanner Season 4 Range 21 Column 3</td>\n",
       "      <td>PI329570</td>\n",
       "      <td>24900</td>\n",
       "      <td></td>\n",
       "      <td></td>\n",
       "    </tr>\n",
       "    <tr>\n",
       "      <th>170</th>\n",
       "      <td>MAC Field Scanner Season 4 Range 4 Column 15</td>\n",
       "      <td>PI563355</td>\n",
       "      <td>15690</td>\n",
       "      <td></td>\n",
       "      <td></td>\n",
       "    </tr>\n",
       "    <tr>\n",
       "      <th>38</th>\n",
       "      <td>MAC Field Scanner Season 4 Range 17 Column 4</td>\n",
       "      <td>PI570090</td>\n",
       "      <td>13400</td>\n",
       "      <td></td>\n",
       "      <td></td>\n",
       "    </tr>\n",
       "    <tr>\n",
       "      <th>245</th>\n",
       "      <td>MAC Field Scanner Season 4 Range 9 Column 6</td>\n",
       "      <td>PI329351</td>\n",
       "      <td>13300</td>\n",
       "      <td></td>\n",
       "      <td></td>\n",
       "    </tr>\n",
       "  </tbody>\n",
       "</table>\n",
       "</div>"
      ],
      "text/plain": [
       "                                          sitename  cultivar  \\\n",
       "33    MAC Field Scanner Season 4 Range 16 Column 2  PI152727   \n",
       "6     MAC Field Scanner Season 4 Range 10 Column 5  PI641821   \n",
       "181   MAC Field Scanner Season 4 Range 41 Column 5  PI514456   \n",
       "86    MAC Field Scanner Season 4 Range 26 Column 2  PI452619   \n",
       "155  MAC Field Scanner Season 4 Range 38 Column 11  PI641835   \n",
       "178  MAC Field Scanner Season 4 Range 41 Column 14  PI646242   \n",
       "194   MAC Field Scanner Season 4 Range 45 Column 7  PI330796   \n",
       "104   MAC Field Scanner Season 4 Range 29 Column 5  PI646266   \n",
       "9    MAC Field Scanner Season 4 Range 11 Column 10  PI561840   \n",
       "234   MAC Field Scanner Season 4 Range 53 Column 5    SP1615   \n",
       "231  MAC Field Scanner Season 4 Range 53 Column 11    SP1615   \n",
       "213   MAC Field Scanner Season 4 Range 49 Column 7  PI569423   \n",
       "237    MAC Field Scanner Season 4 Range 7 Column 6  PI646242   \n",
       "173  MAC Field Scanner Season 4 Range 40 Column 12  PI510757   \n",
       "66    MAC Field Scanner Season 4 Range 20 Column 9  PI535792   \n",
       "222   MAC Field Scanner Season 4 Range 50 Column 9  PI655978   \n",
       "219  MAC Field Scanner Season 4 Range 50 Column 14  PI534165   \n",
       "15    MAC Field Scanner Season 4 Range 11 Column 9   PI52606   \n",
       "182   MAC Field Scanner Season 4 Range 41 Column 7  PI329584   \n",
       "24   MAC Field Scanner Season 4 Range 13 Column 15  PI156268   \n",
       "120   MAC Field Scanner Season 4 Range 30 Column 6  PI297171   \n",
       "19   MAC Field Scanner Season 4 Range 12 Column 15  PI641825   \n",
       "112  MAC Field Scanner Season 4 Range 30 Column 11  PI563022   \n",
       "67   MAC Field Scanner Season 4 Range 21 Column 14  PI570388   \n",
       "221   MAC Field Scanner Season 4 Range 50 Column 6  PI655972   \n",
       "156  MAC Field Scanner Season 4 Range 38 Column 13  PI253986   \n",
       "199   MAC Field Scanner Season 4 Range 46 Column 5  PI535796   \n",
       "10   MAC Field Scanner Season 4 Range 11 Column 12  PI656065   \n",
       "30   MAC Field Scanner Season 4 Range 15 Column 14  PI620157   \n",
       "96    MAC Field Scanner Season 4 Range 28 Column 5  PI586541   \n",
       "235   MAC Field Scanner Season 4 Range 53 Column 7    SP1615   \n",
       "242    MAC Field Scanner Season 4 Range 8 Column 6  PI562990   \n",
       "117   MAC Field Scanner Season 4 Range 30 Column 3  PI563006   \n",
       "25    MAC Field Scanner Season 4 Range 13 Column 3  PI330833   \n",
       "244    MAC Field Scanner Season 4 Range 9 Column 2  PI569416   \n",
       "18   MAC Field Scanner Season 4 Range 12 Column 13  PI641824   \n",
       "132  MAC Field Scanner Season 4 Range 32 Column 13  PI585966   \n",
       "198   MAC Field Scanner Season 4 Range 46 Column 2  PI533792   \n",
       "55   MAC Field Scanner Season 4 Range 20 Column 12  PI329435   \n",
       "45    MAC Field Scanner Season 4 Range 18 Column 3  PI196598   \n",
       "216   MAC Field Scanner Season 4 Range 5 Column 14  PI653617   \n",
       "109    MAC Field Scanner Season 4 Range 3 Column 4  PI145626   \n",
       "60    MAC Field Scanner Season 4 Range 20 Column 3  PI656026   \n",
       "183  MAC Field Scanner Season 4 Range 42 Column 10  PI329665   \n",
       "16   MAC Field Scanner Season 4 Range 12 Column 11  PI569443   \n",
       "119   MAC Field Scanner Season 4 Range 30 Column 5  PI152727   \n",
       "68    MAC Field Scanner Season 4 Range 21 Column 3  PI329570   \n",
       "170   MAC Field Scanner Season 4 Range 4 Column 15  PI563355   \n",
       "38    MAC Field Scanner Season 4 Range 17 Column 4  PI570090   \n",
       "245    MAC Field Scanner Season 4 Range 9 Column 6  PI329351   \n",
       "\n",
       "    aboveground_dry_biomass flag_leaf_emergence_time flowering_time  \n",
       "33                    24380                                          \n",
       "6                                                 70                 \n",
       "181                   22350                                          \n",
       "86                    17930                                          \n",
       "155                   28140                                          \n",
       "178                   25640                                          \n",
       "194                    8227                                          \n",
       "104                   35150                                          \n",
       "9                     20140                                          \n",
       "234                   38580                                          \n",
       "231                   33050                                          \n",
       "213                   15700                                          \n",
       "237                   32700                                          \n",
       "173                    8616                                          \n",
       "66                    17900                       70             74  \n",
       "222                                               62             68  \n",
       "219                                               60             63  \n",
       "15                                                62                 \n",
       "182                    7196                                          \n",
       "24                     8841                                          \n",
       "120                   27410                                          \n",
       "19                    18050                                          \n",
       "112                   14990                                          \n",
       "67                    28420                                          \n",
       "221                   16680                       68             70  \n",
       "156                   42420                                          \n",
       "199                   25210                       62             70  \n",
       "10                                                56             61  \n",
       "30                    22940                       56             62  \n",
       "96                    19910                                          \n",
       "235                   31570                                          \n",
       "242                   15810                                          \n",
       "117                   11110                                          \n",
       "25                    16430                                          \n",
       "244                    9052                                          \n",
       "18                                                70                 \n",
       "132                   12110                                          \n",
       "198                    5903                                          \n",
       "55                     9525                       61             64  \n",
       "45                    30080                                          \n",
       "216                                               56                 \n",
       "109                   23190                       91                 \n",
       "60                    11110                       62             65  \n",
       "183                    2734                                          \n",
       "16                    25160                                          \n",
       "119                   22040                                          \n",
       "68                    24900                                          \n",
       "170                   15690                                          \n",
       "38                    13400                                          \n",
       "245                   13300                                          "
      ]
     },
     "execution_count": 62,
     "metadata": {},
     "output_type": "execute_result"
    }
   ],
   "source": [
    "filled_nas.sample(n=50, random_state=42)"
   ]
  },
  {
   "cell_type": "code",
   "execution_count": 63,
   "metadata": {
    "pycharm": {
     "is_executing": false
    }
   },
   "outputs": [
    {
     "data": {
      "text/html": [
       "<div>\n",
       "<style scoped>\n",
       "    .dataframe tbody tr th:only-of-type {\n",
       "        vertical-align: middle;\n",
       "    }\n",
       "\n",
       "    .dataframe tbody tr th {\n",
       "        vertical-align: top;\n",
       "    }\n",
       "\n",
       "    .dataframe thead th {\n",
       "        text-align: right;\n",
       "    }\n",
       "</style>\n",
       "<table border=\"1\" class=\"dataframe\">\n",
       "  <thead>\n",
       "    <tr style=\"text-align: right;\">\n",
       "      <th></th>\n",
       "      <th>sitename</th>\n",
       "      <th>cultivar</th>\n",
       "      <th>aboveground_dry_biomass</th>\n",
       "      <th>flag_leaf_emergence_time</th>\n",
       "      <th>flowering_time</th>\n",
       "    </tr>\n",
       "  </thead>\n",
       "  <tbody>\n",
       "    <tr>\n",
       "      <th>66</th>\n",
       "      <td>MAC Field Scanner Season 4 Range 20 Column 9</td>\n",
       "      <td>PI535792</td>\n",
       "      <td>17900</td>\n",
       "      <td>70</td>\n",
       "      <td>74</td>\n",
       "    </tr>\n",
       "    <tr>\n",
       "      <th>72</th>\n",
       "      <td>MAC Field Scanner Season 4 Range 22 Column 7</td>\n",
       "      <td>PI330196</td>\n",
       "      <td>32030</td>\n",
       "      <td></td>\n",
       "      <td></td>\n",
       "    </tr>\n",
       "    <tr>\n",
       "      <th>173</th>\n",
       "      <td>MAC Field Scanner Season 4 Range 40 Column 12</td>\n",
       "      <td>PI510757</td>\n",
       "      <td>8616</td>\n",
       "      <td></td>\n",
       "      <td></td>\n",
       "    </tr>\n",
       "    <tr>\n",
       "      <th>152</th>\n",
       "      <td>MAC Field Scanner Season 4 Range 37 Column 11</td>\n",
       "      <td>PI152694</td>\n",
       "      <td>27190</td>\n",
       "      <td></td>\n",
       "      <td></td>\n",
       "    </tr>\n",
       "    <tr>\n",
       "      <th>93</th>\n",
       "      <td>MAC Field Scanner Season 4 Range 27 Column 7</td>\n",
       "      <td>PI196586</td>\n",
       "      <td>28130</td>\n",
       "      <td></td>\n",
       "      <td></td>\n",
       "    </tr>\n",
       "  </tbody>\n",
       "</table>\n",
       "</div>"
      ],
      "text/plain": [
       "                                          sitename  cultivar  \\\n",
       "66    MAC Field Scanner Season 4 Range 20 Column 9  PI535792   \n",
       "72    MAC Field Scanner Season 4 Range 22 Column 7  PI330196   \n",
       "173  MAC Field Scanner Season 4 Range 40 Column 12  PI510757   \n",
       "152  MAC Field Scanner Season 4 Range 37 Column 11  PI152694   \n",
       "93    MAC Field Scanner Season 4 Range 27 Column 7  PI196586   \n",
       "\n",
       "    aboveground_dry_biomass flag_leaf_emergence_time flowering_time  \n",
       "66                    17900                       70             74  \n",
       "72                    32030                                          \n",
       "173                    8616                                          \n",
       "152                   27190                                          \n",
       "93                    28130                                          "
      ]
     },
     "execution_count": 63,
     "metadata": {},
     "output_type": "execute_result"
    }
   ],
   "source": [
    "filled_nas_sample = filled_nas.sample(n=50, random_state=43)\n",
    "filled_nas_sample.tail()"
   ]
  },
  {
   "cell_type": "code",
   "execution_count": 64,
   "metadata": {
    "pycharm": {
     "is_executing": false
    }
   },
   "outputs": [],
   "source": [
    "filled_nas_sample.to_csv('sample_subset_season_4.csv', index=False)"
   ]
  },
  {
   "cell_type": "code",
   "execution_count": 65,
   "metadata": {
    "pycharm": {
     "is_executing": false
    }
   },
   "outputs": [],
   "source": [
    "filled_nas.to_csv('transformed_data_season_4.csv', index=False)"
   ]
  },
  {
   "cell_type": "markdown",
   "metadata": {},
   "source": [
    "#### Need Max Canopy Height"
   ]
  },
  {
   "cell_type": "code",
   "execution_count": 66,
   "metadata": {
    "pycharm": {
     "is_executing": false
    }
   },
   "outputs": [
    {
     "data": {
      "text/html": [
       "<div>\n",
       "<style scoped>\n",
       "    .dataframe tbody tr th:only-of-type {\n",
       "        vertical-align: middle;\n",
       "    }\n",
       "\n",
       "    .dataframe tbody tr th {\n",
       "        vertical-align: top;\n",
       "    }\n",
       "\n",
       "    .dataframe thead th {\n",
       "        text-align: right;\n",
       "    }\n",
       "</style>\n",
       "<table border=\"1\" class=\"dataframe\">\n",
       "  <thead>\n",
       "    <tr style=\"text-align: right;\">\n",
       "      <th></th>\n",
       "      <th>Unnamed: 0</th>\n",
       "      <th>checked</th>\n",
       "      <th>result_type</th>\n",
       "      <th>id</th>\n",
       "      <th>citation_id</th>\n",
       "      <th>site_id</th>\n",
       "      <th>treatment_id</th>\n",
       "      <th>sitename</th>\n",
       "      <th>city</th>\n",
       "      <th>lat</th>\n",
       "      <th>...</th>\n",
       "      <th>n</th>\n",
       "      <th>statname</th>\n",
       "      <th>stat</th>\n",
       "      <th>notes</th>\n",
       "      <th>access_level</th>\n",
       "      <th>cultivar</th>\n",
       "      <th>entity</th>\n",
       "      <th>method_name</th>\n",
       "      <th>view_url</th>\n",
       "      <th>edit_url</th>\n",
       "    </tr>\n",
       "  </thead>\n",
       "  <tbody>\n",
       "    <tr>\n",
       "      <th>0</th>\n",
       "      <td>1</td>\n",
       "      <td>0</td>\n",
       "      <td>traits</td>\n",
       "      <td>6001958927</td>\n",
       "      <td>6.000000e+09</td>\n",
       "      <td>6000005673</td>\n",
       "      <td>6.000000e+09</td>\n",
       "      <td>MAC Field Scanner Season 4 Range 11 Column 5</td>\n",
       "      <td>Maricopa</td>\n",
       "      <td>33.074907</td>\n",
       "      <td>...</td>\n",
       "      <td>NaN</td>\n",
       "      <td>NaN</td>\n",
       "      <td>NaN</td>\n",
       "      <td>NaN</td>\n",
       "      <td>2</td>\n",
       "      <td>PI181083</td>\n",
       "      <td>NaN</td>\n",
       "      <td>Visual assessment of leaf dessication</td>\n",
       "      <td>https://terraref.ncsa.illinois.edu/bety/traits...</td>\n",
       "      <td>https://terraref.ncsa.illinois.edu/bety/traits...</td>\n",
       "    </tr>\n",
       "    <tr>\n",
       "      <th>1</th>\n",
       "      <td>2</td>\n",
       "      <td>0</td>\n",
       "      <td>traits</td>\n",
       "      <td>6001958928</td>\n",
       "      <td>6.000000e+09</td>\n",
       "      <td>6000005676</td>\n",
       "      <td>6.000000e+09</td>\n",
       "      <td>MAC Field Scanner Season 4 Range 11 Column 6</td>\n",
       "      <td>Maricopa</td>\n",
       "      <td>33.074907</td>\n",
       "      <td>...</td>\n",
       "      <td>NaN</td>\n",
       "      <td>NaN</td>\n",
       "      <td>NaN</td>\n",
       "      <td>NaN</td>\n",
       "      <td>2</td>\n",
       "      <td>PI564163</td>\n",
       "      <td>NaN</td>\n",
       "      <td>Visual assessment of leaf dessication</td>\n",
       "      <td>https://terraref.ncsa.illinois.edu/bety/traits...</td>\n",
       "      <td>https://terraref.ncsa.illinois.edu/bety/traits...</td>\n",
       "    </tr>\n",
       "    <tr>\n",
       "      <th>2</th>\n",
       "      <td>3</td>\n",
       "      <td>0</td>\n",
       "      <td>traits</td>\n",
       "      <td>6001958931</td>\n",
       "      <td>6.000000e+09</td>\n",
       "      <td>6000005685</td>\n",
       "      <td>6.000000e+09</td>\n",
       "      <td>MAC Field Scanner Season 4 Range 11 Column 9</td>\n",
       "      <td>Maricopa</td>\n",
       "      <td>33.074907</td>\n",
       "      <td>...</td>\n",
       "      <td>NaN</td>\n",
       "      <td>NaN</td>\n",
       "      <td>NaN</td>\n",
       "      <td>NaN</td>\n",
       "      <td>2</td>\n",
       "      <td>PI52606</td>\n",
       "      <td>NaN</td>\n",
       "      <td>Visual assessment of leaf dessication</td>\n",
       "      <td>https://terraref.ncsa.illinois.edu/bety/traits...</td>\n",
       "      <td>https://terraref.ncsa.illinois.edu/bety/traits...</td>\n",
       "    </tr>\n",
       "    <tr>\n",
       "      <th>3</th>\n",
       "      <td>4</td>\n",
       "      <td>0</td>\n",
       "      <td>traits</td>\n",
       "      <td>6001958933</td>\n",
       "      <td>6.000000e+09</td>\n",
       "      <td>6000005691</td>\n",
       "      <td>6.000000e+09</td>\n",
       "      <td>MAC Field Scanner Season 4 Range 11 Column 11</td>\n",
       "      <td>Maricopa</td>\n",
       "      <td>33.074907</td>\n",
       "      <td>...</td>\n",
       "      <td>NaN</td>\n",
       "      <td>NaN</td>\n",
       "      <td>NaN</td>\n",
       "      <td>NaN</td>\n",
       "      <td>2</td>\n",
       "      <td>PI533792</td>\n",
       "      <td>NaN</td>\n",
       "      <td>Visual assessment of leaf dessication</td>\n",
       "      <td>https://terraref.ncsa.illinois.edu/bety/traits...</td>\n",
       "      <td>https://terraref.ncsa.illinois.edu/bety/traits...</td>\n",
       "    </tr>\n",
       "    <tr>\n",
       "      <th>4</th>\n",
       "      <td>5</td>\n",
       "      <td>0</td>\n",
       "      <td>traits</td>\n",
       "      <td>6001958936</td>\n",
       "      <td>6.000000e+09</td>\n",
       "      <td>6000005700</td>\n",
       "      <td>6.000000e+09</td>\n",
       "      <td>MAC Field Scanner Season 4 Range 11 Column 14</td>\n",
       "      <td>Maricopa</td>\n",
       "      <td>33.074907</td>\n",
       "      <td>...</td>\n",
       "      <td>NaN</td>\n",
       "      <td>NaN</td>\n",
       "      <td>NaN</td>\n",
       "      <td>NaN</td>\n",
       "      <td>2</td>\n",
       "      <td>PI535794</td>\n",
       "      <td>NaN</td>\n",
       "      <td>Visual assessment of leaf dessication</td>\n",
       "      <td>https://terraref.ncsa.illinois.edu/bety/traits...</td>\n",
       "      <td>https://terraref.ncsa.illinois.edu/bety/traits...</td>\n",
       "    </tr>\n",
       "  </tbody>\n",
       "</table>\n",
       "<p>5 rows × 39 columns</p>\n",
       "</div>"
      ],
      "text/plain": [
       "   Unnamed: 0  checked result_type          id   citation_id     site_id  \\\n",
       "0           1        0      traits  6001958927  6.000000e+09  6000005673   \n",
       "1           2        0      traits  6001958928  6.000000e+09  6000005676   \n",
       "2           3        0      traits  6001958931  6.000000e+09  6000005685   \n",
       "3           4        0      traits  6001958933  6.000000e+09  6000005691   \n",
       "4           5        0      traits  6001958936  6.000000e+09  6000005700   \n",
       "\n",
       "   treatment_id                                       sitename      city  \\\n",
       "0  6.000000e+09   MAC Field Scanner Season 4 Range 11 Column 5  Maricopa   \n",
       "1  6.000000e+09   MAC Field Scanner Season 4 Range 11 Column 6  Maricopa   \n",
       "2  6.000000e+09   MAC Field Scanner Season 4 Range 11 Column 9  Maricopa   \n",
       "3  6.000000e+09  MAC Field Scanner Season 4 Range 11 Column 11  Maricopa   \n",
       "4  6.000000e+09  MAC Field Scanner Season 4 Range 11 Column 14  Maricopa   \n",
       "\n",
       "         lat  ...   n statname stat notes  access_level  cultivar entity  \\\n",
       "0  33.074907  ... NaN      NaN  NaN   NaN             2  PI181083    NaN   \n",
       "1  33.074907  ... NaN      NaN  NaN   NaN             2  PI564163    NaN   \n",
       "2  33.074907  ... NaN      NaN  NaN   NaN             2   PI52606    NaN   \n",
       "3  33.074907  ... NaN      NaN  NaN   NaN             2  PI533792    NaN   \n",
       "4  33.074907  ... NaN      NaN  NaN   NaN             2  PI535794    NaN   \n",
       "\n",
       "                             method_name  \\\n",
       "0  Visual assessment of leaf dessication   \n",
       "1  Visual assessment of leaf dessication   \n",
       "2  Visual assessment of leaf dessication   \n",
       "3  Visual assessment of leaf dessication   \n",
       "4  Visual assessment of leaf dessication   \n",
       "\n",
       "                                            view_url  \\\n",
       "0  https://terraref.ncsa.illinois.edu/bety/traits...   \n",
       "1  https://terraref.ncsa.illinois.edu/bety/traits...   \n",
       "2  https://terraref.ncsa.illinois.edu/bety/traits...   \n",
       "3  https://terraref.ncsa.illinois.edu/bety/traits...   \n",
       "4  https://terraref.ncsa.illinois.edu/bety/traits...   \n",
       "\n",
       "                                            edit_url  \n",
       "0  https://terraref.ncsa.illinois.edu/bety/traits...  \n",
       "1  https://terraref.ncsa.illinois.edu/bety/traits...  \n",
       "2  https://terraref.ncsa.illinois.edu/bety/traits...  \n",
       "3  https://terraref.ncsa.illinois.edu/bety/traits...  \n",
       "4  https://terraref.ncsa.illinois.edu/bety/traits...  \n",
       "\n",
       "[5 rows x 39 columns]"
      ]
     },
     "execution_count": 66,
     "metadata": {},
     "output_type": "execute_result"
    }
   ],
   "source": [
    "season_four = pd.read_csv('../data/raw/mac_season_4.csv')\n",
    "season_four.head()"
   ]
  },
  {
   "cell_type": "code",
   "execution_count": 67,
   "metadata": {
    "pycharm": {
     "is_executing": false
    }
   },
   "outputs": [
    {
     "data": {
      "text/plain": [
       "array(['leaf_desiccation_present', 'lodging_present', 'leaf_temperature',\n",
       "       'planter_seed_drop', 'roll', 'PhiNO', 'PhiNPQ', 'absorbance_530',\n",
       "       'absorbance_605', 'absorbance_730', 'absorbance_880',\n",
       "       'absorbance_940', 'Fs', 'NPQt', 'qL', 'qP', 'RFd', 'SPAD_530',\n",
       "       'SPAD_605', 'SPAD_730', 'leaf_thickness', 'ambient_humidity',\n",
       "       'leaf_angle_clamp_position', 'pitch', 'proximal_air_temperature',\n",
       "       'FvP/FmP', 'gH+', 'ECSt', 'leaf_temperature_differential', 'Phi2',\n",
       "       'relative_chlorophyll', 'FmPrime', 'FoPrime', 'LEF', 'SPAD_420',\n",
       "       'SPAD_650', 'SPAD_850', 'SPAD_880', 'light_intensity_PAR', 'vH+',\n",
       "       'absorbance_650', 'absorbance_850', 'absorbance_420',\n",
       "       'surface_temperature', 'leaf_angle_chi', 'leaf_angle_mean',\n",
       "       'leaf_angle_alpha', 'leaf_angle_beta', 'aboveground_dry_biomass',\n",
       "       'seedling_emergence_rate', 'panicle_height', 'stand_count',\n",
       "       'dry_matter_fraction', 'harvest_lodging_rating', 'canopy_height',\n",
       "       'anthocyanin_index', 'chlorophyll_index',\n",
       "       'flag_leaf_emergence_time', 'flowering_time', 'grain_stage_time',\n",
       "       'leaf_length', 'leaf_width', 'leaf_stomatal_conductance',\n",
       "       'aboveground_biomass_moisture', 'aboveground_fresh_biomass',\n",
       "       'canopy_cover', 'panicle_count', 'panicle_volume',\n",
       "       'panicle_surface_area', 'stem_elongated_internodes_number',\n",
       "       'emergence_count', 'stalk_diameter_fixed_height',\n",
       "       'stalk_diameter_minor_axis', 'stalk_diameter_major_axis',\n",
       "       'plant_basal_tiller_number'], dtype=object)"
      ]
     },
     "execution_count": 67,
     "metadata": {},
     "output_type": "execute_result"
    }
   ],
   "source": [
    "season_four.trait.unique()"
   ]
  },
  {
   "cell_type": "code",
   "execution_count": 68,
   "metadata": {
    "pycharm": {
     "is_executing": false
    }
   },
   "outputs": [
    {
     "data": {
      "text/plain": [
       "(58056, 39)"
      ]
     },
     "execution_count": 68,
     "metadata": {},
     "output_type": "execute_result"
    }
   ],
   "source": [
    "canopy_height = season_four.loc[season_four.trait == 'canopy_height']\n",
    "canopy_height.shape"
   ]
  },
  {
   "cell_type": "code",
   "execution_count": 69,
   "metadata": {
    "pycharm": {
     "is_executing": false
    }
   },
   "outputs": [
    {
     "data": {
      "text/html": [
       "<div>\n",
       "<style scoped>\n",
       "    .dataframe tbody tr th:only-of-type {\n",
       "        vertical-align: middle;\n",
       "    }\n",
       "\n",
       "    .dataframe tbody tr th {\n",
       "        vertical-align: top;\n",
       "    }\n",
       "\n",
       "    .dataframe thead th {\n",
       "        text-align: right;\n",
       "    }\n",
       "</style>\n",
       "<table border=\"1\" class=\"dataframe\">\n",
       "  <thead>\n",
       "    <tr style=\"text-align: right;\">\n",
       "      <th></th>\n",
       "      <th>sitename</th>\n",
       "      <th>date</th>\n",
       "      <th>time</th>\n",
       "      <th>raw_date</th>\n",
       "      <th>month</th>\n",
       "      <th>year</th>\n",
       "      <th>dateloc</th>\n",
       "      <th>trait</th>\n",
       "      <th>trait_description</th>\n",
       "      <th>mean</th>\n",
       "      <th>units</th>\n",
       "      <th>cultivar</th>\n",
       "    </tr>\n",
       "  </thead>\n",
       "  <tbody>\n",
       "    <tr>\n",
       "      <th>51339</th>\n",
       "      <td>MAC Field Scanner Season 4 Range 30 Column 9 E</td>\n",
       "      <td>2017 Jun 19 (America/Phoenix)</td>\n",
       "      <td>[time unspecified or unknown]</td>\n",
       "      <td>2017-06-20 00:00:00 -0500</td>\n",
       "      <td>6</td>\n",
       "      <td>2017</td>\n",
       "      <td>5.0</td>\n",
       "      <td>canopy_height</td>\n",
       "      <td>top of the general canopy of the plant, discou...</td>\n",
       "      <td>91.0</td>\n",
       "      <td>cm</td>\n",
       "      <td>PI329518</td>\n",
       "    </tr>\n",
       "    <tr>\n",
       "      <th>51340</th>\n",
       "      <td>MAC Field Scanner Season 4 Range 20 Column 15 W</td>\n",
       "      <td>2017 Jun 4 (America/Phoenix)</td>\n",
       "      <td>[time unspecified or unknown]</td>\n",
       "      <td>2017-06-05 00:00:00 -0500</td>\n",
       "      <td>6</td>\n",
       "      <td>2017</td>\n",
       "      <td>5.0</td>\n",
       "      <td>canopy_height</td>\n",
       "      <td>top of the general canopy of the plant, discou...</td>\n",
       "      <td>99.0</td>\n",
       "      <td>cm</td>\n",
       "      <td>PI152828</td>\n",
       "    </tr>\n",
       "    <tr>\n",
       "      <th>51341</th>\n",
       "      <td>MAC Field Scanner Season 4 Range 20 Column 15 W</td>\n",
       "      <td>2017 May 29 (America/Phoenix)</td>\n",
       "      <td>[time unspecified or unknown]</td>\n",
       "      <td>2017-05-30 00:00:00 -0500</td>\n",
       "      <td>5</td>\n",
       "      <td>2017</td>\n",
       "      <td>5.0</td>\n",
       "      <td>canopy_height</td>\n",
       "      <td>top of the general canopy of the plant, discou...</td>\n",
       "      <td>63.0</td>\n",
       "      <td>cm</td>\n",
       "      <td>PI152828</td>\n",
       "    </tr>\n",
       "    <tr>\n",
       "      <th>75000</th>\n",
       "      <td>MAC Field Scanner Season 4 Range 35 Column 14</td>\n",
       "      <td>2017 May 20</td>\n",
       "      <td>12:00:00 (America/Phoenix)</td>\n",
       "      <td>2017-05-20 14:00:00 -0500</td>\n",
       "      <td>5</td>\n",
       "      <td>2017</td>\n",
       "      <td>5.0</td>\n",
       "      <td>canopy_height</td>\n",
       "      <td>top of the general canopy of the plant, discou...</td>\n",
       "      <td>22.0</td>\n",
       "      <td>cm</td>\n",
       "      <td>PI619838</td>\n",
       "    </tr>\n",
       "    <tr>\n",
       "      <th>75001</th>\n",
       "      <td>MAC Field Scanner Season 4 Range 36 Column 2</td>\n",
       "      <td>2017 May 20</td>\n",
       "      <td>12:00:00 (America/Phoenix)</td>\n",
       "      <td>2017-05-20 14:00:00 -0500</td>\n",
       "      <td>5</td>\n",
       "      <td>2017</td>\n",
       "      <td>5.0</td>\n",
       "      <td>canopy_height</td>\n",
       "      <td>top of the general canopy of the plant, discou...</td>\n",
       "      <td>26.0</td>\n",
       "      <td>cm</td>\n",
       "      <td>PI155885</td>\n",
       "    </tr>\n",
       "  </tbody>\n",
       "</table>\n",
       "</div>"
      ],
      "text/plain": [
       "                                              sitename  \\\n",
       "51339   MAC Field Scanner Season 4 Range 30 Column 9 E   \n",
       "51340  MAC Field Scanner Season 4 Range 20 Column 15 W   \n",
       "51341  MAC Field Scanner Season 4 Range 20 Column 15 W   \n",
       "75000    MAC Field Scanner Season 4 Range 35 Column 14   \n",
       "75001     MAC Field Scanner Season 4 Range 36 Column 2   \n",
       "\n",
       "                                date                           time  \\\n",
       "51339  2017 Jun 19 (America/Phoenix)  [time unspecified or unknown]   \n",
       "51340   2017 Jun 4 (America/Phoenix)  [time unspecified or unknown]   \n",
       "51341  2017 May 29 (America/Phoenix)  [time unspecified or unknown]   \n",
       "75000                    2017 May 20     12:00:00 (America/Phoenix)   \n",
       "75001                    2017 May 20     12:00:00 (America/Phoenix)   \n",
       "\n",
       "                        raw_date  month  year  dateloc          trait  \\\n",
       "51339  2017-06-20 00:00:00 -0500      6  2017      5.0  canopy_height   \n",
       "51340  2017-06-05 00:00:00 -0500      6  2017      5.0  canopy_height   \n",
       "51341  2017-05-30 00:00:00 -0500      5  2017      5.0  canopy_height   \n",
       "75000  2017-05-20 14:00:00 -0500      5  2017      5.0  canopy_height   \n",
       "75001  2017-05-20 14:00:00 -0500      5  2017      5.0  canopy_height   \n",
       "\n",
       "                                       trait_description  mean units  cultivar  \n",
       "51339  top of the general canopy of the plant, discou...  91.0    cm  PI329518  \n",
       "51340  top of the general canopy of the plant, discou...  99.0    cm  PI152828  \n",
       "51341  top of the general canopy of the plant, discou...  63.0    cm  PI152828  \n",
       "75000  top of the general canopy of the plant, discou...  22.0    cm  PI619838  \n",
       "75001  top of the general canopy of the plant, discou...  26.0    cm  PI155885  "
      ]
     },
     "execution_count": 69,
     "metadata": {},
     "output_type": "execute_result"
    }
   ],
   "source": [
    "# drop similar columns to above but keep date cols for now\n",
    "\n",
    "cols_to_drop = ['Unnamed: 0', 'checked', 'result_type', 'citation_id', 'scientificname', 'species_id', 'author', \\\n",
    "                'citation_year', 'treatment', 'n', 'statname', 'stat', 'notes', 'access_level', 'entity', \\\n",
    "                'method_name', 'view_url', 'edit_url', 'treatment_id', 'city', 'commonname', 'genus', 'id', \\\n",
    "               'site_id', 'lat', 'lon', 'cultivar_id']\n",
    "\n",
    "dropped_col_df = canopy_height.drop(labels=cols_to_drop, axis=1)\n",
    "dropped_col_df.head()"
   ]
  },
  {
   "cell_type": "code",
   "execution_count": 70,
   "metadata": {
    "pycharm": {
     "is_executing": false
    }
   },
   "outputs": [
    {
     "data": {
      "text/plain": [
       "array(['top of the general canopy of the plant, discounting any exceptional branches, leaves or photosynthetic portions of the inflorescence.'],\n",
       "      dtype=object)"
      ]
     },
     "execution_count": 70,
     "metadata": {},
     "output_type": "execute_result"
    }
   ],
   "source": [
    "dropped_col_df.trait_description.unique()"
   ]
  },
  {
   "cell_type": "code",
   "execution_count": 71,
   "metadata": {
    "pycharm": {
     "is_executing": false
    }
   },
   "outputs": [
    {
     "data": {
      "text/plain": [
       "51339     False\n",
       "51340     False\n",
       "51341      True\n",
       "75000     False\n",
       "75001     False\n",
       "          ...  \n",
       "354995     True\n",
       "354996     True\n",
       "354997     True\n",
       "354998     True\n",
       "354999     True\n",
       "Length: 58056, dtype: bool"
      ]
     },
     "execution_count": 71,
     "metadata": {},
     "output_type": "execute_result"
    }
   ],
   "source": [
    "dropped_col_df.duplicated(subset='sitename')"
   ]
  },
  {
   "cell_type": "code",
   "execution_count": 72,
   "metadata": {
    "pycharm": {
     "is_executing": false
    }
   },
   "outputs": [
    {
     "data": {
      "text/html": [
       "<div>\n",
       "<style scoped>\n",
       "    .dataframe tbody tr th:only-of-type {\n",
       "        vertical-align: middle;\n",
       "    }\n",
       "\n",
       "    .dataframe tbody tr th {\n",
       "        vertical-align: top;\n",
       "    }\n",
       "\n",
       "    .dataframe thead th {\n",
       "        text-align: right;\n",
       "    }\n",
       "</style>\n",
       "<table border=\"1\" class=\"dataframe\">\n",
       "  <thead>\n",
       "    <tr style=\"text-align: right;\">\n",
       "      <th></th>\n",
       "      <th>sitename</th>\n",
       "      <th>cultivar</th>\n",
       "      <th>aboveground_dry_biomass</th>\n",
       "      <th>flag_leaf_emergence_time</th>\n",
       "      <th>flowering_time</th>\n",
       "    </tr>\n",
       "  </thead>\n",
       "  <tbody>\n",
       "    <tr>\n",
       "      <th>0</th>\n",
       "      <td>MAC Field Scanner Season 4 Range 10 Column 11</td>\n",
       "      <td>PI195754</td>\n",
       "      <td>29400.0</td>\n",
       "      <td>68.0</td>\n",
       "      <td>71.0</td>\n",
       "    </tr>\n",
       "    <tr>\n",
       "      <th>1</th>\n",
       "      <td>MAC Field Scanner Season 4 Range 10 Column 14</td>\n",
       "      <td>PI19770</td>\n",
       "      <td>NaN</td>\n",
       "      <td>62.0</td>\n",
       "      <td>68.0</td>\n",
       "    </tr>\n",
       "    <tr>\n",
       "      <th>2</th>\n",
       "      <td>MAC Field Scanner Season 4 Range 10 Column 15</td>\n",
       "      <td>PI144134</td>\n",
       "      <td>NaN</td>\n",
       "      <td>77.0</td>\n",
       "      <td>NaN</td>\n",
       "    </tr>\n",
       "    <tr>\n",
       "      <th>3</th>\n",
       "      <td>MAC Field Scanner Season 4 Range 10 Column 2</td>\n",
       "      <td>PI641807</td>\n",
       "      <td>NaN</td>\n",
       "      <td>77.0</td>\n",
       "      <td>NaN</td>\n",
       "    </tr>\n",
       "    <tr>\n",
       "      <th>4</th>\n",
       "      <td>MAC Field Scanner Season 4 Range 10 Column 3</td>\n",
       "      <td>PI175919</td>\n",
       "      <td>NaN</td>\n",
       "      <td>70.0</td>\n",
       "      <td>71.0</td>\n",
       "    </tr>\n",
       "  </tbody>\n",
       "</table>\n",
       "</div>"
      ],
      "text/plain": [
       "                                        sitename  cultivar  \\\n",
       "0  MAC Field Scanner Season 4 Range 10 Column 11  PI195754   \n",
       "1  MAC Field Scanner Season 4 Range 10 Column 14   PI19770   \n",
       "2  MAC Field Scanner Season 4 Range 10 Column 15  PI144134   \n",
       "3   MAC Field Scanner Season 4 Range 10 Column 2  PI641807   \n",
       "4   MAC Field Scanner Season 4 Range 10 Column 3  PI175919   \n",
       "\n",
       "   aboveground_dry_biomass  flag_leaf_emergence_time  flowering_time  \n",
       "0                  29400.0                      68.0            71.0  \n",
       "1                      NaN                      62.0            68.0  \n",
       "2                      NaN                      77.0             NaN  \n",
       "3                      NaN                      77.0             NaN  \n",
       "4                      NaN                      70.0            71.0  "
      ]
     },
     "execution_count": 72,
     "metadata": {},
     "output_type": "execute_result"
    }
   ],
   "source": [
    "three_traits_empty_strings = pd.read_csv('site_cultivar_indices.csv')\n",
    "three_traits_empty_strings.head()"
   ]
  },
  {
   "cell_type": "code",
   "execution_count": 73,
   "metadata": {
    "pycharm": {
     "is_executing": false
    }
   },
   "outputs": [
    {
     "name": "stdout",
     "output_type": "stream",
     "text": [
      "sitename                      0\n",
      "cultivar                      0\n",
      "aboveground_dry_biomass      48\n",
      "flag_leaf_emergence_time    169\n",
      "flowering_time              194\n",
      "dtype: int64\n"
     ]
    }
   ],
   "source": [
    "print(np.sum(three_traits_empty_strings.isnull()))"
   ]
  },
  {
   "cell_type": "code",
   "execution_count": 74,
   "metadata": {
    "pycharm": {
     "is_executing": false
    }
   },
   "outputs": [
    {
     "ename": "FileNotFoundError",
     "evalue": "[Errno 2] File b'max_canopy_heights.csv' does not exist: b'max_canopy_heights.csv'",
     "output_type": "error",
     "traceback": [
      "\u001b[0;31m---------------------------------------------------------------------------\u001b[0m",
      "\u001b[0;31mFileNotFoundError\u001b[0m                         Traceback (most recent call last)",
      "\u001b[0;32m<ipython-input-74-a97c28cd73b0>\u001b[0m in \u001b[0;36m<module>\u001b[0;34m\u001b[0m\n\u001b[0;32m----> 1\u001b[0;31m \u001b[0mcanopy_df\u001b[0m \u001b[0;34m=\u001b[0m \u001b[0mpd\u001b[0m\u001b[0;34m.\u001b[0m\u001b[0mread_csv\u001b[0m\u001b[0;34m(\u001b[0m\u001b[0;34m'max_canopy_heights.csv'\u001b[0m\u001b[0;34m)\u001b[0m\u001b[0;34m\u001b[0m\u001b[0;34m\u001b[0m\u001b[0m\n\u001b[0m\u001b[1;32m      2\u001b[0m \u001b[0mcanopy_df\u001b[0m\u001b[0;34m.\u001b[0m\u001b[0mhead\u001b[0m\u001b[0;34m(\u001b[0m\u001b[0;34m)\u001b[0m\u001b[0;34m\u001b[0m\u001b[0;34m\u001b[0m\u001b[0m\n",
      "\u001b[0;32m/opt/miniconda3/envs/terraref-datasets/lib/python3.7/site-packages/pandas/io/parsers.py\u001b[0m in \u001b[0;36mparser_f\u001b[0;34m(filepath_or_buffer, sep, delimiter, header, names, index_col, usecols, squeeze, prefix, mangle_dupe_cols, dtype, engine, converters, true_values, false_values, skipinitialspace, skiprows, skipfooter, nrows, na_values, keep_default_na, na_filter, verbose, skip_blank_lines, parse_dates, infer_datetime_format, keep_date_col, date_parser, dayfirst, cache_dates, iterator, chunksize, compression, thousands, decimal, lineterminator, quotechar, quoting, doublequote, escapechar, comment, encoding, dialect, error_bad_lines, warn_bad_lines, delim_whitespace, low_memory, memory_map, float_precision)\u001b[0m\n\u001b[1;32m    683\u001b[0m         )\n\u001b[1;32m    684\u001b[0m \u001b[0;34m\u001b[0m\u001b[0m\n\u001b[0;32m--> 685\u001b[0;31m         \u001b[0;32mreturn\u001b[0m \u001b[0m_read\u001b[0m\u001b[0;34m(\u001b[0m\u001b[0mfilepath_or_buffer\u001b[0m\u001b[0;34m,\u001b[0m \u001b[0mkwds\u001b[0m\u001b[0;34m)\u001b[0m\u001b[0;34m\u001b[0m\u001b[0;34m\u001b[0m\u001b[0m\n\u001b[0m\u001b[1;32m    686\u001b[0m \u001b[0;34m\u001b[0m\u001b[0m\n\u001b[1;32m    687\u001b[0m     \u001b[0mparser_f\u001b[0m\u001b[0;34m.\u001b[0m\u001b[0m__name__\u001b[0m \u001b[0;34m=\u001b[0m \u001b[0mname\u001b[0m\u001b[0;34m\u001b[0m\u001b[0;34m\u001b[0m\u001b[0m\n",
      "\u001b[0;32m/opt/miniconda3/envs/terraref-datasets/lib/python3.7/site-packages/pandas/io/parsers.py\u001b[0m in \u001b[0;36m_read\u001b[0;34m(filepath_or_buffer, kwds)\u001b[0m\n\u001b[1;32m    455\u001b[0m \u001b[0;34m\u001b[0m\u001b[0m\n\u001b[1;32m    456\u001b[0m     \u001b[0;31m# Create the parser.\u001b[0m\u001b[0;34m\u001b[0m\u001b[0;34m\u001b[0m\u001b[0;34m\u001b[0m\u001b[0m\n\u001b[0;32m--> 457\u001b[0;31m     \u001b[0mparser\u001b[0m \u001b[0;34m=\u001b[0m \u001b[0mTextFileReader\u001b[0m\u001b[0;34m(\u001b[0m\u001b[0mfp_or_buf\u001b[0m\u001b[0;34m,\u001b[0m \u001b[0;34m**\u001b[0m\u001b[0mkwds\u001b[0m\u001b[0;34m)\u001b[0m\u001b[0;34m\u001b[0m\u001b[0;34m\u001b[0m\u001b[0m\n\u001b[0m\u001b[1;32m    458\u001b[0m \u001b[0;34m\u001b[0m\u001b[0m\n\u001b[1;32m    459\u001b[0m     \u001b[0;32mif\u001b[0m \u001b[0mchunksize\u001b[0m \u001b[0;32mor\u001b[0m \u001b[0miterator\u001b[0m\u001b[0;34m:\u001b[0m\u001b[0;34m\u001b[0m\u001b[0;34m\u001b[0m\u001b[0m\n",
      "\u001b[0;32m/opt/miniconda3/envs/terraref-datasets/lib/python3.7/site-packages/pandas/io/parsers.py\u001b[0m in \u001b[0;36m__init__\u001b[0;34m(self, f, engine, **kwds)\u001b[0m\n\u001b[1;32m    893\u001b[0m             \u001b[0mself\u001b[0m\u001b[0;34m.\u001b[0m\u001b[0moptions\u001b[0m\u001b[0;34m[\u001b[0m\u001b[0;34m\"has_index_names\"\u001b[0m\u001b[0;34m]\u001b[0m \u001b[0;34m=\u001b[0m \u001b[0mkwds\u001b[0m\u001b[0;34m[\u001b[0m\u001b[0;34m\"has_index_names\"\u001b[0m\u001b[0;34m]\u001b[0m\u001b[0;34m\u001b[0m\u001b[0;34m\u001b[0m\u001b[0m\n\u001b[1;32m    894\u001b[0m \u001b[0;34m\u001b[0m\u001b[0m\n\u001b[0;32m--> 895\u001b[0;31m         \u001b[0mself\u001b[0m\u001b[0;34m.\u001b[0m\u001b[0m_make_engine\u001b[0m\u001b[0;34m(\u001b[0m\u001b[0mself\u001b[0m\u001b[0;34m.\u001b[0m\u001b[0mengine\u001b[0m\u001b[0;34m)\u001b[0m\u001b[0;34m\u001b[0m\u001b[0;34m\u001b[0m\u001b[0m\n\u001b[0m\u001b[1;32m    896\u001b[0m \u001b[0;34m\u001b[0m\u001b[0m\n\u001b[1;32m    897\u001b[0m     \u001b[0;32mdef\u001b[0m \u001b[0mclose\u001b[0m\u001b[0;34m(\u001b[0m\u001b[0mself\u001b[0m\u001b[0;34m)\u001b[0m\u001b[0;34m:\u001b[0m\u001b[0;34m\u001b[0m\u001b[0;34m\u001b[0m\u001b[0m\n",
      "\u001b[0;32m/opt/miniconda3/envs/terraref-datasets/lib/python3.7/site-packages/pandas/io/parsers.py\u001b[0m in \u001b[0;36m_make_engine\u001b[0;34m(self, engine)\u001b[0m\n\u001b[1;32m   1133\u001b[0m     \u001b[0;32mdef\u001b[0m \u001b[0m_make_engine\u001b[0m\u001b[0;34m(\u001b[0m\u001b[0mself\u001b[0m\u001b[0;34m,\u001b[0m \u001b[0mengine\u001b[0m\u001b[0;34m=\u001b[0m\u001b[0;34m\"c\"\u001b[0m\u001b[0;34m)\u001b[0m\u001b[0;34m:\u001b[0m\u001b[0;34m\u001b[0m\u001b[0;34m\u001b[0m\u001b[0m\n\u001b[1;32m   1134\u001b[0m         \u001b[0;32mif\u001b[0m \u001b[0mengine\u001b[0m \u001b[0;34m==\u001b[0m \u001b[0;34m\"c\"\u001b[0m\u001b[0;34m:\u001b[0m\u001b[0;34m\u001b[0m\u001b[0;34m\u001b[0m\u001b[0m\n\u001b[0;32m-> 1135\u001b[0;31m             \u001b[0mself\u001b[0m\u001b[0;34m.\u001b[0m\u001b[0m_engine\u001b[0m \u001b[0;34m=\u001b[0m \u001b[0mCParserWrapper\u001b[0m\u001b[0;34m(\u001b[0m\u001b[0mself\u001b[0m\u001b[0;34m.\u001b[0m\u001b[0mf\u001b[0m\u001b[0;34m,\u001b[0m \u001b[0;34m**\u001b[0m\u001b[0mself\u001b[0m\u001b[0;34m.\u001b[0m\u001b[0moptions\u001b[0m\u001b[0;34m)\u001b[0m\u001b[0;34m\u001b[0m\u001b[0;34m\u001b[0m\u001b[0m\n\u001b[0m\u001b[1;32m   1136\u001b[0m         \u001b[0;32melse\u001b[0m\u001b[0;34m:\u001b[0m\u001b[0;34m\u001b[0m\u001b[0;34m\u001b[0m\u001b[0m\n\u001b[1;32m   1137\u001b[0m             \u001b[0;32mif\u001b[0m \u001b[0mengine\u001b[0m \u001b[0;34m==\u001b[0m \u001b[0;34m\"python\"\u001b[0m\u001b[0;34m:\u001b[0m\u001b[0;34m\u001b[0m\u001b[0;34m\u001b[0m\u001b[0m\n",
      "\u001b[0;32m/opt/miniconda3/envs/terraref-datasets/lib/python3.7/site-packages/pandas/io/parsers.py\u001b[0m in \u001b[0;36m__init__\u001b[0;34m(self, src, **kwds)\u001b[0m\n\u001b[1;32m   1915\u001b[0m         \u001b[0mkwds\u001b[0m\u001b[0;34m[\u001b[0m\u001b[0;34m\"usecols\"\u001b[0m\u001b[0;34m]\u001b[0m \u001b[0;34m=\u001b[0m \u001b[0mself\u001b[0m\u001b[0;34m.\u001b[0m\u001b[0musecols\u001b[0m\u001b[0;34m\u001b[0m\u001b[0;34m\u001b[0m\u001b[0m\n\u001b[1;32m   1916\u001b[0m \u001b[0;34m\u001b[0m\u001b[0m\n\u001b[0;32m-> 1917\u001b[0;31m         \u001b[0mself\u001b[0m\u001b[0;34m.\u001b[0m\u001b[0m_reader\u001b[0m \u001b[0;34m=\u001b[0m \u001b[0mparsers\u001b[0m\u001b[0;34m.\u001b[0m\u001b[0mTextReader\u001b[0m\u001b[0;34m(\u001b[0m\u001b[0msrc\u001b[0m\u001b[0;34m,\u001b[0m \u001b[0;34m**\u001b[0m\u001b[0mkwds\u001b[0m\u001b[0;34m)\u001b[0m\u001b[0;34m\u001b[0m\u001b[0;34m\u001b[0m\u001b[0m\n\u001b[0m\u001b[1;32m   1918\u001b[0m         \u001b[0mself\u001b[0m\u001b[0;34m.\u001b[0m\u001b[0munnamed_cols\u001b[0m \u001b[0;34m=\u001b[0m \u001b[0mself\u001b[0m\u001b[0;34m.\u001b[0m\u001b[0m_reader\u001b[0m\u001b[0;34m.\u001b[0m\u001b[0munnamed_cols\u001b[0m\u001b[0;34m\u001b[0m\u001b[0;34m\u001b[0m\u001b[0m\n\u001b[1;32m   1919\u001b[0m \u001b[0;34m\u001b[0m\u001b[0m\n",
      "\u001b[0;32mpandas/_libs/parsers.pyx\u001b[0m in \u001b[0;36mpandas._libs.parsers.TextReader.__cinit__\u001b[0;34m()\u001b[0m\n",
      "\u001b[0;32mpandas/_libs/parsers.pyx\u001b[0m in \u001b[0;36mpandas._libs.parsers.TextReader._setup_parser_source\u001b[0;34m()\u001b[0m\n",
      "\u001b[0;31mFileNotFoundError\u001b[0m: [Errno 2] File b'max_canopy_heights.csv' does not exist: b'max_canopy_heights.csv'"
     ]
    }
   ],
   "source": [
    "canopy_df = pd.read_csv('max_canopy_heights.csv')\n",
    "canopy_df.head()"
   ]
  },
  {
   "cell_type": "code",
   "execution_count": null,
   "metadata": {
    "pycharm": {
     "is_executing": false
    }
   },
   "outputs": [],
   "source": [
    "three_trait_df = pd.read_csv('transformed_data_season_4.csv')\n",
    "three_trait_df.head()"
   ]
  },
  {
   "cell_type": "code",
   "execution_count": null,
   "metadata": {
    "pycharm": {
     "is_executing": false
    }
   },
   "outputs": [],
   "source": [
    "three_trait_df.shape"
   ]
  },
  {
   "cell_type": "code",
   "execution_count": null,
   "metadata": {
    "pycharm": {
     "is_executing": false
    }
   },
   "outputs": [],
   "source": [
    "canopy_df.shape"
   ]
  },
  {
   "cell_type": "code",
   "execution_count": null,
   "metadata": {
    "pycharm": {
     "is_executing": false
    }
   },
   "outputs": [],
   "source": [
    "# join tables on sitenames\n",
    "\n",
    "merged_df = pd.merge(left=canopy_df, right=three_trait_df, left_on=['new_sitename', 'cultivar'], \n",
    "                     right_on=['sitename', 'cultivar'], how='outer')\n",
    "merged_df.head()"
   ]
  },
  {
   "cell_type": "code",
   "execution_count": null,
   "metadata": {
    "pycharm": {
     "is_executing": false
    }
   },
   "outputs": [],
   "source": [
    "merged_df.tail(20)"
   ]
  },
  {
   "cell_type": "code",
   "execution_count": null,
   "metadata": {
    "pycharm": {
     "is_executing": false
    }
   },
   "outputs": [],
   "source": [
    "print(merged_df.new_sitename.nunique())\n",
    "print(merged_df.sitename.nunique())"
   ]
  },
  {
   "cell_type": "code",
   "execution_count": null,
   "metadata": {
    "pycharm": {
     "is_executing": false
    }
   },
   "outputs": [],
   "source": [
    "# find differences between new_sitename and sitename\n",
    "\n",
    "different_sitenames = list(set(merged_df.new_sitename) - set(merged_df.sitename))\n",
    "different_sitenames"
   ]
  },
  {
   "cell_type": "code",
   "execution_count": null,
   "metadata": {
    "pycharm": {
     "is_executing": false
    }
   },
   "outputs": [],
   "source": [
    "merged_df[merged_df.new_sitename.isin(different_sitenames)]"
   ]
  },
  {
   "cell_type": "code",
   "execution_count": null,
   "metadata": {
    "pycharm": {
     "is_executing": false
    }
   },
   "outputs": [],
   "source": [
    "# drop sitename column\n",
    "\n",
    "one_sitename_df = merged_df.drop(labels='sitename', axis=1)\n",
    "one_sitename_df.head()"
   ]
  },
  {
   "cell_type": "code",
   "execution_count": null,
   "metadata": {
    "pycharm": {
     "is_executing": false
    }
   },
   "outputs": [],
   "source": [
    "# fill NaNs with empty strings and rename sitename column\n",
    "\n",
    "one_sitename_filled_nas = one_sitename_df.fillna(value='').rename(columns={'new_sitename': 'sitename'})\n",
    "one_sitename_filled_nas.head(10)"
   ]
  },
  {
   "cell_type": "code",
   "execution_count": null,
   "metadata": {
    "pycharm": {
     "is_executing": false
    }
   },
   "outputs": [],
   "source": [
    "one_sitename_filled_nas.to_csv('four_trait_df.csv', na_rep='', index=False)"
   ]
  },
  {
   "cell_type": "code",
   "execution_count": null,
   "metadata": {
    "pycharm": {
     "is_executing": false
    }
   },
   "outputs": [],
   "source": [
    "# check how missing values are represented when csv read \n",
    "# without using na_values argument\n",
    "\n",
    "testing_nans = pd.read_csv('four_trait_df.csv')\n",
    "testing_nans.head(10)"
   ]
  },
  {
   "cell_type": "code",
   "execution_count": null,
   "metadata": {
    "pycharm": {
     "is_executing": false
    }
   },
   "outputs": [],
   "source": [
    "# with na_values argument\n",
    "\n",
    "testing_nans_2 = pd.read_csv('four_trait_df.csv', na_values='')\n",
    "testing_nans_2.sample(n=15, random_state=42)"
   ]
  },
  {
   "cell_type": "markdown",
   "metadata": {},
   "source": [
    "### Plot corrections"
   ]
  },
  {
   "cell_type": "code",
   "execution_count": null,
   "metadata": {
    "pycharm": {
     "is_executing": false
    }
   },
   "outputs": [],
   "source": [
    "df = pd.read_csv('../data/raw/mac_season_4.csv')\n",
    "df.head()"
   ]
  },
  {
   "cell_type": "code",
   "execution_count": null,
   "metadata": {
    "pycharm": {
     "is_executing": false
    }
   },
   "outputs": [],
   "source": [
    "cols_to_drop = ['Unnamed: 0', 'checked', 'result_type', 'citation_id', 'scientificname', 'author', 'citation_year', \\\n",
    "                'treatment', 'n', 'statname', 'stat', 'notes', 'access_level', 'entity', 'method_name', 'view_url', \\\n",
    "                'edit_url', 'treatment_id', 'city', 'commonname', 'genus', 'species_id', 'month', 'year', 'dateloc']"
   ]
  },
  {
   "cell_type": "code",
   "execution_count": null,
   "metadata": {
    "pycharm": {
     "is_executing": false
    }
   },
   "outputs": [],
   "source": [
    "print(df.site_id.unique())\n",
    "print(df.site_id.nunique())"
   ]
  },
  {
   "cell_type": "code",
   "execution_count": null,
   "metadata": {
    "pycharm": {
     "is_executing": false
    }
   },
   "outputs": [],
   "source": [
    "print(df.lat.nunique())\n",
    "print(df.lon.nunique())"
   ]
  },
  {
   "cell_type": "code",
   "execution_count": null,
   "metadata": {
    "pycharm": {
     "is_executing": false
    }
   },
   "outputs": [],
   "source": [
    "print(df.cultivar_id.nunique())"
   ]
  },
  {
   "cell_type": "code",
   "execution_count": null,
   "metadata": {
    "pycharm": {
     "is_executing": false
    }
   },
   "outputs": [],
   "source": [
    "print(df.id.nunique())\n",
    "print(df.shape)"
   ]
  },
  {
   "cell_type": "code",
   "execution_count": null,
   "metadata": {
    "pycharm": {
     "is_executing": false
    }
   },
   "outputs": [],
   "source": [
    "df_dropped = df.drop(labels=cols_to_drop, axis=1)\n",
    "df_dropped.head()"
   ]
  },
  {
   "cell_type": "code",
   "execution_count": null,
   "metadata": {
    "pycharm": {
     "is_executing": false
    }
   },
   "outputs": [],
   "source": [
    "print(df.site_id.nunique())\n",
    "print(df.sitename.nunique())"
   ]
  },
  {
   "cell_type": "code",
   "execution_count": null,
   "metadata": {
    "pycharm": {
     "is_executing": false
    }
   },
   "outputs": [],
   "source": [
    "site_index = df_dropped.set_index(keys='site_id')\n",
    "site_index.head()"
   ]
  },
  {
   "cell_type": "code",
   "execution_count": null,
   "metadata": {
    "pycharm": {
     "is_executing": false
    }
   },
   "outputs": [],
   "source": [
    "# check that no duplicate sites were dropped\n",
    "\n",
    "print(df.shape)\n",
    "print(df_dropped.shape)\n",
    "print(site_index.shape)"
   ]
  },
  {
   "cell_type": "code",
   "execution_count": null,
   "metadata": {
    "pycharm": {
     "is_executing": false
    }
   },
   "outputs": [],
   "source": [
    "site_index.trait.unique()"
   ]
  },
  {
   "cell_type": "code",
   "execution_count": null,
   "metadata": {
    "pycharm": {
     "is_executing": false
    }
   },
   "outputs": [],
   "source": [
    "site_index.loc[site_index.trait == 'emergence_count']"
   ]
  },
  {
   "cell_type": "code",
   "execution_count": null,
   "metadata": {
    "pycharm": {
     "is_executing": false
    }
   },
   "outputs": [],
   "source": [
    "traits_to_keep = ['ambient_humidity', 'proximal_air_temperature', 'surface_temperature', 'leaf_temperature_differential', \\\n",
    "                 'aboveground_dry_biomass', 'seedling_emergence_rate', 'canopy_height', 'flag_leaf_emergence_time', \\\n",
    "                 'flowering_time', 'grain_stage_time', 'canopy_cover', 'emergence_count']"
   ]
  },
  {
   "cell_type": "code",
   "execution_count": null,
   "metadata": {
    "pycharm": {
     "is_executing": false
    }
   },
   "outputs": [],
   "source": [
    "# test for keeping a row based on `trait` values\n",
    "\n",
    "test_values = ['ambient_humidity', 'proximal_air_temperature']\n",
    "\n",
    "site_index.loc[(site_index.trait == 'ambient_humidity') | (site_index.trait == 'proximal_air_temperature')].shape"
   ]
  },
  {
   "cell_type": "code",
   "execution_count": null,
   "metadata": {
    "pycharm": {
     "is_executing": false
    }
   },
   "outputs": [],
   "source": [
    "test_trait_df = site_index.loc[site_index.trait.isin(test_values)]\n",
    "test_trait_df.shape"
   ]
  },
  {
   "cell_type": "code",
   "execution_count": null,
   "metadata": {
    "pycharm": {
     "is_executing": false
    }
   },
   "outputs": [],
   "source": [
    "test_trait_df.head()"
   ]
  },
  {
   "cell_type": "code",
   "execution_count": null,
   "metadata": {
    "pycharm": {
     "is_executing": false
    }
   },
   "outputs": [],
   "source": [
    "test_trait_df.trait.unique()"
   ]
  },
  {
   "cell_type": "code",
   "execution_count": null,
   "metadata": {
    "pycharm": {
     "is_executing": false
    }
   },
   "outputs": [],
   "source": [
    "df.loc[(df.trait == 'ambient_humidity') | (df.trait == 'proximal_air_temperature')].shape"
   ]
  },
  {
   "cell_type": "code",
   "execution_count": null,
   "metadata": {
    "pycharm": {
     "is_executing": false
    }
   },
   "outputs": [],
   "source": [
    "selected_traits = site_index.loc[site_index.trait.isin(traits_to_keep)]\n",
    "selected_traits.shape"
   ]
  },
  {
   "cell_type": "code",
   "execution_count": null,
   "metadata": {
    "pycharm": {
     "is_executing": false
    }
   },
   "outputs": [],
   "source": [
    "e_w_sites = selected_traits.loc[(selected_traits.sitename.str.endswith(' W')) | (selected_traits.sitename.str.endswith(' E'))]"
   ]
  },
  {
   "cell_type": "code",
   "execution_count": null,
   "metadata": {
    "pycharm": {
     "is_executing": false
    }
   },
   "outputs": [],
   "source": [
    "e_w_sites.shape"
   ]
  },
  {
   "cell_type": "code",
   "execution_count": null,
   "metadata": {
    "pycharm": {
     "is_executing": false
    }
   },
   "outputs": [],
   "source": [
    "# is `site_id` different for E and W?\n",
    "# . . . . . yes\n",
    "\n",
    "e_w_sites.head(25)"
   ]
  },
  {
   "cell_type": "code",
   "execution_count": null,
   "metadata": {
    "pycharm": {
     "is_executing": false
    }
   },
   "outputs": [],
   "source": [
    "# only need to find duplicates to calculate means where the sitename is the same for the beginning of the sitename string\n",
    "\n",
    "e_w_sites.iloc[5].sitename"
   ]
  },
  {
   "cell_type": "code",
   "execution_count": null,
   "metadata": {
    "pycharm": {
     "is_executing": false
    }
   },
   "outputs": [],
   "source": [
    "e_w_sites.iloc[5].sitename[:-2]\n"
   ]
  },
  {
   "cell_type": "code",
   "execution_count": null,
   "metadata": {
    "pycharm": {
     "is_executing": false
    }
   },
   "outputs": [],
   "source": [
    "# e_w_sites['new_plot_name'] = new_plot_names\n",
    "# TODO: Figure out how to get the REAL new plot name\n",
    "e_w_sites['new_plot_name'] = ['new_plot_name' for i in range(5219)]\n",
    "print(e_w_sites.shape)\n",
    "e_w_sites.head()"
   ]
  },
  {
   "cell_type": "code",
   "execution_count": null,
   "metadata": {
    "pycharm": {
     "is_executing": false
    }
   },
   "outputs": [],
   "source": [
    "new_duplicates = e_w_sites[e_w_sites.duplicated(['new_plot_name'], keep=False)]\n",
    "new_duplicates.shape"
   ]
  },
  {
   "cell_type": "code",
   "execution_count": null,
   "metadata": {
    "pycharm": {
     "is_executing": false
    }
   },
   "outputs": [],
   "source": [
    "new_duplicates.trait.unique()"
   ]
  },
  {
   "cell_type": "code",
   "execution_count": null,
   "metadata": {
    "pycharm": {
     "is_executing": false
    }
   },
   "outputs": [],
   "source": [
    "canopy_height_only = new_duplicates.loc[new_duplicates.trait == 'canopy_height']\n",
    "canopy_height_only.shape"
   ]
  },
  {
   "cell_type": "code",
   "execution_count": null,
   "metadata": {
    "pycharm": {
     "is_executing": false
    }
   },
   "outputs": [],
   "source": [
    "canopy_height_only.new_plot_name.nunique()"
   ]
  },
  {
   "cell_type": "code",
   "execution_count": null,
   "metadata": {
    "pycharm": {
     "is_executing": false
    }
   },
   "outputs": [],
   "source": [
    "canopy_height_only.duplicated(['new_plot_name', 'date'], keep=False).value_counts()"
   ]
  },
  {
   "cell_type": "code",
   "execution_count": null,
   "metadata": {
    "pycharm": {
     "is_executing": false
    }
   },
   "outputs": [],
   "source": [
    "for i in canopy_height_only.index:\n",
    "    print(i)\n",
    "    break"
   ]
  },
  {
   "cell_type": "code",
   "execution_count": null,
   "metadata": {
    "pycharm": {
     "is_executing": false
    }
   },
   "outputs": [],
   "source": [
    "range(len(canopy_height_only))"
   ]
  },
  {
   "cell_type": "code",
   "execution_count": null,
   "metadata": {
    "pycharm": {
     "is_executing": false
    }
   },
   "outputs": [],
   "source": [
    "canopy_height_only.iloc[0]"
   ]
  },
  {
   "cell_type": "code",
   "execution_count": null,
   "metadata": {
    "pycharm": {
     "is_executing": false
    }
   },
   "outputs": [],
   "source": [
    "for i in range(len(canopy_height_only)):\n",
    "    print(canopy_height_only.iloc[i])\n",
    "    break"
   ]
  },
  {
   "cell_type": "code",
   "execution_count": null,
   "metadata": {
    "pycharm": {
     "is_executing": false
    }
   },
   "outputs": [],
   "source": [
    "canopy_height_only.iloc[0]['mean']"
   ]
  },
  {
   "cell_type": "code",
   "execution_count": null,
   "metadata": {
    "pycharm": {
     "is_executing": false
    }
   },
   "outputs": [],
   "source": [
    "canopy_height_only.to_csv('canopy_height_only_season_4.csv')"
   ]
  },
  {
   "cell_type": "code",
   "execution_count": null,
   "metadata": {
    "pycharm": {
     "is_executing": false
    }
   },
   "outputs": [],
   "source": [
    "selected_traits.to_csv('more_traits_after_feedback.csv')"
   ]
  },
  {
   "cell_type": "code",
   "execution_count": null,
   "metadata": {
    "pycharm": {
     "is_executing": false
    }
   },
   "outputs": [],
   "source": [
    "canopy_only_df = pd.read_csv('canopy_height_only_season_4.csv')\n",
    "canopy_only_df.head()"
   ]
  },
  {
   "cell_type": "code",
   "execution_count": null,
   "metadata": {
    "pycharm": {
     "is_executing": false
    }
   },
   "outputs": [],
   "source": [
    "canopy_only_df['mean'].values"
   ]
  },
  {
   "cell_type": "code",
   "execution_count": null,
   "metadata": {
    "pycharm": {
     "is_executing": false
    }
   },
   "outputs": [],
   "source": [
    "print(canopy_only_df.date.unique())\n",
    "print(canopy_only_df.raw_date.unique())"
   ]
  },
  {
   "cell_type": "code",
   "execution_count": null,
   "metadata": {
    "pycharm": {
     "is_executing": false
    }
   },
   "outputs": [],
   "source": [
    "duplicate_dates_sitenames = canopy_only_df"
   ]
  },
  {
   "cell_type": "code",
   "execution_count": null,
   "metadata": {
    "pycharm": {
     "is_executing": false
    }
   },
   "outputs": [],
   "source": [
    "canopy_only_df.duplicated(subset=['new_plot_name', 'date'], keep=False).value_counts()"
   ]
  },
  {
   "cell_type": "markdown",
   "metadata": {},
   "source": [
    "#### Canopy Height Corrections / Additions\n",
    "* Correctly calculate `max_canopy_height`\n",
    "* Add `days_to` or `day_of`?"
   ]
  },
  {
   "cell_type": "code",
   "execution_count": null,
   "metadata": {
    "pycharm": {
     "is_executing": false
    }
   },
   "outputs": [],
   "source": []
  }
 ],
 "metadata": {
  "kernelspec": {
   "display_name": "Python 3",
   "language": "python",
   "name": "python3"
  },
  "language_info": {
   "codemirror_mode": {
    "name": "ipython",
    "version": 3
   },
   "file_extension": ".py",
   "mimetype": "text/x-python",
   "name": "python",
   "nbconvert_exporter": "python",
   "pygments_lexer": "ipython3",
   "version": "3.7.5"
  },
  "pycharm": {
   "stem_cell": {
    "cell_type": "raw",
    "metadata": {
     "collapsed": false
    },
    "source": []
   }
  }
 },
 "nbformat": 4,
 "nbformat_minor": 4
}
