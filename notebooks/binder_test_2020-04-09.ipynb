{
 "cells": [
  {
   "cell_type": "markdown",
   "metadata": {},
   "source": [
    "#### First Binder notebook test with existing input file in folder"
   ]
  },
  {
   "cell_type": "code",
   "execution_count": 1,
   "metadata": {},
   "outputs": [],
   "source": [
    "import datetime\n",
    "import numpy as np\n",
    "import pandas as pd"
   ]
  },
  {
   "cell_type": "markdown",
   "metadata": {},
   "source": [
    "### Growing Degree Days (GDD) to Flowering\n",
    "- Weather data taken from [KSU Weather Station](http://mesonet.k-state.edu/weather/historical/) in Manhattan\n",
    "- planting date: 2016-06-17\n",
    "- harvest date: 2016-10-21"
   ]
  },
  {
   "cell_type": "code",
   "execution_count": 2,
   "metadata": {},
   "outputs": [
    {
     "name": "stdout",
     "output_type": "stream",
     "text": [
      "(155, 15)\n"
     ]
    },
    {
     "data": {
      "text/html": [
       "<div>\n",
       "<style scoped>\n",
       "    .dataframe tbody tr th:only-of-type {\n",
       "        vertical-align: middle;\n",
       "    }\n",
       "\n",
       "    .dataframe tbody tr th {\n",
       "        vertical-align: top;\n",
       "    }\n",
       "\n",
       "    .dataframe thead th {\n",
       "        text-align: right;\n",
       "    }\n",
       "</style>\n",
       "<table border=\"1\" class=\"dataframe\">\n",
       "  <thead>\n",
       "    <tr style=\"text-align: right;\">\n",
       "      <th></th>\n",
       "      <th>Timestamp</th>\n",
       "      <th>Station</th>\n",
       "      <th>AirTemperature</th>\n",
       "      <th>AirTemperature.1</th>\n",
       "      <th>RelativeHumidity</th>\n",
       "      <th>Precipitation</th>\n",
       "      <th>WindSpeed2m</th>\n",
       "      <th>WindSpeed2m.1</th>\n",
       "      <th>SoilTemperature5cm</th>\n",
       "      <th>SoilTemperature5cm.1</th>\n",
       "      <th>SoilTemperature10cm</th>\n",
       "      <th>SoilTemperature10cm.1</th>\n",
       "      <th>SolarRadiation</th>\n",
       "      <th>ETo</th>\n",
       "      <th>ETo.1</th>\n",
       "    </tr>\n",
       "  </thead>\n",
       "  <tbody>\n",
       "    <tr>\n",
       "      <th>0</th>\n",
       "      <td>NaN</td>\n",
       "      <td>NaN</td>\n",
       "      <td>max</td>\n",
       "      <td>min</td>\n",
       "      <td>avg</td>\n",
       "      <td>total</td>\n",
       "      <td>avg</td>\n",
       "      <td>max</td>\n",
       "      <td>max</td>\n",
       "      <td>min</td>\n",
       "      <td>max</td>\n",
       "      <td>min</td>\n",
       "      <td>total</td>\n",
       "      <td>grass</td>\n",
       "      <td>alfalfa</td>\n",
       "    </tr>\n",
       "    <tr>\n",
       "      <th>1</th>\n",
       "      <td>NaN</td>\n",
       "      <td>NaN</td>\n",
       "      <td>°F</td>\n",
       "      <td>°F</td>\n",
       "      <td>%</td>\n",
       "      <td>inches</td>\n",
       "      <td>mph</td>\n",
       "      <td>mph</td>\n",
       "      <td>°F</td>\n",
       "      <td>°F</td>\n",
       "      <td>°F</td>\n",
       "      <td>°F</td>\n",
       "      <td>ly</td>\n",
       "      <td>inches</td>\n",
       "      <td>inches</td>\n",
       "    </tr>\n",
       "    <tr>\n",
       "      <th>2</th>\n",
       "      <td>2016-06-01</td>\n",
       "      <td>Manhattan</td>\n",
       "      <td>81.7</td>\n",
       "      <td>57.9</td>\n",
       "      <td>65.9</td>\n",
       "      <td>0</td>\n",
       "      <td>3.1</td>\n",
       "      <td>13.8</td>\n",
       "      <td>82.1</td>\n",
       "      <td>66.7</td>\n",
       "      <td>78.4</td>\n",
       "      <td>68.1</td>\n",
       "      <td>660.1</td>\n",
       "      <td>0.21</td>\n",
       "      <td>0.25</td>\n",
       "    </tr>\n",
       "    <tr>\n",
       "      <th>3</th>\n",
       "      <td>2016-06-02</td>\n",
       "      <td>Manhattan</td>\n",
       "      <td>84.8</td>\n",
       "      <td>56.1</td>\n",
       "      <td>59.6</td>\n",
       "      <td>0</td>\n",
       "      <td>2.8</td>\n",
       "      <td>14</td>\n",
       "      <td>85.1</td>\n",
       "      <td>66.8</td>\n",
       "      <td>80.7</td>\n",
       "      <td>68.4</td>\n",
       "      <td>673.7</td>\n",
       "      <td>0.22</td>\n",
       "      <td>0.26</td>\n",
       "    </tr>\n",
       "    <tr>\n",
       "      <th>4</th>\n",
       "      <td>2016-06-03</td>\n",
       "      <td>Manhattan</td>\n",
       "      <td>85.8</td>\n",
       "      <td>55.4</td>\n",
       "      <td>63.2</td>\n",
       "      <td>0.15</td>\n",
       "      <td>3.9</td>\n",
       "      <td>22.9</td>\n",
       "      <td>85.8</td>\n",
       "      <td>67.9</td>\n",
       "      <td>81.1</td>\n",
       "      <td>69.5</td>\n",
       "      <td>667.8</td>\n",
       "      <td>0.23</td>\n",
       "      <td>0.28</td>\n",
       "    </tr>\n",
       "  </tbody>\n",
       "</table>\n",
       "</div>"
      ],
      "text/plain": [
       "    Timestamp    Station AirTemperature AirTemperature.1 RelativeHumidity  \\\n",
       "0         NaN        NaN            max              min              avg   \n",
       "1         NaN        NaN             °F               °F                %   \n",
       "2  2016-06-01  Manhattan           81.7             57.9             65.9   \n",
       "3  2016-06-02  Manhattan           84.8             56.1             59.6   \n",
       "4  2016-06-03  Manhattan           85.8             55.4             63.2   \n",
       "\n",
       "  Precipitation WindSpeed2m WindSpeed2m.1 SoilTemperature5cm  \\\n",
       "0         total         avg           max                max   \n",
       "1        inches         mph           mph                 °F   \n",
       "2             0         3.1          13.8               82.1   \n",
       "3             0         2.8            14               85.1   \n",
       "4          0.15         3.9          22.9               85.8   \n",
       "\n",
       "  SoilTemperature5cm.1 SoilTemperature10cm SoilTemperature10cm.1  \\\n",
       "0                  min                 max                   min   \n",
       "1                   °F                  °F                    °F   \n",
       "2                 66.7                78.4                  68.1   \n",
       "3                 66.8                80.7                  68.4   \n",
       "4                 67.9                81.1                  69.5   \n",
       "\n",
       "  SolarRadiation     ETo    ETo.1  \n",
       "0          total   grass  alfalfa  \n",
       "1             ly  inches   inches  \n",
       "2          660.1    0.21     0.25  \n",
       "3          673.7    0.22     0.26  \n",
       "4          667.8    0.23     0.28  "
      ]
     },
     "execution_count": 2,
     "metadata": {},
     "output_type": "execute_result"
    }
   ],
   "source": [
    "manhattan_weather_0 = pd.read_csv('manhattan_weather_2016_daily.csv')\n",
    "print(manhattan_weather_0.shape)\n",
    "# manhattan_weather_0.head(5)"
   ]
  },
  {
   "cell_type": "markdown",
   "metadata": {},
   "source": [
    "#### Change column names and drop first two rows\n",
    "- Add datetime column"
   ]
  },
  {
   "cell_type": "code",
   "execution_count": 3,
   "metadata": {},
   "outputs": [
    {
     "name": "stdout",
     "output_type": "stream",
     "text": [
      "(155, 16)\n"
     ]
    }
   ],
   "source": [
    "manhattan_weather_1 = manhattan_weather_0.copy()\n",
    "\n",
    "datetimes = pd.to_datetime(manhattan_weather_1['Timestamp'])\n",
    "manhattan_weather_1['date'] = datetimes\n",
    "\n",
    "print(manhattan_weather_1.shape)\n",
    "# manhattan_weather_1.tail()"
   ]
  },
  {
   "cell_type": "code",
   "execution_count": 4,
   "metadata": {},
   "outputs": [],
   "source": [
    "# manhattan_weather_1.columns"
   ]
  },
  {
   "cell_type": "code",
   "execution_count": 5,
   "metadata": {},
   "outputs": [
    {
     "name": "stdout",
     "output_type": "stream",
     "text": [
      "(153, 16)\n"
     ]
    }
   ],
   "source": [
    "# Drop first 2 rows\n",
    "\n",
    "manhattan_weather_2 = manhattan_weather_1.iloc[2:]\n",
    "print(manhattan_weather_2.shape)\n",
    "# manhattan_weather_2.head()"
   ]
  },
  {
   "cell_type": "code",
   "execution_count": 6,
   "metadata": {},
   "outputs": [
    {
     "name": "stdout",
     "output_type": "stream",
     "text": [
      "(153, 15)\n"
     ]
    },
    {
     "data": {
      "text/html": [
       "<div>\n",
       "<style scoped>\n",
       "    .dataframe tbody tr th:only-of-type {\n",
       "        vertical-align: middle;\n",
       "    }\n",
       "\n",
       "    .dataframe tbody tr th {\n",
       "        vertical-align: top;\n",
       "    }\n",
       "\n",
       "    .dataframe thead th {\n",
       "        text-align: right;\n",
       "    }\n",
       "</style>\n",
       "<table border=\"1\" class=\"dataframe\">\n",
       "  <thead>\n",
       "    <tr style=\"text-align: right;\">\n",
       "      <th></th>\n",
       "      <th>Station</th>\n",
       "      <th>AirTemperature</th>\n",
       "      <th>AirTemperature.1</th>\n",
       "      <th>RelativeHumidity</th>\n",
       "      <th>Precipitation</th>\n",
       "      <th>WindSpeed2m</th>\n",
       "      <th>WindSpeed2m.1</th>\n",
       "      <th>SoilTemperature5cm</th>\n",
       "      <th>SoilTemperature5cm.1</th>\n",
       "      <th>SoilTemperature10cm</th>\n",
       "      <th>SoilTemperature10cm.1</th>\n",
       "      <th>SolarRadiation</th>\n",
       "      <th>ETo</th>\n",
       "      <th>ETo.1</th>\n",
       "      <th>date</th>\n",
       "    </tr>\n",
       "  </thead>\n",
       "  <tbody>\n",
       "    <tr>\n",
       "      <th>2</th>\n",
       "      <td>Manhattan</td>\n",
       "      <td>81.7</td>\n",
       "      <td>57.9</td>\n",
       "      <td>65.9</td>\n",
       "      <td>0</td>\n",
       "      <td>3.1</td>\n",
       "      <td>13.8</td>\n",
       "      <td>82.1</td>\n",
       "      <td>66.7</td>\n",
       "      <td>78.4</td>\n",
       "      <td>68.1</td>\n",
       "      <td>660.1</td>\n",
       "      <td>0.21</td>\n",
       "      <td>0.25</td>\n",
       "      <td>2016-06-01</td>\n",
       "    </tr>\n",
       "    <tr>\n",
       "      <th>3</th>\n",
       "      <td>Manhattan</td>\n",
       "      <td>84.8</td>\n",
       "      <td>56.1</td>\n",
       "      <td>59.6</td>\n",
       "      <td>0</td>\n",
       "      <td>2.8</td>\n",
       "      <td>14</td>\n",
       "      <td>85.1</td>\n",
       "      <td>66.8</td>\n",
       "      <td>80.7</td>\n",
       "      <td>68.4</td>\n",
       "      <td>673.7</td>\n",
       "      <td>0.22</td>\n",
       "      <td>0.26</td>\n",
       "      <td>2016-06-02</td>\n",
       "    </tr>\n",
       "    <tr>\n",
       "      <th>4</th>\n",
       "      <td>Manhattan</td>\n",
       "      <td>85.8</td>\n",
       "      <td>55.4</td>\n",
       "      <td>63.2</td>\n",
       "      <td>0.15</td>\n",
       "      <td>3.9</td>\n",
       "      <td>22.9</td>\n",
       "      <td>85.8</td>\n",
       "      <td>67.9</td>\n",
       "      <td>81.1</td>\n",
       "      <td>69.5</td>\n",
       "      <td>667.8</td>\n",
       "      <td>0.23</td>\n",
       "      <td>0.28</td>\n",
       "      <td>2016-06-03</td>\n",
       "    </tr>\n",
       "    <tr>\n",
       "      <th>5</th>\n",
       "      <td>Manhattan</td>\n",
       "      <td>83.6</td>\n",
       "      <td>59.6</td>\n",
       "      <td>60.1</td>\n",
       "      <td>0.01</td>\n",
       "      <td>7.2</td>\n",
       "      <td>23.6</td>\n",
       "      <td>79.7</td>\n",
       "      <td>69.4</td>\n",
       "      <td>77.3</td>\n",
       "      <td>70.8</td>\n",
       "      <td>693.1</td>\n",
       "      <td>0.27</td>\n",
       "      <td>0.36</td>\n",
       "      <td>2016-06-04</td>\n",
       "    </tr>\n",
       "    <tr>\n",
       "      <th>6</th>\n",
       "      <td>Manhattan</td>\n",
       "      <td>85.3</td>\n",
       "      <td>57.4</td>\n",
       "      <td>52.9</td>\n",
       "      <td>0</td>\n",
       "      <td>4.7</td>\n",
       "      <td>16.9</td>\n",
       "      <td>84</td>\n",
       "      <td>66.7</td>\n",
       "      <td>79.7</td>\n",
       "      <td>68.3</td>\n",
       "      <td>707.2</td>\n",
       "      <td>0.26</td>\n",
       "      <td>0.33</td>\n",
       "      <td>2016-06-05</td>\n",
       "    </tr>\n",
       "  </tbody>\n",
       "</table>\n",
       "</div>"
      ],
      "text/plain": [
       "     Station AirTemperature AirTemperature.1 RelativeHumidity Precipitation  \\\n",
       "2  Manhattan           81.7             57.9             65.9             0   \n",
       "3  Manhattan           84.8             56.1             59.6             0   \n",
       "4  Manhattan           85.8             55.4             63.2          0.15   \n",
       "5  Manhattan           83.6             59.6             60.1          0.01   \n",
       "6  Manhattan           85.3             57.4             52.9             0   \n",
       "\n",
       "  WindSpeed2m WindSpeed2m.1 SoilTemperature5cm SoilTemperature5cm.1  \\\n",
       "2         3.1          13.8               82.1                 66.7   \n",
       "3         2.8            14               85.1                 66.8   \n",
       "4         3.9          22.9               85.8                 67.9   \n",
       "5         7.2          23.6               79.7                 69.4   \n",
       "6         4.7          16.9                 84                 66.7   \n",
       "\n",
       "  SoilTemperature10cm SoilTemperature10cm.1 SolarRadiation   ETo ETo.1  \\\n",
       "2                78.4                  68.1          660.1  0.21  0.25   \n",
       "3                80.7                  68.4          673.7  0.22  0.26   \n",
       "4                81.1                  69.5          667.8  0.23  0.28   \n",
       "5                77.3                  70.8          693.1  0.27  0.36   \n",
       "6                79.7                  68.3          707.2  0.26  0.33   \n",
       "\n",
       "        date  \n",
       "2 2016-06-01  \n",
       "3 2016-06-02  \n",
       "4 2016-06-03  \n",
       "5 2016-06-04  \n",
       "6 2016-06-05  "
      ]
     },
     "execution_count": 6,
     "metadata": {},
     "output_type": "execute_result"
    }
   ],
   "source": [
    "# Drop `timestamp` column\n",
    "\n",
    "manhattan_weather_3 = manhattan_weather_2.drop(labels=['Timestamp'], axis=1)\n",
    "print(manhattan_weather_3.shape)\n",
    "# manhattan_weather_3.head()"
   ]
  },
  {
   "cell_type": "code",
   "execution_count": 7,
   "metadata": {},
   "outputs": [
    {
     "name": "stdout",
     "output_type": "stream",
     "text": [
      "(153, 15)\n"
     ]
    }
   ],
   "source": [
    "manhattan_weather_4 = manhattan_weather_3.rename({'Station': 'station', 'AirTemperature': 'air_temp_max_F', \n",
    "                                                  'AirTemperature.1': 'air_temp_min_F', 'RelativeHumidity': 'avg_rh',\n",
    "                                                  'Precipitation': 'precip_total', 'WindSpeed2m': 'avg_wind_speed', \n",
    "                                                  'WindSpeed2m.1': 'max_wind_speed', 'SoilTemperature5cm': 'soil_temp_5cm_max',\n",
    "                                                  'SoilTemperature5cm.1': 'soil_temp_5cm_min', \n",
    "                                                  'SoilTemperature10cm': 'soil_temp_10cm_max', \n",
    "                                                  'SoilTemperature10cm.1': 'soil_temp_10cm_min', 'SolarRadiation': 'solar_rad',\n",
    "                                                  'ETo': 'eto_grass', 'ETo.1': 'eto_alfalfa'}, axis=1)\n",
    "print(manhattan_weather_4.shape)\n",
    "# manhattan_weather_4.head()"
   ]
  },
  {
   "cell_type": "markdown",
   "metadata": {},
   "source": [
    "#### Add Day-of-year (DOY) to Weather Dataframe\n",
    "- slice dataframe to only include season dates from planting to harvest\n",
    "- change `date` to index, but keep `date` column\n",
    "- use Pandas `PeriodIndex.dayofyear()`"
   ]
  },
  {
   "cell_type": "code",
   "execution_count": 8,
   "metadata": {},
   "outputs": [],
   "source": [
    "manhattan_weather_5 = manhattan_weather_4.loc[(manhattan_weather_4['date'] >= '2016-06-17') & (manhattan_weather_4['date'] <= '2016-10-21')]"
   ]
  },
  {
   "cell_type": "code",
   "execution_count": 9,
   "metadata": {},
   "outputs": [
    {
     "name": "stdout",
     "output_type": "stream",
     "text": [
      "(127, 15)\n"
     ]
    },
    {
     "data": {
      "text/html": [
       "<div>\n",
       "<style scoped>\n",
       "    .dataframe tbody tr th:only-of-type {\n",
       "        vertical-align: middle;\n",
       "    }\n",
       "\n",
       "    .dataframe tbody tr th {\n",
       "        vertical-align: top;\n",
       "    }\n",
       "\n",
       "    .dataframe thead th {\n",
       "        text-align: right;\n",
       "    }\n",
       "</style>\n",
       "<table border=\"1\" class=\"dataframe\">\n",
       "  <thead>\n",
       "    <tr style=\"text-align: right;\">\n",
       "      <th></th>\n",
       "      <th>station</th>\n",
       "      <th>air_temp_max_F</th>\n",
       "      <th>air_temp_min_F</th>\n",
       "      <th>avg_rh</th>\n",
       "      <th>precip_total</th>\n",
       "      <th>avg_wind_speed</th>\n",
       "      <th>max_wind_speed</th>\n",
       "      <th>soil_temp_5cm_max</th>\n",
       "      <th>soil_temp_5cm_min</th>\n",
       "      <th>soil_temp_10cm_max</th>\n",
       "      <th>soil_temp_10cm_min</th>\n",
       "      <th>solar_rad</th>\n",
       "      <th>eto_grass</th>\n",
       "      <th>eto_alfalfa</th>\n",
       "      <th>date</th>\n",
       "    </tr>\n",
       "    <tr>\n",
       "      <th>date</th>\n",
       "      <th></th>\n",
       "      <th></th>\n",
       "      <th></th>\n",
       "      <th></th>\n",
       "      <th></th>\n",
       "      <th></th>\n",
       "      <th></th>\n",
       "      <th></th>\n",
       "      <th></th>\n",
       "      <th></th>\n",
       "      <th></th>\n",
       "      <th></th>\n",
       "      <th></th>\n",
       "      <th></th>\n",
       "      <th></th>\n",
       "    </tr>\n",
       "  </thead>\n",
       "  <tbody>\n",
       "    <tr>\n",
       "      <th>2016-10-19</th>\n",
       "      <td>Manhattan</td>\n",
       "      <td>74.2</td>\n",
       "      <td>47.7</td>\n",
       "      <td>64.8</td>\n",
       "      <td>0</td>\n",
       "      <td>4.1</td>\n",
       "      <td>15.6</td>\n",
       "      <td>65</td>\n",
       "      <td>58.8</td>\n",
       "      <td>64.6</td>\n",
       "      <td>60.5</td>\n",
       "      <td>333.9</td>\n",
       "      <td>0.11</td>\n",
       "      <td>0.15</td>\n",
       "      <td>2016-10-19</td>\n",
       "    </tr>\n",
       "    <tr>\n",
       "      <th>2016-10-20</th>\n",
       "      <td>Manhattan</td>\n",
       "      <td>62.3</td>\n",
       "      <td>43.4</td>\n",
       "      <td>75.3</td>\n",
       "      <td>0.21</td>\n",
       "      <td>5.6</td>\n",
       "      <td>20.5</td>\n",
       "      <td>61.5</td>\n",
       "      <td>57.5</td>\n",
       "      <td>62.4</td>\n",
       "      <td>59.3</td>\n",
       "      <td>290.2</td>\n",
       "      <td>0.09</td>\n",
       "      <td>0.13</td>\n",
       "      <td>2016-10-20</td>\n",
       "    </tr>\n",
       "    <tr>\n",
       "      <th>2016-10-21</th>\n",
       "      <td>Manhattan</td>\n",
       "      <td>67.6</td>\n",
       "      <td>35.6</td>\n",
       "      <td>65.1</td>\n",
       "      <td>0</td>\n",
       "      <td>4</td>\n",
       "      <td>17.5</td>\n",
       "      <td>60.2</td>\n",
       "      <td>54.3</td>\n",
       "      <td>60.3</td>\n",
       "      <td>56.5</td>\n",
       "      <td>354.2</td>\n",
       "      <td>0.1</td>\n",
       "      <td>0.14</td>\n",
       "      <td>2016-10-21</td>\n",
       "    </tr>\n",
       "  </tbody>\n",
       "</table>\n",
       "</div>"
      ],
      "text/plain": [
       "              station air_temp_max_F air_temp_min_F avg_rh precip_total  \\\n",
       "date                                                                      \n",
       "2016-10-19  Manhattan           74.2           47.7   64.8            0   \n",
       "2016-10-20  Manhattan           62.3           43.4   75.3         0.21   \n",
       "2016-10-21  Manhattan           67.6           35.6   65.1            0   \n",
       "\n",
       "           avg_wind_speed max_wind_speed soil_temp_5cm_max soil_temp_5cm_min  \\\n",
       "date                                                                           \n",
       "2016-10-19            4.1           15.6                65              58.8   \n",
       "2016-10-20            5.6           20.5              61.5              57.5   \n",
       "2016-10-21              4           17.5              60.2              54.3   \n",
       "\n",
       "           soil_temp_10cm_max soil_temp_10cm_min solar_rad eto_grass  \\\n",
       "date                                                                   \n",
       "2016-10-19               64.6               60.5     333.9      0.11   \n",
       "2016-10-20               62.4               59.3     290.2      0.09   \n",
       "2016-10-21               60.3               56.5     354.2       0.1   \n",
       "\n",
       "           eto_alfalfa       date  \n",
       "date                               \n",
       "2016-10-19        0.15 2016-10-19  \n",
       "2016-10-20        0.13 2016-10-20  \n",
       "2016-10-21        0.14 2016-10-21  "
      ]
     },
     "execution_count": 9,
     "metadata": {},
     "output_type": "execute_result"
    }
   ],
   "source": [
    "manhattan_weather_6 = manhattan_weather_5.set_index(keys=['date'], drop=False)\n",
    "print(manhattan_weather_6.shape)\n",
    "# manhattan_weather_6.tail(3)"
   ]
  },
  {
   "cell_type": "code",
   "execution_count": 10,
   "metadata": {},
   "outputs": [],
   "source": [
    "manhattan_weather_7 = manhattan_weather_6.copy()\n",
    "\n",
    "manhattan_weather_7['day_of_year'] = manhattan_weather_7.index.dayofyear"
   ]
  },
  {
   "cell_type": "code",
   "execution_count": 11,
   "metadata": {},
   "outputs": [],
   "source": [
    "# manhattan_weather_7.tail(3)"
   ]
  },
  {
   "cell_type": "markdown",
   "metadata": {},
   "source": [
    "#### Add Growing Degree Days (GDD)\n",
    "- convert all numeric columns from string `to_numeric`\n",
    "- add air temps in C\n",
    "- equation = (F - 32) x 0.5556 = C\n",
    "- daily gdd equation = ((max_air_temp + min_air_temp) / 2) - 10"
   ]
  },
  {
   "cell_type": "code",
   "execution_count": 12,
   "metadata": {},
   "outputs": [],
   "source": [
    "cols_to_convert = ['air_temp_max_F', 'air_temp_min_F', 'avg_rh', 'precip_total', 'avg_wind_speed', 'max_wind_speed', \n",
    "                   'soil_temp_5cm_max', 'soil_temp_5cm_min', 'soil_temp_10cm_max', 'soil_temp_10cm_min', 'solar_rad', \n",
    "                   'eto_grass', 'eto_alfalfa']"
   ]
  },
  {
   "cell_type": "code",
   "execution_count": 13,
   "metadata": {},
   "outputs": [],
   "source": [
    "manhattan_weather_7[cols_to_convert] = manhattan_weather_7[cols_to_convert].apply(pd.to_numeric)"
   ]
  },
  {
   "cell_type": "code",
   "execution_count": 14,
   "metadata": {},
   "outputs": [
    {
     "data": {
      "text/plain": [
       "station                       object\n",
       "air_temp_max_F               float64\n",
       "air_temp_min_F               float64\n",
       "avg_rh                       float64\n",
       "precip_total                 float64\n",
       "avg_wind_speed               float64\n",
       "max_wind_speed               float64\n",
       "soil_temp_5cm_max            float64\n",
       "soil_temp_5cm_min            float64\n",
       "soil_temp_10cm_max           float64\n",
       "soil_temp_10cm_min           float64\n",
       "solar_rad                    float64\n",
       "eto_grass                    float64\n",
       "eto_alfalfa                  float64\n",
       "date                  datetime64[ns]\n",
       "day_of_year                    int64\n",
       "dtype: object"
      ]
     },
     "execution_count": 14,
     "metadata": {},
     "output_type": "execute_result"
    }
   ],
   "source": [
    "# manhattan_weather_7.dtypes"
   ]
  },
  {
   "cell_type": "code",
   "execution_count": 15,
   "metadata": {},
   "outputs": [
    {
     "name": "stdout",
     "output_type": "stream",
     "text": [
      "(127, 17)\n"
     ]
    }
   ],
   "source": [
    "manhattan_weather_8 = manhattan_weather_7.copy()\n",
    "\n",
    "manhattan_weather_8['air_temp_max_C'] = round(((manhattan_weather_8['air_temp_max_F'] - 32) * 0.556), 1)\n",
    "print(manhattan_weather_8.shape)\n",
    "# manhattan_weather_8.tail(3)"
   ]
  },
  {
   "cell_type": "code",
   "execution_count": 16,
   "metadata": {},
   "outputs": [
    {
     "name": "stdout",
     "output_type": "stream",
     "text": [
      "(127, 18)\n"
     ]
    }
   ],
   "source": [
    "manhattan_weather_9 = manhattan_weather_8.copy()\n",
    "\n",
    "manhattan_weather_9['air_temp_min_C'] = round(((manhattan_weather_9['air_temp_min_F'] - 32) * 0.556), 1)\n",
    "print(manhattan_weather_9.shape)\n",
    "# manhattan_weather_9.head(3)"
   ]
  },
  {
   "cell_type": "code",
   "execution_count": 17,
   "metadata": {},
   "outputs": [
    {
     "name": "stdout",
     "output_type": "stream",
     "text": [
      "(127, 19)\n"
     ]
    }
   ],
   "source": [
    "manhattan_weather_10 = manhattan_weather_9.copy()\n",
    "\n",
    "manhattan_weather_10['daily_gdd'] = (((manhattan_weather_10['air_temp_max_C'] + manhattan_weather_10['air_temp_min_C'])) / 2) - 10\n",
    "\n",
    "print(manhattan_weather_10.shape)\n",
    "# manhattan_weather_10.sample(n=3)"
   ]
  },
  {
   "cell_type": "code",
   "execution_count": 18,
   "metadata": {},
   "outputs": [
    {
     "data": {
      "text/html": [
       "<div>\n",
       "<style scoped>\n",
       "    .dataframe tbody tr th:only-of-type {\n",
       "        vertical-align: middle;\n",
       "    }\n",
       "\n",
       "    .dataframe tbody tr th {\n",
       "        vertical-align: top;\n",
       "    }\n",
       "\n",
       "    .dataframe thead th {\n",
       "        text-align: right;\n",
       "    }\n",
       "</style>\n",
       "<table border=\"1\" class=\"dataframe\">\n",
       "  <thead>\n",
       "    <tr style=\"text-align: right;\">\n",
       "      <th></th>\n",
       "      <th>station</th>\n",
       "      <th>air_temp_max_F</th>\n",
       "      <th>air_temp_min_F</th>\n",
       "      <th>avg_rh</th>\n",
       "      <th>precip_total</th>\n",
       "      <th>avg_wind_speed</th>\n",
       "      <th>max_wind_speed</th>\n",
       "      <th>soil_temp_5cm_max</th>\n",
       "      <th>soil_temp_5cm_min</th>\n",
       "      <th>soil_temp_10cm_max</th>\n",
       "      <th>soil_temp_10cm_min</th>\n",
       "      <th>solar_rad</th>\n",
       "      <th>eto_grass</th>\n",
       "      <th>eto_alfalfa</th>\n",
       "      <th>date</th>\n",
       "      <th>day_of_year</th>\n",
       "      <th>air_temp_max_C</th>\n",
       "      <th>air_temp_min_C</th>\n",
       "      <th>daily_gdd</th>\n",
       "    </tr>\n",
       "    <tr>\n",
       "      <th>date</th>\n",
       "      <th></th>\n",
       "      <th></th>\n",
       "      <th></th>\n",
       "      <th></th>\n",
       "      <th></th>\n",
       "      <th></th>\n",
       "      <th></th>\n",
       "      <th></th>\n",
       "      <th></th>\n",
       "      <th></th>\n",
       "      <th></th>\n",
       "      <th></th>\n",
       "      <th></th>\n",
       "      <th></th>\n",
       "      <th></th>\n",
       "      <th></th>\n",
       "      <th></th>\n",
       "      <th></th>\n",
       "      <th></th>\n",
       "    </tr>\n",
       "  </thead>\n",
       "  <tbody>\n",
       "    <tr>\n",
       "      <th>2016-10-12</th>\n",
       "      <td>Manhattan</td>\n",
       "      <td>58.2</td>\n",
       "      <td>40.3</td>\n",
       "      <td>70.9</td>\n",
       "      <td>0.0</td>\n",
       "      <td>7.7</td>\n",
       "      <td>19.6</td>\n",
       "      <td>63.0</td>\n",
       "      <td>57.2</td>\n",
       "      <td>63.9</td>\n",
       "      <td>59.2</td>\n",
       "      <td>332.7</td>\n",
       "      <td>0.09</td>\n",
       "      <td>0.14</td>\n",
       "      <td>2016-10-12</td>\n",
       "      <td>286</td>\n",
       "      <td>14.6</td>\n",
       "      <td>4.6</td>\n",
       "      <td>-0.40</td>\n",
       "    </tr>\n",
       "    <tr>\n",
       "      <th>2016-10-13</th>\n",
       "      <td>Manhattan</td>\n",
       "      <td>60.3</td>\n",
       "      <td>33.4</td>\n",
       "      <td>72.3</td>\n",
       "      <td>0.0</td>\n",
       "      <td>2.8</td>\n",
       "      <td>11.7</td>\n",
       "      <td>60.0</td>\n",
       "      <td>53.9</td>\n",
       "      <td>60.2</td>\n",
       "      <td>56.2</td>\n",
       "      <td>304.5</td>\n",
       "      <td>0.07</td>\n",
       "      <td>0.10</td>\n",
       "      <td>2016-10-13</td>\n",
       "      <td>287</td>\n",
       "      <td>15.7</td>\n",
       "      <td>0.8</td>\n",
       "      <td>-1.75</td>\n",
       "    </tr>\n",
       "  </tbody>\n",
       "</table>\n",
       "</div>"
      ],
      "text/plain": [
       "              station  air_temp_max_F  air_temp_min_F  avg_rh  precip_total  \\\n",
       "date                                                                          \n",
       "2016-10-12  Manhattan            58.2            40.3    70.9           0.0   \n",
       "2016-10-13  Manhattan            60.3            33.4    72.3           0.0   \n",
       "\n",
       "            avg_wind_speed  max_wind_speed  soil_temp_5cm_max  \\\n",
       "date                                                            \n",
       "2016-10-12             7.7            19.6               63.0   \n",
       "2016-10-13             2.8            11.7               60.0   \n",
       "\n",
       "            soil_temp_5cm_min  soil_temp_10cm_max  soil_temp_10cm_min  \\\n",
       "date                                                                    \n",
       "2016-10-12               57.2                63.9                59.2   \n",
       "2016-10-13               53.9                60.2                56.2   \n",
       "\n",
       "            solar_rad  eto_grass  eto_alfalfa       date  day_of_year  \\\n",
       "date                                                                    \n",
       "2016-10-12      332.7       0.09         0.14 2016-10-12          286   \n",
       "2016-10-13      304.5       0.07         0.10 2016-10-13          287   \n",
       "\n",
       "            air_temp_max_C  air_temp_min_C  daily_gdd  \n",
       "date                                                   \n",
       "2016-10-12            14.6             4.6      -0.40  \n",
       "2016-10-13            15.7             0.8      -1.75  "
      ]
     },
     "execution_count": 18,
     "metadata": {},
     "output_type": "execute_result"
    }
   ],
   "source": [
    "# Check for any negative daily GDD values (if any, need to be converted to 0)\n",
    "\n",
    "# manhattan_weather_10.loc[manhattan_weather_10.daily_gdd < 0]"
   ]
  },
  {
   "cell_type": "code",
   "execution_count": 19,
   "metadata": {},
   "outputs": [],
   "source": [
    "# Assign negative daily gdd values to 0\n",
    "\n",
    "manhattan_weather_11 = manhattan_weather_10.copy()"
   ]
  },
  {
   "cell_type": "code",
   "execution_count": 20,
   "metadata": {},
   "outputs": [
    {
     "name": "stderr",
     "output_type": "stream",
     "text": [
      "<ipython-input-20-9a01b95043a7>:3: SettingWithCopyWarning: \n",
      "A value is trying to be set on a copy of a slice from a DataFrame\n",
      "\n",
      "See the caveats in the documentation: https://pandas.pydata.org/pandas-docs/stable/user_guide/indexing.html#returning-a-view-versus-a-copy\n",
      "  manhattan_weather_11['daily_gdd']['2016-10-12'] = 0\n",
      "<ipython-input-20-9a01b95043a7>:4: SettingWithCopyWarning: \n",
      "A value is trying to be set on a copy of a slice from a DataFrame\n",
      "\n",
      "See the caveats in the documentation: https://pandas.pydata.org/pandas-docs/stable/user_guide/indexing.html#returning-a-view-versus-a-copy\n",
      "  manhattan_weather_11['daily_gdd']['2016-10-13'] = 0\n"
     ]
    }
   ],
   "source": [
    "# ignore SeetingWithCopyWarning\n",
    "\n",
    "manhattan_weather_11['daily_gdd']['2016-10-12'] = 0\n",
    "manhattan_weather_11['daily_gdd']['2016-10-13'] = 0"
   ]
  },
  {
   "cell_type": "code",
   "execution_count": 21,
   "metadata": {},
   "outputs": [
    {
     "data": {
      "text/html": [
       "<div>\n",
       "<style scoped>\n",
       "    .dataframe tbody tr th:only-of-type {\n",
       "        vertical-align: middle;\n",
       "    }\n",
       "\n",
       "    .dataframe tbody tr th {\n",
       "        vertical-align: top;\n",
       "    }\n",
       "\n",
       "    .dataframe thead th {\n",
       "        text-align: right;\n",
       "    }\n",
       "</style>\n",
       "<table border=\"1\" class=\"dataframe\">\n",
       "  <thead>\n",
       "    <tr style=\"text-align: right;\">\n",
       "      <th></th>\n",
       "      <th>station</th>\n",
       "      <th>air_temp_max_F</th>\n",
       "      <th>air_temp_min_F</th>\n",
       "      <th>avg_rh</th>\n",
       "      <th>precip_total</th>\n",
       "      <th>avg_wind_speed</th>\n",
       "      <th>max_wind_speed</th>\n",
       "      <th>soil_temp_5cm_max</th>\n",
       "      <th>soil_temp_5cm_min</th>\n",
       "      <th>soil_temp_10cm_max</th>\n",
       "      <th>soil_temp_10cm_min</th>\n",
       "      <th>solar_rad</th>\n",
       "      <th>eto_grass</th>\n",
       "      <th>eto_alfalfa</th>\n",
       "      <th>date</th>\n",
       "      <th>day_of_year</th>\n",
       "      <th>air_temp_max_C</th>\n",
       "      <th>air_temp_min_C</th>\n",
       "      <th>daily_gdd</th>\n",
       "    </tr>\n",
       "    <tr>\n",
       "      <th>date</th>\n",
       "      <th></th>\n",
       "      <th></th>\n",
       "      <th></th>\n",
       "      <th></th>\n",
       "      <th></th>\n",
       "      <th></th>\n",
       "      <th></th>\n",
       "      <th></th>\n",
       "      <th></th>\n",
       "      <th></th>\n",
       "      <th></th>\n",
       "      <th></th>\n",
       "      <th></th>\n",
       "      <th></th>\n",
       "      <th></th>\n",
       "      <th></th>\n",
       "      <th></th>\n",
       "      <th></th>\n",
       "      <th></th>\n",
       "    </tr>\n",
       "  </thead>\n",
       "  <tbody>\n",
       "    <tr>\n",
       "      <th>2016-10-12</th>\n",
       "      <td>Manhattan</td>\n",
       "      <td>58.2</td>\n",
       "      <td>40.3</td>\n",
       "      <td>70.9</td>\n",
       "      <td>0.0</td>\n",
       "      <td>7.7</td>\n",
       "      <td>19.6</td>\n",
       "      <td>63.0</td>\n",
       "      <td>57.2</td>\n",
       "      <td>63.9</td>\n",
       "      <td>59.2</td>\n",
       "      <td>332.7</td>\n",
       "      <td>0.09</td>\n",
       "      <td>0.14</td>\n",
       "      <td>2016-10-12</td>\n",
       "      <td>286</td>\n",
       "      <td>14.6</td>\n",
       "      <td>4.6</td>\n",
       "      <td>0.0</td>\n",
       "    </tr>\n",
       "    <tr>\n",
       "      <th>2016-10-13</th>\n",
       "      <td>Manhattan</td>\n",
       "      <td>60.3</td>\n",
       "      <td>33.4</td>\n",
       "      <td>72.3</td>\n",
       "      <td>0.0</td>\n",
       "      <td>2.8</td>\n",
       "      <td>11.7</td>\n",
       "      <td>60.0</td>\n",
       "      <td>53.9</td>\n",
       "      <td>60.2</td>\n",
       "      <td>56.2</td>\n",
       "      <td>304.5</td>\n",
       "      <td>0.07</td>\n",
       "      <td>0.10</td>\n",
       "      <td>2016-10-13</td>\n",
       "      <td>287</td>\n",
       "      <td>15.7</td>\n",
       "      <td>0.8</td>\n",
       "      <td>0.0</td>\n",
       "    </tr>\n",
       "  </tbody>\n",
       "</table>\n",
       "</div>"
      ],
      "text/plain": [
       "              station  air_temp_max_F  air_temp_min_F  avg_rh  precip_total  \\\n",
       "date                                                                          \n",
       "2016-10-12  Manhattan            58.2            40.3    70.9           0.0   \n",
       "2016-10-13  Manhattan            60.3            33.4    72.3           0.0   \n",
       "\n",
       "            avg_wind_speed  max_wind_speed  soil_temp_5cm_max  \\\n",
       "date                                                            \n",
       "2016-10-12             7.7            19.6               63.0   \n",
       "2016-10-13             2.8            11.7               60.0   \n",
       "\n",
       "            soil_temp_5cm_min  soil_temp_10cm_max  soil_temp_10cm_min  \\\n",
       "date                                                                    \n",
       "2016-10-12               57.2                63.9                59.2   \n",
       "2016-10-13               53.9                60.2                56.2   \n",
       "\n",
       "            solar_rad  eto_grass  eto_alfalfa       date  day_of_year  \\\n",
       "date                                                                    \n",
       "2016-10-12      332.7       0.09         0.14 2016-10-12          286   \n",
       "2016-10-13      304.5       0.07         0.10 2016-10-13          287   \n",
       "\n",
       "            air_temp_max_C  air_temp_min_C  daily_gdd  \n",
       "date                                                   \n",
       "2016-10-12            14.6             4.6        0.0  \n",
       "2016-10-13            15.7             0.8        0.0  "
      ]
     },
     "execution_count": 21,
     "metadata": {},
     "output_type": "execute_result"
    }
   ],
   "source": [
    "# Check to see that negative values were successfully converted to 0\n",
    "\n",
    "# manhattan_weather_11.loc[manhattan_weather_11.daily_gdd <= 0]"
   ]
  },
  {
   "cell_type": "code",
   "execution_count": 22,
   "metadata": {},
   "outputs": [
    {
     "data": {
      "text/html": [
       "<div>\n",
       "<style scoped>\n",
       "    .dataframe tbody tr th:only-of-type {\n",
       "        vertical-align: middle;\n",
       "    }\n",
       "\n",
       "    .dataframe tbody tr th {\n",
       "        vertical-align: top;\n",
       "    }\n",
       "\n",
       "    .dataframe thead th {\n",
       "        text-align: right;\n",
       "    }\n",
       "</style>\n",
       "<table border=\"1\" class=\"dataframe\">\n",
       "  <thead>\n",
       "    <tr style=\"text-align: right;\">\n",
       "      <th></th>\n",
       "      <th>station</th>\n",
       "      <th>air_temp_max_F</th>\n",
       "      <th>air_temp_min_F</th>\n",
       "      <th>avg_rh</th>\n",
       "      <th>precip_total</th>\n",
       "      <th>avg_wind_speed</th>\n",
       "      <th>max_wind_speed</th>\n",
       "      <th>soil_temp_5cm_max</th>\n",
       "      <th>soil_temp_5cm_min</th>\n",
       "      <th>soil_temp_10cm_max</th>\n",
       "      <th>soil_temp_10cm_min</th>\n",
       "      <th>solar_rad</th>\n",
       "      <th>eto_grass</th>\n",
       "      <th>eto_alfalfa</th>\n",
       "      <th>date</th>\n",
       "      <th>day_of_year</th>\n",
       "      <th>air_temp_max_C</th>\n",
       "      <th>air_temp_min_C</th>\n",
       "      <th>daily_gdd</th>\n",
       "    </tr>\n",
       "    <tr>\n",
       "      <th>date</th>\n",
       "      <th></th>\n",
       "      <th></th>\n",
       "      <th></th>\n",
       "      <th></th>\n",
       "      <th></th>\n",
       "      <th></th>\n",
       "      <th></th>\n",
       "      <th></th>\n",
       "      <th></th>\n",
       "      <th></th>\n",
       "      <th></th>\n",
       "      <th></th>\n",
       "      <th></th>\n",
       "      <th></th>\n",
       "      <th></th>\n",
       "      <th></th>\n",
       "      <th></th>\n",
       "      <th></th>\n",
       "      <th></th>\n",
       "    </tr>\n",
       "  </thead>\n",
       "  <tbody>\n",
       "  </tbody>\n",
       "</table>\n",
       "</div>"
      ],
      "text/plain": [
       "Empty DataFrame\n",
       "Columns: [station, air_temp_max_F, air_temp_min_F, avg_rh, precip_total, avg_wind_speed, max_wind_speed, soil_temp_5cm_max, soil_temp_5cm_min, soil_temp_10cm_max, soil_temp_10cm_min, solar_rad, eto_grass, eto_alfalfa, date, day_of_year, air_temp_max_C, air_temp_min_C, daily_gdd]\n",
       "Index: []"
      ]
     },
     "execution_count": 22,
     "metadata": {},
     "output_type": "execute_result"
    }
   ],
   "source": [
    "# should now return an empty df\n",
    "\n",
    "# manhattan_weather_11.loc[manhattan_weather_11.daily_gdd < 0]"
   ]
  },
  {
   "cell_type": "code",
   "execution_count": 23,
   "metadata": {},
   "outputs": [
    {
     "name": "stdout",
     "output_type": "stream",
     "text": [
      "(127, 20)\n"
     ]
    }
   ],
   "source": [
    "# Add cumulative GDD, round to nearest integer\n",
    "\n",
    "manhattan_weather_12 = manhattan_weather_11.copy()\n",
    "\n",
    "manhattan_weather_12['gdd'] = np.rint(np.cumsum(manhattan_weather_12['daily_gdd']))\n",
    "print(manhattan_weather_12.shape)\n",
    "# manhattan_weather_12.tail()"
   ]
  },
  {
   "cell_type": "markdown",
   "metadata": {},
   "source": [
    "Drop `daily_gdd`"
   ]
  },
  {
   "cell_type": "code",
   "execution_count": 24,
   "metadata": {},
   "outputs": [
    {
     "name": "stdout",
     "output_type": "stream",
     "text": [
      "(127, 19)\n"
     ]
    }
   ],
   "source": [
    "manhattan_weather_13 = manhattan_weather_12.drop(labels=['daily_gdd'], axis=1)\n",
    "print(manhattan_weather_13.shape)\n",
    "# manhattan_weather_13.head()"
   ]
  },
  {
   "cell_type": "markdown",
   "metadata": {},
   "source": [
    "#### Write to `.csv`"
   ]
  },
  {
   "cell_type": "code",
   "execution_count": null,
   "metadata": {},
   "outputs": [],
   "source": [
    "timestamp = datetime.datetime.now().replace(microsecond=0).isoformat()\n",
    "output_filename = f'ksu_weather_2016_daily_{timestamp}.csv'.replace(':', '')\n",
    "\n",
    "manhattan_weather_13.to_csv(output_filename)"
   ]
  }
 ],
 "metadata": {
  "kernelspec": {
   "display_name": "jupyter-data-cleaning",
   "language": "python",
   "name": "jupyter-data-cleaning"
  },
  "language_info": {
   "codemirror_mode": {
    "name": "ipython",
    "version": 3
   },
   "file_extension": ".py",
   "mimetype": "text/x-python",
   "name": "python",
   "nbconvert_exporter": "python",
   "pygments_lexer": "ipython3",
   "version": "3.8.2"
  }
 },
 "nbformat": 4,
 "nbformat_minor": 2
}
