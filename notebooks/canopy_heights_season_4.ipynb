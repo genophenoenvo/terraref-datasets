{
 "cells": [
  {
   "cell_type": "markdown",
   "metadata": {},
   "source": [
    "## Canopy Heights End of Season 4\n",
    "* wide format\n",
    "\n",
    "### Season Dates\n",
    "* Planting: 2017-04-20\n",
    "* Last Day of Harvest: 2017-09-16"
   ]
  },
  {
   "cell_type": "code",
   "execution_count": 1,
   "metadata": {},
   "outputs": [],
   "source": [
    "import datetime\n",
    "import pandas as pd\n",
    "import numpy as np\n",
    "import sqlite3\n",
    "import sqlalchemy"
   ]
  },
  {
   "cell_type": "code",
   "execution_count": 4,
   "metadata": {},
   "outputs": [
    {
     "name": "stdout",
     "output_type": "stream",
     "text": [
      "/Users/ejcain/UA-AG/phenotypes/terraref-datasets\n"
     ]
    }
   ],
   "source": [
    "%pwd\n",
    "%cd '/Users/ejcain/UA-AG/phenotypes/terraref-datasets/'"
   ]
  },
  {
   "cell_type": "code",
   "execution_count": 5,
   "metadata": {},
   "outputs": [],
   "source": [
    "df_0 = pd.read_csv('data/raw/mac_season_4.csv', low_memory=False)\n",
    "# df_0.head()"
   ]
  },
  {
   "cell_type": "code",
   "execution_count": 8,
   "metadata": {},
   "outputs": [
    {
     "data": {
      "text/plain": [
       "(372363, 39)"
      ]
     },
     "execution_count": 8,
     "metadata": {},
     "output_type": "execute_result"
    }
   ],
   "source": [
    "df_0.shape"
   ]
  },
  {
   "cell_type": "markdown",
   "metadata": {},
   "source": [
    "### I. Connect to sqlite database"
   ]
  },
  {
   "cell_type": "code",
   "execution_count": 23,
   "metadata": {},
   "outputs": [
    {
     "name": "stdout",
     "output_type": "stream",
     "text": [
      "Opened database successfully\n"
     ]
    }
   ],
   "source": [
    "conn = sqlite3.connect('end_of_season_canopy_heights.sqlite')\n",
    "cursor = conn.cursor()\n",
    "print(\"Opened database successfully\")"
   ]
  },
  {
   "cell_type": "code",
   "execution_count": 7,
   "metadata": {},
   "outputs": [
    {
     "data": {
      "text/plain": [
       "(58056, 39)"
      ]
     },
     "execution_count": 7,
     "metadata": {},
     "output_type": "execute_result"
    }
   ],
   "source": [
    "df_1 = df_0.loc[df_0.trait == 'canopy_height']\n",
    "df_1.shape"
   ]
  },
  {
   "cell_type": "code",
   "execution_count": 9,
   "metadata": {},
   "outputs": [
    {
     "data": {
      "text/plain": [
       "Index(['Unnamed: 0', 'checked', 'result_type', 'id', 'citation_id', 'site_id',\n",
       "       'treatment_id', 'sitename', 'city', 'lat', 'lon', 'scientificname',\n",
       "       'commonname', 'genus', 'species_id', 'cultivar_id', 'author',\n",
       "       'citation_year', 'treatment', 'date', 'time', 'raw_date', 'month',\n",
       "       'year', 'dateloc', 'trait', 'trait_description', 'mean', 'units', 'n',\n",
       "       'statname', 'stat', 'notes', 'access_level', 'cultivar', 'entity',\n",
       "       'method_name', 'view_url', 'edit_url'],\n",
       "      dtype='object')"
      ]
     },
     "execution_count": 9,
     "metadata": {},
     "output_type": "execute_result"
    }
   ],
   "source": [
    "df_1.columns"
   ]
  },
  {
   "cell_type": "code",
   "execution_count": 10,
   "metadata": {},
   "outputs": [],
   "source": [
    "cols_to_drop = ['Unnamed: 0', 'checked', 'result_type', 'id', 'citation_id', 'site_id', 'treatment_id', 'city', \n",
    "                'scientificname', 'commonname', 'genus', 'species_id', 'cultivar_id', 'author', 'citation_year', \n",
    "                'treatment', 'time', 'raw_date', 'month', 'year', 'dateloc', 'trait', 'trait_description', 'units', 'n',\n",
    "                'statname', 'stat', 'notes', 'access_level', 'entity', 'method_name', 'view_url', 'edit_url']"
   ]
  },
  {
   "cell_type": "code",
   "execution_count": 11,
   "metadata": {},
   "outputs": [
    {
     "name": "stdout",
     "output_type": "stream",
     "text": [
      "(58056, 6)\n"
     ]
    },
    {
     "data": {
      "text/html": [
       "<div>\n",
       "<style scoped>\n",
       "    .dataframe tbody tr th:only-of-type {\n",
       "        vertical-align: middle;\n",
       "    }\n",
       "\n",
       "    .dataframe tbody tr th {\n",
       "        vertical-align: top;\n",
       "    }\n",
       "\n",
       "    .dataframe thead th {\n",
       "        text-align: right;\n",
       "    }\n",
       "</style>\n",
       "<table border=\"1\" class=\"dataframe\">\n",
       "  <thead>\n",
       "    <tr style=\"text-align: right;\">\n",
       "      <th></th>\n",
       "      <th>sitename</th>\n",
       "      <th>lat</th>\n",
       "      <th>lon</th>\n",
       "      <th>date</th>\n",
       "      <th>mean</th>\n",
       "      <th>cultivar</th>\n",
       "    </tr>\n",
       "  </thead>\n",
       "  <tbody>\n",
       "    <tr>\n",
       "      <th>51339</th>\n",
       "      <td>MAC Field Scanner Season 4 Range 30 Column 9 E</td>\n",
       "      <td>33.075590</td>\n",
       "      <td>-111.974913</td>\n",
       "      <td>2017 Jun 19 (America/Phoenix)</td>\n",
       "      <td>91.0</td>\n",
       "      <td>PI329518</td>\n",
       "    </tr>\n",
       "    <tr>\n",
       "      <th>51340</th>\n",
       "      <td>MAC Field Scanner Season 4 Range 20 Column 15 W</td>\n",
       "      <td>33.075231</td>\n",
       "      <td>-111.974823</td>\n",
       "      <td>2017 Jun 4 (America/Phoenix)</td>\n",
       "      <td>99.0</td>\n",
       "      <td>PI152828</td>\n",
       "    </tr>\n",
       "    <tr>\n",
       "      <th>51341</th>\n",
       "      <td>MAC Field Scanner Season 4 Range 20 Column 15 W</td>\n",
       "      <td>33.075231</td>\n",
       "      <td>-111.974823</td>\n",
       "      <td>2017 May 29 (America/Phoenix)</td>\n",
       "      <td>63.0</td>\n",
       "      <td>PI152828</td>\n",
       "    </tr>\n",
       "    <tr>\n",
       "      <th>75000</th>\n",
       "      <td>MAC Field Scanner Season 4 Range 35 Column 14</td>\n",
       "      <td>33.075770</td>\n",
       "      <td>-111.974835</td>\n",
       "      <td>2017 May 20</td>\n",
       "      <td>22.0</td>\n",
       "      <td>PI619838</td>\n",
       "    </tr>\n",
       "    <tr>\n",
       "      <th>75001</th>\n",
       "      <td>MAC Field Scanner Season 4 Range 36 Column 2</td>\n",
       "      <td>33.075806</td>\n",
       "      <td>-111.975032</td>\n",
       "      <td>2017 May 20</td>\n",
       "      <td>26.0</td>\n",
       "      <td>PI155885</td>\n",
       "    </tr>\n",
       "  </tbody>\n",
       "</table>\n",
       "</div>"
      ],
      "text/plain": [
       "                                              sitename        lat         lon  \\\n",
       "51339   MAC Field Scanner Season 4 Range 30 Column 9 E  33.075590 -111.974913   \n",
       "51340  MAC Field Scanner Season 4 Range 20 Column 15 W  33.075231 -111.974823   \n",
       "51341  MAC Field Scanner Season 4 Range 20 Column 15 W  33.075231 -111.974823   \n",
       "75000    MAC Field Scanner Season 4 Range 35 Column 14  33.075770 -111.974835   \n",
       "75001     MAC Field Scanner Season 4 Range 36 Column 2  33.075806 -111.975032   \n",
       "\n",
       "                                date  mean  cultivar  \n",
       "51339  2017 Jun 19 (America/Phoenix)  91.0  PI329518  \n",
       "51340   2017 Jun 4 (America/Phoenix)  99.0  PI152828  \n",
       "51341  2017 May 29 (America/Phoenix)  63.0  PI152828  \n",
       "75000                    2017 May 20  22.0  PI619838  \n",
       "75001                    2017 May 20  26.0  PI155885  "
      ]
     },
     "execution_count": 11,
     "metadata": {},
     "output_type": "execute_result"
    }
   ],
   "source": [
    "df_2 = df_1.drop(labels=cols_to_drop, axis=1)\n",
    "print(df_2.shape)\n",
    "df_2.head()"
   ]
  },
  {
   "cell_type": "markdown",
   "metadata": {},
   "source": [
    "### II. Strip subplot designations"
   ]
  },
  {
   "cell_type": "code",
   "execution_count": 12,
   "metadata": {},
   "outputs": [],
   "source": [
    "sitename_values = df_2.sitename.values\n",
    "no_e_w_names = []\n",
    "\n",
    "for name in sitename_values:\n",
    "    \n",
    "    if name.endswith(' W') | name.endswith(' E'):\n",
    "        name = name[:-2]\n",
    "        no_e_w_names.append(name)\n",
    "        \n",
    "    else:\n",
    "        no_e_w_names.append(name)"
   ]
  },
  {
   "cell_type": "code",
   "execution_count": 13,
   "metadata": {},
   "outputs": [],
   "source": [
    "df_3 = df_2.copy()\n",
    "df_3['sitename_1'] = no_e_w_names\n",
    "# df_3.head()"
   ]
  },
  {
   "cell_type": "markdown",
   "metadata": {},
   "source": [
    "### III. Extract Range and Column Values"
   ]
  },
  {
   "cell_type": "code",
   "execution_count": 14,
   "metadata": {},
   "outputs": [
    {
     "data": {
      "text/html": [
       "<div>\n",
       "<style scoped>\n",
       "    .dataframe tbody tr th:only-of-type {\n",
       "        vertical-align: middle;\n",
       "    }\n",
       "\n",
       "    .dataframe tbody tr th {\n",
       "        vertical-align: top;\n",
       "    }\n",
       "\n",
       "    .dataframe thead th {\n",
       "        text-align: right;\n",
       "    }\n",
       "</style>\n",
       "<table border=\"1\" class=\"dataframe\">\n",
       "  <thead>\n",
       "    <tr style=\"text-align: right;\">\n",
       "      <th></th>\n",
       "      <th>sitename</th>\n",
       "      <th>lat</th>\n",
       "      <th>lon</th>\n",
       "      <th>date</th>\n",
       "      <th>mean</th>\n",
       "      <th>cultivar</th>\n",
       "      <th>sitename_1</th>\n",
       "      <th>range</th>\n",
       "      <th>column</th>\n",
       "    </tr>\n",
       "  </thead>\n",
       "  <tbody>\n",
       "    <tr>\n",
       "      <th>103576</th>\n",
       "      <td>MAC Field Scanner Season 4 Range 25 Column 8</td>\n",
       "      <td>33.075410</td>\n",
       "      <td>-111.974933</td>\n",
       "      <td>2017 Jun 30</td>\n",
       "      <td>212.0</td>\n",
       "      <td>PI329338</td>\n",
       "      <td>MAC Field Scanner Season 4 Range 25 Column 8</td>\n",
       "      <td>25</td>\n",
       "      <td>8</td>\n",
       "    </tr>\n",
       "    <tr>\n",
       "      <th>190516</th>\n",
       "      <td>MAC Field Scanner Season 4 Range 25 Column 9</td>\n",
       "      <td>33.075410</td>\n",
       "      <td>-111.974917</td>\n",
       "      <td>2017 Aug 26</td>\n",
       "      <td>366.0</td>\n",
       "      <td>PI455217</td>\n",
       "      <td>MAC Field Scanner Season 4 Range 25 Column 9</td>\n",
       "      <td>25</td>\n",
       "      <td>9</td>\n",
       "    </tr>\n",
       "    <tr>\n",
       "      <th>353829</th>\n",
       "      <td>MAC Field Scanner Season 4 Range 21 Column 9</td>\n",
       "      <td>33.075266</td>\n",
       "      <td>-111.974917</td>\n",
       "      <td>2017 Aug 16</td>\n",
       "      <td>371.0</td>\n",
       "      <td>PI569453</td>\n",
       "      <td>MAC Field Scanner Season 4 Range 21 Column 9</td>\n",
       "      <td>21</td>\n",
       "      <td>9</td>\n",
       "    </tr>\n",
       "    <tr>\n",
       "      <th>75730</th>\n",
       "      <td>MAC Field Scanner Season 4 Range 48 Column 12</td>\n",
       "      <td>33.076237</td>\n",
       "      <td>-111.974868</td>\n",
       "      <td>2017 Jun 2</td>\n",
       "      <td>74.0</td>\n",
       "      <td>PI563009</td>\n",
       "      <td>MAC Field Scanner Season 4 Range 48 Column 12</td>\n",
       "      <td>48</td>\n",
       "      <td>12</td>\n",
       "    </tr>\n",
       "    <tr>\n",
       "      <th>268935</th>\n",
       "      <td>MAC Field Scanner Season 4 Range 28 Column 9</td>\n",
       "      <td>33.075518</td>\n",
       "      <td>-111.974917</td>\n",
       "      <td>2017 Aug 30</td>\n",
       "      <td>359.0</td>\n",
       "      <td>PI329646</td>\n",
       "      <td>MAC Field Scanner Season 4 Range 28 Column 9</td>\n",
       "      <td>28</td>\n",
       "      <td>9</td>\n",
       "    </tr>\n",
       "    <tr>\n",
       "      <th>78773</th>\n",
       "      <td>MAC Field Scanner Season 4 Range 46 Column 12</td>\n",
       "      <td>33.076165</td>\n",
       "      <td>-111.974868</td>\n",
       "      <td>2017 Jun 16</td>\n",
       "      <td>126.0</td>\n",
       "      <td>PI535793</td>\n",
       "      <td>MAC Field Scanner Season 4 Range 46 Column 12</td>\n",
       "      <td>46</td>\n",
       "      <td>12</td>\n",
       "    </tr>\n",
       "    <tr>\n",
       "      <th>352229</th>\n",
       "      <td>MAC Field Scanner Season 4 Range 52 Column 14</td>\n",
       "      <td>33.076381</td>\n",
       "      <td>-111.974836</td>\n",
       "      <td>2017 Jul 20</td>\n",
       "      <td>272.0</td>\n",
       "      <td>PI329618</td>\n",
       "      <td>MAC Field Scanner Season 4 Range 52 Column 14</td>\n",
       "      <td>52</td>\n",
       "      <td>14</td>\n",
       "    </tr>\n",
       "  </tbody>\n",
       "</table>\n",
       "</div>"
      ],
      "text/plain": [
       "                                             sitename        lat         lon  \\\n",
       "103576   MAC Field Scanner Season 4 Range 25 Column 8  33.075410 -111.974933   \n",
       "190516   MAC Field Scanner Season 4 Range 25 Column 9  33.075410 -111.974917   \n",
       "353829   MAC Field Scanner Season 4 Range 21 Column 9  33.075266 -111.974917   \n",
       "75730   MAC Field Scanner Season 4 Range 48 Column 12  33.076237 -111.974868   \n",
       "268935   MAC Field Scanner Season 4 Range 28 Column 9  33.075518 -111.974917   \n",
       "78773   MAC Field Scanner Season 4 Range 46 Column 12  33.076165 -111.974868   \n",
       "352229  MAC Field Scanner Season 4 Range 52 Column 14  33.076381 -111.974836   \n",
       "\n",
       "               date   mean  cultivar  \\\n",
       "103576  2017 Jun 30  212.0  PI329338   \n",
       "190516  2017 Aug 26  366.0  PI455217   \n",
       "353829  2017 Aug 16  371.0  PI569453   \n",
       "75730    2017 Jun 2   74.0  PI563009   \n",
       "268935  2017 Aug 30  359.0  PI329646   \n",
       "78773   2017 Jun 16  126.0  PI535793   \n",
       "352229  2017 Jul 20  272.0  PI329618   \n",
       "\n",
       "                                           sitename_1  range  column  \n",
       "103576   MAC Field Scanner Season 4 Range 25 Column 8     25       8  \n",
       "190516   MAC Field Scanner Season 4 Range 25 Column 9     25       9  \n",
       "353829   MAC Field Scanner Season 4 Range 21 Column 9     21       9  \n",
       "75730   MAC Field Scanner Season 4 Range 48 Column 12     48      12  \n",
       "268935   MAC Field Scanner Season 4 Range 28 Column 9     28       9  \n",
       "78773   MAC Field Scanner Season 4 Range 46 Column 12     46      12  \n",
       "352229  MAC Field Scanner Season 4 Range 52 Column 14     52      14  "
      ]
     },
     "execution_count": 14,
     "metadata": {},
     "output_type": "execute_result"
    }
   ],
   "source": [
    "df_4 = df_3.copy()\n",
    "\n",
    "df_4['range'] = df_4['sitename_1'].str.extract(\"Range (\\d+)\").astype(int)\n",
    "df_4['column'] = df_4['sitename_1'].str.extract(\"Column (\\d+)\").astype(int)\n",
    "\n",
    "df_4.sample(n=7)"
   ]
  },
  {
   "cell_type": "markdown",
   "metadata": {},
   "source": [
    "### IV. Change string date values to iso datetime format"
   ]
  },
  {
   "cell_type": "code",
   "execution_count": 15,
   "metadata": {},
   "outputs": [
    {
     "name": "stdout",
     "output_type": "stream",
     "text": [
      "58056\n",
      "58056\n"
     ]
    }
   ],
   "source": [
    "new_dates = []\n",
    "\n",
    "for d in df_4.date.values:\n",
    "    \n",
    "    if 'Phoenix' in d:\n",
    "        new_name = d[:-18]\n",
    "        new_dates.append(new_name)\n",
    "    \n",
    "    else:\n",
    "        new_name = d\n",
    "        new_dates.append(new_name)\n",
    "        \n",
    "print(df_4.shape[0])\n",
    "print(len(new_dates))"
   ]
  },
  {
   "cell_type": "code",
   "execution_count": 16,
   "metadata": {},
   "outputs": [],
   "source": [
    "iso_format_dates = pd.to_datetime(new_dates)"
   ]
  },
  {
   "cell_type": "code",
   "execution_count": 17,
   "metadata": {},
   "outputs": [
    {
     "data": {
      "text/html": [
       "<div>\n",
       "<style scoped>\n",
       "    .dataframe tbody tr th:only-of-type {\n",
       "        vertical-align: middle;\n",
       "    }\n",
       "\n",
       "    .dataframe tbody tr th {\n",
       "        vertical-align: top;\n",
       "    }\n",
       "\n",
       "    .dataframe thead th {\n",
       "        text-align: right;\n",
       "    }\n",
       "</style>\n",
       "<table border=\"1\" class=\"dataframe\">\n",
       "  <thead>\n",
       "    <tr style=\"text-align: right;\">\n",
       "      <th></th>\n",
       "      <th>sitename</th>\n",
       "      <th>lat</th>\n",
       "      <th>lon</th>\n",
       "      <th>date</th>\n",
       "      <th>mean</th>\n",
       "      <th>cultivar</th>\n",
       "      <th>sitename_1</th>\n",
       "      <th>range</th>\n",
       "      <th>column</th>\n",
       "      <th>date_1</th>\n",
       "    </tr>\n",
       "  </thead>\n",
       "  <tbody>\n",
       "    <tr>\n",
       "      <th>51339</th>\n",
       "      <td>MAC Field Scanner Season 4 Range 30 Column 9 E</td>\n",
       "      <td>33.075590</td>\n",
       "      <td>-111.974913</td>\n",
       "      <td>2017 Jun 19 (America/Phoenix)</td>\n",
       "      <td>91.0</td>\n",
       "      <td>PI329518</td>\n",
       "      <td>MAC Field Scanner Season 4 Range 30 Column 9</td>\n",
       "      <td>30</td>\n",
       "      <td>9</td>\n",
       "      <td>2017-06-19</td>\n",
       "    </tr>\n",
       "    <tr>\n",
       "      <th>51340</th>\n",
       "      <td>MAC Field Scanner Season 4 Range 20 Column 15 W</td>\n",
       "      <td>33.075231</td>\n",
       "      <td>-111.974823</td>\n",
       "      <td>2017 Jun 4 (America/Phoenix)</td>\n",
       "      <td>99.0</td>\n",
       "      <td>PI152828</td>\n",
       "      <td>MAC Field Scanner Season 4 Range 20 Column 15</td>\n",
       "      <td>20</td>\n",
       "      <td>15</td>\n",
       "      <td>2017-06-04</td>\n",
       "    </tr>\n",
       "    <tr>\n",
       "      <th>51341</th>\n",
       "      <td>MAC Field Scanner Season 4 Range 20 Column 15 W</td>\n",
       "      <td>33.075231</td>\n",
       "      <td>-111.974823</td>\n",
       "      <td>2017 May 29 (America/Phoenix)</td>\n",
       "      <td>63.0</td>\n",
       "      <td>PI152828</td>\n",
       "      <td>MAC Field Scanner Season 4 Range 20 Column 15</td>\n",
       "      <td>20</td>\n",
       "      <td>15</td>\n",
       "      <td>2017-05-29</td>\n",
       "    </tr>\n",
       "    <tr>\n",
       "      <th>75000</th>\n",
       "      <td>MAC Field Scanner Season 4 Range 35 Column 14</td>\n",
       "      <td>33.075770</td>\n",
       "      <td>-111.974835</td>\n",
       "      <td>2017 May 20</td>\n",
       "      <td>22.0</td>\n",
       "      <td>PI619838</td>\n",
       "      <td>MAC Field Scanner Season 4 Range 35 Column 14</td>\n",
       "      <td>35</td>\n",
       "      <td>14</td>\n",
       "      <td>2017-05-20</td>\n",
       "    </tr>\n",
       "    <tr>\n",
       "      <th>75001</th>\n",
       "      <td>MAC Field Scanner Season 4 Range 36 Column 2</td>\n",
       "      <td>33.075806</td>\n",
       "      <td>-111.975032</td>\n",
       "      <td>2017 May 20</td>\n",
       "      <td>26.0</td>\n",
       "      <td>PI155885</td>\n",
       "      <td>MAC Field Scanner Season 4 Range 36 Column 2</td>\n",
       "      <td>36</td>\n",
       "      <td>2</td>\n",
       "      <td>2017-05-20</td>\n",
       "    </tr>\n",
       "  </tbody>\n",
       "</table>\n",
       "</div>"
      ],
      "text/plain": [
       "                                              sitename        lat         lon  \\\n",
       "51339   MAC Field Scanner Season 4 Range 30 Column 9 E  33.075590 -111.974913   \n",
       "51340  MAC Field Scanner Season 4 Range 20 Column 15 W  33.075231 -111.974823   \n",
       "51341  MAC Field Scanner Season 4 Range 20 Column 15 W  33.075231 -111.974823   \n",
       "75000    MAC Field Scanner Season 4 Range 35 Column 14  33.075770 -111.974835   \n",
       "75001     MAC Field Scanner Season 4 Range 36 Column 2  33.075806 -111.975032   \n",
       "\n",
       "                                date  mean  cultivar  \\\n",
       "51339  2017 Jun 19 (America/Phoenix)  91.0  PI329518   \n",
       "51340   2017 Jun 4 (America/Phoenix)  99.0  PI152828   \n",
       "51341  2017 May 29 (America/Phoenix)  63.0  PI152828   \n",
       "75000                    2017 May 20  22.0  PI619838   \n",
       "75001                    2017 May 20  26.0  PI155885   \n",
       "\n",
       "                                          sitename_1  range  column     date_1  \n",
       "51339   MAC Field Scanner Season 4 Range 30 Column 9     30       9 2017-06-19  \n",
       "51340  MAC Field Scanner Season 4 Range 20 Column 15     20      15 2017-06-04  \n",
       "51341  MAC Field Scanner Season 4 Range 20 Column 15     20      15 2017-05-29  \n",
       "75000  MAC Field Scanner Season 4 Range 35 Column 14     35      14 2017-05-20  \n",
       "75001   MAC Field Scanner Season 4 Range 36 Column 2     36       2 2017-05-20  "
      ]
     },
     "execution_count": 17,
     "metadata": {},
     "output_type": "execute_result"
    }
   ],
   "source": [
    "df_5 = df_4.copy()\n",
    "\n",
    "df_5['date_1'] = iso_format_dates\n",
    "df_5.head()"
   ]
  },
  {
   "cell_type": "markdown",
   "metadata": {},
   "source": [
    "### V. Drop, rename, & reorder columns"
   ]
  },
  {
   "cell_type": "code",
   "execution_count": 18,
   "metadata": {},
   "outputs": [
    {
     "data": {
      "text/html": [
       "<div>\n",
       "<style scoped>\n",
       "    .dataframe tbody tr th:only-of-type {\n",
       "        vertical-align: middle;\n",
       "    }\n",
       "\n",
       "    .dataframe tbody tr th {\n",
       "        vertical-align: top;\n",
       "    }\n",
       "\n",
       "    .dataframe thead th {\n",
       "        text-align: right;\n",
       "    }\n",
       "</style>\n",
       "<table border=\"1\" class=\"dataframe\">\n",
       "  <thead>\n",
       "    <tr style=\"text-align: right;\">\n",
       "      <th></th>\n",
       "      <th>sitename_1</th>\n",
       "      <th>range</th>\n",
       "      <th>column</th>\n",
       "      <th>lat</th>\n",
       "      <th>lon</th>\n",
       "      <th>date_1</th>\n",
       "      <th>cultivar</th>\n",
       "      <th>mean</th>\n",
       "    </tr>\n",
       "  </thead>\n",
       "  <tbody>\n",
       "    <tr>\n",
       "      <th>51339</th>\n",
       "      <td>MAC Field Scanner Season 4 Range 30 Column 9</td>\n",
       "      <td>30</td>\n",
       "      <td>9</td>\n",
       "      <td>33.075590</td>\n",
       "      <td>-111.974913</td>\n",
       "      <td>2017-06-19</td>\n",
       "      <td>PI329518</td>\n",
       "      <td>91.0</td>\n",
       "    </tr>\n",
       "    <tr>\n",
       "      <th>51340</th>\n",
       "      <td>MAC Field Scanner Season 4 Range 20 Column 15</td>\n",
       "      <td>20</td>\n",
       "      <td>15</td>\n",
       "      <td>33.075231</td>\n",
       "      <td>-111.974823</td>\n",
       "      <td>2017-06-04</td>\n",
       "      <td>PI152828</td>\n",
       "      <td>99.0</td>\n",
       "    </tr>\n",
       "    <tr>\n",
       "      <th>51341</th>\n",
       "      <td>MAC Field Scanner Season 4 Range 20 Column 15</td>\n",
       "      <td>20</td>\n",
       "      <td>15</td>\n",
       "      <td>33.075231</td>\n",
       "      <td>-111.974823</td>\n",
       "      <td>2017-05-29</td>\n",
       "      <td>PI152828</td>\n",
       "      <td>63.0</td>\n",
       "    </tr>\n",
       "    <tr>\n",
       "      <th>75000</th>\n",
       "      <td>MAC Field Scanner Season 4 Range 35 Column 14</td>\n",
       "      <td>35</td>\n",
       "      <td>14</td>\n",
       "      <td>33.075770</td>\n",
       "      <td>-111.974835</td>\n",
       "      <td>2017-05-20</td>\n",
       "      <td>PI619838</td>\n",
       "      <td>22.0</td>\n",
       "    </tr>\n",
       "    <tr>\n",
       "      <th>75001</th>\n",
       "      <td>MAC Field Scanner Season 4 Range 36 Column 2</td>\n",
       "      <td>36</td>\n",
       "      <td>2</td>\n",
       "      <td>33.075806</td>\n",
       "      <td>-111.975032</td>\n",
       "      <td>2017-05-20</td>\n",
       "      <td>PI155885</td>\n",
       "      <td>26.0</td>\n",
       "    </tr>\n",
       "  </tbody>\n",
       "</table>\n",
       "</div>"
      ],
      "text/plain": [
       "                                          sitename_1  range  column  \\\n",
       "51339   MAC Field Scanner Season 4 Range 30 Column 9     30       9   \n",
       "51340  MAC Field Scanner Season 4 Range 20 Column 15     20      15   \n",
       "51341  MAC Field Scanner Season 4 Range 20 Column 15     20      15   \n",
       "75000  MAC Field Scanner Season 4 Range 35 Column 14     35      14   \n",
       "75001   MAC Field Scanner Season 4 Range 36 Column 2     36       2   \n",
       "\n",
       "             lat         lon     date_1  cultivar  mean  \n",
       "51339  33.075590 -111.974913 2017-06-19  PI329518  91.0  \n",
       "51340  33.075231 -111.974823 2017-06-04  PI152828  99.0  \n",
       "51341  33.075231 -111.974823 2017-05-29  PI152828  63.0  \n",
       "75000  33.075770 -111.974835 2017-05-20  PI619838  22.0  \n",
       "75001  33.075806 -111.975032 2017-05-20  PI155885  26.0  "
      ]
     },
     "execution_count": 18,
     "metadata": {},
     "output_type": "execute_result"
    }
   ],
   "source": [
    "new_col_order = ['sitename_1', 'range', 'column', 'lat', 'lon', 'date_1', 'cultivar', 'mean']\n",
    "df_6 = pd.DataFrame(data=df_5, columns=new_col_order, index=df_5.index)\n",
    "df_6.head()"
   ]
  },
  {
   "cell_type": "code",
   "execution_count": 20,
   "metadata": {},
   "outputs": [
    {
     "data": {
      "text/html": [
       "<div>\n",
       "<style scoped>\n",
       "    .dataframe tbody tr th:only-of-type {\n",
       "        vertical-align: middle;\n",
       "    }\n",
       "\n",
       "    .dataframe tbody tr th {\n",
       "        vertical-align: top;\n",
       "    }\n",
       "\n",
       "    .dataframe thead th {\n",
       "        text-align: right;\n",
       "    }\n",
       "</style>\n",
       "<table border=\"1\" class=\"dataframe\">\n",
       "  <thead>\n",
       "    <tr style=\"text-align: right;\">\n",
       "      <th></th>\n",
       "      <th>sitename</th>\n",
       "      <th>range</th>\n",
       "      <th>column</th>\n",
       "      <th>lat</th>\n",
       "      <th>lon</th>\n",
       "      <th>date</th>\n",
       "      <th>cultivar</th>\n",
       "      <th>canopy_height</th>\n",
       "    </tr>\n",
       "  </thead>\n",
       "  <tbody>\n",
       "    <tr>\n",
       "      <th>51339</th>\n",
       "      <td>MAC Field Scanner Season 4 Range 30 Column 9</td>\n",
       "      <td>30</td>\n",
       "      <td>9</td>\n",
       "      <td>33.075590</td>\n",
       "      <td>-111.974913</td>\n",
       "      <td>2017-06-19</td>\n",
       "      <td>PI329518</td>\n",
       "      <td>91.0</td>\n",
       "    </tr>\n",
       "    <tr>\n",
       "      <th>51340</th>\n",
       "      <td>MAC Field Scanner Season 4 Range 20 Column 15</td>\n",
       "      <td>20</td>\n",
       "      <td>15</td>\n",
       "      <td>33.075231</td>\n",
       "      <td>-111.974823</td>\n",
       "      <td>2017-06-04</td>\n",
       "      <td>PI152828</td>\n",
       "      <td>99.0</td>\n",
       "    </tr>\n",
       "    <tr>\n",
       "      <th>51341</th>\n",
       "      <td>MAC Field Scanner Season 4 Range 20 Column 15</td>\n",
       "      <td>20</td>\n",
       "      <td>15</td>\n",
       "      <td>33.075231</td>\n",
       "      <td>-111.974823</td>\n",
       "      <td>2017-05-29</td>\n",
       "      <td>PI152828</td>\n",
       "      <td>63.0</td>\n",
       "    </tr>\n",
       "    <tr>\n",
       "      <th>75000</th>\n",
       "      <td>MAC Field Scanner Season 4 Range 35 Column 14</td>\n",
       "      <td>35</td>\n",
       "      <td>14</td>\n",
       "      <td>33.075770</td>\n",
       "      <td>-111.974835</td>\n",
       "      <td>2017-05-20</td>\n",
       "      <td>PI619838</td>\n",
       "      <td>22.0</td>\n",
       "    </tr>\n",
       "    <tr>\n",
       "      <th>75001</th>\n",
       "      <td>MAC Field Scanner Season 4 Range 36 Column 2</td>\n",
       "      <td>36</td>\n",
       "      <td>2</td>\n",
       "      <td>33.075806</td>\n",
       "      <td>-111.975032</td>\n",
       "      <td>2017-05-20</td>\n",
       "      <td>PI155885</td>\n",
       "      <td>26.0</td>\n",
       "    </tr>\n",
       "  </tbody>\n",
       "</table>\n",
       "</div>"
      ],
      "text/plain": [
       "                                            sitename  range  column  \\\n",
       "51339   MAC Field Scanner Season 4 Range 30 Column 9     30       9   \n",
       "51340  MAC Field Scanner Season 4 Range 20 Column 15     20      15   \n",
       "51341  MAC Field Scanner Season 4 Range 20 Column 15     20      15   \n",
       "75000  MAC Field Scanner Season 4 Range 35 Column 14     35      14   \n",
       "75001   MAC Field Scanner Season 4 Range 36 Column 2     36       2   \n",
       "\n",
       "             lat         lon       date  cultivar  canopy_height  \n",
       "51339  33.075590 -111.974913 2017-06-19  PI329518           91.0  \n",
       "51340  33.075231 -111.974823 2017-06-04  PI152828           99.0  \n",
       "51341  33.075231 -111.974823 2017-05-29  PI152828           63.0  \n",
       "75000  33.075770 -111.974835 2017-05-20  PI619838           22.0  \n",
       "75001  33.075806 -111.975032 2017-05-20  PI155885           26.0  "
      ]
     },
     "execution_count": 20,
     "metadata": {},
     "output_type": "execute_result"
    }
   ],
   "source": [
    "df_7 = df_6.rename({'sitename_1': 'sitename', 'date_1': 'date', 'mean': 'canopy_height'}, axis=1)\n",
    "df_7.head()"
   ]
  },
  {
   "cell_type": "markdown",
   "metadata": {},
   "source": [
    "### VI. Take average values for canopy heights per sitename if measured on the same date"
   ]
  },
  {
   "cell_type": "code",
   "execution_count": 24,
   "metadata": {},
   "outputs": [],
   "source": [
    "df_7.to_sql('end_of_season_canopy_heights.sqlite', conn)"
   ]
  },
  {
   "cell_type": "code",
   "execution_count": 38,
   "metadata": {},
   "outputs": [
    {
     "name": "stdout",
     "output_type": "stream",
     "text": [
      "(32995, 9)\n"
     ]
    },
    {
     "data": {
      "text/html": [
       "<div>\n",
       "<style scoped>\n",
       "    .dataframe tbody tr th:only-of-type {\n",
       "        vertical-align: middle;\n",
       "    }\n",
       "\n",
       "    .dataframe tbody tr th {\n",
       "        vertical-align: top;\n",
       "    }\n",
       "\n",
       "    .dataframe thead th {\n",
       "        text-align: right;\n",
       "    }\n",
       "</style>\n",
       "<table border=\"1\" class=\"dataframe\">\n",
       "  <thead>\n",
       "    <tr style=\"text-align: right;\">\n",
       "      <th></th>\n",
       "      <th>sitename</th>\n",
       "      <th>range</th>\n",
       "      <th>column</th>\n",
       "      <th>lat</th>\n",
       "      <th>lon</th>\n",
       "      <th>date</th>\n",
       "      <th>cultivar</th>\n",
       "      <th>canopy_height</th>\n",
       "      <th>avg_canopy_height</th>\n",
       "    </tr>\n",
       "  </thead>\n",
       "  <tbody>\n",
       "    <tr>\n",
       "      <th>0</th>\n",
       "      <td>MAC Field Scanner Season 4 Range 10 Column 10</td>\n",
       "      <td>10</td>\n",
       "      <td>10</td>\n",
       "      <td>33.074871</td>\n",
       "      <td>-111.974900</td>\n",
       "      <td>2017-08-30 00:00:00</td>\n",
       "      <td>PI152816</td>\n",
       "      <td>340.0</td>\n",
       "      <td>340.0</td>\n",
       "    </tr>\n",
       "    <tr>\n",
       "      <th>1</th>\n",
       "      <td>MAC Field Scanner Season 4 Range 10 Column 12</td>\n",
       "      <td>10</td>\n",
       "      <td>12</td>\n",
       "      <td>33.074871</td>\n",
       "      <td>-111.974868</td>\n",
       "      <td>2017-08-30 00:00:00</td>\n",
       "      <td>PI329501</td>\n",
       "      <td>369.0</td>\n",
       "      <td>369.0</td>\n",
       "    </tr>\n",
       "    <tr>\n",
       "      <th>2</th>\n",
       "      <td>MAC Field Scanner Season 4 Range 10 Column 15</td>\n",
       "      <td>10</td>\n",
       "      <td>15</td>\n",
       "      <td>33.074871</td>\n",
       "      <td>-111.974818</td>\n",
       "      <td>2017-08-30 00:00:00</td>\n",
       "      <td>PI144134</td>\n",
       "      <td>331.0</td>\n",
       "      <td>331.0</td>\n",
       "    </tr>\n",
       "    <tr>\n",
       "      <th>3</th>\n",
       "      <td>MAC Field Scanner Season 4 Range 10 Column 2</td>\n",
       "      <td>10</td>\n",
       "      <td>2</td>\n",
       "      <td>33.074871</td>\n",
       "      <td>-111.975031</td>\n",
       "      <td>2017-08-30 00:00:00</td>\n",
       "      <td>PI641807</td>\n",
       "      <td>307.0</td>\n",
       "      <td>307.0</td>\n",
       "    </tr>\n",
       "    <tr>\n",
       "      <th>4</th>\n",
       "      <td>MAC Field Scanner Season 4 Range 10 Column 5</td>\n",
       "      <td>10</td>\n",
       "      <td>5</td>\n",
       "      <td>33.074871</td>\n",
       "      <td>-111.974982</td>\n",
       "      <td>2017-08-30 00:00:00</td>\n",
       "      <td>PI641821</td>\n",
       "      <td>337.0</td>\n",
       "      <td>337.0</td>\n",
       "    </tr>\n",
       "  </tbody>\n",
       "</table>\n",
       "</div>"
      ],
      "text/plain": [
       "                                        sitename  range  column        lat  \\\n",
       "0  MAC Field Scanner Season 4 Range 10 Column 10     10      10  33.074871   \n",
       "1  MAC Field Scanner Season 4 Range 10 Column 12     10      12  33.074871   \n",
       "2  MAC Field Scanner Season 4 Range 10 Column 15     10      15  33.074871   \n",
       "3   MAC Field Scanner Season 4 Range 10 Column 2     10       2  33.074871   \n",
       "4   MAC Field Scanner Season 4 Range 10 Column 5     10       5  33.074871   \n",
       "\n",
       "          lon                 date  cultivar  canopy_height  avg_canopy_height  \n",
       "0 -111.974900  2017-08-30 00:00:00  PI152816          340.0              340.0  \n",
       "1 -111.974868  2017-08-30 00:00:00  PI329501          369.0              369.0  \n",
       "2 -111.974818  2017-08-30 00:00:00  PI144134          331.0              331.0  \n",
       "3 -111.975031  2017-08-30 00:00:00  PI641807          307.0              307.0  \n",
       "4 -111.974982  2017-08-30 00:00:00  PI641821          337.0              337.0  "
      ]
     },
     "execution_count": 38,
     "metadata": {},
     "output_type": "execute_result"
    }
   ],
   "source": [
    "df_8 = pd.read_sql_query(\"\"\"\n",
    "                            select sitename, range, column, lat, lon, date, cultivar, \n",
    "                            canopy_height, avg(canopy_height) as avg_canopy_height \n",
    "                            from 'end_of_season_canopy_heights.sqlite'\n",
    "                            group by sitename, date\n",
    "                            order by date DESC;\n",
    "                            \"\"\", conn)\n",
    "\n",
    "print(df_8.shape)\n",
    "df_8.head()"
   ]
  },
  {
   "cell_type": "code",
   "execution_count": null,
   "metadata": {},
   "outputs": [],
   "source": []
  },
  {
   "cell_type": "code",
   "execution_count": null,
   "metadata": {},
   "outputs": [],
   "source": []
  },
  {
   "cell_type": "code",
   "execution_count": null,
   "metadata": {},
   "outputs": [],
   "source": []
  },
  {
   "cell_type": "code",
   "execution_count": null,
   "metadata": {},
   "outputs": [],
   "source": []
  },
  {
   "cell_type": "code",
   "execution_count": null,
   "metadata": {},
   "outputs": [],
   "source": []
  },
  {
   "cell_type": "code",
   "execution_count": null,
   "metadata": {},
   "outputs": [],
   "source": []
  },
  {
   "cell_type": "code",
   "execution_count": null,
   "metadata": {},
   "outputs": [],
   "source": []
  },
  {
   "cell_type": "code",
   "execution_count": null,
   "metadata": {},
   "outputs": [],
   "source": []
  },
  {
   "cell_type": "code",
   "execution_count": null,
   "metadata": {},
   "outputs": [],
   "source": []
  },
  {
   "cell_type": "code",
   "execution_count": null,
   "metadata": {},
   "outputs": [],
   "source": []
  },
  {
   "cell_type": "code",
   "execution_count": null,
   "metadata": {},
   "outputs": [],
   "source": []
  },
  {
   "cell_type": "markdown",
   "metadata": {},
   "source": [
    "#### Last Steps"
   ]
  },
  {
   "cell_type": "code",
   "execution_count": null,
   "metadata": {},
   "outputs": [],
   "source": [
    "need_to_create_csv = False\n",
    "\n",
    "if need_to_create_csv:\n",
    "\n",
    "    timestamp = datetime.datetime.now().replace(microsecond=0).isoformat()\n",
    "    output_filename = f'max_canopy_heights_{timestamp}.csv'.replace(':', '')\n",
    "    max_canopy_heights_4.to_csv(f'data/processed/{output_filename}')"
   ]
  },
  {
   "cell_type": "code",
   "execution_count": null,
   "metadata": {},
   "outputs": [],
   "source": []
  },
  {
   "cell_type": "code",
   "execution_count": null,
   "metadata": {},
   "outputs": [],
   "source": []
  },
  {
   "cell_type": "code",
   "execution_count": null,
   "metadata": {},
   "outputs": [],
   "source": []
  },
  {
   "cell_type": "markdown",
   "metadata": {},
   "source": [
    "## For Future Tests"
   ]
  },
  {
   "cell_type": "code",
   "execution_count": 27,
   "metadata": {},
   "outputs": [],
   "source": [
    "# range 20 column 13, range 30 column 9\n",
    "\n",
    "# test_sites = df_7.loc[(df_7.sitename == 'MAC Field Scanner Season 4 Range 20 Column 13') | (df_7.sitename == 'MAC Field Scanner Season 4 Range 30 Column 9')]"
   ]
  },
  {
   "cell_type": "code",
   "execution_count": 35,
   "metadata": {},
   "outputs": [],
   "source": [
    "# test_sites.sort_values(by='date')"
   ]
  },
  {
   "cell_type": "code",
   "execution_count": 36,
   "metadata": {},
   "outputs": [],
   "source": [
    "# test_df.loc[(test_df.date == '2017-05-29 00:00:00') & (test_df.sitename == 'MAC Field Scanner Season 4 Range 20 Column 13')]"
   ]
  },
  {
   "cell_type": "code",
   "execution_count": 37,
   "metadata": {},
   "outputs": [],
   "source": [
    "# May 4 should be 10\n",
    "\n",
    "# test_df.loc[(test_df.date == '2017-05-04 00:00:00') & (test_df.sitename == 'MAC Field Scanner Season 4 Range 20 Column 13')]"
   ]
  }
 ],
 "metadata": {
  "kernelspec": {
   "display_name": "Python 3",
   "language": "python",
   "name": "python3"
  },
  "language_info": {
   "codemirror_mode": {
    "name": "ipython",
    "version": 3
   },
   "file_extension": ".py",
   "mimetype": "text/x-python",
   "name": "python",
   "nbconvert_exporter": "python",
   "pygments_lexer": "ipython3",
   "version": "3.6.8"
  }
 },
 "nbformat": 4,
 "nbformat_minor": 2
}
