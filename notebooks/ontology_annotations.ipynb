{
 "cells": [
  {
   "cell_type": "markdown",
   "metadata": {},
   "source": [
    "## Code used to generate data for ontology annotations\n",
    "#### Values needed for ontology table:\n",
    "* `trait`\n",
    "* `trait_description`\n",
    "* `units`\n",
    "* `method_name`"
   ]
  },
  {
   "cell_type": "code",
   "execution_count": 1,
   "metadata": {},
   "outputs": [],
   "source": [
    "import pandas as pd"
   ]
  },
  {
   "cell_type": "code",
   "execution_count": 6,
   "metadata": {},
   "outputs": [
    {
     "name": "stdout",
     "output_type": "stream",
     "text": [
      "Shape of dataframe: (372363, 39)\n"
     ]
    }
   ],
   "source": [
    "df = pd.read_csv('data/raw/mac_season_4.csv')\n",
    "print(f'Shape of dataframe: {df.shape}')"
   ]
  },
  {
   "cell_type": "code",
   "execution_count": 7,
   "metadata": {},
   "outputs": [
    {
     "name": "stdout",
     "output_type": "stream",
     "text": [
      "75 unique traits within dataset\n"
     ]
    }
   ],
   "source": [
    "unique_traits = df.trait.unique()\n",
    "print(f'{df.trait.nunique()} unique traits within dataset')"
   ]
  },
  {
   "cell_type": "markdown",
   "metadata": {},
   "source": [
    "### I. Find all traits that have more than one unique value for \n",
    "* `trait_description`\n",
    "* `units`\n",
    "* `method_name`"
   ]
  },
  {
   "cell_type": "code",
   "execution_count": 25,
   "metadata": {},
   "outputs": [
    {
     "name": "stdout",
     "output_type": "stream",
     "text": [
      "Trait with more than one unique method name: canopy_height\n"
     ]
    }
   ],
   "source": [
    "for trait in unique_traits:\n",
    "    \n",
    "    if df.loc[df.trait == trait].trait_description.nunique() > 1:\n",
    "        print(f'Trait with more than one unique trait description: {trait}')\n",
    "        \n",
    "    if df.loc[df.trait == trait].units.nunique() > 1:\n",
    "        print(f'Trait with more than one unique value for units: {trait}')\n",
    "    \n",
    "    if df.loc[df.trait == trait].method_name.nunique() > 1:\n",
    "        print(f'Trait with more than one unique method name: {trait}')"
   ]
  },
  {
   "cell_type": "markdown",
   "metadata": {},
   "source": [
    "### II. Trait descriptions\n",
    "Four traits have ontology identifiers in their trait description:\n",
    "* `lodging_present`\n",
    "* `stem_elongated_internodes_number`\n",
    "* `emergence_count`\n",
    "* `plant_basal_tiller_number`"
   ]
  },
  {
   "cell_type": "code",
   "execution_count": 11,
   "metadata": {},
   "outputs": [
    {
     "name": "stdout",
     "output_type": "stream",
     "text": [
      "All unique descriptions for leaf_desiccation_present: ['Presence or absence of leaves showing desiccation. 1 = present, 0 = absent']\n",
      "All unique descriptions for lodging_present: ['Plant lodging: presence or absence of lodging or severe leaning within a plot. 1 = present, 0 = absent. Sorghum Crop Ontology Identifier CO_324:0000283.']\n",
      "All unique descriptions for leaf_temperature: ['temperature of the surface of a sunlit leaf']\n",
      "All unique descriptions for planter_seed_drop: ['Number of seeds dropped per planted length of subplot row during planting']\n",
      "All unique descriptions for roll: ['The angle that the handheld instrument is held along the long axis']\n",
      "All unique descriptions for PhiNO: ['Chlorophyll fluorescence-derived photosynthesis parameter, ratio of incoming light lost via non-regulated processes']\n",
      "All unique descriptions for PhiNPQ: ['Chlorophyll fluorescence-derived photosynthesis parameter, ratio of incoming light that goes towards non-photochemical quenching']\n",
      "All unique descriptions for absorbance_530: ['Absorbance at 530 nm']\n",
      "All unique descriptions for absorbance_605: ['Absorbance at 605 nm']\n",
      "All unique descriptions for absorbance_730: ['Absorbance at 730 nm']\n",
      "All unique descriptions for absorbance_880: ['Absorbance at 880 nm']\n",
      "All unique descriptions for absorbance_940: ['Absorbance at 940 nm']\n",
      "All unique descriptions for Fs: ['Photosynthesis-related parameter describing variable fluorescence at steady-state conditions']\n",
      "All unique descriptions for NPQt: ['Photosynthesis-related parameter, estimate of non-photochemical quenching']\n",
      "All unique descriptions for qL: ['Photosynthesis-related parameter, estimate of the fraction of Photosystem II centers that are in the open state']\n",
      "All unique descriptions for qP: ['Photosynthesis-related parameter, a photochemical quenching coefficient']\n",
      "All unique descriptions for RFd: ['Chlorophyll fluorescence decrease ratio, photosynthesis parameter described as an index of vitality']\n",
      "All unique descriptions for SPAD_530: ['Relative measure of leaf greenness, based on absorbance at 530 nm']\n",
      "All unique descriptions for SPAD_605: ['Relative measure of leaf greenness, based on absorbance at 605 nm']\n",
      "All unique descriptions for SPAD_730: ['Relative measure of leaf greenness, based on absorbance at 730 nm']\n",
      "All unique descriptions for leaf_thickness: ['Leaf thickness estimate']\n",
      "All unique descriptions for ambient_humidity: ['Ambient relative humidity near the plant canopy']\n",
      "All unique descriptions for leaf_angle_clamp_position: ['Angle of the leaf at the position where the handheld clamp is placed for measurements']\n",
      "All unique descriptions for pitch: ['The angle that the handheld instrument is held along the short axis']\n",
      "All unique descriptions for proximal_air_temperature: ['Air temperature measured by handheld sensor near the leaf surface and proximal to the plant canopy']\n",
      "All unique descriptions for FvP/FmP: ['Fluorescence parameter associated with Photosystem II operating efficiency']\n",
      "All unique descriptions for gH+: ['Photosynthesis-related parameter describing proton motive force and activity of ATP synthase']\n",
      "All unique descriptions for ECSt: ['Electrochromic shift: a photosynthesis-related parameter describing proton motive force']\n",
      "All unique descriptions for leaf_temperature_differential: ['Difference between the leaf temperature and the ambient air temperature']\n",
      "All unique descriptions for Phi2: ['Chlorophyll fluorescence-derived photosynthesis parameter related to quantum yield of Photosystem II']\n",
      "All unique descriptions for relative_chlorophyll: ['Relative value describing the concentration of chlorophyll in the leaf, ranges from 0 to 80']\n",
      "All unique descriptions for FmPrime: ['Photosynthesis-related parameter describing maximum variable fluorescence at steady-state conditions']\n",
      "All unique descriptions for FoPrime: ['Photosynthesis-related parameter describing minimum variable fluorescence during dark phase after steady-state']\n",
      "All unique descriptions for LEF: ['Linear electronic flux: total flow of electrons from antennae complexes into Photosystem II']\n",
      "All unique descriptions for SPAD_420: ['Relative measure of leaf greenness, based on absorbance at 420 nm']\n",
      "All unique descriptions for SPAD_650: ['Relative measure of leaf greenness, based on absorbance at 650 nm']\n",
      "All unique descriptions for SPAD_850: ['Relative measure of leaf greenness, based on absorbance at 850 nm']\n",
      "All unique descriptions for SPAD_880: ['Relative measure of leaf greenness, based on absorbance at 880 nm']\n",
      "All unique descriptions for light_intensity_PAR: ['Photosynthetically active radiation. Fraction of incoming light (400 - 700 nm) which can be intercepted by leaf']\n",
      "All unique descriptions for vH+: ['Rate of flux describing max rate of protons exiting the ATP synthase, a photosynthesis-related parameter describing proton motive force']\n",
      "All unique descriptions for absorbance_650: ['Absorbance at 650 nm']\n",
      "All unique descriptions for absorbance_850: ['Absorbance at 850 nm']\n",
      "All unique descriptions for absorbance_420: ['Absorbance at 420 nm']\n",
      "All unique descriptions for surface_temperature: ['Surface temperature']\n",
      "All unique descriptions for leaf_angle_chi: [nan]\n",
      "All unique descriptions for leaf_angle_mean: [nan]\n",
      "All unique descriptions for leaf_angle_alpha: [nan]\n",
      "All unique descriptions for leaf_angle_beta: [nan]\n",
      "All unique descriptions for aboveground_dry_biomass: ['Aboveground Dry Biomass']\n",
      "All unique descriptions for seedling_emergence_rate: ['Seedling emergence rate']\n",
      "All unique descriptions for panicle_height: ['height to top of panicle']\n",
      "All unique descriptions for stand_count: ['Number of plants per subplot or plot, counted after thinning']\n",
      "All unique descriptions for dry_matter_fraction: ['Ratio of dry weight to fresh weight']\n",
      "All unique descriptions for harvest_lodging_rating: ['Categorical rating of lodging severity at harvest. 0 = none; 1 = light to moderate lodging; 2 = severe lodging']\n",
      "All unique descriptions for canopy_height: ['top of the general canopy of the plant, discounting any exceptional branches, leaves or photosynthetic portions of the inflorescence.']\n",
      "All unique descriptions for anthocyanin_index: ['Anthocyanin content in the leaf epidermis, expressed as a relative index [Log(NIR fluo. excited red/NIR fluo. excited green)]']\n",
      "All unique descriptions for chlorophyll_index: ['Leaf chlorophyll content, expressed as a relative index [(NIR trans. - Red trans.)/Red trans.]']\n",
      "All unique descriptions for flag_leaf_emergence_time: ['Number days from sowing to the date when 50% of the plants in a plot have reached flag leaf emergence (ligulation) stage. Flag leaf is the last leaf to emerge from the whorl, positioned directly below the panicle.']\n",
      "All unique descriptions for flowering_time: ['Number of days from sowing to the date when 50% of the plants in a plot reach flowering (anthesis), defined as the time when 50% of the anthers on 50% of the plants in a plot have emerged.']\n",
      "All unique descriptions for grain_stage_time: ['Number of days from sowing to the date when grain development was observed in approximately 50% of the plants within a plot']\n",
      "All unique descriptions for leaf_length: ['Length of leaf from tip to stem along the midrib.']\n",
      "All unique descriptions for leaf_width: ['width of leaf at widest point along leaf']\n",
      "All unique descriptions for leaf_stomatal_conductance: ['Stomatal conductance is a function of the density, size, and open versus closed status of stomatal pores in the leaf.']\n",
      "All unique descriptions for aboveground_biomass_moisture: ['Whole above ground biomass moisture content']\n",
      "All unique descriptions for aboveground_fresh_biomass: ['Fresh Biomass']\n",
      "All unique descriptions for canopy_cover: ['Fraction of ground covered by plant']\n",
      "All unique descriptions for panicle_count: [nan]\n",
      "All unique descriptions for panicle_volume: [nan]\n",
      "All unique descriptions for panicle_surface_area: [nan]\n",
      "All unique descriptions for stem_elongated_internodes_number: ['Sorghum Crop Ontology Identifier CO_324:0000235. Number of elongated internodes on the main stem.']\n",
      "All unique descriptions for emergence_count: ['number of plants counted within plot or subplot during emergence. Sorghum Crop Ontology Identifier CO_324:0000486 http://www.cropontology.org/terms/CO_324:0000486/Plant%20number%20-%20Counting/static-html?language=english']\n",
      "All unique descriptions for stalk_diameter_fixed_height: ['Diameter of the stalk in the internodal area nearest to the given measurement height']\n",
      "All unique descriptions for stalk_diameter_minor_axis: ['Diameter of the thinnest axis of the stalk in the internodal area below the most recent fully developed leaf, including the true stem and leaf sheath']\n",
      "All unique descriptions for stalk_diameter_major_axis: ['Diameter of the widest axis of the stalk in the internodal area below the most recent fully developed leaf, including the true stem and leaf sheath']\n",
      "All unique descriptions for plant_basal_tiller_number: ['Sorghum Crop Ontology Identifier CO_324:0000040. Number of basal tillers.']\n"
     ]
    }
   ],
   "source": [
    "for trait in unique_traits:\n",
    "    \n",
    "    print(f'All unique descriptions for {trait}: {df.loc[df.trait == trait].trait_description.unique()}')"
   ]
  },
  {
   "cell_type": "markdown",
   "metadata": {},
   "source": [
    "#### Find all trait descriptions containing ontology identifiers\n",
    "* Search for string values containing `CO_`"
   ]
  },
  {
   "cell_type": "code",
   "execution_count": 20,
   "metadata": {},
   "outputs": [
    {
     "name": "stdout",
     "output_type": "stream",
     "text": [
      "Traits with ontology identifiers in trait description: ['lodging_present' 'stem_elongated_internodes_number' 'emergence_count'\n",
      " 'plant_basal_tiller_number']\n"
     ]
    }
   ],
   "source": [
    "ontology_identifiers = df.loc[df.trait_description.str.contains('CO_') == True]\n",
    "print(f'Traits with ontology identifiers in trait description: {ontology_identifiers.trait.unique()}')"
   ]
  },
  {
   "cell_type": "markdown",
   "metadata": {},
   "source": [
    "### III. Units"
   ]
  },
  {
   "cell_type": "code",
   "execution_count": 12,
   "metadata": {},
   "outputs": [
    {
     "name": "stdout",
     "output_type": "stream",
     "text": [
      "All unique units for leaf_desiccation_present: [nan]\n",
      "All unique units for lodging_present: ['binary']\n",
      "All unique units for leaf_temperature: ['K']\n",
      "All unique units for planter_seed_drop: ['count']\n",
      "All unique units for roll: [nan]\n",
      "All unique units for PhiNO: [nan]\n",
      "All unique units for PhiNPQ: [nan]\n",
      "All unique units for absorbance_530: ['arbitrary absorbance units']\n",
      "All unique units for absorbance_605: ['arbitrary absorbance units']\n",
      "All unique units for absorbance_730: ['arbitrary absorbance units']\n",
      "All unique units for absorbance_880: ['arbitrary absorbance units']\n",
      "All unique units for absorbance_940: ['arbitrary absorbance units']\n",
      "All unique units for Fs: [nan]\n",
      "All unique units for NPQt: [nan]\n",
      "All unique units for qL: [nan]\n",
      "All unique units for qP: [nan]\n",
      "All unique units for RFd: ['ratio']\n",
      "All unique units for SPAD_530: [nan]\n",
      "All unique units for SPAD_605: [nan]\n",
      "All unique units for SPAD_730: [nan]\n",
      "All unique units for leaf_thickness: ['mm']\n",
      "All unique units for ambient_humidity: ['%']\n",
      "All unique units for leaf_angle_clamp_position: [nan]\n",
      "All unique units for pitch: [nan]\n",
      "All unique units for proximal_air_temperature: ['C']\n",
      "All unique units for FvP/FmP: [nan]\n",
      "All unique units for gH+: [nan]\n",
      "All unique units for ECSt: [nan]\n",
      "All unique units for leaf_temperature_differential: ['C']\n",
      "All unique units for Phi2: [nan]\n",
      "All unique units for relative_chlorophyll: [nan]\n",
      "All unique units for FmPrime: [nan]\n",
      "All unique units for FoPrime: [nan]\n",
      "All unique units for LEF: ['µmol electrons m-1 s-1']\n",
      "All unique units for SPAD_420: [nan]\n",
      "All unique units for SPAD_650: [nan]\n",
      "All unique units for SPAD_850: [nan]\n",
      "All unique units for SPAD_880: [nan]\n",
      "All unique units for light_intensity_PAR: [nan]\n",
      "All unique units for vH+: [nan]\n",
      "All unique units for absorbance_650: ['arbitrary absorbance units']\n",
      "All unique units for absorbance_850: ['%']\n",
      "All unique units for absorbance_420: ['arbitrary absorbance units']\n",
      "All unique units for surface_temperature: ['C']\n",
      "All unique units for leaf_angle_chi: [nan]\n",
      "All unique units for leaf_angle_mean: ['normalized degrees']\n",
      "All unique units for leaf_angle_alpha: [nan]\n",
      "All unique units for leaf_angle_beta: [nan]\n",
      "All unique units for aboveground_dry_biomass: ['kg / ha']\n",
      "All unique units for seedling_emergence_rate: ['ratio']\n",
      "All unique units for panicle_height: ['cm']\n",
      "All unique units for stand_count: ['count']\n",
      "All unique units for dry_matter_fraction: ['ratio']\n",
      "All unique units for harvest_lodging_rating: [nan]\n",
      "All unique units for canopy_height: ['cm']\n",
      "All unique units for anthocyanin_index: ['ratio']\n",
      "All unique units for chlorophyll_index: ['ratio']\n",
      "All unique units for flag_leaf_emergence_time: ['days']\n",
      "All unique units for flowering_time: ['days']\n",
      "All unique units for grain_stage_time: ['days']\n",
      "All unique units for leaf_length: ['mm']\n",
      "All unique units for leaf_width: ['mm']\n",
      "All unique units for leaf_stomatal_conductance: ['mmol/(m² s)']\n",
      "All unique units for aboveground_biomass_moisture: ['%']\n",
      "All unique units for aboveground_fresh_biomass: ['kg / ha']\n",
      "All unique units for canopy_cover: ['%']\n",
      "All unique units for panicle_count: ['count']\n",
      "All unique units for panicle_volume: ['mm3']\n",
      "All unique units for panicle_surface_area: ['mm2']\n",
      "All unique units for stem_elongated_internodes_number: [nan]\n",
      "All unique units for emergence_count: [nan]\n",
      "All unique units for stalk_diameter_fixed_height: ['mm']\n",
      "All unique units for stalk_diameter_minor_axis: ['mm']\n",
      "All unique units for stalk_diameter_major_axis: ['mm']\n",
      "All unique units for plant_basal_tiller_number: [nan]\n"
     ]
    }
   ],
   "source": [
    "for trait in unique_traits:\n",
    "    \n",
    "    print(f'All unique units for {trait}: {df.loc[df.trait == trait].units.unique()}')"
   ]
  },
  {
   "cell_type": "markdown",
   "metadata": {},
   "source": [
    "#### Example exploration code for null values\n",
    "* View one complete row for more information"
   ]
  },
  {
   "cell_type": "code",
   "execution_count": 14,
   "metadata": {},
   "outputs": [
    {
     "data": {
      "text/plain": [
       "Unnamed: 0                                                           1\n",
       "checked                                                              0\n",
       "result_type                                                     traits\n",
       "id                                                          6001958927\n",
       "citation_id                                                      6e+09\n",
       "site_id                                                     6000005673\n",
       "treatment_id                                                     6e+09\n",
       "sitename                  MAC Field Scanner Season 4 Range 11 Column 5\n",
       "city                                                          Maricopa\n",
       "lat                                                            33.0749\n",
       "lon                                                           -111.975\n",
       "scientificname                                         Sorghum bicolor\n",
       "commonname                                                     sorghum\n",
       "genus                                                          Sorghum\n",
       "species_id                                                        2588\n",
       "cultivar_id                                                 6000000730\n",
       "author                                                  Newcomb, Maria\n",
       "citation_year                                                     2017\n",
       "treatment                      BAP 2017, water-deficit stress Aug 1-14\n",
       "date                                     2017 Jun 14 (America/Phoenix)\n",
       "time                                     [time unspecified or unknown]\n",
       "raw_date                                     2017-06-15 00:00:00 -0500\n",
       "month                                                                6\n",
       "year                                                              2017\n",
       "dateloc                                                              5\n",
       "trait                                         leaf_desiccation_present\n",
       "trait_description    Presence or absence of leaves showing desiccat...\n",
       "mean                                                                 0\n",
       "units                                                              NaN\n",
       "n                                                                  NaN\n",
       "statname                                                           NaN\n",
       "stat                                                               NaN\n",
       "notes                                                              NaN\n",
       "access_level                                                         2\n",
       "cultivar                                                      PI181083\n",
       "entity                                                             NaN\n",
       "method_name                      Visual assessment of leaf dessication\n",
       "view_url             https://terraref.ncsa.illinois.edu/bety/traits...\n",
       "edit_url             https://terraref.ncsa.illinois.edu/bety/traits...\n",
       "Name: 0, dtype: object"
      ]
     },
     "execution_count": 14,
     "metadata": {},
     "output_type": "execute_result"
    }
   ],
   "source": [
    "df.loc[df.trait == 'leaf_desiccation_present'].iloc[0]"
   ]
  },
  {
   "cell_type": "markdown",
   "metadata": {},
   "source": [
    "### IV. Method Name\n",
    "* `canopy_height` is the only trait with more than method"
   ]
  },
  {
   "cell_type": "code",
   "execution_count": 21,
   "metadata": {},
   "outputs": [
    {
     "name": "stdout",
     "output_type": "stream",
     "text": [
      "All unique method names for leaf_desiccation_present: ['Visual assessment of leaf dessication']\n",
      "All unique method names for lodging_present: ['Plant lodging incidence - Presence estimation']\n",
      "All unique method names for leaf_temperature: ['temperature of sunlit leaf with [instrument name]']\n",
      "All unique method names for planter_seed_drop: ['Planter seed drop count']\n",
      "All unique method names for roll: ['MultispeQ v1.0 field measurements of fluorescence-based and absorbance-based parameters']\n",
      "All unique method names for PhiNO: ['MultispeQ v1.0 field measurements of fluorescence-based and absorbance-based parameters']\n",
      "All unique method names for PhiNPQ: ['MultispeQ v1.0 field measurements of fluorescence-based and absorbance-based parameters']\n",
      "All unique method names for absorbance_530: ['MultispeQ v1.0 field measurements of fluorescence-based and absorbance-based parameters']\n",
      "All unique method names for absorbance_605: ['MultispeQ v1.0 field measurements of fluorescence-based and absorbance-based parameters']\n",
      "All unique method names for absorbance_730: ['MultispeQ v1.0 field measurements of fluorescence-based and absorbance-based parameters']\n",
      "All unique method names for absorbance_880: ['MultispeQ v1.0 field measurements of fluorescence-based and absorbance-based parameters']\n",
      "All unique method names for absorbance_940: ['MultispeQ v1.0 field measurements of fluorescence-based and absorbance-based parameters']\n",
      "All unique method names for Fs: ['MultispeQ v1.0 field measurements of fluorescence-based and absorbance-based parameters']\n",
      "All unique method names for NPQt: ['MultispeQ v1.0 field measurements of fluorescence-based and absorbance-based parameters']\n",
      "All unique method names for qL: ['MultispeQ v1.0 field measurements of fluorescence-based and absorbance-based parameters']\n",
      "All unique method names for qP: ['MultispeQ v1.0 field measurements of fluorescence-based and absorbance-based parameters']\n",
      "All unique method names for RFd: ['MultispeQ v1.0 field measurements of fluorescence-based and absorbance-based parameters']\n",
      "All unique method names for SPAD_530: ['MultispeQ v1.0 field measurements of fluorescence-based and absorbance-based parameters']\n",
      "All unique method names for SPAD_605: ['MultispeQ v1.0 field measurements of fluorescence-based and absorbance-based parameters']\n",
      "All unique method names for SPAD_730: ['MultispeQ v1.0 field measurements of fluorescence-based and absorbance-based parameters']\n",
      "All unique method names for leaf_thickness: ['MultispeQ v1.0 field measurements of fluorescence-based and absorbance-based parameters']\n",
      "All unique method names for ambient_humidity: ['MultispeQ v1.0 field measurements of fluorescence-based and absorbance-based parameters']\n",
      "All unique method names for leaf_angle_clamp_position: ['MultispeQ v1.0 field measurements of fluorescence-based and absorbance-based parameters']\n",
      "All unique method names for pitch: ['MultispeQ v1.0 field measurements of fluorescence-based and absorbance-based parameters']\n",
      "All unique method names for proximal_air_temperature: ['MultispeQ v1.0 field measurements of fluorescence-based and absorbance-based parameters']\n",
      "All unique method names for FvP/FmP: ['MultispeQ v1.0 field measurements of fluorescence-based and absorbance-based parameters']\n",
      "All unique method names for gH+: ['MultispeQ v1.0 field measurements of fluorescence-based and absorbance-based parameters']\n",
      "All unique method names for ECSt: ['MultispeQ v1.0 field measurements of fluorescence-based and absorbance-based parameters']\n",
      "All unique method names for leaf_temperature_differential: ['MultispeQ v1.0 field measurements of fluorescence-based and absorbance-based parameters']\n",
      "All unique method names for Phi2: ['MultispeQ v1.0 field measurements of fluorescence-based and absorbance-based parameters']\n",
      "All unique method names for relative_chlorophyll: ['MultispeQ v1.0 field measurements of fluorescence-based and absorbance-based parameters']\n",
      "All unique method names for FmPrime: ['MultispeQ v1.0 field measurements of fluorescence-based and absorbance-based parameters']\n",
      "All unique method names for FoPrime: ['MultispeQ v1.0 field measurements of fluorescence-based and absorbance-based parameters']\n",
      "All unique method names for LEF: ['MultispeQ v1.0 field measurements of fluorescence-based and absorbance-based parameters']\n",
      "All unique method names for SPAD_420: ['MultispeQ v1.0 field measurements of fluorescence-based and absorbance-based parameters']\n",
      "All unique method names for SPAD_650: ['MultispeQ v1.0 field measurements of fluorescence-based and absorbance-based parameters']\n",
      "All unique method names for SPAD_850: ['MultispeQ v1.0 field measurements of fluorescence-based and absorbance-based parameters']\n",
      "All unique method names for SPAD_880: ['MultispeQ v1.0 field measurements of fluorescence-based and absorbance-based parameters']\n",
      "All unique method names for light_intensity_PAR: ['MultispeQ v1.0 field measurements of fluorescence-based and absorbance-based parameters']\n",
      "All unique method names for vH+: ['MultispeQ v1.0 field measurements of fluorescence-based and absorbance-based parameters']\n",
      "All unique method names for absorbance_650: ['MultispeQ v1.0 field measurements of fluorescence-based and absorbance-based parameters']\n",
      "All unique method names for absorbance_850: ['MultispeQ v1.0 field measurements of fluorescence-based and absorbance-based parameters']\n",
      "All unique method names for absorbance_420: ['MultispeQ v1.0 field measurements of fluorescence-based and absorbance-based parameters']\n",
      "All unique method names for surface_temperature: ['Mean temperature from infrared images']\n",
      "All unique method names for leaf_angle_chi: ['3D scanner to leaf angle distribution']\n",
      "All unique method names for leaf_angle_mean: ['3D scanner to leaf angle distribution']\n",
      "All unique method names for leaf_angle_alpha: ['3D scanner to leaf angle distribution']\n",
      "All unique method names for leaf_angle_beta: ['3D scanner to leaf angle distribution']\n",
      "All unique method names for aboveground_dry_biomass: ['Whole above ground biomass at harvest']\n",
      "All unique method names for seedling_emergence_rate: ['Seedling emergence rate count']\n",
      "All unique method names for panicle_height: ['Panicle height measurement']\n",
      "All unique method names for stand_count: ['Seedling number - Counting']\n",
      "All unique method names for dry_matter_fraction: ['Biomass oven drying']\n",
      "All unique method names for harvest_lodging_rating: ['Visual assessment of lodging at harvest on scale of 0, 1, or 2.']\n",
      "All unique method names for canopy_height: ['Manual canopy height' '3D scanner to 98th quantile height']\n",
      "All unique method names for anthocyanin_index: ['Leaf polyphenolics and chlorophyll measurements: Dualex Scientific+ leaf-clip handheld optical meter']\n",
      "All unique method names for chlorophyll_index: ['Leaf polyphenolics and chlorophyll measurements: Dualex Scientific+ leaf-clip handheld optical meter']\n",
      "All unique method names for flag_leaf_emergence_time: ['Visual classification of sorghum growth stages to determine estimates of developmental timing']\n",
      "All unique method names for flowering_time: ['Visual classification of sorghum growth stages to determine estimates of developmental timing']\n",
      "All unique method names for grain_stage_time: ['Visual classification of sorghum growth stages to determine estimates of developmental timing']\n",
      "All unique method names for leaf_length: ['MAC leaf length measurement']\n",
      "All unique method names for leaf_width: ['MAC leaf width measurement']\n",
      "All unique method names for leaf_stomatal_conductance: ['Leaf surface temperature and stomatal conductance estimates using hand-held instruments']\n",
      "All unique method names for aboveground_biomass_moisture: ['Whole above ground biomass moisture content']\n",
      "All unique method names for aboveground_fresh_biomass: ['Aboveground fresh biomass at harvest']\n",
      "All unique method names for canopy_cover: ['Canopy cover estimation from ground-based conventional photographs']\n",
      "All unique method names for panicle_count: ['3D scanner to panicle count faster_rcnn + roughness threshold + convex hull']\n",
      "All unique method names for panicle_volume: ['3D scanner to panicle count faster_rcnn + roughness threshold + convex hull']\n",
      "All unique method names for panicle_surface_area: ['3D scanner to panicle count faster_rcnn + roughness threshold + convex hull']\n",
      "All unique method names for stem_elongated_internodes_number: ['Stem elongated internodes and basal tillers counts - visual repeat measures on marked plants']\n",
      "All unique method names for emergence_count: ['plant emergence counts']\n",
      "All unique method names for stalk_diameter_fixed_height: ['Stalk diameter measurement']\n",
      "All unique method names for stalk_diameter_minor_axis: ['Stalk diameter measurement']\n",
      "All unique method names for stalk_diameter_major_axis: ['Stalk diameter measurement']\n",
      "All unique method names for plant_basal_tiller_number: ['Plant basal tiller number - Counting']\n"
     ]
    }
   ],
   "source": [
    "for trait in unique_traits:\n",
    "    \n",
    "    print(f'All unique method names for {trait}: {df.loc[df.trait == trait].method_name.unique()}')"
   ]
  }
 ],
 "metadata": {
  "kernelspec": {
   "display_name": "Python 3",
   "language": "python",
   "name": "python3"
  },
  "language_info": {
   "codemirror_mode": {
    "name": "ipython",
    "version": 3
   },
   "file_extension": ".py",
   "mimetype": "text/x-python",
   "name": "python",
   "nbconvert_exporter": "python",
   "pygments_lexer": "ipython3",
   "version": "3.6.8"
  }
 },
 "nbformat": 4,
 "nbformat_minor": 2
}
