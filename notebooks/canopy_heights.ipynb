{
 "cells": [
  {
   "cell_type": "markdown",
   "metadata": {},
   "source": [
    "### Transforming Canopy Heights\n",
    "* Separating this for now from the other transformations due to the different methods of data collection for this trait\n",
    "* Need tests to ensure the correct transformations\n",
    "\n",
    "### Questions\n",
    "* What is access level?"
   ]
  },
  {
   "cell_type": "code",
   "execution_count": 1,
   "metadata": {},
   "outputs": [],
   "source": [
    "import datetime\n",
    "import pandas as pd\n",
    "import numpy as np\n",
    "import sqlite3\n",
    "\n",
    "import matplotlib.pyplot as plt\n",
    "%matplotlib inline"
   ]
  },
  {
   "cell_type": "code",
   "execution_count": 2,
   "metadata": {},
   "outputs": [
    {
     "name": "stderr",
     "output_type": "stream",
     "text": [
      "/anaconda3/lib/python3.6/site-packages/IPython/core/interactiveshell.py:3020: DtypeWarning: Columns (18,26,32,35) have mixed types. Specify dtype option on import or set low_memory=False.\n",
      "  interactivity=interactivity, compiler=compiler, result=result)\n"
     ]
    }
   ],
   "source": [
    "df_0 = pd.read_csv('../data/raw/mac_season_4.csv')\n",
    "# df_0.head()"
   ]
  },
  {
   "cell_type": "code",
   "execution_count": 3,
   "metadata": {},
   "outputs": [],
   "source": [
    "# for col in df_0.columns.values:\n",
    "#     print(f'Number of unique variables in {col}: {df_0[col].nunique()}')"
   ]
  },
  {
   "cell_type": "code",
   "execution_count": 4,
   "metadata": {},
   "outputs": [],
   "source": [
    "# df_0.columns"
   ]
  },
  {
   "cell_type": "code",
   "execution_count": 5,
   "metadata": {},
   "outputs": [],
   "source": [
    "cols_to_keep = ['result_type', 'id', 'site_id', 'sitename', 'lat', 'lon', 'cultivar_id', 'author', \n",
    "                'date', 'time', 'raw_date', 'trait', 'trait_description', 'mean', 'units', 'notes', \n",
    "                'access_level', 'cultivar', 'entity', 'method_name']"
   ]
  },
  {
   "cell_type": "code",
   "execution_count": 6,
   "metadata": {},
   "outputs": [
    {
     "data": {
      "text/plain": [
       "['Unnamed: 0',\n",
       " 'checked',\n",
       " 'citation_id',\n",
       " 'treatment_id',\n",
       " 'city',\n",
       " 'scientificname',\n",
       " 'commonname',\n",
       " 'genus',\n",
       " 'species_id',\n",
       " 'citation_year',\n",
       " 'treatment',\n",
       " 'month',\n",
       " 'year',\n",
       " 'dateloc',\n",
       " 'n',\n",
       " 'statname',\n",
       " 'stat',\n",
       " 'view_url',\n",
       " 'edit_url']"
      ]
     },
     "execution_count": 6,
     "metadata": {},
     "output_type": "execute_result"
    }
   ],
   "source": [
    "cols_to_drop = []\n",
    "\n",
    "for col in df_0.columns.values:\n",
    "    \n",
    "    if col not in cols_to_keep:\n",
    "        cols_to_drop.append(col)\n",
    "\n",
    "cols_to_drop"
   ]
  },
  {
   "cell_type": "code",
   "execution_count": 7,
   "metadata": {},
   "outputs": [],
   "source": [
    "df_1 = df_0.drop(labels=cols_to_drop, axis=1)\n",
    "# df_1.head()"
   ]
  },
  {
   "cell_type": "markdown",
   "metadata": {},
   "source": [
    "#### Slice dataset where `trait` == `canopy_height`"
   ]
  },
  {
   "cell_type": "code",
   "execution_count": 8,
   "metadata": {},
   "outputs": [],
   "source": [
    "df_2 = df_1.loc[df_1.trait == 'canopy_height']\n",
    "# df_2.head()"
   ]
  },
  {
   "cell_type": "code",
   "execution_count": 9,
   "metadata": {},
   "outputs": [],
   "source": [
    "# df_2.shape"
   ]
  },
  {
   "cell_type": "code",
   "execution_count": 10,
   "metadata": {},
   "outputs": [],
   "source": [
    "# df_2.entity.unique()"
   ]
  },
  {
   "cell_type": "code",
   "execution_count": 12,
   "metadata": {},
   "outputs": [
    {
     "data": {
      "text/plain": [
       "array([nan], dtype=object)"
      ]
     },
     "execution_count": 12,
     "metadata": {},
     "output_type": "execute_result"
    }
   ],
   "source": [
    "# df_2.notes.unique()"
   ]
  },
  {
   "cell_type": "markdown",
   "metadata": {},
   "source": [
    "#### Non-null `entity` and `notes` values are not associated with `canopy_height` so can be dropped "
   ]
  },
  {
   "cell_type": "code",
   "execution_count": 14,
   "metadata": {},
   "outputs": [
    {
     "data": {
      "text/html": [
       "<div>\n",
       "<style scoped>\n",
       "    .dataframe tbody tr th:only-of-type {\n",
       "        vertical-align: middle;\n",
       "    }\n",
       "\n",
       "    .dataframe tbody tr th {\n",
       "        vertical-align: top;\n",
       "    }\n",
       "\n",
       "    .dataframe thead th {\n",
       "        text-align: right;\n",
       "    }\n",
       "</style>\n",
       "<table border=\"1\" class=\"dataframe\">\n",
       "  <thead>\n",
       "    <tr style=\"text-align: right;\">\n",
       "      <th></th>\n",
       "      <th>result_type</th>\n",
       "      <th>id</th>\n",
       "      <th>site_id</th>\n",
       "      <th>sitename</th>\n",
       "      <th>lat</th>\n",
       "      <th>lon</th>\n",
       "      <th>cultivar_id</th>\n",
       "      <th>author</th>\n",
       "      <th>date</th>\n",
       "      <th>time</th>\n",
       "      <th>raw_date</th>\n",
       "      <th>trait</th>\n",
       "      <th>trait_description</th>\n",
       "      <th>mean</th>\n",
       "      <th>units</th>\n",
       "      <th>access_level</th>\n",
       "      <th>cultivar</th>\n",
       "      <th>method_name</th>\n",
       "    </tr>\n",
       "  </thead>\n",
       "  <tbody>\n",
       "    <tr>\n",
       "      <th>51339</th>\n",
       "      <td>traits</td>\n",
       "      <td>6001943979</td>\n",
       "      <td>6000007888</td>\n",
       "      <td>MAC Field Scanner Season 4 Range 30 Column 9 E</td>\n",
       "      <td>33.075590</td>\n",
       "      <td>-111.974913</td>\n",
       "      <td>6000000788</td>\n",
       "      <td>Newcomb, Maria</td>\n",
       "      <td>2017 Jun 19 (America/Phoenix)</td>\n",
       "      <td>[time unspecified or unknown]</td>\n",
       "      <td>2017-06-20 00:00:00 -0500</td>\n",
       "      <td>canopy_height</td>\n",
       "      <td>top of the general canopy of the plant, discou...</td>\n",
       "      <td>91.0</td>\n",
       "      <td>cm</td>\n",
       "      <td>4</td>\n",
       "      <td>PI329518</td>\n",
       "      <td>Manual canopy height</td>\n",
       "    </tr>\n",
       "    <tr>\n",
       "      <th>51340</th>\n",
       "      <td>traits</td>\n",
       "      <td>6001942254</td>\n",
       "      <td>6000007579</td>\n",
       "      <td>MAC Field Scanner Season 4 Range 20 Column 15 W</td>\n",
       "      <td>33.075231</td>\n",
       "      <td>-111.974823</td>\n",
       "      <td>6000000687</td>\n",
       "      <td>Newcomb, Maria</td>\n",
       "      <td>2017 Jun 4 (America/Phoenix)</td>\n",
       "      <td>[time unspecified or unknown]</td>\n",
       "      <td>2017-06-05 00:00:00 -0500</td>\n",
       "      <td>canopy_height</td>\n",
       "      <td>top of the general canopy of the plant, discou...</td>\n",
       "      <td>99.0</td>\n",
       "      <td>cm</td>\n",
       "      <td>4</td>\n",
       "      <td>PI152828</td>\n",
       "      <td>Manual canopy height</td>\n",
       "    </tr>\n",
       "    <tr>\n",
       "      <th>51341</th>\n",
       "      <td>traits</td>\n",
       "      <td>6001940853</td>\n",
       "      <td>6000007579</td>\n",
       "      <td>MAC Field Scanner Season 4 Range 20 Column 15 W</td>\n",
       "      <td>33.075231</td>\n",
       "      <td>-111.974823</td>\n",
       "      <td>6000000687</td>\n",
       "      <td>Newcomb, Maria</td>\n",
       "      <td>2017 May 29 (America/Phoenix)</td>\n",
       "      <td>[time unspecified or unknown]</td>\n",
       "      <td>2017-05-30 00:00:00 -0500</td>\n",
       "      <td>canopy_height</td>\n",
       "      <td>top of the general canopy of the plant, discou...</td>\n",
       "      <td>63.0</td>\n",
       "      <td>cm</td>\n",
       "      <td>4</td>\n",
       "      <td>PI152828</td>\n",
       "      <td>Manual canopy height</td>\n",
       "    </tr>\n",
       "    <tr>\n",
       "      <th>75000</th>\n",
       "      <td>traits</td>\n",
       "      <td>6004768603</td>\n",
       "      <td>6000005801</td>\n",
       "      <td>MAC Field Scanner Season 4 Range 35 Column 14</td>\n",
       "      <td>33.075770</td>\n",
       "      <td>-111.974835</td>\n",
       "      <td>6000000989</td>\n",
       "      <td>Zongyang, Li</td>\n",
       "      <td>2017 May 20</td>\n",
       "      <td>12:00:00 (America/Phoenix)</td>\n",
       "      <td>2017-05-20 14:00:00 -0500</td>\n",
       "      <td>canopy_height</td>\n",
       "      <td>top of the general canopy of the plant, discou...</td>\n",
       "      <td>22.0</td>\n",
       "      <td>cm</td>\n",
       "      <td>2</td>\n",
       "      <td>PI619838</td>\n",
       "      <td>3D scanner to 98th quantile height</td>\n",
       "    </tr>\n",
       "    <tr>\n",
       "      <th>75001</th>\n",
       "      <td>traits</td>\n",
       "      <td>6004768605</td>\n",
       "      <td>6000005295</td>\n",
       "      <td>MAC Field Scanner Season 4 Range 36 Column 2</td>\n",
       "      <td>33.075806</td>\n",
       "      <td>-111.975032</td>\n",
       "      <td>6000000707</td>\n",
       "      <td>Zongyang, Li</td>\n",
       "      <td>2017 May 20</td>\n",
       "      <td>12:00:00 (America/Phoenix)</td>\n",
       "      <td>2017-05-20 14:00:00 -0500</td>\n",
       "      <td>canopy_height</td>\n",
       "      <td>top of the general canopy of the plant, discou...</td>\n",
       "      <td>26.0</td>\n",
       "      <td>cm</td>\n",
       "      <td>2</td>\n",
       "      <td>PI155885</td>\n",
       "      <td>3D scanner to 98th quantile height</td>\n",
       "    </tr>\n",
       "  </tbody>\n",
       "</table>\n",
       "</div>"
      ],
      "text/plain": [
       "      result_type          id     site_id  \\\n",
       "51339      traits  6001943979  6000007888   \n",
       "51340      traits  6001942254  6000007579   \n",
       "51341      traits  6001940853  6000007579   \n",
       "75000      traits  6004768603  6000005801   \n",
       "75001      traits  6004768605  6000005295   \n",
       "\n",
       "                                              sitename        lat         lon  \\\n",
       "51339   MAC Field Scanner Season 4 Range 30 Column 9 E  33.075590 -111.974913   \n",
       "51340  MAC Field Scanner Season 4 Range 20 Column 15 W  33.075231 -111.974823   \n",
       "51341  MAC Field Scanner Season 4 Range 20 Column 15 W  33.075231 -111.974823   \n",
       "75000    MAC Field Scanner Season 4 Range 35 Column 14  33.075770 -111.974835   \n",
       "75001     MAC Field Scanner Season 4 Range 36 Column 2  33.075806 -111.975032   \n",
       "\n",
       "       cultivar_id          author                           date  \\\n",
       "51339   6000000788  Newcomb, Maria  2017 Jun 19 (America/Phoenix)   \n",
       "51340   6000000687  Newcomb, Maria   2017 Jun 4 (America/Phoenix)   \n",
       "51341   6000000687  Newcomb, Maria  2017 May 29 (America/Phoenix)   \n",
       "75000   6000000989    Zongyang, Li                    2017 May 20   \n",
       "75001   6000000707    Zongyang, Li                    2017 May 20   \n",
       "\n",
       "                                time                   raw_date  \\\n",
       "51339  [time unspecified or unknown]  2017-06-20 00:00:00 -0500   \n",
       "51340  [time unspecified or unknown]  2017-06-05 00:00:00 -0500   \n",
       "51341  [time unspecified or unknown]  2017-05-30 00:00:00 -0500   \n",
       "75000     12:00:00 (America/Phoenix)  2017-05-20 14:00:00 -0500   \n",
       "75001     12:00:00 (America/Phoenix)  2017-05-20 14:00:00 -0500   \n",
       "\n",
       "               trait                                  trait_description  mean  \\\n",
       "51339  canopy_height  top of the general canopy of the plant, discou...  91.0   \n",
       "51340  canopy_height  top of the general canopy of the plant, discou...  99.0   \n",
       "51341  canopy_height  top of the general canopy of the plant, discou...  63.0   \n",
       "75000  canopy_height  top of the general canopy of the plant, discou...  22.0   \n",
       "75001  canopy_height  top of the general canopy of the plant, discou...  26.0   \n",
       "\n",
       "      units  access_level  cultivar                         method_name  \n",
       "51339    cm             4  PI329518                Manual canopy height  \n",
       "51340    cm             4  PI152828                Manual canopy height  \n",
       "51341    cm             4  PI152828                Manual canopy height  \n",
       "75000    cm             2  PI619838  3D scanner to 98th quantile height  \n",
       "75001    cm             2  PI155885  3D scanner to 98th quantile height  "
      ]
     },
     "execution_count": 14,
     "metadata": {},
     "output_type": "execute_result"
    }
   ],
   "source": [
    "df_3 = df_2.drop(labels=['entity', 'notes'], axis=1)\n",
    "# df_3.head()"
   ]
  },
  {
   "cell_type": "markdown",
   "metadata": {},
   "source": [
    "#### Separate canopy height measurements\n",
    "Differences include:\n",
    "* `method_name`\n",
    "    * Manual canopy height \n",
    "    * 3D scanner to 98th quantile height \n",
    "* `author`\n",
    "    * Newcomb, Maria (manual)\n",
    "    * Zongyang, Li (scanner)\n",
    "* `time`\n",
    "    * unspecified or unknown (manual)\n",
    "    * 12:00:00 Arizona (scanner)\n",
    "* `sitename`\n",
    "    * _sometimes_ E and W specified (manual)\n",
    "    * no E or W in sitename (scanner)"
   ]
  },
  {
   "cell_type": "code",
   "execution_count": 16,
   "metadata": {},
   "outputs": [
    {
     "name": "stdout",
     "output_type": "stream",
     "text": [
      "(4872, 18)\n",
      "(53184, 18)\n"
     ]
    }
   ],
   "source": [
    "# could also use != operator in function but only if binary criteria\n",
    "\n",
    "manual_df = df_3.loc[df_3.method_name == 'Manual canopy height']\n",
    "scanner_df = df_3.loc[df_3.method_name == '3D scanner to 98th quantile height']\n",
    "\n",
    "# print(manual_df.shape)\n",
    "# print(scanner_df.shape)"
   ]
  },
  {
   "cell_type": "code",
   "execution_count": 22,
   "metadata": {},
   "outputs": [
    {
     "name": "stdout",
     "output_type": "stream",
     "text": [
      "Author for manual df: ['Newcomb, Maria']\n",
      "Author for scanner df: ['Zongyang, Li']\n",
      " \n",
      "Time values for manual df: ['[time unspecified or unknown]']\n",
      "Time values for scanner df: ['12:00:00 (America/Phoenix)']\n"
     ]
    }
   ],
   "source": [
    "print(f'Author for manual df: {manual_df.author.unique()}')\n",
    "print(f'Author for scanner df: {scanner_df.author.unique()}')\n",
    "\n",
    "print(' ')\n",
    "\n",
    "print(f'Unique time values for manual df: {manual_df.time.unique()}')\n",
    "print(f'Unique time values for scanner df: {scanner_df.time.unique()}')"
   ]
  },
  {
   "cell_type": "code",
   "execution_count": null,
   "metadata": {},
   "outputs": [],
   "source": []
  },
  {
   "cell_type": "code",
   "execution_count": null,
   "metadata": {},
   "outputs": [],
   "source": []
  },
  {
   "cell_type": "code",
   "execution_count": null,
   "metadata": {},
   "outputs": [],
   "source": []
  },
  {
   "cell_type": "code",
   "execution_count": null,
   "metadata": {},
   "outputs": [],
   "source": []
  },
  {
   "cell_type": "code",
   "execution_count": null,
   "metadata": {},
   "outputs": [],
   "source": []
  },
  {
   "cell_type": "markdown",
   "metadata": {},
   "source": [
    "### For Future Tests"
   ]
  },
  {
   "cell_type": "code",
   "execution_count": 18,
   "metadata": {},
   "outputs": [
    {
     "data": {
      "text/plain": [
       "True"
      ]
     },
     "execution_count": 18,
     "metadata": {},
     "output_type": "execute_result"
    }
   ],
   "source": [
    "# if slicing df based on certain values, ensure that no rows were overlooked\n",
    "\n",
    "manual_df.shape[0] + scanner_df.shape[0] == df_3.shape[0]"
   ]
  },
  {
   "cell_type": "code",
   "execution_count": null,
   "metadata": {},
   "outputs": [],
   "source": []
  }
 ],
 "metadata": {
  "kernelspec": {
   "display_name": "Python 3",
   "language": "python",
   "name": "python3"
  },
  "language_info": {
   "codemirror_mode": {
    "name": "ipython",
    "version": 3
   },
   "file_extension": ".py",
   "mimetype": "text/x-python",
   "name": "python",
   "nbconvert_exporter": "python",
   "pygments_lexer": "ipython3",
   "version": "3.6.8"
  }
 },
 "nbformat": 4,
 "nbformat_minor": 2
}
