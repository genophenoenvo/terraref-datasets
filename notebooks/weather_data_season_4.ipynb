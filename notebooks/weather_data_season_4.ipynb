{
 "cells": [
  {
   "cell_type": "markdown",
   "metadata": {},
   "source": [
    "## Season 4 Weather Data\n",
    "* queried from geostreams using this [tutorial](https://terraref.github.io/tutorials/accessing-weather-data-in-r.html)\n",
    "* date already in AZ / MST time\n",
    "\n",
    "#### Notes\n",
    "* missing dates\n",
    "    * recalculate GDD\n",
    "* dates with some but not all variable values\n",
    "* Precipitation values needed:\n",
    "    * Daily max rate\n",
    "    * Daily total\n",
    "    * Seasonal Cumulative"
   ]
  },
  {
   "cell_type": "code",
   "execution_count": 1,
   "metadata": {},
   "outputs": [],
   "source": [
    "import datetime\n",
    "import numpy as np\n",
    "import pandas as pd"
   ]
  },
  {
   "cell_type": "code",
   "execution_count": 47,
   "metadata": {},
   "outputs": [
    {
     "data": {
      "text/html": [
       "<div>\n",
       "<style scoped>\n",
       "    .dataframe tbody tr th:only-of-type {\n",
       "        vertical-align: middle;\n",
       "    }\n",
       "\n",
       "    .dataframe tbody tr th {\n",
       "        vertical-align: top;\n",
       "    }\n",
       "\n",
       "    .dataframe thead th {\n",
       "        text-align: right;\n",
       "    }\n",
       "</style>\n",
       "<table border=\"1\" class=\"dataframe\">\n",
       "  <thead>\n",
       "    <tr style=\"text-align: right;\">\n",
       "      <th></th>\n",
       "      <th>source</th>\n",
       "      <th>wind_speed</th>\n",
       "      <th>source_file</th>\n",
       "      <th>eastward_wind</th>\n",
       "      <th>northward_wind</th>\n",
       "      <th>air_temperature</th>\n",
       "      <th>relative_humidity</th>\n",
       "      <th>precipitation_rate</th>\n",
       "      <th>surface_downwelling_shortwave_flux_in_air</th>\n",
       "      <th>surface_downwelling_photosynthetic_photon_flux_in_air</th>\n",
       "      <th>time</th>\n",
       "    </tr>\n",
       "  </thead>\n",
       "  <tbody>\n",
       "    <tr>\n",
       "      <th>0</th>\n",
       "      <td>https://terraref.ncsa.illinois.edu/clowder/dat...</td>\n",
       "      <td>1.591714</td>\n",
       "      <td>58fb33f54f0ce95015796a8d</td>\n",
       "      <td>0.549610</td>\n",
       "      <td>-1.492351</td>\n",
       "      <td>293.041143</td>\n",
       "      <td>17.516286</td>\n",
       "      <td>0.0</td>\n",
       "      <td>0.193057</td>\n",
       "      <td>0.0</td>\n",
       "      <td>2017-04-20 23:15:00</td>\n",
       "    </tr>\n",
       "    <tr>\n",
       "      <th>1</th>\n",
       "      <td>https://terraref.ncsa.illinois.edu/clowder/dat...</td>\n",
       "      <td>0.967067</td>\n",
       "      <td>58fb33f54f0ce95015796a8d</td>\n",
       "      <td>0.502316</td>\n",
       "      <td>-0.785215</td>\n",
       "      <td>293.096733</td>\n",
       "      <td>17.303600</td>\n",
       "      <td>0.0</td>\n",
       "      <td>0.182517</td>\n",
       "      <td>0.0</td>\n",
       "      <td>2017-04-20 23:20:00</td>\n",
       "    </tr>\n",
       "    <tr>\n",
       "      <th>2</th>\n",
       "      <td>https://terraref.ncsa.illinois.edu/clowder/dat...</td>\n",
       "      <td>0.405000</td>\n",
       "      <td>58fb33f54f0ce95015796a8d</td>\n",
       "      <td>0.253301</td>\n",
       "      <td>-0.283427</td>\n",
       "      <td>292.950233</td>\n",
       "      <td>17.726467</td>\n",
       "      <td>0.0</td>\n",
       "      <td>0.183293</td>\n",
       "      <td>0.0</td>\n",
       "      <td>2017-04-20 23:25:00</td>\n",
       "    </tr>\n",
       "    <tr>\n",
       "      <th>3</th>\n",
       "      <td>https://terraref.ncsa.illinois.edu/clowder/dat...</td>\n",
       "      <td>0.696633</td>\n",
       "      <td>58fb33f54f0ce95015796a8d</td>\n",
       "      <td>0.184050</td>\n",
       "      <td>-0.660492</td>\n",
       "      <td>292.914833</td>\n",
       "      <td>17.778200</td>\n",
       "      <td>0.0</td>\n",
       "      <td>0.182517</td>\n",
       "      <td>0.0</td>\n",
       "      <td>2017-04-20 23:30:00</td>\n",
       "    </tr>\n",
       "    <tr>\n",
       "      <th>4</th>\n",
       "      <td>https://terraref.ncsa.illinois.edu/clowder/dat...</td>\n",
       "      <td>1.431351</td>\n",
       "      <td>58fb33f54f0ce95015796a8d</td>\n",
       "      <td>0.375217</td>\n",
       "      <td>-1.366798</td>\n",
       "      <td>292.865135</td>\n",
       "      <td>17.889493</td>\n",
       "      <td>0.0</td>\n",
       "      <td>0.206236</td>\n",
       "      <td>0.0</td>\n",
       "      <td>2017-04-20 23:35:00</td>\n",
       "    </tr>\n",
       "  </tbody>\n",
       "</table>\n",
       "</div>"
      ],
      "text/plain": [
       "                                              source  wind_speed  \\\n",
       "0  https://terraref.ncsa.illinois.edu/clowder/dat...    1.591714   \n",
       "1  https://terraref.ncsa.illinois.edu/clowder/dat...    0.967067   \n",
       "2  https://terraref.ncsa.illinois.edu/clowder/dat...    0.405000   \n",
       "3  https://terraref.ncsa.illinois.edu/clowder/dat...    0.696633   \n",
       "4  https://terraref.ncsa.illinois.edu/clowder/dat...    1.431351   \n",
       "\n",
       "                source_file  eastward_wind  northward_wind  air_temperature  \\\n",
       "0  58fb33f54f0ce95015796a8d       0.549610       -1.492351       293.041143   \n",
       "1  58fb33f54f0ce95015796a8d       0.502316       -0.785215       293.096733   \n",
       "2  58fb33f54f0ce95015796a8d       0.253301       -0.283427       292.950233   \n",
       "3  58fb33f54f0ce95015796a8d       0.184050       -0.660492       292.914833   \n",
       "4  58fb33f54f0ce95015796a8d       0.375217       -1.366798       292.865135   \n",
       "\n",
       "   relative_humidity  precipitation_rate  \\\n",
       "0          17.516286                 0.0   \n",
       "1          17.303600                 0.0   \n",
       "2          17.726467                 0.0   \n",
       "3          17.778200                 0.0   \n",
       "4          17.889493                 0.0   \n",
       "\n",
       "   surface_downwelling_shortwave_flux_in_air  \\\n",
       "0                                   0.193057   \n",
       "1                                   0.182517   \n",
       "2                                   0.183293   \n",
       "3                                   0.182517   \n",
       "4                                   0.206236   \n",
       "\n",
       "   surface_downwelling_photosynthetic_photon_flux_in_air                 time  \n",
       "0                                                0.0      2017-04-20 23:15:00  \n",
       "1                                                0.0      2017-04-20 23:20:00  \n",
       "2                                                0.0      2017-04-20 23:25:00  \n",
       "3                                                0.0      2017-04-20 23:30:00  \n",
       "4                                                0.0      2017-04-20 23:35:00  "
      ]
     },
     "execution_count": 47,
     "metadata": {},
     "output_type": "execute_result"
    }
   ],
   "source": [
    "weather_df_0 = pd.read_csv('data/raw/season_4_weather_data_3.csv')\n",
    "weather_df_0.head()"
   ]
  },
  {
   "cell_type": "code",
   "execution_count": 48,
   "metadata": {},
   "outputs": [
    {
     "name": "stdout",
     "output_type": "stream",
     "text": [
      "2017-04-20 02:34:25\n",
      "2017-09-19 21:52:50\n"
     ]
    }
   ],
   "source": [
    "print(weather_df_0.time.min())\n",
    "print(weather_df_0.time.max())"
   ]
  },
  {
   "cell_type": "code",
   "execution_count": 49,
   "metadata": {},
   "outputs": [
    {
     "data": {
      "text/plain": [
       "Index(['source', 'wind_speed', 'source_file', 'eastward_wind',\n",
       "       'northward_wind', 'air_temperature', 'relative_humidity',\n",
       "       'precipitation_rate', 'surface_downwelling_shortwave_flux_in_air',\n",
       "       'surface_downwelling_photosynthetic_photon_flux_in_air', 'time'],\n",
       "      dtype='object')"
      ]
     },
     "execution_count": 49,
     "metadata": {},
     "output_type": "execute_result"
    }
   ],
   "source": [
    "weather_df_0.columns"
   ]
  },
  {
   "cell_type": "code",
   "execution_count": 50,
   "metadata": {},
   "outputs": [
    {
     "data": {
      "text/plain": [
       "(4390, 11)"
      ]
     },
     "execution_count": 50,
     "metadata": {},
     "output_type": "execute_result"
    }
   ],
   "source": [
    "weather_df_0.shape"
   ]
  },
  {
   "cell_type": "markdown",
   "metadata": {},
   "source": [
    "### I. Drop and reorder columns \n",
    "* Drop `surface_downwelling` columns for now"
   ]
  },
  {
   "cell_type": "code",
   "execution_count": 51,
   "metadata": {},
   "outputs": [],
   "source": [
    "new_col_order = ['time', 'air_temperature', 'relative_humidity', 'precipitation_rate', 'eastward_wind', 'northward_wind']"
   ]
  },
  {
   "cell_type": "code",
   "execution_count": 52,
   "metadata": {},
   "outputs": [
    {
     "data": {
      "text/html": [
       "<div>\n",
       "<style scoped>\n",
       "    .dataframe tbody tr th:only-of-type {\n",
       "        vertical-align: middle;\n",
       "    }\n",
       "\n",
       "    .dataframe tbody tr th {\n",
       "        vertical-align: top;\n",
       "    }\n",
       "\n",
       "    .dataframe thead th {\n",
       "        text-align: right;\n",
       "    }\n",
       "</style>\n",
       "<table border=\"1\" class=\"dataframe\">\n",
       "  <thead>\n",
       "    <tr style=\"text-align: right;\">\n",
       "      <th></th>\n",
       "      <th>time</th>\n",
       "      <th>air_temperature</th>\n",
       "      <th>relative_humidity</th>\n",
       "      <th>precipitation_rate</th>\n",
       "      <th>eastward_wind</th>\n",
       "      <th>northward_wind</th>\n",
       "    </tr>\n",
       "  </thead>\n",
       "  <tbody>\n",
       "    <tr>\n",
       "      <th>0</th>\n",
       "      <td>2017-04-20 23:15:00</td>\n",
       "      <td>293.041143</td>\n",
       "      <td>17.516286</td>\n",
       "      <td>0.0</td>\n",
       "      <td>0.549610</td>\n",
       "      <td>-1.492351</td>\n",
       "    </tr>\n",
       "    <tr>\n",
       "      <th>1</th>\n",
       "      <td>2017-04-20 23:20:00</td>\n",
       "      <td>293.096733</td>\n",
       "      <td>17.303600</td>\n",
       "      <td>0.0</td>\n",
       "      <td>0.502316</td>\n",
       "      <td>-0.785215</td>\n",
       "    </tr>\n",
       "    <tr>\n",
       "      <th>2</th>\n",
       "      <td>2017-04-20 23:25:00</td>\n",
       "      <td>292.950233</td>\n",
       "      <td>17.726467</td>\n",
       "      <td>0.0</td>\n",
       "      <td>0.253301</td>\n",
       "      <td>-0.283427</td>\n",
       "    </tr>\n",
       "    <tr>\n",
       "      <th>3</th>\n",
       "      <td>2017-04-20 23:30:00</td>\n",
       "      <td>292.914833</td>\n",
       "      <td>17.778200</td>\n",
       "      <td>0.0</td>\n",
       "      <td>0.184050</td>\n",
       "      <td>-0.660492</td>\n",
       "    </tr>\n",
       "    <tr>\n",
       "      <th>4</th>\n",
       "      <td>2017-04-20 23:35:00</td>\n",
       "      <td>292.865135</td>\n",
       "      <td>17.889493</td>\n",
       "      <td>0.0</td>\n",
       "      <td>0.375217</td>\n",
       "      <td>-1.366798</td>\n",
       "    </tr>\n",
       "  </tbody>\n",
       "</table>\n",
       "</div>"
      ],
      "text/plain": [
       "                  time  air_temperature  relative_humidity  \\\n",
       "0  2017-04-20 23:15:00       293.041143          17.516286   \n",
       "1  2017-04-20 23:20:00       293.096733          17.303600   \n",
       "2  2017-04-20 23:25:00       292.950233          17.726467   \n",
       "3  2017-04-20 23:30:00       292.914833          17.778200   \n",
       "4  2017-04-20 23:35:00       292.865135          17.889493   \n",
       "\n",
       "   precipitation_rate  eastward_wind  northward_wind  \n",
       "0                 0.0       0.549610       -1.492351  \n",
       "1                 0.0       0.502316       -0.785215  \n",
       "2                 0.0       0.253301       -0.283427  \n",
       "3                 0.0       0.184050       -0.660492  \n",
       "4                 0.0       0.375217       -1.366798  "
      ]
     },
     "execution_count": 52,
     "metadata": {},
     "output_type": "execute_result"
    }
   ],
   "source": [
    "weather_df_1 = pd.DataFrame(data=weather_df_0, index=weather_df_0.index, columns=new_col_order)\n",
    "weather_df_1.head()"
   ]
  },
  {
   "cell_type": "code",
   "execution_count": null,
   "metadata": {},
   "outputs": [],
   "source": [
    "# weather_df_1.tail()"
   ]
  },
  {
   "cell_type": "markdown",
   "metadata": {},
   "source": [
    "### II. Add `date` column with no time values\n",
    "* convert to datetime object"
   ]
  },
  {
   "cell_type": "code",
   "execution_count": 53,
   "metadata": {},
   "outputs": [],
   "source": [
    "time_values = weather_df_1.time.values\n",
    "just_dates = []\n",
    "\n",
    "for t in time_values:\n",
    "    \n",
    "    just_date = t[:10]\n",
    "    just_dates.append(just_date)\n",
    "\n",
    "# print(weather_df_1.shape[0])\n",
    "# print(len(time_values))\n",
    "# print(len(just_dates))"
   ]
  },
  {
   "cell_type": "code",
   "execution_count": 54,
   "metadata": {},
   "outputs": [],
   "source": [
    "iso_format_dates = pd.to_datetime(just_dates)"
   ]
  },
  {
   "cell_type": "code",
   "execution_count": 55,
   "metadata": {},
   "outputs": [],
   "source": [
    "weather_df_1['date'] = iso_format_dates\n",
    "# weather_df_1.tail()"
   ]
  },
  {
   "cell_type": "code",
   "execution_count": 58,
   "metadata": {},
   "outputs": [
    {
     "data": {
      "text/html": [
       "<div>\n",
       "<style scoped>\n",
       "    .dataframe tbody tr th:only-of-type {\n",
       "        vertical-align: middle;\n",
       "    }\n",
       "\n",
       "    .dataframe tbody tr th {\n",
       "        vertical-align: top;\n",
       "    }\n",
       "\n",
       "    .dataframe thead th {\n",
       "        text-align: right;\n",
       "    }\n",
       "</style>\n",
       "<table border=\"1\" class=\"dataframe\">\n",
       "  <thead>\n",
       "    <tr style=\"text-align: right;\">\n",
       "      <th></th>\n",
       "      <th>time</th>\n",
       "      <th>air_temperature</th>\n",
       "      <th>relative_humidity</th>\n",
       "      <th>precipitation_rate</th>\n",
       "      <th>eastward_wind</th>\n",
       "      <th>northward_wind</th>\n",
       "      <th>date</th>\n",
       "    </tr>\n",
       "  </thead>\n",
       "  <tbody>\n",
       "    <tr>\n",
       "      <th>4385</th>\n",
       "      <td>2017-09-19 18:35:00</td>\n",
       "      <td>306.172200</td>\n",
       "      <td>10.742233</td>\n",
       "      <td>0.0</td>\n",
       "      <td>-1.798750</td>\n",
       "      <td>-3.125964</td>\n",
       "      <td>2017-09-19</td>\n",
       "    </tr>\n",
       "    <tr>\n",
       "      <th>4386</th>\n",
       "      <td>2017-09-19 18:40:00</td>\n",
       "      <td>305.798933</td>\n",
       "      <td>10.222067</td>\n",
       "      <td>0.0</td>\n",
       "      <td>-1.588845</td>\n",
       "      <td>-2.300176</td>\n",
       "      <td>2017-09-19</td>\n",
       "    </tr>\n",
       "    <tr>\n",
       "      <th>4387</th>\n",
       "      <td>2017-09-19 18:45:00</td>\n",
       "      <td>305.258277</td>\n",
       "      <td>10.492432</td>\n",
       "      <td>0.0</td>\n",
       "      <td>-1.111043</td>\n",
       "      <td>-2.198304</td>\n",
       "      <td>2017-09-19</td>\n",
       "    </tr>\n",
       "    <tr>\n",
       "      <th>4388</th>\n",
       "      <td>2017-09-19 18:50:00</td>\n",
       "      <td>297.782304</td>\n",
       "      <td>35.341276</td>\n",
       "      <td>0.0</td>\n",
       "      <td>0.431963</td>\n",
       "      <td>-1.448367</td>\n",
       "      <td>2017-09-19</td>\n",
       "    </tr>\n",
       "    <tr>\n",
       "      <th>4389</th>\n",
       "      <td>2017-09-19 21:52:50</td>\n",
       "      <td>299.256859</td>\n",
       "      <td>25.094176</td>\n",
       "      <td>0.0</td>\n",
       "      <td>-0.494572</td>\n",
       "      <td>-1.674386</td>\n",
       "      <td>2017-09-19</td>\n",
       "    </tr>\n",
       "  </tbody>\n",
       "</table>\n",
       "</div>"
      ],
      "text/plain": [
       "                     time  air_temperature  relative_humidity  \\\n",
       "4385  2017-09-19 18:35:00       306.172200          10.742233   \n",
       "4386  2017-09-19 18:40:00       305.798933          10.222067   \n",
       "4387  2017-09-19 18:45:00       305.258277          10.492432   \n",
       "4388  2017-09-19 18:50:00       297.782304          35.341276   \n",
       "4389  2017-09-19 21:52:50       299.256859          25.094176   \n",
       "\n",
       "      precipitation_rate  eastward_wind  northward_wind       date  \n",
       "4385                 0.0      -1.798750       -3.125964 2017-09-19  \n",
       "4386                 0.0      -1.588845       -2.300176 2017-09-19  \n",
       "4387                 0.0      -1.111043       -2.198304 2017-09-19  \n",
       "4388                 0.0       0.431963       -1.448367 2017-09-19  \n",
       "4389                 0.0      -0.494572       -1.674386 2017-09-19  "
      ]
     },
     "execution_count": 58,
     "metadata": {},
     "output_type": "execute_result"
    }
   ],
   "source": [
    "weather_df_1.tail()"
   ]
  },
  {
   "cell_type": "code",
   "execution_count": 17,
   "metadata": {},
   "outputs": [
    {
     "data": {
      "text/plain": [
       "time                          object\n",
       "air_temperature              float64\n",
       "relative_humidity            float64\n",
       "precipitation_rate           float64\n",
       "eastward_wind                float64\n",
       "northward_wind               float64\n",
       "date                  datetime64[ns]\n",
       "dtype: object"
      ]
     },
     "execution_count": 17,
     "metadata": {},
     "output_type": "execute_result"
    }
   ],
   "source": [
    "weather_df_1.dtypes"
   ]
  },
  {
   "cell_type": "code",
   "execution_count": 67,
   "metadata": {},
   "outputs": [
    {
     "data": {
      "text/html": [
       "<div>\n",
       "<style scoped>\n",
       "    .dataframe tbody tr th:only-of-type {\n",
       "        vertical-align: middle;\n",
       "    }\n",
       "\n",
       "    .dataframe tbody tr th {\n",
       "        vertical-align: top;\n",
       "    }\n",
       "\n",
       "    .dataframe thead th {\n",
       "        text-align: right;\n",
       "    }\n",
       "</style>\n",
       "<table border=\"1\" class=\"dataframe\">\n",
       "  <thead>\n",
       "    <tr style=\"text-align: right;\">\n",
       "      <th></th>\n",
       "      <th>time</th>\n",
       "      <th>air_temperature</th>\n",
       "      <th>relative_humidity</th>\n",
       "      <th>precipitation_rate</th>\n",
       "      <th>eastward_wind</th>\n",
       "      <th>northward_wind</th>\n",
       "      <th>date</th>\n",
       "    </tr>\n",
       "  </thead>\n",
       "  <tbody>\n",
       "  </tbody>\n",
       "</table>\n",
       "</div>"
      ],
      "text/plain": [
       "Empty DataFrame\n",
       "Columns: [time, air_temperature, relative_humidity, precipitation_rate, eastward_wind, northward_wind, date]\n",
       "Index: []"
      ]
     },
     "execution_count": 67,
     "metadata": {},
     "output_type": "execute_result"
    }
   ],
   "source": [
    "# weather_df_1.loc[weather_df_1.date == '2017-09-15']\n",
    "weather_df_1.loc[weather_df_1.date == '2017-09-16']"
   ]
  },
  {
   "cell_type": "markdown",
   "metadata": {},
   "source": [
    "#### Since the last day of weather data is on 2017-09-15, slice the days not needed after that date"
   ]
  },
  {
   "cell_type": "code",
   "execution_count": 71,
   "metadata": {},
   "outputs": [],
   "source": [
    "weather_df_2 = weather_df_1.loc[weather_df_1.date < '2017-09-16']"
   ]
  },
  {
   "cell_type": "code",
   "execution_count": 72,
   "metadata": {},
   "outputs": [
    {
     "name": "stdout",
     "output_type": "stream",
     "text": [
      "2017-04-20 00:00:00\n",
      "2017-09-15 00:00:00\n"
     ]
    }
   ],
   "source": [
    "print(weather_df_2.date.min())\n",
    "print(weather_df_2.date.max())"
   ]
  },
  {
   "cell_type": "markdown",
   "metadata": {},
   "source": [
    "### III. Convert temperature to Celsius\n",
    "* can round to nearest int (or not round at all) as needed"
   ]
  },
  {
   "cell_type": "code",
   "execution_count": 73,
   "metadata": {},
   "outputs": [],
   "source": [
    "weather_df_3 = weather_df_2.copy()"
   ]
  },
  {
   "cell_type": "code",
   "execution_count": 74,
   "metadata": {},
   "outputs": [
    {
     "data": {
      "text/html": [
       "<div>\n",
       "<style scoped>\n",
       "    .dataframe tbody tr th:only-of-type {\n",
       "        vertical-align: middle;\n",
       "    }\n",
       "\n",
       "    .dataframe tbody tr th {\n",
       "        vertical-align: top;\n",
       "    }\n",
       "\n",
       "    .dataframe thead th {\n",
       "        text-align: right;\n",
       "    }\n",
       "</style>\n",
       "<table border=\"1\" class=\"dataframe\">\n",
       "  <thead>\n",
       "    <tr style=\"text-align: right;\">\n",
       "      <th></th>\n",
       "      <th>time</th>\n",
       "      <th>air_temperature</th>\n",
       "      <th>relative_humidity</th>\n",
       "      <th>precipitation_rate</th>\n",
       "      <th>eastward_wind</th>\n",
       "      <th>northward_wind</th>\n",
       "      <th>date</th>\n",
       "      <th>air_temp_C</th>\n",
       "    </tr>\n",
       "  </thead>\n",
       "  <tbody>\n",
       "    <tr>\n",
       "      <th>0</th>\n",
       "      <td>2017-04-20 23:15:00</td>\n",
       "      <td>293.041143</td>\n",
       "      <td>17.516286</td>\n",
       "      <td>0.0</td>\n",
       "      <td>0.549610</td>\n",
       "      <td>-1.492351</td>\n",
       "      <td>2017-04-20</td>\n",
       "      <td>19.89</td>\n",
       "    </tr>\n",
       "    <tr>\n",
       "      <th>1</th>\n",
       "      <td>2017-04-20 23:20:00</td>\n",
       "      <td>293.096733</td>\n",
       "      <td>17.303600</td>\n",
       "      <td>0.0</td>\n",
       "      <td>0.502316</td>\n",
       "      <td>-0.785215</td>\n",
       "      <td>2017-04-20</td>\n",
       "      <td>19.95</td>\n",
       "    </tr>\n",
       "    <tr>\n",
       "      <th>2</th>\n",
       "      <td>2017-04-20 23:25:00</td>\n",
       "      <td>292.950233</td>\n",
       "      <td>17.726467</td>\n",
       "      <td>0.0</td>\n",
       "      <td>0.253301</td>\n",
       "      <td>-0.283427</td>\n",
       "      <td>2017-04-20</td>\n",
       "      <td>19.80</td>\n",
       "    </tr>\n",
       "    <tr>\n",
       "      <th>3</th>\n",
       "      <td>2017-04-20 23:30:00</td>\n",
       "      <td>292.914833</td>\n",
       "      <td>17.778200</td>\n",
       "      <td>0.0</td>\n",
       "      <td>0.184050</td>\n",
       "      <td>-0.660492</td>\n",
       "      <td>2017-04-20</td>\n",
       "      <td>19.76</td>\n",
       "    </tr>\n",
       "    <tr>\n",
       "      <th>4</th>\n",
       "      <td>2017-04-20 23:35:00</td>\n",
       "      <td>292.865135</td>\n",
       "      <td>17.889493</td>\n",
       "      <td>0.0</td>\n",
       "      <td>0.375217</td>\n",
       "      <td>-1.366798</td>\n",
       "      <td>2017-04-20</td>\n",
       "      <td>19.72</td>\n",
       "    </tr>\n",
       "  </tbody>\n",
       "</table>\n",
       "</div>"
      ],
      "text/plain": [
       "                  time  air_temperature  relative_humidity  \\\n",
       "0  2017-04-20 23:15:00       293.041143          17.516286   \n",
       "1  2017-04-20 23:20:00       293.096733          17.303600   \n",
       "2  2017-04-20 23:25:00       292.950233          17.726467   \n",
       "3  2017-04-20 23:30:00       292.914833          17.778200   \n",
       "4  2017-04-20 23:35:00       292.865135          17.889493   \n",
       "\n",
       "   precipitation_rate  eastward_wind  northward_wind       date  air_temp_C  \n",
       "0                 0.0       0.549610       -1.492351 2017-04-20       19.89  \n",
       "1                 0.0       0.502316       -0.785215 2017-04-20       19.95  \n",
       "2                 0.0       0.253301       -0.283427 2017-04-20       19.80  \n",
       "3                 0.0       0.184050       -0.660492 2017-04-20       19.76  \n",
       "4                 0.0       0.375217       -1.366798 2017-04-20       19.72  "
      ]
     },
     "execution_count": 74,
     "metadata": {},
     "output_type": "execute_result"
    }
   ],
   "source": [
    "weather_df_3['air_temp_C'] = round((weather_df_3['air_temperature'] - 273.15), 2)\n",
    "weather_df_3.head()"
   ]
  },
  {
   "cell_type": "markdown",
   "metadata": {},
   "source": [
    "### IV. Find and Fill Missing Values\n",
    "* Planting Date: 2017-04-20\n",
    "* Last Harvest Date: 2017-09-16"
   ]
  },
  {
   "cell_type": "code",
   "execution_count": 26,
   "metadata": {},
   "outputs": [],
   "source": [
    "season_4_date_range = pd.date_range(start='2017-04-20', end='2017-09-16') "
   ]
  },
  {
   "cell_type": "markdown",
   "metadata": {},
   "source": [
    "Compare unique dates in table to date range"
   ]
  },
  {
   "cell_type": "code",
   "execution_count": 75,
   "metadata": {},
   "outputs": [
    {
     "data": {
      "text/plain": [
       "150"
      ]
     },
     "execution_count": 75,
     "metadata": {},
     "output_type": "execute_result"
    }
   ],
   "source": [
    "len(season_4_date_range)"
   ]
  },
  {
   "cell_type": "code",
   "execution_count": 76,
   "metadata": {},
   "outputs": [
    {
     "data": {
      "text/plain": [
       "99"
      ]
     },
     "execution_count": 76,
     "metadata": {},
     "output_type": "execute_result"
    }
   ],
   "source": [
    "weather_df_3.date.nunique()"
   ]
  },
  {
   "cell_type": "code",
   "execution_count": 77,
   "metadata": {},
   "outputs": [
    {
     "name": "stdout",
     "output_type": "stream",
     "text": [
      "2017-04-20 00:00:00\n",
      "2017-09-15 00:00:00\n"
     ]
    }
   ],
   "source": [
    "print(weather_df_3.date.min())\n",
    "print(weather_df_3.date.max())"
   ]
  },
  {
   "cell_type": "code",
   "execution_count": 78,
   "metadata": {},
   "outputs": [
    {
     "name": "stdout",
     "output_type": "stream",
     "text": [
      "Missing days in dataset: 51\n"
     ]
    }
   ],
   "source": [
    "print(f'Missing days in dataset: {len(season_4_date_range) - weather_df_3.date.nunique()}')"
   ]
  },
  {
   "cell_type": "code",
   "execution_count": 82,
   "metadata": {},
   "outputs": [],
   "source": [
    "missing_days = season_4_date_range.difference(weather_df_3.date)"
   ]
  },
  {
   "cell_type": "code",
   "execution_count": 83,
   "metadata": {},
   "outputs": [
    {
     "data": {
      "text/plain": [
       "51"
      ]
     },
     "execution_count": 83,
     "metadata": {},
     "output_type": "execute_result"
    }
   ],
   "source": [
    "len(missing_days)"
   ]
  },
  {
   "cell_type": "code",
   "execution_count": 84,
   "metadata": {},
   "outputs": [
    {
     "data": {
      "text/plain": [
       "DatetimeIndex(['2017-04-22', '2017-04-29', '2017-04-30', '2017-05-01',\n",
       "               '2017-05-06', '2017-05-10', '2017-05-11', '2017-05-12',\n",
       "               '2017-05-13', '2017-05-20', '2017-05-24', '2017-05-25',\n",
       "               '2017-05-26', '2017-05-27', '2017-06-03', '2017-06-10',\n",
       "               '2017-06-17', '2017-06-24', '2017-07-01', '2017-07-02',\n",
       "               '2017-07-03', '2017-07-04', '2017-07-05', '2017-07-06',\n",
       "               '2017-07-07', '2017-07-08', '2017-07-09', '2017-07-10',\n",
       "               '2017-07-13', '2017-07-14', '2017-07-15', '2017-07-22',\n",
       "               '2017-07-29', '2017-08-05', '2017-08-06', '2017-08-07',\n",
       "               '2017-08-12', '2017-08-13', '2017-08-17', '2017-08-18',\n",
       "               '2017-08-19', '2017-08-26', '2017-08-27', '2017-08-28',\n",
       "               '2017-08-29', '2017-08-30', '2017-08-31', '2017-09-01',\n",
       "               '2017-09-02', '2017-09-09', '2017-09-16'],\n",
       "              dtype='datetime64[ns]', freq=None)"
      ]
     },
     "execution_count": 84,
     "metadata": {},
     "output_type": "execute_result"
    }
   ],
   "source": [
    "missing_days"
   ]
  },
  {
   "cell_type": "markdown",
   "metadata": {},
   "source": [
    "#### Use data from Weather Station to populate these dates"
   ]
  },
  {
   "cell_type": "code",
   "execution_count": null,
   "metadata": {},
   "outputs": [],
   "source": [
    "weather_station_df = pd.read_csv('')"
   ]
  },
  {
   "cell_type": "markdown",
   "metadata": {},
   "source": [
    "### IV. Calculate max, min, and mean values\n",
    "* Temperature: Drop Kelvin column\n",
    "* Relative humidity\n",
    "* Eastward Wind\n",
    "* Northward Wind\n",
    "* Round values to 2 decimal points"
   ]
  },
  {
   "cell_type": "code",
   "execution_count": 20,
   "metadata": {},
   "outputs": [],
   "source": [
    "weather_df_3 = weather_df_2.drop(labels='air_temperature', axis=1)\n",
    "# weather_df_3.tail()"
   ]
  },
  {
   "cell_type": "markdown",
   "metadata": {},
   "source": [
    "Air temperatures"
   ]
  },
  {
   "cell_type": "code",
   "execution_count": 21,
   "metadata": {},
   "outputs": [],
   "source": [
    "min_temp = weather_df_3.groupby('date')['air_temp_C'].min()\n",
    "max_temp = weather_df_3.groupby('date')['air_temp_C'].max()\n",
    "mean_temp = round(weather_df_3.groupby('date')['air_temp_C'].mean(), 2)"
   ]
  },
  {
   "cell_type": "markdown",
   "metadata": {},
   "source": [
    "Relative humidity"
   ]
  },
  {
   "cell_type": "code",
   "execution_count": 23,
   "metadata": {},
   "outputs": [],
   "source": [
    "min_relative_humidity = round(weather_df_3.groupby('date')['relative_humidity'].min(), 2)\n",
    "max_relative_humidity = round(weather_df_3.groupby('date')['relative_humidity'].max(), 2)\n",
    "mean_relative_humidity = round(weather_df_3.groupby('date')['relative_humidity'].mean(), 2)"
   ]
  },
  {
   "cell_type": "markdown",
   "metadata": {},
   "source": [
    "Eastward Wind"
   ]
  },
  {
   "cell_type": "code",
   "execution_count": 24,
   "metadata": {},
   "outputs": [],
   "source": [
    "min_east_wind = round(weather_df_3.groupby('date')['eastward_wind'].min(), 2)\n",
    "max_east_wind = round(weather_df_3.groupby('date')['eastward_wind'].max(), 2)\n",
    "mean_east_wind = round(weather_df_3.groupby('date')['eastward_wind'].mean(), 2)"
   ]
  },
  {
   "cell_type": "markdown",
   "metadata": {},
   "source": [
    "Northward Wind"
   ]
  },
  {
   "cell_type": "code",
   "execution_count": 25,
   "metadata": {},
   "outputs": [],
   "source": [
    "min_north_wind = round(weather_df_3.groupby('date')['northward_wind'].min(), 2)\n",
    "max_north_wind = round(weather_df_3.groupby('date')['northward_wind'].max(), 2)\n",
    "mean_north_wind = round(weather_df_3.groupby('date')['northward_wind'].mean(), 2)"
   ]
  },
  {
   "cell_type": "markdown",
   "metadata": {},
   "source": [
    "### V. Precipitation\n",
    "* daily max precipitation rate\n",
    "* daily total precipitation \n",
    "* cumulative precipitation"
   ]
  },
  {
   "cell_type": "code",
   "execution_count": null,
   "metadata": {},
   "outputs": [],
   "source": [
    "max_precip_rate = round(weather_df_3.groupby('date')['precipitation_rate'].max(), 2)"
   ]
  },
  {
   "cell_type": "markdown",
   "metadata": {},
   "source": [
    "### V. Add GDD"
   ]
  },
  {
   "cell_type": "code",
   "execution_count": null,
   "metadata": {},
   "outputs": [],
   "source": [
    "daily_weather_values_2 = daily_weather_values_1.copy()"
   ]
  },
  {
   "cell_type": "code",
   "execution_count": null,
   "metadata": {},
   "outputs": [],
   "source": [
    "daily_weather_values_2['gdd'] = np.rint(np.cumsum((((daily_weather_values_2['max_temp'] + daily_weather_values_2['min_temp']) / 2) - 10)))"
   ]
  },
  {
   "cell_type": "code",
   "execution_count": null,
   "metadata": {},
   "outputs": [],
   "source": [
    "# daily_weather_values_2[15:20]"
   ]
  },
  {
   "cell_type": "markdown",
   "metadata": {},
   "source": [
    "### VI. Add min, max, and mean wind values\n",
    "* eastward wind\n",
    "* northward wind"
   ]
  },
  {
   "cell_type": "code",
   "execution_count": null,
   "metadata": {},
   "outputs": [],
   "source": [
    "wind_df = pd.DataFrame({'min_east_wind': min_east_wind, 'max_east_wind': max_east_wind, 'mean_east_wind': mean_east_wind,\n",
    "                       'min_north_wind': min_north_wind, 'max_north_wind': max_north_wind, 'mean_north_wind': mean_north_wind})"
   ]
  },
  {
   "cell_type": "code",
   "execution_count": null,
   "metadata": {},
   "outputs": [],
   "source": [
    "wind_df.head()"
   ]
  },
  {
   "cell_type": "code",
   "execution_count": null,
   "metadata": {},
   "outputs": [],
   "source": [
    "wind_df_1 = wind_df.sort_index(axis=0)\n",
    "# wind_df_1.shape"
   ]
  },
  {
   "cell_type": "code",
   "execution_count": null,
   "metadata": {},
   "outputs": [],
   "source": [
    "# daily_weather_values_2.shape"
   ]
  },
  {
   "cell_type": "code",
   "execution_count": null,
   "metadata": {},
   "outputs": [],
   "source": [
    "daily_weather_values_3 = pd.merge(daily_weather_values_2, wind_df_1, how='outer', left_on=daily_weather_values_2.index,\n",
    "                                 right_on=wind_df_1.index)\n",
    "# daily_weather_values_3.head()"
   ]
  },
  {
   "cell_type": "code",
   "execution_count": null,
   "metadata": {},
   "outputs": [],
   "source": [
    "daily_weather_values_3.shape"
   ]
  },
  {
   "cell_type": "code",
   "execution_count": null,
   "metadata": {},
   "outputs": [],
   "source": []
  },
  {
   "cell_type": "markdown",
   "metadata": {},
   "source": [
    "### New table with Daily Values"
   ]
  },
  {
   "cell_type": "code",
   "execution_count": null,
   "metadata": {},
   "outputs": [],
   "source": [
    "daily_weather_values = pd.DataFrame({'min_temp': min_temp, 'max_temp': max_temp, 'mean_temp': mean_temp,\n",
    "                                    'min_relative_humidity': min_relative_humidity, 'max_relative_humidity': max_relative_humidity,\n",
    "                                    'mean_relative_humidity': mean_relative_humidity, 'min_precip_rate': min_precip_rate,\n",
    "                                    'max_precip_rate': max_precip_rate, 'mean_precip_rate': mean_precip_rate})\n",
    "# daily_weather_values.head()"
   ]
  },
  {
   "cell_type": "code",
   "execution_count": null,
   "metadata": {},
   "outputs": [],
   "source": [
    "daily_weather_values_1 = daily_weather_values.sort_index()\n",
    "# daily_weather_values_1.tail()"
   ]
  },
  {
   "cell_type": "code",
   "execution_count": null,
   "metadata": {},
   "outputs": [],
   "source": []
  },
  {
   "cell_type": "code",
   "execution_count": null,
   "metadata": {},
   "outputs": [],
   "source": []
  },
  {
   "cell_type": "code",
   "execution_count": null,
   "metadata": {},
   "outputs": [],
   "source": []
  },
  {
   "cell_type": "code",
   "execution_count": null,
   "metadata": {},
   "outputs": [],
   "source": []
  },
  {
   "cell_type": "markdown",
   "metadata": {},
   "source": [
    "### Final Steps"
   ]
  },
  {
   "cell_type": "code",
   "execution_count": null,
   "metadata": {},
   "outputs": [],
   "source": [
    "need_to_create_csv = False\n",
    "\n",
    "if need_to_create_csv:\n",
    "\n",
    "    timestamp = datetime.datetime.now().replace(microsecond=0).isoformat()\n",
    "    output_filename = f'daily_weather_values_{timestamp}.csv'.replace(':', '')\n",
    "    daily_weather_values_3.to_csv(f'data/processed/{output_filename}')"
   ]
  },
  {
   "cell_type": "code",
   "execution_count": null,
   "metadata": {},
   "outputs": [],
   "source": []
  }
 ],
 "metadata": {
  "kernelspec": {
   "display_name": "Python 3",
   "language": "python",
   "name": "python3"
  },
  "language_info": {
   "codemirror_mode": {
    "name": "ipython",
    "version": 3
   },
   "file_extension": ".py",
   "mimetype": "text/x-python",
   "name": "python",
   "nbconvert_exporter": "python",
   "pygments_lexer": "ipython3",
   "version": "3.6.8"
  }
 },
 "nbformat": 4,
 "nbformat_minor": 2
}
