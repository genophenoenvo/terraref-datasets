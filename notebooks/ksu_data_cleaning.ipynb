{
 "cells": [
  {
   "cell_type": "markdown",
   "metadata": {},
   "source": [
    "### Kansas Data Cleaning Notebook\n",
    "#### Data from Kansas State University Sorghum Experiments (Ashland Bottoms)\n",
    "\n",
    "- please contact David LeBauer at dlebauer@email.arizona.edu or Emily Cain at ejcain@email.arizona.edu with any questions, or create an issue in this [repository](https://github.com/genophenoenvo/terraref-datasets)"
   ]
  },
  {
   "cell_type": "code",
   "execution_count": 1,
   "metadata": {},
   "outputs": [],
   "source": [
    "import datetime\n",
    "import numpy as np\n",
    "import os\n",
    "import pandas as pd\n",
    "import requests"
   ]
  },
  {
   "cell_type": "markdown",
   "metadata": {},
   "source": [
    "#### Trait data queried and downloaded from betydb in `R` using this code:\n",
    "```\n",
    "library(traits)\n",
    "\n",
    "options(betydb_url = \"https://terraref.ncsa.illinois.edu/bety/\",\n",
    "        betydb_api_version = 'v1',\n",
    "        betydb_key = 'secret_api_key_123456_abcde')\n",
    "        \n",
    "kansas <- betydb_query(sitename  = \"~Bottoms\",\n",
    "                         limit     =  \"none\")\n",
    "                      \n",
    "write.csv(kansas, file = \"kansas_experiments_2020-06-11.csv\")\n",
    "```\n",
    "\n",
    "#### Weather data downloaded from [KSU Ashland Bottoms Weather Station](https://mesonet.k-state.edu/weather/historical/)"
   ]
  },
  {
   "cell_type": "code",
   "execution_count": 2,
   "metadata": {},
   "outputs": [],
   "source": [
    "def download_csv(url, folder_name, file_name):\n",
    "    response = requests.get(url)\n",
    "    with open(os.path.join(folder_name, file_name), 'wb') as f:\n",
    "        f.write(response.content)"
   ]
  },
  {
   "cell_type": "code",
   "execution_count": 3,
   "metadata": {},
   "outputs": [],
   "source": [
    "def read_in_csv(folder_name, file_name):\n",
    "    df = pd.read_csv(folder_name + '/' + file_name, low_memory=False)\n",
    "    return df"
   ]
  },
  {
   "cell_type": "code",
   "execution_count": 4,
   "metadata": {},
   "outputs": [],
   "source": [
    "def save_to_csv_without_timestamp(list_of_dfs, list_of_output_filenames):\n",
    "\n",
    "    for i,j in zip(list_of_dfs, list_of_output_filenames):\n",
    "        i.to_csv(j, index=False)"
   ]
  },
  {
   "cell_type": "code",
   "execution_count": 5,
   "metadata": {},
   "outputs": [],
   "source": [
    "def save_to_csv_without_timestamp(list_of_dfs, list_of_output_filenames):\n",
    "\n",
    "    for i,j in zip(list_of_dfs, list_of_output_filenames):\n",
    "        i.to_csv(j, index=False)"
   ]
  },
  {
   "cell_type": "code",
   "execution_count": null,
   "metadata": {},
   "outputs": [],
   "source": []
  },
  {
   "cell_type": "code",
   "execution_count": 6,
   "metadata": {},
   "outputs": [],
   "source": [
    "folder_name = 'data'\n",
    "if not os.path.exists(folder_name):\n",
    "    os.makedirs(folder_name)"
   ]
  },
  {
   "cell_type": "code",
   "execution_count": 7,
   "metadata": {},
   "outputs": [],
   "source": [
    "ksu_url = 'https://de.cyverse.org/dl/d/3A0BFAB4-2A09-4E58-9350-8AE3927414BE/ksu_data_2020-06-11.csv'\n",
    "ksu_input_filename = 'ksu_trait_data.csv'"
   ]
  },
  {
   "cell_type": "code",
   "execution_count": 8,
   "metadata": {},
   "outputs": [],
   "source": [
    "download_csv(ksu_url, folder_name=folder_name, file_name=ksu_input_filename)"
   ]
  },
  {
   "cell_type": "code",
   "execution_count": 9,
   "metadata": {},
   "outputs": [],
   "source": [
    "df_0 = read_in_csv(folder_name=folder_name, file_name=ksu_input_filename)\n",
    "# print(df_0.shape)\n",
    "# df_0.head()"
   ]
  },
  {
   "cell_type": "markdown",
   "metadata": {},
   "source": [
    "### Slice for selected traits\n",
    "- canopy height\n",
    "- days & GDD to flowering"
   ]
  },
  {
   "cell_type": "code",
   "execution_count": 10,
   "metadata": {},
   "outputs": [
    {
     "data": {
      "text/plain": [
       "array(['canopy_height', 'seedling_vigor', 'Sugar_content',\n",
       "       'crude_protein', 'lodging_percent', 'ndf',\n",
       "       'aboveground_biomass_moisture', 'crown_color',\n",
       "       'aboveground_fresh_biomass_per_plot', 'emergence_score',\n",
       "       'leaf_length', 'leaf_width', 'leaf_attachment_angle', 'adf',\n",
       "       'stem_width', 'flowering_time'], dtype=object)"
      ]
     },
     "execution_count": 10,
     "metadata": {},
     "output_type": "execute_result"
    }
   ],
   "source": [
    "# traits available in this dataset\n",
    "\n",
    "df_0.trait.unique()"
   ]
  },
  {
   "cell_type": "code",
   "execution_count": 11,
   "metadata": {},
   "outputs": [],
   "source": [
    "df_1 = df_0.loc[(df_0.trait == 'flowering_time') | (df_0.trait == 'canopy_height')]\n",
    "# print(df_1.shape)\n",
    "# df_1.head(3)"
   ]
  },
  {
   "cell_type": "markdown",
   "metadata": {},
   "source": [
    "#### Drop Columns & convert `date` to datetime object\n",
    "- convert `raw_date` to new datetime object\n",
    "- new datetime object will be in `date` column"
   ]
  },
  {
   "cell_type": "code",
   "execution_count": 12,
   "metadata": {},
   "outputs": [],
   "source": [
    "cols_to_drop = ['Unnamed: 0', 'checked', 'result_type', 'id', 'citation_id', 'site_id', 'treatment_id', \n",
    "                'scientificname', 'commonname', 'genus', 'species_id', 'cultivar_id', 'author', \n",
    "                'citation_year', 'time', 'month', 'year', 'n', 'statname', 'stat', 'notes', 'access_level', \n",
    "                'entity', 'view_url', 'edit_url', 'date', 'dateloc', 'city', 'treatment']\n",
    "\n",
    "df_2 = df_1.drop(labels=cols_to_drop, axis=1)\n",
    "# print(df_2.shape)\n",
    "# df_2.tail()"
   ]
  },
  {
   "cell_type": "markdown",
   "metadata": {},
   "source": [
    "#### Convert `raw_date` to datetime object"
   ]
  },
  {
   "cell_type": "code",
   "execution_count": 13,
   "metadata": {},
   "outputs": [],
   "source": [
    "new_dates = pd.to_datetime(df_2.raw_date)\n",
    "\n",
    "df_3 = df_2.copy()\n",
    "df_3['date'] = new_dates\n",
    "\n",
    "# print(df_2.shape[0])\n",
    "# print(df_3.shape[0])\n",
    "\n",
    "# df_3.head()"
   ]
  },
  {
   "cell_type": "markdown",
   "metadata": {},
   "source": [
    "#### Extract `Range` and `Pass` values"
   ]
  },
  {
   "cell_type": "code",
   "execution_count": 14,
   "metadata": {},
   "outputs": [],
   "source": [
    "df_4 = df_3.copy()\n",
    "\n",
    "df_4['range'] = df_4['sitename'].str.extract(\"Range (\\d+)\").astype(int)\n",
    "df_4['pass'] = df_4['sitename'].str.extract(\"Pass (\\d+)\").astype(int)\n",
    "\n",
    "# df_4.sample(n=3)"
   ]
  },
  {
   "cell_type": "markdown",
   "metadata": {},
   "source": [
    "#### A. Canopy Height"
   ]
  },
  {
   "cell_type": "code",
   "execution_count": 15,
   "metadata": {},
   "outputs": [
    {
     "data": {
      "text/plain": [
       "canopy_height     4044\n",
       "flowering_time     656\n",
       "Name: trait, dtype: int64"
      ]
     },
     "execution_count": 15,
     "metadata": {},
     "output_type": "execute_result"
    }
   ],
   "source": [
    "df_4.trait.value_counts()"
   ]
  },
  {
   "cell_type": "code",
   "execution_count": 16,
   "metadata": {},
   "outputs": [
    {
     "name": "stdout",
     "output_type": "stream",
     "text": [
      "(4044, 13)\n"
     ]
    }
   ],
   "source": [
    "ch_0 = df_4.loc[df_4.trait == 'canopy_height']\n",
    "print(ch_0.shape)\n",
    "# ch_0.head(3)"
   ]
  },
  {
   "cell_type": "markdown",
   "metadata": {},
   "source": [
    "#### Drop Columns\n",
    "- trait\n",
    "- units\n",
    "- raw date\n",
    "- method name"
   ]
  },
  {
   "cell_type": "code",
   "execution_count": 17,
   "metadata": {},
   "outputs": [],
   "source": [
    "cols_to_drop = ['raw_date', 'trait', 'units', 'method_name']\n",
    "\n",
    "ch_1 = ch_0.drop(labels=cols_to_drop, axis=1)\n",
    "# print(ch_1.shape)\n",
    "# ch_1.head()"
   ]
  },
  {
   "cell_type": "markdown",
   "metadata": {},
   "source": [
    "#### Reorder & Rename Columns"
   ]
  },
  {
   "cell_type": "code",
   "execution_count": 18,
   "metadata": {},
   "outputs": [],
   "source": [
    "ch_2 = ch_1.rename({'mean': 'canopy_height_cm'}, axis=1)\n",
    "# print(ch_2.shape)\n",
    "# ch_2.tail()"
   ]
  },
  {
   "cell_type": "markdown",
   "metadata": {},
   "source": [
    "#### Reorder Columns"
   ]
  },
  {
   "cell_type": "code",
   "execution_count": 19,
   "metadata": {},
   "outputs": [],
   "source": [
    "new_col_order = ['date', 'sitename', 'range', 'pass', 'lat', 'lon', 'cultivar', 'trait_description', 'canopy_height_cm']\n",
    "\n",
    "ch_3 = pd.DataFrame(data=ch_2, columns=new_col_order)\n",
    "# print(ch_3.shape)\n",
    "# ch_3.head()"
   ]
  },
  {
   "cell_type": "markdown",
   "metadata": {},
   "source": [
    "#### Check for duplicates"
   ]
  },
  {
   "cell_type": "code",
   "execution_count": 20,
   "metadata": {},
   "outputs": [],
   "source": [
    "# ch_3.duplicated().value_counts()"
   ]
  },
  {
   "cell_type": "markdown",
   "metadata": {},
   "source": [
    "#### Drop Duplicates"
   ]
  },
  {
   "cell_type": "code",
   "execution_count": 21,
   "metadata": {},
   "outputs": [],
   "source": [
    "ch_4 = ch_3.drop_duplicates(subset=['date', 'sitename', 'range', 'pass', 'cultivar', 'canopy_height_cm'], ignore_index=True)\n",
    "\n",
    "# print(ch_4.shape)\n",
    "# ch_4.head(3)"
   ]
  },
  {
   "cell_type": "markdown",
   "metadata": {},
   "source": [
    "#### B. Days & Growing Degree Days (GDD) to Flowering\n",
    "- Weather data in csv format downloaded from [KSU Weather Station](https://mesonet.k-state.edu/weather/historical/) in Ashland Bottoms\n",
    "- Queried using season dates\n",
    "- planting date: 2016-06-17\n",
    "- harvest date: 2016-10-21"
   ]
  },
  {
   "cell_type": "code",
   "execution_count": 22,
   "metadata": {},
   "outputs": [
    {
     "name": "stdout",
     "output_type": "stream",
     "text": [
      "2016-07-15 00:00:00 -0500\n",
      "2016-10-21 00:00:00 -0500\n"
     ]
    }
   ],
   "source": [
    "print(df_4.raw_date.min())\n",
    "print(df_4.raw_date.max())"
   ]
  },
  {
   "cell_type": "code",
   "execution_count": 23,
   "metadata": {},
   "outputs": [],
   "source": [
    "ksu_weather_url = 'https://de.cyverse.org/dl/d/64805E3B-0460-4AA1-8D8A-2D7246E05B35/ashland_bottoms_daily_weather_2016.csv'\n",
    "ksu_weather_input_filename = 'ksu_weather_data.csv'"
   ]
  },
  {
   "cell_type": "code",
   "execution_count": 24,
   "metadata": {},
   "outputs": [],
   "source": [
    "download_csv(ksu_weather_url, folder_name=folder_name, file_name=ksu_weather_input_filename)"
   ]
  },
  {
   "cell_type": "code",
   "execution_count": 25,
   "metadata": {},
   "outputs": [
    {
     "name": "stdout",
     "output_type": "stream",
     "text": [
      "(129, 16)\n"
     ]
    },
    {
     "data": {
      "text/html": [
       "<div>\n",
       "<style scoped>\n",
       "    .dataframe tbody tr th:only-of-type {\n",
       "        vertical-align: middle;\n",
       "    }\n",
       "\n",
       "    .dataframe tbody tr th {\n",
       "        vertical-align: top;\n",
       "    }\n",
       "\n",
       "    .dataframe thead th {\n",
       "        text-align: right;\n",
       "    }\n",
       "</style>\n",
       "<table border=\"1\" class=\"dataframe\">\n",
       "  <thead>\n",
       "    <tr style=\"text-align: right;\">\n",
       "      <th></th>\n",
       "      <th>Unnamed: 0</th>\n",
       "      <th>Timestamp</th>\n",
       "      <th>Station</th>\n",
       "      <th>AirTemperature</th>\n",
       "      <th>AirTemperature.1</th>\n",
       "      <th>RelativeHumidity</th>\n",
       "      <th>Precipitation</th>\n",
       "      <th>WindSpeed2m</th>\n",
       "      <th>WindSpeed2m.1</th>\n",
       "      <th>SoilTemperature5cm</th>\n",
       "      <th>SoilTemperature5cm.1</th>\n",
       "      <th>SoilTemperature10cm</th>\n",
       "      <th>SoilTemperature10cm.1</th>\n",
       "      <th>SolarRadiation</th>\n",
       "      <th>ETo</th>\n",
       "      <th>ETo.1</th>\n",
       "    </tr>\n",
       "  </thead>\n",
       "  <tbody>\n",
       "    <tr>\n",
       "      <th>0</th>\n",
       "      <td>NaN</td>\n",
       "      <td>NaN</td>\n",
       "      <td>NaN</td>\n",
       "      <td>max</td>\n",
       "      <td>min</td>\n",
       "      <td>avg</td>\n",
       "      <td>total</td>\n",
       "      <td>avg</td>\n",
       "      <td>max</td>\n",
       "      <td>max</td>\n",
       "      <td>min</td>\n",
       "      <td>max</td>\n",
       "      <td>min</td>\n",
       "      <td>total</td>\n",
       "      <td>grass</td>\n",
       "      <td>alfalfa</td>\n",
       "    </tr>\n",
       "    <tr>\n",
       "      <th>1</th>\n",
       "      <td>NaN</td>\n",
       "      <td>NaN</td>\n",
       "      <td>NaN</td>\n",
       "      <td>°C</td>\n",
       "      <td>°C</td>\n",
       "      <td>%</td>\n",
       "      <td>mm</td>\n",
       "      <td>m/s</td>\n",
       "      <td>m/s</td>\n",
       "      <td>°C</td>\n",
       "      <td>°C</td>\n",
       "      <td>°C</td>\n",
       "      <td>°C</td>\n",
       "      <td>MJ/m²</td>\n",
       "      <td>mm</td>\n",
       "      <td>mm</td>\n",
       "    </tr>\n",
       "    <tr>\n",
       "      <th>2</th>\n",
       "      <td>NaN</td>\n",
       "      <td>2016-06-17</td>\n",
       "      <td>Ashland Bottoms</td>\n",
       "      <td>37.8</td>\n",
       "      <td>24</td>\n",
       "      <td>66.6</td>\n",
       "      <td>0</td>\n",
       "      <td>2.3</td>\n",
       "      <td>9</td>\n",
       "      <td>27.5</td>\n",
       "      <td>25</td>\n",
       "      <td>25.7</td>\n",
       "      <td>24</td>\n",
       "      <td>30.4</td>\n",
       "      <td>7.96</td>\n",
       "      <td>9.92</td>\n",
       "    </tr>\n",
       "    <tr>\n",
       "      <th>3</th>\n",
       "      <td>NaN</td>\n",
       "      <td>2016-06-18</td>\n",
       "      <td>Ashland Bottoms</td>\n",
       "      <td>33.1</td>\n",
       "      <td>21.7</td>\n",
       "      <td>66.4</td>\n",
       "      <td>5.33</td>\n",
       "      <td>2.8</td>\n",
       "      <td>12.1</td>\n",
       "      <td>26.7</td>\n",
       "      <td>24.5</td>\n",
       "      <td>25.4</td>\n",
       "      <td>24.3</td>\n",
       "      <td>22.7</td>\n",
       "      <td>6.33</td>\n",
       "      <td>8.26</td>\n",
       "    </tr>\n",
       "    <tr>\n",
       "      <th>4</th>\n",
       "      <td>NaN</td>\n",
       "      <td>2016-06-19</td>\n",
       "      <td>Ashland Bottoms</td>\n",
       "      <td>35.3</td>\n",
       "      <td>21.9</td>\n",
       "      <td>62.5</td>\n",
       "      <td>0</td>\n",
       "      <td>2.9</td>\n",
       "      <td>7.4</td>\n",
       "      <td>26.7</td>\n",
       "      <td>24</td>\n",
       "      <td>25.2</td>\n",
       "      <td>23.7</td>\n",
       "      <td>29.3</td>\n",
       "      <td>7.7</td>\n",
       "      <td>9.9</td>\n",
       "    </tr>\n",
       "  </tbody>\n",
       "</table>\n",
       "</div>"
      ],
      "text/plain": [
       "   Unnamed: 0   Timestamp          Station AirTemperature AirTemperature.1  \\\n",
       "0         NaN         NaN              NaN            max              min   \n",
       "1         NaN         NaN              NaN             °C               °C   \n",
       "2         NaN  2016-06-17  Ashland Bottoms           37.8               24   \n",
       "3         NaN  2016-06-18  Ashland Bottoms           33.1             21.7   \n",
       "4         NaN  2016-06-19  Ashland Bottoms           35.3             21.9   \n",
       "\n",
       "  RelativeHumidity Precipitation WindSpeed2m WindSpeed2m.1 SoilTemperature5cm  \\\n",
       "0              avg         total         avg           max                max   \n",
       "1                %            mm         m/s           m/s                 °C   \n",
       "2             66.6             0         2.3             9               27.5   \n",
       "3             66.4          5.33         2.8          12.1               26.7   \n",
       "4             62.5             0         2.9           7.4               26.7   \n",
       "\n",
       "  SoilTemperature5cm.1 SoilTemperature10cm SoilTemperature10cm.1  \\\n",
       "0                  min                 max                   min   \n",
       "1                   °C                  °C                    °C   \n",
       "2                   25                25.7                    24   \n",
       "3                 24.5                25.4                  24.3   \n",
       "4                   24                25.2                  23.7   \n",
       "\n",
       "  SolarRadiation    ETo    ETo.1  \n",
       "0          total  grass  alfalfa  \n",
       "1          MJ/m²     mm       mm  \n",
       "2           30.4   7.96     9.92  \n",
       "3           22.7   6.33     8.26  \n",
       "4           29.3    7.7      9.9  "
      ]
     },
     "execution_count": 25,
     "metadata": {},
     "output_type": "execute_result"
    }
   ],
   "source": [
    "weather_0 = read_in_csv(folder_name=folder_name, file_name=ksu_weather_input_filename)\n",
    "print(weather_0.shape)\n",
    "weather_0.head()"
   ]
  },
  {
   "cell_type": "markdown",
   "metadata": {},
   "source": [
    "#### Change column names and drop first two rows\n",
    "- Add datetime column"
   ]
  },
  {
   "cell_type": "code",
   "execution_count": 26,
   "metadata": {},
   "outputs": [],
   "source": [
    "weather_1 = weather_0.rename({'Station': 'city', 'AirTemperature': 'air_temp_max_C', \n",
    "                                                  'AirTemperature.1': 'air_temp_min_C', 'RelativeHumidity': 'avg_rh',\n",
    "                                                  'Precipitation': 'precip_mm', 'WindSpeed2m': 'avg_wind_speed', \n",
    "                                                  'WindSpeed2m.1': 'max_wind_speed', 'SoilTemperature5cm': 'soil_temp_5cm_max',\n",
    "                                                  'SoilTemperature5cm.1': 'soil_temp_5cm_min', \n",
    "                                                  'SoilTemperature10cm': 'soil_temp_10cm_max', \n",
    "                                                  'SoilTemperature10cm.1': 'soil_temp_10cm_min', 'SolarRadiation': 'solar_rad',\n",
    "                                                  'ETo': 'eto_grass', 'ETo.1': 'eto_alfalfa'}, axis=1)\n",
    "# print(weather_1.shape)\n",
    "# weather_1.head()"
   ]
  },
  {
   "cell_type": "code",
   "execution_count": 27,
   "metadata": {},
   "outputs": [],
   "source": [
    "# Drop first 2 rows\n",
    "\n",
    "weather_2 = weather_1.iloc[2:]\n",
    "# print(weather_2.shape)\n",
    "# weather_2.head()"
   ]
  },
  {
   "cell_type": "code",
   "execution_count": 28,
   "metadata": {},
   "outputs": [],
   "source": [
    "weather_3 = weather_2.copy()\n",
    "\n",
    "datetimes = pd.to_datetime(weather_3['Timestamp'])\n",
    "weather_3['date'] = datetimes\n",
    "\n",
    "# print(weather_3.shape)\n",
    "# weather_3.tail()"
   ]
  },
  {
   "cell_type": "markdown",
   "metadata": {},
   "source": [
    "#### Drop Columns\n",
    "- timestamp\n",
    "- Unnamed: 0"
   ]
  },
  {
   "cell_type": "code",
   "execution_count": 29,
   "metadata": {},
   "outputs": [],
   "source": [
    "cols_to_drop = ['Unnamed: 0', 'Timestamp']\n",
    "\n",
    "weather_4 = weather_3.drop(labels=cols_to_drop, axis=1)\n",
    "# print(weather_4.shape)\n",
    "# weather_4.head()"
   ]
  },
  {
   "cell_type": "markdown",
   "metadata": {},
   "source": [
    "#### Convert numeric columns "
   ]
  },
  {
   "cell_type": "code",
   "execution_count": 30,
   "metadata": {},
   "outputs": [],
   "source": [
    "cols_to_convert = ['air_temp_max_C', 'air_temp_min_C', 'avg_rh', 'precip_mm', 'avg_wind_speed', 'max_wind_speed', \n",
    "                   'soil_temp_5cm_max', 'soil_temp_5cm_min', 'soil_temp_10cm_max', 'soil_temp_10cm_min', 'solar_rad', \n",
    "                   'eto_grass', 'eto_alfalfa', ]\n",
    "\n",
    "weather_5 = weather_4.copy()\n",
    "weather_5[cols_to_convert] = weather_5[cols_to_convert].apply(pd.to_numeric)\n",
    "# print(weather_5.shape)\n",
    "# print(weather_5.dtypes)"
   ]
  },
  {
   "cell_type": "markdown",
   "metadata": {},
   "source": [
    "#### Add `daily_gdd` column and check for negative values"
   ]
  },
  {
   "cell_type": "code",
   "execution_count": 31,
   "metadata": {},
   "outputs": [],
   "source": [
    "weather_6 = weather_5.copy()\n",
    "weather_6['daily_gdd'] = (((weather_6['air_temp_max_C'] + weather_6['air_temp_min_C'])) / 2) - 10\n",
    "# print(weather_6.shape)\n",
    "# weather_6.head()"
   ]
  },
  {
   "cell_type": "code",
   "execution_count": 32,
   "metadata": {},
   "outputs": [
    {
     "data": {
      "text/html": [
       "<div>\n",
       "<style scoped>\n",
       "    .dataframe tbody tr th:only-of-type {\n",
       "        vertical-align: middle;\n",
       "    }\n",
       "\n",
       "    .dataframe tbody tr th {\n",
       "        vertical-align: top;\n",
       "    }\n",
       "\n",
       "    .dataframe thead th {\n",
       "        text-align: right;\n",
       "    }\n",
       "</style>\n",
       "<table border=\"1\" class=\"dataframe\">\n",
       "  <thead>\n",
       "    <tr style=\"text-align: right;\">\n",
       "      <th></th>\n",
       "      <th>city</th>\n",
       "      <th>air_temp_max_C</th>\n",
       "      <th>air_temp_min_C</th>\n",
       "      <th>avg_rh</th>\n",
       "      <th>precip_mm</th>\n",
       "      <th>avg_wind_speed</th>\n",
       "      <th>max_wind_speed</th>\n",
       "      <th>soil_temp_5cm_max</th>\n",
       "      <th>soil_temp_5cm_min</th>\n",
       "      <th>soil_temp_10cm_max</th>\n",
       "      <th>soil_temp_10cm_min</th>\n",
       "      <th>solar_rad</th>\n",
       "      <th>eto_grass</th>\n",
       "      <th>eto_alfalfa</th>\n",
       "      <th>date</th>\n",
       "      <th>daily_gdd</th>\n",
       "    </tr>\n",
       "  </thead>\n",
       "  <tbody>\n",
       "    <tr>\n",
       "      <th>119</th>\n",
       "      <td>Ashland Bottoms</td>\n",
       "      <td>14.2</td>\n",
       "      <td>4.8</td>\n",
       "      <td>70.5</td>\n",
       "      <td>0.0</td>\n",
       "      <td>3.1</td>\n",
       "      <td>8.7</td>\n",
       "      <td>16.8</td>\n",
       "      <td>14.0</td>\n",
       "      <td>17.0</td>\n",
       "      <td>15.3</td>\n",
       "      <td>16.1</td>\n",
       "      <td>2.33</td>\n",
       "      <td>3.23</td>\n",
       "      <td>2016-10-12</td>\n",
       "      <td>-0.50</td>\n",
       "    </tr>\n",
       "    <tr>\n",
       "      <th>120</th>\n",
       "      <td>Ashland Bottoms</td>\n",
       "      <td>16.2</td>\n",
       "      <td>0.1</td>\n",
       "      <td>74.7</td>\n",
       "      <td>0.0</td>\n",
       "      <td>1.1</td>\n",
       "      <td>5.3</td>\n",
       "      <td>14.4</td>\n",
       "      <td>12.1</td>\n",
       "      <td>15.3</td>\n",
       "      <td>13.8</td>\n",
       "      <td>15.3</td>\n",
       "      <td>1.89</td>\n",
       "      <td>2.44</td>\n",
       "      <td>2016-10-13</td>\n",
       "      <td>-1.85</td>\n",
       "    </tr>\n",
       "  </tbody>\n",
       "</table>\n",
       "</div>"
      ],
      "text/plain": [
       "                city  air_temp_max_C  air_temp_min_C  avg_rh  precip_mm  \\\n",
       "119  Ashland Bottoms            14.2             4.8    70.5        0.0   \n",
       "120  Ashland Bottoms            16.2             0.1    74.7        0.0   \n",
       "\n",
       "     avg_wind_speed  max_wind_speed  soil_temp_5cm_max  soil_temp_5cm_min  \\\n",
       "119             3.1             8.7               16.8               14.0   \n",
       "120             1.1             5.3               14.4               12.1   \n",
       "\n",
       "     soil_temp_10cm_max  soil_temp_10cm_min  solar_rad  eto_grass  \\\n",
       "119                17.0                15.3       16.1       2.33   \n",
       "120                15.3                13.8       15.3       1.89   \n",
       "\n",
       "     eto_alfalfa       date  daily_gdd  \n",
       "119         3.23 2016-10-12      -0.50  \n",
       "120         2.44 2016-10-13      -1.85  "
      ]
     },
     "execution_count": 32,
     "metadata": {},
     "output_type": "execute_result"
    }
   ],
   "source": [
    "# Check for negative values\n",
    "\n",
    "weather_6.loc[weather_6.daily_gdd < 0]"
   ]
  },
  {
   "cell_type": "code",
   "execution_count": 33,
   "metadata": {},
   "outputs": [
    {
     "name": "stderr",
     "output_type": "stream",
     "text": [
      "<ipython-input-33-83fe36c110b4>:6: SettingWithCopyWarning: \n",
      "A value is trying to be set on a copy of a slice from a DataFrame\n",
      "\n",
      "See the caveats in the documentation: https://pandas.pydata.org/pandas-docs/stable/user_guide/indexing.html#returning-a-view-versus-a-copy\n",
      "  v[v < 0] = 0\n"
     ]
    }
   ],
   "source": [
    "weather_7 = weather_6.copy()\n",
    "\n",
    "for k,v in weather_7.iteritems():\n",
    "    \n",
    "    if k == 'daily_gdd':\n",
    "        v[v < 0] = 0"
   ]
  },
  {
   "cell_type": "code",
   "execution_count": 34,
   "metadata": {},
   "outputs": [
    {
     "data": {
      "text/html": [
       "<div>\n",
       "<style scoped>\n",
       "    .dataframe tbody tr th:only-of-type {\n",
       "        vertical-align: middle;\n",
       "    }\n",
       "\n",
       "    .dataframe tbody tr th {\n",
       "        vertical-align: top;\n",
       "    }\n",
       "\n",
       "    .dataframe thead th {\n",
       "        text-align: right;\n",
       "    }\n",
       "</style>\n",
       "<table border=\"1\" class=\"dataframe\">\n",
       "  <thead>\n",
       "    <tr style=\"text-align: right;\">\n",
       "      <th></th>\n",
       "      <th>city</th>\n",
       "      <th>air_temp_max_C</th>\n",
       "      <th>air_temp_min_C</th>\n",
       "      <th>avg_rh</th>\n",
       "      <th>precip_mm</th>\n",
       "      <th>avg_wind_speed</th>\n",
       "      <th>max_wind_speed</th>\n",
       "      <th>soil_temp_5cm_max</th>\n",
       "      <th>soil_temp_5cm_min</th>\n",
       "      <th>soil_temp_10cm_max</th>\n",
       "      <th>soil_temp_10cm_min</th>\n",
       "      <th>solar_rad</th>\n",
       "      <th>eto_grass</th>\n",
       "      <th>eto_alfalfa</th>\n",
       "      <th>date</th>\n",
       "      <th>daily_gdd</th>\n",
       "    </tr>\n",
       "  </thead>\n",
       "  <tbody>\n",
       "  </tbody>\n",
       "</table>\n",
       "</div>"
      ],
      "text/plain": [
       "Empty DataFrame\n",
       "Columns: [city, air_temp_max_C, air_temp_min_C, avg_rh, precip_mm, avg_wind_speed, max_wind_speed, soil_temp_5cm_max, soil_temp_5cm_min, soil_temp_10cm_max, soil_temp_10cm_min, solar_rad, eto_grass, eto_alfalfa, date, daily_gdd]\n",
       "Index: []"
      ]
     },
     "execution_count": 34,
     "metadata": {},
     "output_type": "execute_result"
    }
   ],
   "source": [
    "# should return empty df now\n",
    "\n",
    "weather_7.loc[weather_7.daily_gdd < 0]"
   ]
  },
  {
   "cell_type": "code",
   "execution_count": 35,
   "metadata": {},
   "outputs": [],
   "source": [
    "# Add cumulative GDD, round to nearest integer\n",
    "\n",
    "weather_8 = weather_7.copy()\n",
    "\n",
    "weather_8['gdd'] = np.rint(np.cumsum(weather_8['daily_gdd']))\n",
    "# print(weather_8.shape)\n",
    "# weather_8.tail()"
   ]
  },
  {
   "cell_type": "markdown",
   "metadata": {},
   "source": [
    "#### Drop `daily_gdd` column, add cumulative precipitation column"
   ]
  },
  {
   "cell_type": "code",
   "execution_count": 36,
   "metadata": {},
   "outputs": [],
   "source": [
    "weather_9 = weather_8.drop(labels=['daily_gdd'], axis=1)\n",
    "# print(weather_9.shape)\n",
    "# print(weather_9.columns)"
   ]
  },
  {
   "cell_type": "code",
   "execution_count": 37,
   "metadata": {},
   "outputs": [],
   "source": [
    "weather_10 = weather_9.copy()\n",
    "weather_10['cum_precip_mm'] = np.round(np.cumsum(weather_10.precip_mm), 2)\n",
    "\n",
    "# print(weather_10.shape)\n",
    "# weather_10.head(3)"
   ]
  },
  {
   "cell_type": "markdown",
   "metadata": {},
   "source": [
    "#### Write Ashland Bottoms Weather Interim Data to `.csv`"
   ]
  },
  {
   "cell_type": "code",
   "execution_count": 38,
   "metadata": {},
   "outputs": [],
   "source": [
    "# timestamp = datetime.datetime.now().replace(microsecond=0).isoformat()\n",
    "# output_filename = f'data/interim/ashland_bottoms_weather_2016_daily_{timestamp}.csv'.replace(':', '')\n",
    "\n",
    "# weather_10.to_csv(output_filename, index=False)"
   ]
  },
  {
   "cell_type": "code",
   "execution_count": null,
   "metadata": {},
   "outputs": [],
   "source": []
  },
  {
   "cell_type": "markdown",
   "metadata": {},
   "source": [
    "#### Add GDD to Days to Flowering DataFrame\n",
    "- slice trait data to only include `days_to_flowering`\n",
    "- merge DataFrames on `date_of_flowering`"
   ]
  },
  {
   "cell_type": "code",
   "execution_count": 39,
   "metadata": {},
   "outputs": [],
   "source": [
    "# df_4.trait.value_counts()"
   ]
  },
  {
   "cell_type": "code",
   "execution_count": 40,
   "metadata": {},
   "outputs": [],
   "source": [
    "fl_0 = df_4.loc[df_4.trait == 'flowering_time']\n",
    "# print(fl_0.shape)\n",
    "# fl_0.head()"
   ]
  },
  {
   "cell_type": "code",
   "execution_count": 41,
   "metadata": {},
   "outputs": [],
   "source": [
    "cols_to_drop = ['raw_date', 'trait', 'units', 'method_name']\n",
    "\n",
    "fl_1 = fl_0.drop(labels=cols_to_drop, axis=1)\n",
    "# print(fl_1.shape)\n",
    "# fl_1.tail()"
   ]
  },
  {
   "cell_type": "markdown",
   "metadata": {},
   "source": [
    "#### Rename trait column"
   ]
  },
  {
   "cell_type": "code",
   "execution_count": 42,
   "metadata": {},
   "outputs": [],
   "source": [
    "fl_2 = fl_1.rename({'mean': 'days_to_flowering'}, axis=1)\n",
    "# print(fl_2.shape)\n",
    "# fl_2.sample(n=3, random_state=42)"
   ]
  },
  {
   "cell_type": "markdown",
   "metadata": {},
   "source": [
    "#### Add `planting_date`\n",
    "- 2016-06-17"
   ]
  },
  {
   "cell_type": "code",
   "execution_count": 43,
   "metadata": {},
   "outputs": [],
   "source": [
    "day_of_planting = datetime.date(2016,6,17)\n",
    "fl_3 = fl_2.copy()\n",
    "\n",
    "fl_3['date_of_planting'] = day_of_planting\n",
    "# print(fl_3.shape)\n",
    "# fl_3.head()"
   ]
  },
  {
   "cell_type": "markdown",
   "metadata": {},
   "source": [
    "#### Create timedelta using `flowering_time` values"
   ]
  },
  {
   "cell_type": "code",
   "execution_count": 44,
   "metadata": {},
   "outputs": [],
   "source": [
    "timedelta_values = fl_3['days_to_flowering'].values\n",
    "dates_of_flowering = []\n",
    "\n",
    "for val in timedelta_values:\n",
    "    \n",
    "    date_of_flowering = day_of_planting + datetime.timedelta(days=val)\n",
    "    dates_of_flowering.append(date_of_flowering)\n",
    "    \n",
    "# print(fl_3.shape[0])\n",
    "# print(len(dates_of_flowering))"
   ]
  },
  {
   "cell_type": "code",
   "execution_count": 45,
   "metadata": {},
   "outputs": [],
   "source": [
    "fl_4 = fl_3.copy()\n",
    "fl_4['date_of_flowering'] = dates_of_flowering\n",
    "# print(fl_4.shape)\n",
    "# fl_4.sample(n=5, random_state=42)"
   ]
  },
  {
   "cell_type": "markdown",
   "metadata": {},
   "source": [
    "#### Add GDD flowering DataFrame"
   ]
  },
  {
   "cell_type": "code",
   "execution_count": 46,
   "metadata": {},
   "outputs": [],
   "source": [
    "weather_gdd = weather_10[['date', 'gdd']]\n",
    "# print(weather_gdd.shape)\n",
    "# weather_gdd.head()"
   ]
  },
  {
   "cell_type": "code",
   "execution_count": 47,
   "metadata": {},
   "outputs": [],
   "source": [
    "fl_5 = fl_4.copy()\n",
    "fl_5.date_of_flowering = pd.to_datetime(fl_5.date_of_flowering)\n",
    "# fl_5.dtypes"
   ]
  },
  {
   "cell_type": "code",
   "execution_count": 48,
   "metadata": {},
   "outputs": [],
   "source": [
    "fl_6 = fl_5.merge(weather_gdd, how='left', left_on='date_of_flowering', right_on=weather_gdd['date'])\n",
    "# print(fl_6.shape)\n",
    "# fl_6.head()"
   ]
  },
  {
   "cell_type": "markdown",
   "metadata": {},
   "source": [
    "#### Check for duplicates"
   ]
  },
  {
   "cell_type": "code",
   "execution_count": 49,
   "metadata": {},
   "outputs": [],
   "source": [
    "# fl_6.duplicated().value_counts()"
   ]
  },
  {
   "cell_type": "code",
   "execution_count": 50,
   "metadata": {},
   "outputs": [],
   "source": [
    "fl_7 = fl_6.drop_duplicates(subset=['sitename', 'days_to_flowering', 'cultivar', 'date_of_flowering', 'gdd'], \n",
    "                           ignore_index=True)\n",
    "\n",
    "# print(fl_7.shape)\n",
    "# fl_7.tail()"
   ]
  },
  {
   "cell_type": "markdown",
   "metadata": {},
   "source": [
    "#### Drop all date columns except `date_of_flowering`"
   ]
  },
  {
   "cell_type": "code",
   "execution_count": 51,
   "metadata": {},
   "outputs": [],
   "source": [
    "date_cols_to_drop = ['date_x', 'date_of_planting', 'date_y']\n",
    "\n",
    "fl_8 = fl_7.drop(labels=date_cols_to_drop, axis=1)\n",
    "# print(fl_8.shape)\n",
    "# fl_8.head()"
   ]
  },
  {
   "cell_type": "markdown",
   "metadata": {},
   "source": [
    "#### Write flowering dataframe to `.csv`"
   ]
  },
  {
   "cell_type": "code",
   "execution_count": 54,
   "metadata": {},
   "outputs": [],
   "source": [
    "list_of_dfs = [ch_4, fl_8]\n",
    "list_of_output_filenames = ['ksu_canopy_height.csv', 'ksu_days_gdd_to_flowering.csv']\n",
    "\n",
    "save_to_csv_without_timestamp(list_of_dfs=list_of_dfs, list_of_output_filenames=list_of_output_filenames)"
   ]
  },
  {
   "cell_type": "code",
   "execution_count": null,
   "metadata": {},
   "outputs": [],
   "source": []
  }
 ],
 "metadata": {
  "kernelspec": {
   "display_name": "Python 3",
   "language": "python",
   "name": "python3"
  },
  "language_info": {
   "codemirror_mode": {
    "name": "ipython",
    "version": 3
   },
   "file_extension": ".py",
   "mimetype": "text/x-python",
   "name": "python",
   "nbconvert_exporter": "python",
   "pygments_lexer": "ipython3",
   "version": "3.8.3"
  }
 },
 "nbformat": 4,
 "nbformat_minor": 4
}
