{
 "cells": [
  {
   "cell_type": "markdown",
   "metadata": {},
   "source": [
    "## Tall Format Trait Table\n",
    "### Columns\n",
    "* Sitename\n",
    "* Range\n",
    "* Column\n",
    "* Date\n",
    "* Cultivar\n",
    "* Trait\n",
    "* Trait Value\n",
    "\n",
    "### Notes and ToDos for this table\n",
    "* Add trait id - where is this located?\n",
    "* Can wait for feedback on the best way to incorporate TO Mappings\n",
    "* Remove index - use date column as index?\n",
    "* Add GDD?"
   ]
  },
  {
   "cell_type": "code",
   "execution_count": 1,
   "metadata": {},
   "outputs": [],
   "source": [
    "import datetime\n",
    "import numpy as np\n",
    "import pandas as pd\n",
    "import sqlalchemy\n",
    "import sqlite3"
   ]
  },
  {
   "cell_type": "code",
   "execution_count": 4,
   "metadata": {},
   "outputs": [
    {
     "name": "stdout",
     "output_type": "stream",
     "text": [
      "/Users/ejcain/UA-AG/phenotypes/terraref-datasets\n"
     ]
    }
   ],
   "source": [
    "# %pwd\n",
    "# %cd '/Users/ejcain/UA-AG/phenotypes/terraref-datasets'"
   ]
  },
  {
   "cell_type": "code",
   "execution_count": 12,
   "metadata": {},
   "outputs": [
    {
     "data": {
      "text/plain": [
       "(372363, 39)"
      ]
     },
     "execution_count": 12,
     "metadata": {},
     "output_type": "execute_result"
    }
   ],
   "source": [
    "df_0 = pd.read_csv('data/raw/mac_season_4.csv', low_memory=False)\n",
    "df_0.shape"
   ]
  },
  {
   "cell_type": "code",
   "execution_count": 13,
   "metadata": {},
   "outputs": [
    {
     "data": {
      "text/plain": [
       "Index(['Unnamed: 0', 'checked', 'result_type', 'id', 'citation_id', 'site_id',\n",
       "       'treatment_id', 'sitename', 'city', 'lat', 'lon', 'scientificname',\n",
       "       'commonname', 'genus', 'species_id', 'cultivar_id', 'author',\n",
       "       'citation_year', 'treatment', 'date', 'time', 'raw_date', 'month',\n",
       "       'year', 'dateloc', 'trait', 'trait_description', 'mean', 'units', 'n',\n",
       "       'statname', 'stat', 'notes', 'access_level', 'cultivar', 'entity',\n",
       "       'method_name', 'view_url', 'edit_url'],\n",
       "      dtype='object')"
      ]
     },
     "execution_count": 13,
     "metadata": {},
     "output_type": "execute_result"
    }
   ],
   "source": [
    "# df_0.columns"
   ]
  },
  {
   "cell_type": "code",
   "execution_count": 22,
   "metadata": {},
   "outputs": [],
   "source": [
    "cols_to_drop = ['Unnamed: 0', 'checked', 'result_type', 'id', 'citation_id', 'site_id', 'treatment_id', 'city', \n",
    "                'scientificname', 'commonname', 'genus', 'species_id', 'cultivar_id', 'author', 'citation_year',\n",
    "                'treatment', 'time', 'raw_date', 'month', 'year', 'dateloc', 'trait_description', 'units', 'n', 'statname',\n",
    "                'stat', 'notes', 'access_level', 'entity', 'method_name', 'view_url', 'edit_url']"
   ]
  },
  {
   "cell_type": "code",
   "execution_count": 23,
   "metadata": {},
   "outputs": [],
   "source": [
    "df_1 = df_0.drop(labels=cols_to_drop, axis=1)\n",
    "# df_1.head()"
   ]
  },
  {
   "cell_type": "code",
   "execution_count": null,
   "metadata": {},
   "outputs": [],
   "source": [
    "# df_1.shape"
   ]
  },
  {
   "cell_type": "code",
   "execution_count": null,
   "metadata": {},
   "outputs": [],
   "source": [
    "# print(df_1.date.min())\n",
    "# print(df_1.date.max())"
   ]
  },
  {
   "cell_type": "code",
   "execution_count": null,
   "metadata": {},
   "outputs": [],
   "source": [
    "# Do all dates in the df contain the string (America/Phoenix)?\n",
    "\n",
    "count = 0\n",
    "for d in df_1.date.values:\n",
    "    if 'America/Phoenix' in d:\n",
    "        count += 1\n",
    "\n",
    "count"
   ]
  },
  {
   "cell_type": "code",
   "execution_count": null,
   "metadata": {},
   "outputs": [],
   "source": [
    "# Do all the dates start with 2017?\n",
    "\n",
    "count = 0\n",
    "for d in df_1.date.values:\n",
    "    if d.startswith('2017'):\n",
    "        count += 1\n",
    "        \n",
    "count"
   ]
  },
  {
   "cell_type": "markdown",
   "metadata": {},
   "source": [
    "### I. Change date values to iso date format\n",
    "* date(s) as index?"
   ]
  },
  {
   "cell_type": "code",
   "execution_count": 24,
   "metadata": {},
   "outputs": [
    {
     "name": "stdout",
     "output_type": "stream",
     "text": [
      "372363\n"
     ]
    }
   ],
   "source": [
    "new_dates = []\n",
    "\n",
    "for d in df_1.date.values:\n",
    "    \n",
    "    if 'Phoenix' in d:\n",
    "        new_name = d[:-18]\n",
    "        new_dates.append(new_name)\n",
    "    \n",
    "    else:\n",
    "        new_name = d\n",
    "        new_dates.append(new_name)\n",
    "        \n",
    "print(len(new_dates))"
   ]
  },
  {
   "cell_type": "code",
   "execution_count": 25,
   "metadata": {},
   "outputs": [],
   "source": [
    "iso_format_dates = pd.to_datetime(new_dates)"
   ]
  },
  {
   "cell_type": "code",
   "execution_count": 26,
   "metadata": {},
   "outputs": [
    {
     "data": {
      "text/html": [
       "<div>\n",
       "<style scoped>\n",
       "    .dataframe tbody tr th:only-of-type {\n",
       "        vertical-align: middle;\n",
       "    }\n",
       "\n",
       "    .dataframe tbody tr th {\n",
       "        vertical-align: top;\n",
       "    }\n",
       "\n",
       "    .dataframe thead th {\n",
       "        text-align: right;\n",
       "    }\n",
       "</style>\n",
       "<table border=\"1\" class=\"dataframe\">\n",
       "  <thead>\n",
       "    <tr style=\"text-align: right;\">\n",
       "      <th></th>\n",
       "      <th>sitename</th>\n",
       "      <th>lat</th>\n",
       "      <th>lon</th>\n",
       "      <th>date</th>\n",
       "      <th>trait</th>\n",
       "      <th>mean</th>\n",
       "      <th>cultivar</th>\n",
       "      <th>date_1</th>\n",
       "    </tr>\n",
       "  </thead>\n",
       "  <tbody>\n",
       "    <tr>\n",
       "      <th>0</th>\n",
       "      <td>MAC Field Scanner Season 4 Range 11 Column 5</td>\n",
       "      <td>33.074907</td>\n",
       "      <td>-111.974982</td>\n",
       "      <td>2017 Jun 14 (America/Phoenix)</td>\n",
       "      <td>leaf_desiccation_present</td>\n",
       "      <td>0.0</td>\n",
       "      <td>PI181083</td>\n",
       "      <td>2017-06-14</td>\n",
       "    </tr>\n",
       "    <tr>\n",
       "      <th>1</th>\n",
       "      <td>MAC Field Scanner Season 4 Range 11 Column 6</td>\n",
       "      <td>33.074907</td>\n",
       "      <td>-111.974966</td>\n",
       "      <td>2017 Jun 14 (America/Phoenix)</td>\n",
       "      <td>leaf_desiccation_present</td>\n",
       "      <td>0.0</td>\n",
       "      <td>PI564163</td>\n",
       "      <td>2017-06-14</td>\n",
       "    </tr>\n",
       "    <tr>\n",
       "      <th>2</th>\n",
       "      <td>MAC Field Scanner Season 4 Range 11 Column 9</td>\n",
       "      <td>33.074907</td>\n",
       "      <td>-111.974917</td>\n",
       "      <td>2017 Jun 14 (America/Phoenix)</td>\n",
       "      <td>leaf_desiccation_present</td>\n",
       "      <td>0.0</td>\n",
       "      <td>PI52606</td>\n",
       "      <td>2017-06-14</td>\n",
       "    </tr>\n",
       "    <tr>\n",
       "      <th>3</th>\n",
       "      <td>MAC Field Scanner Season 4 Range 11 Column 11</td>\n",
       "      <td>33.074907</td>\n",
       "      <td>-111.974884</td>\n",
       "      <td>2017 Jun 14 (America/Phoenix)</td>\n",
       "      <td>leaf_desiccation_present</td>\n",
       "      <td>0.0</td>\n",
       "      <td>PI533792</td>\n",
       "      <td>2017-06-14</td>\n",
       "    </tr>\n",
       "    <tr>\n",
       "      <th>4</th>\n",
       "      <td>MAC Field Scanner Season 4 Range 11 Column 14</td>\n",
       "      <td>33.074907</td>\n",
       "      <td>-111.974835</td>\n",
       "      <td>2017 Jun 14 (America/Phoenix)</td>\n",
       "      <td>leaf_desiccation_present</td>\n",
       "      <td>0.0</td>\n",
       "      <td>PI535794</td>\n",
       "      <td>2017-06-14</td>\n",
       "    </tr>\n",
       "  </tbody>\n",
       "</table>\n",
       "</div>"
      ],
      "text/plain": [
       "                                        sitename        lat         lon  \\\n",
       "0   MAC Field Scanner Season 4 Range 11 Column 5  33.074907 -111.974982   \n",
       "1   MAC Field Scanner Season 4 Range 11 Column 6  33.074907 -111.974966   \n",
       "2   MAC Field Scanner Season 4 Range 11 Column 9  33.074907 -111.974917   \n",
       "3  MAC Field Scanner Season 4 Range 11 Column 11  33.074907 -111.974884   \n",
       "4  MAC Field Scanner Season 4 Range 11 Column 14  33.074907 -111.974835   \n",
       "\n",
       "                            date                     trait  mean  cultivar  \\\n",
       "0  2017 Jun 14 (America/Phoenix)  leaf_desiccation_present   0.0  PI181083   \n",
       "1  2017 Jun 14 (America/Phoenix)  leaf_desiccation_present   0.0  PI564163   \n",
       "2  2017 Jun 14 (America/Phoenix)  leaf_desiccation_present   0.0   PI52606   \n",
       "3  2017 Jun 14 (America/Phoenix)  leaf_desiccation_present   0.0  PI533792   \n",
       "4  2017 Jun 14 (America/Phoenix)  leaf_desiccation_present   0.0  PI535794   \n",
       "\n",
       "      date_1  \n",
       "0 2017-06-14  \n",
       "1 2017-06-14  \n",
       "2 2017-06-14  \n",
       "3 2017-06-14  \n",
       "4 2017-06-14  "
      ]
     },
     "execution_count": 26,
     "metadata": {},
     "output_type": "execute_result"
    }
   ],
   "source": [
    "df_1['date_1'] = iso_format_dates\n",
    "df_1.head()"
   ]
  },
  {
   "cell_type": "markdown",
   "metadata": {},
   "source": [
    "### II. Change sitenames to strip E and W subplot designations\n",
    "* Check which traits are associated with subplots"
   ]
  },
  {
   "cell_type": "code",
   "execution_count": null,
   "metadata": {},
   "outputs": [],
   "source": [
    "e_w_plots = df_1.loc[(df_1.sitename.str.endswith(' E')) | (df_1.sitename.str.endswith(' W'))]\n",
    "e_w_plots.trait.unique()"
   ]
  },
  {
   "cell_type": "code",
   "execution_count": null,
   "metadata": {},
   "outputs": [],
   "source": [
    "e_w_plot_traits = e_w_plots.trait.unique()"
   ]
  },
  {
   "cell_type": "code",
   "execution_count": 27,
   "metadata": {},
   "outputs": [
    {
     "name": "stdout",
     "output_type": "stream",
     "text": [
      "372363\n"
     ]
    }
   ],
   "source": [
    "sitename_values = df_1.sitename.values\n",
    "no_e_w_names = []\n",
    "\n",
    "for name in sitename_values:\n",
    "    \n",
    "    if name.endswith(' W') | name.endswith(' E'):\n",
    "        name = name[:-2]\n",
    "        no_e_w_names.append(name)\n",
    "        \n",
    "    else:\n",
    "        no_e_w_names.append(name)\n",
    "\n",
    "print(len(no_e_w_names))"
   ]
  },
  {
   "cell_type": "code",
   "execution_count": 28,
   "metadata": {},
   "outputs": [],
   "source": [
    "df_1['sitename_1'] = no_e_w_names\n",
    "# df_1.sample(n=7)"
   ]
  },
  {
   "cell_type": "code",
   "execution_count": null,
   "metadata": {},
   "outputs": [],
   "source": [
    "# df_1.loc[df_1.sitename.str.endswith(' E')].iloc[0]"
   ]
  },
  {
   "cell_type": "markdown",
   "metadata": {},
   "source": [
    "#### III. Extract Range and Column Values"
   ]
  },
  {
   "cell_type": "code",
   "execution_count": 29,
   "metadata": {},
   "outputs": [],
   "source": [
    "df_1['range'] = df_1['sitename'].str.extract(\"Range (\\d+)\").astype(int)\n",
    "df_1['column'] = df_1['sitename'].str.extract(\"Column (\\d+)\").astype(int)\n",
    "\n",
    "# df_1.sample(n=7)"
   ]
  },
  {
   "cell_type": "markdown",
   "metadata": {},
   "source": [
    "#### Drop duplicated Columns, Reorder, Rename, & Sort by Date"
   ]
  },
  {
   "cell_type": "code",
   "execution_count": 30,
   "metadata": {},
   "outputs": [
    {
     "data": {
      "text/plain": [
       "(372363, 9)"
      ]
     },
     "execution_count": 30,
     "metadata": {},
     "output_type": "execute_result"
    }
   ],
   "source": [
    "df_2 = df_1.drop(labels=['sitename', 'date'], axis=1)\n",
    "df_2.shape"
   ]
  },
  {
   "cell_type": "code",
   "execution_count": null,
   "metadata": {},
   "outputs": [],
   "source": [
    "df_2.columns"
   ]
  },
  {
   "cell_type": "code",
   "execution_count": 31,
   "metadata": {},
   "outputs": [],
   "source": [
    "col_reorder = ['date_1', 'sitename_1', 'range', 'column', 'lat', 'lon', 'cultivar', 'trait', 'mean']"
   ]
  },
  {
   "cell_type": "code",
   "execution_count": 32,
   "metadata": {},
   "outputs": [],
   "source": [
    "df_3 = pd.DataFrame(data=df_2, columns=col_reorder, index=df_2.index)\n",
    "# df_3.head()"
   ]
  },
  {
   "cell_type": "code",
   "execution_count": 33,
   "metadata": {},
   "outputs": [
    {
     "data": {
      "text/html": [
       "<div>\n",
       "<style scoped>\n",
       "    .dataframe tbody tr th:only-of-type {\n",
       "        vertical-align: middle;\n",
       "    }\n",
       "\n",
       "    .dataframe tbody tr th {\n",
       "        vertical-align: top;\n",
       "    }\n",
       "\n",
       "    .dataframe thead th {\n",
       "        text-align: right;\n",
       "    }\n",
       "</style>\n",
       "<table border=\"1\" class=\"dataframe\">\n",
       "  <thead>\n",
       "    <tr style=\"text-align: right;\">\n",
       "      <th></th>\n",
       "      <th>date</th>\n",
       "      <th>sitename</th>\n",
       "      <th>range</th>\n",
       "      <th>column</th>\n",
       "      <th>lat</th>\n",
       "      <th>lon</th>\n",
       "      <th>cultivar</th>\n",
       "      <th>trait</th>\n",
       "      <th>value</th>\n",
       "    </tr>\n",
       "  </thead>\n",
       "  <tbody>\n",
       "    <tr>\n",
       "      <th>372358</th>\n",
       "      <td>2017-06-06</td>\n",
       "      <td>MAC Field Scanner Season 4 Range 44 Column 9</td>\n",
       "      <td>44</td>\n",
       "      <td>9</td>\n",
       "      <td>33.076093</td>\n",
       "      <td>-111.974917</td>\n",
       "      <td>PI329286</td>\n",
       "      <td>leaf_angle_beta</td>\n",
       "      <td>2.052416</td>\n",
       "    </tr>\n",
       "    <tr>\n",
       "      <th>372359</th>\n",
       "      <td>2017-06-06</td>\n",
       "      <td>MAC Field Scanner Season 4 Range 44 Column 9</td>\n",
       "      <td>44</td>\n",
       "      <td>9</td>\n",
       "      <td>33.076093</td>\n",
       "      <td>-111.974917</td>\n",
       "      <td>PI329286</td>\n",
       "      <td>leaf_angle_chi</td>\n",
       "      <td>2.140986</td>\n",
       "    </tr>\n",
       "    <tr>\n",
       "      <th>372360</th>\n",
       "      <td>2017-06-06</td>\n",
       "      <td>MAC Field Scanner Season 4 Range 44 Column 13</td>\n",
       "      <td>44</td>\n",
       "      <td>13</td>\n",
       "      <td>33.076093</td>\n",
       "      <td>-111.974852</td>\n",
       "      <td>PI329843</td>\n",
       "      <td>leaf_angle_mean</td>\n",
       "      <td>0.401801</td>\n",
       "    </tr>\n",
       "    <tr>\n",
       "      <th>372361</th>\n",
       "      <td>2017-06-06</td>\n",
       "      <td>MAC Field Scanner Season 4 Range 44 Column 13</td>\n",
       "      <td>44</td>\n",
       "      <td>13</td>\n",
       "      <td>33.076093</td>\n",
       "      <td>-111.974852</td>\n",
       "      <td>PI329843</td>\n",
       "      <td>leaf_angle_alpha</td>\n",
       "      <td>3.217374</td>\n",
       "    </tr>\n",
       "    <tr>\n",
       "      <th>372362</th>\n",
       "      <td>2017-06-06</td>\n",
       "      <td>MAC Field Scanner Season 4 Range 44 Column 13</td>\n",
       "      <td>44</td>\n",
       "      <td>13</td>\n",
       "      <td>33.076093</td>\n",
       "      <td>-111.974852</td>\n",
       "      <td>PI329843</td>\n",
       "      <td>leaf_angle_beta</td>\n",
       "      <td>1.980157</td>\n",
       "    </tr>\n",
       "  </tbody>\n",
       "</table>\n",
       "</div>"
      ],
      "text/plain": [
       "             date                                       sitename  range  \\\n",
       "372358 2017-06-06   MAC Field Scanner Season 4 Range 44 Column 9     44   \n",
       "372359 2017-06-06   MAC Field Scanner Season 4 Range 44 Column 9     44   \n",
       "372360 2017-06-06  MAC Field Scanner Season 4 Range 44 Column 13     44   \n",
       "372361 2017-06-06  MAC Field Scanner Season 4 Range 44 Column 13     44   \n",
       "372362 2017-06-06  MAC Field Scanner Season 4 Range 44 Column 13     44   \n",
       "\n",
       "        column        lat         lon  cultivar             trait     value  \n",
       "372358       9  33.076093 -111.974917  PI329286   leaf_angle_beta  2.052416  \n",
       "372359       9  33.076093 -111.974917  PI329286    leaf_angle_chi  2.140986  \n",
       "372360      13  33.076093 -111.974852  PI329843   leaf_angle_mean  0.401801  \n",
       "372361      13  33.076093 -111.974852  PI329843  leaf_angle_alpha  3.217374  \n",
       "372362      13  33.076093 -111.974852  PI329843   leaf_angle_beta  1.980157  "
      ]
     },
     "execution_count": 33,
     "metadata": {},
     "output_type": "execute_result"
    }
   ],
   "source": [
    "df_4 = df_3.rename({'date_1': 'date', 'sitename_1': 'sitename', 'mean': 'value'}, axis=1)\n",
    "df_4.tail()"
   ]
  },
  {
   "cell_type": "code",
   "execution_count": 34,
   "metadata": {},
   "outputs": [
    {
     "name": "stdout",
     "output_type": "stream",
     "text": [
      "(372363, 9)\n",
      "(372363, 9)\n"
     ]
    }
   ],
   "source": [
    "df_5 = df_4.sort_values(by=['date'], ascending=True)\n",
    "print(df_5.shape)\n",
    "print(df_4.shape)\n",
    "# df_5.head()"
   ]
  },
  {
   "cell_type": "markdown",
   "metadata": {},
   "source": [
    "### III. Drop traits not needed at this time\n",
    "* dropping `canopy_height` because of the E W subplots - dealing with those values separately"
   ]
  },
  {
   "cell_type": "code",
   "execution_count": 36,
   "metadata": {},
   "outputs": [],
   "source": [
    "# df_5.trait.unique()"
   ]
  },
  {
   "cell_type": "code",
   "execution_count": 37,
   "metadata": {},
   "outputs": [],
   "source": [
    "traits_to_keep = ['flowering_time', 'flag_leaf_emergence_time', 'light_intensity_PAR', 'aboveground_dry_biomass']"
   ]
  },
  {
   "cell_type": "code",
   "execution_count": 38,
   "metadata": {},
   "outputs": [
    {
     "data": {
      "text/plain": [
       "(2338, 9)"
      ]
     },
     "execution_count": 38,
     "metadata": {},
     "output_type": "execute_result"
    }
   ],
   "source": [
    "df_6 = df_5.loc[df_5.trait.isin(traits_to_keep)]\n",
    "df_6.shape"
   ]
  },
  {
   "cell_type": "code",
   "execution_count": 39,
   "metadata": {},
   "outputs": [
    {
     "data": {
      "text/plain": [
       "date        0\n",
       "sitename    0\n",
       "range       0\n",
       "column      0\n",
       "lat         0\n",
       "lon         0\n",
       "cultivar    0\n",
       "trait       0\n",
       "value       0\n",
       "dtype: int64"
      ]
     },
     "execution_count": 39,
     "metadata": {},
     "output_type": "execute_result"
    }
   ],
   "source": [
    "df_6.isnull().sum()"
   ]
  },
  {
   "cell_type": "code",
   "execution_count": 42,
   "metadata": {},
   "outputs": [],
   "source": [
    "# df_6.head()"
   ]
  },
  {
   "cell_type": "markdown",
   "metadata": {},
   "source": [
    "Double check that there are no E W subplots in this smaller dataset."
   ]
  },
  {
   "cell_type": "code",
   "execution_count": null,
   "metadata": {},
   "outputs": [],
   "source": [
    "e_w_plot_traits"
   ]
  },
  {
   "cell_type": "markdown",
   "metadata": {},
   "source": [
    "Traits in `traits_to_keep` that also had E W subplot designations"
   ]
  },
  {
   "cell_type": "code",
   "execution_count": null,
   "metadata": {},
   "outputs": [],
   "source": [
    "set(e_w_plot_traits) & set(traits_to_keep)"
   ]
  },
  {
   "cell_type": "code",
   "execution_count": null,
   "metadata": {},
   "outputs": [],
   "source": []
  },
  {
   "cell_type": "code",
   "execution_count": null,
   "metadata": {},
   "outputs": [],
   "source": []
  },
  {
   "cell_type": "code",
   "execution_count": null,
   "metadata": {},
   "outputs": [],
   "source": []
  },
  {
   "cell_type": "code",
   "execution_count": null,
   "metadata": {},
   "outputs": [],
   "source": []
  },
  {
   "cell_type": "code",
   "execution_count": null,
   "metadata": {},
   "outputs": [],
   "source": []
  },
  {
   "cell_type": "markdown",
   "metadata": {},
   "source": [
    "### Add TO Mappings"
   ]
  },
  {
   "cell_type": "code",
   "execution_count": null,
   "metadata": {},
   "outputs": [],
   "source": []
  },
  {
   "cell_type": "code",
   "execution_count": null,
   "metadata": {},
   "outputs": [],
   "source": []
  },
  {
   "cell_type": "code",
   "execution_count": null,
   "metadata": {},
   "outputs": [],
   "source": []
  },
  {
   "cell_type": "code",
   "execution_count": null,
   "metadata": {},
   "outputs": [],
   "source": []
  },
  {
   "cell_type": "markdown",
   "metadata": {},
   "source": [
    "#### Final Steps\n",
    "* Create `.csv`"
   ]
  },
  {
   "cell_type": "code",
   "execution_count": 43,
   "metadata": {},
   "outputs": [],
   "source": [
    "need_to_create_csv = False\n",
    "\n",
    "if need_to_create_csv:\n",
    "\n",
    "    timestamp = datetime.datetime.now().replace(microsecond=0).isoformat()\n",
    "    output_filename = f'tall_format_traits_{timestamp}.csv'.replace(':', '')\n",
    "    df_6.to_csv(f'data/processed/{output_filename}')"
   ]
  },
  {
   "cell_type": "code",
   "execution_count": null,
   "metadata": {},
   "outputs": [],
   "source": []
  },
  {
   "cell_type": "code",
   "execution_count": null,
   "metadata": {},
   "outputs": [],
   "source": []
  },
  {
   "cell_type": "code",
   "execution_count": null,
   "metadata": {},
   "outputs": [],
   "source": []
  },
  {
   "cell_type": "code",
   "execution_count": null,
   "metadata": {},
   "outputs": [],
   "source": []
  },
  {
   "cell_type": "code",
   "execution_count": null,
   "metadata": {},
   "outputs": [],
   "source": []
  },
  {
   "cell_type": "markdown",
   "metadata": {},
   "source": [
    "## Not Using Currently"
   ]
  },
  {
   "cell_type": "markdown",
   "metadata": {},
   "source": [
    "### Add Cumulative GDD\n",
    "Note: this data is from the MAC Weather Station\n",
    "* compare / use new geostreams data in weather data notebook, supplemented with Weather Station data"
   ]
  },
  {
   "cell_type": "code",
   "execution_count": null,
   "metadata": {},
   "outputs": [],
   "source": [
    "# gdd_df = pd.read_csv('data/processed/daily_temps_gdd_2019-12-16T120237.csv')\n",
    "# gdd_df.head()"
   ]
  },
  {
   "cell_type": "code",
   "execution_count": null,
   "metadata": {},
   "outputs": [],
   "source": [
    "# Check for any days that would have a daily value of less than zero\n",
    "\n",
    "# daily_value_list = ((gdd_df.air_temp_min + gdd_df.air_temp_max) / 2) - 10\n",
    "# print(len(gdd_df))\n",
    "# print(len(daily_value_list))"
   ]
  },
  {
   "cell_type": "code",
   "execution_count": null,
   "metadata": {},
   "outputs": [],
   "source": [
    "# should have no output\n",
    "\n",
    "# for i in daily_value_list:\n",
    "    \n",
    "#     if i < 0:\n",
    "#         print(i)"
   ]
  },
  {
   "cell_type": "code",
   "execution_count": null,
   "metadata": {},
   "outputs": [],
   "source": [
    "# date_list = gdd_df.date.values\n",
    "# gdd_list = gdd_df.gdd.values\n",
    "\n",
    "# date_gdd_dict = dict(zip(date_list, gdd_list))\n",
    "# date_gdd_dict"
   ]
  }
 ],
 "metadata": {
  "kernelspec": {
   "display_name": "Python 3",
   "language": "python",
   "name": "python3"
  },
  "language_info": {
   "codemirror_mode": {
    "name": "ipython",
    "version": 3
   },
   "file_extension": ".py",
   "mimetype": "text/x-python",
   "name": "python",
   "nbconvert_exporter": "python",
   "pygments_lexer": "ipython3",
   "version": "3.6.8"
  }
 },
 "nbformat": 4,
 "nbformat_minor": 2
}
