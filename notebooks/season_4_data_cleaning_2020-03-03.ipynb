{
 "cells": [
  {
   "cell_type": "markdown",
   "metadata": {},
   "source": [
    "### MAC Season 4 Data Cleaning\n",
    "#### Traits\n",
    "- aboveground dry biomass\n",
    "- days & growing degree days (GDD) to flowering\n",
    "- days & GDD to flag leaf emergence\n",
    "- canopy height (time series)"
   ]
  },
  {
   "cell_type": "markdown",
   "metadata": {},
   "source": [
    "This notebook contains the code Emily Cain used to clean and curate sorghum data from MAC Season 4. The input csv files were queried from betydb version 1 in February 2020 and from the MAC weather station website. To run the entire notebook (in the CyVerse Discovery Environment, for now, where the input data are stored) and output the csv files for the traits above, select `Run` and then `Run All Cells` from the notebook menu above. Once all cells have been executed, the output csv file will appear in the file panel on the left. Right click to download the file. If you experience any problems or have questions, please e-mail ejcain@arizona.edu."
   ]
  },
  {
   "cell_type": "markdown",
   "metadata": {},
   "source": [
    "#### Custom Functions Used"
   ]
  },
  {
   "cell_type": "code",
   "execution_count": 1,
   "metadata": {},
   "outputs": [],
   "source": [
    "def check_for_subplots(df):\n",
    "    \n",
    "    \"\"\"\n",
    "    Function takes a dataframe as argument and checks for sitename subplots ending in ' E' or ' W'\n",
    "    Will return rows with subplots, if any.\n",
    "    \"\"\"\n",
    "    return df.loc[(df.sitename.str.endswith(' E')) | (df.sitename.str.endswith(' W'))]"
   ]
  },
  {
   "cell_type": "markdown",
   "metadata": {},
   "source": [
    "#### I. Import python packages"
   ]
  },
  {
   "cell_type": "code",
   "execution_count": 2,
   "metadata": {},
   "outputs": [],
   "source": [
    "import datetime\n",
    "import numpy as np\n",
    "import pandas as pd\n",
    "import sqlalchemy\n",
    "import sqlite3"
   ]
  },
  {
   "cell_type": "markdown",
   "metadata": {},
   "source": [
    "#### II. Read in dataset\n",
    "Future: query betydb directly with public API key for most recent data"
   ]
  },
  {
   "cell_type": "code",
   "execution_count": 3,
   "metadata": {},
   "outputs": [
    {
     "name": "stdout",
     "output_type": "stream",
     "text": [
      "(397879, 39)\n"
     ]
    },
    {
     "data": {
      "text/html": [
       "<div>\n",
       "<style scoped>\n",
       "    .dataframe tbody tr th:only-of-type {\n",
       "        vertical-align: middle;\n",
       "    }\n",
       "\n",
       "    .dataframe tbody tr th {\n",
       "        vertical-align: top;\n",
       "    }\n",
       "\n",
       "    .dataframe thead th {\n",
       "        text-align: right;\n",
       "    }\n",
       "</style>\n",
       "<table border=\"1\" class=\"dataframe\">\n",
       "  <thead>\n",
       "    <tr style=\"text-align: right;\">\n",
       "      <th></th>\n",
       "      <th>Unnamed: 0</th>\n",
       "      <th>checked</th>\n",
       "      <th>result_type</th>\n",
       "      <th>id</th>\n",
       "      <th>citation_id</th>\n",
       "      <th>site_id</th>\n",
       "      <th>treatment_id</th>\n",
       "      <th>sitename</th>\n",
       "      <th>city</th>\n",
       "      <th>lat</th>\n",
       "      <th>...</th>\n",
       "      <th>n</th>\n",
       "      <th>statname</th>\n",
       "      <th>stat</th>\n",
       "      <th>notes</th>\n",
       "      <th>access_level</th>\n",
       "      <th>cultivar</th>\n",
       "      <th>entity</th>\n",
       "      <th>method_name</th>\n",
       "      <th>view_url</th>\n",
       "      <th>edit_url</th>\n",
       "    </tr>\n",
       "  </thead>\n",
       "  <tbody>\n",
       "    <tr>\n",
       "      <th>0</th>\n",
       "      <td>1</td>\n",
       "      <td>0</td>\n",
       "      <td>traits</td>\n",
       "      <td>6002274258</td>\n",
       "      <td>NaN</td>\n",
       "      <td>6000005457</td>\n",
       "      <td>NaN</td>\n",
       "      <td>MAC Field Scanner Season 4 Range 5 Column 14</td>\n",
       "      <td>Maricopa</td>\n",
       "      <td>33.074691</td>\n",
       "      <td>...</td>\n",
       "      <td>NaN</td>\n",
       "      <td>NaN</td>\n",
       "      <td>NaN</td>\n",
       "      <td>NaN</td>\n",
       "      <td>2</td>\n",
       "      <td>PI653617</td>\n",
       "      <td>NaN</td>\n",
       "      <td>Mean temperature from infrared images</td>\n",
       "      <td>https://terraref.ncsa.illinois.edu/bety/traits...</td>\n",
       "      <td>https://terraref.ncsa.illinois.edu/bety/traits...</td>\n",
       "    </tr>\n",
       "    <tr>\n",
       "      <th>1</th>\n",
       "      <td>2</td>\n",
       "      <td>0</td>\n",
       "      <td>traits</td>\n",
       "      <td>6002274259</td>\n",
       "      <td>NaN</td>\n",
       "      <td>6000005645</td>\n",
       "      <td>NaN</td>\n",
       "      <td>MAC Field Scanner Season 4 Range 17 Column 10</td>\n",
       "      <td>Maricopa</td>\n",
       "      <td>33.075123</td>\n",
       "      <td>...</td>\n",
       "      <td>NaN</td>\n",
       "      <td>NaN</td>\n",
       "      <td>NaN</td>\n",
       "      <td>NaN</td>\n",
       "      <td>2</td>\n",
       "      <td>PI569420</td>\n",
       "      <td>NaN</td>\n",
       "      <td>Mean temperature from infrared images</td>\n",
       "      <td>https://terraref.ncsa.illinois.edu/bety/traits...</td>\n",
       "      <td>https://terraref.ncsa.illinois.edu/bety/traits...</td>\n",
       "    </tr>\n",
       "    <tr>\n",
       "      <th>2</th>\n",
       "      <td>3</td>\n",
       "      <td>0</td>\n",
       "      <td>traits</td>\n",
       "      <td>6002274265</td>\n",
       "      <td>NaN</td>\n",
       "      <td>6000005871</td>\n",
       "      <td>NaN</td>\n",
       "      <td>MAC Field Scanner Season 4 Range 40 Column 6</td>\n",
       "      <td>Maricopa</td>\n",
       "      <td>33.075949</td>\n",
       "      <td>...</td>\n",
       "      <td>NaN</td>\n",
       "      <td>NaN</td>\n",
       "      <td>NaN</td>\n",
       "      <td>NaN</td>\n",
       "      <td>2</td>\n",
       "      <td>PI329841</td>\n",
       "      <td>NaN</td>\n",
       "      <td>Mean temperature from infrared images</td>\n",
       "      <td>https://terraref.ncsa.illinois.edu/bety/traits...</td>\n",
       "      <td>https://terraref.ncsa.illinois.edu/bety/traits...</td>\n",
       "    </tr>\n",
       "  </tbody>\n",
       "</table>\n",
       "<p>3 rows × 39 columns</p>\n",
       "</div>"
      ],
      "text/plain": [
       "   Unnamed: 0  checked result_type          id  citation_id     site_id  \\\n",
       "0           1        0      traits  6002274258          NaN  6000005457   \n",
       "1           2        0      traits  6002274259          NaN  6000005645   \n",
       "2           3        0      traits  6002274265          NaN  6000005871   \n",
       "\n",
       "   treatment_id                                       sitename      city  \\\n",
       "0           NaN   MAC Field Scanner Season 4 Range 5 Column 14  Maricopa   \n",
       "1           NaN  MAC Field Scanner Season 4 Range 17 Column 10  Maricopa   \n",
       "2           NaN   MAC Field Scanner Season 4 Range 40 Column 6  Maricopa   \n",
       "\n",
       "         lat  ...   n statname stat notes  access_level  cultivar entity  \\\n",
       "0  33.074691  ... NaN      NaN  NaN   NaN             2  PI653617    NaN   \n",
       "1  33.075123  ... NaN      NaN  NaN   NaN             2  PI569420    NaN   \n",
       "2  33.075949  ... NaN      NaN  NaN   NaN             2  PI329841    NaN   \n",
       "\n",
       "                             method_name  \\\n",
       "0  Mean temperature from infrared images   \n",
       "1  Mean temperature from infrared images   \n",
       "2  Mean temperature from infrared images   \n",
       "\n",
       "                                            view_url  \\\n",
       "0  https://terraref.ncsa.illinois.edu/bety/traits...   \n",
       "1  https://terraref.ncsa.illinois.edu/bety/traits...   \n",
       "2  https://terraref.ncsa.illinois.edu/bety/traits...   \n",
       "\n",
       "                                            edit_url  \n",
       "0  https://terraref.ncsa.illinois.edu/bety/traits...  \n",
       "1  https://terraref.ncsa.illinois.edu/bety/traits...  \n",
       "2  https://terraref.ncsa.illinois.edu/bety/traits...  \n",
       "\n",
       "[3 rows x 39 columns]"
      ]
     },
     "execution_count": 3,
     "metadata": {},
     "output_type": "execute_result"
    }
   ],
   "source": [
    "df_0 = pd.read_csv('mac_season_four_2020-02-26.csv', low_memory=False)\n",
    "print(df_0.shape)\n",
    "df_0.head(3)"
   ]
  },
  {
   "cell_type": "markdown",
   "metadata": {},
   "source": [
    "#### III. Drop Columns"
   ]
  },
  {
   "cell_type": "code",
   "execution_count": 4,
   "metadata": {},
   "outputs": [
    {
     "data": {
      "text/plain": [
       "Index(['Unnamed: 0', 'checked', 'result_type', 'id', 'citation_id', 'site_id',\n",
       "       'treatment_id', 'sitename', 'city', 'lat', 'lon', 'scientificname',\n",
       "       'commonname', 'genus', 'species_id', 'cultivar_id', 'author',\n",
       "       'citation_year', 'treatment', 'date', 'time', 'raw_date', 'month',\n",
       "       'year', 'dateloc', 'trait', 'trait_description', 'mean', 'units', 'n',\n",
       "       'statname', 'stat', 'notes', 'access_level', 'cultivar', 'entity',\n",
       "       'method_name', 'view_url', 'edit_url'],\n",
       "      dtype='object')"
      ]
     },
     "execution_count": 4,
     "metadata": {},
     "output_type": "execute_result"
    }
   ],
   "source": [
    "df_0.columns"
   ]
  },
  {
   "cell_type": "code",
   "execution_count": 5,
   "metadata": {},
   "outputs": [],
   "source": [
    "cols_to_drop = ['Unnamed: 0', 'checked', 'result_type', 'id', 'citation_id', 'site_id', 'treatment_id', 'city', \n",
    "                'scientificname', 'commonname', 'genus', 'species_id', 'cultivar_id', 'author',\n",
    "                'citation_year', 'time', 'raw_date', 'month', 'year', 'dateloc', 'n', 'statname', 'stat', 'notes', \n",
    "                'access_level', 'entity', 'view_url', 'edit_url']"
   ]
  },
  {
   "cell_type": "code",
   "execution_count": 6,
   "metadata": {},
   "outputs": [
    {
     "name": "stdout",
     "output_type": "stream",
     "text": [
      "(397879, 11)\n"
     ]
    },
    {
     "data": {
      "text/html": [
       "<div>\n",
       "<style scoped>\n",
       "    .dataframe tbody tr th:only-of-type {\n",
       "        vertical-align: middle;\n",
       "    }\n",
       "\n",
       "    .dataframe tbody tr th {\n",
       "        vertical-align: top;\n",
       "    }\n",
       "\n",
       "    .dataframe thead th {\n",
       "        text-align: right;\n",
       "    }\n",
       "</style>\n",
       "<table border=\"1\" class=\"dataframe\">\n",
       "  <thead>\n",
       "    <tr style=\"text-align: right;\">\n",
       "      <th></th>\n",
       "      <th>sitename</th>\n",
       "      <th>lat</th>\n",
       "      <th>lon</th>\n",
       "      <th>treatment</th>\n",
       "      <th>date</th>\n",
       "      <th>trait</th>\n",
       "      <th>trait_description</th>\n",
       "      <th>mean</th>\n",
       "      <th>units</th>\n",
       "      <th>cultivar</th>\n",
       "      <th>method_name</th>\n",
       "    </tr>\n",
       "  </thead>\n",
       "  <tbody>\n",
       "    <tr>\n",
       "      <th>0</th>\n",
       "      <td>MAC Field Scanner Season 4 Range 5 Column 14</td>\n",
       "      <td>33.074691</td>\n",
       "      <td>-111.974835</td>\n",
       "      <td>NaN</td>\n",
       "      <td>2017 Jul 9</td>\n",
       "      <td>surface_temperature</td>\n",
       "      <td>Surface temperature</td>\n",
       "      <td>38.090662</td>\n",
       "      <td>C</td>\n",
       "      <td>PI653617</td>\n",
       "      <td>Mean temperature from infrared images</td>\n",
       "    </tr>\n",
       "    <tr>\n",
       "      <th>1</th>\n",
       "      <td>MAC Field Scanner Season 4 Range 17 Column 10</td>\n",
       "      <td>33.075123</td>\n",
       "      <td>-111.974900</td>\n",
       "      <td>NaN</td>\n",
       "      <td>2017 Jul 9</td>\n",
       "      <td>surface_temperature</td>\n",
       "      <td>Surface temperature</td>\n",
       "      <td>37.715112</td>\n",
       "      <td>C</td>\n",
       "      <td>PI569420</td>\n",
       "      <td>Mean temperature from infrared images</td>\n",
       "    </tr>\n",
       "    <tr>\n",
       "      <th>2</th>\n",
       "      <td>MAC Field Scanner Season 4 Range 40 Column 6</td>\n",
       "      <td>33.075949</td>\n",
       "      <td>-111.974966</td>\n",
       "      <td>NaN</td>\n",
       "      <td>2017 Jul 9</td>\n",
       "      <td>surface_temperature</td>\n",
       "      <td>Surface temperature</td>\n",
       "      <td>37.458246</td>\n",
       "      <td>C</td>\n",
       "      <td>PI329841</td>\n",
       "      <td>Mean temperature from infrared images</td>\n",
       "    </tr>\n",
       "  </tbody>\n",
       "</table>\n",
       "</div>"
      ],
      "text/plain": [
       "                                        sitename        lat         lon  \\\n",
       "0   MAC Field Scanner Season 4 Range 5 Column 14  33.074691 -111.974835   \n",
       "1  MAC Field Scanner Season 4 Range 17 Column 10  33.075123 -111.974900   \n",
       "2   MAC Field Scanner Season 4 Range 40 Column 6  33.075949 -111.974966   \n",
       "\n",
       "  treatment        date                trait    trait_description       mean  \\\n",
       "0       NaN  2017 Jul 9  surface_temperature  Surface temperature  38.090662   \n",
       "1       NaN  2017 Jul 9  surface_temperature  Surface temperature  37.715112   \n",
       "2       NaN  2017 Jul 9  surface_temperature  Surface temperature  37.458246   \n",
       "\n",
       "  units  cultivar                            method_name  \n",
       "0     C  PI653617  Mean temperature from infrared images  \n",
       "1     C  PI569420  Mean temperature from infrared images  \n",
       "2     C  PI329841  Mean temperature from infrared images  "
      ]
     },
     "execution_count": 6,
     "metadata": {},
     "output_type": "execute_result"
    }
   ],
   "source": [
    "df_1 = df_0.drop(labels=cols_to_drop, axis=1)\n",
    "print(df_1.shape)\n",
    "df_1.head(3)"
   ]
  },
  {
   "cell_type": "code",
   "execution_count": 7,
   "metadata": {},
   "outputs": [],
   "source": [
    "# for col in df_1.columns:\n",
    "#     print(f'{col}: {df_1[col].nunique()}')"
   ]
  },
  {
   "cell_type": "markdown",
   "metadata": {},
   "source": [
    "#### IV. Change `date` format"
   ]
  },
  {
   "cell_type": "code",
   "execution_count": 8,
   "metadata": {},
   "outputs": [
    {
     "name": "stdout",
     "output_type": "stream",
     "text": [
      "397879\n",
      "397879\n"
     ]
    }
   ],
   "source": [
    "new_dates = []\n",
    "\n",
    "for d in df_1.date.values:\n",
    "    \n",
    "    # strip '(America/Phoenix)' string from date\n",
    "    if 'Phoenix' in d:\n",
    "        new_name = d[:-18]\n",
    "        new_dates.append(new_name)\n",
    "    \n",
    "    else:\n",
    "        new_name = d\n",
    "        new_dates.append(new_name)\n",
    "        \n",
    "\n",
    "# check that length of new dates matches number of rows\n",
    "print(len(new_dates))\n",
    "print(df_1.shape[0])"
   ]
  },
  {
   "cell_type": "markdown",
   "metadata": {},
   "source": [
    "Convert string dates to datetime"
   ]
  },
  {
   "cell_type": "code",
   "execution_count": 9,
   "metadata": {},
   "outputs": [],
   "source": [
    "iso_format_dates = pd.to_datetime(new_dates)"
   ]
  },
  {
   "cell_type": "markdown",
   "metadata": {},
   "source": [
    "Add new column with datetime values"
   ]
  },
  {
   "cell_type": "code",
   "execution_count": 10,
   "metadata": {},
   "outputs": [
    {
     "name": "stdout",
     "output_type": "stream",
     "text": [
      "(397879, 12)\n"
     ]
    },
    {
     "data": {
      "text/html": [
       "<div>\n",
       "<style scoped>\n",
       "    .dataframe tbody tr th:only-of-type {\n",
       "        vertical-align: middle;\n",
       "    }\n",
       "\n",
       "    .dataframe tbody tr th {\n",
       "        vertical-align: top;\n",
       "    }\n",
       "\n",
       "    .dataframe thead th {\n",
       "        text-align: right;\n",
       "    }\n",
       "</style>\n",
       "<table border=\"1\" class=\"dataframe\">\n",
       "  <thead>\n",
       "    <tr style=\"text-align: right;\">\n",
       "      <th></th>\n",
       "      <th>sitename</th>\n",
       "      <th>lat</th>\n",
       "      <th>lon</th>\n",
       "      <th>treatment</th>\n",
       "      <th>date</th>\n",
       "      <th>trait</th>\n",
       "      <th>trait_description</th>\n",
       "      <th>mean</th>\n",
       "      <th>units</th>\n",
       "      <th>cultivar</th>\n",
       "      <th>method_name</th>\n",
       "      <th>date_1</th>\n",
       "    </tr>\n",
       "  </thead>\n",
       "  <tbody>\n",
       "    <tr>\n",
       "      <th>0</th>\n",
       "      <td>MAC Field Scanner Season 4 Range 5 Column 14</td>\n",
       "      <td>33.074691</td>\n",
       "      <td>-111.974835</td>\n",
       "      <td>NaN</td>\n",
       "      <td>2017 Jul 9</td>\n",
       "      <td>surface_temperature</td>\n",
       "      <td>Surface temperature</td>\n",
       "      <td>38.090662</td>\n",
       "      <td>C</td>\n",
       "      <td>PI653617</td>\n",
       "      <td>Mean temperature from infrared images</td>\n",
       "      <td>2017-07-09</td>\n",
       "    </tr>\n",
       "    <tr>\n",
       "      <th>1</th>\n",
       "      <td>MAC Field Scanner Season 4 Range 17 Column 10</td>\n",
       "      <td>33.075123</td>\n",
       "      <td>-111.974900</td>\n",
       "      <td>NaN</td>\n",
       "      <td>2017 Jul 9</td>\n",
       "      <td>surface_temperature</td>\n",
       "      <td>Surface temperature</td>\n",
       "      <td>37.715112</td>\n",
       "      <td>C</td>\n",
       "      <td>PI569420</td>\n",
       "      <td>Mean temperature from infrared images</td>\n",
       "      <td>2017-07-09</td>\n",
       "    </tr>\n",
       "    <tr>\n",
       "      <th>2</th>\n",
       "      <td>MAC Field Scanner Season 4 Range 40 Column 6</td>\n",
       "      <td>33.075949</td>\n",
       "      <td>-111.974966</td>\n",
       "      <td>NaN</td>\n",
       "      <td>2017 Jul 9</td>\n",
       "      <td>surface_temperature</td>\n",
       "      <td>Surface temperature</td>\n",
       "      <td>37.458246</td>\n",
       "      <td>C</td>\n",
       "      <td>PI329841</td>\n",
       "      <td>Mean temperature from infrared images</td>\n",
       "      <td>2017-07-09</td>\n",
       "    </tr>\n",
       "  </tbody>\n",
       "</table>\n",
       "</div>"
      ],
      "text/plain": [
       "                                        sitename        lat         lon  \\\n",
       "0   MAC Field Scanner Season 4 Range 5 Column 14  33.074691 -111.974835   \n",
       "1  MAC Field Scanner Season 4 Range 17 Column 10  33.075123 -111.974900   \n",
       "2   MAC Field Scanner Season 4 Range 40 Column 6  33.075949 -111.974966   \n",
       "\n",
       "  treatment        date                trait    trait_description       mean  \\\n",
       "0       NaN  2017 Jul 9  surface_temperature  Surface temperature  38.090662   \n",
       "1       NaN  2017 Jul 9  surface_temperature  Surface temperature  37.715112   \n",
       "2       NaN  2017 Jul 9  surface_temperature  Surface temperature  37.458246   \n",
       "\n",
       "  units  cultivar                            method_name     date_1  \n",
       "0     C  PI653617  Mean temperature from infrared images 2017-07-09  \n",
       "1     C  PI569420  Mean temperature from infrared images 2017-07-09  \n",
       "2     C  PI329841  Mean temperature from infrared images 2017-07-09  "
      ]
     },
     "execution_count": 10,
     "metadata": {},
     "output_type": "execute_result"
    }
   ],
   "source": [
    "# copy df to avoid SettingWithCopyWarning\n",
    "df_2 = df_1.copy()\n",
    "df_2['date_1'] = iso_format_dates\n",
    "\n",
    "print(df_2.shape)\n",
    "df_2.head(3)"
   ]
  },
  {
   "cell_type": "markdown",
   "metadata": {},
   "source": [
    "#### V. Extract Range & Column Values for Location"
   ]
  },
  {
   "cell_type": "code",
   "execution_count": 11,
   "metadata": {},
   "outputs": [
    {
     "data": {
      "text/html": [
       "<div>\n",
       "<style scoped>\n",
       "    .dataframe tbody tr th:only-of-type {\n",
       "        vertical-align: middle;\n",
       "    }\n",
       "\n",
       "    .dataframe tbody tr th {\n",
       "        vertical-align: top;\n",
       "    }\n",
       "\n",
       "    .dataframe thead th {\n",
       "        text-align: right;\n",
       "    }\n",
       "</style>\n",
       "<table border=\"1\" class=\"dataframe\">\n",
       "  <thead>\n",
       "    <tr style=\"text-align: right;\">\n",
       "      <th></th>\n",
       "      <th>sitename</th>\n",
       "      <th>lat</th>\n",
       "      <th>lon</th>\n",
       "      <th>treatment</th>\n",
       "      <th>date</th>\n",
       "      <th>trait</th>\n",
       "      <th>trait_description</th>\n",
       "      <th>mean</th>\n",
       "      <th>units</th>\n",
       "      <th>cultivar</th>\n",
       "      <th>method_name</th>\n",
       "      <th>date_1</th>\n",
       "      <th>range</th>\n",
       "      <th>column</th>\n",
       "    </tr>\n",
       "  </thead>\n",
       "  <tbody>\n",
       "    <tr>\n",
       "      <th>272374</th>\n",
       "      <td>MAC Field Scanner Season 4 Range 52 Column 7</td>\n",
       "      <td>33.076381</td>\n",
       "      <td>-111.974950</td>\n",
       "      <td>NaN</td>\n",
       "      <td>2017 Aug 21</td>\n",
       "      <td>leaf_angle_chi</td>\n",
       "      <td>NaN</td>\n",
       "      <td>1.952289</td>\n",
       "      <td>NaN</td>\n",
       "      <td>PI329299</td>\n",
       "      <td>3D scanner to leaf angle distribution</td>\n",
       "      <td>2017-08-21</td>\n",
       "      <td>52</td>\n",
       "      <td>7</td>\n",
       "    </tr>\n",
       "    <tr>\n",
       "      <th>369996</th>\n",
       "      <td>MAC Field Scanner Season 4 Range 30 Column 13</td>\n",
       "      <td>33.075590</td>\n",
       "      <td>-111.974852</td>\n",
       "      <td>BAP 2017, water-deficit stress Aug 1-14</td>\n",
       "      <td>2017 Aug 23</td>\n",
       "      <td>leaf_temperature_differential</td>\n",
       "      <td>Difference between the leaf temperature and th...</td>\n",
       "      <td>-7.950001</td>\n",
       "      <td>C</td>\n",
       "      <td>PI511355</td>\n",
       "      <td>MultispeQ v1.0 field measurements of fluoresce...</td>\n",
       "      <td>2017-08-23</td>\n",
       "      <td>30</td>\n",
       "      <td>13</td>\n",
       "    </tr>\n",
       "    <tr>\n",
       "      <th>166821</th>\n",
       "      <td>MAC Field Scanner Season 4 Range 28 Column 10</td>\n",
       "      <td>33.075518</td>\n",
       "      <td>-111.974901</td>\n",
       "      <td>NaN</td>\n",
       "      <td>2017 May 3</td>\n",
       "      <td>canopy_height</td>\n",
       "      <td>top of the general canopy of the plant, discou...</td>\n",
       "      <td>10.000000</td>\n",
       "      <td>cm</td>\n",
       "      <td>PI273465</td>\n",
       "      <td>3D scanner to 98th quantile height</td>\n",
       "      <td>2017-05-03</td>\n",
       "      <td>28</td>\n",
       "      <td>10</td>\n",
       "    </tr>\n",
       "  </tbody>\n",
       "</table>\n",
       "</div>"
      ],
      "text/plain": [
       "                                             sitename        lat         lon  \\\n",
       "272374   MAC Field Scanner Season 4 Range 52 Column 7  33.076381 -111.974950   \n",
       "369996  MAC Field Scanner Season 4 Range 30 Column 13  33.075590 -111.974852   \n",
       "166821  MAC Field Scanner Season 4 Range 28 Column 10  33.075518 -111.974901   \n",
       "\n",
       "                                      treatment         date  \\\n",
       "272374                                      NaN  2017 Aug 21   \n",
       "369996  BAP 2017, water-deficit stress Aug 1-14  2017 Aug 23   \n",
       "166821                                      NaN   2017 May 3   \n",
       "\n",
       "                                trait  \\\n",
       "272374                 leaf_angle_chi   \n",
       "369996  leaf_temperature_differential   \n",
       "166821                  canopy_height   \n",
       "\n",
       "                                        trait_description       mean units  \\\n",
       "272374                                                NaN   1.952289   NaN   \n",
       "369996  Difference between the leaf temperature and th...  -7.950001     C   \n",
       "166821  top of the general canopy of the plant, discou...  10.000000    cm   \n",
       "\n",
       "        cultivar                                        method_name  \\\n",
       "272374  PI329299              3D scanner to leaf angle distribution   \n",
       "369996  PI511355  MultispeQ v1.0 field measurements of fluoresce...   \n",
       "166821  PI273465                 3D scanner to 98th quantile height   \n",
       "\n",
       "           date_1  range  column  \n",
       "272374 2017-08-21     52       7  \n",
       "369996 2017-08-23     30      13  \n",
       "166821 2017-05-03     28      10  "
      ]
     },
     "execution_count": 11,
     "metadata": {},
     "output_type": "execute_result"
    }
   ],
   "source": [
    "df_3 = df_2.copy()\n",
    "\n",
    "df_3['range'] = df_3['sitename'].str.extract(\"Range (\\d+)\").astype(int)\n",
    "df_3['column'] = df_3['sitename'].str.extract(\"Column (\\d+)\").astype(int)\n",
    "\n",
    "df_3.sample(n=3)"
   ]
  },
  {
   "cell_type": "markdown",
   "metadata": {},
   "source": [
    "#### VI. Drop, Rename, & Reorder Columns"
   ]
  },
  {
   "cell_type": "code",
   "execution_count": 12,
   "metadata": {},
   "outputs": [],
   "source": [
    "# drop string date column\n",
    "\n",
    "df_4 = df_3.drop(labels=['date'], axis=1)"
   ]
  },
  {
   "cell_type": "code",
   "execution_count": 13,
   "metadata": {},
   "outputs": [],
   "source": [
    "df_5 = df_4.rename({'date_1': 'date', 'mean': 'value'}, axis=1)"
   ]
  },
  {
   "cell_type": "code",
   "execution_count": 14,
   "metadata": {},
   "outputs": [
    {
     "name": "stdout",
     "output_type": "stream",
     "text": [
      "(397879, 13)\n"
     ]
    },
    {
     "data": {
      "text/html": [
       "<div>\n",
       "<style scoped>\n",
       "    .dataframe tbody tr th:only-of-type {\n",
       "        vertical-align: middle;\n",
       "    }\n",
       "\n",
       "    .dataframe tbody tr th {\n",
       "        vertical-align: top;\n",
       "    }\n",
       "\n",
       "    .dataframe thead th {\n",
       "        text-align: right;\n",
       "    }\n",
       "</style>\n",
       "<table border=\"1\" class=\"dataframe\">\n",
       "  <thead>\n",
       "    <tr style=\"text-align: right;\">\n",
       "      <th></th>\n",
       "      <th>sitename</th>\n",
       "      <th>range</th>\n",
       "      <th>column</th>\n",
       "      <th>lat</th>\n",
       "      <th>lon</th>\n",
       "      <th>date</th>\n",
       "      <th>treatment</th>\n",
       "      <th>trait</th>\n",
       "      <th>trait_description</th>\n",
       "      <th>method_name</th>\n",
       "      <th>cultivar</th>\n",
       "      <th>value</th>\n",
       "      <th>units</th>\n",
       "    </tr>\n",
       "  </thead>\n",
       "  <tbody>\n",
       "    <tr>\n",
       "      <th>0</th>\n",
       "      <td>MAC Field Scanner Season 4 Range 5 Column 14</td>\n",
       "      <td>5</td>\n",
       "      <td>14</td>\n",
       "      <td>33.074691</td>\n",
       "      <td>-111.974835</td>\n",
       "      <td>2017-07-09</td>\n",
       "      <td>NaN</td>\n",
       "      <td>surface_temperature</td>\n",
       "      <td>Surface temperature</td>\n",
       "      <td>Mean temperature from infrared images</td>\n",
       "      <td>PI653617</td>\n",
       "      <td>38.090662</td>\n",
       "      <td>C</td>\n",
       "    </tr>\n",
       "    <tr>\n",
       "      <th>1</th>\n",
       "      <td>MAC Field Scanner Season 4 Range 17 Column 10</td>\n",
       "      <td>17</td>\n",
       "      <td>10</td>\n",
       "      <td>33.075123</td>\n",
       "      <td>-111.974900</td>\n",
       "      <td>2017-07-09</td>\n",
       "      <td>NaN</td>\n",
       "      <td>surface_temperature</td>\n",
       "      <td>Surface temperature</td>\n",
       "      <td>Mean temperature from infrared images</td>\n",
       "      <td>PI569420</td>\n",
       "      <td>37.715112</td>\n",
       "      <td>C</td>\n",
       "    </tr>\n",
       "    <tr>\n",
       "      <th>2</th>\n",
       "      <td>MAC Field Scanner Season 4 Range 40 Column 6</td>\n",
       "      <td>40</td>\n",
       "      <td>6</td>\n",
       "      <td>33.075949</td>\n",
       "      <td>-111.974966</td>\n",
       "      <td>2017-07-09</td>\n",
       "      <td>NaN</td>\n",
       "      <td>surface_temperature</td>\n",
       "      <td>Surface temperature</td>\n",
       "      <td>Mean temperature from infrared images</td>\n",
       "      <td>PI329841</td>\n",
       "      <td>37.458246</td>\n",
       "      <td>C</td>\n",
       "    </tr>\n",
       "  </tbody>\n",
       "</table>\n",
       "</div>"
      ],
      "text/plain": [
       "                                        sitename  range  column        lat  \\\n",
       "0   MAC Field Scanner Season 4 Range 5 Column 14      5      14  33.074691   \n",
       "1  MAC Field Scanner Season 4 Range 17 Column 10     17      10  33.075123   \n",
       "2   MAC Field Scanner Season 4 Range 40 Column 6     40       6  33.075949   \n",
       "\n",
       "          lon       date treatment                trait    trait_description  \\\n",
       "0 -111.974835 2017-07-09       NaN  surface_temperature  Surface temperature   \n",
       "1 -111.974900 2017-07-09       NaN  surface_temperature  Surface temperature   \n",
       "2 -111.974966 2017-07-09       NaN  surface_temperature  Surface temperature   \n",
       "\n",
       "                             method_name  cultivar      value units  \n",
       "0  Mean temperature from infrared images  PI653617  38.090662     C  \n",
       "1  Mean temperature from infrared images  PI569420  37.715112     C  \n",
       "2  Mean temperature from infrared images  PI329841  37.458246     C  "
      ]
     },
     "execution_count": 14,
     "metadata": {},
     "output_type": "execute_result"
    }
   ],
   "source": [
    "new_col_order = ['sitename', 'range', 'column', 'lat', 'lon', 'date', 'treatment', 'trait', 'trait_description', 'method_name', 'cultivar', 'value', 'units']\n",
    "\n",
    "df_6 = pd.DataFrame(data=df_5, columns=new_col_order).reset_index(drop=True)\n",
    "print(df_6.shape)\n",
    "df_6.head(3)"
   ]
  },
  {
   "cell_type": "markdown",
   "metadata": {},
   "source": [
    "#### VI. Select for specific traits\n",
    "- aboveground dry biomass\n",
    "- days & GDD to flowering\n",
    "- days & GDD to flag leaf emergence\n",
    "- canopy height - time series"
   ]
  },
  {
   "cell_type": "markdown",
   "metadata": {},
   "source": [
    "#### A. Aboveground Dry Biomass"
   ]
  },
  {
   "cell_type": "code",
   "execution_count": null,
   "metadata": {},
   "outputs": [],
   "source": [
    "adb_df = df_6.loc[df_6.trait == 'aboveground_dry_biomass']\n",
    "print(adb_df.shape)\n",
    "adb_df.tail(3)"
   ]
  },
  {
   "cell_type": "markdown",
   "metadata": {},
   "source": [
    "##### Check for E and W subplots"
   ]
  },
  {
   "cell_type": "code",
   "execution_count": null,
   "metadata": {},
   "outputs": [],
   "source": [
    "# will have no output if there are no subplots\n",
    "\n",
    "check_for_subplots(adb_df)"
   ]
  },
  {
   "cell_type": "markdown",
   "metadata": {},
   "source": [
    "#### Write dataframe to csv file with timestamp"
   ]
  },
  {
   "cell_type": "code",
   "execution_count": null,
   "metadata": {},
   "outputs": [],
   "source": [
    "timestamp = datetime.datetime.now().replace(microsecond=0).isoformat()\n",
    "output_filename = f'aboveground_dry_biomass_season_4_{timestamp}.csv'.replace(':', '')\n",
    "\n",
    "adb_df.to_csv(output_filename, index=False)"
   ]
  },
  {
   "cell_type": "markdown",
   "metadata": {},
   "source": [
    "#### B. Days & Growing Degree Days (GDD) to Flowering"
   ]
  },
  {
   "cell_type": "code",
   "execution_count": null,
   "metadata": {},
   "outputs": [],
   "source": [
    "# df_5.trait.unique()"
   ]
  },
  {
   "cell_type": "code",
   "execution_count": null,
   "metadata": {},
   "outputs": [],
   "source": [
    "flower_df_0 = df_6.loc[df_6.trait == 'flowering_time']\n",
    "print(flower_df_0.shape)\n",
    "flower_df_0.head(3)"
   ]
  },
  {
   "cell_type": "markdown",
   "metadata": {},
   "source": [
    "##### Check for E and W subplots"
   ]
  },
  {
   "cell_type": "code",
   "execution_count": null,
   "metadata": {},
   "outputs": [],
   "source": [
    "# will have no output if there are no subplots\n",
    "\n",
    "check_for_subplots(flower_df_0)"
   ]
  },
  {
   "cell_type": "markdown",
   "metadata": {},
   "source": [
    "#### Read in Season Four Weather Data from MAC Weather Station"
   ]
  },
  {
   "cell_type": "code",
   "execution_count": null,
   "metadata": {},
   "outputs": [],
   "source": [
    "weather_df_0 = pd.read_csv('mac_weather_station_raw_daily_2017.csv')\n",
    "print(weather_df_0.shape)\n",
    "weather_df_0.head(3)"
   ]
  },
  {
   "cell_type": "markdown",
   "metadata": {},
   "source": [
    "#### Slice dataframe for season dates only and add date column\n",
    "* Planting Date: 2017-04-20, Day 110\n",
    "* Last Day of Harvest: 2017-09-16, Day 259"
   ]
  },
  {
   "cell_type": "code",
   "execution_count": null,
   "metadata": {},
   "outputs": [],
   "source": [
    "weather_df_1 = weather_df_0.loc[(weather_df_0.day_of_year >= 110) & (weather_df_0.day_of_year <= 259)]\n",
    "print(weather_df_1.shape)\n",
    "weather_df_1.head(3)"
   ]
  },
  {
   "cell_type": "code",
   "execution_count": null,
   "metadata": {},
   "outputs": [],
   "source": [
    "season_4_date_range = pd.date_range(start='2017-04-20', end='2017-09-16')"
   ]
  },
  {
   "cell_type": "code",
   "execution_count": null,
   "metadata": {},
   "outputs": [],
   "source": [
    "weather_df_2 = weather_df_1.copy()\n",
    "weather_df_2['date'] = season_4_date_range\n",
    "print(weather_df_2.shape)\n",
    "weather_df_2.tail(3)"
   ]
  },
  {
   "cell_type": "markdown",
   "metadata": {},
   "source": [
    "#### Add Growing Degree Days\n",
    "- Future: add LaTeX equation\n",
    "- Future: add info about min and max daily values\n",
    "- 10 degrees Celsius is base temp for sorghum\n",
    "- Daily gdd value = ((max temp + min temp) / 2) - 10 (base temp)\n",
    "- Growing Degree Days = cumulative sum of daily gdd values"
   ]
  },
  {
   "cell_type": "code",
   "execution_count": null,
   "metadata": {},
   "outputs": [],
   "source": [
    "weather_df_3 = weather_df_2.copy()\n",
    "weather_df_3['daily_gdd'] = (((weather_df_3['air_temp_max'] + weather_df_3['air_temp_min'])) / 2) - 10\n",
    "print(weather_df_3.shape)\n",
    "weather_df_3.head(3)"
   ]
  },
  {
   "cell_type": "code",
   "execution_count": null,
   "metadata": {},
   "outputs": [],
   "source": [
    "weather_df_4 = weather_df_3.copy()\n",
    "weather_df_4['gdd'] = np.rint(np.cumsum(weather_df_4['daily_gdd']))\n",
    "print(weather_df_4.shape)\n",
    "weather_df_4.tail(3)"
   ]
  },
  {
   "cell_type": "markdown",
   "metadata": {},
   "source": [
    "#### Add planting date 2017-04-20"
   ]
  },
  {
   "cell_type": "code",
   "execution_count": null,
   "metadata": {},
   "outputs": [],
   "source": [
    "day_of_planting = datetime.date(2017,4,20)\n",
    "flower_df_1 = flower_df_0.copy()\n",
    "\n",
    "flower_df_1['date_of_planting'] = day_of_planting\n",
    "print(flower_df_1.shape)\n",
    "flower_df_1.head(3)"
   ]
  },
  {
   "cell_type": "markdown",
   "metadata": {},
   "source": [
    "#### Create timedelta using days to flowering"
   ]
  },
  {
   "cell_type": "code",
   "execution_count": null,
   "metadata": {},
   "outputs": [],
   "source": [
    "timedelta_values = flower_df_1['value'].values\n",
    "dates_of_flowering = []\n",
    "\n",
    "for val in timedelta_values:\n",
    "    \n",
    "    date_of_flowering = day_of_planting + datetime.timedelta(days=val)\n",
    "    dates_of_flowering.append(date_of_flowering)\n",
    "    \n",
    "print(flower_df_1.shape[0])\n",
    "print(len(dates_of_flowering))"
   ]
  },
  {
   "cell_type": "code",
   "execution_count": null,
   "metadata": {},
   "outputs": [],
   "source": [
    "flower_df_2 = flower_df_1.copy()\n",
    "flower_df_2['date_of_flowering'] = dates_of_flowering\n",
    "print(flower_df_2.shape)\n",
    "flower_df_2.head(3)"
   ]
  },
  {
   "cell_type": "markdown",
   "metadata": {},
   "source": [
    "#### Add GDD to flowering dataframe"
   ]
  },
  {
   "cell_type": "code",
   "execution_count": null,
   "metadata": {},
   "outputs": [],
   "source": [
    "# slice df for date and cumulative gdd values only\n",
    "\n",
    "season_4_gdd = weather_df_4[['date', 'gdd']]\n",
    "print(season_4_gdd.shape)\n",
    "season_4_gdd.head(3)"
   ]
  },
  {
   "cell_type": "code",
   "execution_count": null,
   "metadata": {},
   "outputs": [],
   "source": [
    "flower_df_2.dtypes"
   ]
  },
  {
   "cell_type": "code",
   "execution_count": null,
   "metadata": {},
   "outputs": [],
   "source": [
    "flower_df_3 = flower_df_2.copy()\n",
    "flower_df_3.date_of_flowering = pd.to_datetime(flower_df_3.date_of_flowering)\n",
    "flower_df_3.dtypes"
   ]
  },
  {
   "cell_type": "code",
   "execution_count": null,
   "metadata": {},
   "outputs": [],
   "source": [
    "flower_df_4 = flower_df_3.merge(season_4_gdd, how='left', left_on='date_of_flowering', right_on='date')\n",
    "print(flower_df_4.shape)\n",
    "flower_df_4.head(3)"
   ]
  },
  {
   "cell_type": "markdown",
   "metadata": {},
   "source": [
    "#### Drop all date columns except `date_of_flowering`"
   ]
  },
  {
   "cell_type": "code",
   "execution_count": null,
   "metadata": {},
   "outputs": [],
   "source": [
    "date_cols_to_drop = ['date_x', 'date_of_planting', 'date_y']\n",
    "flower_df_5 = flower_df_4.drop(labels=date_cols_to_drop, axis=1)\n",
    "print(flower_df_5.shape)\n",
    "flower_df_5.tail(3)"
   ]
  },
  {
   "cell_type": "markdown",
   "metadata": {},
   "source": [
    "#### Check for duplicates"
   ]
  },
  {
   "cell_type": "code",
   "execution_count": null,
   "metadata": {},
   "outputs": [],
   "source": [
    "flower_df_5.duplicated().value_counts()"
   ]
  },
  {
   "cell_type": "markdown",
   "metadata": {},
   "source": [
    "#### Write dataframe to csv file with timestamp"
   ]
  },
  {
   "cell_type": "code",
   "execution_count": null,
   "metadata": {},
   "outputs": [],
   "source": [
    "timestamp = datetime.datetime.now().replace(microsecond=0).isoformat()\n",
    "output_filename = f'days_gdd_to_flowering_season_4_{timestamp}.csv'.replace(':', '')\n",
    "\n",
    "flower_df_5.to_csv(output_filename, index=False)"
   ]
  },
  {
   "cell_type": "markdown",
   "metadata": {},
   "source": [
    "#### C. Days & GDD to Flag Leaf Emergence"
   ]
  },
  {
   "cell_type": "code",
   "execution_count": null,
   "metadata": {},
   "outputs": [],
   "source": [
    "fle_0 = df_6.loc[df_6.trait == 'flag_leaf_emergence_time']\n",
    "print(fle_0.shape)\n",
    "fle_0.head(3)"
   ]
  },
  {
   "cell_type": "markdown",
   "metadata": {},
   "source": [
    "##### Check for E and W subplots"
   ]
  },
  {
   "cell_type": "code",
   "execution_count": null,
   "metadata": {},
   "outputs": [],
   "source": [
    "# will have no output if there are no subplots\n",
    "\n",
    "check_for_subplots(fle_0)"
   ]
  },
  {
   "cell_type": "markdown",
   "metadata": {},
   "source": [
    "#### Read in Season Four Weather Data from MAC Weather Station"
   ]
  },
  {
   "cell_type": "code",
   "execution_count": null,
   "metadata": {},
   "outputs": [],
   "source": [
    "# weather_df_0 = pd.read_csv('mac_weather_station_raw_daily_2017.csv')\n",
    "print(weather_df_0.shape)\n",
    "weather_df_0.head(3)"
   ]
  },
  {
   "cell_type": "markdown",
   "metadata": {},
   "source": [
    "#### Slice dataframe for season dates only and add date column\n",
    "* Planting Date: 2017-04-20, Day 110\n",
    "* Last Day of Harvest: 2017-09-16, Day 259"
   ]
  },
  {
   "cell_type": "code",
   "execution_count": null,
   "metadata": {},
   "outputs": [],
   "source": [
    "weather_df_1 = weather_df_0.loc[(weather_df_0.day_of_year >= 110) & (weather_df_0.day_of_year <= 259)]\n",
    "print(weather_df_1.shape)\n",
    "weather_df_1.head(3)"
   ]
  },
  {
   "cell_type": "code",
   "execution_count": null,
   "metadata": {},
   "outputs": [],
   "source": [
    "season_4_date_range = pd.date_range(start='2017-04-20', end='2017-09-16')"
   ]
  },
  {
   "cell_type": "code",
   "execution_count": null,
   "metadata": {},
   "outputs": [],
   "source": [
    "weather_df_2 = weather_df_1.copy()\n",
    "weather_df_2['date'] = season_4_date_range\n",
    "print(weather_df_2.shape)\n",
    "weather_df_2.tail(3)"
   ]
  },
  {
   "cell_type": "markdown",
   "metadata": {},
   "source": [
    "#### Add Growing Degree Days\n",
    "- Future: add LaTeX equation\n",
    "- Future: add info about min and max daily values\n",
    "- 10 degrees Celsius is base temp for sorghum\n",
    "- Daily gdd value = ((max temp + min temp) / 2) - 10 (base temp)\n",
    "- Growing Degree Days = cumulative sum of daily gdd values"
   ]
  },
  {
   "cell_type": "code",
   "execution_count": null,
   "metadata": {},
   "outputs": [],
   "source": [
    "weather_df_3 = weather_df_2.copy()\n",
    "weather_df_3['daily_gdd'] = (((weather_df_3['air_temp_max'] + weather_df_3['air_temp_min'])) / 2) - 10\n",
    "print(weather_df_3.shape)\n",
    "weather_df_3.head(3)"
   ]
  },
  {
   "cell_type": "code",
   "execution_count": null,
   "metadata": {},
   "outputs": [],
   "source": [
    "weather_df_4 = weather_df_3.copy()\n",
    "\n",
    "# round to the nearest integer\n",
    "weather_df_4['gdd'] = np.rint(np.cumsum(weather_df_4['daily_gdd']))\n",
    "print(weather_df_4.shape)\n",
    "weather_df_4.tail(3)"
   ]
  },
  {
   "cell_type": "markdown",
   "metadata": {},
   "source": [
    "#### Add planting date 2017-04-20"
   ]
  },
  {
   "cell_type": "code",
   "execution_count": null,
   "metadata": {},
   "outputs": [],
   "source": [
    "day_of_planting = datetime.date(2017,4,20)\n",
    "fle_1 = fle_0.copy()\n",
    "\n",
    "fle_1['date_of_planting'] = day_of_planting\n",
    "print(fle_1.shape)\n",
    "fle_1.head(3)"
   ]
  },
  {
   "cell_type": "markdown",
   "metadata": {},
   "source": [
    "#### Create timedelta using days to flag leaf emergence"
   ]
  },
  {
   "cell_type": "code",
   "execution_count": null,
   "metadata": {},
   "outputs": [],
   "source": [
    "timedelta_values = fle_1['value'].values\n",
    "dates_of_flag_leaf_emergence = []\n",
    "\n",
    "for val in timedelta_values:\n",
    "    \n",
    "    date_of_flag_leaf_emergence = day_of_planting + datetime.timedelta(days=val)\n",
    "    dates_of_flag_leaf_emergence.append(date_of_flag_leaf_emergence)\n",
    "    \n",
    "print(fle_1.shape[0])\n",
    "print(len(dates_of_flag_leaf_emergence))"
   ]
  },
  {
   "cell_type": "code",
   "execution_count": null,
   "metadata": {},
   "outputs": [],
   "source": [
    "fle_2 = fle_1.copy()\n",
    "fle_2['date_of_flag_leaf_emergence'] = dates_of_flag_leaf_emergence\n",
    "print(fle_2.shape)\n",
    "fle_2.head(3)"
   ]
  },
  {
   "cell_type": "markdown",
   "metadata": {},
   "source": [
    "#### Add GDD to flag leaf emergence"
   ]
  },
  {
   "cell_type": "code",
   "execution_count": null,
   "metadata": {},
   "outputs": [],
   "source": [
    "# slice df for date and cumulative gdd values only\n",
    "\n",
    "season_4_gdd = weather_df_4[['date', 'gdd']]\n",
    "print(season_4_gdd.shape)\n",
    "season_4_gdd.head(3)"
   ]
  },
  {
   "cell_type": "code",
   "execution_count": null,
   "metadata": {},
   "outputs": [],
   "source": [
    "fle_2.dtypes"
   ]
  },
  {
   "cell_type": "code",
   "execution_count": null,
   "metadata": {},
   "outputs": [],
   "source": [
    "fle_3 = fle_2.copy()\n",
    "fle_3.date_of_flag_leaf_emergence = pd.to_datetime(fle_3.date_of_flag_leaf_emergence)\n",
    "fle_3.dtypes"
   ]
  },
  {
   "cell_type": "code",
   "execution_count": null,
   "metadata": {},
   "outputs": [],
   "source": [
    "fle_4 = fle_3.merge(season_4_gdd, how='left', left_on='date_of_flag_leaf_emergence', right_on='date')\n",
    "print(fle_4.shape)\n",
    "fle_4.head(3)"
   ]
  },
  {
   "cell_type": "markdown",
   "metadata": {},
   "source": [
    "#### Drop all date columns except `date_of_flag_leaf_emergence`"
   ]
  },
  {
   "cell_type": "code",
   "execution_count": null,
   "metadata": {},
   "outputs": [],
   "source": [
    "date_cols_to_drop = ['date_x', 'date_of_planting', 'date_y']\n",
    "fle_5 = fle_4.drop(labels=date_cols_to_drop, axis=1)\n",
    "print(fle_5.shape)\n",
    "fle_5.tail(3)"
   ]
  },
  {
   "cell_type": "markdown",
   "metadata": {},
   "source": [
    "#### Check for duplicates"
   ]
  },
  {
   "cell_type": "code",
   "execution_count": null,
   "metadata": {},
   "outputs": [],
   "source": [
    "fle_5.duplicated().value_counts()"
   ]
  },
  {
   "cell_type": "code",
   "execution_count": null,
   "metadata": {},
   "outputs": [],
   "source": [
    "# keep duplicates for now?"
   ]
  },
  {
   "cell_type": "markdown",
   "metadata": {},
   "source": [
    "#### Write dataframe to csv file with timestamp"
   ]
  },
  {
   "cell_type": "code",
   "execution_count": null,
   "metadata": {},
   "outputs": [],
   "source": [
    "timestamp = datetime.datetime.now().replace(microsecond=0).isoformat()\n",
    "output_filename = f'days_gdd_to_flag_leaf_emergence_season_4_{timestamp}.csv'.replace(':', '')\n",
    "\n",
    "fle_5.to_csv(output_filename, index=False)"
   ]
  },
  {
   "cell_type": "markdown",
   "metadata": {},
   "source": [
    "### D. Canopy Height - Time Series"
   ]
  },
  {
   "cell_type": "code",
   "execution_count": 15,
   "metadata": {},
   "outputs": [
    {
     "name": "stdout",
     "output_type": "stream",
     "text": [
      "(52154, 13)\n"
     ]
    },
    {
     "data": {
      "text/html": [
       "<div>\n",
       "<style scoped>\n",
       "    .dataframe tbody tr th:only-of-type {\n",
       "        vertical-align: middle;\n",
       "    }\n",
       "\n",
       "    .dataframe tbody tr th {\n",
       "        vertical-align: top;\n",
       "    }\n",
       "\n",
       "    .dataframe thead th {\n",
       "        text-align: right;\n",
       "    }\n",
       "</style>\n",
       "<table border=\"1\" class=\"dataframe\">\n",
       "  <thead>\n",
       "    <tr style=\"text-align: right;\">\n",
       "      <th></th>\n",
       "      <th>sitename</th>\n",
       "      <th>range</th>\n",
       "      <th>column</th>\n",
       "      <th>lat</th>\n",
       "      <th>lon</th>\n",
       "      <th>date</th>\n",
       "      <th>treatment</th>\n",
       "      <th>trait</th>\n",
       "      <th>trait_description</th>\n",
       "      <th>method_name</th>\n",
       "      <th>cultivar</th>\n",
       "      <th>value</th>\n",
       "      <th>units</th>\n",
       "    </tr>\n",
       "  </thead>\n",
       "  <tbody>\n",
       "    <tr>\n",
       "      <th>21410</th>\n",
       "      <td>MAC Field Scanner Season 4 Range 5 Column 7 E</td>\n",
       "      <td>5</td>\n",
       "      <td>7</td>\n",
       "      <td>33.074691</td>\n",
       "      <td>-111.974945</td>\n",
       "      <td>2017-07-11</td>\n",
       "      <td>BAP 2017, water-deficit stress Aug 1-14</td>\n",
       "      <td>canopy_height</td>\n",
       "      <td>top of the general canopy of the plant, discou...</td>\n",
       "      <td>Manual canopy height</td>\n",
       "      <td>PI329300</td>\n",
       "      <td>310.0</td>\n",
       "      <td>cm</td>\n",
       "    </tr>\n",
       "    <tr>\n",
       "      <th>22171</th>\n",
       "      <td>MAC Field Scanner Season 4 Range 9 Column 6 E</td>\n",
       "      <td>9</td>\n",
       "      <td>6</td>\n",
       "      <td>33.074835</td>\n",
       "      <td>-111.974962</td>\n",
       "      <td>2017-05-29</td>\n",
       "      <td>BAP 2017, water-deficit stress Aug 1-14</td>\n",
       "      <td>canopy_height</td>\n",
       "      <td>top of the general canopy of the plant, discou...</td>\n",
       "      <td>Manual canopy height</td>\n",
       "      <td>PI329351</td>\n",
       "      <td>44.0</td>\n",
       "      <td>cm</td>\n",
       "    </tr>\n",
       "    <tr>\n",
       "      <th>22172</th>\n",
       "      <td>MAC Field Scanner Season 4 Range 11 Column 3 W</td>\n",
       "      <td>11</td>\n",
       "      <td>3</td>\n",
       "      <td>33.074907</td>\n",
       "      <td>-111.975019</td>\n",
       "      <td>2017-05-29</td>\n",
       "      <td>BAP 2017, water-deficit stress Aug 1-14</td>\n",
       "      <td>canopy_height</td>\n",
       "      <td>top of the general canopy of the plant, discou...</td>\n",
       "      <td>Manual canopy height</td>\n",
       "      <td>PI655978</td>\n",
       "      <td>58.0</td>\n",
       "      <td>cm</td>\n",
       "    </tr>\n",
       "  </tbody>\n",
       "</table>\n",
       "</div>"
      ],
      "text/plain": [
       "                                             sitename  range  column  \\\n",
       "21410   MAC Field Scanner Season 4 Range 5 Column 7 E      5       7   \n",
       "22171   MAC Field Scanner Season 4 Range 9 Column 6 E      9       6   \n",
       "22172  MAC Field Scanner Season 4 Range 11 Column 3 W     11       3   \n",
       "\n",
       "             lat         lon       date  \\\n",
       "21410  33.074691 -111.974945 2017-07-11   \n",
       "22171  33.074835 -111.974962 2017-05-29   \n",
       "22172  33.074907 -111.975019 2017-05-29   \n",
       "\n",
       "                                     treatment          trait  \\\n",
       "21410  BAP 2017, water-deficit stress Aug 1-14  canopy_height   \n",
       "22171  BAP 2017, water-deficit stress Aug 1-14  canopy_height   \n",
       "22172  BAP 2017, water-deficit stress Aug 1-14  canopy_height   \n",
       "\n",
       "                                       trait_description  \\\n",
       "21410  top of the general canopy of the plant, discou...   \n",
       "22171  top of the general canopy of the plant, discou...   \n",
       "22172  top of the general canopy of the plant, discou...   \n",
       "\n",
       "                method_name  cultivar  value units  \n",
       "21410  Manual canopy height  PI329300  310.0    cm  \n",
       "22171  Manual canopy height  PI329351   44.0    cm  \n",
       "22172  Manual canopy height  PI655978   58.0    cm  "
      ]
     },
     "execution_count": 15,
     "metadata": {},
     "output_type": "execute_result"
    }
   ],
   "source": [
    "ch_0 = df_6.loc[df_6.trait == 'canopy_height']\n",
    "print(ch_0.shape)\n",
    "ch_0.head(3)"
   ]
  },
  {
   "cell_type": "code",
   "execution_count": 18,
   "metadata": {},
   "outputs": [
    {
     "data": {
      "text/plain": [
       "(4430, 13)"
      ]
     },
     "execution_count": 18,
     "metadata": {},
     "output_type": "execute_result"
    }
   ],
   "source": [
    "subplots = check_for_subplots(ch_0)\n",
    "subplots.shape"
   ]
  },
  {
   "cell_type": "markdown",
   "metadata": {},
   "source": [
    "#### Take average canopy height values for subplots on same day\n",
    "- Strip ` E` and ` W` subplot designations\n",
    "- Group by rows with the same sitename and date and take the average value"
   ]
  },
  {
   "cell_type": "code",
   "execution_count": 19,
   "metadata": {},
   "outputs": [
    {
     "name": "stdout",
     "output_type": "stream",
     "text": [
      "52154\n"
     ]
    }
   ],
   "source": [
    "sitename_values = ch_0.sitename.values\n",
    "no_e_w_names = []\n",
    "\n",
    "for name in sitename_values:\n",
    "    \n",
    "    if name.endswith(' W') | name.endswith(' E'):\n",
    "        name = name[:-2]\n",
    "        no_e_w_names.append(name)\n",
    "        \n",
    "    else:\n",
    "        no_e_w_names.append(name)\n",
    "        \n",
    "print(len(no_e_w_names))"
   ]
  },
  {
   "cell_type": "markdown",
   "metadata": {},
   "source": [
    "#### Add new sitename column with no subplots"
   ]
  },
  {
   "cell_type": "code",
   "execution_count": 20,
   "metadata": {},
   "outputs": [
    {
     "name": "stdout",
     "output_type": "stream",
     "text": [
      "(52154, 14)\n"
     ]
    },
    {
     "data": {
      "text/html": [
       "<div>\n",
       "<style scoped>\n",
       "    .dataframe tbody tr th:only-of-type {\n",
       "        vertical-align: middle;\n",
       "    }\n",
       "\n",
       "    .dataframe tbody tr th {\n",
       "        vertical-align: top;\n",
       "    }\n",
       "\n",
       "    .dataframe thead th {\n",
       "        text-align: right;\n",
       "    }\n",
       "</style>\n",
       "<table border=\"1\" class=\"dataframe\">\n",
       "  <thead>\n",
       "    <tr style=\"text-align: right;\">\n",
       "      <th></th>\n",
       "      <th>sitename</th>\n",
       "      <th>range</th>\n",
       "      <th>column</th>\n",
       "      <th>lat</th>\n",
       "      <th>lon</th>\n",
       "      <th>date</th>\n",
       "      <th>treatment</th>\n",
       "      <th>trait</th>\n",
       "      <th>trait_description</th>\n",
       "      <th>method_name</th>\n",
       "      <th>cultivar</th>\n",
       "      <th>value</th>\n",
       "      <th>units</th>\n",
       "      <th>sitename_1</th>\n",
       "    </tr>\n",
       "  </thead>\n",
       "  <tbody>\n",
       "    <tr>\n",
       "      <th>21410</th>\n",
       "      <td>MAC Field Scanner Season 4 Range 5 Column 7 E</td>\n",
       "      <td>5</td>\n",
       "      <td>7</td>\n",
       "      <td>33.074691</td>\n",
       "      <td>-111.974945</td>\n",
       "      <td>2017-07-11</td>\n",
       "      <td>BAP 2017, water-deficit stress Aug 1-14</td>\n",
       "      <td>canopy_height</td>\n",
       "      <td>top of the general canopy of the plant, discou...</td>\n",
       "      <td>Manual canopy height</td>\n",
       "      <td>PI329300</td>\n",
       "      <td>310.0</td>\n",
       "      <td>cm</td>\n",
       "      <td>MAC Field Scanner Season 4 Range 5 Column 7</td>\n",
       "    </tr>\n",
       "    <tr>\n",
       "      <th>22171</th>\n",
       "      <td>MAC Field Scanner Season 4 Range 9 Column 6 E</td>\n",
       "      <td>9</td>\n",
       "      <td>6</td>\n",
       "      <td>33.074835</td>\n",
       "      <td>-111.974962</td>\n",
       "      <td>2017-05-29</td>\n",
       "      <td>BAP 2017, water-deficit stress Aug 1-14</td>\n",
       "      <td>canopy_height</td>\n",
       "      <td>top of the general canopy of the plant, discou...</td>\n",
       "      <td>Manual canopy height</td>\n",
       "      <td>PI329351</td>\n",
       "      <td>44.0</td>\n",
       "      <td>cm</td>\n",
       "      <td>MAC Field Scanner Season 4 Range 9 Column 6</td>\n",
       "    </tr>\n",
       "    <tr>\n",
       "      <th>22172</th>\n",
       "      <td>MAC Field Scanner Season 4 Range 11 Column 3 W</td>\n",
       "      <td>11</td>\n",
       "      <td>3</td>\n",
       "      <td>33.074907</td>\n",
       "      <td>-111.975019</td>\n",
       "      <td>2017-05-29</td>\n",
       "      <td>BAP 2017, water-deficit stress Aug 1-14</td>\n",
       "      <td>canopy_height</td>\n",
       "      <td>top of the general canopy of the plant, discou...</td>\n",
       "      <td>Manual canopy height</td>\n",
       "      <td>PI655978</td>\n",
       "      <td>58.0</td>\n",
       "      <td>cm</td>\n",
       "      <td>MAC Field Scanner Season 4 Range 11 Column 3</td>\n",
       "    </tr>\n",
       "  </tbody>\n",
       "</table>\n",
       "</div>"
      ],
      "text/plain": [
       "                                             sitename  range  column  \\\n",
       "21410   MAC Field Scanner Season 4 Range 5 Column 7 E      5       7   \n",
       "22171   MAC Field Scanner Season 4 Range 9 Column 6 E      9       6   \n",
       "22172  MAC Field Scanner Season 4 Range 11 Column 3 W     11       3   \n",
       "\n",
       "             lat         lon       date  \\\n",
       "21410  33.074691 -111.974945 2017-07-11   \n",
       "22171  33.074835 -111.974962 2017-05-29   \n",
       "22172  33.074907 -111.975019 2017-05-29   \n",
       "\n",
       "                                     treatment          trait  \\\n",
       "21410  BAP 2017, water-deficit stress Aug 1-14  canopy_height   \n",
       "22171  BAP 2017, water-deficit stress Aug 1-14  canopy_height   \n",
       "22172  BAP 2017, water-deficit stress Aug 1-14  canopy_height   \n",
       "\n",
       "                                       trait_description  \\\n",
       "21410  top of the general canopy of the plant, discou...   \n",
       "22171  top of the general canopy of the plant, discou...   \n",
       "22172  top of the general canopy of the plant, discou...   \n",
       "\n",
       "                method_name  cultivar  value units  \\\n",
       "21410  Manual canopy height  PI329300  310.0    cm   \n",
       "22171  Manual canopy height  PI329351   44.0    cm   \n",
       "22172  Manual canopy height  PI655978   58.0    cm   \n",
       "\n",
       "                                         sitename_1  \n",
       "21410   MAC Field Scanner Season 4 Range 5 Column 7  \n",
       "22171   MAC Field Scanner Season 4 Range 9 Column 6  \n",
       "22172  MAC Field Scanner Season 4 Range 11 Column 3  "
      ]
     },
     "execution_count": 20,
     "metadata": {},
     "output_type": "execute_result"
    }
   ],
   "source": [
    "ch_1 = ch_0.copy()\n",
    "ch_1['sitename_1'] = no_e_w_names\n",
    "print(ch_1.shape)\n",
    "ch_1.head(3)"
   ]
  },
  {
   "cell_type": "markdown",
   "metadata": {},
   "source": [
    "#### Use sqlite database to group by `sitename_1` and `date`"
   ]
  },
  {
   "cell_type": "code",
   "execution_count": 21,
   "metadata": {},
   "outputs": [
    {
     "name": "stdout",
     "output_type": "stream",
     "text": [
      "Opened database successfully\n"
     ]
    }
   ],
   "source": [
    "conn = sqlite3.connect('canopy_heights_season_4.sqlite')\n",
    "cursor = conn.cursor()\n",
    "print(\"Opened database successfully\")"
   ]
  },
  {
   "cell_type": "code",
   "execution_count": 23,
   "metadata": {},
   "outputs": [],
   "source": [
    "# comment next line out if db has already been created\n",
    "ch_1.to_sql('canopy_heights_season_4.sqlite', conn)"
   ]
  },
  {
   "cell_type": "code",
   "execution_count": 24,
   "metadata": {},
   "outputs": [
    {
     "name": "stdout",
     "output_type": "stream",
     "text": [
      "(34632, 13)\n"
     ]
    },
    {
     "data": {
      "text/html": [
       "<div>\n",
       "<style scoped>\n",
       "    .dataframe tbody tr th:only-of-type {\n",
       "        vertical-align: middle;\n",
       "    }\n",
       "\n",
       "    .dataframe tbody tr th {\n",
       "        vertical-align: top;\n",
       "    }\n",
       "\n",
       "    .dataframe thead th {\n",
       "        text-align: right;\n",
       "    }\n",
       "</style>\n",
       "<table border=\"1\" class=\"dataframe\">\n",
       "  <thead>\n",
       "    <tr style=\"text-align: right;\">\n",
       "      <th></th>\n",
       "      <th>sitename</th>\n",
       "      <th>range</th>\n",
       "      <th>column</th>\n",
       "      <th>lat</th>\n",
       "      <th>lon</th>\n",
       "      <th>date</th>\n",
       "      <th>treatment</th>\n",
       "      <th>trait</th>\n",
       "      <th>trait_description</th>\n",
       "      <th>method_name</th>\n",
       "      <th>cultivar</th>\n",
       "      <th>avg_canopy_height</th>\n",
       "      <th>units</th>\n",
       "    </tr>\n",
       "  </thead>\n",
       "  <tbody>\n",
       "    <tr>\n",
       "      <th>0</th>\n",
       "      <td>MAC Field Scanner Season 4 Range 10 Column 10</td>\n",
       "      <td>10</td>\n",
       "      <td>10</td>\n",
       "      <td>33.074871</td>\n",
       "      <td>-111.974900</td>\n",
       "      <td>2017-05-01 00:00:00</td>\n",
       "      <td>None</td>\n",
       "      <td>canopy_height</td>\n",
       "      <td>top of the general canopy of the plant, discou...</td>\n",
       "      <td>3D scanner to 98th quantile height</td>\n",
       "      <td>PI152816</td>\n",
       "      <td>12.0</td>\n",
       "      <td>cm</td>\n",
       "    </tr>\n",
       "    <tr>\n",
       "      <th>1</th>\n",
       "      <td>MAC Field Scanner Season 4 Range 10 Column 11</td>\n",
       "      <td>10</td>\n",
       "      <td>11</td>\n",
       "      <td>33.074871</td>\n",
       "      <td>-111.974884</td>\n",
       "      <td>2017-05-01 00:00:00</td>\n",
       "      <td>None</td>\n",
       "      <td>canopy_height</td>\n",
       "      <td>top of the general canopy of the plant, discou...</td>\n",
       "      <td>3D scanner to 98th quantile height</td>\n",
       "      <td>PI195754</td>\n",
       "      <td>12.0</td>\n",
       "      <td>cm</td>\n",
       "    </tr>\n",
       "    <tr>\n",
       "      <th>2</th>\n",
       "      <td>MAC Field Scanner Season 4 Range 10 Column 12</td>\n",
       "      <td>10</td>\n",
       "      <td>12</td>\n",
       "      <td>33.074871</td>\n",
       "      <td>-111.974868</td>\n",
       "      <td>2017-05-01 00:00:00</td>\n",
       "      <td>None</td>\n",
       "      <td>canopy_height</td>\n",
       "      <td>top of the general canopy of the plant, discou...</td>\n",
       "      <td>3D scanner to 98th quantile height</td>\n",
       "      <td>PI329501</td>\n",
       "      <td>12.0</td>\n",
       "      <td>cm</td>\n",
       "    </tr>\n",
       "  </tbody>\n",
       "</table>\n",
       "</div>"
      ],
      "text/plain": [
       "                                        sitename  range  column        lat  \\\n",
       "0  MAC Field Scanner Season 4 Range 10 Column 10     10      10  33.074871   \n",
       "1  MAC Field Scanner Season 4 Range 10 Column 11     10      11  33.074871   \n",
       "2  MAC Field Scanner Season 4 Range 10 Column 12     10      12  33.074871   \n",
       "\n",
       "          lon                 date treatment          trait  \\\n",
       "0 -111.974900  2017-05-01 00:00:00      None  canopy_height   \n",
       "1 -111.974884  2017-05-01 00:00:00      None  canopy_height   \n",
       "2 -111.974868  2017-05-01 00:00:00      None  canopy_height   \n",
       "\n",
       "                                   trait_description  \\\n",
       "0  top of the general canopy of the plant, discou...   \n",
       "1  top of the general canopy of the plant, discou...   \n",
       "2  top of the general canopy of the plant, discou...   \n",
       "\n",
       "                          method_name  cultivar  avg_canopy_height units  \n",
       "0  3D scanner to 98th quantile height  PI152816               12.0    cm  \n",
       "1  3D scanner to 98th quantile height  PI195754               12.0    cm  \n",
       "2  3D scanner to 98th quantile height  PI329501               12.0    cm  "
      ]
     },
     "execution_count": 24,
     "metadata": {},
     "output_type": "execute_result"
    }
   ],
   "source": [
    "ch_2 = pd.read_sql_query(\"\"\"\n",
    "                            SELECT sitename_1 AS sitename, range, column, lat, lon, date, treatment, \n",
    "                            trait, trait_description, method_name, cultivar, \n",
    "                            ROUND(AVG(value), 2) AS avg_canopy_height, units \n",
    "                            FROM 'canopy_heights_season_4.sqlite'\n",
    "                            GROUP BY sitename_1, date, cultivar\n",
    "                            ORDER BY date ASC;\n",
    "                            \"\"\", conn)\n",
    "\n",
    "print(ch_2.shape)\n",
    "ch_2.head(3)"
   ]
  },
  {
   "cell_type": "code",
   "execution_count": 25,
   "metadata": {},
   "outputs": [
    {
     "data": {
      "text/html": [
       "<div>\n",
       "<style scoped>\n",
       "    .dataframe tbody tr th:only-of-type {\n",
       "        vertical-align: middle;\n",
       "    }\n",
       "\n",
       "    .dataframe tbody tr th {\n",
       "        vertical-align: top;\n",
       "    }\n",
       "\n",
       "    .dataframe thead th {\n",
       "        text-align: right;\n",
       "    }\n",
       "</style>\n",
       "<table border=\"1\" class=\"dataframe\">\n",
       "  <thead>\n",
       "    <tr style=\"text-align: right;\">\n",
       "      <th></th>\n",
       "      <th>sitename</th>\n",
       "      <th>range</th>\n",
       "      <th>column</th>\n",
       "      <th>lat</th>\n",
       "      <th>lon</th>\n",
       "      <th>date</th>\n",
       "      <th>treatment</th>\n",
       "      <th>trait</th>\n",
       "      <th>trait_description</th>\n",
       "      <th>method_name</th>\n",
       "      <th>cultivar</th>\n",
       "      <th>value</th>\n",
       "      <th>units</th>\n",
       "      <th>sitename_1</th>\n",
       "    </tr>\n",
       "  </thead>\n",
       "  <tbody>\n",
       "    <tr>\n",
       "      <th>21410</th>\n",
       "      <td>MAC Field Scanner Season 4 Range 5 Column 7 E</td>\n",
       "      <td>5</td>\n",
       "      <td>7</td>\n",
       "      <td>33.074691</td>\n",
       "      <td>-111.974945</td>\n",
       "      <td>2017-07-11</td>\n",
       "      <td>BAP 2017, water-deficit stress Aug 1-14</td>\n",
       "      <td>canopy_height</td>\n",
       "      <td>top of the general canopy of the plant, discou...</td>\n",
       "      <td>Manual canopy height</td>\n",
       "      <td>PI329300</td>\n",
       "      <td>310.0</td>\n",
       "      <td>cm</td>\n",
       "      <td>MAC Field Scanner Season 4 Range 5 Column 7</td>\n",
       "    </tr>\n",
       "    <tr>\n",
       "      <th>25752</th>\n",
       "      <td>MAC Field Scanner Season 4 Range 5 Column 7 W</td>\n",
       "      <td>5</td>\n",
       "      <td>7</td>\n",
       "      <td>33.074691</td>\n",
       "      <td>-111.974953</td>\n",
       "      <td>2017-07-11</td>\n",
       "      <td>BAP 2017, water-deficit stress Aug 1-14</td>\n",
       "      <td>canopy_height</td>\n",
       "      <td>top of the general canopy of the plant, discou...</td>\n",
       "      <td>Manual canopy height</td>\n",
       "      <td>PI329300</td>\n",
       "      <td>318.0</td>\n",
       "      <td>cm</td>\n",
       "      <td>MAC Field Scanner Season 4 Range 5 Column 7</td>\n",
       "    </tr>\n",
       "    <tr>\n",
       "      <th>45448</th>\n",
       "      <td>MAC Field Scanner Season 4 Range 5 Column 7 E</td>\n",
       "      <td>5</td>\n",
       "      <td>7</td>\n",
       "      <td>33.074691</td>\n",
       "      <td>-111.974945</td>\n",
       "      <td>2017-07-11</td>\n",
       "      <td>BAP 2017, water-deficit stress Aug 1-14</td>\n",
       "      <td>canopy_height</td>\n",
       "      <td>top of the general canopy of the plant, discou...</td>\n",
       "      <td>Manual canopy height</td>\n",
       "      <td>PI329300</td>\n",
       "      <td>310.0</td>\n",
       "      <td>cm</td>\n",
       "      <td>MAC Field Scanner Season 4 Range 5 Column 7</td>\n",
       "    </tr>\n",
       "  </tbody>\n",
       "</table>\n",
       "</div>"
      ],
      "text/plain": [
       "                                            sitename  range  column  \\\n",
       "21410  MAC Field Scanner Season 4 Range 5 Column 7 E      5       7   \n",
       "25752  MAC Field Scanner Season 4 Range 5 Column 7 W      5       7   \n",
       "45448  MAC Field Scanner Season 4 Range 5 Column 7 E      5       7   \n",
       "\n",
       "             lat         lon       date  \\\n",
       "21410  33.074691 -111.974945 2017-07-11   \n",
       "25752  33.074691 -111.974953 2017-07-11   \n",
       "45448  33.074691 -111.974945 2017-07-11   \n",
       "\n",
       "                                     treatment          trait  \\\n",
       "21410  BAP 2017, water-deficit stress Aug 1-14  canopy_height   \n",
       "25752  BAP 2017, water-deficit stress Aug 1-14  canopy_height   \n",
       "45448  BAP 2017, water-deficit stress Aug 1-14  canopy_height   \n",
       "\n",
       "                                       trait_description  \\\n",
       "21410  top of the general canopy of the plant, discou...   \n",
       "25752  top of the general canopy of the plant, discou...   \n",
       "45448  top of the general canopy of the plant, discou...   \n",
       "\n",
       "                method_name  cultivar  value units  \\\n",
       "21410  Manual canopy height  PI329300  310.0    cm   \n",
       "25752  Manual canopy height  PI329300  318.0    cm   \n",
       "45448  Manual canopy height  PI329300  310.0    cm   \n",
       "\n",
       "                                        sitename_1  \n",
       "21410  MAC Field Scanner Season 4 Range 5 Column 7  \n",
       "25752  MAC Field Scanner Season 4 Range 5 Column 7  \n",
       "45448  MAC Field Scanner Season 4 Range 5 Column 7  "
      ]
     },
     "execution_count": 25,
     "metadata": {},
     "output_type": "execute_result"
    }
   ],
   "source": [
    "# Sanity Check\n",
    "\n",
    "sample_with_subplot = ch_1.loc[(ch_1.range == 5) & (ch_1.column == 7) & (ch_1.date == '2017-07-11')]\n",
    "sample_with_subplot"
   ]
  },
  {
   "cell_type": "code",
   "execution_count": 26,
   "metadata": {},
   "outputs": [
    {
     "data": {
      "text/html": [
       "<div>\n",
       "<style scoped>\n",
       "    .dataframe tbody tr th:only-of-type {\n",
       "        vertical-align: middle;\n",
       "    }\n",
       "\n",
       "    .dataframe tbody tr th {\n",
       "        vertical-align: top;\n",
       "    }\n",
       "\n",
       "    .dataframe thead th {\n",
       "        text-align: right;\n",
       "    }\n",
       "</style>\n",
       "<table border=\"1\" class=\"dataframe\">\n",
       "  <thead>\n",
       "    <tr style=\"text-align: right;\">\n",
       "      <th></th>\n",
       "      <th>sitename</th>\n",
       "      <th>range</th>\n",
       "      <th>column</th>\n",
       "      <th>lat</th>\n",
       "      <th>lon</th>\n",
       "      <th>date</th>\n",
       "      <th>treatment</th>\n",
       "      <th>trait</th>\n",
       "      <th>trait_description</th>\n",
       "      <th>method_name</th>\n",
       "      <th>cultivar</th>\n",
       "      <th>avg_canopy_height</th>\n",
       "      <th>units</th>\n",
       "    </tr>\n",
       "  </thead>\n",
       "  <tbody>\n",
       "    <tr>\n",
       "      <th>26726</th>\n",
       "      <td>MAC Field Scanner Season 4 Range 5 Column 7</td>\n",
       "      <td>5</td>\n",
       "      <td>7</td>\n",
       "      <td>33.074691</td>\n",
       "      <td>-111.974945</td>\n",
       "      <td>2017-07-11 00:00:00</td>\n",
       "      <td>BAP 2017, water-deficit stress Aug 1-14</td>\n",
       "      <td>canopy_height</td>\n",
       "      <td>top of the general canopy of the plant, discou...</td>\n",
       "      <td>Manual canopy height</td>\n",
       "      <td>PI329300</td>\n",
       "      <td>312.67</td>\n",
       "      <td>cm</td>\n",
       "    </tr>\n",
       "  </tbody>\n",
       "</table>\n",
       "</div>"
      ],
      "text/plain": [
       "                                          sitename  range  column        lat  \\\n",
       "26726  MAC Field Scanner Season 4 Range 5 Column 7      5       7  33.074691   \n",
       "\n",
       "              lon                 date  \\\n",
       "26726 -111.974945  2017-07-11 00:00:00   \n",
       "\n",
       "                                     treatment          trait  \\\n",
       "26726  BAP 2017, water-deficit stress Aug 1-14  canopy_height   \n",
       "\n",
       "                                       trait_description  \\\n",
       "26726  top of the general canopy of the plant, discou...   \n",
       "\n",
       "                method_name  cultivar  avg_canopy_height units  \n",
       "26726  Manual canopy height  PI329300             312.67    cm  "
      ]
     },
     "execution_count": 26,
     "metadata": {},
     "output_type": "execute_result"
    }
   ],
   "source": [
    "# Sanity Check - should have only one row for the above group\n",
    "\n",
    "sample_without_subplot = ch_2.loc[(ch_2.range == 5) & (ch_2.column == 7) & (ch_2.date == '2017-07-11 00:00:00')]\n",
    "sample_without_subplot"
   ]
  },
  {
   "cell_type": "markdown",
   "metadata": {},
   "source": [
    "#### Write dataframe to csv file with timestamp"
   ]
  },
  {
   "cell_type": "code",
   "execution_count": null,
   "metadata": {},
   "outputs": [],
   "source": [
    "timestamp = datetime.datetime.now().replace(microsecond=0).isoformat()\n",
    "output_filename = f'canopy_height_time_series_season_4_{timestamp}.csv'.replace(':', '')\n",
    "\n",
    "ch_2.to_csv(output_filename, index=False)"
   ]
  }
 ],
 "metadata": {
  "kernelspec": {
   "display_name": "Python 3",
   "language": "python",
   "name": "python3"
  },
  "language_info": {
   "codemirror_mode": {
    "name": "ipython",
    "version": 3
   },
   "file_extension": ".py",
   "mimetype": "text/x-python",
   "name": "python",
   "nbconvert_exporter": "python",
   "pygments_lexer": "ipython3",
   "version": "3.6.8"
  }
 },
 "nbformat": 4,
 "nbformat_minor": 2
}
