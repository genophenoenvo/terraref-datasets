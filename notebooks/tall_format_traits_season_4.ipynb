{
 "cells": [
  {
   "cell_type": "markdown",
   "metadata": {},
   "source": [
    "## Tall Format Trait Table Season 4"
   ]
  },
  {
   "cell_type": "code",
   "execution_count": 1,
   "metadata": {},
   "outputs": [],
   "source": [
    "import datetime\n",
    "import numpy as np\n",
    "import pandas as pd"
   ]
  },
  {
   "cell_type": "code",
   "execution_count": 5,
   "metadata": {},
   "outputs": [
    {
     "data": {
      "text/plain": [
       "(372363, 39)"
      ]
     },
     "execution_count": 5,
     "metadata": {},
     "output_type": "execute_result"
    }
   ],
   "source": [
    "df_0 = pd.read_csv('data/raw/mac_season_4.csv', low_memory=False)\n",
    "df_0.shape"
   ]
  },
  {
   "cell_type": "code",
   "execution_count": 1,
   "metadata": {},
   "outputs": [],
   "source": [
    "# df_0.trait.unique()"
   ]
  },
  {
   "cell_type": "code",
   "execution_count": 2,
   "metadata": {},
   "outputs": [],
   "source": [
    "want_to_print_traits = False\n",
    "\n",
    "if want_to_print_traits:\n",
    "\n",
    "    for trait in df_0.trait.unique():\n",
    "        print(f'Unit for {trait}: {df_0.loc[df_0.trait == trait].units.unique()}')"
   ]
  },
  {
   "cell_type": "code",
   "execution_count": 5,
   "metadata": {},
   "outputs": [],
   "source": [
    "# df_0.columns"
   ]
  },
  {
   "cell_type": "code",
   "execution_count": 6,
   "metadata": {},
   "outputs": [],
   "source": [
    "cols_to_drop = ['Unnamed: 0', 'checked', 'result_type', 'id', 'citation_id', 'site_id', 'treatment_id', 'city', \n",
    "                'scientificname', 'commonname', 'genus', 'species_id', 'cultivar_id', 'author', 'citation_year',\n",
    "                'treatment', 'time', 'raw_date', 'month', 'year', 'dateloc', 'trait_description', 'units', 'n', 'statname',\n",
    "                'stat', 'notes', 'access_level', 'entity', 'method_name', 'view_url', 'edit_url']"
   ]
  },
  {
   "cell_type": "code",
   "execution_count": 7,
   "metadata": {},
   "outputs": [],
   "source": [
    "df_1 = df_0.drop(labels=cols_to_drop, axis=1)\n",
    "# df_1.head()"
   ]
  },
  {
   "cell_type": "code",
   "execution_count": null,
   "metadata": {},
   "outputs": [],
   "source": [
    "# df_1.shape"
   ]
  },
  {
   "cell_type": "code",
   "execution_count": null,
   "metadata": {},
   "outputs": [],
   "source": [
    "# print(df_1.date.min())\n",
    "# print(df_1.date.max())"
   ]
  },
  {
   "cell_type": "markdown",
   "metadata": {},
   "source": [
    "### I. Change date values to iso date format\n",
    "* date(s) as index?"
   ]
  },
  {
   "cell_type": "code",
   "execution_count": 8,
   "metadata": {},
   "outputs": [
    {
     "name": "stdout",
     "output_type": "stream",
     "text": [
      "372363\n"
     ]
    }
   ],
   "source": [
    "new_dates = []\n",
    "\n",
    "for d in df_1.date.values:\n",
    "    \n",
    "    if 'Phoenix' in d:\n",
    "        new_name = d[:-18]\n",
    "        new_dates.append(new_name)\n",
    "    \n",
    "    else:\n",
    "        new_name = d\n",
    "        new_dates.append(new_name)\n",
    "        \n",
    "print(len(new_dates))"
   ]
  },
  {
   "cell_type": "code",
   "execution_count": 9,
   "metadata": {},
   "outputs": [],
   "source": [
    "iso_format_dates = pd.to_datetime(new_dates)"
   ]
  },
  {
   "cell_type": "code",
   "execution_count": 10,
   "metadata": {},
   "outputs": [
    {
     "data": {
      "text/html": [
       "<div>\n",
       "<style scoped>\n",
       "    .dataframe tbody tr th:only-of-type {\n",
       "        vertical-align: middle;\n",
       "    }\n",
       "\n",
       "    .dataframe tbody tr th {\n",
       "        vertical-align: top;\n",
       "    }\n",
       "\n",
       "    .dataframe thead th {\n",
       "        text-align: right;\n",
       "    }\n",
       "</style>\n",
       "<table border=\"1\" class=\"dataframe\">\n",
       "  <thead>\n",
       "    <tr style=\"text-align: right;\">\n",
       "      <th></th>\n",
       "      <th>sitename</th>\n",
       "      <th>lat</th>\n",
       "      <th>lon</th>\n",
       "      <th>date</th>\n",
       "      <th>trait</th>\n",
       "      <th>mean</th>\n",
       "      <th>cultivar</th>\n",
       "      <th>date_1</th>\n",
       "    </tr>\n",
       "  </thead>\n",
       "  <tbody>\n",
       "    <tr>\n",
       "      <th>0</th>\n",
       "      <td>MAC Field Scanner Season 4 Range 11 Column 5</td>\n",
       "      <td>33.074907</td>\n",
       "      <td>-111.974982</td>\n",
       "      <td>2017 Jun 14 (America/Phoenix)</td>\n",
       "      <td>leaf_desiccation_present</td>\n",
       "      <td>0.0</td>\n",
       "      <td>PI181083</td>\n",
       "      <td>2017-06-14</td>\n",
       "    </tr>\n",
       "    <tr>\n",
       "      <th>1</th>\n",
       "      <td>MAC Field Scanner Season 4 Range 11 Column 6</td>\n",
       "      <td>33.074907</td>\n",
       "      <td>-111.974966</td>\n",
       "      <td>2017 Jun 14 (America/Phoenix)</td>\n",
       "      <td>leaf_desiccation_present</td>\n",
       "      <td>0.0</td>\n",
       "      <td>PI564163</td>\n",
       "      <td>2017-06-14</td>\n",
       "    </tr>\n",
       "    <tr>\n",
       "      <th>2</th>\n",
       "      <td>MAC Field Scanner Season 4 Range 11 Column 9</td>\n",
       "      <td>33.074907</td>\n",
       "      <td>-111.974917</td>\n",
       "      <td>2017 Jun 14 (America/Phoenix)</td>\n",
       "      <td>leaf_desiccation_present</td>\n",
       "      <td>0.0</td>\n",
       "      <td>PI52606</td>\n",
       "      <td>2017-06-14</td>\n",
       "    </tr>\n",
       "    <tr>\n",
       "      <th>3</th>\n",
       "      <td>MAC Field Scanner Season 4 Range 11 Column 11</td>\n",
       "      <td>33.074907</td>\n",
       "      <td>-111.974884</td>\n",
       "      <td>2017 Jun 14 (America/Phoenix)</td>\n",
       "      <td>leaf_desiccation_present</td>\n",
       "      <td>0.0</td>\n",
       "      <td>PI533792</td>\n",
       "      <td>2017-06-14</td>\n",
       "    </tr>\n",
       "    <tr>\n",
       "      <th>4</th>\n",
       "      <td>MAC Field Scanner Season 4 Range 11 Column 14</td>\n",
       "      <td>33.074907</td>\n",
       "      <td>-111.974835</td>\n",
       "      <td>2017 Jun 14 (America/Phoenix)</td>\n",
       "      <td>leaf_desiccation_present</td>\n",
       "      <td>0.0</td>\n",
       "      <td>PI535794</td>\n",
       "      <td>2017-06-14</td>\n",
       "    </tr>\n",
       "  </tbody>\n",
       "</table>\n",
       "</div>"
      ],
      "text/plain": [
       "                                        sitename        lat         lon  \\\n",
       "0   MAC Field Scanner Season 4 Range 11 Column 5  33.074907 -111.974982   \n",
       "1   MAC Field Scanner Season 4 Range 11 Column 6  33.074907 -111.974966   \n",
       "2   MAC Field Scanner Season 4 Range 11 Column 9  33.074907 -111.974917   \n",
       "3  MAC Field Scanner Season 4 Range 11 Column 11  33.074907 -111.974884   \n",
       "4  MAC Field Scanner Season 4 Range 11 Column 14  33.074907 -111.974835   \n",
       "\n",
       "                            date                     trait  mean  cultivar  \\\n",
       "0  2017 Jun 14 (America/Phoenix)  leaf_desiccation_present   0.0  PI181083   \n",
       "1  2017 Jun 14 (America/Phoenix)  leaf_desiccation_present   0.0  PI564163   \n",
       "2  2017 Jun 14 (America/Phoenix)  leaf_desiccation_present   0.0   PI52606   \n",
       "3  2017 Jun 14 (America/Phoenix)  leaf_desiccation_present   0.0  PI533792   \n",
       "4  2017 Jun 14 (America/Phoenix)  leaf_desiccation_present   0.0  PI535794   \n",
       "\n",
       "      date_1  \n",
       "0 2017-06-14  \n",
       "1 2017-06-14  \n",
       "2 2017-06-14  \n",
       "3 2017-06-14  \n",
       "4 2017-06-14  "
      ]
     },
     "execution_count": 10,
     "metadata": {},
     "output_type": "execute_result"
    }
   ],
   "source": [
    "df_1['date_1'] = iso_format_dates\n",
    "# df_1.head()"
   ]
  },
  {
   "cell_type": "markdown",
   "metadata": {},
   "source": [
    "### II. Change sitenames to strip E and W subplot designations\n",
    "* Check which traits are associated with subplots"
   ]
  },
  {
   "cell_type": "code",
   "execution_count": 11,
   "metadata": {},
   "outputs": [
    {
     "data": {
      "text/plain": [
       "array(['leaf_temperature', 'planter_seed_drop', 'seedling_emergence_rate',\n",
       "       'panicle_height', 'stand_count', 'canopy_height', 'leaf_length',\n",
       "       'leaf_width', 'canopy_cover', 'stem_elongated_internodes_number',\n",
       "       'emergence_count', 'stalk_diameter_fixed_height',\n",
       "       'stalk_diameter_minor_axis', 'stalk_diameter_major_axis',\n",
       "       'plant_basal_tiller_number'], dtype=object)"
      ]
     },
     "execution_count": 11,
     "metadata": {},
     "output_type": "execute_result"
    }
   ],
   "source": [
    "e_w_plots = df_1.loc[(df_1.sitename.str.endswith(' E')) | (df_1.sitename.str.endswith(' W'))]\n",
    "e_w_plots.trait.unique()"
   ]
  },
  {
   "cell_type": "code",
   "execution_count": 12,
   "metadata": {},
   "outputs": [],
   "source": [
    "e_w_plot_traits = e_w_plots.trait.unique()"
   ]
  },
  {
   "cell_type": "code",
   "execution_count": 13,
   "metadata": {},
   "outputs": [
    {
     "name": "stdout",
     "output_type": "stream",
     "text": [
      "372363\n"
     ]
    }
   ],
   "source": [
    "sitename_values = df_1.sitename.values\n",
    "no_e_w_names = []\n",
    "\n",
    "for name in sitename_values:\n",
    "    \n",
    "    if name.endswith(' W') | name.endswith(' E'):\n",
    "        name = name[:-2]\n",
    "        no_e_w_names.append(name)\n",
    "        \n",
    "    else:\n",
    "        no_e_w_names.append(name)\n",
    "\n",
    "print(len(no_e_w_names))"
   ]
  },
  {
   "cell_type": "code",
   "execution_count": 14,
   "metadata": {},
   "outputs": [],
   "source": [
    "df_1['sitename_1'] = no_e_w_names\n",
    "# df_1.sample(n=7)"
   ]
  },
  {
   "cell_type": "code",
   "execution_count": 15,
   "metadata": {},
   "outputs": [],
   "source": [
    "# df_1.loc[df_1.sitename.str.endswith(' E')].iloc[0]"
   ]
  },
  {
   "cell_type": "markdown",
   "metadata": {},
   "source": [
    "#### III. Extract Range and Column Values"
   ]
  },
  {
   "cell_type": "code",
   "execution_count": 16,
   "metadata": {},
   "outputs": [],
   "source": [
    "df_1['range'] = df_1['sitename'].str.extract(\"Range (\\d+)\").astype(int)\n",
    "df_1['column'] = df_1['sitename'].str.extract(\"Column (\\d+)\").astype(int)\n",
    "\n",
    "# df_1.sample(n=7)"
   ]
  },
  {
   "cell_type": "markdown",
   "metadata": {},
   "source": [
    "#### Drop duplicated Columns, Reorder, Rename, & Sort by Date"
   ]
  },
  {
   "cell_type": "code",
   "execution_count": 17,
   "metadata": {},
   "outputs": [
    {
     "data": {
      "text/plain": [
       "(372363, 9)"
      ]
     },
     "execution_count": 17,
     "metadata": {},
     "output_type": "execute_result"
    }
   ],
   "source": [
    "df_2 = df_1.drop(labels=['sitename', 'date'], axis=1)\n",
    "df_2.shape"
   ]
  },
  {
   "cell_type": "code",
   "execution_count": 18,
   "metadata": {},
   "outputs": [
    {
     "data": {
      "text/plain": [
       "Index(['lat', 'lon', 'trait', 'mean', 'cultivar', 'date_1', 'sitename_1',\n",
       "       'range', 'column'],\n",
       "      dtype='object')"
      ]
     },
     "execution_count": 18,
     "metadata": {},
     "output_type": "execute_result"
    }
   ],
   "source": [
    "df_2.columns"
   ]
  },
  {
   "cell_type": "code",
   "execution_count": 19,
   "metadata": {},
   "outputs": [],
   "source": [
    "col_reorder = ['date_1', 'sitename_1', 'range', 'column', 'lat', 'lon', 'cultivar', 'trait', 'mean']"
   ]
  },
  {
   "cell_type": "code",
   "execution_count": 20,
   "metadata": {},
   "outputs": [
    {
     "data": {
      "text/html": [
       "<div>\n",
       "<style scoped>\n",
       "    .dataframe tbody tr th:only-of-type {\n",
       "        vertical-align: middle;\n",
       "    }\n",
       "\n",
       "    .dataframe tbody tr th {\n",
       "        vertical-align: top;\n",
       "    }\n",
       "\n",
       "    .dataframe thead th {\n",
       "        text-align: right;\n",
       "    }\n",
       "</style>\n",
       "<table border=\"1\" class=\"dataframe\">\n",
       "  <thead>\n",
       "    <tr style=\"text-align: right;\">\n",
       "      <th></th>\n",
       "      <th>date_1</th>\n",
       "      <th>sitename_1</th>\n",
       "      <th>range</th>\n",
       "      <th>column</th>\n",
       "      <th>lat</th>\n",
       "      <th>lon</th>\n",
       "      <th>cultivar</th>\n",
       "      <th>trait</th>\n",
       "      <th>mean</th>\n",
       "    </tr>\n",
       "  </thead>\n",
       "  <tbody>\n",
       "    <tr>\n",
       "      <th>0</th>\n",
       "      <td>2017-06-14</td>\n",
       "      <td>MAC Field Scanner Season 4 Range 11 Column 5</td>\n",
       "      <td>11</td>\n",
       "      <td>5</td>\n",
       "      <td>33.074907</td>\n",
       "      <td>-111.974982</td>\n",
       "      <td>PI181083</td>\n",
       "      <td>leaf_desiccation_present</td>\n",
       "      <td>0.0</td>\n",
       "    </tr>\n",
       "    <tr>\n",
       "      <th>1</th>\n",
       "      <td>2017-06-14</td>\n",
       "      <td>MAC Field Scanner Season 4 Range 11 Column 6</td>\n",
       "      <td>11</td>\n",
       "      <td>6</td>\n",
       "      <td>33.074907</td>\n",
       "      <td>-111.974966</td>\n",
       "      <td>PI564163</td>\n",
       "      <td>leaf_desiccation_present</td>\n",
       "      <td>0.0</td>\n",
       "    </tr>\n",
       "    <tr>\n",
       "      <th>2</th>\n",
       "      <td>2017-06-14</td>\n",
       "      <td>MAC Field Scanner Season 4 Range 11 Column 9</td>\n",
       "      <td>11</td>\n",
       "      <td>9</td>\n",
       "      <td>33.074907</td>\n",
       "      <td>-111.974917</td>\n",
       "      <td>PI52606</td>\n",
       "      <td>leaf_desiccation_present</td>\n",
       "      <td>0.0</td>\n",
       "    </tr>\n",
       "    <tr>\n",
       "      <th>3</th>\n",
       "      <td>2017-06-14</td>\n",
       "      <td>MAC Field Scanner Season 4 Range 11 Column 11</td>\n",
       "      <td>11</td>\n",
       "      <td>11</td>\n",
       "      <td>33.074907</td>\n",
       "      <td>-111.974884</td>\n",
       "      <td>PI533792</td>\n",
       "      <td>leaf_desiccation_present</td>\n",
       "      <td>0.0</td>\n",
       "    </tr>\n",
       "    <tr>\n",
       "      <th>4</th>\n",
       "      <td>2017-06-14</td>\n",
       "      <td>MAC Field Scanner Season 4 Range 11 Column 14</td>\n",
       "      <td>11</td>\n",
       "      <td>14</td>\n",
       "      <td>33.074907</td>\n",
       "      <td>-111.974835</td>\n",
       "      <td>PI535794</td>\n",
       "      <td>leaf_desiccation_present</td>\n",
       "      <td>0.0</td>\n",
       "    </tr>\n",
       "  </tbody>\n",
       "</table>\n",
       "</div>"
      ],
      "text/plain": [
       "      date_1                                     sitename_1  range  column  \\\n",
       "0 2017-06-14   MAC Field Scanner Season 4 Range 11 Column 5     11       5   \n",
       "1 2017-06-14   MAC Field Scanner Season 4 Range 11 Column 6     11       6   \n",
       "2 2017-06-14   MAC Field Scanner Season 4 Range 11 Column 9     11       9   \n",
       "3 2017-06-14  MAC Field Scanner Season 4 Range 11 Column 11     11      11   \n",
       "4 2017-06-14  MAC Field Scanner Season 4 Range 11 Column 14     11      14   \n",
       "\n",
       "         lat         lon  cultivar                     trait  mean  \n",
       "0  33.074907 -111.974982  PI181083  leaf_desiccation_present   0.0  \n",
       "1  33.074907 -111.974966  PI564163  leaf_desiccation_present   0.0  \n",
       "2  33.074907 -111.974917   PI52606  leaf_desiccation_present   0.0  \n",
       "3  33.074907 -111.974884  PI533792  leaf_desiccation_present   0.0  \n",
       "4  33.074907 -111.974835  PI535794  leaf_desiccation_present   0.0  "
      ]
     },
     "execution_count": 20,
     "metadata": {},
     "output_type": "execute_result"
    }
   ],
   "source": [
    "df_3 = pd.DataFrame(data=df_2, columns=col_reorder, index=df_2.index)\n",
    "# df_3.head()"
   ]
  },
  {
   "cell_type": "code",
   "execution_count": 21,
   "metadata": {},
   "outputs": [
    {
     "data": {
      "text/html": [
       "<div>\n",
       "<style scoped>\n",
       "    .dataframe tbody tr th:only-of-type {\n",
       "        vertical-align: middle;\n",
       "    }\n",
       "\n",
       "    .dataframe tbody tr th {\n",
       "        vertical-align: top;\n",
       "    }\n",
       "\n",
       "    .dataframe thead th {\n",
       "        text-align: right;\n",
       "    }\n",
       "</style>\n",
       "<table border=\"1\" class=\"dataframe\">\n",
       "  <thead>\n",
       "    <tr style=\"text-align: right;\">\n",
       "      <th></th>\n",
       "      <th>date</th>\n",
       "      <th>sitename</th>\n",
       "      <th>range</th>\n",
       "      <th>column</th>\n",
       "      <th>lat</th>\n",
       "      <th>lon</th>\n",
       "      <th>cultivar</th>\n",
       "      <th>trait</th>\n",
       "      <th>value</th>\n",
       "    </tr>\n",
       "  </thead>\n",
       "  <tbody>\n",
       "    <tr>\n",
       "      <th>372358</th>\n",
       "      <td>2017-06-06</td>\n",
       "      <td>MAC Field Scanner Season 4 Range 44 Column 9</td>\n",
       "      <td>44</td>\n",
       "      <td>9</td>\n",
       "      <td>33.076093</td>\n",
       "      <td>-111.974917</td>\n",
       "      <td>PI329286</td>\n",
       "      <td>leaf_angle_beta</td>\n",
       "      <td>2.052416</td>\n",
       "    </tr>\n",
       "    <tr>\n",
       "      <th>372359</th>\n",
       "      <td>2017-06-06</td>\n",
       "      <td>MAC Field Scanner Season 4 Range 44 Column 9</td>\n",
       "      <td>44</td>\n",
       "      <td>9</td>\n",
       "      <td>33.076093</td>\n",
       "      <td>-111.974917</td>\n",
       "      <td>PI329286</td>\n",
       "      <td>leaf_angle_chi</td>\n",
       "      <td>2.140986</td>\n",
       "    </tr>\n",
       "    <tr>\n",
       "      <th>372360</th>\n",
       "      <td>2017-06-06</td>\n",
       "      <td>MAC Field Scanner Season 4 Range 44 Column 13</td>\n",
       "      <td>44</td>\n",
       "      <td>13</td>\n",
       "      <td>33.076093</td>\n",
       "      <td>-111.974852</td>\n",
       "      <td>PI329843</td>\n",
       "      <td>leaf_angle_mean</td>\n",
       "      <td>0.401801</td>\n",
       "    </tr>\n",
       "    <tr>\n",
       "      <th>372361</th>\n",
       "      <td>2017-06-06</td>\n",
       "      <td>MAC Field Scanner Season 4 Range 44 Column 13</td>\n",
       "      <td>44</td>\n",
       "      <td>13</td>\n",
       "      <td>33.076093</td>\n",
       "      <td>-111.974852</td>\n",
       "      <td>PI329843</td>\n",
       "      <td>leaf_angle_alpha</td>\n",
       "      <td>3.217374</td>\n",
       "    </tr>\n",
       "    <tr>\n",
       "      <th>372362</th>\n",
       "      <td>2017-06-06</td>\n",
       "      <td>MAC Field Scanner Season 4 Range 44 Column 13</td>\n",
       "      <td>44</td>\n",
       "      <td>13</td>\n",
       "      <td>33.076093</td>\n",
       "      <td>-111.974852</td>\n",
       "      <td>PI329843</td>\n",
       "      <td>leaf_angle_beta</td>\n",
       "      <td>1.980157</td>\n",
       "    </tr>\n",
       "  </tbody>\n",
       "</table>\n",
       "</div>"
      ],
      "text/plain": [
       "             date                                       sitename  range  \\\n",
       "372358 2017-06-06   MAC Field Scanner Season 4 Range 44 Column 9     44   \n",
       "372359 2017-06-06   MAC Field Scanner Season 4 Range 44 Column 9     44   \n",
       "372360 2017-06-06  MAC Field Scanner Season 4 Range 44 Column 13     44   \n",
       "372361 2017-06-06  MAC Field Scanner Season 4 Range 44 Column 13     44   \n",
       "372362 2017-06-06  MAC Field Scanner Season 4 Range 44 Column 13     44   \n",
       "\n",
       "        column        lat         lon  cultivar             trait     value  \n",
       "372358       9  33.076093 -111.974917  PI329286   leaf_angle_beta  2.052416  \n",
       "372359       9  33.076093 -111.974917  PI329286    leaf_angle_chi  2.140986  \n",
       "372360      13  33.076093 -111.974852  PI329843   leaf_angle_mean  0.401801  \n",
       "372361      13  33.076093 -111.974852  PI329843  leaf_angle_alpha  3.217374  \n",
       "372362      13  33.076093 -111.974852  PI329843   leaf_angle_beta  1.980157  "
      ]
     },
     "execution_count": 21,
     "metadata": {},
     "output_type": "execute_result"
    }
   ],
   "source": [
    "df_4 = df_3.rename({'date_1': 'date', 'sitename_1': 'sitename', 'mean': 'value'}, axis=1)\n",
    "# df_4.tail()"
   ]
  },
  {
   "cell_type": "code",
   "execution_count": 22,
   "metadata": {},
   "outputs": [
    {
     "name": "stdout",
     "output_type": "stream",
     "text": [
      "(372363, 9)\n",
      "(372363, 9)\n"
     ]
    }
   ],
   "source": [
    "df_5 = df_4.sort_values(by=['date'], ascending=True)\n",
    "print(df_5.shape)\n",
    "print(df_4.shape)\n",
    "# df_5.head()"
   ]
  },
  {
   "cell_type": "markdown",
   "metadata": {},
   "source": [
    "### III. Drop traits not needed at this time\n",
    "* dropping `canopy_height` because of the E W subplots - dealing with those values separately"
   ]
  },
  {
   "cell_type": "code",
   "execution_count": null,
   "metadata": {},
   "outputs": [],
   "source": [
    "# df_5.trait.unique()"
   ]
  },
  {
   "cell_type": "code",
   "execution_count": 23,
   "metadata": {},
   "outputs": [],
   "source": [
    "traits_to_keep = ['flowering_time', 'flag_leaf_emergence_time', 'light_intensity_PAR', 'aboveground_dry_biomass']"
   ]
  },
  {
   "cell_type": "code",
   "execution_count": 24,
   "metadata": {},
   "outputs": [
    {
     "data": {
      "text/plain": [
       "(2338, 9)"
      ]
     },
     "execution_count": 24,
     "metadata": {},
     "output_type": "execute_result"
    }
   ],
   "source": [
    "df_6 = df_5.loc[df_5.trait.isin(traits_to_keep)]\n",
    "df_6.shape"
   ]
  },
  {
   "cell_type": "code",
   "execution_count": 25,
   "metadata": {},
   "outputs": [
    {
     "data": {
      "text/plain": [
       "date        0\n",
       "sitename    0\n",
       "range       0\n",
       "column      0\n",
       "lat         0\n",
       "lon         0\n",
       "cultivar    0\n",
       "trait       0\n",
       "value       0\n",
       "dtype: int64"
      ]
     },
     "execution_count": 25,
     "metadata": {},
     "output_type": "execute_result"
    }
   ],
   "source": [
    "df_6.isnull().sum()"
   ]
  },
  {
   "cell_type": "code",
   "execution_count": 3,
   "metadata": {},
   "outputs": [],
   "source": [
    "# df_6.head()"
   ]
  },
  {
   "cell_type": "code",
   "execution_count": 27,
   "metadata": {},
   "outputs": [
    {
     "data": {
      "text/html": [
       "<div>\n",
       "<style scoped>\n",
       "    .dataframe tbody tr th:only-of-type {\n",
       "        vertical-align: middle;\n",
       "    }\n",
       "\n",
       "    .dataframe tbody tr th {\n",
       "        vertical-align: top;\n",
       "    }\n",
       "\n",
       "    .dataframe thead th {\n",
       "        text-align: right;\n",
       "    }\n",
       "</style>\n",
       "<table border=\"1\" class=\"dataframe\">\n",
       "  <thead>\n",
       "    <tr style=\"text-align: right;\">\n",
       "      <th></th>\n",
       "      <th>sitename</th>\n",
       "      <th>range</th>\n",
       "      <th>column</th>\n",
       "      <th>lat</th>\n",
       "      <th>lon</th>\n",
       "      <th>cultivar</th>\n",
       "      <th>trait</th>\n",
       "      <th>value</th>\n",
       "    </tr>\n",
       "    <tr>\n",
       "      <th>date</th>\n",
       "      <th></th>\n",
       "      <th></th>\n",
       "      <th></th>\n",
       "      <th></th>\n",
       "      <th></th>\n",
       "      <th></th>\n",
       "      <th></th>\n",
       "      <th></th>\n",
       "    </tr>\n",
       "  </thead>\n",
       "  <tbody>\n",
       "    <tr>\n",
       "      <th>2017-07-20</th>\n",
       "      <td>MAC Field Scanner Season 4 Range 20 Column 11</td>\n",
       "      <td>20</td>\n",
       "      <td>11</td>\n",
       "      <td>33.075231</td>\n",
       "      <td>-111.974884</td>\n",
       "      <td>PI527045</td>\n",
       "      <td>flowering_time</td>\n",
       "      <td>56.0</td>\n",
       "    </tr>\n",
       "    <tr>\n",
       "      <th>2017-07-20</th>\n",
       "      <td>MAC Field Scanner Season 4 Range 16 Column 7</td>\n",
       "      <td>16</td>\n",
       "      <td>7</td>\n",
       "      <td>33.075087</td>\n",
       "      <td>-111.974950</td>\n",
       "      <td>PI152651</td>\n",
       "      <td>flag_leaf_emergence_time</td>\n",
       "      <td>41.0</td>\n",
       "    </tr>\n",
       "    <tr>\n",
       "      <th>2017-07-20</th>\n",
       "      <td>MAC Field Scanner Season 4 Range 20 Column 9</td>\n",
       "      <td>20</td>\n",
       "      <td>9</td>\n",
       "      <td>33.075231</td>\n",
       "      <td>-111.974917</td>\n",
       "      <td>PI535792</td>\n",
       "      <td>flowering_time</td>\n",
       "      <td>74.0</td>\n",
       "    </tr>\n",
       "    <tr>\n",
       "      <th>2017-07-20</th>\n",
       "      <td>MAC Field Scanner Season 4 Range 20 Column 9</td>\n",
       "      <td>20</td>\n",
       "      <td>9</td>\n",
       "      <td>33.075231</td>\n",
       "      <td>-111.974917</td>\n",
       "      <td>PI535792</td>\n",
       "      <td>flag_leaf_emergence_time</td>\n",
       "      <td>70.0</td>\n",
       "    </tr>\n",
       "    <tr>\n",
       "      <th>2017-07-20</th>\n",
       "      <td>MAC Field Scanner Season 4 Range 20 Column 3</td>\n",
       "      <td>20</td>\n",
       "      <td>3</td>\n",
       "      <td>33.075231</td>\n",
       "      <td>-111.975015</td>\n",
       "      <td>PI656026</td>\n",
       "      <td>flowering_time</td>\n",
       "      <td>65.0</td>\n",
       "    </tr>\n",
       "  </tbody>\n",
       "</table>\n",
       "</div>"
      ],
      "text/plain": [
       "                                                 sitename  range  column  \\\n",
       "date                                                                       \n",
       "2017-07-20  MAC Field Scanner Season 4 Range 20 Column 11     20      11   \n",
       "2017-07-20   MAC Field Scanner Season 4 Range 16 Column 7     16       7   \n",
       "2017-07-20   MAC Field Scanner Season 4 Range 20 Column 9     20       9   \n",
       "2017-07-20   MAC Field Scanner Season 4 Range 20 Column 9     20       9   \n",
       "2017-07-20   MAC Field Scanner Season 4 Range 20 Column 3     20       3   \n",
       "\n",
       "                  lat         lon  cultivar                     trait  value  \n",
       "date                                                                          \n",
       "2017-07-20  33.075231 -111.974884  PI527045            flowering_time   56.0  \n",
       "2017-07-20  33.075087 -111.974950  PI152651  flag_leaf_emergence_time   41.0  \n",
       "2017-07-20  33.075231 -111.974917  PI535792            flowering_time   74.0  \n",
       "2017-07-20  33.075231 -111.974917  PI535792  flag_leaf_emergence_time   70.0  \n",
       "2017-07-20  33.075231 -111.975015  PI656026            flowering_time   65.0  "
      ]
     },
     "execution_count": 27,
     "metadata": {},
     "output_type": "execute_result"
    }
   ],
   "source": [
    "df_7 = df_6.set_index('date')\n",
    "# df_7.head()"
   ]
  },
  {
   "cell_type": "code",
   "execution_count": null,
   "metadata": {},
   "outputs": [],
   "source": []
  },
  {
   "cell_type": "markdown",
   "metadata": {},
   "source": [
    "#### Final Steps\n",
    "* Create `.csv`"
   ]
  },
  {
   "cell_type": "code",
   "execution_count": 28,
   "metadata": {},
   "outputs": [],
   "source": [
    "need_to_create_csv = False\n",
    "\n",
    "if need_to_create_csv:\n",
    "\n",
    "    timestamp = datetime.datetime.now().replace(microsecond=0).isoformat()\n",
    "    output_filename = f'tall_format_traits_season_4_{timestamp}.csv'.replace(':', '')\n",
    "    df_7.to_csv(f'data/processed/{output_filename}')"
   ]
  }
 ],
 "metadata": {
  "kernelspec": {
   "display_name": "Python 3",
   "language": "python",
   "name": "python3"
  },
  "language_info": {
   "codemirror_mode": {
    "name": "ipython",
    "version": 3
   },
   "file_extension": ".py",
   "mimetype": "text/x-python",
   "name": "python",
   "nbconvert_exporter": "python",
   "pygments_lexer": "ipython3",
   "version": "3.6.8"
  }
 },
 "nbformat": 4,
 "nbformat_minor": 2
}
