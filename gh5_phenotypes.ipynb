{
 "cells": [
  {
   "cell_type": "markdown",
   "metadata": {},
   "source": [
    "## Query betydb for phenotypes dataset\n",
    "* Season 4 & Season 6\n",
    "* Wide format: one row per plot\n",
    "* Days to Emergence\n",
    "* Days to Flowering\n",
    "* Aboveground dry biomass"
   ]
  },
  {
   "cell_type": "code",
   "execution_count": 12,
   "metadata": {},
   "outputs": [],
   "source": [
    "import pandas as pd\n",
    "import numpy as np\n",
    "\n",
    "from platform import python_version\n",
    "\n",
    "# print(python_version())"
   ]
  },
  {
   "cell_type": "code",
   "execution_count": 2,
   "metadata": {},
   "outputs": [
    {
     "name": "stderr",
     "output_type": "stream",
     "text": [
      "/anaconda3/lib/python3.6/site-packages/IPython/core/interactiveshell.py:3020: DtypeWarning: Columns (18,32,35) have mixed types. Specify dtype option on import or set low_memory=False.\n",
      "  interactivity=interactivity, compiler=compiler, result=result)\n"
     ]
    },
    {
     "data": {
      "text/html": [
       "<div>\n",
       "<style scoped>\n",
       "    .dataframe tbody tr th:only-of-type {\n",
       "        vertical-align: middle;\n",
       "    }\n",
       "\n",
       "    .dataframe tbody tr th {\n",
       "        vertical-align: top;\n",
       "    }\n",
       "\n",
       "    .dataframe thead th {\n",
       "        text-align: right;\n",
       "    }\n",
       "</style>\n",
       "<table border=\"1\" class=\"dataframe\">\n",
       "  <thead>\n",
       "    <tr style=\"text-align: right;\">\n",
       "      <th></th>\n",
       "      <th>Unnamed: 0</th>\n",
       "      <th>checked</th>\n",
       "      <th>result_type</th>\n",
       "      <th>id</th>\n",
       "      <th>citation_id</th>\n",
       "      <th>site_id</th>\n",
       "      <th>treatment_id</th>\n",
       "      <th>sitename</th>\n",
       "      <th>city</th>\n",
       "      <th>lat</th>\n",
       "      <th>...</th>\n",
       "      <th>n</th>\n",
       "      <th>statname</th>\n",
       "      <th>stat</th>\n",
       "      <th>notes</th>\n",
       "      <th>access_level</th>\n",
       "      <th>cultivar</th>\n",
       "      <th>entity</th>\n",
       "      <th>method_name</th>\n",
       "      <th>view_url</th>\n",
       "      <th>edit_url</th>\n",
       "    </tr>\n",
       "  </thead>\n",
       "  <tbody>\n",
       "    <tr>\n",
       "      <th>0</th>\n",
       "      <td>1</td>\n",
       "      <td>0</td>\n",
       "      <td>traits</td>\n",
       "      <td>6001970065</td>\n",
       "      <td>6.000000e+09</td>\n",
       "      <td>6000008410</td>\n",
       "      <td>6.000000e+09</td>\n",
       "      <td>MAC Field Scanner Season 4 Range 46 Column 14 E</td>\n",
       "      <td>Maricopa</td>\n",
       "      <td>33.076165</td>\n",
       "      <td>...</td>\n",
       "      <td>NaN</td>\n",
       "      <td>NaN</td>\n",
       "      <td>NaN</td>\n",
       "      <td>NaN</td>\n",
       "      <td>2</td>\n",
       "      <td>PI564163</td>\n",
       "      <td>NaN</td>\n",
       "      <td>temperature of sunlit leaf with [instrument name]</td>\n",
       "      <td>https://terraref.ncsa.illinois.edu/bety/traits...</td>\n",
       "      <td>https://terraref.ncsa.illinois.edu/bety/traits...</td>\n",
       "    </tr>\n",
       "    <tr>\n",
       "      <th>1</th>\n",
       "      <td>2</td>\n",
       "      <td>0</td>\n",
       "      <td>traits</td>\n",
       "      <td>6001970066</td>\n",
       "      <td>6.000000e+09</td>\n",
       "      <td>6000008410</td>\n",
       "      <td>6.000000e+09</td>\n",
       "      <td>MAC Field Scanner Season 4 Range 46 Column 14 E</td>\n",
       "      <td>Maricopa</td>\n",
       "      <td>33.076165</td>\n",
       "      <td>...</td>\n",
       "      <td>NaN</td>\n",
       "      <td>NaN</td>\n",
       "      <td>NaN</td>\n",
       "      <td>NaN</td>\n",
       "      <td>2</td>\n",
       "      <td>PI564163</td>\n",
       "      <td>NaN</td>\n",
       "      <td>temperature of sunlit leaf with [instrument name]</td>\n",
       "      <td>https://terraref.ncsa.illinois.edu/bety/traits...</td>\n",
       "      <td>https://terraref.ncsa.illinois.edu/bety/traits...</td>\n",
       "    </tr>\n",
       "    <tr>\n",
       "      <th>2</th>\n",
       "      <td>3</td>\n",
       "      <td>0</td>\n",
       "      <td>traits</td>\n",
       "      <td>6001970097</td>\n",
       "      <td>6.000000e+09</td>\n",
       "      <td>6000007597</td>\n",
       "      <td>6.000000e+09</td>\n",
       "      <td>MAC Field Scanner Season 4 Range 21 Column 8 W</td>\n",
       "      <td>Maricopa</td>\n",
       "      <td>33.075266</td>\n",
       "      <td>...</td>\n",
       "      <td>NaN</td>\n",
       "      <td>NaN</td>\n",
       "      <td>NaN</td>\n",
       "      <td>NaN</td>\n",
       "      <td>2</td>\n",
       "      <td>PI505722</td>\n",
       "      <td>NaN</td>\n",
       "      <td>temperature of sunlit leaf with [instrument name]</td>\n",
       "      <td>https://terraref.ncsa.illinois.edu/bety/traits...</td>\n",
       "      <td>https://terraref.ncsa.illinois.edu/bety/traits...</td>\n",
       "    </tr>\n",
       "    <tr>\n",
       "      <th>3</th>\n",
       "      <td>4</td>\n",
       "      <td>0</td>\n",
       "      <td>traits</td>\n",
       "      <td>6001970098</td>\n",
       "      <td>6.000000e+09</td>\n",
       "      <td>6000007597</td>\n",
       "      <td>6.000000e+09</td>\n",
       "      <td>MAC Field Scanner Season 4 Range 21 Column 8 W</td>\n",
       "      <td>Maricopa</td>\n",
       "      <td>33.075266</td>\n",
       "      <td>...</td>\n",
       "      <td>NaN</td>\n",
       "      <td>NaN</td>\n",
       "      <td>NaN</td>\n",
       "      <td>NaN</td>\n",
       "      <td>2</td>\n",
       "      <td>PI505722</td>\n",
       "      <td>NaN</td>\n",
       "      <td>temperature of sunlit leaf with [instrument name]</td>\n",
       "      <td>https://terraref.ncsa.illinois.edu/bety/traits...</td>\n",
       "      <td>https://terraref.ncsa.illinois.edu/bety/traits...</td>\n",
       "    </tr>\n",
       "    <tr>\n",
       "      <th>4</th>\n",
       "      <td>5</td>\n",
       "      <td>0</td>\n",
       "      <td>traits</td>\n",
       "      <td>6001970099</td>\n",
       "      <td>6.000000e+09</td>\n",
       "      <td>6000007597</td>\n",
       "      <td>6.000000e+09</td>\n",
       "      <td>MAC Field Scanner Season 4 Range 21 Column 8 W</td>\n",
       "      <td>Maricopa</td>\n",
       "      <td>33.075266</td>\n",
       "      <td>...</td>\n",
       "      <td>NaN</td>\n",
       "      <td>NaN</td>\n",
       "      <td>NaN</td>\n",
       "      <td>NaN</td>\n",
       "      <td>2</td>\n",
       "      <td>PI505722</td>\n",
       "      <td>NaN</td>\n",
       "      <td>temperature of sunlit leaf with [instrument name]</td>\n",
       "      <td>https://terraref.ncsa.illinois.edu/bety/traits...</td>\n",
       "      <td>https://terraref.ncsa.illinois.edu/bety/traits...</td>\n",
       "    </tr>\n",
       "  </tbody>\n",
       "</table>\n",
       "<p>5 rows × 39 columns</p>\n",
       "</div>"
      ],
      "text/plain": [
       "   Unnamed: 0  checked result_type          id   citation_id     site_id  \\\n",
       "0           1        0      traits  6001970065  6.000000e+09  6000008410   \n",
       "1           2        0      traits  6001970066  6.000000e+09  6000008410   \n",
       "2           3        0      traits  6001970097  6.000000e+09  6000007597   \n",
       "3           4        0      traits  6001970098  6.000000e+09  6000007597   \n",
       "4           5        0      traits  6001970099  6.000000e+09  6000007597   \n",
       "\n",
       "   treatment_id                                         sitename      city  \\\n",
       "0  6.000000e+09  MAC Field Scanner Season 4 Range 46 Column 14 E  Maricopa   \n",
       "1  6.000000e+09  MAC Field Scanner Season 4 Range 46 Column 14 E  Maricopa   \n",
       "2  6.000000e+09   MAC Field Scanner Season 4 Range 21 Column 8 W  Maricopa   \n",
       "3  6.000000e+09   MAC Field Scanner Season 4 Range 21 Column 8 W  Maricopa   \n",
       "4  6.000000e+09   MAC Field Scanner Season 4 Range 21 Column 8 W  Maricopa   \n",
       "\n",
       "         lat  ...   n statname stat notes  access_level  cultivar entity  \\\n",
       "0  33.076165  ... NaN      NaN  NaN   NaN             2  PI564163    NaN   \n",
       "1  33.076165  ... NaN      NaN  NaN   NaN             2  PI564163    NaN   \n",
       "2  33.075266  ... NaN      NaN  NaN   NaN             2  PI505722    NaN   \n",
       "3  33.075266  ... NaN      NaN  NaN   NaN             2  PI505722    NaN   \n",
       "4  33.075266  ... NaN      NaN  NaN   NaN             2  PI505722    NaN   \n",
       "\n",
       "                                         method_name  \\\n",
       "0  temperature of sunlit leaf with [instrument name]   \n",
       "1  temperature of sunlit leaf with [instrument name]   \n",
       "2  temperature of sunlit leaf with [instrument name]   \n",
       "3  temperature of sunlit leaf with [instrument name]   \n",
       "4  temperature of sunlit leaf with [instrument name]   \n",
       "\n",
       "                                            view_url  \\\n",
       "0  https://terraref.ncsa.illinois.edu/bety/traits...   \n",
       "1  https://terraref.ncsa.illinois.edu/bety/traits...   \n",
       "2  https://terraref.ncsa.illinois.edu/bety/traits...   \n",
       "3  https://terraref.ncsa.illinois.edu/bety/traits...   \n",
       "4  https://terraref.ncsa.illinois.edu/bety/traits...   \n",
       "\n",
       "                                            edit_url  \n",
       "0  https://terraref.ncsa.illinois.edu/bety/traits...  \n",
       "1  https://terraref.ncsa.illinois.edu/bety/traits...  \n",
       "2  https://terraref.ncsa.illinois.edu/bety/traits...  \n",
       "3  https://terraref.ncsa.illinois.edu/bety/traits...  \n",
       "4  https://terraref.ncsa.illinois.edu/bety/traits...  \n",
       "\n",
       "[5 rows x 39 columns]"
      ]
     },
     "execution_count": 2,
     "metadata": {},
     "output_type": "execute_result"
    }
   ],
   "source": [
    "# MAC Season 4 \n",
    "\n",
    "mac_season_4_df = pd.read_csv('mac_season_4.csv')\n",
    "mac_season_4_df.head()"
   ]
  },
  {
   "cell_type": "code",
   "execution_count": 3,
   "metadata": {},
   "outputs": [
    {
     "name": "stderr",
     "output_type": "stream",
     "text": [
      "/anaconda3/lib/python3.6/site-packages/IPython/core/interactiveshell.py:3020: DtypeWarning: Columns (18,32,35) have mixed types. Specify dtype option on import or set low_memory=False.\n",
      "  interactivity=interactivity, compiler=compiler, result=result)\n"
     ]
    },
    {
     "data": {
      "text/html": [
       "<div>\n",
       "<style scoped>\n",
       "    .dataframe tbody tr th:only-of-type {\n",
       "        vertical-align: middle;\n",
       "    }\n",
       "\n",
       "    .dataframe tbody tr th {\n",
       "        vertical-align: top;\n",
       "    }\n",
       "\n",
       "    .dataframe thead th {\n",
       "        text-align: right;\n",
       "    }\n",
       "</style>\n",
       "<table border=\"1\" class=\"dataframe\">\n",
       "  <thead>\n",
       "    <tr style=\"text-align: right;\">\n",
       "      <th></th>\n",
       "      <th>Unnamed: 0</th>\n",
       "      <th>checked</th>\n",
       "      <th>result_type</th>\n",
       "      <th>id</th>\n",
       "      <th>citation_id</th>\n",
       "      <th>site_id</th>\n",
       "      <th>treatment_id</th>\n",
       "      <th>sitename</th>\n",
       "      <th>city</th>\n",
       "      <th>lat</th>\n",
       "      <th>...</th>\n",
       "      <th>n</th>\n",
       "      <th>statname</th>\n",
       "      <th>stat</th>\n",
       "      <th>notes</th>\n",
       "      <th>access_level</th>\n",
       "      <th>cultivar</th>\n",
       "      <th>entity</th>\n",
       "      <th>method_name</th>\n",
       "      <th>view_url</th>\n",
       "      <th>edit_url</th>\n",
       "    </tr>\n",
       "  </thead>\n",
       "  <tbody>\n",
       "    <tr>\n",
       "      <th>0</th>\n",
       "      <td>1</td>\n",
       "      <td>0</td>\n",
       "      <td>traits</td>\n",
       "      <td>6001970065</td>\n",
       "      <td>6.000000e+09</td>\n",
       "      <td>6000008410</td>\n",
       "      <td>6.000000e+09</td>\n",
       "      <td>MAC Field Scanner Season 4 Range 46 Column 14 E</td>\n",
       "      <td>Maricopa</td>\n",
       "      <td>33.076165</td>\n",
       "      <td>...</td>\n",
       "      <td>NaN</td>\n",
       "      <td>NaN</td>\n",
       "      <td>NaN</td>\n",
       "      <td>NaN</td>\n",
       "      <td>2</td>\n",
       "      <td>PI564163</td>\n",
       "      <td>NaN</td>\n",
       "      <td>temperature of sunlit leaf with [instrument name]</td>\n",
       "      <td>https://terraref.ncsa.illinois.edu/bety/traits...</td>\n",
       "      <td>https://terraref.ncsa.illinois.edu/bety/traits...</td>\n",
       "    </tr>\n",
       "    <tr>\n",
       "      <th>1</th>\n",
       "      <td>2</td>\n",
       "      <td>0</td>\n",
       "      <td>traits</td>\n",
       "      <td>6001970066</td>\n",
       "      <td>6.000000e+09</td>\n",
       "      <td>6000008410</td>\n",
       "      <td>6.000000e+09</td>\n",
       "      <td>MAC Field Scanner Season 4 Range 46 Column 14 E</td>\n",
       "      <td>Maricopa</td>\n",
       "      <td>33.076165</td>\n",
       "      <td>...</td>\n",
       "      <td>NaN</td>\n",
       "      <td>NaN</td>\n",
       "      <td>NaN</td>\n",
       "      <td>NaN</td>\n",
       "      <td>2</td>\n",
       "      <td>PI564163</td>\n",
       "      <td>NaN</td>\n",
       "      <td>temperature of sunlit leaf with [instrument name]</td>\n",
       "      <td>https://terraref.ncsa.illinois.edu/bety/traits...</td>\n",
       "      <td>https://terraref.ncsa.illinois.edu/bety/traits...</td>\n",
       "    </tr>\n",
       "    <tr>\n",
       "      <th>2</th>\n",
       "      <td>3</td>\n",
       "      <td>0</td>\n",
       "      <td>traits</td>\n",
       "      <td>6001970097</td>\n",
       "      <td>6.000000e+09</td>\n",
       "      <td>6000007597</td>\n",
       "      <td>6.000000e+09</td>\n",
       "      <td>MAC Field Scanner Season 4 Range 21 Column 8 W</td>\n",
       "      <td>Maricopa</td>\n",
       "      <td>33.075266</td>\n",
       "      <td>...</td>\n",
       "      <td>NaN</td>\n",
       "      <td>NaN</td>\n",
       "      <td>NaN</td>\n",
       "      <td>NaN</td>\n",
       "      <td>2</td>\n",
       "      <td>PI505722</td>\n",
       "      <td>NaN</td>\n",
       "      <td>temperature of sunlit leaf with [instrument name]</td>\n",
       "      <td>https://terraref.ncsa.illinois.edu/bety/traits...</td>\n",
       "      <td>https://terraref.ncsa.illinois.edu/bety/traits...</td>\n",
       "    </tr>\n",
       "    <tr>\n",
       "      <th>3</th>\n",
       "      <td>4</td>\n",
       "      <td>0</td>\n",
       "      <td>traits</td>\n",
       "      <td>6001970098</td>\n",
       "      <td>6.000000e+09</td>\n",
       "      <td>6000007597</td>\n",
       "      <td>6.000000e+09</td>\n",
       "      <td>MAC Field Scanner Season 4 Range 21 Column 8 W</td>\n",
       "      <td>Maricopa</td>\n",
       "      <td>33.075266</td>\n",
       "      <td>...</td>\n",
       "      <td>NaN</td>\n",
       "      <td>NaN</td>\n",
       "      <td>NaN</td>\n",
       "      <td>NaN</td>\n",
       "      <td>2</td>\n",
       "      <td>PI505722</td>\n",
       "      <td>NaN</td>\n",
       "      <td>temperature of sunlit leaf with [instrument name]</td>\n",
       "      <td>https://terraref.ncsa.illinois.edu/bety/traits...</td>\n",
       "      <td>https://terraref.ncsa.illinois.edu/bety/traits...</td>\n",
       "    </tr>\n",
       "    <tr>\n",
       "      <th>4</th>\n",
       "      <td>5</td>\n",
       "      <td>0</td>\n",
       "      <td>traits</td>\n",
       "      <td>6001970099</td>\n",
       "      <td>6.000000e+09</td>\n",
       "      <td>6000007597</td>\n",
       "      <td>6.000000e+09</td>\n",
       "      <td>MAC Field Scanner Season 4 Range 21 Column 8 W</td>\n",
       "      <td>Maricopa</td>\n",
       "      <td>33.075266</td>\n",
       "      <td>...</td>\n",
       "      <td>NaN</td>\n",
       "      <td>NaN</td>\n",
       "      <td>NaN</td>\n",
       "      <td>NaN</td>\n",
       "      <td>2</td>\n",
       "      <td>PI505722</td>\n",
       "      <td>NaN</td>\n",
       "      <td>temperature of sunlit leaf with [instrument name]</td>\n",
       "      <td>https://terraref.ncsa.illinois.edu/bety/traits...</td>\n",
       "      <td>https://terraref.ncsa.illinois.edu/bety/traits...</td>\n",
       "    </tr>\n",
       "  </tbody>\n",
       "</table>\n",
       "<p>5 rows × 39 columns</p>\n",
       "</div>"
      ],
      "text/plain": [
       "   Unnamed: 0  checked result_type          id   citation_id     site_id  \\\n",
       "0           1        0      traits  6001970065  6.000000e+09  6000008410   \n",
       "1           2        0      traits  6001970066  6.000000e+09  6000008410   \n",
       "2           3        0      traits  6001970097  6.000000e+09  6000007597   \n",
       "3           4        0      traits  6001970098  6.000000e+09  6000007597   \n",
       "4           5        0      traits  6001970099  6.000000e+09  6000007597   \n",
       "\n",
       "   treatment_id                                         sitename      city  \\\n",
       "0  6.000000e+09  MAC Field Scanner Season 4 Range 46 Column 14 E  Maricopa   \n",
       "1  6.000000e+09  MAC Field Scanner Season 4 Range 46 Column 14 E  Maricopa   \n",
       "2  6.000000e+09   MAC Field Scanner Season 4 Range 21 Column 8 W  Maricopa   \n",
       "3  6.000000e+09   MAC Field Scanner Season 4 Range 21 Column 8 W  Maricopa   \n",
       "4  6.000000e+09   MAC Field Scanner Season 4 Range 21 Column 8 W  Maricopa   \n",
       "\n",
       "         lat  ...   n statname stat notes  access_level  cultivar entity  \\\n",
       "0  33.076165  ... NaN      NaN  NaN   NaN             2  PI564163    NaN   \n",
       "1  33.076165  ... NaN      NaN  NaN   NaN             2  PI564163    NaN   \n",
       "2  33.075266  ... NaN      NaN  NaN   NaN             2  PI505722    NaN   \n",
       "3  33.075266  ... NaN      NaN  NaN   NaN             2  PI505722    NaN   \n",
       "4  33.075266  ... NaN      NaN  NaN   NaN             2  PI505722    NaN   \n",
       "\n",
       "                                         method_name  \\\n",
       "0  temperature of sunlit leaf with [instrument name]   \n",
       "1  temperature of sunlit leaf with [instrument name]   \n",
       "2  temperature of sunlit leaf with [instrument name]   \n",
       "3  temperature of sunlit leaf with [instrument name]   \n",
       "4  temperature of sunlit leaf with [instrument name]   \n",
       "\n",
       "                                            view_url  \\\n",
       "0  https://terraref.ncsa.illinois.edu/bety/traits...   \n",
       "1  https://terraref.ncsa.illinois.edu/bety/traits...   \n",
       "2  https://terraref.ncsa.illinois.edu/bety/traits...   \n",
       "3  https://terraref.ncsa.illinois.edu/bety/traits...   \n",
       "4  https://terraref.ncsa.illinois.edu/bety/traits...   \n",
       "\n",
       "                                            edit_url  \n",
       "0  https://terraref.ncsa.illinois.edu/bety/traits...  \n",
       "1  https://terraref.ncsa.illinois.edu/bety/traits...  \n",
       "2  https://terraref.ncsa.illinois.edu/bety/traits...  \n",
       "3  https://terraref.ncsa.illinois.edu/bety/traits...  \n",
       "4  https://terraref.ncsa.illinois.edu/bety/traits...  \n",
       "\n",
       "[5 rows x 39 columns]"
      ]
     },
     "execution_count": 3,
     "metadata": {},
     "output_type": "execute_result"
    }
   ],
   "source": [
    "# try specifying dtype to eliminate DtypeWarning\n",
    "\n",
    "df2 = pd.read_csv('mac_season_4.csv', sep=',', dtype={'a': str})\n",
    "df2.head()"
   ]
  },
  {
   "cell_type": "code",
   "execution_count": 4,
   "metadata": {},
   "outputs": [
    {
     "data": {
      "text/plain": [
       "(372363, 39)"
      ]
     },
     "execution_count": 4,
     "metadata": {},
     "output_type": "execute_result"
    }
   ],
   "source": [
    "# confirm same shape from R\n",
    "\n",
    "df2.shape"
   ]
  },
  {
   "cell_type": "code",
   "execution_count": 5,
   "metadata": {},
   "outputs": [
    {
     "data": {
      "text/plain": [
       "Index(['Unnamed: 0', 'checked', 'result_type', 'id', 'citation_id', 'site_id',\n",
       "       'treatment_id', 'sitename', 'city', 'lat', 'lon', 'scientificname',\n",
       "       'commonname', 'genus', 'species_id', 'cultivar_id', 'author',\n",
       "       'citation_year', 'treatment', 'date', 'time', 'raw_date', 'month',\n",
       "       'year', 'dateloc', 'trait', 'trait_description', 'mean', 'units', 'n',\n",
       "       'statname', 'stat', 'notes', 'access_level', 'cultivar', 'entity',\n",
       "       'method_name', 'view_url', 'edit_url'],\n",
       "      dtype='object')"
      ]
     },
     "execution_count": 5,
     "metadata": {},
     "output_type": "execute_result"
    }
   ],
   "source": [
    "df2.columns"
   ]
  },
  {
   "cell_type": "code",
   "execution_count": 8,
   "metadata": {},
   "outputs": [
    {
     "name": "stdout",
     "output_type": "stream",
     "text": [
      "treatment notes entity\n"
     ]
    }
   ],
   "source": [
    "# mixed dtypes in columns 18, 32, 35\n",
    "\n",
    "print(df2.columns[18], df2.columns[32], df2.columns[35])"
   ]
  },
  {
   "cell_type": "code",
   "execution_count": 14,
   "metadata": {},
   "outputs": [
    {
     "data": {
      "text/plain": [
       "0    BAP 2017, water-deficit stress Aug 1-14\n",
       "1    BAP 2017, water-deficit stress Aug 1-14\n",
       "2    BAP 2017, water-deficit stress Aug 1-14\n",
       "3    BAP 2017, water-deficit stress Aug 1-14\n",
       "4    BAP 2017, water-deficit stress Aug 1-14\n",
       "Name: treatment, dtype: object"
      ]
     },
     "execution_count": 14,
     "metadata": {},
     "output_type": "execute_result"
    }
   ],
   "source": [
    "df2['treatment'].head()"
   ]
  },
  {
   "cell_type": "code",
   "execution_count": 15,
   "metadata": {},
   "outputs": [
    {
     "data": {
      "text/plain": [
       "0    NaN\n",
       "1    NaN\n",
       "2    NaN\n",
       "3    NaN\n",
       "4    NaN\n",
       "Name: notes, dtype: object"
      ]
     },
     "execution_count": 15,
     "metadata": {},
     "output_type": "execute_result"
    }
   ],
   "source": [
    "df2['notes'].head()"
   ]
  },
  {
   "cell_type": "code",
   "execution_count": 16,
   "metadata": {},
   "outputs": [
    {
     "data": {
      "text/plain": [
       "0    NaN\n",
       "1    NaN\n",
       "2    NaN\n",
       "3    NaN\n",
       "4    NaN\n",
       "Name: entity, dtype: object"
      ]
     },
     "execution_count": 16,
     "metadata": {},
     "output_type": "execute_result"
    }
   ],
   "source": [
    "df2['entity'].head()"
   ]
  },
  {
   "cell_type": "code",
   "execution_count": 17,
   "metadata": {},
   "outputs": [
    {
     "data": {
      "text/plain": [
       "array(['traits'], dtype=object)"
      ]
     },
     "execution_count": 17,
     "metadata": {},
     "output_type": "execute_result"
    }
   ],
   "source": [
    "df2.result_type.unique()"
   ]
  },
  {
   "cell_type": "code",
   "execution_count": 19,
   "metadata": {},
   "outputs": [
    {
     "data": {
      "text/plain": [
       "Unnamed: 0                                                           6\n",
       "checked                                                              0\n",
       "result_type                                                     traits\n",
       "id                                                          6001970112\n",
       "citation_id                                                      6e+09\n",
       "site_id                                                     6000008410\n",
       "treatment_id                                                     6e+09\n",
       "sitename               MAC Field Scanner Season 4 Range 46 Column 14 E\n",
       "city                                                          Maricopa\n",
       "lat                                                            33.0762\n",
       "lon                                                           -111.975\n",
       "scientificname                                         Sorghum bicolor\n",
       "commonname                                                     sorghum\n",
       "genus                                                          Sorghum\n",
       "species_id                                                        2588\n",
       "cultivar_id                                                 6000000231\n",
       "author                                                  Newcomb, Maria\n",
       "citation_year                                                     2017\n",
       "treatment                      BAP 2017, water-deficit stress Aug 1-14\n",
       "date                                                       2017 Jun 26\n",
       "time                                        12:45:00 (America/Phoenix)\n",
       "raw_date                                     2017-06-26 14:45:00 -0500\n",
       "month                                                                6\n",
       "year                                                              2017\n",
       "dateloc                                                              5\n",
       "trait                                                 leaf_temperature\n",
       "trait_description          temperature of the surface of a sunlit leaf\n",
       "mean                                                            307.65\n",
       "units                                                                K\n",
       "n                                                                  NaN\n",
       "statname                                                           NaN\n",
       "stat                                                               NaN\n",
       "notes                                                              NaN\n",
       "access_level                                                         2\n",
       "cultivar                                                      PI564163\n",
       "entity                                                             NaN\n",
       "method_name          temperature of sunlit leaf with [instrument name]\n",
       "view_url             https://terraref.ncsa.illinois.edu/bety/traits...\n",
       "edit_url             https://terraref.ncsa.illinois.edu/bety/traits...\n",
       "Name: 5, dtype: object"
      ]
     },
     "execution_count": 19,
     "metadata": {},
     "output_type": "execute_result"
    }
   ],
   "source": [
    "df2.iloc[5]"
   ]
  },
  {
   "cell_type": "code",
   "execution_count": 20,
   "metadata": {},
   "outputs": [
    {
     "data": {
      "text/plain": [
       "array(['leaf_temperature', 'planter_seed_drop', 'aboveground_dry_biomass',\n",
       "       'seedling_emergence_rate', 'panicle_height', 'stand_count',\n",
       "       'dry_matter_fraction', 'harvest_lodging_rating', 'flowering_time',\n",
       "       'stalk_diameter_fixed_height', 'stalk_diameter_minor_axis',\n",
       "       'stalk_diameter_major_axis', 'grain_stage_time',\n",
       "       'stem_elongated_internodes_number', 'leaf_width', 'canopy_cover',\n",
       "       'lodging_present', 'surface_temperature', 'emergence_count',\n",
       "       'flag_leaf_emergence_time', 'leaf_stomatal_conductance',\n",
       "       'absorbance_650', 'absorbance_850', 'roll', 'PhiNO', 'PhiNPQ',\n",
       "       'absorbance_530', 'absorbance_605', 'absorbance_730',\n",
       "       'absorbance_880', 'absorbance_940', 'Fs', 'NPQt', 'qL', 'qP',\n",
       "       'RFd', 'SPAD_530', 'SPAD_605', 'SPAD_730', 'leaf_thickness',\n",
       "       'ambient_humidity', 'leaf_angle_clamp_position', 'pitch',\n",
       "       'proximal_air_temperature', 'FvP/FmP', 'gH+', 'ECSt',\n",
       "       'leaf_temperature_differential', 'Phi2', 'relative_chlorophyll',\n",
       "       'FmPrime', 'FoPrime', 'LEF', 'SPAD_420', 'SPAD_650', 'SPAD_850',\n",
       "       'SPAD_880', 'light_intensity_PAR', 'vH+', 'leaf_angle_mean',\n",
       "       'leaf_angle_alpha', 'leaf_angle_beta', 'leaf_angle_chi',\n",
       "       'canopy_height', 'anthocyanin_index', 'leaf_length',\n",
       "       'aboveground_biomass_moisture', 'panicle_count', 'panicle_volume',\n",
       "       'panicle_surface_area', 'leaf_desiccation_present',\n",
       "       'chlorophyll_index', 'flavonol_index',\n",
       "       'NBI_nitrogen_balance_index', 'plant_basal_tiller_number',\n",
       "       'absorbance_420', 'aboveground_fresh_biomass'], dtype=object)"
      ]
     },
     "execution_count": 20,
     "metadata": {},
     "output_type": "execute_result"
    }
   ],
   "source": [
    "df2.trait.unique()"
   ]
  },
  {
   "cell_type": "code",
   "execution_count": 21,
   "metadata": {},
   "outputs": [
    {
     "data": {
      "text/plain": [
       "2221"
      ]
     },
     "execution_count": 21,
     "metadata": {},
     "output_type": "execute_result"
    }
   ],
   "source": [
    "df2.sitename.nunique()"
   ]
  },
  {
   "cell_type": "code",
   "execution_count": 23,
   "metadata": {},
   "outputs": [
    {
     "data": {
      "text/plain": [
       "2221"
      ]
     },
     "execution_count": 23,
     "metadata": {},
     "output_type": "execute_result"
    }
   ],
   "source": [
    "df2.site_id.nunique()"
   ]
  },
  {
   "cell_type": "code",
   "execution_count": 24,
   "metadata": {},
   "outputs": [
    {
     "data": {
      "text/plain": [
       "array(['MAC Field Scanner Season 4 Range 46 Column 14 E',\n",
       "       'MAC Field Scanner Season 4 Range 21 Column 8 W',\n",
       "       'MAC Field Scanner Season 4 Range 13 Column 14', ...,\n",
       "       'MAC Field Scanner Season 4 Range 30 Column 3 W',\n",
       "       'MAC Field Scanner Season 4 Range 20 Column 13 W',\n",
       "       'MAC Field Scanner Season 4 Range 20 Column 12 E'], dtype=object)"
      ]
     },
     "execution_count": 24,
     "metadata": {},
     "output_type": "execute_result"
    }
   ],
   "source": [
    "df2.sitename.unique()"
   ]
  },
  {
   "cell_type": "code",
   "execution_count": 25,
   "metadata": {},
   "outputs": [
    {
     "data": {
      "text/plain": [
       "0     MAC Field Scanner Season 4 Range 46 Column 14 E\n",
       "1     MAC Field Scanner Season 4 Range 46 Column 14 E\n",
       "2      MAC Field Scanner Season 4 Range 21 Column 8 W\n",
       "3      MAC Field Scanner Season 4 Range 21 Column 8 W\n",
       "4      MAC Field Scanner Season 4 Range 21 Column 8 W\n",
       "5     MAC Field Scanner Season 4 Range 46 Column 14 E\n",
       "6     MAC Field Scanner Season 4 Range 46 Column 14 E\n",
       "7     MAC Field Scanner Season 4 Range 46 Column 14 E\n",
       "8     MAC Field Scanner Season 4 Range 46 Column 14 E\n",
       "9     MAC Field Scanner Season 4 Range 46 Column 14 E\n",
       "10    MAC Field Scanner Season 4 Range 46 Column 14 E\n",
       "11    MAC Field Scanner Season 4 Range 46 Column 14 E\n",
       "12    MAC Field Scanner Season 4 Range 46 Column 14 E\n",
       "13    MAC Field Scanner Season 4 Range 46 Column 14 E\n",
       "14    MAC Field Scanner Season 4 Range 46 Column 14 E\n",
       "15    MAC Field Scanner Season 4 Range 46 Column 14 E\n",
       "16    MAC Field Scanner Season 4 Range 46 Column 14 E\n",
       "17    MAC Field Scanner Season 4 Range 46 Column 14 E\n",
       "18    MAC Field Scanner Season 4 Range 46 Column 14 E\n",
       "19    MAC Field Scanner Season 4 Range 46 Column 14 E\n",
       "20    MAC Field Scanner Season 4 Range 46 Column 14 E\n",
       "21    MAC Field Scanner Season 4 Range 46 Column 14 E\n",
       "22    MAC Field Scanner Season 4 Range 46 Column 14 E\n",
       "23      MAC Field Scanner Season 4 Range 13 Column 14\n",
       "24      MAC Field Scanner Season 4 Range 13 Column 14\n",
       "Name: sitename, dtype: object"
      ]
     },
     "execution_count": 25,
     "metadata": {},
     "output_type": "execute_result"
    }
   ],
   "source": [
    "df2.sitename.head(25)"
   ]
  },
  {
   "cell_type": "code",
   "execution_count": 35,
   "metadata": {},
   "outputs": [],
   "source": [
    "# grouped_by_site = df2.pivot(index = 'sitename')"
   ]
  },
  {
   "cell_type": "code",
   "execution_count": 41,
   "metadata": {},
   "outputs": [
    {
     "data": {
      "text/html": [
       "<div>\n",
       "<style scoped>\n",
       "    .dataframe tbody tr th:only-of-type {\n",
       "        vertical-align: middle;\n",
       "    }\n",
       "\n",
       "    .dataframe tbody tr th {\n",
       "        vertical-align: top;\n",
       "    }\n",
       "\n",
       "    .dataframe thead th {\n",
       "        text-align: right;\n",
       "    }\n",
       "</style>\n",
       "<table border=\"1\" class=\"dataframe\">\n",
       "  <thead>\n",
       "    <tr style=\"text-align: right;\">\n",
       "      <th></th>\n",
       "      <th>Unnamed: 0</th>\n",
       "      <th>checked</th>\n",
       "      <th>result_type</th>\n",
       "      <th>id</th>\n",
       "      <th>citation_id</th>\n",
       "      <th>site_id</th>\n",
       "      <th>treatment_id</th>\n",
       "      <th>sitename</th>\n",
       "      <th>city</th>\n",
       "      <th>lat</th>\n",
       "      <th>...</th>\n",
       "      <th>n</th>\n",
       "      <th>statname</th>\n",
       "      <th>stat</th>\n",
       "      <th>notes</th>\n",
       "      <th>access_level</th>\n",
       "      <th>cultivar</th>\n",
       "      <th>entity</th>\n",
       "      <th>method_name</th>\n",
       "      <th>view_url</th>\n",
       "      <th>edit_url</th>\n",
       "    </tr>\n",
       "  </thead>\n",
       "  <tbody>\n",
       "    <tr>\n",
       "      <th>864</th>\n",
       "      <td>865</td>\n",
       "      <td>0</td>\n",
       "      <td>traits</td>\n",
       "      <td>6001965127</td>\n",
       "      <td>6.000000e+09</td>\n",
       "      <td>6000005241</td>\n",
       "      <td>6.000000e+09</td>\n",
       "      <td>MAC Field Scanner Season 4 Range 2 Column 5</td>\n",
       "      <td>Maricopa</td>\n",
       "      <td>33.074584</td>\n",
       "      <td>...</td>\n",
       "      <td>NaN</td>\n",
       "      <td>NaN</td>\n",
       "      <td>NaN</td>\n",
       "      <td>NaN</td>\n",
       "      <td>2</td>\n",
       "      <td>SP1615</td>\n",
       "      <td>NaN</td>\n",
       "      <td>Whole above ground biomass at harvest</td>\n",
       "      <td>https://terraref.ncsa.illinois.edu/bety/traits...</td>\n",
       "      <td>https://terraref.ncsa.illinois.edu/bety/traits...</td>\n",
       "    </tr>\n",
       "    <tr>\n",
       "      <th>865</th>\n",
       "      <td>866</td>\n",
       "      <td>0</td>\n",
       "      <td>traits</td>\n",
       "      <td>6001965147</td>\n",
       "      <td>6.000000e+09</td>\n",
       "      <td>6000005237</td>\n",
       "      <td>6.000000e+09</td>\n",
       "      <td>MAC Field Scanner Season 4 Range 2 Column 9</td>\n",
       "      <td>Maricopa</td>\n",
       "      <td>33.074584</td>\n",
       "      <td>...</td>\n",
       "      <td>NaN</td>\n",
       "      <td>NaN</td>\n",
       "      <td>NaN</td>\n",
       "      <td>NaN</td>\n",
       "      <td>2</td>\n",
       "      <td>SP1615</td>\n",
       "      <td>NaN</td>\n",
       "      <td>Whole above ground biomass at harvest</td>\n",
       "      <td>https://terraref.ncsa.illinois.edu/bety/traits...</td>\n",
       "      <td>https://terraref.ncsa.illinois.edu/bety/traits...</td>\n",
       "    </tr>\n",
       "    <tr>\n",
       "      <th>866</th>\n",
       "      <td>867</td>\n",
       "      <td>0</td>\n",
       "      <td>traits</td>\n",
       "      <td>6001965192</td>\n",
       "      <td>6.000000e+09</td>\n",
       "      <td>6000005345</td>\n",
       "      <td>6.000000e+09</td>\n",
       "      <td>MAC Field Scanner Season 4 Range 3 Column 4</td>\n",
       "      <td>Maricopa</td>\n",
       "      <td>33.074619</td>\n",
       "      <td>...</td>\n",
       "      <td>NaN</td>\n",
       "      <td>NaN</td>\n",
       "      <td>NaN</td>\n",
       "      <td>NaN</td>\n",
       "      <td>2</td>\n",
       "      <td>PI145626</td>\n",
       "      <td>NaN</td>\n",
       "      <td>Whole above ground biomass at harvest</td>\n",
       "      <td>https://terraref.ncsa.illinois.edu/bety/traits...</td>\n",
       "      <td>https://terraref.ncsa.illinois.edu/bety/traits...</td>\n",
       "    </tr>\n",
       "    <tr>\n",
       "      <th>867</th>\n",
       "      <td>868</td>\n",
       "      <td>0</td>\n",
       "      <td>traits</td>\n",
       "      <td>6001965202</td>\n",
       "      <td>6.000000e+09</td>\n",
       "      <td>6000005351</td>\n",
       "      <td>6.000000e+09</td>\n",
       "      <td>MAC Field Scanner Season 4 Range 3 Column 6</td>\n",
       "      <td>Maricopa</td>\n",
       "      <td>33.074620</td>\n",
       "      <td>...</td>\n",
       "      <td>NaN</td>\n",
       "      <td>NaN</td>\n",
       "      <td>NaN</td>\n",
       "      <td>NaN</td>\n",
       "      <td>2</td>\n",
       "      <td>PI330181</td>\n",
       "      <td>NaN</td>\n",
       "      <td>Whole above ground biomass at harvest</td>\n",
       "      <td>https://terraref.ncsa.illinois.edu/bety/traits...</td>\n",
       "      <td>https://terraref.ncsa.illinois.edu/bety/traits...</td>\n",
       "    </tr>\n",
       "    <tr>\n",
       "      <th>868</th>\n",
       "      <td>869</td>\n",
       "      <td>0</td>\n",
       "      <td>traits</td>\n",
       "      <td>6001965232</td>\n",
       "      <td>6.000000e+09</td>\n",
       "      <td>6000005369</td>\n",
       "      <td>6.000000e+09</td>\n",
       "      <td>MAC Field Scanner Season 4 Range 3 Column 12</td>\n",
       "      <td>Maricopa</td>\n",
       "      <td>33.074620</td>\n",
       "      <td>...</td>\n",
       "      <td>NaN</td>\n",
       "      <td>NaN</td>\n",
       "      <td>NaN</td>\n",
       "      <td>NaN</td>\n",
       "      <td>2</td>\n",
       "      <td>PI152771</td>\n",
       "      <td>NaN</td>\n",
       "      <td>Whole above ground biomass at harvest</td>\n",
       "      <td>https://terraref.ncsa.illinois.edu/bety/traits...</td>\n",
       "      <td>https://terraref.ncsa.illinois.edu/bety/traits...</td>\n",
       "    </tr>\n",
       "  </tbody>\n",
       "</table>\n",
       "<p>5 rows × 39 columns</p>\n",
       "</div>"
      ],
      "text/plain": [
       "     Unnamed: 0  checked result_type          id   citation_id     site_id  \\\n",
       "864         865        0      traits  6001965127  6.000000e+09  6000005241   \n",
       "865         866        0      traits  6001965147  6.000000e+09  6000005237   \n",
       "866         867        0      traits  6001965192  6.000000e+09  6000005345   \n",
       "867         868        0      traits  6001965202  6.000000e+09  6000005351   \n",
       "868         869        0      traits  6001965232  6.000000e+09  6000005369   \n",
       "\n",
       "     treatment_id                                      sitename      city  \\\n",
       "864  6.000000e+09   MAC Field Scanner Season 4 Range 2 Column 5  Maricopa   \n",
       "865  6.000000e+09   MAC Field Scanner Season 4 Range 2 Column 9  Maricopa   \n",
       "866  6.000000e+09   MAC Field Scanner Season 4 Range 3 Column 4  Maricopa   \n",
       "867  6.000000e+09   MAC Field Scanner Season 4 Range 3 Column 6  Maricopa   \n",
       "868  6.000000e+09  MAC Field Scanner Season 4 Range 3 Column 12  Maricopa   \n",
       "\n",
       "           lat  ...   n statname stat notes  access_level  cultivar entity  \\\n",
       "864  33.074584  ... NaN      NaN  NaN   NaN             2    SP1615    NaN   \n",
       "865  33.074584  ... NaN      NaN  NaN   NaN             2    SP1615    NaN   \n",
       "866  33.074619  ... NaN      NaN  NaN   NaN             2  PI145626    NaN   \n",
       "867  33.074620  ... NaN      NaN  NaN   NaN             2  PI330181    NaN   \n",
       "868  33.074620  ... NaN      NaN  NaN   NaN             2  PI152771    NaN   \n",
       "\n",
       "                               method_name  \\\n",
       "864  Whole above ground biomass at harvest   \n",
       "865  Whole above ground biomass at harvest   \n",
       "866  Whole above ground biomass at harvest   \n",
       "867  Whole above ground biomass at harvest   \n",
       "868  Whole above ground biomass at harvest   \n",
       "\n",
       "                                              view_url  \\\n",
       "864  https://terraref.ncsa.illinois.edu/bety/traits...   \n",
       "865  https://terraref.ncsa.illinois.edu/bety/traits...   \n",
       "866  https://terraref.ncsa.illinois.edu/bety/traits...   \n",
       "867  https://terraref.ncsa.illinois.edu/bety/traits...   \n",
       "868  https://terraref.ncsa.illinois.edu/bety/traits...   \n",
       "\n",
       "                                              edit_url  \n",
       "864  https://terraref.ncsa.illinois.edu/bety/traits...  \n",
       "865  https://terraref.ncsa.illinois.edu/bety/traits...  \n",
       "866  https://terraref.ncsa.illinois.edu/bety/traits...  \n",
       "867  https://terraref.ncsa.illinois.edu/bety/traits...  \n",
       "868  https://terraref.ncsa.illinois.edu/bety/traits...  \n",
       "\n",
       "[5 rows x 39 columns]"
      ]
     },
     "execution_count": 41,
     "metadata": {},
     "output_type": "execute_result"
    }
   ],
   "source": [
    "df2.loc[df2.trait == 'aboveground_dry_biomass'].head()"
   ]
  },
  {
   "cell_type": "code",
   "execution_count": 42,
   "metadata": {},
   "outputs": [
    {
     "data": {
      "text/plain": [
       "Unnamed: 0                                                         865\n",
       "checked                                                              0\n",
       "result_type                                                     traits\n",
       "id                                                          6001965127\n",
       "citation_id                                                      6e+09\n",
       "site_id                                                     6000005241\n",
       "treatment_id                                                     6e+09\n",
       "sitename                   MAC Field Scanner Season 4 Range 2 Column 5\n",
       "city                                                          Maricopa\n",
       "lat                                                            33.0746\n",
       "lon                                                           -111.975\n",
       "scientificname                                         Sorghum bicolor\n",
       "commonname                                                     sorghum\n",
       "genus                                                          Sorghum\n",
       "species_id                                                        2588\n",
       "cultivar_id                                                 6000001054\n",
       "author                                                  Newcomb, Maria\n",
       "citation_year                                                     2017\n",
       "treatment                      BAP 2017, water-deficit stress Aug 1-14\n",
       "date                                     2017 Sep 11 (America/Phoenix)\n",
       "time                                     [time unspecified or unknown]\n",
       "raw_date                                     2017-09-12 00:00:00 -0500\n",
       "month                                                                9\n",
       "year                                                              2017\n",
       "dateloc                                                              5\n",
       "trait                                          aboveground_dry_biomass\n",
       "trait_description                              Aboveground Dry Biomass\n",
       "mean                                                             37330\n",
       "units                                                          kg / ha\n",
       "n                                                                  NaN\n",
       "statname                                                           NaN\n",
       "stat                                                               NaN\n",
       "notes                                                              NaN\n",
       "access_level                                                         2\n",
       "cultivar                                                        SP1615\n",
       "entity                                                             NaN\n",
       "method_name                      Whole above ground biomass at harvest\n",
       "view_url             https://terraref.ncsa.illinois.edu/bety/traits...\n",
       "edit_url             https://terraref.ncsa.illinois.edu/bety/traits...\n",
       "Name: 864, dtype: object"
      ]
     },
     "execution_count": 42,
     "metadata": {},
     "output_type": "execute_result"
    }
   ],
   "source": [
    "df2.iloc[864]"
   ]
  },
  {
   "cell_type": "code",
   "execution_count": null,
   "metadata": {},
   "outputs": [],
   "source": []
  }
 ],
 "metadata": {
  "kernelspec": {
   "display_name": "Python 3",
   "language": "python",
   "name": "python3"
  },
  "language_info": {
   "codemirror_mode": {
    "name": "ipython",
    "version": 3
   },
   "file_extension": ".py",
   "mimetype": "text/x-python",
   "name": "python",
   "nbconvert_exporter": "python",
   "pygments_lexer": "ipython3",
   "version": "3.6.8"
  }
 },
 "nbformat": 4,
 "nbformat_minor": 2
}
