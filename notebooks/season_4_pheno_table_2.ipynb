{
 "cells": [
  {
   "cell_type": "markdown",
   "metadata": {},
   "source": [
    "### Season 4 Phenotype Table\n",
    "#### Started November 2019 after GenoPhenoEnvo Kickoff\n",
    "#### Columns\n",
    "* `range`\n",
    "* `column`\n",
    "* `canopy_height`\n",
    "* `max_canopy_height`\n",
    "* `days_to_` multiple values"
   ]
  },
  {
   "cell_type": "code",
   "execution_count": null,
   "metadata": {},
   "outputs": [],
   "source": [
    "# %pwd\n",
    "%cd '/Users/ejcain/Dev/UA-AG/phenotypes/terraref-datasets/'"
   ]
  },
  {
   "cell_type": "code",
   "execution_count": null,
   "metadata": {},
   "outputs": [],
   "source": [
    "import numpy as np\n",
    "import pandas as pd"
   ]
  },
  {
   "cell_type": "markdown",
   "metadata": {},
   "source": [
    "* Season 4 data queried from betydb using R, then downloaded as csv\n",
    "* Some columns have already been dropped in the very messy season_4_transformation notebook"
   ]
  },
  {
   "cell_type": "code",
   "execution_count": null,
   "metadata": {},
   "outputs": [],
   "source": [
    "df = pd.read_csv('data/interim/more_traits_after_feedback.csv')\n",
    "print(df.shape)\n",
    "df.head()"
   ]
  },
  {
   "cell_type": "code",
   "execution_count": null,
   "metadata": {},
   "outputs": [],
   "source": [
    "# df.trait.astype('object').combine(df['mean'], func=)    "
   ]
  },
  {
   "cell_type": "markdown",
   "metadata": {},
   "source": [
    "#### New Trait Columns"
   ]
  },
  {
   "cell_type": "markdown",
   "metadata": {},
   "source": [
    "Change column name `mean` due to being a keyword and also confusing"
   ]
  },
  {
   "cell_type": "code",
   "execution_count": null,
   "metadata": {},
   "outputs": [],
   "source": [
    "df = df.rename({'mean': 'value'}, axis=1)\n",
    "df.tail()"
   ]
  },
  {
   "cell_type": "code",
   "execution_count": null,
   "metadata": {},
   "outputs": [],
   "source": [
    "df.shape"
   ]
  },
  {
   "cell_type": "markdown",
   "metadata": {},
   "source": [
    "Drop `trait_description` and `units`"
   ]
  },
  {
   "cell_type": "code",
   "execution_count": null,
   "metadata": {},
   "outputs": [],
   "source": []
  },
  {
   "cell_type": "code",
   "execution_count": null,
   "metadata": {},
   "outputs": [],
   "source": [
    "df.drop(labels='trait_description', axis=1, inplace=True)\n",
    "df.drop(labels='units', axis=1, inplace=True)"
   ]
  },
  {
   "cell_type": "code",
   "execution_count": null,
   "metadata": {},
   "outputs": [],
   "source": [
    "df.shape"
   ]
  },
  {
   "cell_type": "code",
   "execution_count": null,
   "metadata": {},
   "outputs": [],
   "source": [
    "df.isnull().sum()"
   ]
  },
  {
   "cell_type": "markdown",
   "metadata": {},
   "source": [
    "* Set sitename as index\n",
    "* \n",
    "*"
   ]
  },
  {
   "cell_type": "code",
   "execution_count": null,
   "metadata": {},
   "outputs": [],
   "source": [
    "df = df.set_index(keys='sitename')\n",
    "print(df.shape)\n",
    "df.head()"
   ]
  },
  {
   "cell_type": "code",
   "execution_count": null,
   "metadata": {},
   "outputs": [],
   "source": [
    "df.dtypes"
   ]
  },
  {
   "cell_type": "markdown",
   "metadata": {},
   "source": [
    "#### Add `column` and `range` columns for easier location identification"
   ]
  },
  {
   "cell_type": "code",
   "execution_count": null,
   "metadata": {},
   "outputs": [],
   "source": [
    "df.head()"
   ]
  },
  {
   "cell_type": "code",
   "execution_count": null,
   "metadata": {},
   "outputs": [],
   "source": [
    "sitename_values = df.index.values\n",
    "print(len(df))\n",
    "print(df.index[:10])"
   ]
  },
  {
   "cell_type": "code",
   "execution_count": null,
   "metadata": {},
   "outputs": [],
   "source": []
  },
  {
   "cell_type": "code",
   "execution_count": null,
   "metadata": {},
   "outputs": [],
   "source": [
    "no_e_w_names = []\n",
    "\n",
    "for name in sitename_values:\n",
    "    \n",
    "    if name.endswith(' W') | name.endswith(' E'):\n",
    "        name = name[:-2]\n",
    "        no_e_w_names.append(name)\n",
    "        \n",
    "    else:\n",
    "        no_e_w_names.append(name)\n",
    "\n",
    "print(len(no_e_w_names))\n",
    "print(no_e_w_names[:10])"
   ]
  },
  {
   "cell_type": "code",
   "execution_count": null,
   "metadata": {},
   "outputs": [],
   "source": [
    "# this cell should have no output\n",
    "\n",
    "for name in no_e_w_names:\n",
    "    \n",
    "    if name.endswith(' W'):\n",
    "        print(name)\n",
    "        \n",
    "    if name.endswith(' E'):\n",
    "        print(name)\n",
    "        \n",
    "    if name.endswith(' '):\n",
    "        print('This is wrong too.')"
   ]
  },
  {
   "cell_type": "code",
   "execution_count": null,
   "metadata": {},
   "outputs": [],
   "source": [
    "test_sitename_string = no_e_w_names[42]\n",
    "test_sitename_string"
   ]
  },
  {
   "cell_type": "code",
   "execution_count": null,
   "metadata": {},
   "outputs": [],
   "source": [
    "split_string = test_sitename_string.split(' ')"
   ]
  },
  {
   "cell_type": "code",
   "execution_count": null,
   "metadata": {},
   "outputs": [],
   "source": [
    "print(split_string[6])\n",
    "print(split_string[8])"
   ]
  },
  {
   "cell_type": "code",
   "execution_count": null,
   "metadata": {},
   "outputs": [],
   "source": [
    "ranges = []\n",
    "columns = []\n",
    "\n",
    "for name in no_e_w_names:\n",
    "    \n",
    "    split_name = name.split(' ')\n",
    "    \n",
    "    range_value = split_name[6]\n",
    "    ranges.append(range_value)\n",
    "    \n",
    "    column_value = split_name[8]\n",
    "    columns.append(column_value)\n",
    "    \n",
    "print(f'There are {len(ranges)} range values!')\n",
    "print(f'First three range values: {ranges[:3]}')\n",
    "\n",
    "print(f'There are {len(columns)} column values!')\n",
    "print(f'Here are the first three column values! {columns[:3]}')\n",
    "\n",
    "# print(f'All of these numbers should be {len(sitename_index)}')"
   ]
  },
  {
   "cell_type": "code",
   "execution_count": null,
   "metadata": {},
   "outputs": [],
   "source": [
    "df.head(3)"
   ]
  },
  {
   "cell_type": "code",
   "execution_count": null,
   "metadata": {},
   "outputs": [],
   "source": [
    "df['range_location'] = ranges\n",
    "df['column_location'] = columns\n",
    "\n",
    "df.tail()"
   ]
  },
  {
   "cell_type": "code",
   "execution_count": null,
   "metadata": {},
   "outputs": [],
   "source": [
    "# check that `E` and `W` columns have accurate range and column values\n",
    "\n",
    "df.loc[df.index.str.endswith(' E')].sample(n=7)"
   ]
  },
  {
   "cell_type": "code",
   "execution_count": null,
   "metadata": {},
   "outputs": [],
   "source": [
    "# check W's\n",
    "\n",
    "df.loc[df.index.str.endswith(' W')].sample(n=4)"
   ]
  },
  {
   "cell_type": "code",
   "execution_count": null,
   "metadata": {},
   "outputs": [],
   "source": [
    "# sitename_index.to_csv('column_and_range_df.csv')"
   ]
  },
  {
   "cell_type": "code",
   "execution_count": null,
   "metadata": {},
   "outputs": [],
   "source": [
    "df.shape"
   ]
  },
  {
   "cell_type": "markdown",
   "metadata": {},
   "source": [
    "#### Create empty DataFrame with trait columns to merge with df"
   ]
  },
  {
   "cell_type": "code",
   "execution_count": null,
   "metadata": {},
   "outputs": [],
   "source": [
    "trait_columns = ['proximal_air_temperature', 'leaf_temperature_differential', 'surface_temperature',\n",
    "                'aboveground_dry_biomass', 'seedling_emergence_rate', 'canopy_height', \n",
    "                'flag_leaf_emergence_rate', 'flowering_time', 'grain_stage_time', 'canopy_cover',\n",
    "                'emergence_count']\n",
    "\n",
    "empty_df = pd.DataFrame(index=df.index, columns=trait_columns)"
   ]
  },
  {
   "cell_type": "code",
   "execution_count": null,
   "metadata": {},
   "outputs": [],
   "source": [
    "empty_df.head()"
   ]
  },
  {
   "cell_type": "code",
   "execution_count": null,
   "metadata": {},
   "outputs": [],
   "source": [
    "empty_df.shape"
   ]
  },
  {
   "cell_type": "code",
   "execution_count": null,
   "metadata": {},
   "outputs": [],
   "source": [
    "df.head(2)"
   ]
  },
  {
   "cell_type": "code",
   "execution_count": null,
   "metadata": {},
   "outputs": [],
   "source": [
    "# empty_df.to_csv('empty_df_with_index.csv')\n",
    "# df.to_csv('df_to_merge_with_df.csv')"
   ]
  },
  {
   "cell_type": "code",
   "execution_count": null,
   "metadata": {},
   "outputs": [],
   "source": [
    "print(empty_df.shape)\n",
    "print(df.shape)"
   ]
  },
  {
   "cell_type": "code",
   "execution_count": null,
   "metadata": {},
   "outputs": [],
   "source": [
    "# check that the indices are identical\n",
    "\n",
    "print(pd.Series(empty_df.index.isin(df.index)).value_counts())"
   ]
  },
  {
   "cell_type": "code",
   "execution_count": null,
   "metadata": {},
   "outputs": [],
   "source": [
    "what_is_happening = pd.concat([df, empty_df.reindex(df.index)], axis=1)\n",
    "what_is_happening.shape"
   ]
  },
  {
   "cell_type": "code",
   "execution_count": null,
   "metadata": {},
   "outputs": [],
   "source": [
    "# the key for a successful merge / join / concat is to use an improper name for the resulting df"
   ]
  },
  {
   "cell_type": "code",
   "execution_count": null,
   "metadata": {},
   "outputs": [],
   "source": [
    "what_is_happening.head()"
   ]
  },
  {
   "cell_type": "code",
   "execution_count": null,
   "metadata": {},
   "outputs": [],
   "source": [
    "what_is_happening.columns"
   ]
  },
  {
   "cell_type": "code",
   "execution_count": null,
   "metadata": {},
   "outputs": [],
   "source": [
    "new_df = what_is_happening.copy()"
   ]
  },
  {
   "cell_type": "code",
   "execution_count": null,
   "metadata": {},
   "outputs": [],
   "source": [
    "new_df.to_csv('merged_df_0.csv')"
   ]
  },
  {
   "cell_type": "markdown",
   "metadata": {},
   "source": [
    "#### _Now_ populate trait columns"
   ]
  },
  {
   "cell_type": "code",
   "execution_count": null,
   "metadata": {},
   "outputs": [],
   "source": [
    "#trait_columns = ['proximal_air_temperature', 'leaf_temperature_differential', 'surface_temperature',\n",
    "#                'aboveground_dry_biomass', 'seedling_emergence_rate', 'canopy_height', \n",
    "#                'flag_leaf_emergence_rate', 'flowering_time', 'grain_stage_time', 'canopy_cover',\n",
    "#                'emergence_count']\n",
    "\n",
    "#for trait in trait_columns:\n",
    "\n",
    "    #for index, row in new_df.iterrows():\n",
    "        #if row['trait'] == trait:\n",
    "            #new_df.loc[index, [trait]] = row['value']\n",
    "        \n",
    "#new_df.head()"
   ]
  },
  {
   "cell_type": "code",
   "execution_count": null,
   "metadata": {},
   "outputs": [],
   "source": [
    "trait_columns = ['proximal_air_temperature', 'leaf_temperature_differential', 'surface_temperature',\n",
    "                'aboveground_dry_biomass', 'seedling_emergence_rate', 'canopy_height', \n",
    "                'flag_leaf_emergence_rate', 'flowering_time', 'grain_stage_time', 'canopy_cover',\n",
    "                'emergence_count']\n",
    "\n",
    "\n",
    "counter = 0\n",
    "\n",
    "for index, row in df.iterrows():\n",
    "    if counter % 1000 == 0:\n",
    "        print(counter)\n",
    "    counter = counter + 1\n",
    "    for trait in trait_columns:\n",
    "        if row['trait'] == trait:\n",
    "            new_df.loc[index, [trait]] = row['value']\n",
    "        \n",
    "new_df.head()"
   ]
  },
  {
   "cell_type": "code",
   "execution_count": null,
   "metadata": {},
   "outputs": [],
   "source": [
    "new_df.to_csv('lots_of_traits_df.csv')"
   ]
  },
  {
   "cell_type": "markdown",
   "metadata": {},
   "source": [
    "******"
   ]
  },
  {
   "cell_type": "code",
   "execution_count": null,
   "metadata": {},
   "outputs": [],
   "source": [
    "df = pd.read_csv('data/interim/lots_of_traits_df_0.csv')\n",
    "df.head()"
   ]
  },
  {
   "cell_type": "code",
   "execution_count": null,
   "metadata": {},
   "outputs": [],
   "source": [
    "df.shape"
   ]
  },
  {
   "cell_type": "code",
   "execution_count": null,
   "metadata": {},
   "outputs": [],
   "source": [
    "df.isnull().sum()"
   ]
  },
  {
   "cell_type": "markdown",
   "metadata": {},
   "source": [
    "Are all these value counts accounted for?!"
   ]
  },
  {
   "cell_type": "code",
   "execution_count": null,
   "metadata": {},
   "outputs": [],
   "source": [
    "df.trait.value_counts()"
   ]
  },
  {
   "cell_type": "markdown",
   "metadata": {},
   "source": [
    "Correct `flag_leaf_emergence_time` column"
   ]
  },
  {
   "cell_type": "code",
   "execution_count": null,
   "metadata": {},
   "outputs": [],
   "source": [
    "df = df.assign(flag_leaf_emergence_time = np.nan)\n",
    "df.tail()"
   ]
  },
  {
   "cell_type": "code",
   "execution_count": null,
   "metadata": {},
   "outputs": [],
   "source": [
    "counter = 0\n",
    "\n",
    "for index, row in df.iterrows():\n",
    "        if counter % 1000 == 0:\n",
    "            print(counter)\n",
    "        counter = counter + 1\n",
    "        if row['trait'] == 'flag_leaf_emergence_time':\n",
    "            df.loc[index, ['flag_leaf_emergence_time']] = row['value']"
   ]
  },
  {
   "cell_type": "code",
   "execution_count": null,
   "metadata": {},
   "outputs": [],
   "source": [
    "df.drop(labels='flag_leaf_emergence_rate', axis=1, inplace=True)"
   ]
  },
  {
   "cell_type": "code",
   "execution_count": null,
   "metadata": {},
   "outputs": [],
   "source": [
    "df.head()"
   ]
  },
  {
   "cell_type": "code",
   "execution_count": null,
   "metadata": {},
   "outputs": [],
   "source": [
    "df.isnull().sum()"
   ]
  },
  {
   "cell_type": "code",
   "execution_count": null,
   "metadata": {},
   "outputs": [],
   "source": [
    "sitenames = df.sitename.values\n",
    "print(sitenames[0])\n",
    "print(len(sitenames))"
   ]
  },
  {
   "cell_type": "code",
   "execution_count": null,
   "metadata": {},
   "outputs": [],
   "source": [
    "this_is_an_empty_string = ' '\n",
    "string_names = []\n",
    "for name in sitenames:\n",
    "    \n",
    "    new_name_list = name.split(' ')[:9]\n",
    "    # print(new_name_list)\n",
    "    new_name = this_is_an_empty_string.join(new_name_list)\n",
    "    # print(new_name)\n",
    "    string_names.append(new_name)\n",
    "\n",
    "string_names[:10]"
   ]
  },
  {
   "cell_type": "code",
   "execution_count": null,
   "metadata": {},
   "outputs": [],
   "source": [
    "len(string_names)"
   ]
  },
  {
   "cell_type": "code",
   "execution_count": null,
   "metadata": {},
   "outputs": [],
   "source": [
    "df['string_names_no_e_w'] = string_names\n",
    "df.head()"
   ]
  },
  {
   "cell_type": "code",
   "execution_count": null,
   "metadata": {},
   "outputs": [],
   "source": [
    "# fill NaNs with empty string\n",
    "\n",
    "df.fillna(value=' ', axis=1, inplace=True)"
   ]
  },
  {
   "cell_type": "code",
   "execution_count": null,
   "metadata": {},
   "outputs": [],
   "source": [
    "print(df.isnull().sum())\n",
    "df.head()"
   ]
  },
  {
   "cell_type": "code",
   "execution_count": null,
   "metadata": {},
   "outputs": [],
   "source": [
    "df.to_csv('lots_of_traits_df_1.csv')"
   ]
  },
  {
   "cell_type": "markdown",
   "metadata": {},
   "source": [
    "#### Drop Duplicates?\n",
    "With separate trait columns, some rows could be dropped if they have duplicate:\n",
    "* `raw_date`\n",
    "* `sitename`\n",
    "* `site_id`\n",
    "* `cultivar_id`"
   ]
  },
  {
   "cell_type": "code",
   "execution_count": null,
   "metadata": {},
   "outputs": [],
   "source": [
    "df.duplicated(subset=['raw_date', 'sitename', 'site_id', 'cultivar_id'], keep=False).value_counts()"
   ]
  },
  {
   "cell_type": "code",
   "execution_count": null,
   "metadata": {},
   "outputs": [],
   "source": [
    "df.duplicated(subset=['raw_date', 'sitename', 'site_id', 'cultivar_id', 'trait'], keep=False).value_counts()"
   ]
  },
  {
   "cell_type": "code",
   "execution_count": null,
   "metadata": {},
   "outputs": [],
   "source": [
    "duplicate_df = df[df.duplicated(subset=['raw_date', 'sitename', 'site_id', 'cultivar_id', 'trait'], keep=False)]\n",
    "duplicate_df.shape"
   ]
  },
  {
   "cell_type": "code",
   "execution_count": null,
   "metadata": {},
   "outputs": [],
   "source": [
    "duplicate_df.head()"
   ]
  },
  {
   "cell_type": "code",
   "execution_count": null,
   "metadata": {},
   "outputs": [],
   "source": []
  },
  {
   "cell_type": "code",
   "execution_count": null,
   "metadata": {},
   "outputs": [],
   "source": []
  },
  {
   "cell_type": "code",
   "execution_count": null,
   "metadata": {},
   "outputs": [],
   "source": []
  },
  {
   "cell_type": "code",
   "execution_count": null,
   "metadata": {},
   "outputs": [],
   "source": []
  },
  {
   "cell_type": "code",
   "execution_count": null,
   "metadata": {},
   "outputs": [],
   "source": []
  },
  {
   "cell_type": "code",
   "execution_count": null,
   "metadata": {},
   "outputs": [],
   "source": [
    "# should have zero output\n",
    "\n",
    "for name in string_names:\n",
    "    \n",
    "    if name.endswith(' W'):\n",
    "        print(name)\n",
    "    \n",
    "    elif name.endswith(' E'):\n",
    "        print(name)"
   ]
  },
  {
   "cell_type": "code",
   "execution_count": null,
   "metadata": {},
   "outputs": [],
   "source": [
    "df.columns"
   ]
  },
  {
   "cell_type": "code",
   "execution_count": null,
   "metadata": {},
   "outputs": [],
   "source": []
  },
  {
   "cell_type": "code",
   "execution_count": null,
   "metadata": {},
   "outputs": [],
   "source": []
  },
  {
   "cell_type": "markdown",
   "metadata": {},
   "source": [
    "#### Take averages for E and W sites"
   ]
  },
  {
   "cell_type": "code",
   "execution_count": null,
   "metadata": {},
   "outputs": [],
   "source": [
    "e_w_sites = df.loc[(df.sitename.str.endswith(' E')) | (df.sitename.str.endswith(' W'))]\n",
    "print(e_w_sites.shape)\n",
    "e_w_sites.head()"
   ]
  },
  {
   "cell_type": "markdown",
   "metadata": {},
   "source": [
    "Find matching plots"
   ]
  },
  {
   "cell_type": "code",
   "execution_count": null,
   "metadata": {},
   "outputs": [],
   "source": [
    "test_name = df.iloc[0].sitename.split(' ')[:9]\n",
    "test_name"
   ]
  },
  {
   "cell_type": "code",
   "execution_count": null,
   "metadata": {},
   "outputs": [],
   "source": [
    "this_is_an_empty_string = ' '\n",
    "this_is_an_empty_string.join(test_name)"
   ]
  },
  {
   "cell_type": "code",
   "execution_count": null,
   "metadata": {},
   "outputs": [],
   "source": [
    "sitenames = e_w_sites.sitename.values\n",
    "print(sitenames[0])\n",
    "print(len(sitenames))"
   ]
  },
  {
   "cell_type": "code",
   "execution_count": null,
   "metadata": {},
   "outputs": [],
   "source": [
    "this_is_an_empty_string = ' '\n",
    "string_names = []\n",
    "for name in sitenames:\n",
    "    \n",
    "    new_name_list = name.split(' ')[:9]\n",
    "    # print(new_name_list)\n",
    "    new_name = this_is_an_empty_string.join(new_name_list)\n",
    "    # print(new_name)\n",
    "    string_names.append(new_name)\n",
    "    \n",
    "len(string_names)\n",
    "string_names[:10]"
   ]
  },
  {
   "cell_type": "code",
   "execution_count": null,
   "metadata": {},
   "outputs": [],
   "source": [
    "e_w_sites['new_sitenames'] = string_names\n",
    "e_w_sites.head()"
   ]
  },
  {
   "cell_type": "code",
   "execution_count": null,
   "metadata": {},
   "outputs": [],
   "source": [
    "len(e_w_sites[e_w_sites.duplicated(['new_sitenames'], keep=False)])"
   ]
  },
  {
   "cell_type": "code",
   "execution_count": null,
   "metadata": {},
   "outputs": [],
   "source": [
    "df.iloc[0].sitename"
   ]
  },
  {
   "cell_type": "code",
   "execution_count": null,
   "metadata": {},
   "outputs": [],
   "source": []
  },
  {
   "cell_type": "code",
   "execution_count": null,
   "metadata": {},
   "outputs": [],
   "source": []
  },
  {
   "cell_type": "code",
   "execution_count": null,
   "metadata": {},
   "outputs": [],
   "source": []
  },
  {
   "cell_type": "code",
   "execution_count": null,
   "metadata": {},
   "outputs": [],
   "source": []
  },
  {
   "cell_type": "code",
   "execution_count": null,
   "metadata": {},
   "outputs": [],
   "source": []
  },
  {
   "cell_type": "code",
   "execution_count": null,
   "metadata": {},
   "outputs": [],
   "source": [
    "for idx, row in e_w_sites.iterrows():\n",
    "    \n",
    "    print(idx)\n",
    "    print(row.sitename.split(' ')[:9])\n",
    "    break\n",
    "    \n",
    "    if row.sitename.split(' ')[:9]:\n",
    "        pass"
   ]
  },
  {
   "cell_type": "code",
   "execution_count": null,
   "metadata": {},
   "outputs": [],
   "source": []
  },
  {
   "cell_type": "code",
   "execution_count": null,
   "metadata": {},
   "outputs": [],
   "source": [
    "# do not save index next time. . . \n",
    "\n",
    "df = pd.read_csv('lots_of_traits_df_1.csv')\n",
    "df.head()"
   ]
  },
  {
   "cell_type": "code",
   "execution_count": null,
   "metadata": {},
   "outputs": [],
   "source": [
    "sample_df = df.sample(n=10000)"
   ]
  },
  {
   "cell_type": "code",
   "execution_count": null,
   "metadata": {},
   "outputs": [],
   "source": [
    "sample_df.dtypes"
   ]
  },
  {
   "cell_type": "code",
   "execution_count": null,
   "metadata": {},
   "outputs": [],
   "source": [
    "df.shape"
   ]
  },
  {
   "cell_type": "code",
   "execution_count": null,
   "metadata": {},
   "outputs": [],
   "source": [
    "df.columns"
   ]
  },
  {
   "cell_type": "code",
   "execution_count": null,
   "metadata": {},
   "outputs": [],
   "source": [
    "df[['sitename', 'raw_date', 'canopy_height', 'string_names_no_e_w']].head()"
   ]
  },
  {
   "cell_type": "code",
   "execution_count": null,
   "metadata": {},
   "outputs": [],
   "source": [
    "df.head()"
   ]
  },
  {
   "cell_type": "code",
   "execution_count": null,
   "metadata": {},
   "outputs": [],
   "source": [
    "df[\"range_value\"]  = df[\"string_names_no_e_w\"].str.extract(\"Range (\\d+)\").astype(int)\n",
    "df[\"column_value\"] = df[\"string_names_no_e_w\"].str.extract(\"Column (\\d+)\").astype(int)\n",
    "df.head()"
   ]
  },
  {
   "cell_type": "code",
   "execution_count": null,
   "metadata": {},
   "outputs": [],
   "source": [
    "# df['canopy_height'] = df['canopy_height'].astype(float)"
   ]
  },
  {
   "cell_type": "code",
   "execution_count": null,
   "metadata": {},
   "outputs": [],
   "source": [
    "# for h in df['canopy_height']:\n",
    "#     try:\n",
    "#         this = float(h)\n",
    "#     except:\n",
    "#         print(\"here is h, h = {}\".format(h))"
   ]
  },
  {
   "cell_type": "code",
   "execution_count": null,
   "metadata": {},
   "outputs": [],
   "source": [
    "# df.groupby(by=[\"date\", \"range_value\", \"column_value\", \"cultivar\"])['canopy_height'].agg(['mean'])"
   ]
  },
  {
   "cell_type": "code",
   "execution_count": null,
   "metadata": {},
   "outputs": [],
   "source": [
    "df.columns"
   ]
  },
  {
   "cell_type": "code",
   "execution_count": null,
   "metadata": {},
   "outputs": [],
   "source": [
    "df.flowering_time.unique()"
   ]
  },
  {
   "cell_type": "code",
   "execution_count": null,
   "metadata": {},
   "outputs": [],
   "source": [
    "season_4_df = pd.read_csv('data/raw/mac_season_4.csv')\n",
    "season_4_df.head()"
   ]
  },
  {
   "cell_type": "code",
   "execution_count": null,
   "metadata": {},
   "outputs": [],
   "source": [
    "season_4_df.loc[season_4_df.trait == 'planter_seed_drop']"
   ]
  },
  {
   "cell_type": "code",
   "execution_count": null,
   "metadata": {},
   "outputs": [],
   "source": [
    "season_4_df.trait.unique()"
   ]
  },
  {
   "cell_type": "code",
   "execution_count": null,
   "metadata": {},
   "outputs": [],
   "source": [
    "season_4_df.columns"
   ]
  },
  {
   "cell_type": "code",
   "execution_count": null,
   "metadata": {},
   "outputs": [],
   "source": [
    "season_4_df.shape"
   ]
  },
  {
   "cell_type": "code",
   "execution_count": null,
   "metadata": {},
   "outputs": [],
   "source": [
    "season_4_df.raw_date.min()"
   ]
  },
  {
   "cell_type": "code",
   "execution_count": null,
   "metadata": {},
   "outputs": [],
   "source": [
    "season_4_df.method_name.unique()"
   ]
  },
  {
   "cell_type": "code",
   "execution_count": null,
   "metadata": {},
   "outputs": [],
   "source": []
  },
  {
   "cell_type": "markdown",
   "metadata": {},
   "source": [
    "### Not Using This - Just Saving"
   ]
  },
  {
   "cell_type": "code",
   "execution_count": null,
   "metadata": {},
   "outputs": [],
   "source": [
    "# Code from Rafa \n",
    "\n",
    "# from collections import defaultdict\n",
    "# ​\n",
    "# # make each trait a key, so you can make it a column later\n",
    "# traits = df.trait.unique\n",
    "# ​\n",
    "# # create dictionary\n",
    "# trait_columns_dict = {}\n",
    "# ​\n",
    "# # set all the traits as empty lists\n",
    "# for trait in traits:\n",
    "# \ttrait_columns_dict[trait] = []\n",
    "\t\n",
    "# # this is inefficient but it will work\n",
    "# for trait, value in zip(df.trait, df.value):\n",
    "# \tfor col in traits:\n",
    "# \t\tif trait == col:\n",
    "# \t\t\ttrait_columns_dict.append(value)\n",
    "# \t\telse:\n",
    "# \t\t\ttrait_columns_dict.append(None)\n",
    "# ​\n",
    "# trait_columns_dict\n",
    "# \tdf"
   ]
  },
  {
   "cell_type": "code",
   "execution_count": null,
   "metadata": {},
   "outputs": [],
   "source": []
  },
  {
   "cell_type": "code",
   "execution_count": null,
   "metadata": {},
   "outputs": [],
   "source": []
  }
 ],
 "metadata": {
  "kernelspec": {
   "display_name": "Python 3",
   "language": "python",
   "name": "python3"
  },
  "language_info": {
   "codemirror_mode": {
    "name": "ipython",
    "version": 3
   },
   "file_extension": ".py",
   "mimetype": "text/x-python",
   "name": "python",
   "nbconvert_exporter": "python",
   "pygments_lexer": "ipython3",
   "version": "3.7.5"
  },
  "pycharm": {
   "stem_cell": {
    "cell_type": "raw",
    "metadata": {
     "collapsed": false
    },
    "source": []
   }
  }
 },
 "nbformat": 4,
 "nbformat_minor": 4
}
