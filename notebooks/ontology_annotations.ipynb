{
 "cells": [
  {
   "cell_type": "markdown",
   "metadata": {},
   "source": [
    "### Convert Ontology Annotations to `.json`\n",
    "Ontology annotations added by Laurel Cooper to Google Sheet. Please contact Emily Cain at ejcain@arizona.edu for access or for more information."
   ]
  },
  {
   "cell_type": "code",
   "execution_count": 1,
   "metadata": {},
   "outputs": [],
   "source": [
    "import pandas as pd"
   ]
  },
  {
   "cell_type": "code",
   "execution_count": 4,
   "metadata": {},
   "outputs": [
    {
     "name": "stdout",
     "output_type": "stream",
     "text": [
      "(88, 13)\n"
     ]
    },
    {
     "data": {
      "text/html": [
       "<div>\n",
       "<style scoped>\n",
       "    .dataframe tbody tr th:only-of-type {\n",
       "        vertical-align: middle;\n",
       "    }\n",
       "\n",
       "    .dataframe tbody tr th {\n",
       "        vertical-align: top;\n",
       "    }\n",
       "\n",
       "    .dataframe thead th {\n",
       "        text-align: right;\n",
       "    }\n",
       "</style>\n",
       "<table border=\"1\" class=\"dataframe\">\n",
       "  <thead>\n",
       "    <tr style=\"text-align: right;\">\n",
       "      <th></th>\n",
       "      <th>Variable</th>\n",
       "      <th>Variable Description</th>\n",
       "      <th>Units</th>\n",
       "      <th>Method Name 1</th>\n",
       "      <th>Method Name 2</th>\n",
       "      <th>Trait Ontology Identifier (TO:ID)</th>\n",
       "      <th>termId</th>\n",
       "      <th>TO label</th>\n",
       "      <th>Comments/Notes</th>\n",
       "      <th>CO_324 ID</th>\n",
       "      <th>CO_324 label</th>\n",
       "      <th>Comments/Notes.1</th>\n",
       "      <th>coPermalink</th>\n",
       "    </tr>\n",
       "  </thead>\n",
       "  <tbody>\n",
       "    <tr>\n",
       "      <th>0</th>\n",
       "      <td>days_to_emergence</td>\n",
       "      <td>Planting date: 2017-04-20</td>\n",
       "      <td>days</td>\n",
       "      <td>NaN</td>\n",
       "      <td>NaN</td>\n",
       "      <td>TO:0006061</td>\n",
       "      <td>http://purl.obolibrary.org/obo/TO_0006061</td>\n",
       "      <td>days to germinate</td>\n",
       "      <td>related</td>\n",
       "      <td>NaN</td>\n",
       "      <td>NaN</td>\n",
       "      <td>NaN</td>\n",
       "      <td>NaN</td>\n",
       "    </tr>\n",
       "    <tr>\n",
       "      <th>1</th>\n",
       "      <td>emergence_count</td>\n",
       "      <td>number of plants counted within plot or subplo...</td>\n",
       "      <td>count</td>\n",
       "      <td>plant emergence counts</td>\n",
       "      <td>NaN</td>\n",
       "      <td>TO:0000202</td>\n",
       "      <td>http://purl.obolibrary.org/obo/TO_0000202</td>\n",
       "      <td>germination ratio</td>\n",
       "      <td>related</td>\n",
       "      <td>CO_324:0000486</td>\n",
       "      <td>sorghum plant number - counting method</td>\n",
       "      <td>related</td>\n",
       "      <td>NaN</td>\n",
       "    </tr>\n",
       "    <tr>\n",
       "      <th>2</th>\n",
       "      <td>seedling_emergence_rate</td>\n",
       "      <td>Seedling emergence rate</td>\n",
       "      <td>ratio</td>\n",
       "      <td>Seedling emergence rate count</td>\n",
       "      <td>NaN</td>\n",
       "      <td>TO:0000430</td>\n",
       "      <td>http://purl.obolibrary.org/obo/TO_0000430</td>\n",
       "      <td>germination rate</td>\n",
       "      <td>related</td>\n",
       "      <td>NaN</td>\n",
       "      <td>NaN</td>\n",
       "      <td>NaN</td>\n",
       "      <td>NaN</td>\n",
       "    </tr>\n",
       "  </tbody>\n",
       "</table>\n",
       "</div>"
      ],
      "text/plain": [
       "                  Variable                               Variable Description  \\\n",
       "0        days_to_emergence                          Planting date: 2017-04-20   \n",
       "1          emergence_count  number of plants counted within plot or subplo...   \n",
       "2  seedling_emergence_rate                            Seedling emergence rate   \n",
       "\n",
       "   Units                  Method Name 1 Method Name 2  \\\n",
       "0   days                            NaN           NaN   \n",
       "1  count         plant emergence counts           NaN   \n",
       "2  ratio  Seedling emergence rate count           NaN   \n",
       "\n",
       "  Trait Ontology Identifier (TO:ID)  \\\n",
       "0                        TO:0006061   \n",
       "1                        TO:0000202   \n",
       "2                        TO:0000430   \n",
       "\n",
       "                                      termId           TO label  \\\n",
       "0  http://purl.obolibrary.org/obo/TO_0006061  days to germinate   \n",
       "1  http://purl.obolibrary.org/obo/TO_0000202  germination ratio   \n",
       "2  http://purl.obolibrary.org/obo/TO_0000430   germination rate   \n",
       "\n",
       "  Comments/Notes       CO_324 ID                            CO_324 label  \\\n",
       "0        related             NaN                                     NaN   \n",
       "1        related  CO_324:0000486  sorghum plant number - counting method   \n",
       "2        related             NaN                                     NaN   \n",
       "\n",
       "  Comments/Notes.1 coPermalink  \n",
       "0              NaN         NaN  \n",
       "1          related         NaN  \n",
       "2              NaN         NaN  "
      ]
     },
     "execution_count": 4,
     "metadata": {},
     "output_type": "execute_result"
    }
   ],
   "source": [
    "df_0 = pd.read_csv('data/processed/ontology_annotations - Mappings to TO_CO terms_2020-03-31.csv')\n",
    "print(df_0.shape)\n",
    "df_0.head(3)"
   ]
  },
  {
   "cell_type": "markdown",
   "metadata": {},
   "source": [
    "### Slice dataframe to include only variables that are traits"
   ]
  },
  {
   "cell_type": "code",
   "execution_count": 27,
   "metadata": {},
   "outputs": [
    {
     "data": {
      "text/html": [
       "<div>\n",
       "<style scoped>\n",
       "    .dataframe tbody tr th:only-of-type {\n",
       "        vertical-align: middle;\n",
       "    }\n",
       "\n",
       "    .dataframe tbody tr th {\n",
       "        vertical-align: top;\n",
       "    }\n",
       "\n",
       "    .dataframe thead th {\n",
       "        text-align: right;\n",
       "    }\n",
       "</style>\n",
       "<table border=\"1\" class=\"dataframe\">\n",
       "  <thead>\n",
       "    <tr style=\"text-align: right;\">\n",
       "      <th></th>\n",
       "      <th>Variable</th>\n",
       "      <th>Variable Description</th>\n",
       "      <th>Units</th>\n",
       "      <th>Method Name 1</th>\n",
       "      <th>Method Name 2</th>\n",
       "      <th>Trait Ontology Identifier (TO:ID)</th>\n",
       "      <th>termId</th>\n",
       "      <th>TO label</th>\n",
       "      <th>Comments/Notes</th>\n",
       "      <th>CO_324 ID</th>\n",
       "      <th>CO_324 label</th>\n",
       "      <th>Comments/Notes.1</th>\n",
       "      <th>coPermalink</th>\n",
       "    </tr>\n",
       "  </thead>\n",
       "  <tbody>\n",
       "    <tr>\n",
       "      <th>73</th>\n",
       "      <td>Not Traits:</td>\n",
       "      <td>NaN</td>\n",
       "      <td>NaN</td>\n",
       "      <td>NaN</td>\n",
       "      <td>NaN</td>\n",
       "      <td>NaN</td>\n",
       "      <td>NaN</td>\n",
       "      <td>NaN</td>\n",
       "      <td>NaN</td>\n",
       "      <td>NaN</td>\n",
       "      <td>NaN</td>\n",
       "      <td>NaN</td>\n",
       "      <td>NaN</td>\n",
       "    </tr>\n",
       "  </tbody>\n",
       "</table>\n",
       "</div>"
      ],
      "text/plain": [
       "       Variable Variable Description Units Method Name 1 Method Name 2  \\\n",
       "73  Not Traits:                  NaN   NaN           NaN           NaN   \n",
       "\n",
       "   Trait Ontology Identifier (TO:ID) termId TO label Comments/Notes CO_324 ID  \\\n",
       "73                               NaN    NaN      NaN            NaN       NaN   \n",
       "\n",
       "   CO_324 label Comments/Notes.1 coPermalink  \n",
       "73          NaN              NaN         NaN  "
      ]
     },
     "execution_count": 27,
     "metadata": {},
     "output_type": "execute_result"
    }
   ],
   "source": [
    "df_0.loc[df_0['Variable'] == 'Not Traits:']"
   ]
  },
  {
   "cell_type": "code",
   "execution_count": 28,
   "metadata": {},
   "outputs": [
    {
     "data": {
      "text/html": [
       "<div>\n",
       "<style scoped>\n",
       "    .dataframe tbody tr th:only-of-type {\n",
       "        vertical-align: middle;\n",
       "    }\n",
       "\n",
       "    .dataframe tbody tr th {\n",
       "        vertical-align: top;\n",
       "    }\n",
       "\n",
       "    .dataframe thead th {\n",
       "        text-align: right;\n",
       "    }\n",
       "</style>\n",
       "<table border=\"1\" class=\"dataframe\">\n",
       "  <thead>\n",
       "    <tr style=\"text-align: right;\">\n",
       "      <th></th>\n",
       "      <th>Variable</th>\n",
       "      <th>Variable Description</th>\n",
       "      <th>Units</th>\n",
       "      <th>Method Name 1</th>\n",
       "      <th>Method Name 2</th>\n",
       "      <th>Trait Ontology Identifier (TO:ID)</th>\n",
       "      <th>termId</th>\n",
       "      <th>TO label</th>\n",
       "      <th>Comments/Notes</th>\n",
       "      <th>CO_324 ID</th>\n",
       "      <th>CO_324 label</th>\n",
       "      <th>Comments/Notes.1</th>\n",
       "      <th>coPermalink</th>\n",
       "    </tr>\n",
       "  </thead>\n",
       "  <tbody>\n",
       "    <tr>\n",
       "      <th>70</th>\n",
       "      <td>absorbance_940</td>\n",
       "      <td>Absorbance at 940 nm</td>\n",
       "      <td>arbitrary absorbance units</td>\n",
       "      <td>MultispeQ v1.0 field measurements of fluoresce...</td>\n",
       "      <td>NaN</td>\n",
       "      <td>NaN</td>\n",
       "      <td>NaN</td>\n",
       "      <td>NaN</td>\n",
       "      <td>NaN</td>\n",
       "      <td>NaN</td>\n",
       "      <td>NaN</td>\n",
       "      <td>NaN</td>\n",
       "      <td>NaN</td>\n",
       "    </tr>\n",
       "    <tr>\n",
       "      <th>71</th>\n",
       "      <td>NaN</td>\n",
       "      <td>NaN</td>\n",
       "      <td>NaN</td>\n",
       "      <td>NaN</td>\n",
       "      <td>NaN</td>\n",
       "      <td>NaN</td>\n",
       "      <td>NaN</td>\n",
       "      <td>NaN</td>\n",
       "      <td>NaN</td>\n",
       "      <td>NaN</td>\n",
       "      <td>NaN</td>\n",
       "      <td>NaN</td>\n",
       "      <td>NaN</td>\n",
       "    </tr>\n",
       "    <tr>\n",
       "      <th>72</th>\n",
       "      <td>NaN</td>\n",
       "      <td>NaN</td>\n",
       "      <td>NaN</td>\n",
       "      <td>NaN</td>\n",
       "      <td>NaN</td>\n",
       "      <td>NaN</td>\n",
       "      <td>NaN</td>\n",
       "      <td>NaN</td>\n",
       "      <td>NaN</td>\n",
       "      <td>NaN</td>\n",
       "      <td>NaN</td>\n",
       "      <td>NaN</td>\n",
       "      <td>NaN</td>\n",
       "    </tr>\n",
       "    <tr>\n",
       "      <th>73</th>\n",
       "      <td>Not Traits:</td>\n",
       "      <td>NaN</td>\n",
       "      <td>NaN</td>\n",
       "      <td>NaN</td>\n",
       "      <td>NaN</td>\n",
       "      <td>NaN</td>\n",
       "      <td>NaN</td>\n",
       "      <td>NaN</td>\n",
       "      <td>NaN</td>\n",
       "      <td>NaN</td>\n",
       "      <td>NaN</td>\n",
       "      <td>NaN</td>\n",
       "      <td>NaN</td>\n",
       "    </tr>\n",
       "  </tbody>\n",
       "</table>\n",
       "</div>"
      ],
      "text/plain": [
       "          Variable  Variable Description                       Units  \\\n",
       "70  absorbance_940  Absorbance at 940 nm  arbitrary absorbance units   \n",
       "71             NaN                   NaN                         NaN   \n",
       "72             NaN                   NaN                         NaN   \n",
       "73     Not Traits:                   NaN                         NaN   \n",
       "\n",
       "                                        Method Name 1 Method Name 2  \\\n",
       "70  MultispeQ v1.0 field measurements of fluoresce...           NaN   \n",
       "71                                                NaN           NaN   \n",
       "72                                                NaN           NaN   \n",
       "73                                                NaN           NaN   \n",
       "\n",
       "   Trait Ontology Identifier (TO:ID) termId TO label Comments/Notes CO_324 ID  \\\n",
       "70                               NaN    NaN      NaN            NaN       NaN   \n",
       "71                               NaN    NaN      NaN            NaN       NaN   \n",
       "72                               NaN    NaN      NaN            NaN       NaN   \n",
       "73                               NaN    NaN      NaN            NaN       NaN   \n",
       "\n",
       "   CO_324 label Comments/Notes.1 coPermalink  \n",
       "70          NaN              NaN         NaN  \n",
       "71          NaN              NaN         NaN  \n",
       "72          NaN              NaN         NaN  \n",
       "73          NaN              NaN         NaN  "
      ]
     },
     "execution_count": 28,
     "metadata": {},
     "output_type": "execute_result"
    }
   ],
   "source": [
    "df_0.iloc[70:74]"
   ]
  },
  {
   "cell_type": "code",
   "execution_count": 29,
   "metadata": {},
   "outputs": [
    {
     "name": "stdout",
     "output_type": "stream",
     "text": [
      "(71, 13)\n"
     ]
    }
   ],
   "source": [
    "df_1 = df_0.iloc[:71]\n",
    "print(df_1.shape)"
   ]
  },
  {
   "cell_type": "code",
   "execution_count": 31,
   "metadata": {},
   "outputs": [
    {
     "data": {
      "text/plain": [
       "Variable                                                                absorbance_940\n",
       "Variable Description                                              Absorbance at 940 nm\n",
       "Units                                                       arbitrary absorbance units\n",
       "Method Name 1                        MultispeQ v1.0 field measurements of fluoresce...\n",
       "Method Name 2                                                                      NaN\n",
       "Trait Ontology Identifier (TO:ID)                                                  NaN\n",
       "termId                                                                             NaN\n",
       "TO label                                                                           NaN\n",
       "Comments/Notes                                                                     NaN\n",
       "CO_324 ID                                                                          NaN\n",
       "CO_324 label                                                                       NaN\n",
       "Comments/Notes.1                                                                   NaN\n",
       "coPermalink                                                                        NaN\n",
       "Name: 70, dtype: object"
      ]
     },
     "execution_count": 31,
     "metadata": {},
     "output_type": "execute_result"
    }
   ],
   "source": [
    "df_1.iloc[70]"
   ]
  },
  {
   "cell_type": "code",
   "execution_count": 32,
   "metadata": {},
   "outputs": [
    {
     "data": {
      "text/plain": [
       "Variable                                                     days_to_emergence\n",
       "Variable Description                                 Planting date: 2017-04-20\n",
       "Units                                                                     days\n",
       "Method Name 1                                                              NaN\n",
       "Method Name 2                                                              NaN\n",
       "Trait Ontology Identifier (TO:ID)                                   TO:0006061\n",
       "termId                               http://purl.obolibrary.org/obo/TO_0006061\n",
       "TO label                                                     days to germinate\n",
       "Comments/Notes                                                         related\n",
       "CO_324 ID                                                                  NaN\n",
       "CO_324 label                                                               NaN\n",
       "Comments/Notes.1                                                           NaN\n",
       "coPermalink                                                                NaN\n",
       "Name: 0, dtype: object"
      ]
     },
     "execution_count": 32,
     "metadata": {},
     "output_type": "execute_result"
    }
   ],
   "source": [
    "df_1.iloc[0]"
   ]
  },
  {
   "cell_type": "markdown",
   "metadata": {},
   "source": [
    "### Convert dataframe to `.json`\n",
    "- using `records` argument"
   ]
  },
  {
   "cell_type": "code",
   "execution_count": 39,
   "metadata": {},
   "outputs": [],
   "source": [
    "df_1.to_json(path_or_buf='data/processed/trait_ontologies.json', orient='records', indent=4)"
   ]
  },
  {
   "cell_type": "code",
   "execution_count": null,
   "metadata": {},
   "outputs": [],
   "source": []
  }
 ],
 "metadata": {
  "kernelspec": {
   "display_name": "Python 3",
   "language": "python",
   "name": "python3"
  },
  "language_info": {
   "codemirror_mode": {
    "name": "ipython",
    "version": 3
   },
   "file_extension": ".py",
   "mimetype": "text/x-python",
   "name": "python",
   "nbconvert_exporter": "python",
   "pygments_lexer": "ipython3",
   "version": "3.7.5"
  }
 },
 "nbformat": 4,
 "nbformat_minor": 2
}
