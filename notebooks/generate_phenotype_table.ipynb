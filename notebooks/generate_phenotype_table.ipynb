{
 "cells": [
  {
   "cell_type": "markdown",
   "metadata": {},
   "source": [
    "### Phenotype Table for Initial Set of Training Data"
   ]
  },
  {
   "cell_type": "code",
   "execution_count": 1,
   "metadata": {},
   "outputs": [],
   "source": [
    "import datetime\n",
    "import pandas as pd\n",
    "import numpy as np\n",
    "import sqlite3"
   ]
  },
  {
   "cell_type": "markdown",
   "metadata": {},
   "source": [
    "#### Import dataset downloaded from betydb in R"
   ]
  },
  {
   "cell_type": "code",
   "execution_count": 2,
   "metadata": {},
   "outputs": [
    {
     "name": "stderr",
     "output_type": "stream",
     "text": [
      "/opt/miniconda3/envs/terraref-datasets/lib/python3.7/site-packages/IPython/core/interactiveshell.py:3058: DtypeWarning: Columns (18,26,32,35) have mixed types. Specify dtype option on import or set low_memory=False.\n",
      "  interactivity=interactivity, compiler=compiler, result=result)\n"
     ]
    },
    {
     "data": {
      "text/html": [
       "<div>\n",
       "<style scoped>\n",
       "    .dataframe tbody tr th:only-of-type {\n",
       "        vertical-align: middle;\n",
       "    }\n",
       "\n",
       "    .dataframe tbody tr th {\n",
       "        vertical-align: top;\n",
       "    }\n",
       "\n",
       "    .dataframe thead th {\n",
       "        text-align: right;\n",
       "    }\n",
       "</style>\n",
       "<table border=\"1\" class=\"dataframe\">\n",
       "  <thead>\n",
       "    <tr style=\"text-align: right;\">\n",
       "      <th></th>\n",
       "      <th>Unnamed: 0</th>\n",
       "      <th>checked</th>\n",
       "      <th>result_type</th>\n",
       "      <th>id</th>\n",
       "      <th>citation_id</th>\n",
       "      <th>site_id</th>\n",
       "      <th>treatment_id</th>\n",
       "      <th>sitename</th>\n",
       "      <th>city</th>\n",
       "      <th>lat</th>\n",
       "      <th>...</th>\n",
       "      <th>n</th>\n",
       "      <th>statname</th>\n",
       "      <th>stat</th>\n",
       "      <th>notes</th>\n",
       "      <th>access_level</th>\n",
       "      <th>cultivar</th>\n",
       "      <th>entity</th>\n",
       "      <th>method_name</th>\n",
       "      <th>view_url</th>\n",
       "      <th>edit_url</th>\n",
       "    </tr>\n",
       "  </thead>\n",
       "  <tbody>\n",
       "    <tr>\n",
       "      <th>0</th>\n",
       "      <td>1</td>\n",
       "      <td>0</td>\n",
       "      <td>traits</td>\n",
       "      <td>6001958927</td>\n",
       "      <td>6.000000e+09</td>\n",
       "      <td>6000005673</td>\n",
       "      <td>6.000000e+09</td>\n",
       "      <td>MAC Field Scanner Season 4 Range 11 Column 5</td>\n",
       "      <td>Maricopa</td>\n",
       "      <td>33.074907</td>\n",
       "      <td>...</td>\n",
       "      <td>NaN</td>\n",
       "      <td>NaN</td>\n",
       "      <td>NaN</td>\n",
       "      <td>NaN</td>\n",
       "      <td>2</td>\n",
       "      <td>PI181083</td>\n",
       "      <td>NaN</td>\n",
       "      <td>Visual assessment of leaf dessication</td>\n",
       "      <td>https://terraref.ncsa.illinois.edu/bety/traits...</td>\n",
       "      <td>https://terraref.ncsa.illinois.edu/bety/traits...</td>\n",
       "    </tr>\n",
       "    <tr>\n",
       "      <th>1</th>\n",
       "      <td>2</td>\n",
       "      <td>0</td>\n",
       "      <td>traits</td>\n",
       "      <td>6001958928</td>\n",
       "      <td>6.000000e+09</td>\n",
       "      <td>6000005676</td>\n",
       "      <td>6.000000e+09</td>\n",
       "      <td>MAC Field Scanner Season 4 Range 11 Column 6</td>\n",
       "      <td>Maricopa</td>\n",
       "      <td>33.074907</td>\n",
       "      <td>...</td>\n",
       "      <td>NaN</td>\n",
       "      <td>NaN</td>\n",
       "      <td>NaN</td>\n",
       "      <td>NaN</td>\n",
       "      <td>2</td>\n",
       "      <td>PI564163</td>\n",
       "      <td>NaN</td>\n",
       "      <td>Visual assessment of leaf dessication</td>\n",
       "      <td>https://terraref.ncsa.illinois.edu/bety/traits...</td>\n",
       "      <td>https://terraref.ncsa.illinois.edu/bety/traits...</td>\n",
       "    </tr>\n",
       "    <tr>\n",
       "      <th>2</th>\n",
       "      <td>3</td>\n",
       "      <td>0</td>\n",
       "      <td>traits</td>\n",
       "      <td>6001958931</td>\n",
       "      <td>6.000000e+09</td>\n",
       "      <td>6000005685</td>\n",
       "      <td>6.000000e+09</td>\n",
       "      <td>MAC Field Scanner Season 4 Range 11 Column 9</td>\n",
       "      <td>Maricopa</td>\n",
       "      <td>33.074907</td>\n",
       "      <td>...</td>\n",
       "      <td>NaN</td>\n",
       "      <td>NaN</td>\n",
       "      <td>NaN</td>\n",
       "      <td>NaN</td>\n",
       "      <td>2</td>\n",
       "      <td>PI52606</td>\n",
       "      <td>NaN</td>\n",
       "      <td>Visual assessment of leaf dessication</td>\n",
       "      <td>https://terraref.ncsa.illinois.edu/bety/traits...</td>\n",
       "      <td>https://terraref.ncsa.illinois.edu/bety/traits...</td>\n",
       "    </tr>\n",
       "    <tr>\n",
       "      <th>3</th>\n",
       "      <td>4</td>\n",
       "      <td>0</td>\n",
       "      <td>traits</td>\n",
       "      <td>6001958933</td>\n",
       "      <td>6.000000e+09</td>\n",
       "      <td>6000005691</td>\n",
       "      <td>6.000000e+09</td>\n",
       "      <td>MAC Field Scanner Season 4 Range 11 Column 11</td>\n",
       "      <td>Maricopa</td>\n",
       "      <td>33.074907</td>\n",
       "      <td>...</td>\n",
       "      <td>NaN</td>\n",
       "      <td>NaN</td>\n",
       "      <td>NaN</td>\n",
       "      <td>NaN</td>\n",
       "      <td>2</td>\n",
       "      <td>PI533792</td>\n",
       "      <td>NaN</td>\n",
       "      <td>Visual assessment of leaf dessication</td>\n",
       "      <td>https://terraref.ncsa.illinois.edu/bety/traits...</td>\n",
       "      <td>https://terraref.ncsa.illinois.edu/bety/traits...</td>\n",
       "    </tr>\n",
       "    <tr>\n",
       "      <th>4</th>\n",
       "      <td>5</td>\n",
       "      <td>0</td>\n",
       "      <td>traits</td>\n",
       "      <td>6001958936</td>\n",
       "      <td>6.000000e+09</td>\n",
       "      <td>6000005700</td>\n",
       "      <td>6.000000e+09</td>\n",
       "      <td>MAC Field Scanner Season 4 Range 11 Column 14</td>\n",
       "      <td>Maricopa</td>\n",
       "      <td>33.074907</td>\n",
       "      <td>...</td>\n",
       "      <td>NaN</td>\n",
       "      <td>NaN</td>\n",
       "      <td>NaN</td>\n",
       "      <td>NaN</td>\n",
       "      <td>2</td>\n",
       "      <td>PI535794</td>\n",
       "      <td>NaN</td>\n",
       "      <td>Visual assessment of leaf dessication</td>\n",
       "      <td>https://terraref.ncsa.illinois.edu/bety/traits...</td>\n",
       "      <td>https://terraref.ncsa.illinois.edu/bety/traits...</td>\n",
       "    </tr>\n",
       "  </tbody>\n",
       "</table>\n",
       "<p>5 rows × 39 columns</p>\n",
       "</div>"
      ],
      "text/plain": [
       "   Unnamed: 0  checked result_type          id   citation_id     site_id  \\\n",
       "0           1        0      traits  6001958927  6.000000e+09  6000005673   \n",
       "1           2        0      traits  6001958928  6.000000e+09  6000005676   \n",
       "2           3        0      traits  6001958931  6.000000e+09  6000005685   \n",
       "3           4        0      traits  6001958933  6.000000e+09  6000005691   \n",
       "4           5        0      traits  6001958936  6.000000e+09  6000005700   \n",
       "\n",
       "   treatment_id                                       sitename      city  \\\n",
       "0  6.000000e+09   MAC Field Scanner Season 4 Range 11 Column 5  Maricopa   \n",
       "1  6.000000e+09   MAC Field Scanner Season 4 Range 11 Column 6  Maricopa   \n",
       "2  6.000000e+09   MAC Field Scanner Season 4 Range 11 Column 9  Maricopa   \n",
       "3  6.000000e+09  MAC Field Scanner Season 4 Range 11 Column 11  Maricopa   \n",
       "4  6.000000e+09  MAC Field Scanner Season 4 Range 11 Column 14  Maricopa   \n",
       "\n",
       "         lat  ...   n statname stat notes  access_level  cultivar entity  \\\n",
       "0  33.074907  ... NaN      NaN  NaN   NaN             2  PI181083    NaN   \n",
       "1  33.074907  ... NaN      NaN  NaN   NaN             2  PI564163    NaN   \n",
       "2  33.074907  ... NaN      NaN  NaN   NaN             2   PI52606    NaN   \n",
       "3  33.074907  ... NaN      NaN  NaN   NaN             2  PI533792    NaN   \n",
       "4  33.074907  ... NaN      NaN  NaN   NaN             2  PI535794    NaN   \n",
       "\n",
       "                             method_name  \\\n",
       "0  Visual assessment of leaf dessication   \n",
       "1  Visual assessment of leaf dessication   \n",
       "2  Visual assessment of leaf dessication   \n",
       "3  Visual assessment of leaf dessication   \n",
       "4  Visual assessment of leaf dessication   \n",
       "\n",
       "                                            view_url  \\\n",
       "0  https://terraref.ncsa.illinois.edu/bety/traits...   \n",
       "1  https://terraref.ncsa.illinois.edu/bety/traits...   \n",
       "2  https://terraref.ncsa.illinois.edu/bety/traits...   \n",
       "3  https://terraref.ncsa.illinois.edu/bety/traits...   \n",
       "4  https://terraref.ncsa.illinois.edu/bety/traits...   \n",
       "\n",
       "                                            edit_url  \n",
       "0  https://terraref.ncsa.illinois.edu/bety/traits...  \n",
       "1  https://terraref.ncsa.illinois.edu/bety/traits...  \n",
       "2  https://terraref.ncsa.illinois.edu/bety/traits...  \n",
       "3  https://terraref.ncsa.illinois.edu/bety/traits...  \n",
       "4  https://terraref.ncsa.illinois.edu/bety/traits...  \n",
       "\n",
       "[5 rows x 39 columns]"
      ]
     },
     "execution_count": 2,
     "metadata": {},
     "output_type": "execute_result"
    }
   ],
   "source": [
    "df_0 = pd.read_csv('../data/raw/mac_season_4.csv')\n",
    "df_0.head()"
   ]
  },
  {
   "cell_type": "code",
   "execution_count": 3,
   "metadata": {},
   "outputs": [
    {
     "data": {
      "text/plain": [
       "Index(['Unnamed: 0', 'checked', 'result_type', 'id', 'citation_id', 'site_id',\n",
       "       'treatment_id', 'sitename', 'city', 'lat', 'lon', 'scientificname',\n",
       "       'commonname', 'genus', 'species_id', 'cultivar_id', 'author',\n",
       "       'citation_year', 'treatment', 'date', 'time', 'raw_date', 'month',\n",
       "       'year', 'dateloc', 'trait', 'trait_description', 'mean', 'units', 'n',\n",
       "       'statname', 'stat', 'notes', 'access_level', 'cultivar', 'entity',\n",
       "       'method_name', 'view_url', 'edit_url'],\n",
       "      dtype='object')"
      ]
     },
     "execution_count": 3,
     "metadata": {},
     "output_type": "execute_result"
    }
   ],
   "source": [
    "df_0.columns"
   ]
  },
  {
   "cell_type": "code",
   "execution_count": 4,
   "metadata": {},
   "outputs": [],
   "source": [
    "df_1 = df_0.drop(labels=['Unnamed: 0', 'checked', 'citation_id', 'city', 'scientificname', 'commonname', 'genus',\n",
    "                        'species_id', 'author', 'citation_year', 'trait_description', 'units', 'n', 'statname',\n",
    "                        'stat', 'access_level', 'view_url', 'edit_url'], axis=1)"
   ]
  },
  {
   "cell_type": "markdown",
   "metadata": {},
   "source": [
    "#### Extract Range and Column Values"
   ]
  },
  {
   "cell_type": "code",
   "execution_count": 5,
   "metadata": {},
   "outputs": [],
   "source": [
    "df_2 = df_1.copy()"
   ]
  },
  {
   "cell_type": "code",
   "execution_count": 6,
   "metadata": {},
   "outputs": [],
   "source": [
    "df_2['range'] = df_2['sitename'].str.extract(\"Range (\\d+)\").astype(int)\n",
    "df_2['column'] = df_2['sitename'].str.extract(\"Column (\\d+)\").astype(int)"
   ]
  },
  {
   "cell_type": "markdown",
   "metadata": {},
   "source": [
    "#### Convert table to wide format\n",
    "* Each trait should have its own column\n",
    "* Rename `mean` column to `value` for easier understanding"
   ]
  },
  {
   "cell_type": "code",
   "execution_count": 7,
   "metadata": {},
   "outputs": [],
   "source": [
    "df_3 = df_2.rename({'mean': 'value'}, axis=1)"
   ]
  },
  {
   "cell_type": "code",
   "execution_count": 8,
   "metadata": {},
   "outputs": [],
   "source": [
    "traits_to_keep = ['leaf_temperature', 'ambient_humidity', 'proximal_air_temperature', 'surface_temperature',\n",
    "                  'aboveground_dry_biomass', 'canopy_height', 'flag_leaf_emergence_time', 'flowering_time',\n",
    "                  'canopy_cover']"
   ]
  },
  {
   "cell_type": "code",
   "execution_count": 9,
   "metadata": {},
   "outputs": [],
   "source": [
    "empty_df = pd.DataFrame(data=df_3, index=df_3.index, columns=traits_to_keep)"
   ]
  },
  {
   "cell_type": "code",
   "execution_count": 10,
   "metadata": {},
   "outputs": [],
   "source": [
    "df_4 = pd.concat([df_3, empty_df.reindex(df_3.index)], axis=1)"
   ]
  },
  {
   "cell_type": "markdown",
   "metadata": {},
   "source": [
    "#### Drop more unecessary (at this time) columns"
   ]
  },
  {
   "cell_type": "code",
   "execution_count": 11,
   "metadata": {},
   "outputs": [],
   "source": [
    "df_5 = df_4.drop(labels=['result_type', 'treatment_id', 'treatment', 'dateloc'], axis=1)"
   ]
  },
  {
   "cell_type": "markdown",
   "metadata": {},
   "source": [
    "#### Populate empty columns with available values"
   ]
  },
  {
   "cell_type": "code",
   "execution_count": 21,
   "metadata": {},
   "outputs": [],
   "source": [
    "# This is very slow - needs refactoring for .py script and reproducible notebook \n",
    "\n",
    "run_slow_stuff = False\n",
    "\n",
    "if run_slow_stuff:\n",
    "\n",
    "    counter = 0\n",
    "\n",
    "    for index, row in df_5.iterrows():            \n",
    "        if counter % 1000 == 0:\n",
    "            print(counter)            \n",
    "            counter += 1\n",
    "        for trait in traits_to_keep:\n",
    "            if row['trait'] == trait:                \n",
    "                df_5.loc[index, [trait]] = row['value']"
   ]
  },
  {
   "cell_type": "markdown",
   "metadata": {},
   "source": [
    "#### Change plots to index"
   ]
  },
  {
   "cell_type": "code",
   "execution_count": 13,
   "metadata": {},
   "outputs": [],
   "source": [
    "df_6 = df_5.set_index('sitename')"
   ]
  },
  {
   "cell_type": "markdown",
   "metadata": {},
   "source": [
    "#### Drop some columns that are redundant or can be explained in data dictionary\n",
    "* `month`\n",
    "* `year`\n",
    "* `notes`\n",
    "* `trait` - now have trait values in wide format (one column per trait requested for this iteration of dataset)\n",
    "* `method_name`\n",
    "* `notes` "
   ]
  },
  {
   "cell_type": "code",
   "execution_count": 14,
   "metadata": {},
   "outputs": [],
   "source": [
    "df_6.drop(labels=['month', 'year', 'notes', 'trait', 'method_name', 'notes'], axis=1, inplace=True)"
   ]
  },
  {
   "cell_type": "markdown",
   "metadata": {},
   "source": [
    "#### Read in `df_6` "
   ]
  },
  {
   "cell_type": "code",
   "execution_count": 15,
   "metadata": {},
   "outputs": [],
   "source": [
    "# df_6 = pd.read_csv(('../data/processed/pheno-table_populated_traits_2019-11-18T071126.csv')"
   ]
  },
  {
   "cell_type": "markdown",
   "metadata": {},
   "source": [
    "#### Calculate average canopy heights\n",
    "1. Convert df to sqlite db\n",
    "2. Group by range and column values (to bypass the current E and W plots which are still in the dataset) and date \n",
    "3. Generate average canopy height values to add to dataset"
   ]
  },
  {
   "cell_type": "markdown",
   "metadata": {},
   "source": [
    "#### Establish connection to sqlite db"
   ]
  },
  {
   "cell_type": "code",
   "execution_count": 41,
   "metadata": {},
   "outputs": [
    {
     "name": "stdout",
     "output_type": "stream",
     "text": [
      "Opened database successfully\n"
     ]
    }
   ],
   "source": [
    "conn = sqlite3.connect('season_4_phenos.sqlite')\n",
    "cursor = conn.cursor()\n",
    "print(\"Opened database successfully\")"
   ]
  },
  {
   "cell_type": "markdown",
   "metadata": {},
   "source": [
    "#### Convert df to sqlite db and generate average canopy height df"
   ]
  },
  {
   "cell_type": "code",
   "execution_count": 42,
   "metadata": {},
   "outputs": [],
   "source": [
    "df_6.to_sql('season_4_phenos.sqlite', conn)"
   ]
  },
  {
   "cell_type": "code",
   "execution_count": 47,
   "metadata": {},
   "outputs": [],
   "source": [
    "avg_canopy_heights = pd.read_sql_query(\"\"\"\n",
    "                                        Select range, column, date, avg(canopy_height)\n",
    "                                        FROM 'season_4_phenos.sqlite'\n",
    "                                        WHERE canopy_height NOTNULL\n",
    "                                        GROUP BY range, column, date\n",
    "                                        ORDER BY date DESC;\n",
    "                                        \"\"\", conn)"
   ]
  },
  {
   "cell_type": "code",
   "execution_count": 48,
   "metadata": {},
   "outputs": [
    {
     "data": {
      "text/html": [
       "<div>\n",
       "<style scoped>\n",
       "    .dataframe tbody tr th:only-of-type {\n",
       "        vertical-align: middle;\n",
       "    }\n",
       "\n",
       "    .dataframe tbody tr th {\n",
       "        vertical-align: top;\n",
       "    }\n",
       "\n",
       "    .dataframe thead th {\n",
       "        text-align: right;\n",
       "    }\n",
       "</style>\n",
       "<table border=\"1\" class=\"dataframe\">\n",
       "  <thead>\n",
       "    <tr style=\"text-align: right;\">\n",
       "      <th></th>\n",
       "      <th>range</th>\n",
       "      <th>column</th>\n",
       "      <th>date</th>\n",
       "      <th>avg(canopy_height)</th>\n",
       "    </tr>\n",
       "  </thead>\n",
       "  <tbody>\n",
       "    <tr>\n",
       "      <th>0</th>\n",
       "      <td>2</td>\n",
       "      <td>2</td>\n",
       "      <td>2017 May 8</td>\n",
       "      <td>13.0</td>\n",
       "    </tr>\n",
       "    <tr>\n",
       "      <th>1</th>\n",
       "      <td>2</td>\n",
       "      <td>3</td>\n",
       "      <td>2017 May 8</td>\n",
       "      <td>14.0</td>\n",
       "    </tr>\n",
       "    <tr>\n",
       "      <th>2</th>\n",
       "      <td>2</td>\n",
       "      <td>4</td>\n",
       "      <td>2017 May 8</td>\n",
       "      <td>12.0</td>\n",
       "    </tr>\n",
       "    <tr>\n",
       "      <th>3</th>\n",
       "      <td>2</td>\n",
       "      <td>5</td>\n",
       "      <td>2017 May 8</td>\n",
       "      <td>13.0</td>\n",
       "    </tr>\n",
       "    <tr>\n",
       "      <th>4</th>\n",
       "      <td>2</td>\n",
       "      <td>6</td>\n",
       "      <td>2017 May 8</td>\n",
       "      <td>13.0</td>\n",
       "    </tr>\n",
       "  </tbody>\n",
       "</table>\n",
       "</div>"
      ],
      "text/plain": [
       "   range  column        date  avg(canopy_height)\n",
       "0      2       2  2017 May 8                13.0\n",
       "1      2       3  2017 May 8                14.0\n",
       "2      2       4  2017 May 8                12.0\n",
       "3      2       5  2017 May 8                13.0\n",
       "4      2       6  2017 May 8                13.0"
      ]
     },
     "execution_count": 48,
     "metadata": {},
     "output_type": "execute_result"
    }
   ],
   "source": [
    "# avg_canopy_heights.head()"
   ]
  },
  {
   "cell_type": "markdown",
   "metadata": {},
   "source": [
    "#### Join `avg_canopy_heights` df with main df"
   ]
  },
  {
   "cell_type": "code",
   "execution_count": 50,
   "metadata": {},
   "outputs": [
    {
     "data": {
      "text/plain": [
       "(34834, 4)"
      ]
     },
     "execution_count": 50,
     "metadata": {},
     "output_type": "execute_result"
    }
   ],
   "source": [
    "# avg_canopy_heights.shape"
   ]
  },
  {
   "cell_type": "code",
   "execution_count": 53,
   "metadata": {},
   "outputs": [],
   "source": [
    "df_7 = pd.merge(left= df_6, right=avg_canopy_heights, on=['range', 'column', 'date'], left_index=True)"
   ]
  },
  {
   "cell_type": "code",
   "execution_count": 54,
   "metadata": {},
   "outputs": [
    {
     "data": {
      "text/plain": [
       "(186874, 23)"
      ]
     },
     "execution_count": 54,
     "metadata": {},
     "output_type": "execute_result"
    }
   ],
   "source": [
    "df_7.shape"
   ]
  },
  {
   "cell_type": "code",
   "execution_count": 55,
   "metadata": {},
   "outputs": [
    {
     "data": {
      "text/plain": [
       "(372363, 22)"
      ]
     },
     "execution_count": 55,
     "metadata": {},
     "output_type": "execute_result"
    }
   ],
   "source": [
    "df_6.shape"
   ]
  },
  {
   "cell_type": "code",
   "execution_count": 56,
   "metadata": {},
   "outputs": [
    {
     "data": {
      "text/plain": [
       "True     356686\n",
       "False     15677\n",
       "dtype: int64"
      ]
     },
     "execution_count": 56,
     "metadata": {},
     "output_type": "execute_result"
    }
   ],
   "source": [
    "# sanity check\n",
    "# duplicated might be including null values, which is why the number of True values is higher than the number of rows\n",
    "# generated by the SQL query\n",
    "\n",
    "df_6.duplicated(subset=['range', 'column', 'date'], keep=False, ).value_counts()"
   ]
  },
  {
   "cell_type": "code",
   "execution_count": null,
   "metadata": {},
   "outputs": [],
   "source": []
  },
  {
   "cell_type": "code",
   "execution_count": null,
   "metadata": {},
   "outputs": [],
   "source": []
  },
  {
   "cell_type": "markdown",
   "metadata": {},
   "source": [
    "#### Add temperatures to calculate GDD"
   ]
  },
  {
   "cell_type": "code",
   "execution_count": null,
   "metadata": {},
   "outputs": [],
   "source": []
  },
  {
   "cell_type": "markdown",
   "metadata": {},
   "source": [
    "#### Add growing degree days"
   ]
  },
  {
   "cell_type": "code",
   "execution_count": null,
   "metadata": {},
   "outputs": [],
   "source": [
    "# from tutorials\n",
    "\n",
    "#   mutate(date = as.Date(time), \n",
    "#          air_temp_converted = air_temperature - 273.15) %>% \n",
    "#   group_by(date) %>% \n",
    "#   summarise(min_temp = min(air_temp_converted), \n",
    "#             max_temp = max(air_temp_converted), \n",
    "#             gdd = ifelse(sum(min_temp, max_temp) / 2 > 10, \n",
    "#                          (max_temp + min_temp) / 2 - 10, 0))"
   ]
  },
  {
   "cell_type": "markdown",
   "metadata": {},
   "source": [
    "#### Add max canopy height"
   ]
  },
  {
   "cell_type": "markdown",
   "metadata": {},
   "source": [
    "#### Re-order column names"
   ]
  },
  {
   "cell_type": "markdown",
   "metadata": {},
   "source": [
    "#### Add planting date column"
   ]
  },
  {
   "cell_type": "code",
   "execution_count": null,
   "metadata": {},
   "outputs": [],
   "source": []
  },
  {
   "cell_type": "code",
   "execution_count": 16,
   "metadata": {},
   "outputs": [],
   "source": [
    "# Update df_* with timestamp\n",
    "# df_6 will be renamed\n",
    "\n",
    "timestamp = datetime.datetime.now().replace(microsecond=0).isoformat()\n",
    "output_filename = f'pheno-table_{timestamp}.csv'.replace(':', '')\n",
    "df_6.to_csv(f'../data/processed/{output_filename}')"
   ]
  }
 ],
 "metadata": {
  "kernelspec": {
   "display_name": "Python 3",
   "language": "python",
   "name": "python3"
  },
  "language_info": {
   "codemirror_mode": {
    "name": "ipython",
    "version": 3
   },
   "file_extension": ".py",
   "mimetype": "text/x-python",
   "name": "python",
   "nbconvert_exporter": "python",
   "pygments_lexer": "ipython3",
   "version": "3.7.5"
  }
 },
 "nbformat": 4,
 "nbformat_minor": 2
}
