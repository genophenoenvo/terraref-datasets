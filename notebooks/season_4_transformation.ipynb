{
 "cells": [
  {
   "cell_type": "markdown",
   "metadata": {},
   "source": [
    "## Query betydb for phenotypes dataset\n",
    "* Season 4 & Season 6\n",
    "* Wide format: one row per plot\n",
    "* Days to Emergence\n",
    "* Days to Flowering\n",
    "* Aboveground dry biomass"
   ]
  },
  {
   "cell_type": "code",
   "execution_count": 642,
   "metadata": {
    "pycharm": {
     "is_executing": false
    }
   },
   "outputs": [],
   "source": [
    "import numpy as np\n",
    "import pandas as pd\n",
    "\n",
    "import matplotlib.pyplot as plt\n",
    "\n",
    "%matplotlib inline"
   ]
  },
  {
   "cell_type": "code",
   "execution_count": 643,
   "metadata": {
    "pycharm": {
     "is_executing": false
    }
   },
   "outputs": [],
   "source": [
    "# %pwd\n",
    "# %cd '/Users/ejcain/Dev/UA-AG/phenotypes/terraref-datasets/'"
   ]
  },
  {
   "cell_type": "code",
   "execution_count": 644,
   "metadata": {
    "pycharm": {
     "is_executing": false
    }
   },
   "outputs": [
    {
     "data": {
      "text/plain": "   Unnamed: 0  checked result_type          id   citation_id     site_id  \\\n0           1        0      traits  6001958927  6.000000e+09  6000005673   \n1           2        0      traits  6001958928  6.000000e+09  6000005676   \n2           3        0      traits  6001958931  6.000000e+09  6000005685   \n3           4        0      traits  6001958933  6.000000e+09  6000005691   \n4           5        0      traits  6001958936  6.000000e+09  6000005700   \n\n   treatment_id                                       sitename      city  \\\n0  6.000000e+09   MAC Field Scanner Season 4 Range 11 Column 5  Maricopa   \n1  6.000000e+09   MAC Field Scanner Season 4 Range 11 Column 6  Maricopa   \n2  6.000000e+09   MAC Field Scanner Season 4 Range 11 Column 9  Maricopa   \n3  6.000000e+09  MAC Field Scanner Season 4 Range 11 Column 11  Maricopa   \n4  6.000000e+09  MAC Field Scanner Season 4 Range 11 Column 14  Maricopa   \n\n         lat  ...   n statname stat notes  access_level  cultivar entity  \\\n0  33.074907  ... NaN      NaN  NaN   NaN             2  PI181083    NaN   \n1  33.074907  ... NaN      NaN  NaN   NaN             2  PI564163    NaN   \n2  33.074907  ... NaN      NaN  NaN   NaN             2   PI52606    NaN   \n3  33.074907  ... NaN      NaN  NaN   NaN             2  PI533792    NaN   \n4  33.074907  ... NaN      NaN  NaN   NaN             2  PI535794    NaN   \n\n                             method_name  \\\n0  Visual assessment of leaf dessication   \n1  Visual assessment of leaf dessication   \n2  Visual assessment of leaf dessication   \n3  Visual assessment of leaf dessication   \n4  Visual assessment of leaf dessication   \n\n                                            view_url  \\\n0  https://terraref.ncsa.illinois.edu/bety/traits...   \n1  https://terraref.ncsa.illinois.edu/bety/traits...   \n2  https://terraref.ncsa.illinois.edu/bety/traits...   \n3  https://terraref.ncsa.illinois.edu/bety/traits...   \n4  https://terraref.ncsa.illinois.edu/bety/traits...   \n\n                                            edit_url  \n0  https://terraref.ncsa.illinois.edu/bety/traits...  \n1  https://terraref.ncsa.illinois.edu/bety/traits...  \n2  https://terraref.ncsa.illinois.edu/bety/traits...  \n3  https://terraref.ncsa.illinois.edu/bety/traits...  \n4  https://terraref.ncsa.illinois.edu/bety/traits...  \n\n[5 rows x 39 columns]",
      "text/html": "<div>\n<style scoped>\n    .dataframe tbody tr th:only-of-type {\n        vertical-align: middle;\n    }\n\n    .dataframe tbody tr th {\n        vertical-align: top;\n    }\n\n    .dataframe thead th {\n        text-align: right;\n    }\n</style>\n<table border=\"1\" class=\"dataframe\">\n  <thead>\n    <tr style=\"text-align: right;\">\n      <th></th>\n      <th>Unnamed: 0</th>\n      <th>checked</th>\n      <th>result_type</th>\n      <th>id</th>\n      <th>citation_id</th>\n      <th>site_id</th>\n      <th>treatment_id</th>\n      <th>sitename</th>\n      <th>city</th>\n      <th>lat</th>\n      <th>...</th>\n      <th>n</th>\n      <th>statname</th>\n      <th>stat</th>\n      <th>notes</th>\n      <th>access_level</th>\n      <th>cultivar</th>\n      <th>entity</th>\n      <th>method_name</th>\n      <th>view_url</th>\n      <th>edit_url</th>\n    </tr>\n  </thead>\n  <tbody>\n    <tr>\n      <th>0</th>\n      <td>1</td>\n      <td>0</td>\n      <td>traits</td>\n      <td>6001958927</td>\n      <td>6.000000e+09</td>\n      <td>6000005673</td>\n      <td>6.000000e+09</td>\n      <td>MAC Field Scanner Season 4 Range 11 Column 5</td>\n      <td>Maricopa</td>\n      <td>33.074907</td>\n      <td>...</td>\n      <td>NaN</td>\n      <td>NaN</td>\n      <td>NaN</td>\n      <td>NaN</td>\n      <td>2</td>\n      <td>PI181083</td>\n      <td>NaN</td>\n      <td>Visual assessment of leaf dessication</td>\n      <td>https://terraref.ncsa.illinois.edu/bety/traits...</td>\n      <td>https://terraref.ncsa.illinois.edu/bety/traits...</td>\n    </tr>\n    <tr>\n      <th>1</th>\n      <td>2</td>\n      <td>0</td>\n      <td>traits</td>\n      <td>6001958928</td>\n      <td>6.000000e+09</td>\n      <td>6000005676</td>\n      <td>6.000000e+09</td>\n      <td>MAC Field Scanner Season 4 Range 11 Column 6</td>\n      <td>Maricopa</td>\n      <td>33.074907</td>\n      <td>...</td>\n      <td>NaN</td>\n      <td>NaN</td>\n      <td>NaN</td>\n      <td>NaN</td>\n      <td>2</td>\n      <td>PI564163</td>\n      <td>NaN</td>\n      <td>Visual assessment of leaf dessication</td>\n      <td>https://terraref.ncsa.illinois.edu/bety/traits...</td>\n      <td>https://terraref.ncsa.illinois.edu/bety/traits...</td>\n    </tr>\n    <tr>\n      <th>2</th>\n      <td>3</td>\n      <td>0</td>\n      <td>traits</td>\n      <td>6001958931</td>\n      <td>6.000000e+09</td>\n      <td>6000005685</td>\n      <td>6.000000e+09</td>\n      <td>MAC Field Scanner Season 4 Range 11 Column 9</td>\n      <td>Maricopa</td>\n      <td>33.074907</td>\n      <td>...</td>\n      <td>NaN</td>\n      <td>NaN</td>\n      <td>NaN</td>\n      <td>NaN</td>\n      <td>2</td>\n      <td>PI52606</td>\n      <td>NaN</td>\n      <td>Visual assessment of leaf dessication</td>\n      <td>https://terraref.ncsa.illinois.edu/bety/traits...</td>\n      <td>https://terraref.ncsa.illinois.edu/bety/traits...</td>\n    </tr>\n    <tr>\n      <th>3</th>\n      <td>4</td>\n      <td>0</td>\n      <td>traits</td>\n      <td>6001958933</td>\n      <td>6.000000e+09</td>\n      <td>6000005691</td>\n      <td>6.000000e+09</td>\n      <td>MAC Field Scanner Season 4 Range 11 Column 11</td>\n      <td>Maricopa</td>\n      <td>33.074907</td>\n      <td>...</td>\n      <td>NaN</td>\n      <td>NaN</td>\n      <td>NaN</td>\n      <td>NaN</td>\n      <td>2</td>\n      <td>PI533792</td>\n      <td>NaN</td>\n      <td>Visual assessment of leaf dessication</td>\n      <td>https://terraref.ncsa.illinois.edu/bety/traits...</td>\n      <td>https://terraref.ncsa.illinois.edu/bety/traits...</td>\n    </tr>\n    <tr>\n      <th>4</th>\n      <td>5</td>\n      <td>0</td>\n      <td>traits</td>\n      <td>6001958936</td>\n      <td>6.000000e+09</td>\n      <td>6000005700</td>\n      <td>6.000000e+09</td>\n      <td>MAC Field Scanner Season 4 Range 11 Column 14</td>\n      <td>Maricopa</td>\n      <td>33.074907</td>\n      <td>...</td>\n      <td>NaN</td>\n      <td>NaN</td>\n      <td>NaN</td>\n      <td>NaN</td>\n      <td>2</td>\n      <td>PI535794</td>\n      <td>NaN</td>\n      <td>Visual assessment of leaf dessication</td>\n      <td>https://terraref.ncsa.illinois.edu/bety/traits...</td>\n      <td>https://terraref.ncsa.illinois.edu/bety/traits...</td>\n    </tr>\n  </tbody>\n</table>\n<p>5 rows × 39 columns</p>\n</div>"
     },
     "metadata": {},
     "output_type": "execute_result",
     "execution_count": 644
    }
   ],
   "source": [
    "# MAC Season 4 \n",
    "\n",
    "mac_season_4_df = pd.read_csv('../data/raw/mac_season_4.csv')\n",
    "mac_season_4_df.head()"
   ]
  },
  {
   "cell_type": "code",
   "execution_count": 645,
   "metadata": {
    "collapsed": true,
    "jupyter": {
     "outputs_hidden": true
    },
    "pycharm": {
     "is_executing": false
    }
   },
   "outputs": [
    {
     "data": {
      "text/plain": "   Unnamed: 0  checked result_type          id   citation_id     site_id  \\\n0           1        0      traits  6001958927  6.000000e+09  6000005673   \n1           2        0      traits  6001958928  6.000000e+09  6000005676   \n2           3        0      traits  6001958931  6.000000e+09  6000005685   \n3           4        0      traits  6001958933  6.000000e+09  6000005691   \n4           5        0      traits  6001958936  6.000000e+09  6000005700   \n\n   treatment_id                                       sitename      city  \\\n0  6.000000e+09   MAC Field Scanner Season 4 Range 11 Column 5  Maricopa   \n1  6.000000e+09   MAC Field Scanner Season 4 Range 11 Column 6  Maricopa   \n2  6.000000e+09   MAC Field Scanner Season 4 Range 11 Column 9  Maricopa   \n3  6.000000e+09  MAC Field Scanner Season 4 Range 11 Column 11  Maricopa   \n4  6.000000e+09  MAC Field Scanner Season 4 Range 11 Column 14  Maricopa   \n\n         lat  ...   n statname stat notes  access_level  cultivar entity  \\\n0  33.074907  ... NaN      NaN  NaN   NaN             2  PI181083    NaN   \n1  33.074907  ... NaN      NaN  NaN   NaN             2  PI564163    NaN   \n2  33.074907  ... NaN      NaN  NaN   NaN             2   PI52606    NaN   \n3  33.074907  ... NaN      NaN  NaN   NaN             2  PI533792    NaN   \n4  33.074907  ... NaN      NaN  NaN   NaN             2  PI535794    NaN   \n\n                             method_name  \\\n0  Visual assessment of leaf dessication   \n1  Visual assessment of leaf dessication   \n2  Visual assessment of leaf dessication   \n3  Visual assessment of leaf dessication   \n4  Visual assessment of leaf dessication   \n\n                                            view_url  \\\n0  https://terraref.ncsa.illinois.edu/bety/traits...   \n1  https://terraref.ncsa.illinois.edu/bety/traits...   \n2  https://terraref.ncsa.illinois.edu/bety/traits...   \n3  https://terraref.ncsa.illinois.edu/bety/traits...   \n4  https://terraref.ncsa.illinois.edu/bety/traits...   \n\n                                            edit_url  \n0  https://terraref.ncsa.illinois.edu/bety/traits...  \n1  https://terraref.ncsa.illinois.edu/bety/traits...  \n2  https://terraref.ncsa.illinois.edu/bety/traits...  \n3  https://terraref.ncsa.illinois.edu/bety/traits...  \n4  https://terraref.ncsa.illinois.edu/bety/traits...  \n\n[5 rows x 39 columns]",
      "text/html": "<div>\n<style scoped>\n    .dataframe tbody tr th:only-of-type {\n        vertical-align: middle;\n    }\n\n    .dataframe tbody tr th {\n        vertical-align: top;\n    }\n\n    .dataframe thead th {\n        text-align: right;\n    }\n</style>\n<table border=\"1\" class=\"dataframe\">\n  <thead>\n    <tr style=\"text-align: right;\">\n      <th></th>\n      <th>Unnamed: 0</th>\n      <th>checked</th>\n      <th>result_type</th>\n      <th>id</th>\n      <th>citation_id</th>\n      <th>site_id</th>\n      <th>treatment_id</th>\n      <th>sitename</th>\n      <th>city</th>\n      <th>lat</th>\n      <th>...</th>\n      <th>n</th>\n      <th>statname</th>\n      <th>stat</th>\n      <th>notes</th>\n      <th>access_level</th>\n      <th>cultivar</th>\n      <th>entity</th>\n      <th>method_name</th>\n      <th>view_url</th>\n      <th>edit_url</th>\n    </tr>\n  </thead>\n  <tbody>\n    <tr>\n      <th>0</th>\n      <td>1</td>\n      <td>0</td>\n      <td>traits</td>\n      <td>6001958927</td>\n      <td>6.000000e+09</td>\n      <td>6000005673</td>\n      <td>6.000000e+09</td>\n      <td>MAC Field Scanner Season 4 Range 11 Column 5</td>\n      <td>Maricopa</td>\n      <td>33.074907</td>\n      <td>...</td>\n      <td>NaN</td>\n      <td>NaN</td>\n      <td>NaN</td>\n      <td>NaN</td>\n      <td>2</td>\n      <td>PI181083</td>\n      <td>NaN</td>\n      <td>Visual assessment of leaf dessication</td>\n      <td>https://terraref.ncsa.illinois.edu/bety/traits...</td>\n      <td>https://terraref.ncsa.illinois.edu/bety/traits...</td>\n    </tr>\n    <tr>\n      <th>1</th>\n      <td>2</td>\n      <td>0</td>\n      <td>traits</td>\n      <td>6001958928</td>\n      <td>6.000000e+09</td>\n      <td>6000005676</td>\n      <td>6.000000e+09</td>\n      <td>MAC Field Scanner Season 4 Range 11 Column 6</td>\n      <td>Maricopa</td>\n      <td>33.074907</td>\n      <td>...</td>\n      <td>NaN</td>\n      <td>NaN</td>\n      <td>NaN</td>\n      <td>NaN</td>\n      <td>2</td>\n      <td>PI564163</td>\n      <td>NaN</td>\n      <td>Visual assessment of leaf dessication</td>\n      <td>https://terraref.ncsa.illinois.edu/bety/traits...</td>\n      <td>https://terraref.ncsa.illinois.edu/bety/traits...</td>\n    </tr>\n    <tr>\n      <th>2</th>\n      <td>3</td>\n      <td>0</td>\n      <td>traits</td>\n      <td>6001958931</td>\n      <td>6.000000e+09</td>\n      <td>6000005685</td>\n      <td>6.000000e+09</td>\n      <td>MAC Field Scanner Season 4 Range 11 Column 9</td>\n      <td>Maricopa</td>\n      <td>33.074907</td>\n      <td>...</td>\n      <td>NaN</td>\n      <td>NaN</td>\n      <td>NaN</td>\n      <td>NaN</td>\n      <td>2</td>\n      <td>PI52606</td>\n      <td>NaN</td>\n      <td>Visual assessment of leaf dessication</td>\n      <td>https://terraref.ncsa.illinois.edu/bety/traits...</td>\n      <td>https://terraref.ncsa.illinois.edu/bety/traits...</td>\n    </tr>\n    <tr>\n      <th>3</th>\n      <td>4</td>\n      <td>0</td>\n      <td>traits</td>\n      <td>6001958933</td>\n      <td>6.000000e+09</td>\n      <td>6000005691</td>\n      <td>6.000000e+09</td>\n      <td>MAC Field Scanner Season 4 Range 11 Column 11</td>\n      <td>Maricopa</td>\n      <td>33.074907</td>\n      <td>...</td>\n      <td>NaN</td>\n      <td>NaN</td>\n      <td>NaN</td>\n      <td>NaN</td>\n      <td>2</td>\n      <td>PI533792</td>\n      <td>NaN</td>\n      <td>Visual assessment of leaf dessication</td>\n      <td>https://terraref.ncsa.illinois.edu/bety/traits...</td>\n      <td>https://terraref.ncsa.illinois.edu/bety/traits...</td>\n    </tr>\n    <tr>\n      <th>4</th>\n      <td>5</td>\n      <td>0</td>\n      <td>traits</td>\n      <td>6001958936</td>\n      <td>6.000000e+09</td>\n      <td>6000005700</td>\n      <td>6.000000e+09</td>\n      <td>MAC Field Scanner Season 4 Range 11 Column 14</td>\n      <td>Maricopa</td>\n      <td>33.074907</td>\n      <td>...</td>\n      <td>NaN</td>\n      <td>NaN</td>\n      <td>NaN</td>\n      <td>NaN</td>\n      <td>2</td>\n      <td>PI535794</td>\n      <td>NaN</td>\n      <td>Visual assessment of leaf dessication</td>\n      <td>https://terraref.ncsa.illinois.edu/bety/traits...</td>\n      <td>https://terraref.ncsa.illinois.edu/bety/traits...</td>\n    </tr>\n  </tbody>\n</table>\n<p>5 rows × 39 columns</p>\n</div>"
     },
     "metadata": {},
     "output_type": "execute_result",
     "execution_count": 645
    }
   ],
   "source": [
    "# try specifying dtype to eliminate DtypeWarning\n",
    "\n",
    "df2 = pd.read_csv('../data/raw/mac_season_4.csv', sep=',', dtype={'a': str})\n",
    "df2.head()"
   ]
  },
  {
   "cell_type": "code",
   "execution_count": 646,
   "metadata": {
    "pycharm": {
     "is_executing": false
    }
   },
   "outputs": [
    {
     "data": {
      "text/plain": "(372363, 39)"
     },
     "metadata": {},
     "output_type": "execute_result",
     "execution_count": 646
    }
   ],
   "source": [
    "# confirm same shape from R\n",
    "\n",
    "df2.shape"
   ]
  },
  {
   "cell_type": "code",
   "execution_count": 647,
   "metadata": {
    "pycharm": {
     "is_executing": false
    }
   },
   "outputs": [
    {
     "data": {
      "text/plain": "Index(['Unnamed: 0', 'checked', 'result_type', 'id', 'citation_id', 'site_id',\n       'treatment_id', 'sitename', 'city', 'lat', 'lon', 'scientificname',\n       'commonname', 'genus', 'species_id', 'cultivar_id', 'author',\n       'citation_year', 'treatment', 'date', 'time', 'raw_date', 'month',\n       'year', 'dateloc', 'trait', 'trait_description', 'mean', 'units', 'n',\n       'statname', 'stat', 'notes', 'access_level', 'cultivar', 'entity',\n       'method_name', 'view_url', 'edit_url'],\n      dtype='object')"
     },
     "metadata": {},
     "output_type": "execute_result",
     "execution_count": 647
    }
   ],
   "source": [
    "df2.columns"
   ]
  },
  {
   "cell_type": "code",
   "execution_count": 648,
   "metadata": {
    "pycharm": {
     "is_executing": false
    }
   },
   "outputs": [
    {
     "name": "stdout",
     "text": [
      "treatment notes entity\n"
     ],
     "output_type": "stream"
    }
   ],
   "source": [
    "# mixed dtypes in columns 18, 32, 35\n",
    "\n",
    "print(df2.columns[18], df2.columns[32], df2.columns[35])"
   ]
  },
  {
   "cell_type": "code",
   "execution_count": 649,
   "metadata": {
    "pycharm": {
     "is_executing": false
    }
   },
   "outputs": [
    {
     "data": {
      "text/plain": "0    BAP 2017, water-deficit stress Aug 1-14\n1    BAP 2017, water-deficit stress Aug 1-14\n2    BAP 2017, water-deficit stress Aug 1-14\n3    BAP 2017, water-deficit stress Aug 1-14\n4    BAP 2017, water-deficit stress Aug 1-14\nName: treatment, dtype: object"
     },
     "metadata": {},
     "output_type": "execute_result",
     "execution_count": 649
    }
   ],
   "source": [
    "df2['treatment'].head()"
   ]
  },
  {
   "cell_type": "code",
   "execution_count": 650,
   "metadata": {
    "pycharm": {
     "is_executing": false
    }
   },
   "outputs": [
    {
     "data": {
      "text/plain": "0    NaN\n1    NaN\n2    NaN\n3    NaN\n4    NaN\nName: notes, dtype: object"
     },
     "metadata": {},
     "output_type": "execute_result",
     "execution_count": 650
    }
   ],
   "source": [
    "df2['notes'].head()"
   ]
  },
  {
   "cell_type": "code",
   "execution_count": 651,
   "metadata": {
    "pycharm": {
     "is_executing": false
    }
   },
   "outputs": [
    {
     "data": {
      "text/plain": "0    NaN\n1    NaN\n2    NaN\n3    NaN\n4    NaN\nName: entity, dtype: object"
     },
     "metadata": {},
     "output_type": "execute_result",
     "execution_count": 651
    }
   ],
   "source": [
    "df2['entity'].head()"
   ]
  },
  {
   "cell_type": "code",
   "execution_count": 652,
   "metadata": {
    "pycharm": {
     "is_executing": false
    }
   },
   "outputs": [
    {
     "data": {
      "text/plain": "array(['traits'], dtype=object)"
     },
     "metadata": {},
     "output_type": "execute_result",
     "execution_count": 652
    }
   ],
   "source": [
    "df2.result_type.unique()"
   ]
  },
  {
   "cell_type": "code",
   "execution_count": 653,
   "metadata": {
    "pycharm": {
     "is_executing": false
    }
   },
   "outputs": [
    {
     "data": {
      "text/plain": "Unnamed: 0                                                           6\nchecked                                                              0\nresult_type                                                     traits\nid                                                          6001958937\ncitation_id                                                      6e+09\nsite_id                                                     6000005703\ntreatment_id                                                     6e+09\nsitename                 MAC Field Scanner Season 4 Range 11 Column 15\ncity                                                          Maricopa\nlat                                                            33.0749\nlon                                                           -111.975\nscientificname                                         Sorghum bicolor\ncommonname                                                     sorghum\ngenus                                                          Sorghum\nspecies_id                                                        2588\ncultivar_id                                                 6000000871\nauthor                                                  Newcomb, Maria\ncitation_year                                                     2017\ntreatment                      BAP 2017, water-deficit stress Aug 1-14\ndate                                     2017 Jun 14 (America/Phoenix)\ntime                                     [time unspecified or unknown]\nraw_date                                     2017-06-15 00:00:00 -0500\nmonth                                                                6\nyear                                                              2017\ndateloc                                                              5\ntrait                                         leaf_desiccation_present\ntrait_description    Presence or absence of leaves showing desiccat...\nmean                                                                 0\nunits                                                              NaN\nn                                                                  NaN\nstatname                                                           NaN\nstat                                                               NaN\nnotes                                                              NaN\naccess_level                                                         2\ncultivar                                                      PI535796\nentity                                                             NaN\nmethod_name                      Visual assessment of leaf dessication\nview_url             https://terraref.ncsa.illinois.edu/bety/traits...\nedit_url             https://terraref.ncsa.illinois.edu/bety/traits...\nName: 5, dtype: object"
     },
     "metadata": {},
     "output_type": "execute_result",
     "execution_count": 653
    }
   ],
   "source": [
    "df2.iloc[5]"
   ]
  },
  {
   "cell_type": "code",
   "execution_count": 654,
   "metadata": {
    "pycharm": {
     "is_executing": false
    }
   },
   "outputs": [
    {
     "data": {
      "text/plain": "array(['leaf_desiccation_present', 'lodging_present', 'leaf_temperature',\n       'planter_seed_drop', 'roll', 'PhiNO', 'PhiNPQ', 'absorbance_530',\n       'absorbance_605', 'absorbance_730', 'absorbance_880',\n       'absorbance_940', 'Fs', 'NPQt', 'qL', 'qP', 'RFd', 'SPAD_530',\n       'SPAD_605', 'SPAD_730', 'leaf_thickness', 'ambient_humidity',\n       'leaf_angle_clamp_position', 'pitch', 'proximal_air_temperature',\n       'FvP/FmP', 'gH+', 'ECSt', 'leaf_temperature_differential', 'Phi2',\n       'relative_chlorophyll', 'FmPrime', 'FoPrime', 'LEF', 'SPAD_420',\n       'SPAD_650', 'SPAD_850', 'SPAD_880', 'light_intensity_PAR', 'vH+',\n       'absorbance_650', 'absorbance_850', 'absorbance_420',\n       'surface_temperature', 'leaf_angle_chi', 'leaf_angle_mean',\n       'leaf_angle_alpha', 'leaf_angle_beta', 'aboveground_dry_biomass',\n       'seedling_emergence_rate', 'panicle_height', 'stand_count',\n       'dry_matter_fraction', 'harvest_lodging_rating', 'canopy_height',\n       'anthocyanin_index', 'chlorophyll_index',\n       'flag_leaf_emergence_time', 'flowering_time', 'grain_stage_time',\n       'leaf_length', 'leaf_width', 'leaf_stomatal_conductance',\n       'aboveground_biomass_moisture', 'aboveground_fresh_biomass',\n       'canopy_cover', 'panicle_count', 'panicle_volume',\n       'panicle_surface_area', 'stem_elongated_internodes_number',\n       'emergence_count', 'stalk_diameter_fixed_height',\n       'stalk_diameter_minor_axis', 'stalk_diameter_major_axis',\n       'plant_basal_tiller_number'], dtype=object)"
     },
     "metadata": {},
     "output_type": "execute_result",
     "execution_count": 654
    }
   ],
   "source": [
    "df2.trait.unique()"
   ]
  },
  {
   "cell_type": "code",
   "execution_count": 655,
   "metadata": {
    "pycharm": {
     "is_executing": false
    }
   },
   "outputs": [
    {
     "data": {
      "text/plain": "2202"
     },
     "metadata": {},
     "output_type": "execute_result",
     "execution_count": 655
    }
   ],
   "source": [
    "df2.sitename.nunique()"
   ]
  },
  {
   "cell_type": "code",
   "execution_count": 656,
   "metadata": {
    "pycharm": {
     "is_executing": false
    }
   },
   "outputs": [
    {
     "data": {
      "text/plain": "2202"
     },
     "metadata": {},
     "output_type": "execute_result",
     "execution_count": 656
    }
   ],
   "source": [
    "df2.site_id.nunique()"
   ]
  },
  {
   "cell_type": "code",
   "execution_count": 657,
   "metadata": {
    "pycharm": {
     "is_executing": false
    }
   },
   "outputs": [
    {
     "data": {
      "text/plain": "array(['MAC Field Scanner Season 4 Range 11 Column 5',\n       'MAC Field Scanner Season 4 Range 11 Column 6',\n       'MAC Field Scanner Season 4 Range 11 Column 9', ...,\n       'MAC Field Scanner Season 4 Range 20 Column 7 W',\n       'MAC Field Scanner Season 4 Range 21 Column 11 E',\n       'MAC Field Scanner Season 4 Range 30 Column 2 W'], dtype=object)"
     },
     "metadata": {},
     "output_type": "execute_result",
     "execution_count": 657
    }
   ],
   "source": [
    "df2.sitename.unique()"
   ]
  },
  {
   "cell_type": "code",
   "execution_count": 658,
   "metadata": {
    "pycharm": {
     "is_executing": false
    }
   },
   "outputs": [
    {
     "data": {
      "text/plain": "0      MAC Field Scanner Season 4 Range 11 Column 5\n1      MAC Field Scanner Season 4 Range 11 Column 6\n2      MAC Field Scanner Season 4 Range 11 Column 9\n3     MAC Field Scanner Season 4 Range 11 Column 11\n4     MAC Field Scanner Season 4 Range 11 Column 14\n5     MAC Field Scanner Season 4 Range 11 Column 15\n6      MAC Field Scanner Season 4 Range 12 Column 2\n7      MAC Field Scanner Season 4 Range 12 Column 3\n8      MAC Field Scanner Season 4 Range 12 Column 7\n9      MAC Field Scanner Season 4 Range 12 Column 9\n10    MAC Field Scanner Season 4 Range 12 Column 10\n11    MAC Field Scanner Season 4 Range 12 Column 12\n12    MAC Field Scanner Season 4 Range 12 Column 13\n13    MAC Field Scanner Season 4 Range 12 Column 14\n14     MAC Field Scanner Season 4 Range 13 Column 2\n15     MAC Field Scanner Season 4 Range 13 Column 5\n16     MAC Field Scanner Season 4 Range 13 Column 9\n17    MAC Field Scanner Season 4 Range 13 Column 10\n18    MAC Field Scanner Season 4 Range 13 Column 12\n19    MAC Field Scanner Season 4 Range 13 Column 13\n20     MAC Field Scanner Season 4 Range 14 Column 3\n21     MAC Field Scanner Season 4 Range 14 Column 4\n22     MAC Field Scanner Season 4 Range 14 Column 5\n23     MAC Field Scanner Season 4 Range 14 Column 7\n24    MAC Field Scanner Season 4 Range 14 Column 10\nName: sitename, dtype: object"
     },
     "metadata": {},
     "output_type": "execute_result",
     "execution_count": 658
    }
   ],
   "source": [
    "df2.sitename.head(25)"
   ]
  },
  {
   "cell_type": "code",
   "execution_count": 659,
   "metadata": {
    "collapsed": true,
    "jupyter": {
     "outputs_hidden": true
    },
    "pycharm": {
     "is_executing": false
    }
   },
   "outputs": [
    {
     "data": {
      "text/plain": "       Unnamed: 0  checked result_type          id   citation_id     site_id  \\\n23576       23577        0      traits  6001965127  6.000000e+09  6000005241   \n23577       23578        0      traits  6001965147  6.000000e+09  6000005237   \n23578       23579        0      traits  6001965192  6.000000e+09  6000005345   \n23579       23580        0      traits  6001965202  6.000000e+09  6000005351   \n23580       23581        0      traits  6001965232  6.000000e+09  6000005369   \n\n       treatment_id                                      sitename      city  \\\n23576  6.000000e+09   MAC Field Scanner Season 4 Range 2 Column 5  Maricopa   \n23577  6.000000e+09   MAC Field Scanner Season 4 Range 2 Column 9  Maricopa   \n23578  6.000000e+09   MAC Field Scanner Season 4 Range 3 Column 4  Maricopa   \n23579  6.000000e+09   MAC Field Scanner Season 4 Range 3 Column 6  Maricopa   \n23580  6.000000e+09  MAC Field Scanner Season 4 Range 3 Column 12  Maricopa   \n\n             lat  ...   n statname stat notes  access_level  cultivar entity  \\\n23576  33.074584  ... NaN      NaN  NaN   NaN             2    SP1615    NaN   \n23577  33.074584  ... NaN      NaN  NaN   NaN             2    SP1615    NaN   \n23578  33.074619  ... NaN      NaN  NaN   NaN             2  PI145626    NaN   \n23579  33.074620  ... NaN      NaN  NaN   NaN             2  PI330181    NaN   \n23580  33.074620  ... NaN      NaN  NaN   NaN             2  PI152771    NaN   \n\n                                 method_name  \\\n23576  Whole above ground biomass at harvest   \n23577  Whole above ground biomass at harvest   \n23578  Whole above ground biomass at harvest   \n23579  Whole above ground biomass at harvest   \n23580  Whole above ground biomass at harvest   \n\n                                                view_url  \\\n23576  https://terraref.ncsa.illinois.edu/bety/traits...   \n23577  https://terraref.ncsa.illinois.edu/bety/traits...   \n23578  https://terraref.ncsa.illinois.edu/bety/traits...   \n23579  https://terraref.ncsa.illinois.edu/bety/traits...   \n23580  https://terraref.ncsa.illinois.edu/bety/traits...   \n\n                                                edit_url  \n23576  https://terraref.ncsa.illinois.edu/bety/traits...  \n23577  https://terraref.ncsa.illinois.edu/bety/traits...  \n23578  https://terraref.ncsa.illinois.edu/bety/traits...  \n23579  https://terraref.ncsa.illinois.edu/bety/traits...  \n23580  https://terraref.ncsa.illinois.edu/bety/traits...  \n\n[5 rows x 39 columns]",
      "text/html": "<div>\n<style scoped>\n    .dataframe tbody tr th:only-of-type {\n        vertical-align: middle;\n    }\n\n    .dataframe tbody tr th {\n        vertical-align: top;\n    }\n\n    .dataframe thead th {\n        text-align: right;\n    }\n</style>\n<table border=\"1\" class=\"dataframe\">\n  <thead>\n    <tr style=\"text-align: right;\">\n      <th></th>\n      <th>Unnamed: 0</th>\n      <th>checked</th>\n      <th>result_type</th>\n      <th>id</th>\n      <th>citation_id</th>\n      <th>site_id</th>\n      <th>treatment_id</th>\n      <th>sitename</th>\n      <th>city</th>\n      <th>lat</th>\n      <th>...</th>\n      <th>n</th>\n      <th>statname</th>\n      <th>stat</th>\n      <th>notes</th>\n      <th>access_level</th>\n      <th>cultivar</th>\n      <th>entity</th>\n      <th>method_name</th>\n      <th>view_url</th>\n      <th>edit_url</th>\n    </tr>\n  </thead>\n  <tbody>\n    <tr>\n      <th>23576</th>\n      <td>23577</td>\n      <td>0</td>\n      <td>traits</td>\n      <td>6001965127</td>\n      <td>6.000000e+09</td>\n      <td>6000005241</td>\n      <td>6.000000e+09</td>\n      <td>MAC Field Scanner Season 4 Range 2 Column 5</td>\n      <td>Maricopa</td>\n      <td>33.074584</td>\n      <td>...</td>\n      <td>NaN</td>\n      <td>NaN</td>\n      <td>NaN</td>\n      <td>NaN</td>\n      <td>2</td>\n      <td>SP1615</td>\n      <td>NaN</td>\n      <td>Whole above ground biomass at harvest</td>\n      <td>https://terraref.ncsa.illinois.edu/bety/traits...</td>\n      <td>https://terraref.ncsa.illinois.edu/bety/traits...</td>\n    </tr>\n    <tr>\n      <th>23577</th>\n      <td>23578</td>\n      <td>0</td>\n      <td>traits</td>\n      <td>6001965147</td>\n      <td>6.000000e+09</td>\n      <td>6000005237</td>\n      <td>6.000000e+09</td>\n      <td>MAC Field Scanner Season 4 Range 2 Column 9</td>\n      <td>Maricopa</td>\n      <td>33.074584</td>\n      <td>...</td>\n      <td>NaN</td>\n      <td>NaN</td>\n      <td>NaN</td>\n      <td>NaN</td>\n      <td>2</td>\n      <td>SP1615</td>\n      <td>NaN</td>\n      <td>Whole above ground biomass at harvest</td>\n      <td>https://terraref.ncsa.illinois.edu/bety/traits...</td>\n      <td>https://terraref.ncsa.illinois.edu/bety/traits...</td>\n    </tr>\n    <tr>\n      <th>23578</th>\n      <td>23579</td>\n      <td>0</td>\n      <td>traits</td>\n      <td>6001965192</td>\n      <td>6.000000e+09</td>\n      <td>6000005345</td>\n      <td>6.000000e+09</td>\n      <td>MAC Field Scanner Season 4 Range 3 Column 4</td>\n      <td>Maricopa</td>\n      <td>33.074619</td>\n      <td>...</td>\n      <td>NaN</td>\n      <td>NaN</td>\n      <td>NaN</td>\n      <td>NaN</td>\n      <td>2</td>\n      <td>PI145626</td>\n      <td>NaN</td>\n      <td>Whole above ground biomass at harvest</td>\n      <td>https://terraref.ncsa.illinois.edu/bety/traits...</td>\n      <td>https://terraref.ncsa.illinois.edu/bety/traits...</td>\n    </tr>\n    <tr>\n      <th>23579</th>\n      <td>23580</td>\n      <td>0</td>\n      <td>traits</td>\n      <td>6001965202</td>\n      <td>6.000000e+09</td>\n      <td>6000005351</td>\n      <td>6.000000e+09</td>\n      <td>MAC Field Scanner Season 4 Range 3 Column 6</td>\n      <td>Maricopa</td>\n      <td>33.074620</td>\n      <td>...</td>\n      <td>NaN</td>\n      <td>NaN</td>\n      <td>NaN</td>\n      <td>NaN</td>\n      <td>2</td>\n      <td>PI330181</td>\n      <td>NaN</td>\n      <td>Whole above ground biomass at harvest</td>\n      <td>https://terraref.ncsa.illinois.edu/bety/traits...</td>\n      <td>https://terraref.ncsa.illinois.edu/bety/traits...</td>\n    </tr>\n    <tr>\n      <th>23580</th>\n      <td>23581</td>\n      <td>0</td>\n      <td>traits</td>\n      <td>6001965232</td>\n      <td>6.000000e+09</td>\n      <td>6000005369</td>\n      <td>6.000000e+09</td>\n      <td>MAC Field Scanner Season 4 Range 3 Column 12</td>\n      <td>Maricopa</td>\n      <td>33.074620</td>\n      <td>...</td>\n      <td>NaN</td>\n      <td>NaN</td>\n      <td>NaN</td>\n      <td>NaN</td>\n      <td>2</td>\n      <td>PI152771</td>\n      <td>NaN</td>\n      <td>Whole above ground biomass at harvest</td>\n      <td>https://terraref.ncsa.illinois.edu/bety/traits...</td>\n      <td>https://terraref.ncsa.illinois.edu/bety/traits...</td>\n    </tr>\n  </tbody>\n</table>\n<p>5 rows × 39 columns</p>\n</div>"
     },
     "metadata": {},
     "output_type": "execute_result",
     "execution_count": 659
    }
   ],
   "source": [
    "df2.loc[df2.trait == 'aboveground_dry_biomass'].head()"
   ]
  },
  {
   "cell_type": "code",
   "execution_count": 660,
   "metadata": {
    "collapsed": true,
    "jupyter": {
     "outputs_hidden": true
    },
    "pycharm": {
     "is_executing": false
    }
   },
   "outputs": [
    {
     "data": {
      "text/plain": "Unnamed: 0                                                         865\nchecked                                                              0\nresult_type                                                     traits\nid                                                          6001960853\ncitation_id                                                      6e+09\nsite_id                                                     6000005972\ntreatment_id                                                     6e+09\nsitename                 MAC Field Scanner Season 4 Range 48 Column 13\ncity                                                          Maricopa\nlat                                                            33.0762\nlon                                                           -111.975\nscientificname                                         Sorghum bicolor\ncommonname                                                     sorghum\ngenus                                                          Sorghum\nspecies_id                                                        2588\ncultivar_id                                                 6000000557\nauthor                                                  Newcomb, Maria\ncitation_year                                                     2017\ntreatment                      BAP 2017, water-deficit stress Aug 1-14\ndate                                     2017 Jun 28 (America/Phoenix)\ntime                                     [time unspecified or unknown]\nraw_date                                     2017-06-29 00:00:00 -0500\nmonth                                                                6\nyear                                                              2017\ndateloc                                                              5\ntrait                                         leaf_desiccation_present\ntrait_description    Presence or absence of leaves showing desiccat...\nmean                                                                 0\nunits                                                              NaN\nn                                                                  NaN\nstatname                                                           NaN\nstat                                                               NaN\nnotes                                                              NaN\naccess_level                                                         2\ncultivar                                                      PI329300\nentity                                                             NaN\nmethod_name                      Visual assessment of leaf dessication\nview_url             https://terraref.ncsa.illinois.edu/bety/traits...\nedit_url             https://terraref.ncsa.illinois.edu/bety/traits...\nName: 864, dtype: object"
     },
     "metadata": {},
     "output_type": "execute_result",
     "execution_count": 660
    }
   ],
   "source": [
    "df2.iloc[864]"
   ]
  },
  {
   "cell_type": "code",
   "execution_count": 661,
   "metadata": {
    "pycharm": {
     "is_executing": false
    }
   },
   "outputs": [],
   "source": [
    "# sitename - column 7\n",
    "# trait - column 25\n",
    "# mean - column 27\n",
    "# units - column 28"
   ]
  },
  {
   "cell_type": "code",
   "execution_count": 662,
   "metadata": {
    "pycharm": {
     "is_executing": false
    }
   },
   "outputs": [],
   "source": [
    "# test_pivot_df = df2.pivot(index = 'sitename', columns = 'trait', values = ['mean', 'units'])\n",
    "# test_pivot_df.head()"
   ]
  },
  {
   "cell_type": "code",
   "execution_count": 663,
   "metadata": {
    "pycharm": {
     "is_executing": false
    }
   },
   "outputs": [],
   "source": [
    "# inspect duplicates\n",
    "\n",
    "duplicates = df2.duplicated(subset = ['sitename', 'trait'])"
   ]
  },
  {
   "cell_type": "code",
   "execution_count": 664,
   "metadata": {
    "collapsed": true,
    "jupyter": {
     "outputs_hidden": true
    },
    "pycharm": {
     "is_executing": false
    }
   },
   "outputs": [
    {
     "data": {
      "text/plain": "True     359995\nFalse     12368\ndtype: int64"
     },
     "metadata": {},
     "output_type": "execute_result",
     "execution_count": 664
    }
   ],
   "source": [
    "duplicates.value_counts()"
   ]
  },
  {
   "cell_type": "code",
   "execution_count": 665,
   "metadata": {
    "collapsed": true,
    "jupyter": {
     "outputs_hidden": true
    },
    "pycharm": {
     "is_executing": false
    }
   },
   "outputs": [
    {
     "data": {
      "text/plain": "0    False\n1    False\n2    False\n3    False\n4    False\ndtype: bool"
     },
     "metadata": {},
     "output_type": "execute_result",
     "execution_count": 665
    }
   ],
   "source": [
    "duplicates.head()"
   ]
  },
  {
   "cell_type": "code",
   "execution_count": 666,
   "metadata": {
    "collapsed": true,
    "jupyter": {
     "outputs_hidden": true
    },
    "pycharm": {
     "is_executing": false
    }
   },
   "outputs": [
    {
     "data": {
      "text/plain": "                                        sitename                     trait  \\\n1   MAC Field Scanner Season 4 Range 11 Column 6  leaf_desiccation_present   \n2   MAC Field Scanner Season 4 Range 11 Column 9  leaf_desiccation_present   \n3  MAC Field Scanner Season 4 Range 11 Column 11  leaf_desiccation_present   \n4  MAC Field Scanner Season 4 Range 11 Column 14  leaf_desiccation_present   \n5  MAC Field Scanner Season 4 Range 11 Column 15  leaf_desiccation_present   \n\n   mean units  \n1   0.0   NaN  \n2   0.0   NaN  \n3   0.0   NaN  \n4   0.0   NaN  \n5   0.0   NaN  ",
      "text/html": "<div>\n<style scoped>\n    .dataframe tbody tr th:only-of-type {\n        vertical-align: middle;\n    }\n\n    .dataframe tbody tr th {\n        vertical-align: top;\n    }\n\n    .dataframe thead th {\n        text-align: right;\n    }\n</style>\n<table border=\"1\" class=\"dataframe\">\n  <thead>\n    <tr style=\"text-align: right;\">\n      <th></th>\n      <th>sitename</th>\n      <th>trait</th>\n      <th>mean</th>\n      <th>units</th>\n    </tr>\n  </thead>\n  <tbody>\n    <tr>\n      <th>1</th>\n      <td>MAC Field Scanner Season 4 Range 11 Column 6</td>\n      <td>leaf_desiccation_present</td>\n      <td>0.0</td>\n      <td>NaN</td>\n    </tr>\n    <tr>\n      <th>2</th>\n      <td>MAC Field Scanner Season 4 Range 11 Column 9</td>\n      <td>leaf_desiccation_present</td>\n      <td>0.0</td>\n      <td>NaN</td>\n    </tr>\n    <tr>\n      <th>3</th>\n      <td>MAC Field Scanner Season 4 Range 11 Column 11</td>\n      <td>leaf_desiccation_present</td>\n      <td>0.0</td>\n      <td>NaN</td>\n    </tr>\n    <tr>\n      <th>4</th>\n      <td>MAC Field Scanner Season 4 Range 11 Column 14</td>\n      <td>leaf_desiccation_present</td>\n      <td>0.0</td>\n      <td>NaN</td>\n    </tr>\n    <tr>\n      <th>5</th>\n      <td>MAC Field Scanner Season 4 Range 11 Column 15</td>\n      <td>leaf_desiccation_present</td>\n      <td>0.0</td>\n      <td>NaN</td>\n    </tr>\n  </tbody>\n</table>\n</div>"
     },
     "metadata": {},
     "output_type": "execute_result",
     "execution_count": 666
    }
   ],
   "source": [
    "# rows 1:5 - sitename, trait, mean, units\n",
    "\n",
    "test_sample = df2.loc[1:5, ['sitename', 'trait', 'mean', 'units']]\n",
    "test_sample"
   ]
  },
  {
   "cell_type": "code",
   "execution_count": 667,
   "metadata": {
    "pycharm": {
     "is_executing": false
    }
   },
   "outputs": [],
   "source": [
    "# days to emergence\n",
    "# days to flowering\n",
    "# aboveground dry biomass"
   ]
  },
  {
   "cell_type": "code",
   "execution_count": 668,
   "metadata": {
    "pycharm": {
     "is_executing": false
    }
   },
   "outputs": [
    {
     "data": {
      "text/plain": "False    199\nTrue       1\ndtype: int64"
     },
     "metadata": {},
     "output_type": "execute_result",
     "execution_count": 668
    }
   ],
   "source": [
    "# aboveground dry biomass should only have been measured once per plot - at the end of harvest date\n",
    "# check for duplicates \n",
    "\n",
    "dry_biomass_trait = df2.loc[df2['trait'] == 'aboveground_dry_biomass']\n",
    "dry_biomass_trait.duplicated(subset = 'sitename').value_counts()"
   ]
  },
  {
   "cell_type": "code",
   "execution_count": 669,
   "metadata": {
    "pycharm": {
     "is_executing": false
    }
   },
   "outputs": [
    {
     "data": {
      "text/plain": "False    53\nTrue      1\ndtype: int64"
     },
     "metadata": {},
     "output_type": "execute_result",
     "execution_count": 669
    }
   ],
   "source": [
    "# days to flowering\n",
    "\n",
    "flowering_time = df2.loc[df2['trait'] == 'flowering_time']\n",
    "flowering_time.duplicated(subset = 'sitename').value_counts()"
   ]
  },
  {
   "cell_type": "code",
   "execution_count": 670,
   "metadata": {
    "pycharm": {
     "is_executing": false
    }
   },
   "outputs": [
    {
     "data": {
      "text/plain": "False    78\nTrue      1\ndtype: int64"
     },
     "metadata": {},
     "output_type": "execute_result",
     "execution_count": 670
    }
   ],
   "source": [
    "# days to emergence\n",
    "\n",
    "flag_leaf_emergence = df2.loc[df2['trait'] == 'flag_leaf_emergence_time']\n",
    "flag_leaf_emergence.duplicated(subset = 'sitename').value_counts()\n"
   ]
  },
  {
   "cell_type": "code",
   "execution_count": 671,
   "metadata": {
    "pycharm": {
     "is_executing": false
    }
   },
   "outputs": [],
   "source": [
    "test_check = df2.loc[df2['sitename'].str.contains('MAC Field Scanner Season 4 Range 3 Column 12')]"
   ]
  },
  {
   "cell_type": "code",
   "execution_count": 672,
   "metadata": {
    "pycharm": {
     "is_executing": false
    }
   },
   "outputs": [
    {
     "data": {
      "text/plain": "Unnamed: 0                                                      371832\nchecked                                                              0\nresult_type                                                     traits\nid                                                          6004506432\ncitation_id                                                      6e+09\nsite_id                                                     6000005407\ntreatment_id                                                       NaN\nsitename                   MAC Field Scanner Season 4 Range 4 Column 6\ncity                                                          Maricopa\nlat                                                            33.0747\nlon                                                           -111.975\nscientificname                                         Sorghum bicolor\ncommonname                                                     sorghum\ngenus                                                          Sorghum\nspecies_id                                                        2588\ncultivar_id                                                 6000000552\nauthor                                                    Zongyang, Li\ncitation_year                                                     2016\ntreatment                                                          NaN\ndate                                                        2017 Jun 6\ntime                                        12:00:00 (America/Phoenix)\nraw_date                                     2017-06-06 14:00:00 -0500\nmonth                                                                6\nyear                                                              2017\ndateloc                                                              5\ntrait                                                   leaf_angle_chi\ntrait_description                                                  NaN\nmean                                                           1.94651\nunits                                                              NaN\nn                                                                  NaN\nstatname                                                           NaN\nstat                                                               NaN\nnotes                                                              NaN\naccess_level                                                         2\ncultivar                                                      PI302252\nentity                                                             NaN\nmethod_name                      3D scanner to leaf angle distribution\nview_url             https://terraref.ncsa.illinois.edu/bety/traits...\nedit_url             https://terraref.ncsa.illinois.edu/bety/traits...\nName: 371831, dtype: object"
     },
     "metadata": {},
     "output_type": "execute_result",
     "execution_count": 672
    }
   ],
   "source": [
    "df2.iloc[371831]"
   ]
  },
  {
   "cell_type": "code",
   "execution_count": 673,
   "metadata": {
    "pycharm": {
     "is_executing": false
    }
   },
   "outputs": [
    {
     "data": {
      "text/plain": "(360, 39)"
     },
     "metadata": {},
     "output_type": "execute_result",
     "execution_count": 673
    }
   ],
   "source": [
    "test_check.shape"
   ]
  },
  {
   "cell_type": "code",
   "execution_count": 674,
   "metadata": {
    "pycharm": {
     "is_executing": false
    }
   },
   "outputs": [
    {
     "name": "stdout",
     "text": [
      "2017-09-16 00:00:00 -0500\n2017-04-26 00:00:00 -0500\n"
     ],
     "output_type": "stream"
    }
   ],
   "source": [
    "print(test_check.raw_date.max())\n",
    "print(test_check.raw_date.min())"
   ]
  },
  {
   "cell_type": "code",
   "execution_count": 675,
   "metadata": {
    "pycharm": {
     "is_executing": false
    }
   },
   "outputs": [
    {
     "data": {
      "text/plain": "23580          aboveground_dry_biomass\n24787              dry_matter_fraction\n24958           harvest_lodging_rating\n303089    aboveground_biomass_moisture\n303265       aboveground_fresh_biomass\nName: trait, dtype: object"
     },
     "metadata": {},
     "output_type": "execute_result",
     "execution_count": 675
    }
   ],
   "source": [
    "test_check.loc[test_check.raw_date == test_check.raw_date.max()]['trait']"
   ]
  },
  {
   "cell_type": "code",
   "execution_count": 676,
   "metadata": {
    "pycharm": {
     "is_executing": false
    }
   },
   "outputs": [],
   "source": [
    "# drop all rows that do not contain trait values for days to flowering, days to emergence, and aboveground dry biomass\n",
    "\n",
    "selected_traits_only = df2[(df2['trait'] == 'aboveground_dry_biomass') | (df2['trait'] == 'flowering_time') | \\\n",
    "                          (df2['trait'] == 'flag_leaf_emergence_time')]"
   ]
  },
  {
   "cell_type": "code",
   "execution_count": 677,
   "metadata": {
    "pycharm": {
     "is_executing": false
    }
   },
   "outputs": [
    {
     "data": {
      "text/plain": "(333, 39)"
     },
     "metadata": {},
     "output_type": "execute_result",
     "execution_count": 677
    }
   ],
   "source": [
    "selected_traits_only.shape"
   ]
  },
  {
   "cell_type": "code",
   "execution_count": 678,
   "metadata": {
    "pycharm": {
     "is_executing": false
    }
   },
   "outputs": [
    {
     "data": {
      "text/plain": "array(['aboveground_dry_biomass', 'flag_leaf_emergence_time',\n       'flowering_time'], dtype=object)"
     },
     "metadata": {},
     "output_type": "execute_result",
     "execution_count": 678
    }
   ],
   "source": [
    "selected_traits_only.trait.unique()"
   ]
  },
  {
   "cell_type": "code",
   "execution_count": 679,
   "metadata": {
    "pycharm": {
     "is_executing": false
    }
   },
   "outputs": [
    {
     "data": {
      "text/plain": "Index(['Unnamed: 0', 'checked', 'result_type', 'id', 'citation_id', 'site_id',\n       'treatment_id', 'sitename', 'city', 'lat', 'lon', 'scientificname',\n       'commonname', 'genus', 'species_id', 'cultivar_id', 'author',\n       'citation_year', 'treatment', 'date', 'time', 'raw_date', 'month',\n       'year', 'dateloc', 'trait', 'trait_description', 'mean', 'units', 'n',\n       'statname', 'stat', 'notes', 'access_level', 'cultivar', 'entity',\n       'method_name', 'view_url', 'edit_url'],\n      dtype='object')"
     },
     "metadata": {},
     "output_type": "execute_result",
     "execution_count": 679
    }
   ],
   "source": [
    "selected_traits_only.columns"
   ]
  },
  {
   "cell_type": "code",
   "execution_count": 680,
   "metadata": {
    "pycharm": {
     "is_executing": false
    }
   },
   "outputs": [
    {
     "data": {
      "text/plain": "       Unnamed: 0  checked result_type          id   citation_id     site_id  \\\n23576       23577        0      traits  6001965127  6.000000e+09  6000005241   \n23577       23578        0      traits  6001965147  6.000000e+09  6000005237   \n23578       23579        0      traits  6001965192  6.000000e+09  6000005345   \n23579       23580        0      traits  6001965202  6.000000e+09  6000005351   \n23580       23581        0      traits  6001965232  6.000000e+09  6000005369   \n\n       treatment_id                                      sitename      city  \\\n23576  6.000000e+09   MAC Field Scanner Season 4 Range 2 Column 5  Maricopa   \n23577  6.000000e+09   MAC Field Scanner Season 4 Range 2 Column 9  Maricopa   \n23578  6.000000e+09   MAC Field Scanner Season 4 Range 3 Column 4  Maricopa   \n23579  6.000000e+09   MAC Field Scanner Season 4 Range 3 Column 6  Maricopa   \n23580  6.000000e+09  MAC Field Scanner Season 4 Range 3 Column 12  Maricopa   \n\n             lat  ...   n statname stat notes  access_level  cultivar entity  \\\n23576  33.074584  ... NaN      NaN  NaN   NaN             2    SP1615    NaN   \n23577  33.074584  ... NaN      NaN  NaN   NaN             2    SP1615    NaN   \n23578  33.074619  ... NaN      NaN  NaN   NaN             2  PI145626    NaN   \n23579  33.074620  ... NaN      NaN  NaN   NaN             2  PI330181    NaN   \n23580  33.074620  ... NaN      NaN  NaN   NaN             2  PI152771    NaN   \n\n                                 method_name  \\\n23576  Whole above ground biomass at harvest   \n23577  Whole above ground biomass at harvest   \n23578  Whole above ground biomass at harvest   \n23579  Whole above ground biomass at harvest   \n23580  Whole above ground biomass at harvest   \n\n                                                view_url  \\\n23576  https://terraref.ncsa.illinois.edu/bety/traits...   \n23577  https://terraref.ncsa.illinois.edu/bety/traits...   \n23578  https://terraref.ncsa.illinois.edu/bety/traits...   \n23579  https://terraref.ncsa.illinois.edu/bety/traits...   \n23580  https://terraref.ncsa.illinois.edu/bety/traits...   \n\n                                                edit_url  \n23576  https://terraref.ncsa.illinois.edu/bety/traits...  \n23577  https://terraref.ncsa.illinois.edu/bety/traits...  \n23578  https://terraref.ncsa.illinois.edu/bety/traits...  \n23579  https://terraref.ncsa.illinois.edu/bety/traits...  \n23580  https://terraref.ncsa.illinois.edu/bety/traits...  \n\n[5 rows x 39 columns]",
      "text/html": "<div>\n<style scoped>\n    .dataframe tbody tr th:only-of-type {\n        vertical-align: middle;\n    }\n\n    .dataframe tbody tr th {\n        vertical-align: top;\n    }\n\n    .dataframe thead th {\n        text-align: right;\n    }\n</style>\n<table border=\"1\" class=\"dataframe\">\n  <thead>\n    <tr style=\"text-align: right;\">\n      <th></th>\n      <th>Unnamed: 0</th>\n      <th>checked</th>\n      <th>result_type</th>\n      <th>id</th>\n      <th>citation_id</th>\n      <th>site_id</th>\n      <th>treatment_id</th>\n      <th>sitename</th>\n      <th>city</th>\n      <th>lat</th>\n      <th>...</th>\n      <th>n</th>\n      <th>statname</th>\n      <th>stat</th>\n      <th>notes</th>\n      <th>access_level</th>\n      <th>cultivar</th>\n      <th>entity</th>\n      <th>method_name</th>\n      <th>view_url</th>\n      <th>edit_url</th>\n    </tr>\n  </thead>\n  <tbody>\n    <tr>\n      <th>23576</th>\n      <td>23577</td>\n      <td>0</td>\n      <td>traits</td>\n      <td>6001965127</td>\n      <td>6.000000e+09</td>\n      <td>6000005241</td>\n      <td>6.000000e+09</td>\n      <td>MAC Field Scanner Season 4 Range 2 Column 5</td>\n      <td>Maricopa</td>\n      <td>33.074584</td>\n      <td>...</td>\n      <td>NaN</td>\n      <td>NaN</td>\n      <td>NaN</td>\n      <td>NaN</td>\n      <td>2</td>\n      <td>SP1615</td>\n      <td>NaN</td>\n      <td>Whole above ground biomass at harvest</td>\n      <td>https://terraref.ncsa.illinois.edu/bety/traits...</td>\n      <td>https://terraref.ncsa.illinois.edu/bety/traits...</td>\n    </tr>\n    <tr>\n      <th>23577</th>\n      <td>23578</td>\n      <td>0</td>\n      <td>traits</td>\n      <td>6001965147</td>\n      <td>6.000000e+09</td>\n      <td>6000005237</td>\n      <td>6.000000e+09</td>\n      <td>MAC Field Scanner Season 4 Range 2 Column 9</td>\n      <td>Maricopa</td>\n      <td>33.074584</td>\n      <td>...</td>\n      <td>NaN</td>\n      <td>NaN</td>\n      <td>NaN</td>\n      <td>NaN</td>\n      <td>2</td>\n      <td>SP1615</td>\n      <td>NaN</td>\n      <td>Whole above ground biomass at harvest</td>\n      <td>https://terraref.ncsa.illinois.edu/bety/traits...</td>\n      <td>https://terraref.ncsa.illinois.edu/bety/traits...</td>\n    </tr>\n    <tr>\n      <th>23578</th>\n      <td>23579</td>\n      <td>0</td>\n      <td>traits</td>\n      <td>6001965192</td>\n      <td>6.000000e+09</td>\n      <td>6000005345</td>\n      <td>6.000000e+09</td>\n      <td>MAC Field Scanner Season 4 Range 3 Column 4</td>\n      <td>Maricopa</td>\n      <td>33.074619</td>\n      <td>...</td>\n      <td>NaN</td>\n      <td>NaN</td>\n      <td>NaN</td>\n      <td>NaN</td>\n      <td>2</td>\n      <td>PI145626</td>\n      <td>NaN</td>\n      <td>Whole above ground biomass at harvest</td>\n      <td>https://terraref.ncsa.illinois.edu/bety/traits...</td>\n      <td>https://terraref.ncsa.illinois.edu/bety/traits...</td>\n    </tr>\n    <tr>\n      <th>23579</th>\n      <td>23580</td>\n      <td>0</td>\n      <td>traits</td>\n      <td>6001965202</td>\n      <td>6.000000e+09</td>\n      <td>6000005351</td>\n      <td>6.000000e+09</td>\n      <td>MAC Field Scanner Season 4 Range 3 Column 6</td>\n      <td>Maricopa</td>\n      <td>33.074620</td>\n      <td>...</td>\n      <td>NaN</td>\n      <td>NaN</td>\n      <td>NaN</td>\n      <td>NaN</td>\n      <td>2</td>\n      <td>PI330181</td>\n      <td>NaN</td>\n      <td>Whole above ground biomass at harvest</td>\n      <td>https://terraref.ncsa.illinois.edu/bety/traits...</td>\n      <td>https://terraref.ncsa.illinois.edu/bety/traits...</td>\n    </tr>\n    <tr>\n      <th>23580</th>\n      <td>23581</td>\n      <td>0</td>\n      <td>traits</td>\n      <td>6001965232</td>\n      <td>6.000000e+09</td>\n      <td>6000005369</td>\n      <td>6.000000e+09</td>\n      <td>MAC Field Scanner Season 4 Range 3 Column 12</td>\n      <td>Maricopa</td>\n      <td>33.074620</td>\n      <td>...</td>\n      <td>NaN</td>\n      <td>NaN</td>\n      <td>NaN</td>\n      <td>NaN</td>\n      <td>2</td>\n      <td>PI152771</td>\n      <td>NaN</td>\n      <td>Whole above ground biomass at harvest</td>\n      <td>https://terraref.ncsa.illinois.edu/bety/traits...</td>\n      <td>https://terraref.ncsa.illinois.edu/bety/traits...</td>\n    </tr>\n  </tbody>\n</table>\n<p>5 rows × 39 columns</p>\n</div>"
     },
     "metadata": {},
     "output_type": "execute_result",
     "execution_count": 680
    }
   ],
   "source": [
    "selected_traits_only.head()\n",
    "\n"
   ]
  },
  {
   "cell_type": "code",
   "execution_count": 681,
   "metadata": {
    "pycharm": {
     "is_executing": false
    }
   },
   "outputs": [
    {
     "name": "stdout",
     "text": [
      "['Maricopa']\n330\n1\n247\n247\n1\n1\n196\n['Aboveground Dry Biomass'\n 'Number days from sowing to the date when 50% of the plants in a plot have reached flag leaf emergence (ligulation) stage. Flag leaf is the last leaf to emerge from the whorl, positioned directly below the panicle.'\n 'Number of days from sowing to the date when 50% of the plants in a plot reach flowering (anthesis), defined as the time when 50% of the anthers on 50% of the plants in a plot have emerged.']\n[nan]\n[nan]\n196\n['Whole above ground biomass at harvest'\n 'Visual classification of sorghum growth stages to determine estimates of developmental timing']\n"
     ],
     "output_type": "stream"
    }
   ],
   "source": [
    "print(selected_traits_only.city.unique())\n",
    "print(selected_traits_only.id.nunique())\n",
    "print(selected_traits_only.citation_id.nunique())\n",
    "print(selected_traits_only.site_id.nunique())\n",
    "print(selected_traits_only.lat.nunique())\n",
    "print(selected_traits_only.scientificname.nunique())\n",
    "print(selected_traits_only.species_id.nunique())\n",
    "print(selected_traits_only.cultivar_id.nunique())\n",
    "print(selected_traits_only.trait_description.unique())\n",
    "print(selected_traits_only.n.unique())\n",
    "print(selected_traits_only.notes.unique())\n",
    "print(selected_traits_only.cultivar.nunique())\n",
    "print(selected_traits_only.method_name.unique())"
   ]
  },
  {
   "cell_type": "code",
   "execution_count": 682,
   "metadata": {
    "pycharm": {
     "is_executing": false
    }
   },
   "outputs": [
    {
     "data": {
      "text/plain": "(333, 39)"
     },
     "metadata": {},
     "output_type": "execute_result",
     "execution_count": 682
    }
   ],
   "source": [
    "selected_traits_only.shape"
   ]
  },
  {
   "cell_type": "code",
   "execution_count": 683,
   "metadata": {
    "pycharm": {
     "is_executing": false
    }
   },
   "outputs": [],
   "source": [
    "cols_to_drop = ['Unnamed: 0', 'checked', 'result_type', 'citation_id', 'scientificname', 'species_id', 'author', \\\n",
    "               'citation_year', 'treatment', 'date', 'month', 'year', 'dateloc', 'n', 'statname', 'stat', 'notes', \\\n",
    "               'access_level', 'entity', 'method_name', 'view_url', 'edit_url', 'treatment_id', 'city', 'commonname', \\\n",
    "               'genus', 'time', 'raw_date']\n",
    "\n",
    "selected_and_dropped = selected_traits_only.drop(labels = cols_to_drop, axis = 1)"
   ]
  },
  {
   "cell_type": "code",
   "execution_count": 684,
   "metadata": {
    "pycharm": {
     "is_executing": false
    }
   },
   "outputs": [
    {
     "data": {
      "text/plain": "               id     site_id                                      sitename  \\\n23576  6001965127  6000005241   MAC Field Scanner Season 4 Range 2 Column 5   \n23577  6001965147  6000005237   MAC Field Scanner Season 4 Range 2 Column 9   \n23578  6001965192  6000005345   MAC Field Scanner Season 4 Range 3 Column 4   \n23579  6001965202  6000005351   MAC Field Scanner Season 4 Range 3 Column 6   \n23580  6001965232  6000005369  MAC Field Scanner Season 4 Range 3 Column 12   \n\n             lat         lon  cultivar_id                    trait  \\\n23576  33.074584 -111.974982   6000001054  aboveground_dry_biomass   \n23577  33.074584 -111.974917   6000001054  aboveground_dry_biomass   \n23578  33.074619 -111.974998   6000000462  aboveground_dry_biomass   \n23579  33.074620 -111.974966   6000000818  aboveground_dry_biomass   \n23580  33.074620 -111.974867   6000000685  aboveground_dry_biomass   \n\n             trait_description     mean    units  cultivar  \n23576  Aboveground Dry Biomass  37330.0  kg / ha    SP1615  \n23577  Aboveground Dry Biomass  36900.0  kg / ha    SP1615  \n23578  Aboveground Dry Biomass  23190.0  kg / ha  PI145626  \n23579  Aboveground Dry Biomass  30150.0  kg / ha  PI330181  \n23580  Aboveground Dry Biomass  21990.0  kg / ha  PI152771  ",
      "text/html": "<div>\n<style scoped>\n    .dataframe tbody tr th:only-of-type {\n        vertical-align: middle;\n    }\n\n    .dataframe tbody tr th {\n        vertical-align: top;\n    }\n\n    .dataframe thead th {\n        text-align: right;\n    }\n</style>\n<table border=\"1\" class=\"dataframe\">\n  <thead>\n    <tr style=\"text-align: right;\">\n      <th></th>\n      <th>id</th>\n      <th>site_id</th>\n      <th>sitename</th>\n      <th>lat</th>\n      <th>lon</th>\n      <th>cultivar_id</th>\n      <th>trait</th>\n      <th>trait_description</th>\n      <th>mean</th>\n      <th>units</th>\n      <th>cultivar</th>\n    </tr>\n  </thead>\n  <tbody>\n    <tr>\n      <th>23576</th>\n      <td>6001965127</td>\n      <td>6000005241</td>\n      <td>MAC Field Scanner Season 4 Range 2 Column 5</td>\n      <td>33.074584</td>\n      <td>-111.974982</td>\n      <td>6000001054</td>\n      <td>aboveground_dry_biomass</td>\n      <td>Aboveground Dry Biomass</td>\n      <td>37330.0</td>\n      <td>kg / ha</td>\n      <td>SP1615</td>\n    </tr>\n    <tr>\n      <th>23577</th>\n      <td>6001965147</td>\n      <td>6000005237</td>\n      <td>MAC Field Scanner Season 4 Range 2 Column 9</td>\n      <td>33.074584</td>\n      <td>-111.974917</td>\n      <td>6000001054</td>\n      <td>aboveground_dry_biomass</td>\n      <td>Aboveground Dry Biomass</td>\n      <td>36900.0</td>\n      <td>kg / ha</td>\n      <td>SP1615</td>\n    </tr>\n    <tr>\n      <th>23578</th>\n      <td>6001965192</td>\n      <td>6000005345</td>\n      <td>MAC Field Scanner Season 4 Range 3 Column 4</td>\n      <td>33.074619</td>\n      <td>-111.974998</td>\n      <td>6000000462</td>\n      <td>aboveground_dry_biomass</td>\n      <td>Aboveground Dry Biomass</td>\n      <td>23190.0</td>\n      <td>kg / ha</td>\n      <td>PI145626</td>\n    </tr>\n    <tr>\n      <th>23579</th>\n      <td>6001965202</td>\n      <td>6000005351</td>\n      <td>MAC Field Scanner Season 4 Range 3 Column 6</td>\n      <td>33.074620</td>\n      <td>-111.974966</td>\n      <td>6000000818</td>\n      <td>aboveground_dry_biomass</td>\n      <td>Aboveground Dry Biomass</td>\n      <td>30150.0</td>\n      <td>kg / ha</td>\n      <td>PI330181</td>\n    </tr>\n    <tr>\n      <th>23580</th>\n      <td>6001965232</td>\n      <td>6000005369</td>\n      <td>MAC Field Scanner Season 4 Range 3 Column 12</td>\n      <td>33.074620</td>\n      <td>-111.974867</td>\n      <td>6000000685</td>\n      <td>aboveground_dry_biomass</td>\n      <td>Aboveground Dry Biomass</td>\n      <td>21990.0</td>\n      <td>kg / ha</td>\n      <td>PI152771</td>\n    </tr>\n  </tbody>\n</table>\n</div>"
     },
     "metadata": {},
     "output_type": "execute_result",
     "execution_count": 684
    }
   ],
   "source": [
    "selected_and_dropped.head()"
   ]
  },
  {
   "cell_type": "code",
   "execution_count": 685,
   "metadata": {
    "pycharm": {
     "is_executing": false
    }
   },
   "outputs": [
    {
     "data": {
      "text/plain": "(333, 11)"
     },
     "metadata": {},
     "output_type": "execute_result",
     "execution_count": 685
    }
   ],
   "source": [
    "selected_and_dropped.shape"
   ]
  },
  {
   "cell_type": "code",
   "execution_count": 686,
   "metadata": {
    "pycharm": {
     "is_executing": false
    }
   },
   "outputs": [
    {
     "data": {
      "text/plain": "False    330\nTrue       3\ndtype: int64"
     },
     "metadata": {},
     "output_type": "execute_result",
     "execution_count": 686
    }
   ],
   "source": [
    "# Check for duplicates\n",
    "\n",
    "selected_and_dropped.duplicated(subset = ['site_id', 'sitename', 'trait_description']).value_counts()"
   ]
  },
  {
   "cell_type": "code",
   "execution_count": 687,
   "metadata": {
    "pycharm": {
     "is_executing": false
    }
   },
   "outputs": [],
   "source": [
    "selected_and_dropped.to_csv('selected_traits_with_cultivar_and_site_ids.csv', index = False)"
   ]
  },
  {
   "cell_type": "code",
   "execution_count": 688,
   "metadata": {
    "pycharm": {
     "is_executing": false
    }
   },
   "outputs": [
    {
     "name": "stdout",
     "text": [
      "['aboveground_dry_biomass' 'flag_leaf_emergence_time' 'flowering_time']\n['Aboveground Dry Biomass'\n 'Number days from sowing to the date when 50% of the plants in a plot have reached flag leaf emergence (ligulation) stage. Flag leaf is the last leaf to emerge from the whorl, positioned directly below the panicle.'\n 'Number of days from sowing to the date when 50% of the plants in a plot reach flowering (anthesis), defined as the time when 50% of the anthers on 50% of the plants in a plot have emerged.']\n['kg / ha' 'days']\n"
     ],
     "output_type": "stream"
    }
   ],
   "source": [
    "print(selected_and_dropped.trait.unique())\n",
    "print(selected_and_dropped.trait_description.unique())\n",
    "print(selected_and_dropped.units.unique())"
   ]
  },
  {
   "cell_type": "code",
   "execution_count": 689,
   "metadata": {
    "pycharm": {
     "is_executing": false
    }
   },
   "outputs": [],
   "source": [
    "id_cols_to_drop = ['id', 'site_id', 'lat', 'lon', 'cultivar_id', 'trait_description', 'units']\n",
    "bare_bones_df = selected_and_dropped.drop(labels = id_cols_to_drop, axis = 1)"
   ]
  },
  {
   "cell_type": "code",
   "execution_count": 690,
   "metadata": {
    "pycharm": {
     "is_executing": false
    }
   },
   "outputs": [
    {
     "data": {
      "text/plain": "                                             sitename           trait  mean  \\\n333175   MAC Field Scanner Season 4 Range 46 Column 7  flowering_time  72.0   \n333176   MAC Field Scanner Season 4 Range 46 Column 9  flowering_time  56.0   \n333177  MAC Field Scanner Season 4 Range 46 Column 11  flowering_time  64.0   \n333178  MAC Field Scanner Season 4 Range 46 Column 14  flowering_time  62.0   \n333179   MAC Field Scanner Season 4 Range 50 Column 6  flowering_time  70.0   \n\n        cultivar  \n333175  PI534120  \n333176  PI180348  \n333177  PI329435  \n333178  PI564163  \n333179  PI655972  ",
      "text/html": "<div>\n<style scoped>\n    .dataframe tbody tr th:only-of-type {\n        vertical-align: middle;\n    }\n\n    .dataframe tbody tr th {\n        vertical-align: top;\n    }\n\n    .dataframe thead th {\n        text-align: right;\n    }\n</style>\n<table border=\"1\" class=\"dataframe\">\n  <thead>\n    <tr style=\"text-align: right;\">\n      <th></th>\n      <th>sitename</th>\n      <th>trait</th>\n      <th>mean</th>\n      <th>cultivar</th>\n    </tr>\n  </thead>\n  <tbody>\n    <tr>\n      <th>333175</th>\n      <td>MAC Field Scanner Season 4 Range 46 Column 7</td>\n      <td>flowering_time</td>\n      <td>72.0</td>\n      <td>PI534120</td>\n    </tr>\n    <tr>\n      <th>333176</th>\n      <td>MAC Field Scanner Season 4 Range 46 Column 9</td>\n      <td>flowering_time</td>\n      <td>56.0</td>\n      <td>PI180348</td>\n    </tr>\n    <tr>\n      <th>333177</th>\n      <td>MAC Field Scanner Season 4 Range 46 Column 11</td>\n      <td>flowering_time</td>\n      <td>64.0</td>\n      <td>PI329435</td>\n    </tr>\n    <tr>\n      <th>333178</th>\n      <td>MAC Field Scanner Season 4 Range 46 Column 14</td>\n      <td>flowering_time</td>\n      <td>62.0</td>\n      <td>PI564163</td>\n    </tr>\n    <tr>\n      <th>333179</th>\n      <td>MAC Field Scanner Season 4 Range 50 Column 6</td>\n      <td>flowering_time</td>\n      <td>70.0</td>\n      <td>PI655972</td>\n    </tr>\n  </tbody>\n</table>\n</div>"
     },
     "metadata": {},
     "output_type": "execute_result",
     "execution_count": 690
    }
   ],
   "source": [
    "bare_bones_df.tail()"
   ]
  },
  {
   "cell_type": "code",
   "execution_count": 691,
   "metadata": {
    "pycharm": {
     "is_executing": false
    }
   },
   "outputs": [
    {
     "name": "stdout",
     "text": [
      "247\n196\n3\n"
     ],
     "output_type": "stream"
    }
   ],
   "source": [
    "print(bare_bones_df.sitename.nunique())\n",
    "print(bare_bones_df.cultivar.nunique())\n",
    "print(bare_bones_df.trait.nunique())"
   ]
  },
  {
   "cell_type": "code",
   "execution_count": 692,
   "metadata": {
    "pycharm": {
     "is_executing": false
    }
   },
   "outputs": [],
   "source": [
    "# two indices?\n",
    "\n",
    "site_cultivar_indices = pd.pivot_table(data = bare_bones_df, index = ['sitename', 'cultivar'], columns = 'trait',\n",
    "                                      values = 'mean')"
   ]
  },
  {
   "cell_type": "code",
   "execution_count": 693,
   "metadata": {
    "pycharm": {
     "is_executing": false
    }
   },
   "outputs": [
    {
     "data": {
      "text/plain": "trait                                                   aboveground_dry_biomass  \\\nsitename                                      cultivar                            \nMAC Field Scanner Season 4 Range 10 Column 11 PI195754                  29400.0   \nMAC Field Scanner Season 4 Range 10 Column 14 PI19770                       NaN   \nMAC Field Scanner Season 4 Range 10 Column 15 PI144134                      NaN   \nMAC Field Scanner Season 4 Range 10 Column 2  PI641807                      NaN   \nMAC Field Scanner Season 4 Range 10 Column 3  PI175919                      NaN   \n\ntrait                                                   flag_leaf_emergence_time  \\\nsitename                                      cultivar                             \nMAC Field Scanner Season 4 Range 10 Column 11 PI195754                      68.0   \nMAC Field Scanner Season 4 Range 10 Column 14 PI19770                       62.0   \nMAC Field Scanner Season 4 Range 10 Column 15 PI144134                      77.0   \nMAC Field Scanner Season 4 Range 10 Column 2  PI641807                      77.0   \nMAC Field Scanner Season 4 Range 10 Column 3  PI175919                      70.0   \n\ntrait                                                   flowering_time  \nsitename                                      cultivar                  \nMAC Field Scanner Season 4 Range 10 Column 11 PI195754            71.0  \nMAC Field Scanner Season 4 Range 10 Column 14 PI19770             68.0  \nMAC Field Scanner Season 4 Range 10 Column 15 PI144134             NaN  \nMAC Field Scanner Season 4 Range 10 Column 2  PI641807             NaN  \nMAC Field Scanner Season 4 Range 10 Column 3  PI175919            71.0  ",
      "text/html": "<div>\n<style scoped>\n    .dataframe tbody tr th:only-of-type {\n        vertical-align: middle;\n    }\n\n    .dataframe tbody tr th {\n        vertical-align: top;\n    }\n\n    .dataframe thead th {\n        text-align: right;\n    }\n</style>\n<table border=\"1\" class=\"dataframe\">\n  <thead>\n    <tr style=\"text-align: right;\">\n      <th></th>\n      <th>trait</th>\n      <th>aboveground_dry_biomass</th>\n      <th>flag_leaf_emergence_time</th>\n      <th>flowering_time</th>\n    </tr>\n    <tr>\n      <th>sitename</th>\n      <th>cultivar</th>\n      <th></th>\n      <th></th>\n      <th></th>\n    </tr>\n  </thead>\n  <tbody>\n    <tr>\n      <th>MAC Field Scanner Season 4 Range 10 Column 11</th>\n      <th>PI195754</th>\n      <td>29400.0</td>\n      <td>68.0</td>\n      <td>71.0</td>\n    </tr>\n    <tr>\n      <th>MAC Field Scanner Season 4 Range 10 Column 14</th>\n      <th>PI19770</th>\n      <td>NaN</td>\n      <td>62.0</td>\n      <td>68.0</td>\n    </tr>\n    <tr>\n      <th>MAC Field Scanner Season 4 Range 10 Column 15</th>\n      <th>PI144134</th>\n      <td>NaN</td>\n      <td>77.0</td>\n      <td>NaN</td>\n    </tr>\n    <tr>\n      <th>MAC Field Scanner Season 4 Range 10 Column 2</th>\n      <th>PI641807</th>\n      <td>NaN</td>\n      <td>77.0</td>\n      <td>NaN</td>\n    </tr>\n    <tr>\n      <th>MAC Field Scanner Season 4 Range 10 Column 3</th>\n      <th>PI175919</th>\n      <td>NaN</td>\n      <td>70.0</td>\n      <td>71.0</td>\n    </tr>\n  </tbody>\n</table>\n</div>"
     },
     "metadata": {},
     "output_type": "execute_result",
     "execution_count": 693
    }
   ],
   "source": [
    "site_cultivar_indices.head()"
   ]
  },
  {
   "cell_type": "code",
   "execution_count": 694,
   "metadata": {
    "pycharm": {
     "is_executing": false
    }
   },
   "outputs": [
    {
     "data": {
      "text/plain": "(247, 3)"
     },
     "metadata": {},
     "output_type": "execute_result",
     "execution_count": 694
    }
   ],
   "source": [
    "site_cultivar_indices.shape"
   ]
  },
  {
   "cell_type": "code",
   "execution_count": 695,
   "metadata": {
    "pycharm": {
     "is_executing": false
    }
   },
   "outputs": [],
   "source": [
    "site_cultivar_indices.to_csv('site_cultivar_indices.csv')"
   ]
  },
  {
   "cell_type": "code",
   "execution_count": 696,
   "metadata": {
    "pycharm": {
     "is_executing": false
    }
   },
   "outputs": [
    {
     "name": "stdout",
     "text": [
      "(333, 4)\n247\n196\n"
     ],
     "output_type": "stream"
    }
   ],
   "source": [
    "print(bare_bones_df.shape)\n",
    "print(bare_bones_df.sitename.nunique())\n",
    "print(bare_bones_df.cultivar.nunique())"
   ]
  },
  {
   "cell_type": "code",
   "execution_count": 697,
   "metadata": {
    "pycharm": {
     "is_executing": false
    }
   },
   "outputs": [],
   "source": [
    "minus_cultivar = bare_bones_df.drop(columns = 'cultivar', axis = 1)"
   ]
  },
  {
   "cell_type": "code",
   "execution_count": 698,
   "metadata": {
    "pycharm": {
     "is_executing": false
    }
   },
   "outputs": [
    {
     "data": {
      "text/plain": "                                           sitename                    trait  \\\n23576   MAC Field Scanner Season 4 Range 2 Column 5  aboveground_dry_biomass   \n23577   MAC Field Scanner Season 4 Range 2 Column 9  aboveground_dry_biomass   \n23578   MAC Field Scanner Season 4 Range 3 Column 4  aboveground_dry_biomass   \n23579   MAC Field Scanner Season 4 Range 3 Column 6  aboveground_dry_biomass   \n23580  MAC Field Scanner Season 4 Range 3 Column 12  aboveground_dry_biomass   \n\n          mean  \n23576  37330.0  \n23577  36900.0  \n23578  23190.0  \n23579  30150.0  \n23580  21990.0  ",
      "text/html": "<div>\n<style scoped>\n    .dataframe tbody tr th:only-of-type {\n        vertical-align: middle;\n    }\n\n    .dataframe tbody tr th {\n        vertical-align: top;\n    }\n\n    .dataframe thead th {\n        text-align: right;\n    }\n</style>\n<table border=\"1\" class=\"dataframe\">\n  <thead>\n    <tr style=\"text-align: right;\">\n      <th></th>\n      <th>sitename</th>\n      <th>trait</th>\n      <th>mean</th>\n    </tr>\n  </thead>\n  <tbody>\n    <tr>\n      <th>23576</th>\n      <td>MAC Field Scanner Season 4 Range 2 Column 5</td>\n      <td>aboveground_dry_biomass</td>\n      <td>37330.0</td>\n    </tr>\n    <tr>\n      <th>23577</th>\n      <td>MAC Field Scanner Season 4 Range 2 Column 9</td>\n      <td>aboveground_dry_biomass</td>\n      <td>36900.0</td>\n    </tr>\n    <tr>\n      <th>23578</th>\n      <td>MAC Field Scanner Season 4 Range 3 Column 4</td>\n      <td>aboveground_dry_biomass</td>\n      <td>23190.0</td>\n    </tr>\n    <tr>\n      <th>23579</th>\n      <td>MAC Field Scanner Season 4 Range 3 Column 6</td>\n      <td>aboveground_dry_biomass</td>\n      <td>30150.0</td>\n    </tr>\n    <tr>\n      <th>23580</th>\n      <td>MAC Field Scanner Season 4 Range 3 Column 12</td>\n      <td>aboveground_dry_biomass</td>\n      <td>21990.0</td>\n    </tr>\n  </tbody>\n</table>\n</div>"
     },
     "metadata": {},
     "output_type": "execute_result",
     "execution_count": 698
    }
   ],
   "source": [
    "minus_cultivar.head()"
   ]
  },
  {
   "cell_type": "code",
   "execution_count": 699,
   "metadata": {
    "pycharm": {
     "is_executing": false
    }
   },
   "outputs": [
    {
     "data": {
      "text/plain": "                                           sitename  cultivar\n23576   MAC Field Scanner Season 4 Range 2 Column 5    SP1615\n23577   MAC Field Scanner Season 4 Range 2 Column 9    SP1615\n23578   MAC Field Scanner Season 4 Range 3 Column 4  PI145626\n23579   MAC Field Scanner Season 4 Range 3 Column 6  PI330181\n23580  MAC Field Scanner Season 4 Range 3 Column 12  PI152771",
      "text/html": "<div>\n<style scoped>\n    .dataframe tbody tr th:only-of-type {\n        vertical-align: middle;\n    }\n\n    .dataframe tbody tr th {\n        vertical-align: top;\n    }\n\n    .dataframe thead th {\n        text-align: right;\n    }\n</style>\n<table border=\"1\" class=\"dataframe\">\n  <thead>\n    <tr style=\"text-align: right;\">\n      <th></th>\n      <th>sitename</th>\n      <th>cultivar</th>\n    </tr>\n  </thead>\n  <tbody>\n    <tr>\n      <th>23576</th>\n      <td>MAC Field Scanner Season 4 Range 2 Column 5</td>\n      <td>SP1615</td>\n    </tr>\n    <tr>\n      <th>23577</th>\n      <td>MAC Field Scanner Season 4 Range 2 Column 9</td>\n      <td>SP1615</td>\n    </tr>\n    <tr>\n      <th>23578</th>\n      <td>MAC Field Scanner Season 4 Range 3 Column 4</td>\n      <td>PI145626</td>\n    </tr>\n    <tr>\n      <th>23579</th>\n      <td>MAC Field Scanner Season 4 Range 3 Column 6</td>\n      <td>PI330181</td>\n    </tr>\n    <tr>\n      <th>23580</th>\n      <td>MAC Field Scanner Season 4 Range 3 Column 12</td>\n      <td>PI152771</td>\n    </tr>\n  </tbody>\n</table>\n</div>"
     },
     "metadata": {},
     "output_type": "execute_result",
     "execution_count": 699
    }
   ],
   "source": [
    "cultivar_and_sitename = bare_bones_df[['sitename', 'cultivar']]\n",
    "cultivar_and_sitename.head()"
   ]
  },
  {
   "cell_type": "code",
   "execution_count": 700,
   "metadata": {
    "pycharm": {
     "is_executing": false
    }
   },
   "outputs": [
    {
     "data": {
      "text/plain": "                                           sitename  cultivar\n23576   MAC Field Scanner Season 4 Range 2 Column 5    SP1615\n23577   MAC Field Scanner Season 4 Range 2 Column 9    SP1615\n23578   MAC Field Scanner Season 4 Range 3 Column 4  PI145626\n23579   MAC Field Scanner Season 4 Range 3 Column 6  PI330181\n23580  MAC Field Scanner Season 4 Range 3 Column 12  PI152771",
      "text/html": "<div>\n<style scoped>\n    .dataframe tbody tr th:only-of-type {\n        vertical-align: middle;\n    }\n\n    .dataframe tbody tr th {\n        vertical-align: top;\n    }\n\n    .dataframe thead th {\n        text-align: right;\n    }\n</style>\n<table border=\"1\" class=\"dataframe\">\n  <thead>\n    <tr style=\"text-align: right;\">\n      <th></th>\n      <th>sitename</th>\n      <th>cultivar</th>\n    </tr>\n  </thead>\n  <tbody>\n    <tr>\n      <th>23576</th>\n      <td>MAC Field Scanner Season 4 Range 2 Column 5</td>\n      <td>SP1615</td>\n    </tr>\n    <tr>\n      <th>23577</th>\n      <td>MAC Field Scanner Season 4 Range 2 Column 9</td>\n      <td>SP1615</td>\n    </tr>\n    <tr>\n      <th>23578</th>\n      <td>MAC Field Scanner Season 4 Range 3 Column 4</td>\n      <td>PI145626</td>\n    </tr>\n    <tr>\n      <th>23579</th>\n      <td>MAC Field Scanner Season 4 Range 3 Column 6</td>\n      <td>PI330181</td>\n    </tr>\n    <tr>\n      <th>23580</th>\n      <td>MAC Field Scanner Season 4 Range 3 Column 12</td>\n      <td>PI152771</td>\n    </tr>\n  </tbody>\n</table>\n</div>"
     },
     "metadata": {},
     "output_type": "execute_result",
     "execution_count": 700
    }
   ],
   "source": [
    "cultivar_and_sitename.set_index('sitename')\n",
    "cultivar_and_sitename.head()"
   ]
  },
  {
   "cell_type": "code",
   "execution_count": 701,
   "metadata": {
    "pycharm": {
     "is_executing": false
    }
   },
   "outputs": [
    {
     "data": {
      "text/plain": "                                        sitename  cultivar  \\\n0  MAC Field Scanner Season 4 Range 10 Column 11  PI195754   \n1  MAC Field Scanner Season 4 Range 10 Column 14   PI19770   \n2  MAC Field Scanner Season 4 Range 10 Column 15  PI144134   \n3   MAC Field Scanner Season 4 Range 10 Column 2  PI641807   \n4   MAC Field Scanner Season 4 Range 10 Column 3  PI175919   \n\n   aboveground_dry_biomass  flag_leaf_emergence_time  flowering_time  \n0                  29400.0                      68.0            71.0  \n1                      NaN                      62.0            68.0  \n2                      NaN                      77.0             NaN  \n3                      NaN                      77.0             NaN  \n4                      NaN                      70.0            71.0  ",
      "text/html": "<div>\n<style scoped>\n    .dataframe tbody tr th:only-of-type {\n        vertical-align: middle;\n    }\n\n    .dataframe tbody tr th {\n        vertical-align: top;\n    }\n\n    .dataframe thead th {\n        text-align: right;\n    }\n</style>\n<table border=\"1\" class=\"dataframe\">\n  <thead>\n    <tr style=\"text-align: right;\">\n      <th></th>\n      <th>sitename</th>\n      <th>cultivar</th>\n      <th>aboveground_dry_biomass</th>\n      <th>flag_leaf_emergence_time</th>\n      <th>flowering_time</th>\n    </tr>\n  </thead>\n  <tbody>\n    <tr>\n      <th>0</th>\n      <td>MAC Field Scanner Season 4 Range 10 Column 11</td>\n      <td>PI195754</td>\n      <td>29400.0</td>\n      <td>68.0</td>\n      <td>71.0</td>\n    </tr>\n    <tr>\n      <th>1</th>\n      <td>MAC Field Scanner Season 4 Range 10 Column 14</td>\n      <td>PI19770</td>\n      <td>NaN</td>\n      <td>62.0</td>\n      <td>68.0</td>\n    </tr>\n    <tr>\n      <th>2</th>\n      <td>MAC Field Scanner Season 4 Range 10 Column 15</td>\n      <td>PI144134</td>\n      <td>NaN</td>\n      <td>77.0</td>\n      <td>NaN</td>\n    </tr>\n    <tr>\n      <th>3</th>\n      <td>MAC Field Scanner Season 4 Range 10 Column 2</td>\n      <td>PI641807</td>\n      <td>NaN</td>\n      <td>77.0</td>\n      <td>NaN</td>\n    </tr>\n    <tr>\n      <th>4</th>\n      <td>MAC Field Scanner Season 4 Range 10 Column 3</td>\n      <td>PI175919</td>\n      <td>NaN</td>\n      <td>70.0</td>\n      <td>71.0</td>\n    </tr>\n  </tbody>\n</table>\n</div>"
     },
     "metadata": {},
     "output_type": "execute_result",
     "execution_count": 701
    }
   ],
   "source": [
    "site_cultivar_df = pd.read_csv('site_cultivar_indices.csv')\n",
    "site_cultivar_df.head()"
   ]
  },
  {
   "cell_type": "code",
   "execution_count": 702,
   "metadata": {
    "pycharm": {
     "is_executing": false
    }
   },
   "outputs": [
    {
     "data": {
      "text/plain": "                                        sitename  cultivar  \\\n0  MAC Field Scanner Season 4 Range 10 Column 11  PI195754   \n1  MAC Field Scanner Season 4 Range 10 Column 14   PI19770   \n2  MAC Field Scanner Season 4 Range 10 Column 15  PI144134   \n3   MAC Field Scanner Season 4 Range 10 Column 2  PI641807   \n4   MAC Field Scanner Season 4 Range 10 Column 3  PI175919   \n\n  aboveground_dry_biomass flag_leaf_emergence_time flowering_time  \n0                   29400                       68             71  \n1                                               62             68  \n2                                               77                 \n3                                               77                 \n4                                               70             71  ",
      "text/html": "<div>\n<style scoped>\n    .dataframe tbody tr th:only-of-type {\n        vertical-align: middle;\n    }\n\n    .dataframe tbody tr th {\n        vertical-align: top;\n    }\n\n    .dataframe thead th {\n        text-align: right;\n    }\n</style>\n<table border=\"1\" class=\"dataframe\">\n  <thead>\n    <tr style=\"text-align: right;\">\n      <th></th>\n      <th>sitename</th>\n      <th>cultivar</th>\n      <th>aboveground_dry_biomass</th>\n      <th>flag_leaf_emergence_time</th>\n      <th>flowering_time</th>\n    </tr>\n  </thead>\n  <tbody>\n    <tr>\n      <th>0</th>\n      <td>MAC Field Scanner Season 4 Range 10 Column 11</td>\n      <td>PI195754</td>\n      <td>29400</td>\n      <td>68</td>\n      <td>71</td>\n    </tr>\n    <tr>\n      <th>1</th>\n      <td>MAC Field Scanner Season 4 Range 10 Column 14</td>\n      <td>PI19770</td>\n      <td></td>\n      <td>62</td>\n      <td>68</td>\n    </tr>\n    <tr>\n      <th>2</th>\n      <td>MAC Field Scanner Season 4 Range 10 Column 15</td>\n      <td>PI144134</td>\n      <td></td>\n      <td>77</td>\n      <td></td>\n    </tr>\n    <tr>\n      <th>3</th>\n      <td>MAC Field Scanner Season 4 Range 10 Column 2</td>\n      <td>PI641807</td>\n      <td></td>\n      <td>77</td>\n      <td></td>\n    </tr>\n    <tr>\n      <th>4</th>\n      <td>MAC Field Scanner Season 4 Range 10 Column 3</td>\n      <td>PI175919</td>\n      <td></td>\n      <td>70</td>\n      <td>71</td>\n    </tr>\n  </tbody>\n</table>\n</div>"
     },
     "metadata": {},
     "output_type": "execute_result",
     "execution_count": 702
    }
   ],
   "source": [
    "filled_nas = site_cultivar_df.fillna(value='')\n",
    "filled_nas.head()"
   ]
  },
  {
   "cell_type": "code",
   "execution_count": 703,
   "metadata": {
    "pycharm": {
     "is_executing": false
    }
   },
   "outputs": [
    {
     "data": {
      "text/plain": "                                          sitename  cultivar  \\\n33    MAC Field Scanner Season 4 Range 16 Column 2  PI152727   \n6     MAC Field Scanner Season 4 Range 10 Column 5  PI641821   \n181   MAC Field Scanner Season 4 Range 41 Column 5  PI514456   \n86    MAC Field Scanner Season 4 Range 26 Column 2  PI452619   \n155  MAC Field Scanner Season 4 Range 38 Column 11  PI641835   \n178  MAC Field Scanner Season 4 Range 41 Column 14  PI646242   \n194   MAC Field Scanner Season 4 Range 45 Column 7  PI330796   \n104   MAC Field Scanner Season 4 Range 29 Column 5  PI646266   \n9    MAC Field Scanner Season 4 Range 11 Column 10  PI561840   \n234   MAC Field Scanner Season 4 Range 53 Column 5    SP1615   \n231  MAC Field Scanner Season 4 Range 53 Column 11    SP1615   \n213   MAC Field Scanner Season 4 Range 49 Column 7  PI569423   \n237    MAC Field Scanner Season 4 Range 7 Column 6  PI646242   \n173  MAC Field Scanner Season 4 Range 40 Column 12  PI510757   \n66    MAC Field Scanner Season 4 Range 20 Column 9  PI535792   \n222   MAC Field Scanner Season 4 Range 50 Column 9  PI655978   \n219  MAC Field Scanner Season 4 Range 50 Column 14  PI534165   \n15    MAC Field Scanner Season 4 Range 11 Column 9   PI52606   \n182   MAC Field Scanner Season 4 Range 41 Column 7  PI329584   \n24   MAC Field Scanner Season 4 Range 13 Column 15  PI156268   \n120   MAC Field Scanner Season 4 Range 30 Column 6  PI297171   \n19   MAC Field Scanner Season 4 Range 12 Column 15  PI641825   \n112  MAC Field Scanner Season 4 Range 30 Column 11  PI563022   \n67   MAC Field Scanner Season 4 Range 21 Column 14  PI570388   \n221   MAC Field Scanner Season 4 Range 50 Column 6  PI655972   \n156  MAC Field Scanner Season 4 Range 38 Column 13  PI253986   \n199   MAC Field Scanner Season 4 Range 46 Column 5  PI535796   \n10   MAC Field Scanner Season 4 Range 11 Column 12  PI656065   \n30   MAC Field Scanner Season 4 Range 15 Column 14  PI620157   \n96    MAC Field Scanner Season 4 Range 28 Column 5  PI586541   \n235   MAC Field Scanner Season 4 Range 53 Column 7    SP1615   \n242    MAC Field Scanner Season 4 Range 8 Column 6  PI562990   \n117   MAC Field Scanner Season 4 Range 30 Column 3  PI563006   \n25    MAC Field Scanner Season 4 Range 13 Column 3  PI330833   \n244    MAC Field Scanner Season 4 Range 9 Column 2  PI569416   \n18   MAC Field Scanner Season 4 Range 12 Column 13  PI641824   \n132  MAC Field Scanner Season 4 Range 32 Column 13  PI585966   \n198   MAC Field Scanner Season 4 Range 46 Column 2  PI533792   \n55   MAC Field Scanner Season 4 Range 20 Column 12  PI329435   \n45    MAC Field Scanner Season 4 Range 18 Column 3  PI196598   \n216   MAC Field Scanner Season 4 Range 5 Column 14  PI653617   \n109    MAC Field Scanner Season 4 Range 3 Column 4  PI145626   \n60    MAC Field Scanner Season 4 Range 20 Column 3  PI656026   \n183  MAC Field Scanner Season 4 Range 42 Column 10  PI329665   \n16   MAC Field Scanner Season 4 Range 12 Column 11  PI569443   \n119   MAC Field Scanner Season 4 Range 30 Column 5  PI152727   \n68    MAC Field Scanner Season 4 Range 21 Column 3  PI329570   \n170   MAC Field Scanner Season 4 Range 4 Column 15  PI563355   \n38    MAC Field Scanner Season 4 Range 17 Column 4  PI570090   \n245    MAC Field Scanner Season 4 Range 9 Column 6  PI329351   \n\n    aboveground_dry_biomass flag_leaf_emergence_time flowering_time  \n33                    24380                                          \n6                                                 70                 \n181                   22350                                          \n86                    17930                                          \n155                   28140                                          \n178                   25640                                          \n194                    8227                                          \n104                   35150                                          \n9                     20140                                          \n234                   38580                                          \n231                   33050                                          \n213                   15700                                          \n237                   32700                                          \n173                    8616                                          \n66                    17900                       70             74  \n222                                               62             68  \n219                                               60             63  \n15                                                62                 \n182                    7196                                          \n24                     8841                                          \n120                   27410                                          \n19                    18050                                          \n112                   14990                                          \n67                    28420                                          \n221                   16680                       68             70  \n156                   42420                                          \n199                   25210                       62             70  \n10                                                56             61  \n30                    22940                       56             62  \n96                    19910                                          \n235                   31570                                          \n242                   15810                                          \n117                   11110                                          \n25                    16430                                          \n244                    9052                                          \n18                                                70                 \n132                   12110                                          \n198                    5903                                          \n55                     9525                       61             64  \n45                    30080                                          \n216                                               56                 \n109                   23190                       91                 \n60                    11110                       62             65  \n183                    2734                                          \n16                    25160                                          \n119                   22040                                          \n68                    24900                                          \n170                   15690                                          \n38                    13400                                          \n245                   13300                                          ",
      "text/html": "<div>\n<style scoped>\n    .dataframe tbody tr th:only-of-type {\n        vertical-align: middle;\n    }\n\n    .dataframe tbody tr th {\n        vertical-align: top;\n    }\n\n    .dataframe thead th {\n        text-align: right;\n    }\n</style>\n<table border=\"1\" class=\"dataframe\">\n  <thead>\n    <tr style=\"text-align: right;\">\n      <th></th>\n      <th>sitename</th>\n      <th>cultivar</th>\n      <th>aboveground_dry_biomass</th>\n      <th>flag_leaf_emergence_time</th>\n      <th>flowering_time</th>\n    </tr>\n  </thead>\n  <tbody>\n    <tr>\n      <th>33</th>\n      <td>MAC Field Scanner Season 4 Range 16 Column 2</td>\n      <td>PI152727</td>\n      <td>24380</td>\n      <td></td>\n      <td></td>\n    </tr>\n    <tr>\n      <th>6</th>\n      <td>MAC Field Scanner Season 4 Range 10 Column 5</td>\n      <td>PI641821</td>\n      <td></td>\n      <td>70</td>\n      <td></td>\n    </tr>\n    <tr>\n      <th>181</th>\n      <td>MAC Field Scanner Season 4 Range 41 Column 5</td>\n      <td>PI514456</td>\n      <td>22350</td>\n      <td></td>\n      <td></td>\n    </tr>\n    <tr>\n      <th>86</th>\n      <td>MAC Field Scanner Season 4 Range 26 Column 2</td>\n      <td>PI452619</td>\n      <td>17930</td>\n      <td></td>\n      <td></td>\n    </tr>\n    <tr>\n      <th>155</th>\n      <td>MAC Field Scanner Season 4 Range 38 Column 11</td>\n      <td>PI641835</td>\n      <td>28140</td>\n      <td></td>\n      <td></td>\n    </tr>\n    <tr>\n      <th>178</th>\n      <td>MAC Field Scanner Season 4 Range 41 Column 14</td>\n      <td>PI646242</td>\n      <td>25640</td>\n      <td></td>\n      <td></td>\n    </tr>\n    <tr>\n      <th>194</th>\n      <td>MAC Field Scanner Season 4 Range 45 Column 7</td>\n      <td>PI330796</td>\n      <td>8227</td>\n      <td></td>\n      <td></td>\n    </tr>\n    <tr>\n      <th>104</th>\n      <td>MAC Field Scanner Season 4 Range 29 Column 5</td>\n      <td>PI646266</td>\n      <td>35150</td>\n      <td></td>\n      <td></td>\n    </tr>\n    <tr>\n      <th>9</th>\n      <td>MAC Field Scanner Season 4 Range 11 Column 10</td>\n      <td>PI561840</td>\n      <td>20140</td>\n      <td></td>\n      <td></td>\n    </tr>\n    <tr>\n      <th>234</th>\n      <td>MAC Field Scanner Season 4 Range 53 Column 5</td>\n      <td>SP1615</td>\n      <td>38580</td>\n      <td></td>\n      <td></td>\n    </tr>\n    <tr>\n      <th>231</th>\n      <td>MAC Field Scanner Season 4 Range 53 Column 11</td>\n      <td>SP1615</td>\n      <td>33050</td>\n      <td></td>\n      <td></td>\n    </tr>\n    <tr>\n      <th>213</th>\n      <td>MAC Field Scanner Season 4 Range 49 Column 7</td>\n      <td>PI569423</td>\n      <td>15700</td>\n      <td></td>\n      <td></td>\n    </tr>\n    <tr>\n      <th>237</th>\n      <td>MAC Field Scanner Season 4 Range 7 Column 6</td>\n      <td>PI646242</td>\n      <td>32700</td>\n      <td></td>\n      <td></td>\n    </tr>\n    <tr>\n      <th>173</th>\n      <td>MAC Field Scanner Season 4 Range 40 Column 12</td>\n      <td>PI510757</td>\n      <td>8616</td>\n      <td></td>\n      <td></td>\n    </tr>\n    <tr>\n      <th>66</th>\n      <td>MAC Field Scanner Season 4 Range 20 Column 9</td>\n      <td>PI535792</td>\n      <td>17900</td>\n      <td>70</td>\n      <td>74</td>\n    </tr>\n    <tr>\n      <th>222</th>\n      <td>MAC Field Scanner Season 4 Range 50 Column 9</td>\n      <td>PI655978</td>\n      <td></td>\n      <td>62</td>\n      <td>68</td>\n    </tr>\n    <tr>\n      <th>219</th>\n      <td>MAC Field Scanner Season 4 Range 50 Column 14</td>\n      <td>PI534165</td>\n      <td></td>\n      <td>60</td>\n      <td>63</td>\n    </tr>\n    <tr>\n      <th>15</th>\n      <td>MAC Field Scanner Season 4 Range 11 Column 9</td>\n      <td>PI52606</td>\n      <td></td>\n      <td>62</td>\n      <td></td>\n    </tr>\n    <tr>\n      <th>182</th>\n      <td>MAC Field Scanner Season 4 Range 41 Column 7</td>\n      <td>PI329584</td>\n      <td>7196</td>\n      <td></td>\n      <td></td>\n    </tr>\n    <tr>\n      <th>24</th>\n      <td>MAC Field Scanner Season 4 Range 13 Column 15</td>\n      <td>PI156268</td>\n      <td>8841</td>\n      <td></td>\n      <td></td>\n    </tr>\n    <tr>\n      <th>120</th>\n      <td>MAC Field Scanner Season 4 Range 30 Column 6</td>\n      <td>PI297171</td>\n      <td>27410</td>\n      <td></td>\n      <td></td>\n    </tr>\n    <tr>\n      <th>19</th>\n      <td>MAC Field Scanner Season 4 Range 12 Column 15</td>\n      <td>PI641825</td>\n      <td>18050</td>\n      <td></td>\n      <td></td>\n    </tr>\n    <tr>\n      <th>112</th>\n      <td>MAC Field Scanner Season 4 Range 30 Column 11</td>\n      <td>PI563022</td>\n      <td>14990</td>\n      <td></td>\n      <td></td>\n    </tr>\n    <tr>\n      <th>67</th>\n      <td>MAC Field Scanner Season 4 Range 21 Column 14</td>\n      <td>PI570388</td>\n      <td>28420</td>\n      <td></td>\n      <td></td>\n    </tr>\n    <tr>\n      <th>221</th>\n      <td>MAC Field Scanner Season 4 Range 50 Column 6</td>\n      <td>PI655972</td>\n      <td>16680</td>\n      <td>68</td>\n      <td>70</td>\n    </tr>\n    <tr>\n      <th>156</th>\n      <td>MAC Field Scanner Season 4 Range 38 Column 13</td>\n      <td>PI253986</td>\n      <td>42420</td>\n      <td></td>\n      <td></td>\n    </tr>\n    <tr>\n      <th>199</th>\n      <td>MAC Field Scanner Season 4 Range 46 Column 5</td>\n      <td>PI535796</td>\n      <td>25210</td>\n      <td>62</td>\n      <td>70</td>\n    </tr>\n    <tr>\n      <th>10</th>\n      <td>MAC Field Scanner Season 4 Range 11 Column 12</td>\n      <td>PI656065</td>\n      <td></td>\n      <td>56</td>\n      <td>61</td>\n    </tr>\n    <tr>\n      <th>30</th>\n      <td>MAC Field Scanner Season 4 Range 15 Column 14</td>\n      <td>PI620157</td>\n      <td>22940</td>\n      <td>56</td>\n      <td>62</td>\n    </tr>\n    <tr>\n      <th>96</th>\n      <td>MAC Field Scanner Season 4 Range 28 Column 5</td>\n      <td>PI586541</td>\n      <td>19910</td>\n      <td></td>\n      <td></td>\n    </tr>\n    <tr>\n      <th>235</th>\n      <td>MAC Field Scanner Season 4 Range 53 Column 7</td>\n      <td>SP1615</td>\n      <td>31570</td>\n      <td></td>\n      <td></td>\n    </tr>\n    <tr>\n      <th>242</th>\n      <td>MAC Field Scanner Season 4 Range 8 Column 6</td>\n      <td>PI562990</td>\n      <td>15810</td>\n      <td></td>\n      <td></td>\n    </tr>\n    <tr>\n      <th>117</th>\n      <td>MAC Field Scanner Season 4 Range 30 Column 3</td>\n      <td>PI563006</td>\n      <td>11110</td>\n      <td></td>\n      <td></td>\n    </tr>\n    <tr>\n      <th>25</th>\n      <td>MAC Field Scanner Season 4 Range 13 Column 3</td>\n      <td>PI330833</td>\n      <td>16430</td>\n      <td></td>\n      <td></td>\n    </tr>\n    <tr>\n      <th>244</th>\n      <td>MAC Field Scanner Season 4 Range 9 Column 2</td>\n      <td>PI569416</td>\n      <td>9052</td>\n      <td></td>\n      <td></td>\n    </tr>\n    <tr>\n      <th>18</th>\n      <td>MAC Field Scanner Season 4 Range 12 Column 13</td>\n      <td>PI641824</td>\n      <td></td>\n      <td>70</td>\n      <td></td>\n    </tr>\n    <tr>\n      <th>132</th>\n      <td>MAC Field Scanner Season 4 Range 32 Column 13</td>\n      <td>PI585966</td>\n      <td>12110</td>\n      <td></td>\n      <td></td>\n    </tr>\n    <tr>\n      <th>198</th>\n      <td>MAC Field Scanner Season 4 Range 46 Column 2</td>\n      <td>PI533792</td>\n      <td>5903</td>\n      <td></td>\n      <td></td>\n    </tr>\n    <tr>\n      <th>55</th>\n      <td>MAC Field Scanner Season 4 Range 20 Column 12</td>\n      <td>PI329435</td>\n      <td>9525</td>\n      <td>61</td>\n      <td>64</td>\n    </tr>\n    <tr>\n      <th>45</th>\n      <td>MAC Field Scanner Season 4 Range 18 Column 3</td>\n      <td>PI196598</td>\n      <td>30080</td>\n      <td></td>\n      <td></td>\n    </tr>\n    <tr>\n      <th>216</th>\n      <td>MAC Field Scanner Season 4 Range 5 Column 14</td>\n      <td>PI653617</td>\n      <td></td>\n      <td>56</td>\n      <td></td>\n    </tr>\n    <tr>\n      <th>109</th>\n      <td>MAC Field Scanner Season 4 Range 3 Column 4</td>\n      <td>PI145626</td>\n      <td>23190</td>\n      <td>91</td>\n      <td></td>\n    </tr>\n    <tr>\n      <th>60</th>\n      <td>MAC Field Scanner Season 4 Range 20 Column 3</td>\n      <td>PI656026</td>\n      <td>11110</td>\n      <td>62</td>\n      <td>65</td>\n    </tr>\n    <tr>\n      <th>183</th>\n      <td>MAC Field Scanner Season 4 Range 42 Column 10</td>\n      <td>PI329665</td>\n      <td>2734</td>\n      <td></td>\n      <td></td>\n    </tr>\n    <tr>\n      <th>16</th>\n      <td>MAC Field Scanner Season 4 Range 12 Column 11</td>\n      <td>PI569443</td>\n      <td>25160</td>\n      <td></td>\n      <td></td>\n    </tr>\n    <tr>\n      <th>119</th>\n      <td>MAC Field Scanner Season 4 Range 30 Column 5</td>\n      <td>PI152727</td>\n      <td>22040</td>\n      <td></td>\n      <td></td>\n    </tr>\n    <tr>\n      <th>68</th>\n      <td>MAC Field Scanner Season 4 Range 21 Column 3</td>\n      <td>PI329570</td>\n      <td>24900</td>\n      <td></td>\n      <td></td>\n    </tr>\n    <tr>\n      <th>170</th>\n      <td>MAC Field Scanner Season 4 Range 4 Column 15</td>\n      <td>PI563355</td>\n      <td>15690</td>\n      <td></td>\n      <td></td>\n    </tr>\n    <tr>\n      <th>38</th>\n      <td>MAC Field Scanner Season 4 Range 17 Column 4</td>\n      <td>PI570090</td>\n      <td>13400</td>\n      <td></td>\n      <td></td>\n    </tr>\n    <tr>\n      <th>245</th>\n      <td>MAC Field Scanner Season 4 Range 9 Column 6</td>\n      <td>PI329351</td>\n      <td>13300</td>\n      <td></td>\n      <td></td>\n    </tr>\n  </tbody>\n</table>\n</div>"
     },
     "metadata": {},
     "output_type": "execute_result",
     "execution_count": 703
    }
   ],
   "source": [
    "filled_nas.sample(n=50, random_state=42)"
   ]
  },
  {
   "cell_type": "code",
   "execution_count": 704,
   "metadata": {
    "pycharm": {
     "is_executing": false
    }
   },
   "outputs": [
    {
     "data": {
      "text/plain": "                                          sitename  cultivar  \\\n66    MAC Field Scanner Season 4 Range 20 Column 9  PI535792   \n72    MAC Field Scanner Season 4 Range 22 Column 7  PI330196   \n173  MAC Field Scanner Season 4 Range 40 Column 12  PI510757   \n152  MAC Field Scanner Season 4 Range 37 Column 11  PI152694   \n93    MAC Field Scanner Season 4 Range 27 Column 7  PI196586   \n\n    aboveground_dry_biomass flag_leaf_emergence_time flowering_time  \n66                    17900                       70             74  \n72                    32030                                          \n173                    8616                                          \n152                   27190                                          \n93                    28130                                          ",
      "text/html": "<div>\n<style scoped>\n    .dataframe tbody tr th:only-of-type {\n        vertical-align: middle;\n    }\n\n    .dataframe tbody tr th {\n        vertical-align: top;\n    }\n\n    .dataframe thead th {\n        text-align: right;\n    }\n</style>\n<table border=\"1\" class=\"dataframe\">\n  <thead>\n    <tr style=\"text-align: right;\">\n      <th></th>\n      <th>sitename</th>\n      <th>cultivar</th>\n      <th>aboveground_dry_biomass</th>\n      <th>flag_leaf_emergence_time</th>\n      <th>flowering_time</th>\n    </tr>\n  </thead>\n  <tbody>\n    <tr>\n      <th>66</th>\n      <td>MAC Field Scanner Season 4 Range 20 Column 9</td>\n      <td>PI535792</td>\n      <td>17900</td>\n      <td>70</td>\n      <td>74</td>\n    </tr>\n    <tr>\n      <th>72</th>\n      <td>MAC Field Scanner Season 4 Range 22 Column 7</td>\n      <td>PI330196</td>\n      <td>32030</td>\n      <td></td>\n      <td></td>\n    </tr>\n    <tr>\n      <th>173</th>\n      <td>MAC Field Scanner Season 4 Range 40 Column 12</td>\n      <td>PI510757</td>\n      <td>8616</td>\n      <td></td>\n      <td></td>\n    </tr>\n    <tr>\n      <th>152</th>\n      <td>MAC Field Scanner Season 4 Range 37 Column 11</td>\n      <td>PI152694</td>\n      <td>27190</td>\n      <td></td>\n      <td></td>\n    </tr>\n    <tr>\n      <th>93</th>\n      <td>MAC Field Scanner Season 4 Range 27 Column 7</td>\n      <td>PI196586</td>\n      <td>28130</td>\n      <td></td>\n      <td></td>\n    </tr>\n  </tbody>\n</table>\n</div>"
     },
     "metadata": {},
     "output_type": "execute_result",
     "execution_count": 704
    }
   ],
   "source": [
    "filled_nas_sample = filled_nas.sample(n=50, random_state=43)\n",
    "filled_nas_sample.tail()"
   ]
  },
  {
   "cell_type": "code",
   "execution_count": 705,
   "metadata": {
    "pycharm": {
     "is_executing": false
    }
   },
   "outputs": [],
   "source": [
    "filled_nas_sample.to_csv('sample_subset_season_4.csv', index=False)"
   ]
  },
  {
   "cell_type": "code",
   "execution_count": 706,
   "metadata": {
    "pycharm": {
     "is_executing": false
    }
   },
   "outputs": [],
   "source": [
    "filled_nas.to_csv('transformed_data_season_4.csv', index=False)"
   ]
  },
  {
   "cell_type": "markdown",
   "metadata": {},
   "source": [
    "#### Need Max Canopy Height"
   ]
  },
  {
   "cell_type": "code",
   "execution_count": 707,
   "metadata": {
    "pycharm": {
     "is_executing": false
    }
   },
   "outputs": [
    {
     "data": {
      "text/plain": "   Unnamed: 0  checked result_type          id   citation_id     site_id  \\\n0           1        0      traits  6001958927  6.000000e+09  6000005673   \n1           2        0      traits  6001958928  6.000000e+09  6000005676   \n2           3        0      traits  6001958931  6.000000e+09  6000005685   \n3           4        0      traits  6001958933  6.000000e+09  6000005691   \n4           5        0      traits  6001958936  6.000000e+09  6000005700   \n\n   treatment_id                                       sitename      city  \\\n0  6.000000e+09   MAC Field Scanner Season 4 Range 11 Column 5  Maricopa   \n1  6.000000e+09   MAC Field Scanner Season 4 Range 11 Column 6  Maricopa   \n2  6.000000e+09   MAC Field Scanner Season 4 Range 11 Column 9  Maricopa   \n3  6.000000e+09  MAC Field Scanner Season 4 Range 11 Column 11  Maricopa   \n4  6.000000e+09  MAC Field Scanner Season 4 Range 11 Column 14  Maricopa   \n\n         lat  ...   n statname stat notes  access_level  cultivar entity  \\\n0  33.074907  ... NaN      NaN  NaN   NaN             2  PI181083    NaN   \n1  33.074907  ... NaN      NaN  NaN   NaN             2  PI564163    NaN   \n2  33.074907  ... NaN      NaN  NaN   NaN             2   PI52606    NaN   \n3  33.074907  ... NaN      NaN  NaN   NaN             2  PI533792    NaN   \n4  33.074907  ... NaN      NaN  NaN   NaN             2  PI535794    NaN   \n\n                             method_name  \\\n0  Visual assessment of leaf dessication   \n1  Visual assessment of leaf dessication   \n2  Visual assessment of leaf dessication   \n3  Visual assessment of leaf dessication   \n4  Visual assessment of leaf dessication   \n\n                                            view_url  \\\n0  https://terraref.ncsa.illinois.edu/bety/traits...   \n1  https://terraref.ncsa.illinois.edu/bety/traits...   \n2  https://terraref.ncsa.illinois.edu/bety/traits...   \n3  https://terraref.ncsa.illinois.edu/bety/traits...   \n4  https://terraref.ncsa.illinois.edu/bety/traits...   \n\n                                            edit_url  \n0  https://terraref.ncsa.illinois.edu/bety/traits...  \n1  https://terraref.ncsa.illinois.edu/bety/traits...  \n2  https://terraref.ncsa.illinois.edu/bety/traits...  \n3  https://terraref.ncsa.illinois.edu/bety/traits...  \n4  https://terraref.ncsa.illinois.edu/bety/traits...  \n\n[5 rows x 39 columns]",
      "text/html": "<div>\n<style scoped>\n    .dataframe tbody tr th:only-of-type {\n        vertical-align: middle;\n    }\n\n    .dataframe tbody tr th {\n        vertical-align: top;\n    }\n\n    .dataframe thead th {\n        text-align: right;\n    }\n</style>\n<table border=\"1\" class=\"dataframe\">\n  <thead>\n    <tr style=\"text-align: right;\">\n      <th></th>\n      <th>Unnamed: 0</th>\n      <th>checked</th>\n      <th>result_type</th>\n      <th>id</th>\n      <th>citation_id</th>\n      <th>site_id</th>\n      <th>treatment_id</th>\n      <th>sitename</th>\n      <th>city</th>\n      <th>lat</th>\n      <th>...</th>\n      <th>n</th>\n      <th>statname</th>\n      <th>stat</th>\n      <th>notes</th>\n      <th>access_level</th>\n      <th>cultivar</th>\n      <th>entity</th>\n      <th>method_name</th>\n      <th>view_url</th>\n      <th>edit_url</th>\n    </tr>\n  </thead>\n  <tbody>\n    <tr>\n      <th>0</th>\n      <td>1</td>\n      <td>0</td>\n      <td>traits</td>\n      <td>6001958927</td>\n      <td>6.000000e+09</td>\n      <td>6000005673</td>\n      <td>6.000000e+09</td>\n      <td>MAC Field Scanner Season 4 Range 11 Column 5</td>\n      <td>Maricopa</td>\n      <td>33.074907</td>\n      <td>...</td>\n      <td>NaN</td>\n      <td>NaN</td>\n      <td>NaN</td>\n      <td>NaN</td>\n      <td>2</td>\n      <td>PI181083</td>\n      <td>NaN</td>\n      <td>Visual assessment of leaf dessication</td>\n      <td>https://terraref.ncsa.illinois.edu/bety/traits...</td>\n      <td>https://terraref.ncsa.illinois.edu/bety/traits...</td>\n    </tr>\n    <tr>\n      <th>1</th>\n      <td>2</td>\n      <td>0</td>\n      <td>traits</td>\n      <td>6001958928</td>\n      <td>6.000000e+09</td>\n      <td>6000005676</td>\n      <td>6.000000e+09</td>\n      <td>MAC Field Scanner Season 4 Range 11 Column 6</td>\n      <td>Maricopa</td>\n      <td>33.074907</td>\n      <td>...</td>\n      <td>NaN</td>\n      <td>NaN</td>\n      <td>NaN</td>\n      <td>NaN</td>\n      <td>2</td>\n      <td>PI564163</td>\n      <td>NaN</td>\n      <td>Visual assessment of leaf dessication</td>\n      <td>https://terraref.ncsa.illinois.edu/bety/traits...</td>\n      <td>https://terraref.ncsa.illinois.edu/bety/traits...</td>\n    </tr>\n    <tr>\n      <th>2</th>\n      <td>3</td>\n      <td>0</td>\n      <td>traits</td>\n      <td>6001958931</td>\n      <td>6.000000e+09</td>\n      <td>6000005685</td>\n      <td>6.000000e+09</td>\n      <td>MAC Field Scanner Season 4 Range 11 Column 9</td>\n      <td>Maricopa</td>\n      <td>33.074907</td>\n      <td>...</td>\n      <td>NaN</td>\n      <td>NaN</td>\n      <td>NaN</td>\n      <td>NaN</td>\n      <td>2</td>\n      <td>PI52606</td>\n      <td>NaN</td>\n      <td>Visual assessment of leaf dessication</td>\n      <td>https://terraref.ncsa.illinois.edu/bety/traits...</td>\n      <td>https://terraref.ncsa.illinois.edu/bety/traits...</td>\n    </tr>\n    <tr>\n      <th>3</th>\n      <td>4</td>\n      <td>0</td>\n      <td>traits</td>\n      <td>6001958933</td>\n      <td>6.000000e+09</td>\n      <td>6000005691</td>\n      <td>6.000000e+09</td>\n      <td>MAC Field Scanner Season 4 Range 11 Column 11</td>\n      <td>Maricopa</td>\n      <td>33.074907</td>\n      <td>...</td>\n      <td>NaN</td>\n      <td>NaN</td>\n      <td>NaN</td>\n      <td>NaN</td>\n      <td>2</td>\n      <td>PI533792</td>\n      <td>NaN</td>\n      <td>Visual assessment of leaf dessication</td>\n      <td>https://terraref.ncsa.illinois.edu/bety/traits...</td>\n      <td>https://terraref.ncsa.illinois.edu/bety/traits...</td>\n    </tr>\n    <tr>\n      <th>4</th>\n      <td>5</td>\n      <td>0</td>\n      <td>traits</td>\n      <td>6001958936</td>\n      <td>6.000000e+09</td>\n      <td>6000005700</td>\n      <td>6.000000e+09</td>\n      <td>MAC Field Scanner Season 4 Range 11 Column 14</td>\n      <td>Maricopa</td>\n      <td>33.074907</td>\n      <td>...</td>\n      <td>NaN</td>\n      <td>NaN</td>\n      <td>NaN</td>\n      <td>NaN</td>\n      <td>2</td>\n      <td>PI535794</td>\n      <td>NaN</td>\n      <td>Visual assessment of leaf dessication</td>\n      <td>https://terraref.ncsa.illinois.edu/bety/traits...</td>\n      <td>https://terraref.ncsa.illinois.edu/bety/traits...</td>\n    </tr>\n  </tbody>\n</table>\n<p>5 rows × 39 columns</p>\n</div>"
     },
     "metadata": {},
     "output_type": "execute_result",
     "execution_count": 707
    }
   ],
   "source": [
    "season_four = pd.read_csv('../data/raw/mac_season_4.csv')\n",
    "season_four.head()"
   ]
  },
  {
   "cell_type": "code",
   "execution_count": 708,
   "metadata": {
    "pycharm": {
     "is_executing": false
    }
   },
   "outputs": [
    {
     "data": {
      "text/plain": "array(['leaf_desiccation_present', 'lodging_present', 'leaf_temperature',\n       'planter_seed_drop', 'roll', 'PhiNO', 'PhiNPQ', 'absorbance_530',\n       'absorbance_605', 'absorbance_730', 'absorbance_880',\n       'absorbance_940', 'Fs', 'NPQt', 'qL', 'qP', 'RFd', 'SPAD_530',\n       'SPAD_605', 'SPAD_730', 'leaf_thickness', 'ambient_humidity',\n       'leaf_angle_clamp_position', 'pitch', 'proximal_air_temperature',\n       'FvP/FmP', 'gH+', 'ECSt', 'leaf_temperature_differential', 'Phi2',\n       'relative_chlorophyll', 'FmPrime', 'FoPrime', 'LEF', 'SPAD_420',\n       'SPAD_650', 'SPAD_850', 'SPAD_880', 'light_intensity_PAR', 'vH+',\n       'absorbance_650', 'absorbance_850', 'absorbance_420',\n       'surface_temperature', 'leaf_angle_chi', 'leaf_angle_mean',\n       'leaf_angle_alpha', 'leaf_angle_beta', 'aboveground_dry_biomass',\n       'seedling_emergence_rate', 'panicle_height', 'stand_count',\n       'dry_matter_fraction', 'harvest_lodging_rating', 'canopy_height',\n       'anthocyanin_index', 'chlorophyll_index',\n       'flag_leaf_emergence_time', 'flowering_time', 'grain_stage_time',\n       'leaf_length', 'leaf_width', 'leaf_stomatal_conductance',\n       'aboveground_biomass_moisture', 'aboveground_fresh_biomass',\n       'canopy_cover', 'panicle_count', 'panicle_volume',\n       'panicle_surface_area', 'stem_elongated_internodes_number',\n       'emergence_count', 'stalk_diameter_fixed_height',\n       'stalk_diameter_minor_axis', 'stalk_diameter_major_axis',\n       'plant_basal_tiller_number'], dtype=object)"
     },
     "metadata": {},
     "output_type": "execute_result",
     "execution_count": 708
    }
   ],
   "source": [
    "season_four.trait.unique()"
   ]
  },
  {
   "cell_type": "code",
   "execution_count": 709,
   "metadata": {
    "pycharm": {
     "is_executing": false
    }
   },
   "outputs": [
    {
     "data": {
      "text/plain": "(58056, 39)"
     },
     "metadata": {},
     "output_type": "execute_result",
     "execution_count": 709
    }
   ],
   "source": [
    "canopy_height = season_four.loc[season_four.trait == 'canopy_height']\n",
    "canopy_height.shape"
   ]
  },
  {
   "cell_type": "code",
   "execution_count": 710,
   "metadata": {
    "pycharm": {
     "is_executing": false
    }
   },
   "outputs": [
    {
     "data": {
      "text/plain": "                                              sitename  \\\n51339   MAC Field Scanner Season 4 Range 30 Column 9 E   \n51340  MAC Field Scanner Season 4 Range 20 Column 15 W   \n51341  MAC Field Scanner Season 4 Range 20 Column 15 W   \n75000    MAC Field Scanner Season 4 Range 35 Column 14   \n75001     MAC Field Scanner Season 4 Range 36 Column 2   \n\n                                date                           time  \\\n51339  2017 Jun 19 (America/Phoenix)  [time unspecified or unknown]   \n51340   2017 Jun 4 (America/Phoenix)  [time unspecified or unknown]   \n51341  2017 May 29 (America/Phoenix)  [time unspecified or unknown]   \n75000                    2017 May 20     12:00:00 (America/Phoenix)   \n75001                    2017 May 20     12:00:00 (America/Phoenix)   \n\n                        raw_date  month  year  dateloc          trait  \\\n51339  2017-06-20 00:00:00 -0500      6  2017      5.0  canopy_height   \n51340  2017-06-05 00:00:00 -0500      6  2017      5.0  canopy_height   \n51341  2017-05-30 00:00:00 -0500      5  2017      5.0  canopy_height   \n75000  2017-05-20 14:00:00 -0500      5  2017      5.0  canopy_height   \n75001  2017-05-20 14:00:00 -0500      5  2017      5.0  canopy_height   \n\n                                       trait_description  mean units  cultivar  \n51339  top of the general canopy of the plant, discou...  91.0    cm  PI329518  \n51340  top of the general canopy of the plant, discou...  99.0    cm  PI152828  \n51341  top of the general canopy of the plant, discou...  63.0    cm  PI152828  \n75000  top of the general canopy of the plant, discou...  22.0    cm  PI619838  \n75001  top of the general canopy of the plant, discou...  26.0    cm  PI155885  ",
      "text/html": "<div>\n<style scoped>\n    .dataframe tbody tr th:only-of-type {\n        vertical-align: middle;\n    }\n\n    .dataframe tbody tr th {\n        vertical-align: top;\n    }\n\n    .dataframe thead th {\n        text-align: right;\n    }\n</style>\n<table border=\"1\" class=\"dataframe\">\n  <thead>\n    <tr style=\"text-align: right;\">\n      <th></th>\n      <th>sitename</th>\n      <th>date</th>\n      <th>time</th>\n      <th>raw_date</th>\n      <th>month</th>\n      <th>year</th>\n      <th>dateloc</th>\n      <th>trait</th>\n      <th>trait_description</th>\n      <th>mean</th>\n      <th>units</th>\n      <th>cultivar</th>\n    </tr>\n  </thead>\n  <tbody>\n    <tr>\n      <th>51339</th>\n      <td>MAC Field Scanner Season 4 Range 30 Column 9 E</td>\n      <td>2017 Jun 19 (America/Phoenix)</td>\n      <td>[time unspecified or unknown]</td>\n      <td>2017-06-20 00:00:00 -0500</td>\n      <td>6</td>\n      <td>2017</td>\n      <td>5.0</td>\n      <td>canopy_height</td>\n      <td>top of the general canopy of the plant, discou...</td>\n      <td>91.0</td>\n      <td>cm</td>\n      <td>PI329518</td>\n    </tr>\n    <tr>\n      <th>51340</th>\n      <td>MAC Field Scanner Season 4 Range 20 Column 15 W</td>\n      <td>2017 Jun 4 (America/Phoenix)</td>\n      <td>[time unspecified or unknown]</td>\n      <td>2017-06-05 00:00:00 -0500</td>\n      <td>6</td>\n      <td>2017</td>\n      <td>5.0</td>\n      <td>canopy_height</td>\n      <td>top of the general canopy of the plant, discou...</td>\n      <td>99.0</td>\n      <td>cm</td>\n      <td>PI152828</td>\n    </tr>\n    <tr>\n      <th>51341</th>\n      <td>MAC Field Scanner Season 4 Range 20 Column 15 W</td>\n      <td>2017 May 29 (America/Phoenix)</td>\n      <td>[time unspecified or unknown]</td>\n      <td>2017-05-30 00:00:00 -0500</td>\n      <td>5</td>\n      <td>2017</td>\n      <td>5.0</td>\n      <td>canopy_height</td>\n      <td>top of the general canopy of the plant, discou...</td>\n      <td>63.0</td>\n      <td>cm</td>\n      <td>PI152828</td>\n    </tr>\n    <tr>\n      <th>75000</th>\n      <td>MAC Field Scanner Season 4 Range 35 Column 14</td>\n      <td>2017 May 20</td>\n      <td>12:00:00 (America/Phoenix)</td>\n      <td>2017-05-20 14:00:00 -0500</td>\n      <td>5</td>\n      <td>2017</td>\n      <td>5.0</td>\n      <td>canopy_height</td>\n      <td>top of the general canopy of the plant, discou...</td>\n      <td>22.0</td>\n      <td>cm</td>\n      <td>PI619838</td>\n    </tr>\n    <tr>\n      <th>75001</th>\n      <td>MAC Field Scanner Season 4 Range 36 Column 2</td>\n      <td>2017 May 20</td>\n      <td>12:00:00 (America/Phoenix)</td>\n      <td>2017-05-20 14:00:00 -0500</td>\n      <td>5</td>\n      <td>2017</td>\n      <td>5.0</td>\n      <td>canopy_height</td>\n      <td>top of the general canopy of the plant, discou...</td>\n      <td>26.0</td>\n      <td>cm</td>\n      <td>PI155885</td>\n    </tr>\n  </tbody>\n</table>\n</div>"
     },
     "metadata": {},
     "output_type": "execute_result",
     "execution_count": 710
    }
   ],
   "source": [
    "# drop similar columns to above but keep date cols for now\n",
    "\n",
    "cols_to_drop = ['Unnamed: 0', 'checked', 'result_type', 'citation_id', 'scientificname', 'species_id', 'author', \\\n",
    "                'citation_year', 'treatment', 'n', 'statname', 'stat', 'notes', 'access_level', 'entity', \\\n",
    "                'method_name', 'view_url', 'edit_url', 'treatment_id', 'city', 'commonname', 'genus', 'id', \\\n",
    "               'site_id', 'lat', 'lon', 'cultivar_id']\n",
    "\n",
    "dropped_col_df = canopy_height.drop(labels=cols_to_drop, axis=1)\n",
    "dropped_col_df.head()"
   ]
  },
  {
   "cell_type": "code",
   "execution_count": 711,
   "metadata": {
    "pycharm": {
     "is_executing": false
    }
   },
   "outputs": [
    {
     "data": {
      "text/plain": "array(['top of the general canopy of the plant, discounting any exceptional branches, leaves or photosynthetic portions of the inflorescence.'],\n      dtype=object)"
     },
     "metadata": {},
     "output_type": "execute_result",
     "execution_count": 711
    }
   ],
   "source": [
    "dropped_col_df.trait_description.unique()"
   ]
  },
  {
   "cell_type": "code",
   "execution_count": 712,
   "metadata": {
    "pycharm": {
     "is_executing": false
    }
   },
   "outputs": [
    {
     "data": {
      "text/plain": "51339     False\n51340     False\n51341      True\n75000     False\n75001     False\n          ...  \n354995     True\n354996     True\n354997     True\n354998     True\n354999     True\nLength: 58056, dtype: bool"
     },
     "metadata": {},
     "output_type": "execute_result",
     "execution_count": 712
    }
   ],
   "source": [
    "dropped_col_df.duplicated(subset='sitename')"
   ]
  },
  {
   "cell_type": "code",
   "execution_count": 713,
   "metadata": {
    "pycharm": {
     "is_executing": false
    }
   },
   "outputs": [],
   "source": [
    "test_df = dropped_col_df.drop(labels=['time', 'dateloc', 'trait_description'], axis=1)"
   ]
  },
  {
   "cell_type": "code",
   "execution_count": 714,
   "metadata": {
    "pycharm": {
     "is_executing": false
    }
   },
   "outputs": [
    {
     "data": {
      "text/plain": "0       blah blah\n1     blah blah W\n2     blah blah X\n3    blahblahblah\n4     blah blah E\ndtype: object"
     },
     "metadata": {},
     "output_type": "execute_result",
     "execution_count": 714
    }
   ],
   "source": [
    "test_series = pd.Series(data = test_string)\n",
    "test_series"
   ]
  },
  {
   "cell_type": "code",
   "execution_count": 740,
   "metadata": {
    "pycharm": {
     "is_executing": false
    }
   },
   "outputs": [
    {
     "data": {
      "text/plain": "True     57328\nFalse      728\ndtype: int64"
     },
     "metadata": {},
     "output_type": "execute_result",
     "execution_count": 740
    }
   ],
   "source": [
    "# Check for multiple measurements for each site (more than one date)\n",
    "\n",
    "multiple_measurements = new_test_df.duplicated(subset=['new_sitename', 'cultivar'])\n",
    "multiple_measurements.value_counts()"
   ]
  },
  {
   "cell_type": "code",
   "execution_count": 741,
   "metadata": {
    "pycharm": {
     "is_executing": false
    }
   },
   "outputs": [
    {
     "data": {
      "text/plain": "                         raw_date          trait   mean  cultivar  \\\n304659  2017-08-30 14:00:00 -0500  canopy_height  337.0  PI452619   \n191109  2017-08-30 14:00:00 -0500  canopy_height  346.0  PI585966   \n191102  2017-08-30 14:00:00 -0500  canopy_height  386.0  PI513898   \n191103  2017-08-30 14:00:00 -0500  canopy_height  377.0  PI329466   \n191104  2017-08-30 14:00:00 -0500  canopy_height  395.0  PI154944   \n\n                                         new_sitename  \n304659  MAC Field Scanner Season 4 Range 34 Column 14  \n191109  MAC Field Scanner Season 4 Range 16 Column 11  \n191102  MAC Field Scanner Season 4 Range 15 Column 10  \n191103  MAC Field Scanner Season 4 Range 15 Column 11  \n191104  MAC Field Scanner Season 4 Range 15 Column 12  ",
      "text/html": "<div>\n<style scoped>\n    .dataframe tbody tr th:only-of-type {\n        vertical-align: middle;\n    }\n\n    .dataframe tbody tr th {\n        vertical-align: top;\n    }\n\n    .dataframe thead th {\n        text-align: right;\n    }\n</style>\n<table border=\"1\" class=\"dataframe\">\n  <thead>\n    <tr style=\"text-align: right;\">\n      <th></th>\n      <th>raw_date</th>\n      <th>trait</th>\n      <th>mean</th>\n      <th>cultivar</th>\n      <th>new_sitename</th>\n    </tr>\n  </thead>\n  <tbody>\n    <tr>\n      <th>304659</th>\n      <td>2017-08-30 14:00:00 -0500</td>\n      <td>canopy_height</td>\n      <td>337.0</td>\n      <td>PI452619</td>\n      <td>MAC Field Scanner Season 4 Range 34 Column 14</td>\n    </tr>\n    <tr>\n      <th>191109</th>\n      <td>2017-08-30 14:00:00 -0500</td>\n      <td>canopy_height</td>\n      <td>346.0</td>\n      <td>PI585966</td>\n      <td>MAC Field Scanner Season 4 Range 16 Column 11</td>\n    </tr>\n    <tr>\n      <th>191102</th>\n      <td>2017-08-30 14:00:00 -0500</td>\n      <td>canopy_height</td>\n      <td>386.0</td>\n      <td>PI513898</td>\n      <td>MAC Field Scanner Season 4 Range 15 Column 10</td>\n    </tr>\n    <tr>\n      <th>191103</th>\n      <td>2017-08-30 14:00:00 -0500</td>\n      <td>canopy_height</td>\n      <td>377.0</td>\n      <td>PI329466</td>\n      <td>MAC Field Scanner Season 4 Range 15 Column 11</td>\n    </tr>\n    <tr>\n      <th>191104</th>\n      <td>2017-08-30 14:00:00 -0500</td>\n      <td>canopy_height</td>\n      <td>395.0</td>\n      <td>PI154944</td>\n      <td>MAC Field Scanner Season 4 Range 15 Column 12</td>\n    </tr>\n  </tbody>\n</table>\n</div>"
     },
     "metadata": {},
     "output_type": "execute_result",
     "execution_count": 741
    }
   ],
   "source": [
    "sorted_dates = new_test_df.sort_values(by='raw_date', ascending=False)\n",
    "sorted_dates.head()"
   ]
  },
  {
   "cell_type": "code",
   "execution_count": 742,
   "metadata": {
    "pycharm": {
     "is_executing": false
    }
   },
   "outputs": [
    {
     "data": {
      "text/plain": "                         raw_date          trait  mean  cultivar  \\\n96268   2017-05-01 14:00:00 -0500  canopy_height  11.0  PI329286   \n96267   2017-05-01 14:00:00 -0500  canopy_height  12.0  PI563331   \n96266   2017-05-01 14:00:00 -0500  canopy_height  12.0  PI452542   \n96265   2017-05-01 14:00:00 -0500  canopy_height  12.0  PI329256   \n158820  2017-05-01 14:00:00 -0500  canopy_height  10.0  PI569445   \n\n                                         new_sitename  \n96268     MAC Field Scanner Season 4 Range 6 Column 4  \n96267    MAC Field Scanner Season 4 Range 5 Column 12  \n96266    MAC Field Scanner Season 4 Range 5 Column 11  \n96265    MAC Field Scanner Season 4 Range 5 Column 10  \n158820  MAC Field Scanner Season 4 Range 34 Column 12  ",
      "text/html": "<div>\n<style scoped>\n    .dataframe tbody tr th:only-of-type {\n        vertical-align: middle;\n    }\n\n    .dataframe tbody tr th {\n        vertical-align: top;\n    }\n\n    .dataframe thead th {\n        text-align: right;\n    }\n</style>\n<table border=\"1\" class=\"dataframe\">\n  <thead>\n    <tr style=\"text-align: right;\">\n      <th></th>\n      <th>raw_date</th>\n      <th>trait</th>\n      <th>mean</th>\n      <th>cultivar</th>\n      <th>new_sitename</th>\n    </tr>\n  </thead>\n  <tbody>\n    <tr>\n      <th>96268</th>\n      <td>2017-05-01 14:00:00 -0500</td>\n      <td>canopy_height</td>\n      <td>11.0</td>\n      <td>PI329286</td>\n      <td>MAC Field Scanner Season 4 Range 6 Column 4</td>\n    </tr>\n    <tr>\n      <th>96267</th>\n      <td>2017-05-01 14:00:00 -0500</td>\n      <td>canopy_height</td>\n      <td>12.0</td>\n      <td>PI563331</td>\n      <td>MAC Field Scanner Season 4 Range 5 Column 12</td>\n    </tr>\n    <tr>\n      <th>96266</th>\n      <td>2017-05-01 14:00:00 -0500</td>\n      <td>canopy_height</td>\n      <td>12.0</td>\n      <td>PI452542</td>\n      <td>MAC Field Scanner Season 4 Range 5 Column 11</td>\n    </tr>\n    <tr>\n      <th>96265</th>\n      <td>2017-05-01 14:00:00 -0500</td>\n      <td>canopy_height</td>\n      <td>12.0</td>\n      <td>PI329256</td>\n      <td>MAC Field Scanner Season 4 Range 5 Column 10</td>\n    </tr>\n    <tr>\n      <th>158820</th>\n      <td>2017-05-01 14:00:00 -0500</td>\n      <td>canopy_height</td>\n      <td>10.0</td>\n      <td>PI569445</td>\n      <td>MAC Field Scanner Season 4 Range 34 Column 12</td>\n    </tr>\n  </tbody>\n</table>\n</div>"
     },
     "metadata": {},
     "output_type": "execute_result",
     "execution_count": 742
    }
   ],
   "source": [
    "sorted_dates.tail()"
   ]
  },
  {
   "cell_type": "code",
   "execution_count": 743,
   "metadata": {
    "pycharm": {
     "is_executing": false
    }
   },
   "outputs": [
    {
     "data": {
      "text/plain": "(58056, 5)"
     },
     "metadata": {},
     "output_type": "execute_result",
     "execution_count": 743
    }
   ],
   "source": [
    "new_test_df.shape"
   ]
  },
  {
   "cell_type": "code",
   "execution_count": 744,
   "metadata": {
    "pycharm": {
     "is_executing": false
    }
   },
   "outputs": [],
   "source": [
    "dropped_duplicates = sorted_dates.drop_duplicates(subset='new_sitename', keep='first')"
   ]
  },
  {
   "cell_type": "code",
   "execution_count": 745,
   "metadata": {
    "pycharm": {
     "is_executing": false
    }
   },
   "outputs": [
    {
     "data": {
      "text/plain": "(728, 5)"
     },
     "metadata": {},
     "output_type": "execute_result",
     "execution_count": 745
    }
   ],
   "source": [
    "dropped_duplicates.shape"
   ]
  },
  {
   "cell_type": "code",
   "execution_count": 746,
   "metadata": {
    "pycharm": {
     "is_executing": false
    }
   },
   "outputs": [
    {
     "data": {
      "text/plain": "'2017-06-05 00:00:00 -0500'"
     },
     "metadata": {},
     "output_type": "execute_result",
     "execution_count": 746
    }
   ],
   "source": []
  },
  {
   "cell_type": "code",
   "execution_count": 754,
   "metadata": {
    "pycharm": {
     "is_executing": false
    }
   },
   "outputs": [
    {
     "data": {
      "text/plain": "(728, 1)"
     },
     "metadata": {},
     "output_type": "execute_result",
     "execution_count": 754
    }
   ],
   "source": [
    "# compare to earlier table with days to flowering, days to leaf emergence, and aboveground dry biomass\n",
    "\n",
    "sitename_index_canopy.shape"
   ]
  },
  {
   "cell_type": "code",
   "execution_count": 755,
   "metadata": {
    "pycharm": {
     "is_executing": false
    }
   },
   "outputs": [
    {
     "data": {
      "text/plain": "                                        sitename  cultivar  \\\n0  MAC Field Scanner Season 4 Range 10 Column 11  PI195754   \n1  MAC Field Scanner Season 4 Range 10 Column 14   PI19770   \n2  MAC Field Scanner Season 4 Range 10 Column 15  PI144134   \n3   MAC Field Scanner Season 4 Range 10 Column 2  PI641807   \n4   MAC Field Scanner Season 4 Range 10 Column 3  PI175919   \n\n   aboveground_dry_biomass  flag_leaf_emergence_time  flowering_time  \n0                  29400.0                      68.0            71.0  \n1                      NaN                      62.0            68.0  \n2                      NaN                      77.0             NaN  \n3                      NaN                      77.0             NaN  \n4                      NaN                      70.0            71.0  ",
      "text/html": "<div>\n<style scoped>\n    .dataframe tbody tr th:only-of-type {\n        vertical-align: middle;\n    }\n\n    .dataframe tbody tr th {\n        vertical-align: top;\n    }\n\n    .dataframe thead th {\n        text-align: right;\n    }\n</style>\n<table border=\"1\" class=\"dataframe\">\n  <thead>\n    <tr style=\"text-align: right;\">\n      <th></th>\n      <th>sitename</th>\n      <th>cultivar</th>\n      <th>aboveground_dry_biomass</th>\n      <th>flag_leaf_emergence_time</th>\n      <th>flowering_time</th>\n    </tr>\n  </thead>\n  <tbody>\n    <tr>\n      <th>0</th>\n      <td>MAC Field Scanner Season 4 Range 10 Column 11</td>\n      <td>PI195754</td>\n      <td>29400.0</td>\n      <td>68.0</td>\n      <td>71.0</td>\n    </tr>\n    <tr>\n      <th>1</th>\n      <td>MAC Field Scanner Season 4 Range 10 Column 14</td>\n      <td>PI19770</td>\n      <td>NaN</td>\n      <td>62.0</td>\n      <td>68.0</td>\n    </tr>\n    <tr>\n      <th>2</th>\n      <td>MAC Field Scanner Season 4 Range 10 Column 15</td>\n      <td>PI144134</td>\n      <td>NaN</td>\n      <td>77.0</td>\n      <td>NaN</td>\n    </tr>\n    <tr>\n      <th>3</th>\n      <td>MAC Field Scanner Season 4 Range 10 Column 2</td>\n      <td>PI641807</td>\n      <td>NaN</td>\n      <td>77.0</td>\n      <td>NaN</td>\n    </tr>\n    <tr>\n      <th>4</th>\n      <td>MAC Field Scanner Season 4 Range 10 Column 3</td>\n      <td>PI175919</td>\n      <td>NaN</td>\n      <td>70.0</td>\n      <td>71.0</td>\n    </tr>\n  </tbody>\n</table>\n</div>"
     },
     "metadata": {},
     "output_type": "execute_result",
     "execution_count": 755
    }
   ],
   "source": [
    "three_traits_empty_strings = pd.read_csv('site_cultivar_indices.csv')\n",
    "three_traits_empty_strings.head()"
   ]
  },
  {
   "cell_type": "code",
   "execution_count": 756,
   "metadata": {
    "pycharm": {
     "is_executing": false
    }
   },
   "outputs": [
    {
     "name": "stdout",
     "text": [
      "sitename                      0\ncultivar                      0\naboveground_dry_biomass      48\nflag_leaf_emergence_time    169\nflowering_time              194\ndtype: int64\n"
     ],
     "output_type": "stream"
    }
   ],
   "source": [
    "print(np.sum(three_traits_empty_strings.isnull()))"
   ]
  },
  {
   "cell_type": "code",
   "execution_count": 757,
   "metadata": {
    "pycharm": {
     "is_executing": false
    }
   },
   "outputs": [
    {
     "name": "stdout",
     "text": [
      "728\n"
     ],
     "output_type": "stream"
    }
   ],
   "source": [
    "print(len(set(sitename_index_canopy.index)))"
   ]
  },
  {
   "cell_type": "code",
   "execution_count": 758,
   "metadata": {
    "pycharm": {
     "is_executing": false
    }
   },
   "outputs": [
    {
     "data": {
      "text/plain": "                                    new_sitename  cultivar  canopy_height\n0  MAC Field Scanner Season 4 Range 10 Column 10  PI152816          340.0\n1  MAC Field Scanner Season 4 Range 10 Column 11  PI195754          278.0\n2  MAC Field Scanner Season 4 Range 10 Column 12  PI329501          369.0\n3  MAC Field Scanner Season 4 Range 10 Column 13  PI641860          270.0\n4  MAC Field Scanner Season 4 Range 10 Column 14   PI19770          263.0",
      "text/html": "<div>\n<style scoped>\n    .dataframe tbody tr th:only-of-type {\n        vertical-align: middle;\n    }\n\n    .dataframe tbody tr th {\n        vertical-align: top;\n    }\n\n    .dataframe thead th {\n        text-align: right;\n    }\n</style>\n<table border=\"1\" class=\"dataframe\">\n  <thead>\n    <tr style=\"text-align: right;\">\n      <th></th>\n      <th>new_sitename</th>\n      <th>cultivar</th>\n      <th>canopy_height</th>\n    </tr>\n  </thead>\n  <tbody>\n    <tr>\n      <th>0</th>\n      <td>MAC Field Scanner Season 4 Range 10 Column 10</td>\n      <td>PI152816</td>\n      <td>340.0</td>\n    </tr>\n    <tr>\n      <th>1</th>\n      <td>MAC Field Scanner Season 4 Range 10 Column 11</td>\n      <td>PI195754</td>\n      <td>278.0</td>\n    </tr>\n    <tr>\n      <th>2</th>\n      <td>MAC Field Scanner Season 4 Range 10 Column 12</td>\n      <td>PI329501</td>\n      <td>369.0</td>\n    </tr>\n    <tr>\n      <th>3</th>\n      <td>MAC Field Scanner Season 4 Range 10 Column 13</td>\n      <td>PI641860</td>\n      <td>270.0</td>\n    </tr>\n    <tr>\n      <th>4</th>\n      <td>MAC Field Scanner Season 4 Range 10 Column 14</td>\n      <td>PI19770</td>\n      <td>263.0</td>\n    </tr>\n  </tbody>\n</table>\n</div>"
     },
     "metadata": {},
     "output_type": "execute_result",
     "execution_count": 758
    }
   ],
   "source": [
    "canopy_df = pd.read_csv('max_canopy_heights.csv')\n",
    "canopy_df.head()"
   ]
  },
  {
   "cell_type": "code",
   "execution_count": 759,
   "metadata": {
    "pycharm": {
     "is_executing": false
    }
   },
   "outputs": [
    {
     "data": {
      "text/plain": "                                        sitename  cultivar  \\\n0  MAC Field Scanner Season 4 Range 10 Column 11  PI195754   \n1  MAC Field Scanner Season 4 Range 10 Column 14   PI19770   \n2  MAC Field Scanner Season 4 Range 10 Column 15  PI144134   \n3   MAC Field Scanner Season 4 Range 10 Column 2  PI641807   \n4   MAC Field Scanner Season 4 Range 10 Column 3  PI175919   \n\n   aboveground_dry_biomass  flag_leaf_emergence_time  flowering_time  \n0                  29400.0                      68.0            71.0  \n1                      NaN                      62.0            68.0  \n2                      NaN                      77.0             NaN  \n3                      NaN                      77.0             NaN  \n4                      NaN                      70.0            71.0  ",
      "text/html": "<div>\n<style scoped>\n    .dataframe tbody tr th:only-of-type {\n        vertical-align: middle;\n    }\n\n    .dataframe tbody tr th {\n        vertical-align: top;\n    }\n\n    .dataframe thead th {\n        text-align: right;\n    }\n</style>\n<table border=\"1\" class=\"dataframe\">\n  <thead>\n    <tr style=\"text-align: right;\">\n      <th></th>\n      <th>sitename</th>\n      <th>cultivar</th>\n      <th>aboveground_dry_biomass</th>\n      <th>flag_leaf_emergence_time</th>\n      <th>flowering_time</th>\n    </tr>\n  </thead>\n  <tbody>\n    <tr>\n      <th>0</th>\n      <td>MAC Field Scanner Season 4 Range 10 Column 11</td>\n      <td>PI195754</td>\n      <td>29400.0</td>\n      <td>68.0</td>\n      <td>71.0</td>\n    </tr>\n    <tr>\n      <th>1</th>\n      <td>MAC Field Scanner Season 4 Range 10 Column 14</td>\n      <td>PI19770</td>\n      <td>NaN</td>\n      <td>62.0</td>\n      <td>68.0</td>\n    </tr>\n    <tr>\n      <th>2</th>\n      <td>MAC Field Scanner Season 4 Range 10 Column 15</td>\n      <td>PI144134</td>\n      <td>NaN</td>\n      <td>77.0</td>\n      <td>NaN</td>\n    </tr>\n    <tr>\n      <th>3</th>\n      <td>MAC Field Scanner Season 4 Range 10 Column 2</td>\n      <td>PI641807</td>\n      <td>NaN</td>\n      <td>77.0</td>\n      <td>NaN</td>\n    </tr>\n    <tr>\n      <th>4</th>\n      <td>MAC Field Scanner Season 4 Range 10 Column 3</td>\n      <td>PI175919</td>\n      <td>NaN</td>\n      <td>70.0</td>\n      <td>71.0</td>\n    </tr>\n  </tbody>\n</table>\n</div>"
     },
     "metadata": {},
     "output_type": "execute_result",
     "execution_count": 759
    }
   ],
   "source": [
    "three_trait_df = pd.read_csv('transformed_data_season_4.csv')\n",
    "three_trait_df.head()"
   ]
  },
  {
   "cell_type": "code",
   "execution_count": 760,
   "metadata": {
    "pycharm": {
     "is_executing": false
    }
   },
   "outputs": [
    {
     "data": {
      "text/plain": "(247, 5)"
     },
     "metadata": {},
     "output_type": "execute_result",
     "execution_count": 760
    }
   ],
   "source": [
    "three_trait_df.shape"
   ]
  },
  {
   "cell_type": "code",
   "execution_count": 761,
   "metadata": {
    "pycharm": {
     "is_executing": false
    }
   },
   "outputs": [
    {
     "data": {
      "text/plain": "(728, 3)"
     },
     "metadata": {},
     "output_type": "execute_result",
     "execution_count": 761
    }
   ],
   "source": [
    "canopy_df.shape"
   ]
  },
  {
   "cell_type": "code",
   "execution_count": 762,
   "metadata": {
    "pycharm": {
     "is_executing": false
    }
   },
   "outputs": [
    {
     "data": {
      "text/plain": "                                    new_sitename  cultivar  canopy_height  \\\n0  MAC Field Scanner Season 4 Range 10 Column 10  PI152816          340.0   \n1  MAC Field Scanner Season 4 Range 10 Column 11  PI195754          278.0   \n2  MAC Field Scanner Season 4 Range 10 Column 12  PI329501          369.0   \n3  MAC Field Scanner Season 4 Range 10 Column 13  PI641860          270.0   \n4  MAC Field Scanner Season 4 Range 10 Column 14   PI19770          263.0   \n\n                                        sitename  aboveground_dry_biomass  \\\n0                                            NaN                      NaN   \n1  MAC Field Scanner Season 4 Range 10 Column 11                  29400.0   \n2                                            NaN                      NaN   \n3                                            NaN                      NaN   \n4  MAC Field Scanner Season 4 Range 10 Column 14                      NaN   \n\n   flag_leaf_emergence_time  flowering_time  \n0                       NaN             NaN  \n1                      68.0            71.0  \n2                       NaN             NaN  \n3                       NaN             NaN  \n4                      62.0            68.0  ",
      "text/html": "<div>\n<style scoped>\n    .dataframe tbody tr th:only-of-type {\n        vertical-align: middle;\n    }\n\n    .dataframe tbody tr th {\n        vertical-align: top;\n    }\n\n    .dataframe thead th {\n        text-align: right;\n    }\n</style>\n<table border=\"1\" class=\"dataframe\">\n  <thead>\n    <tr style=\"text-align: right;\">\n      <th></th>\n      <th>new_sitename</th>\n      <th>cultivar</th>\n      <th>canopy_height</th>\n      <th>sitename</th>\n      <th>aboveground_dry_biomass</th>\n      <th>flag_leaf_emergence_time</th>\n      <th>flowering_time</th>\n    </tr>\n  </thead>\n  <tbody>\n    <tr>\n      <th>0</th>\n      <td>MAC Field Scanner Season 4 Range 10 Column 10</td>\n      <td>PI152816</td>\n      <td>340.0</td>\n      <td>NaN</td>\n      <td>NaN</td>\n      <td>NaN</td>\n      <td>NaN</td>\n    </tr>\n    <tr>\n      <th>1</th>\n      <td>MAC Field Scanner Season 4 Range 10 Column 11</td>\n      <td>PI195754</td>\n      <td>278.0</td>\n      <td>MAC Field Scanner Season 4 Range 10 Column 11</td>\n      <td>29400.0</td>\n      <td>68.0</td>\n      <td>71.0</td>\n    </tr>\n    <tr>\n      <th>2</th>\n      <td>MAC Field Scanner Season 4 Range 10 Column 12</td>\n      <td>PI329501</td>\n      <td>369.0</td>\n      <td>NaN</td>\n      <td>NaN</td>\n      <td>NaN</td>\n      <td>NaN</td>\n    </tr>\n    <tr>\n      <th>3</th>\n      <td>MAC Field Scanner Season 4 Range 10 Column 13</td>\n      <td>PI641860</td>\n      <td>270.0</td>\n      <td>NaN</td>\n      <td>NaN</td>\n      <td>NaN</td>\n      <td>NaN</td>\n    </tr>\n    <tr>\n      <th>4</th>\n      <td>MAC Field Scanner Season 4 Range 10 Column 14</td>\n      <td>PI19770</td>\n      <td>263.0</td>\n      <td>MAC Field Scanner Season 4 Range 10 Column 14</td>\n      <td>NaN</td>\n      <td>62.0</td>\n      <td>68.0</td>\n    </tr>\n  </tbody>\n</table>\n</div>"
     },
     "metadata": {},
     "output_type": "execute_result",
     "execution_count": 762
    }
   ],
   "source": [
    "# join tables on sitenames\n",
    "\n",
    "merged_df = pd.merge(left=canopy_df, right=three_trait_df, left_on=['new_sitename', 'cultivar'], \n",
    "                     right_on=['sitename', 'cultivar'], how='outer')\n",
    "merged_df.head()"
   ]
  },
  {
   "cell_type": "code",
   "execution_count": 763,
   "metadata": {
    "pycharm": {
     "is_executing": false
    }
   },
   "outputs": [
    {
     "data": {
      "text/plain": "                                     new_sitename          cultivar  \\\n708   MAC Field Scanner Season 4 Range 8 Column 4          PI329584   \n709   MAC Field Scanner Season 4 Range 8 Column 5          PI156178   \n710   MAC Field Scanner Season 4 Range 8 Column 6          PI562990   \n711   MAC Field Scanner Season 4 Range 8 Column 7          PI330195   \n712   MAC Field Scanner Season 4 Range 8 Column 8          PI570145   \n713   MAC Field Scanner Season 4 Range 8 Column 9          PI329510   \n714  MAC Field Scanner Season 4 Range 9 Column 10          PI329319   \n715  MAC Field Scanner Season 4 Range 9 Column 11          PI570431   \n716  MAC Field Scanner Season 4 Range 9 Column 12          PI257600   \n717  MAC Field Scanner Season 4 Range 9 Column 13          PI276837   \n718  MAC Field Scanner Season 4 Range 9 Column 14  Unknown off type   \n719  MAC Field Scanner Season 4 Range 9 Column 15          PI569454   \n720   MAC Field Scanner Season 4 Range 9 Column 2          PI569416   \n721   MAC Field Scanner Season 4 Range 9 Column 3          PI569457   \n722   MAC Field Scanner Season 4 Range 9 Column 4          PI521152   \n723   MAC Field Scanner Season 4 Range 9 Column 5          PI569452   \n724   MAC Field Scanner Season 4 Range 9 Column 6          PI329351   \n725   MAC Field Scanner Season 4 Range 9 Column 7          PI585961   \n726   MAC Field Scanner Season 4 Range 9 Column 8          PI563350   \n727   MAC Field Scanner Season 4 Range 9 Column 9          PI643016   \n\n     canopy_height                                     sitename  \\\n708          307.0                                          NaN   \n709          188.0  MAC Field Scanner Season 4 Range 8 Column 5   \n710          190.0  MAC Field Scanner Season 4 Range 8 Column 6   \n711          204.0  MAC Field Scanner Season 4 Range 8 Column 7   \n712          381.0                                          NaN   \n713          394.0                                          NaN   \n714          158.0                                          NaN   \n715          403.0                                          NaN   \n716          404.0                                          NaN   \n717          393.0                                          NaN   \n718          362.0                                          NaN   \n719          346.0                                          NaN   \n720          118.0  MAC Field Scanner Season 4 Range 9 Column 2   \n721          329.0                                          NaN   \n722          375.0                                          NaN   \n723          387.0                                          NaN   \n724          252.0  MAC Field Scanner Season 4 Range 9 Column 6   \n725          337.0                                          NaN   \n726          214.0  MAC Field Scanner Season 4 Range 9 Column 8   \n727          290.0                                          NaN   \n\n     aboveground_dry_biomass  flag_leaf_emergence_time  flowering_time  \n708                      NaN                       NaN             NaN  \n709                  14310.0                       NaN             NaN  \n710                  15810.0                       NaN             NaN  \n711                  28670.0                       NaN             NaN  \n712                      NaN                       NaN             NaN  \n713                      NaN                       NaN             NaN  \n714                      NaN                       NaN             NaN  \n715                      NaN                       NaN             NaN  \n716                      NaN                       NaN             NaN  \n717                      NaN                       NaN             NaN  \n718                      NaN                       NaN             NaN  \n719                      NaN                       NaN             NaN  \n720                   9052.0                       NaN             NaN  \n721                      NaN                       NaN             NaN  \n722                      NaN                       NaN             NaN  \n723                      NaN                       NaN             NaN  \n724                  13300.0                       NaN             NaN  \n725                      NaN                       NaN             NaN  \n726                  24100.0                       NaN             NaN  \n727                      NaN                       NaN             NaN  ",
      "text/html": "<div>\n<style scoped>\n    .dataframe tbody tr th:only-of-type {\n        vertical-align: middle;\n    }\n\n    .dataframe tbody tr th {\n        vertical-align: top;\n    }\n\n    .dataframe thead th {\n        text-align: right;\n    }\n</style>\n<table border=\"1\" class=\"dataframe\">\n  <thead>\n    <tr style=\"text-align: right;\">\n      <th></th>\n      <th>new_sitename</th>\n      <th>cultivar</th>\n      <th>canopy_height</th>\n      <th>sitename</th>\n      <th>aboveground_dry_biomass</th>\n      <th>flag_leaf_emergence_time</th>\n      <th>flowering_time</th>\n    </tr>\n  </thead>\n  <tbody>\n    <tr>\n      <th>708</th>\n      <td>MAC Field Scanner Season 4 Range 8 Column 4</td>\n      <td>PI329584</td>\n      <td>307.0</td>\n      <td>NaN</td>\n      <td>NaN</td>\n      <td>NaN</td>\n      <td>NaN</td>\n    </tr>\n    <tr>\n      <th>709</th>\n      <td>MAC Field Scanner Season 4 Range 8 Column 5</td>\n      <td>PI156178</td>\n      <td>188.0</td>\n      <td>MAC Field Scanner Season 4 Range 8 Column 5</td>\n      <td>14310.0</td>\n      <td>NaN</td>\n      <td>NaN</td>\n    </tr>\n    <tr>\n      <th>710</th>\n      <td>MAC Field Scanner Season 4 Range 8 Column 6</td>\n      <td>PI562990</td>\n      <td>190.0</td>\n      <td>MAC Field Scanner Season 4 Range 8 Column 6</td>\n      <td>15810.0</td>\n      <td>NaN</td>\n      <td>NaN</td>\n    </tr>\n    <tr>\n      <th>711</th>\n      <td>MAC Field Scanner Season 4 Range 8 Column 7</td>\n      <td>PI330195</td>\n      <td>204.0</td>\n      <td>MAC Field Scanner Season 4 Range 8 Column 7</td>\n      <td>28670.0</td>\n      <td>NaN</td>\n      <td>NaN</td>\n    </tr>\n    <tr>\n      <th>712</th>\n      <td>MAC Field Scanner Season 4 Range 8 Column 8</td>\n      <td>PI570145</td>\n      <td>381.0</td>\n      <td>NaN</td>\n      <td>NaN</td>\n      <td>NaN</td>\n      <td>NaN</td>\n    </tr>\n    <tr>\n      <th>713</th>\n      <td>MAC Field Scanner Season 4 Range 8 Column 9</td>\n      <td>PI329510</td>\n      <td>394.0</td>\n      <td>NaN</td>\n      <td>NaN</td>\n      <td>NaN</td>\n      <td>NaN</td>\n    </tr>\n    <tr>\n      <th>714</th>\n      <td>MAC Field Scanner Season 4 Range 9 Column 10</td>\n      <td>PI329319</td>\n      <td>158.0</td>\n      <td>NaN</td>\n      <td>NaN</td>\n      <td>NaN</td>\n      <td>NaN</td>\n    </tr>\n    <tr>\n      <th>715</th>\n      <td>MAC Field Scanner Season 4 Range 9 Column 11</td>\n      <td>PI570431</td>\n      <td>403.0</td>\n      <td>NaN</td>\n      <td>NaN</td>\n      <td>NaN</td>\n      <td>NaN</td>\n    </tr>\n    <tr>\n      <th>716</th>\n      <td>MAC Field Scanner Season 4 Range 9 Column 12</td>\n      <td>PI257600</td>\n      <td>404.0</td>\n      <td>NaN</td>\n      <td>NaN</td>\n      <td>NaN</td>\n      <td>NaN</td>\n    </tr>\n    <tr>\n      <th>717</th>\n      <td>MAC Field Scanner Season 4 Range 9 Column 13</td>\n      <td>PI276837</td>\n      <td>393.0</td>\n      <td>NaN</td>\n      <td>NaN</td>\n      <td>NaN</td>\n      <td>NaN</td>\n    </tr>\n    <tr>\n      <th>718</th>\n      <td>MAC Field Scanner Season 4 Range 9 Column 14</td>\n      <td>Unknown off type</td>\n      <td>362.0</td>\n      <td>NaN</td>\n      <td>NaN</td>\n      <td>NaN</td>\n      <td>NaN</td>\n    </tr>\n    <tr>\n      <th>719</th>\n      <td>MAC Field Scanner Season 4 Range 9 Column 15</td>\n      <td>PI569454</td>\n      <td>346.0</td>\n      <td>NaN</td>\n      <td>NaN</td>\n      <td>NaN</td>\n      <td>NaN</td>\n    </tr>\n    <tr>\n      <th>720</th>\n      <td>MAC Field Scanner Season 4 Range 9 Column 2</td>\n      <td>PI569416</td>\n      <td>118.0</td>\n      <td>MAC Field Scanner Season 4 Range 9 Column 2</td>\n      <td>9052.0</td>\n      <td>NaN</td>\n      <td>NaN</td>\n    </tr>\n    <tr>\n      <th>721</th>\n      <td>MAC Field Scanner Season 4 Range 9 Column 3</td>\n      <td>PI569457</td>\n      <td>329.0</td>\n      <td>NaN</td>\n      <td>NaN</td>\n      <td>NaN</td>\n      <td>NaN</td>\n    </tr>\n    <tr>\n      <th>722</th>\n      <td>MAC Field Scanner Season 4 Range 9 Column 4</td>\n      <td>PI521152</td>\n      <td>375.0</td>\n      <td>NaN</td>\n      <td>NaN</td>\n      <td>NaN</td>\n      <td>NaN</td>\n    </tr>\n    <tr>\n      <th>723</th>\n      <td>MAC Field Scanner Season 4 Range 9 Column 5</td>\n      <td>PI569452</td>\n      <td>387.0</td>\n      <td>NaN</td>\n      <td>NaN</td>\n      <td>NaN</td>\n      <td>NaN</td>\n    </tr>\n    <tr>\n      <th>724</th>\n      <td>MAC Field Scanner Season 4 Range 9 Column 6</td>\n      <td>PI329351</td>\n      <td>252.0</td>\n      <td>MAC Field Scanner Season 4 Range 9 Column 6</td>\n      <td>13300.0</td>\n      <td>NaN</td>\n      <td>NaN</td>\n    </tr>\n    <tr>\n      <th>725</th>\n      <td>MAC Field Scanner Season 4 Range 9 Column 7</td>\n      <td>PI585961</td>\n      <td>337.0</td>\n      <td>NaN</td>\n      <td>NaN</td>\n      <td>NaN</td>\n      <td>NaN</td>\n    </tr>\n    <tr>\n      <th>726</th>\n      <td>MAC Field Scanner Season 4 Range 9 Column 8</td>\n      <td>PI563350</td>\n      <td>214.0</td>\n      <td>MAC Field Scanner Season 4 Range 9 Column 8</td>\n      <td>24100.0</td>\n      <td>NaN</td>\n      <td>NaN</td>\n    </tr>\n    <tr>\n      <th>727</th>\n      <td>MAC Field Scanner Season 4 Range 9 Column 9</td>\n      <td>PI643016</td>\n      <td>290.0</td>\n      <td>NaN</td>\n      <td>NaN</td>\n      <td>NaN</td>\n      <td>NaN</td>\n    </tr>\n  </tbody>\n</table>\n</div>"
     },
     "metadata": {},
     "output_type": "execute_result",
     "execution_count": 763
    }
   ],
   "source": [
    "merged_df.tail(20)"
   ]
  },
  {
   "cell_type": "code",
   "execution_count": 764,
   "metadata": {
    "pycharm": {
     "is_executing": false
    }
   },
   "outputs": [
    {
     "name": "stdout",
     "text": [
      "728\n247\n"
     ],
     "output_type": "stream"
    }
   ],
   "source": [
    "print(merged_df.new_sitename.nunique())\n",
    "print(merged_df.sitename.nunique())"
   ]
  },
  {
   "cell_type": "code",
   "execution_count": 765,
   "metadata": {
    "pycharm": {
     "is_executing": false
    }
   },
   "outputs": [
    {
     "data": {
      "text/plain": "['MAC Field Scanner Season 4 Range 47 Column 7',\n 'MAC Field Scanner Season 4 Range 45 Column 12',\n 'MAC Field Scanner Season 4 Range 19 Column 4',\n 'MAC Field Scanner Season 4 Range 21 Column 10',\n 'MAC Field Scanner Season 4 Range 49 Column 12',\n 'MAC Field Scanner Season 4 Range 52 Column 2',\n 'MAC Field Scanner Season 4 Range 17 Column 14',\n 'MAC Field Scanner Season 4 Range 40 Column 10',\n 'MAC Field Scanner Season 4 Range 25 Column 13',\n 'MAC Field Scanner Season 4 Range 6 Column 11',\n 'MAC Field Scanner Season 4 Range 31 Column 12',\n 'MAC Field Scanner Season 4 Range 41 Column 13',\n 'MAC Field Scanner Season 4 Range 8 Column 14',\n 'MAC Field Scanner Season 4 Range 15 Column 2',\n 'MAC Field Scanner Season 4 Range 6 Column 15',\n 'MAC Field Scanner Season 4 Range 39 Column 3',\n 'MAC Field Scanner Season 4 Range 25 Column 6',\n 'MAC Field Scanner Season 4 Range 10 Column 12',\n 'MAC Field Scanner Season 4 Range 13 Column 8',\n 'MAC Field Scanner Season 4 Range 3 Column 14',\n 'MAC Field Scanner Season 4 Range 12 Column 5',\n 'MAC Field Scanner Season 4 Range 44 Column 7',\n 'MAC Field Scanner Season 4 Range 34 Column 5',\n 'MAC Field Scanner Season 4 Range 13 Column 2',\n 'MAC Field Scanner Season 4 Range 27 Column 2',\n 'MAC Field Scanner Season 4 Range 16 Column 12',\n 'MAC Field Scanner Season 4 Range 32 Column 14',\n 'MAC Field Scanner Season 4 Range 35 Column 3',\n 'MAC Field Scanner Season 4 Range 15 Column 3',\n 'MAC Field Scanner Season 4 Range 38 Column 7',\n 'MAC Field Scanner Season 4 Range 46 Column 15',\n 'MAC Field Scanner Season 4 Range 8 Column 15',\n 'MAC Field Scanner Season 4 Range 48 Column 8',\n 'MAC Field Scanner Season 4 Range 6 Column 10',\n 'MAC Field Scanner Season 4 Range 21 Column 4',\n 'MAC Field Scanner Season 4 Range 49 Column 11',\n 'MAC Field Scanner Season 4 Range 44 Column 15',\n 'MAC Field Scanner Season 4 Range 23 Column 10',\n 'MAC Field Scanner Season 4 Range 33 Column 12',\n 'MAC Field Scanner Season 4 Range 3 Column 10',\n 'MAC Field Scanner Season 4 Range 19 Column 9',\n 'MAC Field Scanner Season 4 Range 23 Column 9',\n 'MAC Field Scanner Season 4 Range 48 Column 5',\n 'MAC Field Scanner Season 4 Range 51 Column 5',\n 'MAC Field Scanner Season 4 Range 42 Column 5',\n 'MAC Field Scanner Season 4 Range 43 Column 14',\n 'MAC Field Scanner Season 4 Range 44 Column 13',\n 'MAC Field Scanner Season 4 Range 36 Column 15',\n 'MAC Field Scanner Season 4 Range 50 Column 11',\n 'MAC Field Scanner Season 4 Range 21 Column 15',\n 'MAC Field Scanner Season 4 Range 14 Column 2',\n 'MAC Field Scanner Season 4 Range 32 Column 2',\n 'MAC Field Scanner Season 4 Range 48 Column 13',\n 'MAC Field Scanner Season 4 Range 18 Column 7',\n 'MAC Field Scanner Season 4 Range 27 Column 12',\n 'MAC Field Scanner Season 4 Range 52 Column 14',\n 'MAC Field Scanner Season 4 Range 26 Column 9',\n 'MAC Field Scanner Season 4 Range 49 Column 6',\n 'MAC Field Scanner Season 4 Range 30 Column 15',\n 'MAC Field Scanner Season 4 Range 42 Column 9',\n 'MAC Field Scanner Season 4 Range 8 Column 13',\n 'MAC Field Scanner Season 4 Range 26 Column 4',\n 'MAC Field Scanner Season 4 Range 21 Column 12',\n 'MAC Field Scanner Season 4 Range 49 Column 5',\n 'MAC Field Scanner Season 4 Range 32 Column 5',\n 'MAC Field Scanner Season 4 Range 53 Column 3',\n 'MAC Field Scanner Season 4 Range 41 Column 8',\n 'MAC Field Scanner Season 4 Range 14 Column 13',\n 'MAC Field Scanner Season 4 Range 5 Column 9',\n 'MAC Field Scanner Season 4 Range 27 Column 3',\n 'MAC Field Scanner Season 4 Range 5 Column 5',\n 'MAC Field Scanner Season 4 Range 22 Column 15',\n 'MAC Field Scanner Season 4 Range 41 Column 10',\n 'MAC Field Scanner Season 4 Range 8 Column 10',\n 'MAC Field Scanner Season 4 Range 23 Column 13',\n 'MAC Field Scanner Season 4 Range 28 Column 11',\n 'MAC Field Scanner Season 4 Range 36 Column 3',\n 'MAC Field Scanner Season 4 Range 37 Column 12',\n 'MAC Field Scanner Season 4 Range 49 Column 2',\n 'MAC Field Scanner Season 4 Range 43 Column 13',\n 'MAC Field Scanner Season 4 Range 25 Column 14',\n 'MAC Field Scanner Season 4 Range 16 Column 3',\n 'MAC Field Scanner Season 4 Range 21 Column 11',\n 'MAC Field Scanner Season 4 Range 43 Column 10',\n 'MAC Field Scanner Season 4 Range 25 Column 5',\n 'MAC Field Scanner Season 4 Range 13 Column 5',\n 'MAC Field Scanner Season 4 Range 44 Column 12',\n 'MAC Field Scanner Season 4 Range 5 Column 4',\n 'MAC Field Scanner Season 4 Range 21 Column 2',\n 'MAC Field Scanner Season 4 Range 45 Column 8',\n 'MAC Field Scanner Season 4 Range 19 Column 5',\n 'MAC Field Scanner Season 4 Range 23 Column 8',\n 'MAC Field Scanner Season 4 Range 42 Column 15',\n 'MAC Field Scanner Season 4 Range 46 Column 10',\n 'MAC Field Scanner Season 4 Range 10 Column 13',\n 'MAC Field Scanner Season 4 Range 2 Column 15',\n 'MAC Field Scanner Season 4 Range 7 Column 2',\n 'MAC Field Scanner Season 4 Range 9 Column 14',\n 'MAC Field Scanner Season 4 Range 14 Column 12',\n 'MAC Field Scanner Season 4 Range 14 Column 8',\n 'MAC Field Scanner Season 4 Range 2 Column 11',\n 'MAC Field Scanner Season 4 Range 13 Column 12',\n 'MAC Field Scanner Season 4 Range 37 Column 14',\n 'MAC Field Scanner Season 4 Range 3 Column 11',\n 'MAC Field Scanner Season 4 Range 19 Column 14',\n 'MAC Field Scanner Season 4 Range 27 Column 13',\n 'MAC Field Scanner Season 4 Range 26 Column 3',\n 'MAC Field Scanner Season 4 Range 33 Column 11',\n 'MAC Field Scanner Season 4 Range 9 Column 9',\n 'MAC Field Scanner Season 4 Range 35 Column 15',\n 'MAC Field Scanner Season 4 Range 11 Column 2',\n 'MAC Field Scanner Season 4 Range 26 Column 14',\n 'MAC Field Scanner Season 4 Range 7 Column 7',\n 'MAC Field Scanner Season 4 Range 29 Column 6',\n 'MAC Field Scanner Season 4 Range 2 Column 6',\n 'MAC Field Scanner Season 4 Range 9 Column 15',\n 'MAC Field Scanner Season 4 Range 6 Column 12',\n 'MAC Field Scanner Season 4 Range 13 Column 9',\n 'MAC Field Scanner Season 4 Range 39 Column 6',\n 'MAC Field Scanner Season 4 Range 3 Column 13',\n 'MAC Field Scanner Season 4 Range 25 Column 7',\n 'MAC Field Scanner Season 4 Range 22 Column 11',\n 'MAC Field Scanner Season 4 Range 7 Column 4',\n 'MAC Field Scanner Season 4 Range 46 Column 4',\n 'MAC Field Scanner Season 4 Range 47 Column 6',\n 'MAC Field Scanner Season 4 Range 15 Column 11',\n 'MAC Field Scanner Season 4 Range 5 Column 6',\n 'MAC Field Scanner Season 4 Range 42 Column 14',\n 'MAC Field Scanner Season 4 Range 2 Column 12',\n 'MAC Field Scanner Season 4 Range 27 Column 8',\n 'MAC Field Scanner Season 4 Range 15 Column 10',\n 'MAC Field Scanner Season 4 Range 36 Column 11',\n 'MAC Field Scanner Season 4 Range 32 Column 6',\n 'MAC Field Scanner Season 4 Range 50 Column 8',\n 'MAC Field Scanner Season 4 Range 40 Column 2',\n 'MAC Field Scanner Season 4 Range 6 Column 7',\n 'MAC Field Scanner Season 4 Range 23 Column 2',\n 'MAC Field Scanner Season 4 Range 17 Column 11',\n 'MAC Field Scanner Season 4 Range 24 Column 12',\n 'MAC Field Scanner Season 4 Range 52 Column 7',\n 'MAC Field Scanner Season 4 Range 15 Column 4',\n 'MAC Field Scanner Season 4 Range 24 Column 15',\n 'MAC Field Scanner Season 4 Range 4 Column 11',\n 'MAC Field Scanner Season 4 Range 37 Column 10',\n 'MAC Field Scanner Season 4 Range 18 Column 8',\n 'MAC Field Scanner Season 4 Range 22 Column 2',\n 'MAC Field Scanner Season 4 Range 43 Column 3',\n 'MAC Field Scanner Season 4 Range 36 Column 2',\n 'MAC Field Scanner Season 4 Range 2 Column 3',\n 'MAC Field Scanner Season 4 Range 22 Column 13',\n 'MAC Field Scanner Season 4 Range 31 Column 15',\n 'MAC Field Scanner Season 4 Range 36 Column 6',\n 'MAC Field Scanner Season 4 Range 48 Column 7',\n 'MAC Field Scanner Season 4 Range 35 Column 13',\n 'MAC Field Scanner Season 4 Range 12 Column 10',\n 'MAC Field Scanner Season 4 Range 17 Column 9',\n 'MAC Field Scanner Season 4 Range 14 Column 4',\n 'MAC Field Scanner Season 4 Range 10 Column 9',\n 'MAC Field Scanner Season 4 Range 49 Column 8',\n 'MAC Field Scanner Season 4 Range 11 Column 5',\n 'MAC Field Scanner Season 4 Range 28 Column 2',\n 'MAC Field Scanner Season 4 Range 14 Column 6',\n 'MAC Field Scanner Season 4 Range 34 Column 2',\n 'MAC Field Scanner Season 4 Range 29 Column 9',\n 'MAC Field Scanner Season 4 Range 17 Column 7',\n 'MAC Field Scanner Season 4 Range 33 Column 9',\n 'MAC Field Scanner Season 4 Range 2 Column 14',\n 'MAC Field Scanner Season 4 Range 48 Column 11',\n 'MAC Field Scanner Season 4 Range 36 Column 14',\n 'MAC Field Scanner Season 4 Range 7 Column 12',\n 'MAC Field Scanner Season 4 Range 28 Column 6',\n 'MAC Field Scanner Season 4 Range 45 Column 13',\n 'MAC Field Scanner Season 4 Range 16 Column 8',\n 'MAC Field Scanner Season 4 Range 3 Column 5',\n 'MAC Field Scanner Season 4 Range 43 Column 4',\n 'MAC Field Scanner Season 4 Range 53 Column 8',\n 'MAC Field Scanner Season 4 Range 52 Column 3',\n 'MAC Field Scanner Season 4 Range 38 Column 5',\n 'MAC Field Scanner Season 4 Range 46 Column 3',\n 'MAC Field Scanner Season 4 Range 2 Column 2',\n 'MAC Field Scanner Season 4 Range 2 Column 10',\n 'MAC Field Scanner Season 4 Range 49 Column 9',\n 'MAC Field Scanner Season 4 Range 14 Column 14',\n 'MAC Field Scanner Season 4 Range 45 Column 4',\n 'MAC Field Scanner Season 4 Range 21 Column 7',\n 'MAC Field Scanner Season 4 Range 44 Column 10',\n 'MAC Field Scanner Season 4 Range 2 Column 8',\n 'MAC Field Scanner Season 4 Range 44 Column 11',\n 'MAC Field Scanner Season 4 Range 44 Column 14',\n 'MAC Field Scanner Season 4 Range 8 Column 2',\n 'MAC Field Scanner Season 4 Range 43 Column 11',\n 'MAC Field Scanner Season 4 Range 48 Column 14',\n 'MAC Field Scanner Season 4 Range 13 Column 14',\n 'MAC Field Scanner Season 4 Range 15 Column 6',\n 'MAC Field Scanner Season 4 Range 46 Column 12',\n 'MAC Field Scanner Season 4 Range 44 Column 4',\n 'MAC Field Scanner Season 4 Range 53 Column 12',\n 'MAC Field Scanner Season 4 Range 17 Column 2',\n 'MAC Field Scanner Season 4 Range 17 Column 3',\n 'MAC Field Scanner Season 4 Range 37 Column 8',\n 'MAC Field Scanner Season 4 Range 16 Column 5',\n 'MAC Field Scanner Season 4 Range 45 Column 14',\n 'MAC Field Scanner Season 4 Range 25 Column 8',\n 'MAC Field Scanner Season 4 Range 11 Column 11',\n 'MAC Field Scanner Season 4 Range 23 Column 5',\n 'MAC Field Scanner Season 4 Range 14 Column 7',\n 'MAC Field Scanner Season 4 Range 8 Column 4',\n 'MAC Field Scanner Season 4 Range 42 Column 8',\n 'MAC Field Scanner Season 4 Range 6 Column 3',\n 'MAC Field Scanner Season 4 Range 52 Column 15',\n 'MAC Field Scanner Season 4 Range 42 Column 12',\n 'MAC Field Scanner Season 4 Range 32 Column 10',\n 'MAC Field Scanner Season 4 Range 34 Column 15',\n 'MAC Field Scanner Season 4 Range 43 Column 5',\n 'MAC Field Scanner Season 4 Range 51 Column 14',\n 'MAC Field Scanner Season 4 Range 32 Column 15',\n 'MAC Field Scanner Season 4 Range 37 Column 3',\n 'MAC Field Scanner Season 4 Range 2 Column 13',\n 'MAC Field Scanner Season 4 Range 22 Column 5',\n 'MAC Field Scanner Season 4 Range 39 Column 11',\n 'MAC Field Scanner Season 4 Range 40 Column 5',\n 'MAC Field Scanner Season 4 Range 51 Column 3',\n 'MAC Field Scanner Season 4 Range 41 Column 9',\n 'MAC Field Scanner Season 4 Range 7 Column 15',\n 'MAC Field Scanner Season 4 Range 52 Column 11',\n 'MAC Field Scanner Season 4 Range 5 Column 15',\n 'MAC Field Scanner Season 4 Range 37 Column 4',\n 'MAC Field Scanner Season 4 Range 14 Column 11',\n 'MAC Field Scanner Season 4 Range 12 Column 3',\n 'MAC Field Scanner Season 4 Range 38 Column 14',\n 'MAC Field Scanner Season 4 Range 9 Column 11',\n 'MAC Field Scanner Season 4 Range 11 Column 4',\n 'MAC Field Scanner Season 4 Range 46 Column 6',\n 'MAC Field Scanner Season 4 Range 29 Column 14',\n 'MAC Field Scanner Season 4 Range 50 Column 2',\n 'MAC Field Scanner Season 4 Range 9 Column 12',\n 'MAC Field Scanner Season 4 Range 11 Column 3',\n 'MAC Field Scanner Season 4 Range 37 Column 2',\n 'MAC Field Scanner Season 4 Range 39 Column 8',\n 'MAC Field Scanner Season 4 Range 32 Column 3',\n 'MAC Field Scanner Season 4 Range 7 Column 3',\n 'MAC Field Scanner Season 4 Range 39 Column 15',\n 'MAC Field Scanner Season 4 Range 26 Column 10',\n 'MAC Field Scanner Season 4 Range 37 Column 5',\n 'MAC Field Scanner Season 4 Range 18 Column 10',\n 'MAC Field Scanner Season 4 Range 28 Column 14',\n 'MAC Field Scanner Season 4 Range 34 Column 10',\n 'MAC Field Scanner Season 4 Range 37 Column 15',\n 'MAC Field Scanner Season 4 Range 51 Column 4',\n 'MAC Field Scanner Season 4 Range 25 Column 12',\n 'MAC Field Scanner Season 4 Range 22 Column 8',\n 'MAC Field Scanner Season 4 Range 33 Column 8',\n 'MAC Field Scanner Season 4 Range 34 Column 8',\n 'MAC Field Scanner Season 4 Range 8 Column 9',\n 'MAC Field Scanner Season 4 Range 34 Column 12',\n 'MAC Field Scanner Season 4 Range 23 Column 3',\n 'MAC Field Scanner Season 4 Range 19 Column 10',\n 'MAC Field Scanner Season 4 Range 3 Column 15',\n 'MAC Field Scanner Season 4 Range 15 Column 15',\n 'MAC Field Scanner Season 4 Range 16 Column 4',\n 'MAC Field Scanner Season 4 Range 22 Column 3',\n 'MAC Field Scanner Season 4 Range 40 Column 4',\n 'MAC Field Scanner Season 4 Range 27 Column 9',\n 'MAC Field Scanner Season 4 Range 6 Column 9',\n 'MAC Field Scanner Season 4 Range 11 Column 6',\n 'MAC Field Scanner Season 4 Range 24 Column 8',\n 'MAC Field Scanner Season 4 Range 31 Column 11',\n 'MAC Field Scanner Season 4 Range 39 Column 14',\n 'MAC Field Scanner Season 4 Range 16 Column 15',\n 'MAC Field Scanner Season 4 Range 13 Column 13',\n 'MAC Field Scanner Season 4 Range 52 Column 6',\n 'MAC Field Scanner Season 4 Range 45 Column 3',\n 'MAC Field Scanner Season 4 Range 12 Column 2',\n 'MAC Field Scanner Season 4 Range 42 Column 13',\n 'MAC Field Scanner Season 4 Range 7 Column 13',\n 'MAC Field Scanner Season 4 Range 19 Column 11',\n 'MAC Field Scanner Season 4 Range 28 Column 9',\n 'MAC Field Scanner Season 4 Range 25 Column 15',\n 'MAC Field Scanner Season 4 Range 32 Column 11',\n 'MAC Field Scanner Season 4 Range 36 Column 10',\n 'MAC Field Scanner Season 4 Range 40 Column 15',\n 'MAC Field Scanner Season 4 Range 35 Column 5',\n 'MAC Field Scanner Season 4 Range 35 Column 6',\n 'MAC Field Scanner Season 4 Range 48 Column 2',\n 'MAC Field Scanner Season 4 Range 53 Column 9',\n 'MAC Field Scanner Season 4 Range 39 Column 7',\n 'MAC Field Scanner Season 4 Range 53 Column 4',\n 'MAC Field Scanner Season 4 Range 18 Column 6',\n 'MAC Field Scanner Season 4 Range 45 Column 2',\n 'MAC Field Scanner Season 4 Range 23 Column 7',\n 'MAC Field Scanner Season 4 Range 31 Column 5',\n 'MAC Field Scanner Season 4 Range 10 Column 7',\n 'MAC Field Scanner Season 4 Range 26 Column 6',\n 'MAC Field Scanner Season 4 Range 39 Column 10',\n 'MAC Field Scanner Season 4 Range 41 Column 15',\n 'MAC Field Scanner Season 4 Range 6 Column 5',\n 'MAC Field Scanner Season 4 Range 21 Column 9',\n 'MAC Field Scanner Season 4 Range 47 Column 4',\n 'MAC Field Scanner Season 4 Range 15 Column 8',\n 'MAC Field Scanner Season 4 Range 52 Column 4',\n 'MAC Field Scanner Season 4 Range 15 Column 13',\n 'MAC Field Scanner Season 4 Range 44 Column 2',\n 'MAC Field Scanner Season 4 Range 12 Column 4',\n 'MAC Field Scanner Season 4 Range 5 Column 2',\n 'MAC Field Scanner Season 4 Range 53 Column 2',\n 'MAC Field Scanner Season 4 Range 42 Column 3',\n 'MAC Field Scanner Season 4 Range 8 Column 12',\n 'MAC Field Scanner Season 4 Range 40 Column 7',\n 'MAC Field Scanner Season 4 Range 46 Column 8',\n 'MAC Field Scanner Season 4 Range 4 Column 3',\n 'MAC Field Scanner Season 4 Range 22 Column 9',\n 'MAC Field Scanner Season 4 Range 49 Column 14',\n 'MAC Field Scanner Season 4 Range 11 Column 14',\n 'MAC Field Scanner Season 4 Range 35 Column 7',\n 'MAC Field Scanner Season 4 Range 18 Column 2',\n 'MAC Field Scanner Season 4 Range 17 Column 12',\n 'MAC Field Scanner Season 4 Range 17 Column 5',\n 'MAC Field Scanner Season 4 Range 33 Column 13',\n 'MAC Field Scanner Season 4 Range 14 Column 3',\n 'MAC Field Scanner Season 4 Range 35 Column 10',\n 'MAC Field Scanner Season 4 Range 44 Column 9',\n 'MAC Field Scanner Season 4 Range 15 Column 5',\n 'MAC Field Scanner Season 4 Range 4 Column 10',\n 'MAC Field Scanner Season 4 Range 3 Column 2',\n 'MAC Field Scanner Season 4 Range 32 Column 9',\n 'MAC Field Scanner Season 4 Range 19 Column 15',\n 'MAC Field Scanner Season 4 Range 36 Column 13',\n 'MAC Field Scanner Season 4 Range 4 Column 9',\n 'MAC Field Scanner Season 4 Range 15 Column 9',\n 'MAC Field Scanner Season 4 Range 21 Column 13',\n 'MAC Field Scanner Season 4 Range 45 Column 6',\n 'MAC Field Scanner Season 4 Range 15 Column 12',\n 'MAC Field Scanner Season 4 Range 7 Column 14',\n 'MAC Field Scanner Season 4 Range 48 Column 10',\n 'MAC Field Scanner Season 4 Range 52 Column 8',\n 'MAC Field Scanner Season 4 Range 37 Column 9',\n 'MAC Field Scanner Season 4 Range 14 Column 5',\n 'MAC Field Scanner Season 4 Range 50 Column 10',\n 'MAC Field Scanner Season 4 Range 47 Column 9',\n 'MAC Field Scanner Season 4 Range 28 Column 8',\n 'MAC Field Scanner Season 4 Range 3 Column 8',\n 'MAC Field Scanner Season 4 Range 48 Column 12',\n 'MAC Field Scanner Season 4 Range 29 Column 12',\n 'MAC Field Scanner Season 4 Range 36 Column 12',\n 'MAC Field Scanner Season 4 Range 4 Column 7',\n 'MAC Field Scanner Season 4 Range 8 Column 3',\n 'MAC Field Scanner Season 4 Range 26 Column 15',\n 'MAC Field Scanner Season 4 Range 42 Column 11',\n 'MAC Field Scanner Season 4 Range 47 Column 11',\n 'MAC Field Scanner Season 4 Range 32 Column 8',\n 'MAC Field Scanner Season 4 Range 9 Column 10',\n 'MAC Field Scanner Season 4 Range 5 Column 8',\n 'MAC Field Scanner Season 4 Range 36 Column 4',\n 'MAC Field Scanner Season 4 Range 23 Column 15',\n 'MAC Field Scanner Season 4 Range 6 Column 2',\n 'MAC Field Scanner Season 4 Range 7 Column 5',\n 'MAC Field Scanner Season 4 Range 50 Column 4',\n 'MAC Field Scanner Season 4 Range 35 Column 12',\n 'MAC Field Scanner Season 4 Range 19 Column 2',\n 'MAC Field Scanner Season 4 Range 43 Column 7',\n 'MAC Field Scanner Season 4 Range 16 Column 6',\n 'MAC Field Scanner Season 4 Range 3 Column 9',\n 'MAC Field Scanner Season 4 Range 9 Column 3',\n 'MAC Field Scanner Season 4 Range 41 Column 11',\n 'MAC Field Scanner Season 4 Range 45 Column 9',\n 'MAC Field Scanner Season 4 Range 51 Column 8',\n 'MAC Field Scanner Season 4 Range 35 Column 8',\n 'MAC Field Scanner Season 4 Range 6 Column 14',\n 'MAC Field Scanner Season 4 Range 24 Column 7',\n 'MAC Field Scanner Season 4 Range 9 Column 5',\n 'MAC Field Scanner Season 4 Range 27 Column 4',\n 'MAC Field Scanner Season 4 Range 25 Column 3',\n 'MAC Field Scanner Season 4 Range 26 Column 8',\n 'MAC Field Scanner Season 4 Range 26 Column 5',\n 'MAC Field Scanner Season 4 Range 22 Column 10',\n 'MAC Field Scanner Season 4 Range 19 Column 12',\n 'MAC Field Scanner Season 4 Range 53 Column 6',\n 'MAC Field Scanner Season 4 Range 4 Column 14',\n 'MAC Field Scanner Season 4 Range 21 Column 6',\n 'MAC Field Scanner Season 4 Range 49 Column 15',\n 'MAC Field Scanner Season 4 Range 16 Column 14',\n 'MAC Field Scanner Season 4 Range 22 Column 4',\n 'MAC Field Scanner Season 4 Range 43 Column 6',\n 'MAC Field Scanner Season 4 Range 9 Column 13',\n 'MAC Field Scanner Season 4 Range 50 Column 7',\n 'MAC Field Scanner Season 4 Range 5 Column 3',\n 'MAC Field Scanner Season 4 Range 52 Column 10',\n 'MAC Field Scanner Season 4 Range 6 Column 13',\n 'MAC Field Scanner Season 4 Range 51 Column 11',\n 'MAC Field Scanner Season 4 Range 24 Column 11',\n 'MAC Field Scanner Season 4 Range 16 Column 11',\n 'MAC Field Scanner Season 4 Range 37 Column 6',\n 'MAC Field Scanner Season 4 Range 42 Column 4',\n 'MAC Field Scanner Season 4 Range 8 Column 8',\n 'MAC Field Scanner Season 4 Range 47 Column 15',\n 'MAC Field Scanner Season 4 Range 22 Column 6',\n 'MAC Field Scanner Season 4 Range 38 Column 9',\n 'MAC Field Scanner Season 4 Range 49 Column 13',\n 'MAC Field Scanner Season 4 Range 5 Column 11',\n 'MAC Field Scanner Season 4 Range 48 Column 15',\n 'MAC Field Scanner Season 4 Range 24 Column 5',\n 'MAC Field Scanner Season 4 Range 5 Column 7',\n 'MAC Field Scanner Season 4 Range 31 Column 7',\n 'MAC Field Scanner Season 4 Range 51 Column 9',\n 'MAC Field Scanner Season 4 Range 9 Column 4',\n 'MAC Field Scanner Season 4 Range 34 Column 9',\n 'MAC Field Scanner Season 4 Range 31 Column 3',\n 'MAC Field Scanner Season 4 Range 7 Column 10',\n 'MAC Field Scanner Season 4 Range 6 Column 4',\n 'MAC Field Scanner Season 4 Range 4 Column 5',\n 'MAC Field Scanner Season 4 Range 10 Column 10',\n 'MAC Field Scanner Season 4 Range 13 Column 4',\n 'MAC Field Scanner Season 4 Range 51 Column 13',\n 'MAC Field Scanner Season 4 Range 44 Column 5',\n 'MAC Field Scanner Season 4 Range 51 Column 6',\n 'MAC Field Scanner Season 4 Range 33 Column 15',\n 'MAC Field Scanner Season 4 Range 50 Column 5',\n 'MAC Field Scanner Season 4 Range 15 Column 7',\n 'MAC Field Scanner Season 4 Range 27 Column 15',\n 'MAC Field Scanner Season 4 Range 36 Column 8',\n 'MAC Field Scanner Season 4 Range 38 Column 3',\n 'MAC Field Scanner Season 4 Range 38 Column 10',\n 'MAC Field Scanner Season 4 Range 49 Column 3',\n 'MAC Field Scanner Season 4 Range 47 Column 14',\n 'MAC Field Scanner Season 4 Range 28 Column 10',\n 'MAC Field Scanner Season 4 Range 40 Column 6',\n 'MAC Field Scanner Season 4 Range 33 Column 14',\n 'MAC Field Scanner Season 4 Range 51 Column 15',\n 'MAC Field Scanner Season 4 Range 53 Column 13',\n 'MAC Field Scanner Season 4 Range 40 Column 11',\n 'MAC Field Scanner Season 4 Range 34 Column 3',\n 'MAC Field Scanner Season 4 Range 40 Column 13',\n 'MAC Field Scanner Season 4 Range 12 Column 14',\n 'MAC Field Scanner Season 4 Range 19 Column 7',\n 'MAC Field Scanner Season 4 Range 35 Column 2',\n 'MAC Field Scanner Season 4 Range 28 Column 12',\n 'MAC Field Scanner Season 4 Range 41 Column 6',\n 'MAC Field Scanner Season 4 Range 48 Column 6',\n 'MAC Field Scanner Season 4 Range 33 Column 7',\n 'MAC Field Scanner Season 4 Range 44 Column 3',\n 'MAC Field Scanner Season 4 Range 28 Column 4',\n 'MAC Field Scanner Season 4 Range 45 Column 5',\n 'MAC Field Scanner Season 4 Range 6 Column 8',\n 'MAC Field Scanner Season 4 Range 22 Column 14',\n 'MAC Field Scanner Season 4 Range 13 Column 10',\n 'MAC Field Scanner Season 4 Range 24 Column 13',\n 'MAC Field Scanner Season 4 Range 40 Column 3',\n 'MAC Field Scanner Season 4 Range 45 Column 11',\n 'MAC Field Scanner Season 4 Range 24 Column 6',\n 'MAC Field Scanner Season 4 Range 19 Column 8',\n 'MAC Field Scanner Season 4 Range 44 Column 8',\n 'MAC Field Scanner Season 4 Range 25 Column 4',\n 'MAC Field Scanner Season 4 Range 26 Column 13',\n 'MAC Field Scanner Season 4 Range 6 Column 6',\n 'MAC Field Scanner Season 4 Range 41 Column 3',\n 'MAC Field Scanner Season 4 Range 5 Column 13',\n 'MAC Field Scanner Season 4 Range 3 Column 7',\n 'MAC Field Scanner Season 4 Range 50 Column 3',\n 'MAC Field Scanner Season 4 Range 23 Column 12',\n 'MAC Field Scanner Season 4 Range 30 Column 8',\n 'MAC Field Scanner Season 4 Range 14 Column 10',\n 'MAC Field Scanner Season 4 Range 18 Column 14',\n 'MAC Field Scanner Season 4 Range 52 Column 13',\n 'MAC Field Scanner Season 4 Range 2 Column 7',\n 'MAC Field Scanner Season 4 Range 23 Column 6',\n 'MAC Field Scanner Season 4 Range 2 Column 4',\n 'MAC Field Scanner Season 4 Range 48 Column 4',\n 'MAC Field Scanner Season 4 Range 28 Column 3',\n 'MAC Field Scanner Season 4 Range 9 Column 7',\n 'MAC Field Scanner Season 4 Range 38 Column 12',\n 'MAC Field Scanner Season 4 Range 17 Column 10',\n 'MAC Field Scanner Season 4 Range 19 Column 3',\n 'MAC Field Scanner Season 4 Range 25 Column 9',\n 'MAC Field Scanner Season 4 Range 29 Column 15',\n 'MAC Field Scanner Season 4 Range 32 Column 7',\n 'MAC Field Scanner Season 4 Range 42 Column 2',\n 'MAC Field Scanner Season 4 Range 25 Column 10',\n 'MAC Field Scanner Season 4 Range 4 Column 6',\n 'MAC Field Scanner Season 4 Range 4 Column 4',\n 'MAC Field Scanner Season 4 Range 12 Column 9',\n 'MAC Field Scanner Season 4 Range 35 Column 4']"
     },
     "metadata": {},
     "output_type": "execute_result",
     "execution_count": 765
    }
   ],
   "source": [
    "# find differences between new_sitename and sitename\n",
    "\n",
    "different_sitenames = list(set(merged_df.new_sitename) - set(merged_df.sitename))\n",
    "different_sitenames"
   ]
  },
  {
   "cell_type": "code",
   "execution_count": 766,
   "metadata": {
    "pycharm": {
     "is_executing": false
    }
   },
   "outputs": [
    {
     "data": {
      "text/plain": "                                      new_sitename  cultivar  canopy_height  \\\n0    MAC Field Scanner Season 4 Range 10 Column 10  PI152816          340.0   \n2    MAC Field Scanner Season 4 Range 10 Column 12  PI329501          369.0   \n3    MAC Field Scanner Season 4 Range 10 Column 13  PI641860          270.0   \n11    MAC Field Scanner Season 4 Range 10 Column 7  PI255744          205.0   \n13    MAC Field Scanner Season 4 Range 10 Column 9  PI641909          350.0   \n..                                             ...       ...            ...   \n721    MAC Field Scanner Season 4 Range 9 Column 3  PI569457          329.0   \n722    MAC Field Scanner Season 4 Range 9 Column 4  PI521152          375.0   \n723    MAC Field Scanner Season 4 Range 9 Column 5  PI569452          387.0   \n725    MAC Field Scanner Season 4 Range 9 Column 7  PI585961          337.0   \n727    MAC Field Scanner Season 4 Range 9 Column 9  PI643016          290.0   \n\n    sitename  aboveground_dry_biomass  flag_leaf_emergence_time  \\\n0        NaN                      NaN                       NaN   \n2        NaN                      NaN                       NaN   \n3        NaN                      NaN                       NaN   \n11       NaN                      NaN                       NaN   \n13       NaN                      NaN                       NaN   \n..       ...                      ...                       ...   \n721      NaN                      NaN                       NaN   \n722      NaN                      NaN                       NaN   \n723      NaN                      NaN                       NaN   \n725      NaN                      NaN                       NaN   \n727      NaN                      NaN                       NaN   \n\n     flowering_time  \n0               NaN  \n2               NaN  \n3               NaN  \n11              NaN  \n13              NaN  \n..              ...  \n721             NaN  \n722             NaN  \n723             NaN  \n725             NaN  \n727             NaN  \n\n[481 rows x 7 columns]",
      "text/html": "<div>\n<style scoped>\n    .dataframe tbody tr th:only-of-type {\n        vertical-align: middle;\n    }\n\n    .dataframe tbody tr th {\n        vertical-align: top;\n    }\n\n    .dataframe thead th {\n        text-align: right;\n    }\n</style>\n<table border=\"1\" class=\"dataframe\">\n  <thead>\n    <tr style=\"text-align: right;\">\n      <th></th>\n      <th>new_sitename</th>\n      <th>cultivar</th>\n      <th>canopy_height</th>\n      <th>sitename</th>\n      <th>aboveground_dry_biomass</th>\n      <th>flag_leaf_emergence_time</th>\n      <th>flowering_time</th>\n    </tr>\n  </thead>\n  <tbody>\n    <tr>\n      <th>0</th>\n      <td>MAC Field Scanner Season 4 Range 10 Column 10</td>\n      <td>PI152816</td>\n      <td>340.0</td>\n      <td>NaN</td>\n      <td>NaN</td>\n      <td>NaN</td>\n      <td>NaN</td>\n    </tr>\n    <tr>\n      <th>2</th>\n      <td>MAC Field Scanner Season 4 Range 10 Column 12</td>\n      <td>PI329501</td>\n      <td>369.0</td>\n      <td>NaN</td>\n      <td>NaN</td>\n      <td>NaN</td>\n      <td>NaN</td>\n    </tr>\n    <tr>\n      <th>3</th>\n      <td>MAC Field Scanner Season 4 Range 10 Column 13</td>\n      <td>PI641860</td>\n      <td>270.0</td>\n      <td>NaN</td>\n      <td>NaN</td>\n      <td>NaN</td>\n      <td>NaN</td>\n    </tr>\n    <tr>\n      <th>11</th>\n      <td>MAC Field Scanner Season 4 Range 10 Column 7</td>\n      <td>PI255744</td>\n      <td>205.0</td>\n      <td>NaN</td>\n      <td>NaN</td>\n      <td>NaN</td>\n      <td>NaN</td>\n    </tr>\n    <tr>\n      <th>13</th>\n      <td>MAC Field Scanner Season 4 Range 10 Column 9</td>\n      <td>PI641909</td>\n      <td>350.0</td>\n      <td>NaN</td>\n      <td>NaN</td>\n      <td>NaN</td>\n      <td>NaN</td>\n    </tr>\n    <tr>\n      <th>...</th>\n      <td>...</td>\n      <td>...</td>\n      <td>...</td>\n      <td>...</td>\n      <td>...</td>\n      <td>...</td>\n      <td>...</td>\n    </tr>\n    <tr>\n      <th>721</th>\n      <td>MAC Field Scanner Season 4 Range 9 Column 3</td>\n      <td>PI569457</td>\n      <td>329.0</td>\n      <td>NaN</td>\n      <td>NaN</td>\n      <td>NaN</td>\n      <td>NaN</td>\n    </tr>\n    <tr>\n      <th>722</th>\n      <td>MAC Field Scanner Season 4 Range 9 Column 4</td>\n      <td>PI521152</td>\n      <td>375.0</td>\n      <td>NaN</td>\n      <td>NaN</td>\n      <td>NaN</td>\n      <td>NaN</td>\n    </tr>\n    <tr>\n      <th>723</th>\n      <td>MAC Field Scanner Season 4 Range 9 Column 5</td>\n      <td>PI569452</td>\n      <td>387.0</td>\n      <td>NaN</td>\n      <td>NaN</td>\n      <td>NaN</td>\n      <td>NaN</td>\n    </tr>\n    <tr>\n      <th>725</th>\n      <td>MAC Field Scanner Season 4 Range 9 Column 7</td>\n      <td>PI585961</td>\n      <td>337.0</td>\n      <td>NaN</td>\n      <td>NaN</td>\n      <td>NaN</td>\n      <td>NaN</td>\n    </tr>\n    <tr>\n      <th>727</th>\n      <td>MAC Field Scanner Season 4 Range 9 Column 9</td>\n      <td>PI643016</td>\n      <td>290.0</td>\n      <td>NaN</td>\n      <td>NaN</td>\n      <td>NaN</td>\n      <td>NaN</td>\n    </tr>\n  </tbody>\n</table>\n<p>481 rows × 7 columns</p>\n</div>"
     },
     "metadata": {},
     "output_type": "execute_result",
     "execution_count": 766
    }
   ],
   "source": [
    "merged_df[merged_df.new_sitename.isin(different_sitenames)]"
   ]
  },
  {
   "cell_type": "code",
   "execution_count": 767,
   "metadata": {
    "pycharm": {
     "is_executing": false
    }
   },
   "outputs": [
    {
     "data": {
      "text/plain": "                                    new_sitename  cultivar  canopy_height  \\\n0  MAC Field Scanner Season 4 Range 10 Column 10  PI152816          340.0   \n1  MAC Field Scanner Season 4 Range 10 Column 11  PI195754          278.0   \n2  MAC Field Scanner Season 4 Range 10 Column 12  PI329501          369.0   \n3  MAC Field Scanner Season 4 Range 10 Column 13  PI641860          270.0   \n4  MAC Field Scanner Season 4 Range 10 Column 14   PI19770          263.0   \n\n   aboveground_dry_biomass  flag_leaf_emergence_time  flowering_time  \n0                      NaN                       NaN             NaN  \n1                  29400.0                      68.0            71.0  \n2                      NaN                       NaN             NaN  \n3                      NaN                       NaN             NaN  \n4                      NaN                      62.0            68.0  ",
      "text/html": "<div>\n<style scoped>\n    .dataframe tbody tr th:only-of-type {\n        vertical-align: middle;\n    }\n\n    .dataframe tbody tr th {\n        vertical-align: top;\n    }\n\n    .dataframe thead th {\n        text-align: right;\n    }\n</style>\n<table border=\"1\" class=\"dataframe\">\n  <thead>\n    <tr style=\"text-align: right;\">\n      <th></th>\n      <th>new_sitename</th>\n      <th>cultivar</th>\n      <th>canopy_height</th>\n      <th>aboveground_dry_biomass</th>\n      <th>flag_leaf_emergence_time</th>\n      <th>flowering_time</th>\n    </tr>\n  </thead>\n  <tbody>\n    <tr>\n      <th>0</th>\n      <td>MAC Field Scanner Season 4 Range 10 Column 10</td>\n      <td>PI152816</td>\n      <td>340.0</td>\n      <td>NaN</td>\n      <td>NaN</td>\n      <td>NaN</td>\n    </tr>\n    <tr>\n      <th>1</th>\n      <td>MAC Field Scanner Season 4 Range 10 Column 11</td>\n      <td>PI195754</td>\n      <td>278.0</td>\n      <td>29400.0</td>\n      <td>68.0</td>\n      <td>71.0</td>\n    </tr>\n    <tr>\n      <th>2</th>\n      <td>MAC Field Scanner Season 4 Range 10 Column 12</td>\n      <td>PI329501</td>\n      <td>369.0</td>\n      <td>NaN</td>\n      <td>NaN</td>\n      <td>NaN</td>\n    </tr>\n    <tr>\n      <th>3</th>\n      <td>MAC Field Scanner Season 4 Range 10 Column 13</td>\n      <td>PI641860</td>\n      <td>270.0</td>\n      <td>NaN</td>\n      <td>NaN</td>\n      <td>NaN</td>\n    </tr>\n    <tr>\n      <th>4</th>\n      <td>MAC Field Scanner Season 4 Range 10 Column 14</td>\n      <td>PI19770</td>\n      <td>263.0</td>\n      <td>NaN</td>\n      <td>62.0</td>\n      <td>68.0</td>\n    </tr>\n  </tbody>\n</table>\n</div>"
     },
     "metadata": {},
     "output_type": "execute_result",
     "execution_count": 767
    }
   ],
   "source": [
    "# drop sitename column\n",
    "\n",
    "one_sitename_df = merged_df.drop(labels='sitename', axis=1)\n",
    "one_sitename_df.head()"
   ]
  },
  {
   "cell_type": "code",
   "execution_count": 768,
   "metadata": {
    "pycharm": {
     "is_executing": false
    }
   },
   "outputs": [
    {
     "data": {
      "text/plain": "                                        sitename  cultivar  canopy_height  \\\n0  MAC Field Scanner Season 4 Range 10 Column 10  PI152816          340.0   \n1  MAC Field Scanner Season 4 Range 10 Column 11  PI195754          278.0   \n2  MAC Field Scanner Season 4 Range 10 Column 12  PI329501          369.0   \n3  MAC Field Scanner Season 4 Range 10 Column 13  PI641860          270.0   \n4  MAC Field Scanner Season 4 Range 10 Column 14   PI19770          263.0   \n5  MAC Field Scanner Season 4 Range 10 Column 15  PI144134          331.0   \n6   MAC Field Scanner Season 4 Range 10 Column 2  PI641807          307.0   \n7   MAC Field Scanner Season 4 Range 10 Column 3  PI175919          246.0   \n8   MAC Field Scanner Season 4 Range 10 Column 4  PI297155          200.0   \n9   MAC Field Scanner Season 4 Range 10 Column 5  PI641821          337.0   \n\n  aboveground_dry_biomass flag_leaf_emergence_time flowering_time  \n0                                                                  \n1                   29400                       68             71  \n2                                                                  \n3                                                                  \n4                                               62             68  \n5                                               77                 \n6                                               77                 \n7                                               70             71  \n8                                               77                 \n9                                               70                 ",
      "text/html": "<div>\n<style scoped>\n    .dataframe tbody tr th:only-of-type {\n        vertical-align: middle;\n    }\n\n    .dataframe tbody tr th {\n        vertical-align: top;\n    }\n\n    .dataframe thead th {\n        text-align: right;\n    }\n</style>\n<table border=\"1\" class=\"dataframe\">\n  <thead>\n    <tr style=\"text-align: right;\">\n      <th></th>\n      <th>sitename</th>\n      <th>cultivar</th>\n      <th>canopy_height</th>\n      <th>aboveground_dry_biomass</th>\n      <th>flag_leaf_emergence_time</th>\n      <th>flowering_time</th>\n    </tr>\n  </thead>\n  <tbody>\n    <tr>\n      <th>0</th>\n      <td>MAC Field Scanner Season 4 Range 10 Column 10</td>\n      <td>PI152816</td>\n      <td>340.0</td>\n      <td></td>\n      <td></td>\n      <td></td>\n    </tr>\n    <tr>\n      <th>1</th>\n      <td>MAC Field Scanner Season 4 Range 10 Column 11</td>\n      <td>PI195754</td>\n      <td>278.0</td>\n      <td>29400</td>\n      <td>68</td>\n      <td>71</td>\n    </tr>\n    <tr>\n      <th>2</th>\n      <td>MAC Field Scanner Season 4 Range 10 Column 12</td>\n      <td>PI329501</td>\n      <td>369.0</td>\n      <td></td>\n      <td></td>\n      <td></td>\n    </tr>\n    <tr>\n      <th>3</th>\n      <td>MAC Field Scanner Season 4 Range 10 Column 13</td>\n      <td>PI641860</td>\n      <td>270.0</td>\n      <td></td>\n      <td></td>\n      <td></td>\n    </tr>\n    <tr>\n      <th>4</th>\n      <td>MAC Field Scanner Season 4 Range 10 Column 14</td>\n      <td>PI19770</td>\n      <td>263.0</td>\n      <td></td>\n      <td>62</td>\n      <td>68</td>\n    </tr>\n    <tr>\n      <th>5</th>\n      <td>MAC Field Scanner Season 4 Range 10 Column 15</td>\n      <td>PI144134</td>\n      <td>331.0</td>\n      <td></td>\n      <td>77</td>\n      <td></td>\n    </tr>\n    <tr>\n      <th>6</th>\n      <td>MAC Field Scanner Season 4 Range 10 Column 2</td>\n      <td>PI641807</td>\n      <td>307.0</td>\n      <td></td>\n      <td>77</td>\n      <td></td>\n    </tr>\n    <tr>\n      <th>7</th>\n      <td>MAC Field Scanner Season 4 Range 10 Column 3</td>\n      <td>PI175919</td>\n      <td>246.0</td>\n      <td></td>\n      <td>70</td>\n      <td>71</td>\n    </tr>\n    <tr>\n      <th>8</th>\n      <td>MAC Field Scanner Season 4 Range 10 Column 4</td>\n      <td>PI297155</td>\n      <td>200.0</td>\n      <td></td>\n      <td>77</td>\n      <td></td>\n    </tr>\n    <tr>\n      <th>9</th>\n      <td>MAC Field Scanner Season 4 Range 10 Column 5</td>\n      <td>PI641821</td>\n      <td>337.0</td>\n      <td></td>\n      <td>70</td>\n      <td></td>\n    </tr>\n  </tbody>\n</table>\n</div>"
     },
     "metadata": {},
     "output_type": "execute_result",
     "execution_count": 768
    }
   ],
   "source": [
    "# fill NaNs with empty strings and rename sitename column\n",
    "\n",
    "one_sitename_filled_nas = one_sitename_df.fillna(value='').rename(columns={'new_sitename': 'sitename'})\n",
    "one_sitename_filled_nas.head(10)"
   ]
  },
  {
   "cell_type": "code",
   "execution_count": 769,
   "metadata": {
    "pycharm": {
     "is_executing": false
    }
   },
   "outputs": [],
   "source": [
    "one_sitename_filled_nas.to_csv('four_trait_df.csv', na_rep='', index=False)"
   ]
  },
  {
   "cell_type": "code",
   "execution_count": 770,
   "metadata": {
    "pycharm": {
     "is_executing": false
    }
   },
   "outputs": [
    {
     "data": {
      "text/plain": "                                        sitename  cultivar  canopy_height  \\\n0  MAC Field Scanner Season 4 Range 10 Column 10  PI152816          340.0   \n1  MAC Field Scanner Season 4 Range 10 Column 11  PI195754          278.0   \n2  MAC Field Scanner Season 4 Range 10 Column 12  PI329501          369.0   \n3  MAC Field Scanner Season 4 Range 10 Column 13  PI641860          270.0   \n4  MAC Field Scanner Season 4 Range 10 Column 14   PI19770          263.0   \n5  MAC Field Scanner Season 4 Range 10 Column 15  PI144134          331.0   \n6   MAC Field Scanner Season 4 Range 10 Column 2  PI641807          307.0   \n7   MAC Field Scanner Season 4 Range 10 Column 3  PI175919          246.0   \n8   MAC Field Scanner Season 4 Range 10 Column 4  PI297155          200.0   \n9   MAC Field Scanner Season 4 Range 10 Column 5  PI641821          337.0   \n\n   aboveground_dry_biomass  flag_leaf_emergence_time  flowering_time  \n0                      NaN                       NaN             NaN  \n1                  29400.0                      68.0            71.0  \n2                      NaN                       NaN             NaN  \n3                      NaN                       NaN             NaN  \n4                      NaN                      62.0            68.0  \n5                      NaN                      77.0             NaN  \n6                      NaN                      77.0             NaN  \n7                      NaN                      70.0            71.0  \n8                      NaN                      77.0             NaN  \n9                      NaN                      70.0             NaN  ",
      "text/html": "<div>\n<style scoped>\n    .dataframe tbody tr th:only-of-type {\n        vertical-align: middle;\n    }\n\n    .dataframe tbody tr th {\n        vertical-align: top;\n    }\n\n    .dataframe thead th {\n        text-align: right;\n    }\n</style>\n<table border=\"1\" class=\"dataframe\">\n  <thead>\n    <tr style=\"text-align: right;\">\n      <th></th>\n      <th>sitename</th>\n      <th>cultivar</th>\n      <th>canopy_height</th>\n      <th>aboveground_dry_biomass</th>\n      <th>flag_leaf_emergence_time</th>\n      <th>flowering_time</th>\n    </tr>\n  </thead>\n  <tbody>\n    <tr>\n      <th>0</th>\n      <td>MAC Field Scanner Season 4 Range 10 Column 10</td>\n      <td>PI152816</td>\n      <td>340.0</td>\n      <td>NaN</td>\n      <td>NaN</td>\n      <td>NaN</td>\n    </tr>\n    <tr>\n      <th>1</th>\n      <td>MAC Field Scanner Season 4 Range 10 Column 11</td>\n      <td>PI195754</td>\n      <td>278.0</td>\n      <td>29400.0</td>\n      <td>68.0</td>\n      <td>71.0</td>\n    </tr>\n    <tr>\n      <th>2</th>\n      <td>MAC Field Scanner Season 4 Range 10 Column 12</td>\n      <td>PI329501</td>\n      <td>369.0</td>\n      <td>NaN</td>\n      <td>NaN</td>\n      <td>NaN</td>\n    </tr>\n    <tr>\n      <th>3</th>\n      <td>MAC Field Scanner Season 4 Range 10 Column 13</td>\n      <td>PI641860</td>\n      <td>270.0</td>\n      <td>NaN</td>\n      <td>NaN</td>\n      <td>NaN</td>\n    </tr>\n    <tr>\n      <th>4</th>\n      <td>MAC Field Scanner Season 4 Range 10 Column 14</td>\n      <td>PI19770</td>\n      <td>263.0</td>\n      <td>NaN</td>\n      <td>62.0</td>\n      <td>68.0</td>\n    </tr>\n    <tr>\n      <th>5</th>\n      <td>MAC Field Scanner Season 4 Range 10 Column 15</td>\n      <td>PI144134</td>\n      <td>331.0</td>\n      <td>NaN</td>\n      <td>77.0</td>\n      <td>NaN</td>\n    </tr>\n    <tr>\n      <th>6</th>\n      <td>MAC Field Scanner Season 4 Range 10 Column 2</td>\n      <td>PI641807</td>\n      <td>307.0</td>\n      <td>NaN</td>\n      <td>77.0</td>\n      <td>NaN</td>\n    </tr>\n    <tr>\n      <th>7</th>\n      <td>MAC Field Scanner Season 4 Range 10 Column 3</td>\n      <td>PI175919</td>\n      <td>246.0</td>\n      <td>NaN</td>\n      <td>70.0</td>\n      <td>71.0</td>\n    </tr>\n    <tr>\n      <th>8</th>\n      <td>MAC Field Scanner Season 4 Range 10 Column 4</td>\n      <td>PI297155</td>\n      <td>200.0</td>\n      <td>NaN</td>\n      <td>77.0</td>\n      <td>NaN</td>\n    </tr>\n    <tr>\n      <th>9</th>\n      <td>MAC Field Scanner Season 4 Range 10 Column 5</td>\n      <td>PI641821</td>\n      <td>337.0</td>\n      <td>NaN</td>\n      <td>70.0</td>\n      <td>NaN</td>\n    </tr>\n  </tbody>\n</table>\n</div>"
     },
     "metadata": {},
     "output_type": "execute_result",
     "execution_count": 770
    }
   ],
   "source": [
    "# check how missing values are represented when csv read \n",
    "# without using na_values argument\n",
    "\n",
    "testing_nans = pd.read_csv('four_trait_df.csv')\n",
    "testing_nans.head(10)"
   ]
  },
  {
   "cell_type": "code",
   "execution_count": 771,
   "metadata": {
    "pycharm": {
     "is_executing": false
    }
   },
   "outputs": [
    {
     "data": {
      "text/plain": "                                          sitename  cultivar  canopy_height  \\\n39    MAC Field Scanner Season 4 Range 12 Column 7  PI213900          299.0   \n335   MAC Field Scanner Season 4 Range 31 Column 9  PI217691          294.0   \n326  MAC Field Scanner Season 4 Range 31 Column 14  PI179749          321.0   \n512   MAC Field Scanner Season 4 Range 43 Column 4  PI329711          370.0   \n548  MAC Field Scanner Season 4 Range 46 Column 12  PI535793          146.0   \n275   MAC Field Scanner Season 4 Range 28 Column 5  PI586541          330.0   \n722    MAC Field Scanner Season 4 Range 9 Column 4  PI521152          375.0   \n630  MAC Field Scanner Season 4 Range 51 Column 10  PI656035          265.0   \n109   MAC Field Scanner Season 4 Range 17 Column 7  PI157030          325.0   \n346   MAC Field Scanner Season 4 Range 32 Column 6  PI569455          381.0   \n434  MAC Field Scanner Season 4 Range 39 Column 10  PI505722          392.0   \n33   MAC Field Scanner Season 4 Range 12 Column 15  PI641825          289.0   \n86   MAC Field Scanner Season 4 Range 16 Column 12  PI570076          365.0   \n640   MAC Field Scanner Season 4 Range 51 Column 6  PI570106          309.0   \n399   MAC Field Scanner Season 4 Range 36 Column 3  PI329333          216.0   \n\n     aboveground_dry_biomass  flag_leaf_emergence_time  flowering_time  \n39                       NaN                      50.0             NaN  \n335                      NaN                      62.0             NaN  \n326                      NaN                      46.0             NaN  \n512                      NaN                       NaN             NaN  \n548                      NaN                       NaN             NaN  \n275                  19910.0                       NaN             NaN  \n722                      NaN                       NaN             NaN  \n630                  24530.0                       NaN             NaN  \n109                      NaN                       NaN             NaN  \n346                      NaN                       NaN             NaN  \n434                      NaN                       NaN             NaN  \n33                   18050.0                       NaN             NaN  \n86                       NaN                       NaN             NaN  \n640                      NaN                       NaN             NaN  \n399                      NaN                       NaN             NaN  ",
      "text/html": "<div>\n<style scoped>\n    .dataframe tbody tr th:only-of-type {\n        vertical-align: middle;\n    }\n\n    .dataframe tbody tr th {\n        vertical-align: top;\n    }\n\n    .dataframe thead th {\n        text-align: right;\n    }\n</style>\n<table border=\"1\" class=\"dataframe\">\n  <thead>\n    <tr style=\"text-align: right;\">\n      <th></th>\n      <th>sitename</th>\n      <th>cultivar</th>\n      <th>canopy_height</th>\n      <th>aboveground_dry_biomass</th>\n      <th>flag_leaf_emergence_time</th>\n      <th>flowering_time</th>\n    </tr>\n  </thead>\n  <tbody>\n    <tr>\n      <th>39</th>\n      <td>MAC Field Scanner Season 4 Range 12 Column 7</td>\n      <td>PI213900</td>\n      <td>299.0</td>\n      <td>NaN</td>\n      <td>50.0</td>\n      <td>NaN</td>\n    </tr>\n    <tr>\n      <th>335</th>\n      <td>MAC Field Scanner Season 4 Range 31 Column 9</td>\n      <td>PI217691</td>\n      <td>294.0</td>\n      <td>NaN</td>\n      <td>62.0</td>\n      <td>NaN</td>\n    </tr>\n    <tr>\n      <th>326</th>\n      <td>MAC Field Scanner Season 4 Range 31 Column 14</td>\n      <td>PI179749</td>\n      <td>321.0</td>\n      <td>NaN</td>\n      <td>46.0</td>\n      <td>NaN</td>\n    </tr>\n    <tr>\n      <th>512</th>\n      <td>MAC Field Scanner Season 4 Range 43 Column 4</td>\n      <td>PI329711</td>\n      <td>370.0</td>\n      <td>NaN</td>\n      <td>NaN</td>\n      <td>NaN</td>\n    </tr>\n    <tr>\n      <th>548</th>\n      <td>MAC Field Scanner Season 4 Range 46 Column 12</td>\n      <td>PI535793</td>\n      <td>146.0</td>\n      <td>NaN</td>\n      <td>NaN</td>\n      <td>NaN</td>\n    </tr>\n    <tr>\n      <th>275</th>\n      <td>MAC Field Scanner Season 4 Range 28 Column 5</td>\n      <td>PI586541</td>\n      <td>330.0</td>\n      <td>19910.0</td>\n      <td>NaN</td>\n      <td>NaN</td>\n    </tr>\n    <tr>\n      <th>722</th>\n      <td>MAC Field Scanner Season 4 Range 9 Column 4</td>\n      <td>PI521152</td>\n      <td>375.0</td>\n      <td>NaN</td>\n      <td>NaN</td>\n      <td>NaN</td>\n    </tr>\n    <tr>\n      <th>630</th>\n      <td>MAC Field Scanner Season 4 Range 51 Column 10</td>\n      <td>PI656035</td>\n      <td>265.0</td>\n      <td>24530.0</td>\n      <td>NaN</td>\n      <td>NaN</td>\n    </tr>\n    <tr>\n      <th>109</th>\n      <td>MAC Field Scanner Season 4 Range 17 Column 7</td>\n      <td>PI157030</td>\n      <td>325.0</td>\n      <td>NaN</td>\n      <td>NaN</td>\n      <td>NaN</td>\n    </tr>\n    <tr>\n      <th>346</th>\n      <td>MAC Field Scanner Season 4 Range 32 Column 6</td>\n      <td>PI569455</td>\n      <td>381.0</td>\n      <td>NaN</td>\n      <td>NaN</td>\n      <td>NaN</td>\n    </tr>\n    <tr>\n      <th>434</th>\n      <td>MAC Field Scanner Season 4 Range 39 Column 10</td>\n      <td>PI505722</td>\n      <td>392.0</td>\n      <td>NaN</td>\n      <td>NaN</td>\n      <td>NaN</td>\n    </tr>\n    <tr>\n      <th>33</th>\n      <td>MAC Field Scanner Season 4 Range 12 Column 15</td>\n      <td>PI641825</td>\n      <td>289.0</td>\n      <td>18050.0</td>\n      <td>NaN</td>\n      <td>NaN</td>\n    </tr>\n    <tr>\n      <th>86</th>\n      <td>MAC Field Scanner Season 4 Range 16 Column 12</td>\n      <td>PI570076</td>\n      <td>365.0</td>\n      <td>NaN</td>\n      <td>NaN</td>\n      <td>NaN</td>\n    </tr>\n    <tr>\n      <th>640</th>\n      <td>MAC Field Scanner Season 4 Range 51 Column 6</td>\n      <td>PI570106</td>\n      <td>309.0</td>\n      <td>NaN</td>\n      <td>NaN</td>\n      <td>NaN</td>\n    </tr>\n    <tr>\n      <th>399</th>\n      <td>MAC Field Scanner Season 4 Range 36 Column 3</td>\n      <td>PI329333</td>\n      <td>216.0</td>\n      <td>NaN</td>\n      <td>NaN</td>\n      <td>NaN</td>\n    </tr>\n  </tbody>\n</table>\n</div>"
     },
     "metadata": {},
     "output_type": "execute_result",
     "execution_count": 771
    }
   ],
   "source": [
    "# with na_values argument\n",
    "\n",
    "testing_nans_2 = pd.read_csv('four_trait_df.csv', na_values='')\n",
    "testing_nans_2.sample(n=15, random_state=42)"
   ]
  },
  {
   "cell_type": "markdown",
   "metadata": {},
   "source": [
    "### Plot corrections"
   ]
  },
  {
   "cell_type": "code",
   "execution_count": 772,
   "metadata": {
    "pycharm": {
     "is_executing": false
    }
   },
   "outputs": [
    {
     "data": {
      "text/plain": "   Unnamed: 0  checked result_type          id   citation_id     site_id  \\\n0           1        0      traits  6001958927  6.000000e+09  6000005673   \n1           2        0      traits  6001958928  6.000000e+09  6000005676   \n2           3        0      traits  6001958931  6.000000e+09  6000005685   \n3           4        0      traits  6001958933  6.000000e+09  6000005691   \n4           5        0      traits  6001958936  6.000000e+09  6000005700   \n\n   treatment_id                                       sitename      city  \\\n0  6.000000e+09   MAC Field Scanner Season 4 Range 11 Column 5  Maricopa   \n1  6.000000e+09   MAC Field Scanner Season 4 Range 11 Column 6  Maricopa   \n2  6.000000e+09   MAC Field Scanner Season 4 Range 11 Column 9  Maricopa   \n3  6.000000e+09  MAC Field Scanner Season 4 Range 11 Column 11  Maricopa   \n4  6.000000e+09  MAC Field Scanner Season 4 Range 11 Column 14  Maricopa   \n\n         lat  ...   n statname stat notes  access_level  cultivar entity  \\\n0  33.074907  ... NaN      NaN  NaN   NaN             2  PI181083    NaN   \n1  33.074907  ... NaN      NaN  NaN   NaN             2  PI564163    NaN   \n2  33.074907  ... NaN      NaN  NaN   NaN             2   PI52606    NaN   \n3  33.074907  ... NaN      NaN  NaN   NaN             2  PI533792    NaN   \n4  33.074907  ... NaN      NaN  NaN   NaN             2  PI535794    NaN   \n\n                             method_name  \\\n0  Visual assessment of leaf dessication   \n1  Visual assessment of leaf dessication   \n2  Visual assessment of leaf dessication   \n3  Visual assessment of leaf dessication   \n4  Visual assessment of leaf dessication   \n\n                                            view_url  \\\n0  https://terraref.ncsa.illinois.edu/bety/traits...   \n1  https://terraref.ncsa.illinois.edu/bety/traits...   \n2  https://terraref.ncsa.illinois.edu/bety/traits...   \n3  https://terraref.ncsa.illinois.edu/bety/traits...   \n4  https://terraref.ncsa.illinois.edu/bety/traits...   \n\n                                            edit_url  \n0  https://terraref.ncsa.illinois.edu/bety/traits...  \n1  https://terraref.ncsa.illinois.edu/bety/traits...  \n2  https://terraref.ncsa.illinois.edu/bety/traits...  \n3  https://terraref.ncsa.illinois.edu/bety/traits...  \n4  https://terraref.ncsa.illinois.edu/bety/traits...  \n\n[5 rows x 39 columns]",
      "text/html": "<div>\n<style scoped>\n    .dataframe tbody tr th:only-of-type {\n        vertical-align: middle;\n    }\n\n    .dataframe tbody tr th {\n        vertical-align: top;\n    }\n\n    .dataframe thead th {\n        text-align: right;\n    }\n</style>\n<table border=\"1\" class=\"dataframe\">\n  <thead>\n    <tr style=\"text-align: right;\">\n      <th></th>\n      <th>Unnamed: 0</th>\n      <th>checked</th>\n      <th>result_type</th>\n      <th>id</th>\n      <th>citation_id</th>\n      <th>site_id</th>\n      <th>treatment_id</th>\n      <th>sitename</th>\n      <th>city</th>\n      <th>lat</th>\n      <th>...</th>\n      <th>n</th>\n      <th>statname</th>\n      <th>stat</th>\n      <th>notes</th>\n      <th>access_level</th>\n      <th>cultivar</th>\n      <th>entity</th>\n      <th>method_name</th>\n      <th>view_url</th>\n      <th>edit_url</th>\n    </tr>\n  </thead>\n  <tbody>\n    <tr>\n      <th>0</th>\n      <td>1</td>\n      <td>0</td>\n      <td>traits</td>\n      <td>6001958927</td>\n      <td>6.000000e+09</td>\n      <td>6000005673</td>\n      <td>6.000000e+09</td>\n      <td>MAC Field Scanner Season 4 Range 11 Column 5</td>\n      <td>Maricopa</td>\n      <td>33.074907</td>\n      <td>...</td>\n      <td>NaN</td>\n      <td>NaN</td>\n      <td>NaN</td>\n      <td>NaN</td>\n      <td>2</td>\n      <td>PI181083</td>\n      <td>NaN</td>\n      <td>Visual assessment of leaf dessication</td>\n      <td>https://terraref.ncsa.illinois.edu/bety/traits...</td>\n      <td>https://terraref.ncsa.illinois.edu/bety/traits...</td>\n    </tr>\n    <tr>\n      <th>1</th>\n      <td>2</td>\n      <td>0</td>\n      <td>traits</td>\n      <td>6001958928</td>\n      <td>6.000000e+09</td>\n      <td>6000005676</td>\n      <td>6.000000e+09</td>\n      <td>MAC Field Scanner Season 4 Range 11 Column 6</td>\n      <td>Maricopa</td>\n      <td>33.074907</td>\n      <td>...</td>\n      <td>NaN</td>\n      <td>NaN</td>\n      <td>NaN</td>\n      <td>NaN</td>\n      <td>2</td>\n      <td>PI564163</td>\n      <td>NaN</td>\n      <td>Visual assessment of leaf dessication</td>\n      <td>https://terraref.ncsa.illinois.edu/bety/traits...</td>\n      <td>https://terraref.ncsa.illinois.edu/bety/traits...</td>\n    </tr>\n    <tr>\n      <th>2</th>\n      <td>3</td>\n      <td>0</td>\n      <td>traits</td>\n      <td>6001958931</td>\n      <td>6.000000e+09</td>\n      <td>6000005685</td>\n      <td>6.000000e+09</td>\n      <td>MAC Field Scanner Season 4 Range 11 Column 9</td>\n      <td>Maricopa</td>\n      <td>33.074907</td>\n      <td>...</td>\n      <td>NaN</td>\n      <td>NaN</td>\n      <td>NaN</td>\n      <td>NaN</td>\n      <td>2</td>\n      <td>PI52606</td>\n      <td>NaN</td>\n      <td>Visual assessment of leaf dessication</td>\n      <td>https://terraref.ncsa.illinois.edu/bety/traits...</td>\n      <td>https://terraref.ncsa.illinois.edu/bety/traits...</td>\n    </tr>\n    <tr>\n      <th>3</th>\n      <td>4</td>\n      <td>0</td>\n      <td>traits</td>\n      <td>6001958933</td>\n      <td>6.000000e+09</td>\n      <td>6000005691</td>\n      <td>6.000000e+09</td>\n      <td>MAC Field Scanner Season 4 Range 11 Column 11</td>\n      <td>Maricopa</td>\n      <td>33.074907</td>\n      <td>...</td>\n      <td>NaN</td>\n      <td>NaN</td>\n      <td>NaN</td>\n      <td>NaN</td>\n      <td>2</td>\n      <td>PI533792</td>\n      <td>NaN</td>\n      <td>Visual assessment of leaf dessication</td>\n      <td>https://terraref.ncsa.illinois.edu/bety/traits...</td>\n      <td>https://terraref.ncsa.illinois.edu/bety/traits...</td>\n    </tr>\n    <tr>\n      <th>4</th>\n      <td>5</td>\n      <td>0</td>\n      <td>traits</td>\n      <td>6001958936</td>\n      <td>6.000000e+09</td>\n      <td>6000005700</td>\n      <td>6.000000e+09</td>\n      <td>MAC Field Scanner Season 4 Range 11 Column 14</td>\n      <td>Maricopa</td>\n      <td>33.074907</td>\n      <td>...</td>\n      <td>NaN</td>\n      <td>NaN</td>\n      <td>NaN</td>\n      <td>NaN</td>\n      <td>2</td>\n      <td>PI535794</td>\n      <td>NaN</td>\n      <td>Visual assessment of leaf dessication</td>\n      <td>https://terraref.ncsa.illinois.edu/bety/traits...</td>\n      <td>https://terraref.ncsa.illinois.edu/bety/traits...</td>\n    </tr>\n  </tbody>\n</table>\n<p>5 rows × 39 columns</p>\n</div>"
     },
     "metadata": {},
     "output_type": "execute_result",
     "execution_count": 772
    }
   ],
   "source": [
    "df = pd.read_csv('../data/raw/mac_season_4.csv')\n",
    "df.head()"
   ]
  },
  {
   "cell_type": "code",
   "execution_count": 773,
   "metadata": {
    "pycharm": {
     "is_executing": false
    }
   },
   "outputs": [],
   "source": [
    "cols_to_drop = ['Unnamed: 0', 'checked', 'result_type', 'citation_id', 'scientificname', 'author', 'citation_year', \\\n",
    "                'treatment', 'n', 'statname', 'stat', 'notes', 'access_level', 'entity', 'method_name', 'view_url', \\\n",
    "                'edit_url', 'treatment_id', 'city', 'commonname', 'genus', 'species_id', 'month', 'year', 'dateloc']"
   ]
  },
  {
   "cell_type": "code",
   "execution_count": 774,
   "metadata": {
    "pycharm": {
     "is_executing": false
    }
   },
   "outputs": [
    {
     "name": "stdout",
     "text": [
      "[6000005673 6000005676 6000005685 ... 6000007563 6000007604 6000007873]\n2202\n"
     ],
     "output_type": "stream"
    }
   ],
   "source": [
    "print(df.site_id.unique())\n",
    "print(df.site_id.nunique())"
   ]
  },
  {
   "cell_type": "code",
   "execution_count": 775,
   "metadata": {
    "pycharm": {
     "is_executing": false
    }
   },
   "outputs": [
    {
     "name": "stdout",
     "text": [
      "2202\n2202\n"
     ],
     "output_type": "stream"
    }
   ],
   "source": [
    "print(df.lat.nunique())\n",
    "print(df.lon.nunique())"
   ]
  },
  {
   "cell_type": "code",
   "execution_count": 776,
   "metadata": {
    "pycharm": {
     "is_executing": false
    }
   },
   "outputs": [
    {
     "name": "stdout",
     "text": [
      "351\n"
     ],
     "output_type": "stream"
    }
   ],
   "source": [
    "print(df.cultivar_id.nunique())"
   ]
  },
  {
   "cell_type": "code",
   "execution_count": 777,
   "metadata": {
    "pycharm": {
     "is_executing": false
    }
   },
   "outputs": [
    {
     "name": "stdout",
     "text": [
      "248876\n(372363, 39)\n"
     ],
     "output_type": "stream"
    }
   ],
   "source": [
    "print(df.id.nunique())\n",
    "print(df.shape)"
   ]
  },
  {
   "cell_type": "code",
   "execution_count": 778,
   "metadata": {
    "pycharm": {
     "is_executing": false
    }
   },
   "outputs": [
    {
     "data": {
      "text/plain": "           id     site_id                                       sitename  \\\n0  6001958927  6000005673   MAC Field Scanner Season 4 Range 11 Column 5   \n1  6001958928  6000005676   MAC Field Scanner Season 4 Range 11 Column 6   \n2  6001958931  6000005685   MAC Field Scanner Season 4 Range 11 Column 9   \n3  6001958933  6000005691  MAC Field Scanner Season 4 Range 11 Column 11   \n4  6001958936  6000005700  MAC Field Scanner Season 4 Range 11 Column 14   \n\n         lat         lon  cultivar_id                           date  \\\n0  33.074907 -111.974982   6000000730  2017 Jun 14 (America/Phoenix)   \n1  33.074907 -111.974966   6000000231  2017 Jun 14 (America/Phoenix)   \n2  33.074907 -111.974917   6000000860  2017 Jun 14 (America/Phoenix)   \n3  33.074907 -111.974884   6000000863  2017 Jun 14 (America/Phoenix)   \n4  33.074907 -111.974835   6000000869  2017 Jun 14 (America/Phoenix)   \n\n                            time                   raw_date  \\\n0  [time unspecified or unknown]  2017-06-15 00:00:00 -0500   \n1  [time unspecified or unknown]  2017-06-15 00:00:00 -0500   \n2  [time unspecified or unknown]  2017-06-15 00:00:00 -0500   \n3  [time unspecified or unknown]  2017-06-15 00:00:00 -0500   \n4  [time unspecified or unknown]  2017-06-15 00:00:00 -0500   \n\n                      trait  \\\n0  leaf_desiccation_present   \n1  leaf_desiccation_present   \n2  leaf_desiccation_present   \n3  leaf_desiccation_present   \n4  leaf_desiccation_present   \n\n                                   trait_description  mean units  cultivar  \n0  Presence or absence of leaves showing desiccat...   0.0   NaN  PI181083  \n1  Presence or absence of leaves showing desiccat...   0.0   NaN  PI564163  \n2  Presence or absence of leaves showing desiccat...   0.0   NaN   PI52606  \n3  Presence or absence of leaves showing desiccat...   0.0   NaN  PI533792  \n4  Presence or absence of leaves showing desiccat...   0.0   NaN  PI535794  ",
      "text/html": "<div>\n<style scoped>\n    .dataframe tbody tr th:only-of-type {\n        vertical-align: middle;\n    }\n\n    .dataframe tbody tr th {\n        vertical-align: top;\n    }\n\n    .dataframe thead th {\n        text-align: right;\n    }\n</style>\n<table border=\"1\" class=\"dataframe\">\n  <thead>\n    <tr style=\"text-align: right;\">\n      <th></th>\n      <th>id</th>\n      <th>site_id</th>\n      <th>sitename</th>\n      <th>lat</th>\n      <th>lon</th>\n      <th>cultivar_id</th>\n      <th>date</th>\n      <th>time</th>\n      <th>raw_date</th>\n      <th>trait</th>\n      <th>trait_description</th>\n      <th>mean</th>\n      <th>units</th>\n      <th>cultivar</th>\n    </tr>\n  </thead>\n  <tbody>\n    <tr>\n      <th>0</th>\n      <td>6001958927</td>\n      <td>6000005673</td>\n      <td>MAC Field Scanner Season 4 Range 11 Column 5</td>\n      <td>33.074907</td>\n      <td>-111.974982</td>\n      <td>6000000730</td>\n      <td>2017 Jun 14 (America/Phoenix)</td>\n      <td>[time unspecified or unknown]</td>\n      <td>2017-06-15 00:00:00 -0500</td>\n      <td>leaf_desiccation_present</td>\n      <td>Presence or absence of leaves showing desiccat...</td>\n      <td>0.0</td>\n      <td>NaN</td>\n      <td>PI181083</td>\n    </tr>\n    <tr>\n      <th>1</th>\n      <td>6001958928</td>\n      <td>6000005676</td>\n      <td>MAC Field Scanner Season 4 Range 11 Column 6</td>\n      <td>33.074907</td>\n      <td>-111.974966</td>\n      <td>6000000231</td>\n      <td>2017 Jun 14 (America/Phoenix)</td>\n      <td>[time unspecified or unknown]</td>\n      <td>2017-06-15 00:00:00 -0500</td>\n      <td>leaf_desiccation_present</td>\n      <td>Presence or absence of leaves showing desiccat...</td>\n      <td>0.0</td>\n      <td>NaN</td>\n      <td>PI564163</td>\n    </tr>\n    <tr>\n      <th>2</th>\n      <td>6001958931</td>\n      <td>6000005685</td>\n      <td>MAC Field Scanner Season 4 Range 11 Column 9</td>\n      <td>33.074907</td>\n      <td>-111.974917</td>\n      <td>6000000860</td>\n      <td>2017 Jun 14 (America/Phoenix)</td>\n      <td>[time unspecified or unknown]</td>\n      <td>2017-06-15 00:00:00 -0500</td>\n      <td>leaf_desiccation_present</td>\n      <td>Presence or absence of leaves showing desiccat...</td>\n      <td>0.0</td>\n      <td>NaN</td>\n      <td>PI52606</td>\n    </tr>\n    <tr>\n      <th>3</th>\n      <td>6001958933</td>\n      <td>6000005691</td>\n      <td>MAC Field Scanner Season 4 Range 11 Column 11</td>\n      <td>33.074907</td>\n      <td>-111.974884</td>\n      <td>6000000863</td>\n      <td>2017 Jun 14 (America/Phoenix)</td>\n      <td>[time unspecified or unknown]</td>\n      <td>2017-06-15 00:00:00 -0500</td>\n      <td>leaf_desiccation_present</td>\n      <td>Presence or absence of leaves showing desiccat...</td>\n      <td>0.0</td>\n      <td>NaN</td>\n      <td>PI533792</td>\n    </tr>\n    <tr>\n      <th>4</th>\n      <td>6001958936</td>\n      <td>6000005700</td>\n      <td>MAC Field Scanner Season 4 Range 11 Column 14</td>\n      <td>33.074907</td>\n      <td>-111.974835</td>\n      <td>6000000869</td>\n      <td>2017 Jun 14 (America/Phoenix)</td>\n      <td>[time unspecified or unknown]</td>\n      <td>2017-06-15 00:00:00 -0500</td>\n      <td>leaf_desiccation_present</td>\n      <td>Presence or absence of leaves showing desiccat...</td>\n      <td>0.0</td>\n      <td>NaN</td>\n      <td>PI535794</td>\n    </tr>\n  </tbody>\n</table>\n</div>"
     },
     "metadata": {},
     "output_type": "execute_result",
     "execution_count": 778
    }
   ],
   "source": [
    "df_dropped = df.drop(labels=cols_to_drop, axis=1)\n",
    "df_dropped.head()"
   ]
  },
  {
   "cell_type": "code",
   "execution_count": 779,
   "metadata": {
    "pycharm": {
     "is_executing": false
    }
   },
   "outputs": [
    {
     "name": "stdout",
     "text": [
      "2202\n",
      "2202\n"
     ],
     "output_type": "stream"
    }
   ],
   "source": [
    "print(df.site_id.nunique())\n",
    "print(df.sitename.nunique())"
   ]
  },
  {
   "cell_type": "code",
   "execution_count": 780,
   "metadata": {
    "pycharm": {
     "is_executing": false
    }
   },
   "outputs": [
    {
     "data": {
      "text/plain": "                    id                                       sitename  \\\nsite_id                                                                 \n6000005673  6001958927   MAC Field Scanner Season 4 Range 11 Column 5   \n6000005676  6001958928   MAC Field Scanner Season 4 Range 11 Column 6   \n6000005685  6001958931   MAC Field Scanner Season 4 Range 11 Column 9   \n6000005691  6001958933  MAC Field Scanner Season 4 Range 11 Column 11   \n6000005700  6001958936  MAC Field Scanner Season 4 Range 11 Column 14   \n\n                  lat         lon  cultivar_id                           date  \\\nsite_id                                                                         \n6000005673  33.074907 -111.974982   6000000730  2017 Jun 14 (America/Phoenix)   \n6000005676  33.074907 -111.974966   6000000231  2017 Jun 14 (America/Phoenix)   \n6000005685  33.074907 -111.974917   6000000860  2017 Jun 14 (America/Phoenix)   \n6000005691  33.074907 -111.974884   6000000863  2017 Jun 14 (America/Phoenix)   \n6000005700  33.074907 -111.974835   6000000869  2017 Jun 14 (America/Phoenix)   \n\n                                     time                   raw_date  \\\nsite_id                                                                \n6000005673  [time unspecified or unknown]  2017-06-15 00:00:00 -0500   \n6000005676  [time unspecified or unknown]  2017-06-15 00:00:00 -0500   \n6000005685  [time unspecified or unknown]  2017-06-15 00:00:00 -0500   \n6000005691  [time unspecified or unknown]  2017-06-15 00:00:00 -0500   \n6000005700  [time unspecified or unknown]  2017-06-15 00:00:00 -0500   \n\n                               trait  \\\nsite_id                                \n6000005673  leaf_desiccation_present   \n6000005676  leaf_desiccation_present   \n6000005685  leaf_desiccation_present   \n6000005691  leaf_desiccation_present   \n6000005700  leaf_desiccation_present   \n\n                                            trait_description  mean units  \\\nsite_id                                                                     \n6000005673  Presence or absence of leaves showing desiccat...   0.0   NaN   \n6000005676  Presence or absence of leaves showing desiccat...   0.0   NaN   \n6000005685  Presence or absence of leaves showing desiccat...   0.0   NaN   \n6000005691  Presence or absence of leaves showing desiccat...   0.0   NaN   \n6000005700  Presence or absence of leaves showing desiccat...   0.0   NaN   \n\n            cultivar  \nsite_id               \n6000005673  PI181083  \n6000005676  PI564163  \n6000005685   PI52606  \n6000005691  PI533792  \n6000005700  PI535794  ",
      "text/html": "<div>\n<style scoped>\n    .dataframe tbody tr th:only-of-type {\n        vertical-align: middle;\n    }\n\n    .dataframe tbody tr th {\n        vertical-align: top;\n    }\n\n    .dataframe thead th {\n        text-align: right;\n    }\n</style>\n<table border=\"1\" class=\"dataframe\">\n  <thead>\n    <tr style=\"text-align: right;\">\n      <th></th>\n      <th>id</th>\n      <th>sitename</th>\n      <th>lat</th>\n      <th>lon</th>\n      <th>cultivar_id</th>\n      <th>date</th>\n      <th>time</th>\n      <th>raw_date</th>\n      <th>trait</th>\n      <th>trait_description</th>\n      <th>mean</th>\n      <th>units</th>\n      <th>cultivar</th>\n    </tr>\n    <tr>\n      <th>site_id</th>\n      <th></th>\n      <th></th>\n      <th></th>\n      <th></th>\n      <th></th>\n      <th></th>\n      <th></th>\n      <th></th>\n      <th></th>\n      <th></th>\n      <th></th>\n      <th></th>\n      <th></th>\n    </tr>\n  </thead>\n  <tbody>\n    <tr>\n      <th>6000005673</th>\n      <td>6001958927</td>\n      <td>MAC Field Scanner Season 4 Range 11 Column 5</td>\n      <td>33.074907</td>\n      <td>-111.974982</td>\n      <td>6000000730</td>\n      <td>2017 Jun 14 (America/Phoenix)</td>\n      <td>[time unspecified or unknown]</td>\n      <td>2017-06-15 00:00:00 -0500</td>\n      <td>leaf_desiccation_present</td>\n      <td>Presence or absence of leaves showing desiccat...</td>\n      <td>0.0</td>\n      <td>NaN</td>\n      <td>PI181083</td>\n    </tr>\n    <tr>\n      <th>6000005676</th>\n      <td>6001958928</td>\n      <td>MAC Field Scanner Season 4 Range 11 Column 6</td>\n      <td>33.074907</td>\n      <td>-111.974966</td>\n      <td>6000000231</td>\n      <td>2017 Jun 14 (America/Phoenix)</td>\n      <td>[time unspecified or unknown]</td>\n      <td>2017-06-15 00:00:00 -0500</td>\n      <td>leaf_desiccation_present</td>\n      <td>Presence or absence of leaves showing desiccat...</td>\n      <td>0.0</td>\n      <td>NaN</td>\n      <td>PI564163</td>\n    </tr>\n    <tr>\n      <th>6000005685</th>\n      <td>6001958931</td>\n      <td>MAC Field Scanner Season 4 Range 11 Column 9</td>\n      <td>33.074907</td>\n      <td>-111.974917</td>\n      <td>6000000860</td>\n      <td>2017 Jun 14 (America/Phoenix)</td>\n      <td>[time unspecified or unknown]</td>\n      <td>2017-06-15 00:00:00 -0500</td>\n      <td>leaf_desiccation_present</td>\n      <td>Presence or absence of leaves showing desiccat...</td>\n      <td>0.0</td>\n      <td>NaN</td>\n      <td>PI52606</td>\n    </tr>\n    <tr>\n      <th>6000005691</th>\n      <td>6001958933</td>\n      <td>MAC Field Scanner Season 4 Range 11 Column 11</td>\n      <td>33.074907</td>\n      <td>-111.974884</td>\n      <td>6000000863</td>\n      <td>2017 Jun 14 (America/Phoenix)</td>\n      <td>[time unspecified or unknown]</td>\n      <td>2017-06-15 00:00:00 -0500</td>\n      <td>leaf_desiccation_present</td>\n      <td>Presence or absence of leaves showing desiccat...</td>\n      <td>0.0</td>\n      <td>NaN</td>\n      <td>PI533792</td>\n    </tr>\n    <tr>\n      <th>6000005700</th>\n      <td>6001958936</td>\n      <td>MAC Field Scanner Season 4 Range 11 Column 14</td>\n      <td>33.074907</td>\n      <td>-111.974835</td>\n      <td>6000000869</td>\n      <td>2017 Jun 14 (America/Phoenix)</td>\n      <td>[time unspecified or unknown]</td>\n      <td>2017-06-15 00:00:00 -0500</td>\n      <td>leaf_desiccation_present</td>\n      <td>Presence or absence of leaves showing desiccat...</td>\n      <td>0.0</td>\n      <td>NaN</td>\n      <td>PI535794</td>\n    </tr>\n  </tbody>\n</table>\n</div>"
     },
     "metadata": {},
     "output_type": "execute_result",
     "execution_count": 780
    }
   ],
   "source": [
    "site_index = df_dropped.set_index(keys='site_id')\n",
    "site_index.head()"
   ]
  },
  {
   "cell_type": "code",
   "execution_count": 781,
   "metadata": {
    "pycharm": {
     "is_executing": false
    }
   },
   "outputs": [
    {
     "name": "stdout",
     "text": [
      "(372363, 39)\n(372363, 14)\n(372363, 13)\n"
     ],
     "output_type": "stream"
    }
   ],
   "source": [
    "# check that no duplicate sites were dropped\n",
    "\n",
    "print(df.shape)\n",
    "print(df_dropped.shape)\n",
    "print(site_index.shape)"
   ]
  },
  {
   "cell_type": "code",
   "execution_count": 782,
   "metadata": {
    "pycharm": {
     "is_executing": false
    }
   },
   "outputs": [
    {
     "data": {
      "text/plain": "array(['leaf_desiccation_present', 'lodging_present', 'leaf_temperature',\n       'planter_seed_drop', 'roll', 'PhiNO', 'PhiNPQ', 'absorbance_530',\n       'absorbance_605', 'absorbance_730', 'absorbance_880',\n       'absorbance_940', 'Fs', 'NPQt', 'qL', 'qP', 'RFd', 'SPAD_530',\n       'SPAD_605', 'SPAD_730', 'leaf_thickness', 'ambient_humidity',\n       'leaf_angle_clamp_position', 'pitch', 'proximal_air_temperature',\n       'FvP/FmP', 'gH+', 'ECSt', 'leaf_temperature_differential', 'Phi2',\n       'relative_chlorophyll', 'FmPrime', 'FoPrime', 'LEF', 'SPAD_420',\n       'SPAD_650', 'SPAD_850', 'SPAD_880', 'light_intensity_PAR', 'vH+',\n       'absorbance_650', 'absorbance_850', 'absorbance_420',\n       'surface_temperature', 'leaf_angle_chi', 'leaf_angle_mean',\n       'leaf_angle_alpha', 'leaf_angle_beta', 'aboveground_dry_biomass',\n       'seedling_emergence_rate', 'panicle_height', 'stand_count',\n       'dry_matter_fraction', 'harvest_lodging_rating', 'canopy_height',\n       'anthocyanin_index', 'chlorophyll_index',\n       'flag_leaf_emergence_time', 'flowering_time', 'grain_stage_time',\n       'leaf_length', 'leaf_width', 'leaf_stomatal_conductance',\n       'aboveground_biomass_moisture', 'aboveground_fresh_biomass',\n       'canopy_cover', 'panicle_count', 'panicle_volume',\n       'panicle_surface_area', 'stem_elongated_internodes_number',\n       'emergence_count', 'stalk_diameter_fixed_height',\n       'stalk_diameter_minor_axis', 'stalk_diameter_major_axis',\n       'plant_basal_tiller_number'], dtype=object)"
     },
     "metadata": {},
     "output_type": "execute_result",
     "execution_count": 782
    }
   ],
   "source": [
    "site_index.trait.unique()"
   ]
  },
  {
   "cell_type": "code",
   "execution_count": 783,
   "metadata": {
    "pycharm": {
     "is_executing": false
    }
   },
   "outputs": [
    {
     "data": {
      "text/plain": "                    id                                         sitename  \\\nsite_id                                                                   \n6000007566  6001950431   MAC Field Scanner Season 4 Range 20 Column 8 E   \n6000007566  6001950155   MAC Field Scanner Season 4 Range 20 Column 8 E   \n6000007566  6001949595   MAC Field Scanner Season 4 Range 20 Column 8 E   \n6000007899  6001949937  MAC Field Scanner Season 4 Range 30 Column 15 W   \n6000008552  6001951451   MAC Field Scanner Season 4 Range 51 Column 5 E   \n...                ...                                              ...   \n6000007565  6001951269   MAC Field Scanner Season 4 Range 20 Column 8 W   \n6000007565  6001950989   MAC Field Scanner Season 4 Range 20 Column 8 W   \n6000007565  6001950429   MAC Field Scanner Season 4 Range 20 Column 8 W   \n6000007565  6001950153   MAC Field Scanner Season 4 Range 20 Column 8 W   \n6000007565  6001949313   MAC Field Scanner Season 4 Range 20 Column 8 W   \n\n                  lat         lon  cultivar_id                           date  \\\nsite_id                                                                         \n6000007566  33.075231 -111.974929   6000001021   2017 May 1 (America/Phoenix)   \n6000007566  33.075231 -111.974929   6000001021  2017 Apr 30 (America/Phoenix)   \n6000007566  33.075231 -111.974929   6000001021  2017 Apr 26 (America/Phoenix)   \n6000007899  33.075590 -111.974823   6000000208  2017 Apr 27 (America/Phoenix)   \n6000008552  33.076345 -111.974979   6000000216   2017 May 8 (America/Phoenix)   \n...               ...         ...          ...                            ...   \n6000007565  33.075231 -111.974937   6000001021   2017 May 8 (America/Phoenix)   \n6000007565  33.075231 -111.974937   6000001021   2017 May 4 (America/Phoenix)   \n6000007565  33.075231 -111.974937   6000001021   2017 May 1 (America/Phoenix)   \n6000007565  33.075231 -111.974937   6000001021  2017 Apr 30 (America/Phoenix)   \n6000007565  33.075231 -111.974937   6000001021  2017 Apr 25 (America/Phoenix)   \n\n                                     time                   raw_date  \\\nsite_id                                                                \n6000007566  [time unspecified or unknown]  2017-05-02 00:00:00 -0500   \n6000007566  [time unspecified or unknown]  2017-05-01 00:00:00 -0500   \n6000007566  [time unspecified or unknown]  2017-04-27 00:00:00 -0500   \n6000007899  [time unspecified or unknown]  2017-04-28 00:00:00 -0500   \n6000008552  [time unspecified or unknown]  2017-05-09 00:00:00 -0500   \n...                                   ...                        ...   \n6000007565  [time unspecified or unknown]  2017-05-09 00:00:00 -0500   \n6000007565  [time unspecified or unknown]  2017-05-05 00:00:00 -0500   \n6000007565  [time unspecified or unknown]  2017-05-02 00:00:00 -0500   \n6000007565  [time unspecified or unknown]  2017-05-01 00:00:00 -0500   \n6000007565  [time unspecified or unknown]  2017-04-26 00:00:00 -0500   \n\n                      trait  \\\nsite_id                       \n6000007566  emergence_count   \n6000007566  emergence_count   \n6000007566  emergence_count   \n6000007899  emergence_count   \n6000008552  emergence_count   \n...                     ...   \n6000007565  emergence_count   \n6000007565  emergence_count   \n6000007565  emergence_count   \n6000007565  emergence_count   \n6000007565  emergence_count   \n\n                                            trait_description  mean units  \\\nsite_id                                                                     \n6000007566  number of plants counted within plot or subplo...  61.0   NaN   \n6000007566  number of plants counted within plot or subplo...  38.0   NaN   \n6000007566  number of plants counted within plot or subplo...  39.0   NaN   \n6000007899  number of plants counted within plot or subplo...  28.0   NaN   \n6000008552  number of plants counted within plot or subplo...  59.0   NaN   \n...                                                       ...   ...   ...   \n6000007565  number of plants counted within plot or subplo...  63.0   NaN   \n6000007565  number of plants counted within plot or subplo...  64.0   NaN   \n6000007565  number of plants counted within plot or subplo...  57.0   NaN   \n6000007565  number of plants counted within plot or subplo...  56.0   NaN   \n6000007565  number of plants counted within plot or subplo...  13.0   NaN   \n\n            cultivar  \nsite_id               \n6000007566  PI655972  \n6000007566  PI655972  \n6000007566  PI655972  \n6000007899  PI651491  \n6000008552  PI641825  \n...              ...  \n6000007565  PI655972  \n6000007565  PI655972  \n6000007565  PI655972  \n6000007565  PI655972  \n6000007565  PI655972  \n\n[566 rows x 13 columns]",
      "text/html": "<div>\n<style scoped>\n    .dataframe tbody tr th:only-of-type {\n        vertical-align: middle;\n    }\n\n    .dataframe tbody tr th {\n        vertical-align: top;\n    }\n\n    .dataframe thead th {\n        text-align: right;\n    }\n</style>\n<table border=\"1\" class=\"dataframe\">\n  <thead>\n    <tr style=\"text-align: right;\">\n      <th></th>\n      <th>id</th>\n      <th>sitename</th>\n      <th>lat</th>\n      <th>lon</th>\n      <th>cultivar_id</th>\n      <th>date</th>\n      <th>time</th>\n      <th>raw_date</th>\n      <th>trait</th>\n      <th>trait_description</th>\n      <th>mean</th>\n      <th>units</th>\n      <th>cultivar</th>\n    </tr>\n    <tr>\n      <th>site_id</th>\n      <th></th>\n      <th></th>\n      <th></th>\n      <th></th>\n      <th></th>\n      <th></th>\n      <th></th>\n      <th></th>\n      <th></th>\n      <th></th>\n      <th></th>\n      <th></th>\n      <th></th>\n    </tr>\n  </thead>\n  <tbody>\n    <tr>\n      <th>6000007566</th>\n      <td>6001950431</td>\n      <td>MAC Field Scanner Season 4 Range 20 Column 8 E</td>\n      <td>33.075231</td>\n      <td>-111.974929</td>\n      <td>6000001021</td>\n      <td>2017 May 1 (America/Phoenix)</td>\n      <td>[time unspecified or unknown]</td>\n      <td>2017-05-02 00:00:00 -0500</td>\n      <td>emergence_count</td>\n      <td>number of plants counted within plot or subplo...</td>\n      <td>61.0</td>\n      <td>NaN</td>\n      <td>PI655972</td>\n    </tr>\n    <tr>\n      <th>6000007566</th>\n      <td>6001950155</td>\n      <td>MAC Field Scanner Season 4 Range 20 Column 8 E</td>\n      <td>33.075231</td>\n      <td>-111.974929</td>\n      <td>6000001021</td>\n      <td>2017 Apr 30 (America/Phoenix)</td>\n      <td>[time unspecified or unknown]</td>\n      <td>2017-05-01 00:00:00 -0500</td>\n      <td>emergence_count</td>\n      <td>number of plants counted within plot or subplo...</td>\n      <td>38.0</td>\n      <td>NaN</td>\n      <td>PI655972</td>\n    </tr>\n    <tr>\n      <th>6000007566</th>\n      <td>6001949595</td>\n      <td>MAC Field Scanner Season 4 Range 20 Column 8 E</td>\n      <td>33.075231</td>\n      <td>-111.974929</td>\n      <td>6000001021</td>\n      <td>2017 Apr 26 (America/Phoenix)</td>\n      <td>[time unspecified or unknown]</td>\n      <td>2017-04-27 00:00:00 -0500</td>\n      <td>emergence_count</td>\n      <td>number of plants counted within plot or subplo...</td>\n      <td>39.0</td>\n      <td>NaN</td>\n      <td>PI655972</td>\n    </tr>\n    <tr>\n      <th>6000007899</th>\n      <td>6001949937</td>\n      <td>MAC Field Scanner Season 4 Range 30 Column 15 W</td>\n      <td>33.075590</td>\n      <td>-111.974823</td>\n      <td>6000000208</td>\n      <td>2017 Apr 27 (America/Phoenix)</td>\n      <td>[time unspecified or unknown]</td>\n      <td>2017-04-28 00:00:00 -0500</td>\n      <td>emergence_count</td>\n      <td>number of plants counted within plot or subplo...</td>\n      <td>28.0</td>\n      <td>NaN</td>\n      <td>PI651491</td>\n    </tr>\n    <tr>\n      <th>6000008552</th>\n      <td>6001951451</td>\n      <td>MAC Field Scanner Season 4 Range 51 Column 5 E</td>\n      <td>33.076345</td>\n      <td>-111.974979</td>\n      <td>6000000216</td>\n      <td>2017 May 8 (America/Phoenix)</td>\n      <td>[time unspecified or unknown]</td>\n      <td>2017-05-09 00:00:00 -0500</td>\n      <td>emergence_count</td>\n      <td>number of plants counted within plot or subplo...</td>\n      <td>59.0</td>\n      <td>NaN</td>\n      <td>PI641825</td>\n    </tr>\n    <tr>\n      <th>...</th>\n      <td>...</td>\n      <td>...</td>\n      <td>...</td>\n      <td>...</td>\n      <td>...</td>\n      <td>...</td>\n      <td>...</td>\n      <td>...</td>\n      <td>...</td>\n      <td>...</td>\n      <td>...</td>\n      <td>...</td>\n      <td>...</td>\n    </tr>\n    <tr>\n      <th>6000007565</th>\n      <td>6001951269</td>\n      <td>MAC Field Scanner Season 4 Range 20 Column 8 W</td>\n      <td>33.075231</td>\n      <td>-111.974937</td>\n      <td>6000001021</td>\n      <td>2017 May 8 (America/Phoenix)</td>\n      <td>[time unspecified or unknown]</td>\n      <td>2017-05-09 00:00:00 -0500</td>\n      <td>emergence_count</td>\n      <td>number of plants counted within plot or subplo...</td>\n      <td>63.0</td>\n      <td>NaN</td>\n      <td>PI655972</td>\n    </tr>\n    <tr>\n      <th>6000007565</th>\n      <td>6001950989</td>\n      <td>MAC Field Scanner Season 4 Range 20 Column 8 W</td>\n      <td>33.075231</td>\n      <td>-111.974937</td>\n      <td>6000001021</td>\n      <td>2017 May 4 (America/Phoenix)</td>\n      <td>[time unspecified or unknown]</td>\n      <td>2017-05-05 00:00:00 -0500</td>\n      <td>emergence_count</td>\n      <td>number of plants counted within plot or subplo...</td>\n      <td>64.0</td>\n      <td>NaN</td>\n      <td>PI655972</td>\n    </tr>\n    <tr>\n      <th>6000007565</th>\n      <td>6001950429</td>\n      <td>MAC Field Scanner Season 4 Range 20 Column 8 W</td>\n      <td>33.075231</td>\n      <td>-111.974937</td>\n      <td>6000001021</td>\n      <td>2017 May 1 (America/Phoenix)</td>\n      <td>[time unspecified or unknown]</td>\n      <td>2017-05-02 00:00:00 -0500</td>\n      <td>emergence_count</td>\n      <td>number of plants counted within plot or subplo...</td>\n      <td>57.0</td>\n      <td>NaN</td>\n      <td>PI655972</td>\n    </tr>\n    <tr>\n      <th>6000007565</th>\n      <td>6001950153</td>\n      <td>MAC Field Scanner Season 4 Range 20 Column 8 W</td>\n      <td>33.075231</td>\n      <td>-111.974937</td>\n      <td>6000001021</td>\n      <td>2017 Apr 30 (America/Phoenix)</td>\n      <td>[time unspecified or unknown]</td>\n      <td>2017-05-01 00:00:00 -0500</td>\n      <td>emergence_count</td>\n      <td>number of plants counted within plot or subplo...</td>\n      <td>56.0</td>\n      <td>NaN</td>\n      <td>PI655972</td>\n    </tr>\n    <tr>\n      <th>6000007565</th>\n      <td>6001949313</td>\n      <td>MAC Field Scanner Season 4 Range 20 Column 8 W</td>\n      <td>33.075231</td>\n      <td>-111.974937</td>\n      <td>6000001021</td>\n      <td>2017 Apr 25 (America/Phoenix)</td>\n      <td>[time unspecified or unknown]</td>\n      <td>2017-04-26 00:00:00 -0500</td>\n      <td>emergence_count</td>\n      <td>number of plants counted within plot or subplo...</td>\n      <td>13.0</td>\n      <td>NaN</td>\n      <td>PI655972</td>\n    </tr>\n  </tbody>\n</table>\n<p>566 rows × 13 columns</p>\n</div>"
     },
     "metadata": {},
     "output_type": "execute_result",
     "execution_count": 783
    }
   ],
   "source": [
    "site_index.loc[site_index.trait == 'emergence_count']"
   ]
  },
  {
   "cell_type": "code",
   "execution_count": 784,
   "metadata": {
    "pycharm": {
     "is_executing": false
    }
   },
   "outputs": [],
   "source": [
    "traits_to_keep = ['ambient_humidity', 'proximal_air_temperature', 'surface_temperature', 'leaf_temperature_differential', \\\n",
    "                 'aboveground_dry_biomass', 'seedling_emergence_rate', 'canopy_height', 'flag_leaf_emergence_time', \\\n",
    "                 'flowering_time', 'grain_stage_time', 'canopy_cover', 'emergence_count']"
   ]
  },
  {
   "cell_type": "code",
   "execution_count": 785,
   "metadata": {
    "pycharm": {
     "is_executing": false
    }
   },
   "outputs": [
    {
     "data": {
      "text/plain": "(4016, 13)"
     },
     "metadata": {},
     "output_type": "execute_result",
     "execution_count": 785
    }
   ],
   "source": [
    "# test for keeping a row based on `trait` values\n",
    "\n",
    "test_values = ['ambient_humidity', 'proximal_air_temperature']\n",
    "\n",
    "site_index.loc[(site_index.trait == 'ambient_humidity') | (site_index.trait == 'proximal_air_temperature')].shape"
   ]
  },
  {
   "cell_type": "code",
   "execution_count": 786,
   "metadata": {
    "pycharm": {
     "is_executing": false
    }
   },
   "outputs": [
    {
     "data": {
      "text/plain": "(4016, 13)"
     },
     "metadata": {},
     "output_type": "execute_result",
     "execution_count": 786
    }
   ],
   "source": [
    "test_trait_df = site_index.loc[site_index.trait.isin(test_values)]\n",
    "test_trait_df.shape"
   ]
  },
  {
   "cell_type": "code",
   "execution_count": 787,
   "metadata": {
    "pycharm": {
     "is_executing": false
    }
   },
   "outputs": [
    {
     "data": {
      "text/plain": "                    id                                       sitename  \\\nsite_id                                                                 \n6000005593  6002011659  MAC Field Scanner Season 4 Range 26 Column 15   \n6000005593  6002011662  MAC Field Scanner Season 4 Range 26 Column 15   \n6000005361  6002012219   MAC Field Scanner Season 4 Range 21 Column 2   \n6000005361  6002012222   MAC Field Scanner Season 4 Range 21 Column 2   \n6000005361  6002012259   MAC Field Scanner Season 4 Range 21 Column 2   \n\n                  lat         lon  cultivar_id         date  \\\nsite_id                                                       \n6000005593  33.075446 -111.974819   6000000851  2017 Aug 18   \n6000005593  33.075446 -111.974819   6000000851  2017 Aug 18   \n6000005361  33.075266 -111.975031   6000000964  2017 Aug 18   \n6000005361  33.075266 -111.975031   6000000964  2017 Aug 18   \n6000005361  33.075266 -111.975031   6000000964  2017 Aug 18   \n\n                                  time                   raw_date  \\\nsite_id                                                             \n6000005593  12:47:00 (America/Phoenix)  2017-08-18 14:47:00 -0500   \n6000005593  12:47:00 (America/Phoenix)  2017-08-18 14:47:00 -0500   \n6000005361  13:20:00 (America/Phoenix)  2017-08-18 15:20:00 -0500   \n6000005361  13:20:00 (America/Phoenix)  2017-08-18 15:20:00 -0500   \n6000005361  13:20:00 (America/Phoenix)  2017-08-18 15:20:00 -0500   \n\n                               trait  \\\nsite_id                                \n6000005593          ambient_humidity   \n6000005593  proximal_air_temperature   \n6000005361          ambient_humidity   \n6000005361  proximal_air_temperature   \n6000005361          ambient_humidity   \n\n                                            trait_description       mean  \\\nsite_id                                                                    \n6000005593    Ambient relative humidity near the plant canopy  26.505859   \n6000005593  Air temperature measured by handheld sensor ne...  43.840000   \n6000005361    Ambient relative humidity near the plant canopy  20.522461   \n6000005361  Air temperature measured by handheld sensor ne...  44.189999   \n6000005361    Ambient relative humidity near the plant canopy  22.083984   \n\n           units  cultivar  \nsite_id                     \n6000005593     %  PI511355  \n6000005593     C  PI511355  \n6000005361     %  PI570373  \n6000005361     C  PI570373  \n6000005361     %  PI570373  ",
      "text/html": "<div>\n<style scoped>\n    .dataframe tbody tr th:only-of-type {\n        vertical-align: middle;\n    }\n\n    .dataframe tbody tr th {\n        vertical-align: top;\n    }\n\n    .dataframe thead th {\n        text-align: right;\n    }\n</style>\n<table border=\"1\" class=\"dataframe\">\n  <thead>\n    <tr style=\"text-align: right;\">\n      <th></th>\n      <th>id</th>\n      <th>sitename</th>\n      <th>lat</th>\n      <th>lon</th>\n      <th>cultivar_id</th>\n      <th>date</th>\n      <th>time</th>\n      <th>raw_date</th>\n      <th>trait</th>\n      <th>trait_description</th>\n      <th>mean</th>\n      <th>units</th>\n      <th>cultivar</th>\n    </tr>\n    <tr>\n      <th>site_id</th>\n      <th></th>\n      <th></th>\n      <th></th>\n      <th></th>\n      <th></th>\n      <th></th>\n      <th></th>\n      <th></th>\n      <th></th>\n      <th></th>\n      <th></th>\n      <th></th>\n      <th></th>\n    </tr>\n  </thead>\n  <tbody>\n    <tr>\n      <th>6000005593</th>\n      <td>6002011659</td>\n      <td>MAC Field Scanner Season 4 Range 26 Column 15</td>\n      <td>33.075446</td>\n      <td>-111.974819</td>\n      <td>6000000851</td>\n      <td>2017 Aug 18</td>\n      <td>12:47:00 (America/Phoenix)</td>\n      <td>2017-08-18 14:47:00 -0500</td>\n      <td>ambient_humidity</td>\n      <td>Ambient relative humidity near the plant canopy</td>\n      <td>26.505859</td>\n      <td>%</td>\n      <td>PI511355</td>\n    </tr>\n    <tr>\n      <th>6000005593</th>\n      <td>6002011662</td>\n      <td>MAC Field Scanner Season 4 Range 26 Column 15</td>\n      <td>33.075446</td>\n      <td>-111.974819</td>\n      <td>6000000851</td>\n      <td>2017 Aug 18</td>\n      <td>12:47:00 (America/Phoenix)</td>\n      <td>2017-08-18 14:47:00 -0500</td>\n      <td>proximal_air_temperature</td>\n      <td>Air temperature measured by handheld sensor ne...</td>\n      <td>43.840000</td>\n      <td>C</td>\n      <td>PI511355</td>\n    </tr>\n    <tr>\n      <th>6000005361</th>\n      <td>6002012219</td>\n      <td>MAC Field Scanner Season 4 Range 21 Column 2</td>\n      <td>33.075266</td>\n      <td>-111.975031</td>\n      <td>6000000964</td>\n      <td>2017 Aug 18</td>\n      <td>13:20:00 (America/Phoenix)</td>\n      <td>2017-08-18 15:20:00 -0500</td>\n      <td>ambient_humidity</td>\n      <td>Ambient relative humidity near the plant canopy</td>\n      <td>20.522461</td>\n      <td>%</td>\n      <td>PI570373</td>\n    </tr>\n    <tr>\n      <th>6000005361</th>\n      <td>6002012222</td>\n      <td>MAC Field Scanner Season 4 Range 21 Column 2</td>\n      <td>33.075266</td>\n      <td>-111.975031</td>\n      <td>6000000964</td>\n      <td>2017 Aug 18</td>\n      <td>13:20:00 (America/Phoenix)</td>\n      <td>2017-08-18 15:20:00 -0500</td>\n      <td>proximal_air_temperature</td>\n      <td>Air temperature measured by handheld sensor ne...</td>\n      <td>44.189999</td>\n      <td>C</td>\n      <td>PI570373</td>\n    </tr>\n    <tr>\n      <th>6000005361</th>\n      <td>6002012259</td>\n      <td>MAC Field Scanner Season 4 Range 21 Column 2</td>\n      <td>33.075266</td>\n      <td>-111.975031</td>\n      <td>6000000964</td>\n      <td>2017 Aug 18</td>\n      <td>13:20:00 (America/Phoenix)</td>\n      <td>2017-08-18 15:20:00 -0500</td>\n      <td>ambient_humidity</td>\n      <td>Ambient relative humidity near the plant canopy</td>\n      <td>22.083984</td>\n      <td>%</td>\n      <td>PI570373</td>\n    </tr>\n  </tbody>\n</table>\n</div>"
     },
     "metadata": {},
     "output_type": "execute_result",
     "execution_count": 787
    }
   ],
   "source": [
    "test_trait_df.head()"
   ]
  },
  {
   "cell_type": "code",
   "execution_count": 788,
   "metadata": {
    "pycharm": {
     "is_executing": false
    }
   },
   "outputs": [
    {
     "data": {
      "text/plain": "array(['ambient_humidity', 'proximal_air_temperature'], dtype=object)"
     },
     "metadata": {},
     "output_type": "execute_result",
     "execution_count": 788
    }
   ],
   "source": [
    "test_trait_df.trait.unique()"
   ]
  },
  {
   "cell_type": "code",
   "execution_count": 789,
   "metadata": {
    "pycharm": {
     "is_executing": false
    }
   },
   "outputs": [
    {
     "data": {
      "text/plain": "(4016, 39)"
     },
     "metadata": {},
     "output_type": "execute_result",
     "execution_count": 789
    }
   ],
   "source": [
    "df.loc[(df.trait == 'ambient_humidity') | (df.trait == 'proximal_air_temperature')].shape"
   ]
  },
  {
   "cell_type": "code",
   "execution_count": 790,
   "metadata": {
    "pycharm": {
     "is_executing": false
    }
   },
   "outputs": [
    {
     "data": {
      "text/plain": "(145623, 13)"
     },
     "metadata": {},
     "output_type": "execute_result",
     "execution_count": 790
    }
   ],
   "source": [
    "selected_traits = site_index.loc[site_index.trait.isin(traits_to_keep)]\n",
    "selected_traits.shape"
   ]
  },
  {
   "cell_type": "code",
   "execution_count": 791,
   "metadata": {
    "pycharm": {
     "is_executing": false
    }
   },
   "outputs": [],
   "source": [
    "e_w_sites = selected_traits.loc[(selected_traits.sitename.str.endswith(' W')) | (selected_traits.sitename.str.endswith(' E'))]"
   ]
  },
  {
   "cell_type": "code",
   "execution_count": 792,
   "metadata": {
    "pycharm": {
     "is_executing": false
    }
   },
   "outputs": [
    {
     "data": {
      "text/plain": "(5219, 13)"
     },
     "metadata": {},
     "output_type": "execute_result",
     "execution_count": 792
    }
   ],
   "source": [
    "e_w_sites.shape"
   ]
  },
  {
   "cell_type": "code",
   "execution_count": 793,
   "metadata": {
    "pycharm": {
     "is_executing": false
    }
   },
   "outputs": [
    {
     "data": {
      "text/plain": "                    id                                        sitename  \\\nsite_id                                                                  \n6000008551  6001951450  MAC Field Scanner Season 4 Range 51 Column 5 W   \n6000007011  6001949222   MAC Field Scanner Season 4 Range 3 Column 3 W   \n6000007011  6001950062   MAC Field Scanner Season 4 Range 3 Column 3 W   \n6000007011  6001950898   MAC Field Scanner Season 4 Range 3 Column 3 W   \n6000007012  6001949224   MAC Field Scanner Season 4 Range 3 Column 3 E   \n6000007012  6001950064   MAC Field Scanner Season 4 Range 3 Column 3 E   \n6000007012  6001950340   MAC Field Scanner Season 4 Range 3 Column 3 E   \n6000007012  6001950620   MAC Field Scanner Season 4 Range 3 Column 3 E   \n6000007012  6001950900   MAC Field Scanner Season 4 Range 3 Column 3 E   \n6000007012  6001951180   MAC Field Scanner Season 4 Range 3 Column 3 E   \n6000007022  6001949228   MAC Field Scanner Season 4 Range 3 Column 8 E   \n6000007022  6001951184   MAC Field Scanner Season 4 Range 3 Column 8 E   \n6000007111  6001949234   MAC Field Scanner Season 4 Range 6 Column 5 W   \n6000007111  6001949514   MAC Field Scanner Season 4 Range 6 Column 5 W   \n6000007111  6001950630   MAC Field Scanner Season 4 Range 6 Column 5 W   \n6000007112  6001949796   MAC Field Scanner Season 4 Range 6 Column 5 E   \n6000007112  6001950352   MAC Field Scanner Season 4 Range 6 Column 5 E   \n6000007112  6001950912   MAC Field Scanner Season 4 Range 6 Column 5 E   \n6000007112  6001951192   MAC Field Scanner Season 4 Range 6 Column 5 E   \n6000007143  6001950634   MAC Field Scanner Season 4 Range 7 Column 5 W   \n6000007143  6001950914   MAC Field Scanner Season 4 Range 7 Column 5 W   \n6000007144  6001949240   MAC Field Scanner Season 4 Range 7 Column 5 E   \n6000007144  6001949520   MAC Field Scanner Season 4 Range 7 Column 5 E   \n6000007144  6001950636   MAC Field Scanner Season 4 Range 7 Column 5 E   \n6000007144  6001950916   MAC Field Scanner Season 4 Range 7 Column 5 E   \n\n                  lat         lon  cultivar_id                           date  \\\nsite_id                                                                         \n6000008551  33.076345 -111.974987   6000000216   2017 May 8 (America/Phoenix)   \n6000007011  33.074619 -111.975019   6000000744  2017 Apr 25 (America/Phoenix)   \n6000007011  33.074619 -111.975019   6000000744  2017 Apr 30 (America/Phoenix)   \n6000007011  33.074619 -111.975019   6000000744   2017 May 4 (America/Phoenix)   \n6000007012  33.074619 -111.975011   6000000744  2017 Apr 25 (America/Phoenix)   \n6000007012  33.074619 -111.975011   6000000744  2017 Apr 30 (America/Phoenix)   \n6000007012  33.074619 -111.975011   6000000744   2017 May 1 (America/Phoenix)   \n6000007012  33.074619 -111.975011   6000000744   2017 May 2 (America/Phoenix)   \n6000007012  33.074619 -111.975011   6000000744   2017 May 4 (America/Phoenix)   \n6000007012  33.074619 -111.975011   6000000744   2017 May 8 (America/Phoenix)   \n6000007022  33.074620 -111.974929   6000000210  2017 Apr 25 (America/Phoenix)   \n6000007022  33.074620 -111.974929   6000000210   2017 May 8 (America/Phoenix)   \n6000007111  33.074727 -111.974986   6000000566  2017 Apr 25 (America/Phoenix)   \n6000007111  33.074727 -111.974986   6000000566  2017 Apr 26 (America/Phoenix)   \n6000007111  33.074727 -111.974986   6000000566   2017 May 2 (America/Phoenix)   \n6000007112  33.074727 -111.974978   6000000566  2017 Apr 27 (America/Phoenix)   \n6000007112  33.074727 -111.974978   6000000566   2017 May 1 (America/Phoenix)   \n6000007112  33.074727 -111.974978   6000000566   2017 May 4 (America/Phoenix)   \n6000007112  33.074727 -111.974978   6000000566   2017 May 8 (America/Phoenix)   \n6000007143  33.074763 -111.974986   6000000803   2017 May 2 (America/Phoenix)   \n6000007143  33.074763 -111.974986   6000000803   2017 May 4 (America/Phoenix)   \n6000007144  33.074763 -111.974978   6000000803  2017 Apr 25 (America/Phoenix)   \n6000007144  33.074763 -111.974978   6000000803  2017 Apr 26 (America/Phoenix)   \n6000007144  33.074763 -111.974978   6000000803   2017 May 2 (America/Phoenix)   \n6000007144  33.074763 -111.974978   6000000803   2017 May 4 (America/Phoenix)   \n\n                                     time                   raw_date  \\\nsite_id                                                                \n6000008551  [time unspecified or unknown]  2017-05-09 00:00:00 -0500   \n6000007011  [time unspecified or unknown]  2017-04-26 00:00:00 -0500   \n6000007011  [time unspecified or unknown]  2017-05-01 00:00:00 -0500   \n6000007011  [time unspecified or unknown]  2017-05-05 00:00:00 -0500   \n6000007012  [time unspecified or unknown]  2017-04-26 00:00:00 -0500   \n6000007012  [time unspecified or unknown]  2017-05-01 00:00:00 -0500   \n6000007012  [time unspecified or unknown]  2017-05-02 00:00:00 -0500   \n6000007012  [time unspecified or unknown]  2017-05-03 00:00:00 -0500   \n6000007012  [time unspecified or unknown]  2017-05-05 00:00:00 -0500   \n6000007012  [time unspecified or unknown]  2017-05-09 00:00:00 -0500   \n6000007022  [time unspecified or unknown]  2017-04-26 00:00:00 -0500   \n6000007022  [time unspecified or unknown]  2017-05-09 00:00:00 -0500   \n6000007111  [time unspecified or unknown]  2017-04-26 00:00:00 -0500   \n6000007111  [time unspecified or unknown]  2017-04-27 00:00:00 -0500   \n6000007111  [time unspecified or unknown]  2017-05-03 00:00:00 -0500   \n6000007112  [time unspecified or unknown]  2017-04-28 00:00:00 -0500   \n6000007112  [time unspecified or unknown]  2017-05-02 00:00:00 -0500   \n6000007112  [time unspecified or unknown]  2017-05-05 00:00:00 -0500   \n6000007112  [time unspecified or unknown]  2017-05-09 00:00:00 -0500   \n6000007143  [time unspecified or unknown]  2017-05-03 00:00:00 -0500   \n6000007143  [time unspecified or unknown]  2017-05-05 00:00:00 -0500   \n6000007144  [time unspecified or unknown]  2017-04-26 00:00:00 -0500   \n6000007144  [time unspecified or unknown]  2017-04-27 00:00:00 -0500   \n6000007144  [time unspecified or unknown]  2017-05-03 00:00:00 -0500   \n6000007144  [time unspecified or unknown]  2017-05-05 00:00:00 -0500   \n\n                              trait        trait_description   mean  units  \\\nsite_id                                                                      \n6000008551  seedling_emergence_rate  Seedling emergence rate  0.770  ratio   \n6000007011  seedling_emergence_rate  Seedling emergence rate  0.538  ratio   \n6000007011  seedling_emergence_rate  Seedling emergence rate  0.897  ratio   \n6000007011  seedling_emergence_rate  Seedling emergence rate  0.910  ratio   \n6000007012  seedling_emergence_rate  Seedling emergence rate  0.362  ratio   \n6000007012  seedling_emergence_rate  Seedling emergence rate  1.000  ratio   \n6000007012  seedling_emergence_rate  Seedling emergence rate  1.010  ratio   \n6000007012  seedling_emergence_rate  Seedling emergence rate  1.030  ratio   \n6000007012  seedling_emergence_rate  Seedling emergence rate  1.040  ratio   \n6000007012  seedling_emergence_rate  Seedling emergence rate  1.040  ratio   \n6000007022  seedling_emergence_rate  Seedling emergence rate  0.518  ratio   \n6000007022  seedling_emergence_rate  Seedling emergence rate  0.765  ratio   \n6000007111  seedling_emergence_rate  Seedling emergence rate  0.303  ratio   \n6000007111  seedling_emergence_rate  Seedling emergence rate  0.455  ratio   \n6000007111  seedling_emergence_rate  Seedling emergence rate  0.576  ratio   \n6000007112  seedling_emergence_rate  Seedling emergence rate  0.700  ratio   \n6000007112  seedling_emergence_rate  Seedling emergence rate  0.750  ratio   \n6000007112  seedling_emergence_rate  Seedling emergence rate  0.750  ratio   \n6000007112  seedling_emergence_rate  Seedling emergence rate  0.750  ratio   \n6000007143  seedling_emergence_rate  Seedling emergence rate  0.849  ratio   \n6000007143  seedling_emergence_rate  Seedling emergence rate  0.904  ratio   \n6000007144  seedling_emergence_rate  Seedling emergence rate  0.000  ratio   \n6000007144  seedling_emergence_rate  Seedling emergence rate  0.286  ratio   \n6000007144  seedling_emergence_rate  Seedling emergence rate  0.982  ratio   \n6000007144  seedling_emergence_rate  Seedling emergence rate  1.000  ratio   \n\n            cultivar  \nsite_id               \n6000008551  PI641825  \n6000007011   PI22913  \n6000007011   PI22913  \n6000007011   PI22913  \n6000007012   PI22913  \n6000007012   PI22913  \n6000007012   PI22913  \n6000007012   PI22913  \n6000007012   PI22913  \n6000007012   PI22913  \n6000007022  PI653616  \n6000007022  PI653616  \n6000007111  PI329403  \n6000007111  PI329403  \n6000007111  PI329403  \n6000007112  PI329403  \n6000007112  PI329403  \n6000007112  PI329403  \n6000007112  PI329403  \n6000007143  PI329644  \n6000007143  PI329644  \n6000007144  PI329644  \n6000007144  PI329644  \n6000007144  PI329644  \n6000007144  PI329644  ",
      "text/html": "<div>\n<style scoped>\n    .dataframe tbody tr th:only-of-type {\n        vertical-align: middle;\n    }\n\n    .dataframe tbody tr th {\n        vertical-align: top;\n    }\n\n    .dataframe thead th {\n        text-align: right;\n    }\n</style>\n<table border=\"1\" class=\"dataframe\">\n  <thead>\n    <tr style=\"text-align: right;\">\n      <th></th>\n      <th>id</th>\n      <th>sitename</th>\n      <th>lat</th>\n      <th>lon</th>\n      <th>cultivar_id</th>\n      <th>date</th>\n      <th>time</th>\n      <th>raw_date</th>\n      <th>trait</th>\n      <th>trait_description</th>\n      <th>mean</th>\n      <th>units</th>\n      <th>cultivar</th>\n    </tr>\n    <tr>\n      <th>site_id</th>\n      <th></th>\n      <th></th>\n      <th></th>\n      <th></th>\n      <th></th>\n      <th></th>\n      <th></th>\n      <th></th>\n      <th></th>\n      <th></th>\n      <th></th>\n      <th></th>\n      <th></th>\n    </tr>\n  </thead>\n  <tbody>\n    <tr>\n      <th>6000008551</th>\n      <td>6001951450</td>\n      <td>MAC Field Scanner Season 4 Range 51 Column 5 W</td>\n      <td>33.076345</td>\n      <td>-111.974987</td>\n      <td>6000000216</td>\n      <td>2017 May 8 (America/Phoenix)</td>\n      <td>[time unspecified or unknown]</td>\n      <td>2017-05-09 00:00:00 -0500</td>\n      <td>seedling_emergence_rate</td>\n      <td>Seedling emergence rate</td>\n      <td>0.770</td>\n      <td>ratio</td>\n      <td>PI641825</td>\n    </tr>\n    <tr>\n      <th>6000007011</th>\n      <td>6001949222</td>\n      <td>MAC Field Scanner Season 4 Range 3 Column 3 W</td>\n      <td>33.074619</td>\n      <td>-111.975019</td>\n      <td>6000000744</td>\n      <td>2017 Apr 25 (America/Phoenix)</td>\n      <td>[time unspecified or unknown]</td>\n      <td>2017-04-26 00:00:00 -0500</td>\n      <td>seedling_emergence_rate</td>\n      <td>Seedling emergence rate</td>\n      <td>0.538</td>\n      <td>ratio</td>\n      <td>PI22913</td>\n    </tr>\n    <tr>\n      <th>6000007011</th>\n      <td>6001950062</td>\n      <td>MAC Field Scanner Season 4 Range 3 Column 3 W</td>\n      <td>33.074619</td>\n      <td>-111.975019</td>\n      <td>6000000744</td>\n      <td>2017 Apr 30 (America/Phoenix)</td>\n      <td>[time unspecified or unknown]</td>\n      <td>2017-05-01 00:00:00 -0500</td>\n      <td>seedling_emergence_rate</td>\n      <td>Seedling emergence rate</td>\n      <td>0.897</td>\n      <td>ratio</td>\n      <td>PI22913</td>\n    </tr>\n    <tr>\n      <th>6000007011</th>\n      <td>6001950898</td>\n      <td>MAC Field Scanner Season 4 Range 3 Column 3 W</td>\n      <td>33.074619</td>\n      <td>-111.975019</td>\n      <td>6000000744</td>\n      <td>2017 May 4 (America/Phoenix)</td>\n      <td>[time unspecified or unknown]</td>\n      <td>2017-05-05 00:00:00 -0500</td>\n      <td>seedling_emergence_rate</td>\n      <td>Seedling emergence rate</td>\n      <td>0.910</td>\n      <td>ratio</td>\n      <td>PI22913</td>\n    </tr>\n    <tr>\n      <th>6000007012</th>\n      <td>6001949224</td>\n      <td>MAC Field Scanner Season 4 Range 3 Column 3 E</td>\n      <td>33.074619</td>\n      <td>-111.975011</td>\n      <td>6000000744</td>\n      <td>2017 Apr 25 (America/Phoenix)</td>\n      <td>[time unspecified or unknown]</td>\n      <td>2017-04-26 00:00:00 -0500</td>\n      <td>seedling_emergence_rate</td>\n      <td>Seedling emergence rate</td>\n      <td>0.362</td>\n      <td>ratio</td>\n      <td>PI22913</td>\n    </tr>\n    <tr>\n      <th>6000007012</th>\n      <td>6001950064</td>\n      <td>MAC Field Scanner Season 4 Range 3 Column 3 E</td>\n      <td>33.074619</td>\n      <td>-111.975011</td>\n      <td>6000000744</td>\n      <td>2017 Apr 30 (America/Phoenix)</td>\n      <td>[time unspecified or unknown]</td>\n      <td>2017-05-01 00:00:00 -0500</td>\n      <td>seedling_emergence_rate</td>\n      <td>Seedling emergence rate</td>\n      <td>1.000</td>\n      <td>ratio</td>\n      <td>PI22913</td>\n    </tr>\n    <tr>\n      <th>6000007012</th>\n      <td>6001950340</td>\n      <td>MAC Field Scanner Season 4 Range 3 Column 3 E</td>\n      <td>33.074619</td>\n      <td>-111.975011</td>\n      <td>6000000744</td>\n      <td>2017 May 1 (America/Phoenix)</td>\n      <td>[time unspecified or unknown]</td>\n      <td>2017-05-02 00:00:00 -0500</td>\n      <td>seedling_emergence_rate</td>\n      <td>Seedling emergence rate</td>\n      <td>1.010</td>\n      <td>ratio</td>\n      <td>PI22913</td>\n    </tr>\n    <tr>\n      <th>6000007012</th>\n      <td>6001950620</td>\n      <td>MAC Field Scanner Season 4 Range 3 Column 3 E</td>\n      <td>33.074619</td>\n      <td>-111.975011</td>\n      <td>6000000744</td>\n      <td>2017 May 2 (America/Phoenix)</td>\n      <td>[time unspecified or unknown]</td>\n      <td>2017-05-03 00:00:00 -0500</td>\n      <td>seedling_emergence_rate</td>\n      <td>Seedling emergence rate</td>\n      <td>1.030</td>\n      <td>ratio</td>\n      <td>PI22913</td>\n    </tr>\n    <tr>\n      <th>6000007012</th>\n      <td>6001950900</td>\n      <td>MAC Field Scanner Season 4 Range 3 Column 3 E</td>\n      <td>33.074619</td>\n      <td>-111.975011</td>\n      <td>6000000744</td>\n      <td>2017 May 4 (America/Phoenix)</td>\n      <td>[time unspecified or unknown]</td>\n      <td>2017-05-05 00:00:00 -0500</td>\n      <td>seedling_emergence_rate</td>\n      <td>Seedling emergence rate</td>\n      <td>1.040</td>\n      <td>ratio</td>\n      <td>PI22913</td>\n    </tr>\n    <tr>\n      <th>6000007012</th>\n      <td>6001951180</td>\n      <td>MAC Field Scanner Season 4 Range 3 Column 3 E</td>\n      <td>33.074619</td>\n      <td>-111.975011</td>\n      <td>6000000744</td>\n      <td>2017 May 8 (America/Phoenix)</td>\n      <td>[time unspecified or unknown]</td>\n      <td>2017-05-09 00:00:00 -0500</td>\n      <td>seedling_emergence_rate</td>\n      <td>Seedling emergence rate</td>\n      <td>1.040</td>\n      <td>ratio</td>\n      <td>PI22913</td>\n    </tr>\n    <tr>\n      <th>6000007022</th>\n      <td>6001949228</td>\n      <td>MAC Field Scanner Season 4 Range 3 Column 8 E</td>\n      <td>33.074620</td>\n      <td>-111.974929</td>\n      <td>6000000210</td>\n      <td>2017 Apr 25 (America/Phoenix)</td>\n      <td>[time unspecified or unknown]</td>\n      <td>2017-04-26 00:00:00 -0500</td>\n      <td>seedling_emergence_rate</td>\n      <td>Seedling emergence rate</td>\n      <td>0.518</td>\n      <td>ratio</td>\n      <td>PI653616</td>\n    </tr>\n    <tr>\n      <th>6000007022</th>\n      <td>6001951184</td>\n      <td>MAC Field Scanner Season 4 Range 3 Column 8 E</td>\n      <td>33.074620</td>\n      <td>-111.974929</td>\n      <td>6000000210</td>\n      <td>2017 May 8 (America/Phoenix)</td>\n      <td>[time unspecified or unknown]</td>\n      <td>2017-05-09 00:00:00 -0500</td>\n      <td>seedling_emergence_rate</td>\n      <td>Seedling emergence rate</td>\n      <td>0.765</td>\n      <td>ratio</td>\n      <td>PI653616</td>\n    </tr>\n    <tr>\n      <th>6000007111</th>\n      <td>6001949234</td>\n      <td>MAC Field Scanner Season 4 Range 6 Column 5 W</td>\n      <td>33.074727</td>\n      <td>-111.974986</td>\n      <td>6000000566</td>\n      <td>2017 Apr 25 (America/Phoenix)</td>\n      <td>[time unspecified or unknown]</td>\n      <td>2017-04-26 00:00:00 -0500</td>\n      <td>seedling_emergence_rate</td>\n      <td>Seedling emergence rate</td>\n      <td>0.303</td>\n      <td>ratio</td>\n      <td>PI329403</td>\n    </tr>\n    <tr>\n      <th>6000007111</th>\n      <td>6001949514</td>\n      <td>MAC Field Scanner Season 4 Range 6 Column 5 W</td>\n      <td>33.074727</td>\n      <td>-111.974986</td>\n      <td>6000000566</td>\n      <td>2017 Apr 26 (America/Phoenix)</td>\n      <td>[time unspecified or unknown]</td>\n      <td>2017-04-27 00:00:00 -0500</td>\n      <td>seedling_emergence_rate</td>\n      <td>Seedling emergence rate</td>\n      <td>0.455</td>\n      <td>ratio</td>\n      <td>PI329403</td>\n    </tr>\n    <tr>\n      <th>6000007111</th>\n      <td>6001950630</td>\n      <td>MAC Field Scanner Season 4 Range 6 Column 5 W</td>\n      <td>33.074727</td>\n      <td>-111.974986</td>\n      <td>6000000566</td>\n      <td>2017 May 2 (America/Phoenix)</td>\n      <td>[time unspecified or unknown]</td>\n      <td>2017-05-03 00:00:00 -0500</td>\n      <td>seedling_emergence_rate</td>\n      <td>Seedling emergence rate</td>\n      <td>0.576</td>\n      <td>ratio</td>\n      <td>PI329403</td>\n    </tr>\n    <tr>\n      <th>6000007112</th>\n      <td>6001949796</td>\n      <td>MAC Field Scanner Season 4 Range 6 Column 5 E</td>\n      <td>33.074727</td>\n      <td>-111.974978</td>\n      <td>6000000566</td>\n      <td>2017 Apr 27 (America/Phoenix)</td>\n      <td>[time unspecified or unknown]</td>\n      <td>2017-04-28 00:00:00 -0500</td>\n      <td>seedling_emergence_rate</td>\n      <td>Seedling emergence rate</td>\n      <td>0.700</td>\n      <td>ratio</td>\n      <td>PI329403</td>\n    </tr>\n    <tr>\n      <th>6000007112</th>\n      <td>6001950352</td>\n      <td>MAC Field Scanner Season 4 Range 6 Column 5 E</td>\n      <td>33.074727</td>\n      <td>-111.974978</td>\n      <td>6000000566</td>\n      <td>2017 May 1 (America/Phoenix)</td>\n      <td>[time unspecified or unknown]</td>\n      <td>2017-05-02 00:00:00 -0500</td>\n      <td>seedling_emergence_rate</td>\n      <td>Seedling emergence rate</td>\n      <td>0.750</td>\n      <td>ratio</td>\n      <td>PI329403</td>\n    </tr>\n    <tr>\n      <th>6000007112</th>\n      <td>6001950912</td>\n      <td>MAC Field Scanner Season 4 Range 6 Column 5 E</td>\n      <td>33.074727</td>\n      <td>-111.974978</td>\n      <td>6000000566</td>\n      <td>2017 May 4 (America/Phoenix)</td>\n      <td>[time unspecified or unknown]</td>\n      <td>2017-05-05 00:00:00 -0500</td>\n      <td>seedling_emergence_rate</td>\n      <td>Seedling emergence rate</td>\n      <td>0.750</td>\n      <td>ratio</td>\n      <td>PI329403</td>\n    </tr>\n    <tr>\n      <th>6000007112</th>\n      <td>6001951192</td>\n      <td>MAC Field Scanner Season 4 Range 6 Column 5 E</td>\n      <td>33.074727</td>\n      <td>-111.974978</td>\n      <td>6000000566</td>\n      <td>2017 May 8 (America/Phoenix)</td>\n      <td>[time unspecified or unknown]</td>\n      <td>2017-05-09 00:00:00 -0500</td>\n      <td>seedling_emergence_rate</td>\n      <td>Seedling emergence rate</td>\n      <td>0.750</td>\n      <td>ratio</td>\n      <td>PI329403</td>\n    </tr>\n    <tr>\n      <th>6000007143</th>\n      <td>6001950634</td>\n      <td>MAC Field Scanner Season 4 Range 7 Column 5 W</td>\n      <td>33.074763</td>\n      <td>-111.974986</td>\n      <td>6000000803</td>\n      <td>2017 May 2 (America/Phoenix)</td>\n      <td>[time unspecified or unknown]</td>\n      <td>2017-05-03 00:00:00 -0500</td>\n      <td>seedling_emergence_rate</td>\n      <td>Seedling emergence rate</td>\n      <td>0.849</td>\n      <td>ratio</td>\n      <td>PI329644</td>\n    </tr>\n    <tr>\n      <th>6000007143</th>\n      <td>6001950914</td>\n      <td>MAC Field Scanner Season 4 Range 7 Column 5 W</td>\n      <td>33.074763</td>\n      <td>-111.974986</td>\n      <td>6000000803</td>\n      <td>2017 May 4 (America/Phoenix)</td>\n      <td>[time unspecified or unknown]</td>\n      <td>2017-05-05 00:00:00 -0500</td>\n      <td>seedling_emergence_rate</td>\n      <td>Seedling emergence rate</td>\n      <td>0.904</td>\n      <td>ratio</td>\n      <td>PI329644</td>\n    </tr>\n    <tr>\n      <th>6000007144</th>\n      <td>6001949240</td>\n      <td>MAC Field Scanner Season 4 Range 7 Column 5 E</td>\n      <td>33.074763</td>\n      <td>-111.974978</td>\n      <td>6000000803</td>\n      <td>2017 Apr 25 (America/Phoenix)</td>\n      <td>[time unspecified or unknown]</td>\n      <td>2017-04-26 00:00:00 -0500</td>\n      <td>seedling_emergence_rate</td>\n      <td>Seedling emergence rate</td>\n      <td>0.000</td>\n      <td>ratio</td>\n      <td>PI329644</td>\n    </tr>\n    <tr>\n      <th>6000007144</th>\n      <td>6001949520</td>\n      <td>MAC Field Scanner Season 4 Range 7 Column 5 E</td>\n      <td>33.074763</td>\n      <td>-111.974978</td>\n      <td>6000000803</td>\n      <td>2017 Apr 26 (America/Phoenix)</td>\n      <td>[time unspecified or unknown]</td>\n      <td>2017-04-27 00:00:00 -0500</td>\n      <td>seedling_emergence_rate</td>\n      <td>Seedling emergence rate</td>\n      <td>0.286</td>\n      <td>ratio</td>\n      <td>PI329644</td>\n    </tr>\n    <tr>\n      <th>6000007144</th>\n      <td>6001950636</td>\n      <td>MAC Field Scanner Season 4 Range 7 Column 5 E</td>\n      <td>33.074763</td>\n      <td>-111.974978</td>\n      <td>6000000803</td>\n      <td>2017 May 2 (America/Phoenix)</td>\n      <td>[time unspecified or unknown]</td>\n      <td>2017-05-03 00:00:00 -0500</td>\n      <td>seedling_emergence_rate</td>\n      <td>Seedling emergence rate</td>\n      <td>0.982</td>\n      <td>ratio</td>\n      <td>PI329644</td>\n    </tr>\n    <tr>\n      <th>6000007144</th>\n      <td>6001950916</td>\n      <td>MAC Field Scanner Season 4 Range 7 Column 5 E</td>\n      <td>33.074763</td>\n      <td>-111.974978</td>\n      <td>6000000803</td>\n      <td>2017 May 4 (America/Phoenix)</td>\n      <td>[time unspecified or unknown]</td>\n      <td>2017-05-05 00:00:00 -0500</td>\n      <td>seedling_emergence_rate</td>\n      <td>Seedling emergence rate</td>\n      <td>1.000</td>\n      <td>ratio</td>\n      <td>PI329644</td>\n    </tr>\n  </tbody>\n</table>\n</div>"
     },
     "metadata": {},
     "output_type": "execute_result",
     "execution_count": 793
    }
   ],
   "source": [
    "# is `site_id` different for E and W?\n",
    "# . . . . . yes\n",
    "\n",
    "e_w_sites.head(25)"
   ]
  },
  {
   "cell_type": "code",
   "execution_count": 794,
   "metadata": {
    "pycharm": {
     "is_executing": false
    }
   },
   "outputs": [
    {
     "data": {
      "text/plain": "'MAC Field Scanner Season 4 Range 3 Column 3 E'"
     },
     "metadata": {},
     "output_type": "execute_result",
     "execution_count": 794
    }
   ],
   "source": [
    "# only need to find duplicates to calculate means where the sitename is the same for the beginning of the sitename string\n",
    "\n",
    "e_w_sites.iloc[5].sitename"
   ]
  },
  {
   "cell_type": "code",
   "execution_count": 795,
   "metadata": {
    "pycharm": {
     "is_executing": false
    }
   },
   "outputs": [
    {
     "data": {
      "text/plain": "'MAC Field Scanner Season 4 Range 3 Column 3'"
     },
     "metadata": {},
     "output_type": "execute_result",
     "execution_count": 795
    }
   ],
   "source": [
    "e_w_sites.iloc[5].sitename[:-2]\n"
   ]
  },
  {
   "cell_type": "code",
   "execution_count": 796,
   "metadata": {
    "pycharm": {
     "is_executing": false
    }
   },
   "outputs": [
    {
     "traceback": [
      "\u001b[0;31m---------------------------------------------------------------------------\u001b[0m",
      "\u001b[0;31mNameError\u001b[0m                                 Traceback (most recent call last)",
      "\u001b[0;32m<ipython-input-796-67b72f9bd5b4>\u001b[0m in \u001b[0;36m<module>\u001b[0;34m\u001b[0m\n\u001b[0;32m----> 1\u001b[0;31m \u001b[0me_w_sites\u001b[0m\u001b[0;34m[\u001b[0m\u001b[0;34m'new_plot_name'\u001b[0m\u001b[0;34m]\u001b[0m \u001b[0;34m=\u001b[0m \u001b[0mnew_plot_names\u001b[0m\u001b[0;34m\u001b[0m\u001b[0;34m\u001b[0m\u001b[0m\n\u001b[0m\u001b[1;32m      2\u001b[0m \u001b[0me_w_sites\u001b[0m\u001b[0;34m.\u001b[0m\u001b[0mhead\u001b[0m\u001b[0;34m(\u001b[0m\u001b[0;34m)\u001b[0m\u001b[0;34m\u001b[0m\u001b[0;34m\u001b[0m\u001b[0m\n\u001b[1;32m      3\u001b[0m \u001b[0;34m\u001b[0m\u001b[0m\n",
      "\u001b[0;31mNameError\u001b[0m: name 'new_plot_names' is not defined"
     ],
     "ename": "NameError",
     "evalue": "name 'new_plot_names' is not defined",
     "output_type": "error"
    }
   ],
   "source": [
    "# e_w_sites['new_plot_name'] = new_plot_names\n",
    "e_w_sites.head()"
   ]
  },
  {
   "cell_type": "code",
   "execution_count": null,
   "metadata": {
    "pycharm": {
     "is_executing": false
    }
   },
   "outputs": [],
   "source": [
    "new_duplicates = e_w_sites[e_w_sites.duplicated(['new_plot_name'], keep=False)]\n",
    "new_duplicates.shape"
   ]
  },
  {
   "cell_type": "code",
   "execution_count": null,
   "metadata": {
    "pycharm": {
     "is_executing": false
    }
   },
   "outputs": [],
   "source": [
    "new_duplicates.trait.unique()"
   ]
  },
  {
   "cell_type": "code",
   "execution_count": null,
   "metadata": {
    "pycharm": {
     "is_executing": false
    }
   },
   "outputs": [],
   "source": [
    "canopy_height_only = new_duplicates.loc[new_duplicates.trait == 'canopy_height']\n",
    "canopy_height_only.shape"
   ]
  },
  {
   "cell_type": "code",
   "execution_count": null,
   "metadata": {
    "pycharm": {
     "is_executing": false
    }
   },
   "outputs": [],
   "source": [
    "canopy_height_only.new_plot_name.nunique()"
   ]
  },
  {
   "cell_type": "code",
   "execution_count": null,
   "metadata": {
    "pycharm": {
     "is_executing": false
    }
   },
   "outputs": [],
   "source": [
    "canopy_height_only.duplicated(['new_plot_name', 'date'], keep=False).value_counts()"
   ]
  },
  {
   "cell_type": "code",
   "execution_count": null,
   "metadata": {
    "pycharm": {
     "is_executing": false
    }
   },
   "outputs": [],
   "source": [
    "for i in canopy_height_only.index:\n",
    "    print(i)\n",
    "    break"
   ]
  },
  {
   "cell_type": "code",
   "execution_count": null,
   "metadata": {
    "pycharm": {
     "is_executing": false
    }
   },
   "outputs": [],
   "source": [
    "range(len(canopy_height_only))"
   ]
  },
  {
   "cell_type": "code",
   "execution_count": null,
   "metadata": {
    "pycharm": {
     "is_executing": false
    }
   },
   "outputs": [],
   "source": [
    "canopy_height_only.iloc[0]"
   ]
  },
  {
   "cell_type": "code",
   "execution_count": null,
   "metadata": {
    "pycharm": {
     "is_executing": false
    }
   },
   "outputs": [],
   "source": [
    "for i in range(len(canopy_height_only)):\n",
    "    print(canopy_height_only.iloc[i])\n",
    "    break"
   ]
  },
  {
   "cell_type": "code",
   "execution_count": null,
   "metadata": {
    "pycharm": {
     "is_executing": false
    }
   },
   "outputs": [],
   "source": [
    "canopy_height_only.iloc[0]['mean']"
   ]
  },
  {
   "cell_type": "code",
   "execution_count": null,
   "metadata": {
    "pycharm": {
     "is_executing": false
    }
   },
   "outputs": [],
   "source": [
    "canopy_height_only.to_csv('canopy_height_only_season_4.csv')"
   ]
  },
  {
   "cell_type": "code",
   "execution_count": null,
   "metadata": {
    "pycharm": {
     "is_executing": false
    }
   },
   "outputs": [],
   "source": [
    "selected_traits.to_csv('more_traits_after_feedback.csv')"
   ]
  },
  {
   "cell_type": "code",
   "execution_count": null,
   "metadata": {
    "pycharm": {
     "is_executing": false
    }
   },
   "outputs": [],
   "source": [
    "canopy_only_df = pd.read_csv('canopy_height_only_season_4.csv')\n",
    "canopy_only_df.head()"
   ]
  },
  {
   "cell_type": "code",
   "execution_count": null,
   "metadata": {
    "pycharm": {
     "is_executing": false
    }
   },
   "outputs": [],
   "source": [
    "canopy_only_df['mean'].values"
   ]
  },
  {
   "cell_type": "code",
   "execution_count": null,
   "metadata": {
    "pycharm": {
     "is_executing": false
    }
   },
   "outputs": [],
   "source": [
    "print(canopy_only_df.date.unique())\n",
    "print(canopy_only_df.raw_date.unique())"
   ]
  },
  {
   "cell_type": "code",
   "execution_count": null,
   "metadata": {
    "pycharm": {
     "is_executing": false
    }
   },
   "outputs": [],
   "source": [
    "duplicate_dates_sitenames = canopy_only_df"
   ]
  },
  {
   "cell_type": "code",
   "execution_count": null,
   "metadata": {
    "pycharm": {
     "is_executing": false
    }
   },
   "outputs": [],
   "source": [
    "canopy_only_df.duplicated(subset=['new_plot_name', 'date'], keep=False).value_counts()"
   ]
  },
  {
   "cell_type": "markdown",
   "metadata": {},
   "source": [
    "#### Canopy Height Corrections / Additions\n",
    "* Correctly calculate `max_canopy_height`\n",
    "* Add `days_to` or `day_of`?"
   ]
  },
  {
   "cell_type": "code",
   "execution_count": null,
   "metadata": {
    "pycharm": {
     "is_executing": false
    }
   },
   "outputs": [],
   "source": []
  }
 ],
 "metadata": {
  "kernelspec": {
   "display_name": "Python 3",
   "language": "python",
   "name": "python3"
  },
  "language_info": {
   "codemirror_mode": {
    "name": "ipython",
    "version": 3
   },
   "file_extension": ".py",
   "mimetype": "text/x-python",
   "name": "python",
   "nbconvert_exporter": "python",
   "pygments_lexer": "ipython3",
   "version": "3.7.4"
  },
  "pycharm": {
   "stem_cell": {
    "cell_type": "raw",
    "source": [],
    "metadata": {
     "collapsed": false
    }
   }
  }
 },
 "nbformat": 4,
 "nbformat_minor": 4
}