{
 "cells": [
  {
   "cell_type": "markdown",
   "metadata": {},
   "source": [
    "### Canopy Heights\n",
    "Two methods / authors for data collection"
   ]
  },
  {
   "cell_type": "code",
   "execution_count": 109,
   "metadata": {},
   "outputs": [],
   "source": [
    "import datetime\n",
    "import pandas as pd\n",
    "import numpy as np\n",
    "import sqlite3\n",
    "import sqlalchemy"
   ]
  },
  {
   "cell_type": "code",
   "execution_count": 2,
   "metadata": {},
   "outputs": [],
   "source": [
    "df_0 = pd.read_csv('../data/raw/mac_season_4.csv', low_memory=False)\n",
    "# df_0.head()"
   ]
  },
  {
   "cell_type": "markdown",
   "metadata": {},
   "source": [
    "### A. Create in-memory sqlite database"
   ]
  },
  {
   "cell_type": "code",
   "execution_count": 46,
   "metadata": {},
   "outputs": [],
   "source": [
    "engine = sqlalchemy.create_engine('sqlite://', echo=False)"
   ]
  },
  {
   "cell_type": "code",
   "execution_count": 51,
   "metadata": {},
   "outputs": [],
   "source": [
    "df_0.to_sql('traits', con=engine)\n",
    "traits_db = engine.execute(\"SELECT * FROM traits\")"
   ]
  },
  {
   "cell_type": "code",
   "execution_count": 42,
   "metadata": {},
   "outputs": [
    {
     "name": "stdout",
     "output_type": "stream",
     "text": [
      "Rows in df with canopy height values: 58056\n"
     ]
    }
   ],
   "source": [
    "print(f'Rows in df with canopy height values: {df_0.loc[df_0.trait == \"canopy_height\"].shape[0]}')"
   ]
  },
  {
   "cell_type": "markdown",
   "metadata": {},
   "source": [
    "#### Find all rows with canopy height values"
   ]
  },
  {
   "cell_type": "code",
   "execution_count": 57,
   "metadata": {},
   "outputs": [
    {
     "data": {
      "text/plain": [
       "(58056, 40)"
      ]
     },
     "execution_count": 57,
     "metadata": {},
     "output_type": "execute_result"
    }
   ],
   "source": [
    "canopy_height_df = pd.read_sql_query(\"SELECT * FROM traits WHERE trait = 'canopy_height';\", engine)\n",
    "canopy_height_df.shape"
   ]
  },
  {
   "cell_type": "code",
   "execution_count": 60,
   "metadata": {},
   "outputs": [
    {
     "data": {
      "text/plain": [
       "Index(['index', 'Unnamed: 0', 'checked', 'result_type', 'id', 'citation_id',\n",
       "       'site_id', 'treatment_id', 'sitename', 'city', 'lat', 'lon',\n",
       "       'scientificname', 'commonname', 'genus', 'species_id', 'cultivar_id',\n",
       "       'author', 'citation_year', 'treatment', 'date', 'time', 'raw_date',\n",
       "       'month', 'year', 'dateloc', 'trait', 'trait_description', 'mean',\n",
       "       'units', 'n', 'statname', 'stat', 'notes', 'access_level', 'cultivar',\n",
       "       'entity', 'method_name', 'view_url', 'edit_url'],\n",
       "      dtype='object')"
      ]
     },
     "execution_count": 60,
     "metadata": {},
     "output_type": "execute_result"
    }
   ],
   "source": [
    "canopy_height_df.columns"
   ]
  },
  {
   "cell_type": "code",
   "execution_count": 66,
   "metadata": {},
   "outputs": [
    {
     "data": {
      "text/html": [
       "<div>\n",
       "<style scoped>\n",
       "    .dataframe tbody tr th:only-of-type {\n",
       "        vertical-align: middle;\n",
       "    }\n",
       "\n",
       "    .dataframe tbody tr th {\n",
       "        vertical-align: top;\n",
       "    }\n",
       "\n",
       "    .dataframe thead th {\n",
       "        text-align: right;\n",
       "    }\n",
       "</style>\n",
       "<table border=\"1\" class=\"dataframe\">\n",
       "  <thead>\n",
       "    <tr style=\"text-align: right;\">\n",
       "      <th></th>\n",
       "      <th>id</th>\n",
       "      <th>sitename</th>\n",
       "      <th>date</th>\n",
       "      <th>cultivar</th>\n",
       "      <th>cultivar_id</th>\n",
       "      <th>mean</th>\n",
       "    </tr>\n",
       "  </thead>\n",
       "  <tbody>\n",
       "    <tr>\n",
       "      <th>0</th>\n",
       "      <td>6001943979</td>\n",
       "      <td>MAC Field Scanner Season 4 Range 30 Column 9 E</td>\n",
       "      <td>2017 Jun 19 (America/Phoenix)</td>\n",
       "      <td>PI329518</td>\n",
       "      <td>6000000788</td>\n",
       "      <td>91.0</td>\n",
       "    </tr>\n",
       "    <tr>\n",
       "      <th>1</th>\n",
       "      <td>6001942254</td>\n",
       "      <td>MAC Field Scanner Season 4 Range 20 Column 15 W</td>\n",
       "      <td>2017 Jun 4 (America/Phoenix)</td>\n",
       "      <td>PI152828</td>\n",
       "      <td>6000000687</td>\n",
       "      <td>99.0</td>\n",
       "    </tr>\n",
       "    <tr>\n",
       "      <th>2</th>\n",
       "      <td>6001940853</td>\n",
       "      <td>MAC Field Scanner Season 4 Range 20 Column 15 W</td>\n",
       "      <td>2017 May 29 (America/Phoenix)</td>\n",
       "      <td>PI152828</td>\n",
       "      <td>6000000687</td>\n",
       "      <td>63.0</td>\n",
       "    </tr>\n",
       "    <tr>\n",
       "      <th>3</th>\n",
       "      <td>6004768603</td>\n",
       "      <td>MAC Field Scanner Season 4 Range 35 Column 14</td>\n",
       "      <td>2017 May 20</td>\n",
       "      <td>PI619838</td>\n",
       "      <td>6000000989</td>\n",
       "      <td>22.0</td>\n",
       "    </tr>\n",
       "    <tr>\n",
       "      <th>4</th>\n",
       "      <td>6004768605</td>\n",
       "      <td>MAC Field Scanner Season 4 Range 36 Column 2</td>\n",
       "      <td>2017 May 20</td>\n",
       "      <td>PI155885</td>\n",
       "      <td>6000000707</td>\n",
       "      <td>26.0</td>\n",
       "    </tr>\n",
       "  </tbody>\n",
       "</table>\n",
       "</div>"
      ],
      "text/plain": [
       "           id                                         sitename  \\\n",
       "0  6001943979   MAC Field Scanner Season 4 Range 30 Column 9 E   \n",
       "1  6001942254  MAC Field Scanner Season 4 Range 20 Column 15 W   \n",
       "2  6001940853  MAC Field Scanner Season 4 Range 20 Column 15 W   \n",
       "3  6004768603    MAC Field Scanner Season 4 Range 35 Column 14   \n",
       "4  6004768605     MAC Field Scanner Season 4 Range 36 Column 2   \n",
       "\n",
       "                            date  cultivar  cultivar_id  mean  \n",
       "0  2017 Jun 19 (America/Phoenix)  PI329518   6000000788  91.0  \n",
       "1   2017 Jun 4 (America/Phoenix)  PI152828   6000000687  99.0  \n",
       "2  2017 May 29 (America/Phoenix)  PI152828   6000000687  63.0  \n",
       "3                    2017 May 20  PI619838   6000000989  22.0  \n",
       "4                    2017 May 20  PI155885   6000000707  26.0  "
      ]
     },
     "execution_count": 66,
     "metadata": {},
     "output_type": "execute_result"
    }
   ],
   "source": [
    "dropped_cols = pd.read_sql_query(\"\"\"\n",
    "                                SELECT id, sitename, date, cultivar, cultivar_id, mean\n",
    "                                FROM traits\n",
    "                                WHERE trait = 'canopy_height';\n",
    "                                \"\"\", engine)\n",
    "\n",
    "# dropped_cols.head()"
   ]
  },
  {
   "cell_type": "code",
   "execution_count": 67,
   "metadata": {},
   "outputs": [
    {
     "data": {
      "text/plain": [
       "(58056, 6)"
      ]
     },
     "execution_count": 67,
     "metadata": {},
     "output_type": "execute_result"
    }
   ],
   "source": [
    "dropped_cols.shape"
   ]
  },
  {
   "cell_type": "markdown",
   "metadata": {},
   "source": [
    "### B. Take average value for E and W subplots when measured on the same date"
   ]
  },
  {
   "cell_type": "markdown",
   "metadata": {},
   "source": [
    "Check number of unique sitenames"
   ]
  },
  {
   "cell_type": "code",
   "execution_count": 84,
   "metadata": {},
   "outputs": [
    {
     "data": {
      "text/plain": [
       "[(2065,)]"
      ]
     },
     "execution_count": 84,
     "metadata": {},
     "output_type": "execute_result"
    }
   ],
   "source": [
    "engine.execute(\"\"\"\n",
    "                SELECT COUNT(DISTINCT sitename)\n",
    "                FROM traits\n",
    "                WHERE \n",
    "                trait = 'canopy_height'\n",
    "                \"\"\").fetchall()"
   ]
  },
  {
   "cell_type": "code",
   "execution_count": 85,
   "metadata": {},
   "outputs": [
    {
     "data": {
      "text/plain": [
       "2065"
      ]
     },
     "execution_count": 85,
     "metadata": {},
     "output_type": "execute_result"
    }
   ],
   "source": [
    "df_0.loc[df_0.trait == 'canopy_height'].sitename.nunique()"
   ]
  },
  {
   "cell_type": "markdown",
   "metadata": {},
   "source": [
    "Check number of E W subplots"
   ]
  },
  {
   "cell_type": "code",
   "execution_count": 87,
   "metadata": {},
   "outputs": [
    {
     "data": {
      "text/plain": [
       "[(4353,)]"
      ]
     },
     "execution_count": 87,
     "metadata": {},
     "output_type": "execute_result"
    }
   ],
   "source": [
    "engine.execute(\"\"\"\n",
    "                SELECT COUNT(sitename)\n",
    "                FROM traits\n",
    "                WHERE\n",
    "                (trait = 'canopy_height')\n",
    "                AND\n",
    "                ((sitename LIKE '% E')\n",
    "                OR\n",
    "                (sitename LIKE '% W'))\n",
    "                \"\"\").fetchall()"
   ]
  },
  {
   "cell_type": "code",
   "execution_count": 94,
   "metadata": {},
   "outputs": [
    {
     "data": {
      "text/plain": [
       "(58056, 39)"
      ]
     },
     "execution_count": 94,
     "metadata": {},
     "output_type": "execute_result"
    }
   ],
   "source": [
    "df_1 = df_0.loc[df_0.trait == 'canopy_height']\n",
    "df_1.shape"
   ]
  },
  {
   "cell_type": "code",
   "execution_count": 99,
   "metadata": {},
   "outputs": [
    {
     "data": {
      "text/plain": [
       "(4353, 39)"
      ]
     },
     "execution_count": 99,
     "metadata": {},
     "output_type": "execute_result"
    }
   ],
   "source": [
    "e_w_subplots = df_1.loc[((df_1.sitename.str.endswith(' E')) | (df_1.sitename.str.endswith(' W')))]\n",
    "e_w_subplots.shape"
   ]
  },
  {
   "cell_type": "code",
   "execution_count": 100,
   "metadata": {},
   "outputs": [
    {
     "data": {
      "text/plain": [
       "1347"
      ]
     },
     "execution_count": 100,
     "metadata": {},
     "output_type": "execute_result"
    }
   ],
   "source": [
    "e_w_subplots.sitename.nunique()"
   ]
  },
  {
   "cell_type": "markdown",
   "metadata": {},
   "source": [
    "#### Strip subplot designations"
   ]
  },
  {
   "cell_type": "code",
   "execution_count": 102,
   "metadata": {},
   "outputs": [
    {
     "data": {
      "text/plain": [
       "(58056, 39)"
      ]
     },
     "execution_count": 102,
     "metadata": {},
     "output_type": "execute_result"
    }
   ],
   "source": [
    "df_1.shape"
   ]
  },
  {
   "cell_type": "code",
   "execution_count": 103,
   "metadata": {},
   "outputs": [],
   "source": [
    "sitename_values = df_1.sitename.values\n",
    "no_e_w_names = []\n",
    "\n",
    "for name in sitename_values:\n",
    "    \n",
    "    if name.endswith(' W') | name.endswith(' E'):\n",
    "        name = name[:-2]\n",
    "        no_e_w_names.append(name)\n",
    "        \n",
    "    else:\n",
    "        no_e_w_names.append(name)"
   ]
  },
  {
   "cell_type": "code",
   "execution_count": 105,
   "metadata": {},
   "outputs": [
    {
     "data": {
      "text/html": [
       "<div>\n",
       "<style scoped>\n",
       "    .dataframe tbody tr th:only-of-type {\n",
       "        vertical-align: middle;\n",
       "    }\n",
       "\n",
       "    .dataframe tbody tr th {\n",
       "        vertical-align: top;\n",
       "    }\n",
       "\n",
       "    .dataframe thead th {\n",
       "        text-align: right;\n",
       "    }\n",
       "</style>\n",
       "<table border=\"1\" class=\"dataframe\">\n",
       "  <thead>\n",
       "    <tr style=\"text-align: right;\">\n",
       "      <th></th>\n",
       "      <th>Unnamed: 0</th>\n",
       "      <th>checked</th>\n",
       "      <th>result_type</th>\n",
       "      <th>id</th>\n",
       "      <th>citation_id</th>\n",
       "      <th>site_id</th>\n",
       "      <th>treatment_id</th>\n",
       "      <th>sitename</th>\n",
       "      <th>city</th>\n",
       "      <th>lat</th>\n",
       "      <th>...</th>\n",
       "      <th>statname</th>\n",
       "      <th>stat</th>\n",
       "      <th>notes</th>\n",
       "      <th>access_level</th>\n",
       "      <th>cultivar</th>\n",
       "      <th>entity</th>\n",
       "      <th>method_name</th>\n",
       "      <th>view_url</th>\n",
       "      <th>edit_url</th>\n",
       "      <th>new_sitenames</th>\n",
       "    </tr>\n",
       "  </thead>\n",
       "  <tbody>\n",
       "    <tr>\n",
       "      <th>51339</th>\n",
       "      <td>51340</td>\n",
       "      <td>0</td>\n",
       "      <td>traits</td>\n",
       "      <td>6001943979</td>\n",
       "      <td>6.000000e+09</td>\n",
       "      <td>6000007888</td>\n",
       "      <td>6.000000e+09</td>\n",
       "      <td>MAC Field Scanner Season 4 Range 30 Column 9 E</td>\n",
       "      <td>Maricopa</td>\n",
       "      <td>33.075590</td>\n",
       "      <td>...</td>\n",
       "      <td>NaN</td>\n",
       "      <td>NaN</td>\n",
       "      <td>NaN</td>\n",
       "      <td>4</td>\n",
       "      <td>PI329518</td>\n",
       "      <td>NaN</td>\n",
       "      <td>Manual canopy height</td>\n",
       "      <td>https://terraref.ncsa.illinois.edu/bety/traits...</td>\n",
       "      <td>https://terraref.ncsa.illinois.edu/bety/traits...</td>\n",
       "      <td>MAC Field Scanner Season 4 Range 30 Column 9</td>\n",
       "    </tr>\n",
       "    <tr>\n",
       "      <th>51340</th>\n",
       "      <td>51341</td>\n",
       "      <td>0</td>\n",
       "      <td>traits</td>\n",
       "      <td>6001942254</td>\n",
       "      <td>6.000000e+09</td>\n",
       "      <td>6000007579</td>\n",
       "      <td>6.000000e+09</td>\n",
       "      <td>MAC Field Scanner Season 4 Range 20 Column 15 W</td>\n",
       "      <td>Maricopa</td>\n",
       "      <td>33.075231</td>\n",
       "      <td>...</td>\n",
       "      <td>NaN</td>\n",
       "      <td>NaN</td>\n",
       "      <td>NaN</td>\n",
       "      <td>4</td>\n",
       "      <td>PI152828</td>\n",
       "      <td>NaN</td>\n",
       "      <td>Manual canopy height</td>\n",
       "      <td>https://terraref.ncsa.illinois.edu/bety/traits...</td>\n",
       "      <td>https://terraref.ncsa.illinois.edu/bety/traits...</td>\n",
       "      <td>MAC Field Scanner Season 4 Range 20 Column 15</td>\n",
       "    </tr>\n",
       "    <tr>\n",
       "      <th>51341</th>\n",
       "      <td>51342</td>\n",
       "      <td>0</td>\n",
       "      <td>traits</td>\n",
       "      <td>6001940853</td>\n",
       "      <td>6.000000e+09</td>\n",
       "      <td>6000007579</td>\n",
       "      <td>6.000000e+09</td>\n",
       "      <td>MAC Field Scanner Season 4 Range 20 Column 15 W</td>\n",
       "      <td>Maricopa</td>\n",
       "      <td>33.075231</td>\n",
       "      <td>...</td>\n",
       "      <td>NaN</td>\n",
       "      <td>NaN</td>\n",
       "      <td>NaN</td>\n",
       "      <td>4</td>\n",
       "      <td>PI152828</td>\n",
       "      <td>NaN</td>\n",
       "      <td>Manual canopy height</td>\n",
       "      <td>https://terraref.ncsa.illinois.edu/bety/traits...</td>\n",
       "      <td>https://terraref.ncsa.illinois.edu/bety/traits...</td>\n",
       "      <td>MAC Field Scanner Season 4 Range 20 Column 15</td>\n",
       "    </tr>\n",
       "    <tr>\n",
       "      <th>75000</th>\n",
       "      <td>75001</td>\n",
       "      <td>0</td>\n",
       "      <td>traits</td>\n",
       "      <td>6004768603</td>\n",
       "      <td>6.000000e+09</td>\n",
       "      <td>6000005801</td>\n",
       "      <td>NaN</td>\n",
       "      <td>MAC Field Scanner Season 4 Range 35 Column 14</td>\n",
       "      <td>Maricopa</td>\n",
       "      <td>33.075770</td>\n",
       "      <td>...</td>\n",
       "      <td>NaN</td>\n",
       "      <td>NaN</td>\n",
       "      <td>NaN</td>\n",
       "      <td>2</td>\n",
       "      <td>PI619838</td>\n",
       "      <td>NaN</td>\n",
       "      <td>3D scanner to 98th quantile height</td>\n",
       "      <td>https://terraref.ncsa.illinois.edu/bety/traits...</td>\n",
       "      <td>https://terraref.ncsa.illinois.edu/bety/traits...</td>\n",
       "      <td>MAC Field Scanner Season 4 Range 35 Column 14</td>\n",
       "    </tr>\n",
       "    <tr>\n",
       "      <th>75001</th>\n",
       "      <td>75002</td>\n",
       "      <td>0</td>\n",
       "      <td>traits</td>\n",
       "      <td>6004768605</td>\n",
       "      <td>6.000000e+09</td>\n",
       "      <td>6000005295</td>\n",
       "      <td>NaN</td>\n",
       "      <td>MAC Field Scanner Season 4 Range 36 Column 2</td>\n",
       "      <td>Maricopa</td>\n",
       "      <td>33.075806</td>\n",
       "      <td>...</td>\n",
       "      <td>NaN</td>\n",
       "      <td>NaN</td>\n",
       "      <td>NaN</td>\n",
       "      <td>2</td>\n",
       "      <td>PI155885</td>\n",
       "      <td>NaN</td>\n",
       "      <td>3D scanner to 98th quantile height</td>\n",
       "      <td>https://terraref.ncsa.illinois.edu/bety/traits...</td>\n",
       "      <td>https://terraref.ncsa.illinois.edu/bety/traits...</td>\n",
       "      <td>MAC Field Scanner Season 4 Range 36 Column 2</td>\n",
       "    </tr>\n",
       "  </tbody>\n",
       "</table>\n",
       "<p>5 rows × 40 columns</p>\n",
       "</div>"
      ],
      "text/plain": [
       "       Unnamed: 0  checked result_type          id   citation_id     site_id  \\\n",
       "51339       51340        0      traits  6001943979  6.000000e+09  6000007888   \n",
       "51340       51341        0      traits  6001942254  6.000000e+09  6000007579   \n",
       "51341       51342        0      traits  6001940853  6.000000e+09  6000007579   \n",
       "75000       75001        0      traits  6004768603  6.000000e+09  6000005801   \n",
       "75001       75002        0      traits  6004768605  6.000000e+09  6000005295   \n",
       "\n",
       "       treatment_id                                         sitename  \\\n",
       "51339  6.000000e+09   MAC Field Scanner Season 4 Range 30 Column 9 E   \n",
       "51340  6.000000e+09  MAC Field Scanner Season 4 Range 20 Column 15 W   \n",
       "51341  6.000000e+09  MAC Field Scanner Season 4 Range 20 Column 15 W   \n",
       "75000           NaN    MAC Field Scanner Season 4 Range 35 Column 14   \n",
       "75001           NaN     MAC Field Scanner Season 4 Range 36 Column 2   \n",
       "\n",
       "           city        lat  ...  statname stat notes access_level  cultivar  \\\n",
       "51339  Maricopa  33.075590  ...       NaN  NaN   NaN            4  PI329518   \n",
       "51340  Maricopa  33.075231  ...       NaN  NaN   NaN            4  PI152828   \n",
       "51341  Maricopa  33.075231  ...       NaN  NaN   NaN            4  PI152828   \n",
       "75000  Maricopa  33.075770  ...       NaN  NaN   NaN            2  PI619838   \n",
       "75001  Maricopa  33.075806  ...       NaN  NaN   NaN            2  PI155885   \n",
       "\n",
       "       entity                         method_name  \\\n",
       "51339     NaN                Manual canopy height   \n",
       "51340     NaN                Manual canopy height   \n",
       "51341     NaN                Manual canopy height   \n",
       "75000     NaN  3D scanner to 98th quantile height   \n",
       "75001     NaN  3D scanner to 98th quantile height   \n",
       "\n",
       "                                                view_url  \\\n",
       "51339  https://terraref.ncsa.illinois.edu/bety/traits...   \n",
       "51340  https://terraref.ncsa.illinois.edu/bety/traits...   \n",
       "51341  https://terraref.ncsa.illinois.edu/bety/traits...   \n",
       "75000  https://terraref.ncsa.illinois.edu/bety/traits...   \n",
       "75001  https://terraref.ncsa.illinois.edu/bety/traits...   \n",
       "\n",
       "                                                edit_url  \\\n",
       "51339  https://terraref.ncsa.illinois.edu/bety/traits...   \n",
       "51340  https://terraref.ncsa.illinois.edu/bety/traits...   \n",
       "51341  https://terraref.ncsa.illinois.edu/bety/traits...   \n",
       "75000  https://terraref.ncsa.illinois.edu/bety/traits...   \n",
       "75001  https://terraref.ncsa.illinois.edu/bety/traits...   \n",
       "\n",
       "                                       new_sitenames  \n",
       "51339   MAC Field Scanner Season 4 Range 30 Column 9  \n",
       "51340  MAC Field Scanner Season 4 Range 20 Column 15  \n",
       "51341  MAC Field Scanner Season 4 Range 20 Column 15  \n",
       "75000  MAC Field Scanner Season 4 Range 35 Column 14  \n",
       "75001   MAC Field Scanner Season 4 Range 36 Column 2  \n",
       "\n",
       "[5 rows x 40 columns]"
      ]
     },
     "execution_count": 105,
     "metadata": {},
     "output_type": "execute_result"
    }
   ],
   "source": [
    "df_2 = df_1.copy()\n",
    "df_2['new_sitenames'] = no_e_w_names\n",
    "# df_2.head()"
   ]
  },
  {
   "cell_type": "code",
   "execution_count": 111,
   "metadata": {},
   "outputs": [
    {
     "data": {
      "text/plain": [
       "[(2065,)]"
      ]
     },
     "execution_count": 111,
     "metadata": {},
     "output_type": "execute_result"
    }
   ],
   "source": [
    "# df_2.to_sql('canopy_heights_no_subplots', con=engine)\n",
    "engine.execute(\"SELECT COUNT(DISTINCT sitename) FROM canopy_heights_no_subplots;\").fetchall()"
   ]
  },
  {
   "cell_type": "code",
   "execution_count": 112,
   "metadata": {},
   "outputs": [
    {
     "data": {
      "text/plain": [
       "2065"
      ]
     },
     "execution_count": 112,
     "metadata": {},
     "output_type": "execute_result"
    }
   ],
   "source": [
    "df_2.sitename.nunique()"
   ]
  },
  {
   "cell_type": "code",
   "execution_count": 119,
   "metadata": {},
   "outputs": [
    {
     "data": {
      "text/html": [
       "<div>\n",
       "<style scoped>\n",
       "    .dataframe tbody tr th:only-of-type {\n",
       "        vertical-align: middle;\n",
       "    }\n",
       "\n",
       "    .dataframe tbody tr th {\n",
       "        vertical-align: top;\n",
       "    }\n",
       "\n",
       "    .dataframe thead th {\n",
       "        text-align: right;\n",
       "    }\n",
       "</style>\n",
       "<table border=\"1\" class=\"dataframe\">\n",
       "  <thead>\n",
       "    <tr style=\"text-align: right;\">\n",
       "      <th></th>\n",
       "      <th>sitename</th>\n",
       "      <th>date</th>\n",
       "      <th>cultivar</th>\n",
       "      <th>cultivar_id</th>\n",
       "      <th>max_canopy_height</th>\n",
       "    </tr>\n",
       "  </thead>\n",
       "  <tbody>\n",
       "    <tr>\n",
       "      <th>0</th>\n",
       "      <td>MAC Field Scanner Season 4 Range 10 Column 10</td>\n",
       "      <td>2017 Aug 25</td>\n",
       "      <td>PI152816</td>\n",
       "      <td>6000000686</td>\n",
       "      <td>350.0</td>\n",
       "    </tr>\n",
       "    <tr>\n",
       "      <th>1</th>\n",
       "      <td>MAC Field Scanner Season 4 Range 10 Column 11</td>\n",
       "      <td>2017 Jul 5</td>\n",
       "      <td>PI195754</td>\n",
       "      <td>6000000731</td>\n",
       "      <td>295.0</td>\n",
       "    </tr>\n",
       "    <tr>\n",
       "      <th>2</th>\n",
       "      <td>MAC Field Scanner Season 4 Range 10 Column 12</td>\n",
       "      <td>2017 Aug 26</td>\n",
       "      <td>PI329501</td>\n",
       "      <td>6000000575</td>\n",
       "      <td>373.0</td>\n",
       "    </tr>\n",
       "    <tr>\n",
       "      <th>3</th>\n",
       "      <td>MAC Field Scanner Season 4 Range 10 Column 13</td>\n",
       "      <td>2017 Jul 5</td>\n",
       "      <td>PI641860</td>\n",
       "      <td>6000001004</td>\n",
       "      <td>286.0</td>\n",
       "    </tr>\n",
       "    <tr>\n",
       "      <th>4</th>\n",
       "      <td>MAC Field Scanner Season 4 Range 10 Column 14</td>\n",
       "      <td>2017 Jul 5</td>\n",
       "      <td>PI19770</td>\n",
       "      <td>6000000737</td>\n",
       "      <td>288.0</td>\n",
       "    </tr>\n",
       "  </tbody>\n",
       "</table>\n",
       "</div>"
      ],
      "text/plain": [
       "                                        sitename         date  cultivar  \\\n",
       "0  MAC Field Scanner Season 4 Range 10 Column 10  2017 Aug 25  PI152816   \n",
       "1  MAC Field Scanner Season 4 Range 10 Column 11   2017 Jul 5  PI195754   \n",
       "2  MAC Field Scanner Season 4 Range 10 Column 12  2017 Aug 26  PI329501   \n",
       "3  MAC Field Scanner Season 4 Range 10 Column 13   2017 Jul 5  PI641860   \n",
       "4  MAC Field Scanner Season 4 Range 10 Column 14   2017 Jul 5   PI19770   \n",
       "\n",
       "   cultivar_id  max_canopy_height  \n",
       "0   6000000686              350.0  \n",
       "1   6000000731              295.0  \n",
       "2   6000000575              373.0  \n",
       "3   6000001004              286.0  \n",
       "4   6000000737              288.0  "
      ]
     },
     "execution_count": 119,
     "metadata": {},
     "output_type": "execute_result"
    }
   ],
   "source": [
    "max_canopy_heights = pd.read_sql_query(\"\"\"SELECT new_sitenames as sitename, date, cultivar, cultivar_id, \n",
    "                                        MAX(mean) as max_canopy_height \n",
    "                                        FROM canopy_heights_no_subplots GROUP BY new_sitenames;\n",
    "                                        \"\"\", engine)\n",
    "\n",
    "# max_canopy_heights.head()"
   ]
  },
  {
   "cell_type": "code",
   "execution_count": 120,
   "metadata": {},
   "outputs": [
    {
     "data": {
      "text/plain": [
       "(728, 5)"
      ]
     },
     "execution_count": 120,
     "metadata": {},
     "output_type": "execute_result"
    }
   ],
   "source": [
    "max_canopy_heights.shape"
   ]
  },
  {
   "cell_type": "code",
   "execution_count": 123,
   "metadata": {},
   "outputs": [
    {
     "data": {
      "text/plain": [
       "sitename              object\n",
       "date                  object\n",
       "cultivar              object\n",
       "cultivar_id            int64\n",
       "max_canopy_height    float64\n",
       "dtype: object"
      ]
     },
     "execution_count": 123,
     "metadata": {},
     "output_type": "execute_result"
    }
   ],
   "source": [
    "max_canopy_heights.dtypes"
   ]
  },
  {
   "cell_type": "code",
   "execution_count": 125,
   "metadata": {},
   "outputs": [],
   "source": [
    "max_canopy_heights_1 = max_canopy_heights.copy()"
   ]
  },
  {
   "cell_type": "code",
   "execution_count": 126,
   "metadata": {},
   "outputs": [],
   "source": [
    "string_dates = max_canopy_heights_1.date.values"
   ]
  },
  {
   "cell_type": "code",
   "execution_count": 142,
   "metadata": {},
   "outputs": [
    {
     "data": {
      "text/plain": [
       "'2017 Jul 5'"
      ]
     },
     "execution_count": 142,
     "metadata": {},
     "output_type": "execute_result"
    }
   ],
   "source": [
    "string_dates[14][:-18]"
   ]
  },
  {
   "cell_type": "code",
   "execution_count": 149,
   "metadata": {},
   "outputs": [],
   "source": [
    "new_dates = []\n",
    "\n",
    "for d in string_dates:\n",
    "    \n",
    "    if 'Phoenix' in d:\n",
    "        new_name = d[:-18]\n",
    "        new_dates.append(new_name)\n",
    "    \n",
    "    else:\n",
    "        new_name = d\n",
    "        new_dates.append(new_name)"
   ]
  },
  {
   "cell_type": "code",
   "execution_count": 150,
   "metadata": {},
   "outputs": [
    {
     "data": {
      "text/html": [
       "<div>\n",
       "<style scoped>\n",
       "    .dataframe tbody tr th:only-of-type {\n",
       "        vertical-align: middle;\n",
       "    }\n",
       "\n",
       "    .dataframe tbody tr th {\n",
       "        vertical-align: top;\n",
       "    }\n",
       "\n",
       "    .dataframe thead th {\n",
       "        text-align: right;\n",
       "    }\n",
       "</style>\n",
       "<table border=\"1\" class=\"dataframe\">\n",
       "  <thead>\n",
       "    <tr style=\"text-align: right;\">\n",
       "      <th></th>\n",
       "      <th>sitename</th>\n",
       "      <th>date</th>\n",
       "      <th>cultivar</th>\n",
       "      <th>cultivar_id</th>\n",
       "      <th>max_canopy_height</th>\n",
       "      <th>new_dates</th>\n",
       "    </tr>\n",
       "  </thead>\n",
       "  <tbody>\n",
       "    <tr>\n",
       "      <th>0</th>\n",
       "      <td>MAC Field Scanner Season 4 Range 10 Column 10</td>\n",
       "      <td>2017 Aug 25</td>\n",
       "      <td>PI152816</td>\n",
       "      <td>6000000686</td>\n",
       "      <td>350.0</td>\n",
       "      <td>2017 Aug 25</td>\n",
       "    </tr>\n",
       "    <tr>\n",
       "      <th>1</th>\n",
       "      <td>MAC Field Scanner Season 4 Range 10 Column 11</td>\n",
       "      <td>2017 Jul 5</td>\n",
       "      <td>PI195754</td>\n",
       "      <td>6000000731</td>\n",
       "      <td>295.0</td>\n",
       "      <td>2017 Jul 5</td>\n",
       "    </tr>\n",
       "    <tr>\n",
       "      <th>2</th>\n",
       "      <td>MAC Field Scanner Season 4 Range 10 Column 12</td>\n",
       "      <td>2017 Aug 26</td>\n",
       "      <td>PI329501</td>\n",
       "      <td>6000000575</td>\n",
       "      <td>373.0</td>\n",
       "      <td>2017 Aug 26</td>\n",
       "    </tr>\n",
       "    <tr>\n",
       "      <th>3</th>\n",
       "      <td>MAC Field Scanner Season 4 Range 10 Column 13</td>\n",
       "      <td>2017 Jul 5</td>\n",
       "      <td>PI641860</td>\n",
       "      <td>6000001004</td>\n",
       "      <td>286.0</td>\n",
       "      <td>2017 Jul 5</td>\n",
       "    </tr>\n",
       "    <tr>\n",
       "      <th>4</th>\n",
       "      <td>MAC Field Scanner Season 4 Range 10 Column 14</td>\n",
       "      <td>2017 Jul 5</td>\n",
       "      <td>PI19770</td>\n",
       "      <td>6000000737</td>\n",
       "      <td>288.0</td>\n",
       "      <td>2017 Jul 5</td>\n",
       "    </tr>\n",
       "  </tbody>\n",
       "</table>\n",
       "</div>"
      ],
      "text/plain": [
       "                                        sitename         date  cultivar  \\\n",
       "0  MAC Field Scanner Season 4 Range 10 Column 10  2017 Aug 25  PI152816   \n",
       "1  MAC Field Scanner Season 4 Range 10 Column 11   2017 Jul 5  PI195754   \n",
       "2  MAC Field Scanner Season 4 Range 10 Column 12  2017 Aug 26  PI329501   \n",
       "3  MAC Field Scanner Season 4 Range 10 Column 13   2017 Jul 5  PI641860   \n",
       "4  MAC Field Scanner Season 4 Range 10 Column 14   2017 Jul 5   PI19770   \n",
       "\n",
       "   cultivar_id  max_canopy_height    new_dates  \n",
       "0   6000000686              350.0  2017 Aug 25  \n",
       "1   6000000731              295.0   2017 Jul 5  \n",
       "2   6000000575              373.0  2017 Aug 26  \n",
       "3   6000001004              286.0   2017 Jul 5  \n",
       "4   6000000737              288.0   2017 Jul 5  "
      ]
     },
     "execution_count": 150,
     "metadata": {},
     "output_type": "execute_result"
    }
   ],
   "source": [
    "max_canopy_heights_1['new_dates'] = new_dates\n",
    "# max_canopy_heights_1.head()"
   ]
  },
  {
   "cell_type": "code",
   "execution_count": 151,
   "metadata": {},
   "outputs": [
    {
     "data": {
      "text/html": [
       "<div>\n",
       "<style scoped>\n",
       "    .dataframe tbody tr th:only-of-type {\n",
       "        vertical-align: middle;\n",
       "    }\n",
       "\n",
       "    .dataframe tbody tr th {\n",
       "        vertical-align: top;\n",
       "    }\n",
       "\n",
       "    .dataframe thead th {\n",
       "        text-align: right;\n",
       "    }\n",
       "</style>\n",
       "<table border=\"1\" class=\"dataframe\">\n",
       "  <thead>\n",
       "    <tr style=\"text-align: right;\">\n",
       "      <th></th>\n",
       "      <th>sitename</th>\n",
       "      <th>date</th>\n",
       "      <th>cultivar</th>\n",
       "      <th>cultivar_id</th>\n",
       "      <th>max_canopy_height</th>\n",
       "      <th>new_dates</th>\n",
       "      <th>date_1</th>\n",
       "    </tr>\n",
       "  </thead>\n",
       "  <tbody>\n",
       "    <tr>\n",
       "      <th>723</th>\n",
       "      <td>MAC Field Scanner Season 4 Range 9 Column 5</td>\n",
       "      <td>2017 Aug 30</td>\n",
       "      <td>PI569452</td>\n",
       "      <td>6000000931</td>\n",
       "      <td>387.0</td>\n",
       "      <td>2017 Aug 30</td>\n",
       "      <td>2017-08-30</td>\n",
       "    </tr>\n",
       "    <tr>\n",
       "      <th>724</th>\n",
       "      <td>MAC Field Scanner Season 4 Range 9 Column 6</td>\n",
       "      <td>2017 Jul 5</td>\n",
       "      <td>PI329351</td>\n",
       "      <td>6000000564</td>\n",
       "      <td>289.0</td>\n",
       "      <td>2017 Jul 5</td>\n",
       "      <td>2017-07-05</td>\n",
       "    </tr>\n",
       "    <tr>\n",
       "      <th>725</th>\n",
       "      <td>MAC Field Scanner Season 4 Range 9 Column 7</td>\n",
       "      <td>2017 Aug 30</td>\n",
       "      <td>PI585961</td>\n",
       "      <td>6000000982</td>\n",
       "      <td>337.0</td>\n",
       "      <td>2017 Aug 30</td>\n",
       "      <td>2017-08-30</td>\n",
       "    </tr>\n",
       "    <tr>\n",
       "      <th>726</th>\n",
       "      <td>MAC Field Scanner Season 4 Range 9 Column 8</td>\n",
       "      <td>2017 Jul 5</td>\n",
       "      <td>PI563350</td>\n",
       "      <td>6000000906</td>\n",
       "      <td>249.0</td>\n",
       "      <td>2017 Jul 5</td>\n",
       "      <td>2017-07-05</td>\n",
       "    </tr>\n",
       "    <tr>\n",
       "      <th>727</th>\n",
       "      <td>MAC Field Scanner Season 4 Range 9 Column 9</td>\n",
       "      <td>2017 Jul 11 (America/Phoenix)</td>\n",
       "      <td>PI643016</td>\n",
       "      <td>6000001010</td>\n",
       "      <td>290.0</td>\n",
       "      <td>2017 Jul 11</td>\n",
       "      <td>2017-07-11</td>\n",
       "    </tr>\n",
       "  </tbody>\n",
       "</table>\n",
       "</div>"
      ],
      "text/plain": [
       "                                        sitename  \\\n",
       "723  MAC Field Scanner Season 4 Range 9 Column 5   \n",
       "724  MAC Field Scanner Season 4 Range 9 Column 6   \n",
       "725  MAC Field Scanner Season 4 Range 9 Column 7   \n",
       "726  MAC Field Scanner Season 4 Range 9 Column 8   \n",
       "727  MAC Field Scanner Season 4 Range 9 Column 9   \n",
       "\n",
       "                              date  cultivar  cultivar_id  max_canopy_height  \\\n",
       "723                    2017 Aug 30  PI569452   6000000931              387.0   \n",
       "724                     2017 Jul 5  PI329351   6000000564              289.0   \n",
       "725                    2017 Aug 30  PI585961   6000000982              337.0   \n",
       "726                     2017 Jul 5  PI563350   6000000906              249.0   \n",
       "727  2017 Jul 11 (America/Phoenix)  PI643016   6000001010              290.0   \n",
       "\n",
       "       new_dates     date_1  \n",
       "723  2017 Aug 30 2017-08-30  \n",
       "724   2017 Jul 5 2017-07-05  \n",
       "725  2017 Aug 30 2017-08-30  \n",
       "726   2017 Jul 5 2017-07-05  \n",
       "727  2017 Jul 11 2017-07-11  "
      ]
     },
     "execution_count": 151,
     "metadata": {},
     "output_type": "execute_result"
    }
   ],
   "source": [
    "max_canopy_heights_1['date_1'] = pd.to_datetime(max_canopy_heights_1.new_dates)\n",
    "# max_canopy_heights_1.tail()"
   ]
  },
  {
   "cell_type": "code",
   "execution_count": 161,
   "metadata": {},
   "outputs": [],
   "source": [
    "new_col_order = ['sitename', 'date_1', 'cultivar', 'cultivar_id', 'max_canopy_height']"
   ]
  },
  {
   "cell_type": "code",
   "execution_count": 162,
   "metadata": {},
   "outputs": [
    {
     "data": {
      "text/html": [
       "<div>\n",
       "<style scoped>\n",
       "    .dataframe tbody tr th:only-of-type {\n",
       "        vertical-align: middle;\n",
       "    }\n",
       "\n",
       "    .dataframe tbody tr th {\n",
       "        vertical-align: top;\n",
       "    }\n",
       "\n",
       "    .dataframe thead th {\n",
       "        text-align: right;\n",
       "    }\n",
       "</style>\n",
       "<table border=\"1\" class=\"dataframe\">\n",
       "  <thead>\n",
       "    <tr style=\"text-align: right;\">\n",
       "      <th></th>\n",
       "      <th>sitename</th>\n",
       "      <th>date_1</th>\n",
       "      <th>cultivar</th>\n",
       "      <th>cultivar_id</th>\n",
       "      <th>max_canopy_height</th>\n",
       "    </tr>\n",
       "  </thead>\n",
       "  <tbody>\n",
       "    <tr>\n",
       "      <th>0</th>\n",
       "      <td>MAC Field Scanner Season 4 Range 10 Column 10</td>\n",
       "      <td>2017-08-25</td>\n",
       "      <td>PI152816</td>\n",
       "      <td>6000000686</td>\n",
       "      <td>350.0</td>\n",
       "    </tr>\n",
       "    <tr>\n",
       "      <th>1</th>\n",
       "      <td>MAC Field Scanner Season 4 Range 10 Column 11</td>\n",
       "      <td>2017-07-05</td>\n",
       "      <td>PI195754</td>\n",
       "      <td>6000000731</td>\n",
       "      <td>295.0</td>\n",
       "    </tr>\n",
       "    <tr>\n",
       "      <th>2</th>\n",
       "      <td>MAC Field Scanner Season 4 Range 10 Column 12</td>\n",
       "      <td>2017-08-26</td>\n",
       "      <td>PI329501</td>\n",
       "      <td>6000000575</td>\n",
       "      <td>373.0</td>\n",
       "    </tr>\n",
       "    <tr>\n",
       "      <th>3</th>\n",
       "      <td>MAC Field Scanner Season 4 Range 10 Column 13</td>\n",
       "      <td>2017-07-05</td>\n",
       "      <td>PI641860</td>\n",
       "      <td>6000001004</td>\n",
       "      <td>286.0</td>\n",
       "    </tr>\n",
       "    <tr>\n",
       "      <th>4</th>\n",
       "      <td>MAC Field Scanner Season 4 Range 10 Column 14</td>\n",
       "      <td>2017-07-05</td>\n",
       "      <td>PI19770</td>\n",
       "      <td>6000000737</td>\n",
       "      <td>288.0</td>\n",
       "    </tr>\n",
       "  </tbody>\n",
       "</table>\n",
       "</div>"
      ],
      "text/plain": [
       "                                        sitename     date_1  cultivar  \\\n",
       "0  MAC Field Scanner Season 4 Range 10 Column 10 2017-08-25  PI152816   \n",
       "1  MAC Field Scanner Season 4 Range 10 Column 11 2017-07-05  PI195754   \n",
       "2  MAC Field Scanner Season 4 Range 10 Column 12 2017-08-26  PI329501   \n",
       "3  MAC Field Scanner Season 4 Range 10 Column 13 2017-07-05  PI641860   \n",
       "4  MAC Field Scanner Season 4 Range 10 Column 14 2017-07-05   PI19770   \n",
       "\n",
       "   cultivar_id  max_canopy_height  \n",
       "0   6000000686              350.0  \n",
       "1   6000000731              295.0  \n",
       "2   6000000575              373.0  \n",
       "3   6000001004              286.0  \n",
       "4   6000000737              288.0  "
      ]
     },
     "execution_count": 162,
     "metadata": {},
     "output_type": "execute_result"
    }
   ],
   "source": [
    "max_canopy_heights_2 = pd.DataFrame(data=max_canopy_heights_1, index=max_canopy_heights_1.index, columns=new_col_order)\n",
    "# max_canopy_heights_2.head()"
   ]
  },
  {
   "cell_type": "code",
   "execution_count": 164,
   "metadata": {},
   "outputs": [
    {
     "data": {
      "text/html": [
       "<div>\n",
       "<style scoped>\n",
       "    .dataframe tbody tr th:only-of-type {\n",
       "        vertical-align: middle;\n",
       "    }\n",
       "\n",
       "    .dataframe tbody tr th {\n",
       "        vertical-align: top;\n",
       "    }\n",
       "\n",
       "    .dataframe thead th {\n",
       "        text-align: right;\n",
       "    }\n",
       "</style>\n",
       "<table border=\"1\" class=\"dataframe\">\n",
       "  <thead>\n",
       "    <tr style=\"text-align: right;\">\n",
       "      <th></th>\n",
       "      <th>date_1</th>\n",
       "      <th>cultivar</th>\n",
       "      <th>cultivar_id</th>\n",
       "      <th>max_canopy_height</th>\n",
       "    </tr>\n",
       "    <tr>\n",
       "      <th>sitename</th>\n",
       "      <th></th>\n",
       "      <th></th>\n",
       "      <th></th>\n",
       "      <th></th>\n",
       "    </tr>\n",
       "  </thead>\n",
       "  <tbody>\n",
       "    <tr>\n",
       "      <th>MAC Field Scanner Season 4 Range 9 Column 5</th>\n",
       "      <td>2017-08-30</td>\n",
       "      <td>PI569452</td>\n",
       "      <td>6000000931</td>\n",
       "      <td>387.0</td>\n",
       "    </tr>\n",
       "    <tr>\n",
       "      <th>MAC Field Scanner Season 4 Range 9 Column 6</th>\n",
       "      <td>2017-07-05</td>\n",
       "      <td>PI329351</td>\n",
       "      <td>6000000564</td>\n",
       "      <td>289.0</td>\n",
       "    </tr>\n",
       "    <tr>\n",
       "      <th>MAC Field Scanner Season 4 Range 9 Column 7</th>\n",
       "      <td>2017-08-30</td>\n",
       "      <td>PI585961</td>\n",
       "      <td>6000000982</td>\n",
       "      <td>337.0</td>\n",
       "    </tr>\n",
       "    <tr>\n",
       "      <th>MAC Field Scanner Season 4 Range 9 Column 8</th>\n",
       "      <td>2017-07-05</td>\n",
       "      <td>PI563350</td>\n",
       "      <td>6000000906</td>\n",
       "      <td>249.0</td>\n",
       "    </tr>\n",
       "    <tr>\n",
       "      <th>MAC Field Scanner Season 4 Range 9 Column 9</th>\n",
       "      <td>2017-07-11</td>\n",
       "      <td>PI643016</td>\n",
       "      <td>6000001010</td>\n",
       "      <td>290.0</td>\n",
       "    </tr>\n",
       "  </tbody>\n",
       "</table>\n",
       "</div>"
      ],
      "text/plain": [
       "                                                date_1  cultivar  cultivar_id  \\\n",
       "sitename                                                                        \n",
       "MAC Field Scanner Season 4 Range 9 Column 5 2017-08-30  PI569452   6000000931   \n",
       "MAC Field Scanner Season 4 Range 9 Column 6 2017-07-05  PI329351   6000000564   \n",
       "MAC Field Scanner Season 4 Range 9 Column 7 2017-08-30  PI585961   6000000982   \n",
       "MAC Field Scanner Season 4 Range 9 Column 8 2017-07-05  PI563350   6000000906   \n",
       "MAC Field Scanner Season 4 Range 9 Column 9 2017-07-11  PI643016   6000001010   \n",
       "\n",
       "                                             max_canopy_height  \n",
       "sitename                                                        \n",
       "MAC Field Scanner Season 4 Range 9 Column 5              387.0  \n",
       "MAC Field Scanner Season 4 Range 9 Column 6              289.0  \n",
       "MAC Field Scanner Season 4 Range 9 Column 7              337.0  \n",
       "MAC Field Scanner Season 4 Range 9 Column 8              249.0  \n",
       "MAC Field Scanner Season 4 Range 9 Column 9              290.0  "
      ]
     },
     "execution_count": 164,
     "metadata": {},
     "output_type": "execute_result"
    }
   ],
   "source": [
    "max_canopy_heights_3 = max_canopy_heights_2.set_index(keys='sitename')\n",
    "# max_canopy_heights_3.tail()"
   ]
  },
  {
   "cell_type": "code",
   "execution_count": 166,
   "metadata": {},
   "outputs": [
    {
     "data": {
      "text/html": [
       "<div>\n",
       "<style scoped>\n",
       "    .dataframe tbody tr th:only-of-type {\n",
       "        vertical-align: middle;\n",
       "    }\n",
       "\n",
       "    .dataframe tbody tr th {\n",
       "        vertical-align: top;\n",
       "    }\n",
       "\n",
       "    .dataframe thead th {\n",
       "        text-align: right;\n",
       "    }\n",
       "</style>\n",
       "<table border=\"1\" class=\"dataframe\">\n",
       "  <thead>\n",
       "    <tr style=\"text-align: right;\">\n",
       "      <th></th>\n",
       "      <th>date</th>\n",
       "      <th>cultivar</th>\n",
       "      <th>cultivar_id</th>\n",
       "      <th>max_canopy_height</th>\n",
       "    </tr>\n",
       "    <tr>\n",
       "      <th>sitename</th>\n",
       "      <th></th>\n",
       "      <th></th>\n",
       "      <th></th>\n",
       "      <th></th>\n",
       "    </tr>\n",
       "  </thead>\n",
       "  <tbody>\n",
       "    <tr>\n",
       "      <th>MAC Field Scanner Season 4 Range 10 Column 10</th>\n",
       "      <td>2017-08-25</td>\n",
       "      <td>PI152816</td>\n",
       "      <td>6000000686</td>\n",
       "      <td>350.0</td>\n",
       "    </tr>\n",
       "    <tr>\n",
       "      <th>MAC Field Scanner Season 4 Range 10 Column 11</th>\n",
       "      <td>2017-07-05</td>\n",
       "      <td>PI195754</td>\n",
       "      <td>6000000731</td>\n",
       "      <td>295.0</td>\n",
       "    </tr>\n",
       "    <tr>\n",
       "      <th>MAC Field Scanner Season 4 Range 10 Column 12</th>\n",
       "      <td>2017-08-26</td>\n",
       "      <td>PI329501</td>\n",
       "      <td>6000000575</td>\n",
       "      <td>373.0</td>\n",
       "    </tr>\n",
       "    <tr>\n",
       "      <th>MAC Field Scanner Season 4 Range 10 Column 13</th>\n",
       "      <td>2017-07-05</td>\n",
       "      <td>PI641860</td>\n",
       "      <td>6000001004</td>\n",
       "      <td>286.0</td>\n",
       "    </tr>\n",
       "    <tr>\n",
       "      <th>MAC Field Scanner Season 4 Range 10 Column 14</th>\n",
       "      <td>2017-07-05</td>\n",
       "      <td>PI19770</td>\n",
       "      <td>6000000737</td>\n",
       "      <td>288.0</td>\n",
       "    </tr>\n",
       "  </tbody>\n",
       "</table>\n",
       "</div>"
      ],
      "text/plain": [
       "                                                    date  cultivar  \\\n",
       "sitename                                                             \n",
       "MAC Field Scanner Season 4 Range 10 Column 10 2017-08-25  PI152816   \n",
       "MAC Field Scanner Season 4 Range 10 Column 11 2017-07-05  PI195754   \n",
       "MAC Field Scanner Season 4 Range 10 Column 12 2017-08-26  PI329501   \n",
       "MAC Field Scanner Season 4 Range 10 Column 13 2017-07-05  PI641860   \n",
       "MAC Field Scanner Season 4 Range 10 Column 14 2017-07-05   PI19770   \n",
       "\n",
       "                                               cultivar_id  max_canopy_height  \n",
       "sitename                                                                       \n",
       "MAC Field Scanner Season 4 Range 10 Column 10   6000000686              350.0  \n",
       "MAC Field Scanner Season 4 Range 10 Column 11   6000000731              295.0  \n",
       "MAC Field Scanner Season 4 Range 10 Column 12   6000000575              373.0  \n",
       "MAC Field Scanner Season 4 Range 10 Column 13   6000001004              286.0  \n",
       "MAC Field Scanner Season 4 Range 10 Column 14   6000000737              288.0  "
      ]
     },
     "execution_count": 166,
     "metadata": {},
     "output_type": "execute_result"
    }
   ],
   "source": [
    "max_canopy_heights_4 = max_canopy_heights_3.rename({'date_1': 'date'}, axis=1)\n",
    "# max_canopy_heights_4.head()"
   ]
  },
  {
   "cell_type": "code",
   "execution_count": 167,
   "metadata": {},
   "outputs": [
    {
     "data": {
      "text/plain": [
       "date                 0\n",
       "cultivar             0\n",
       "cultivar_id          0\n",
       "max_canopy_height    0\n",
       "dtype: int64"
      ]
     },
     "execution_count": 167,
     "metadata": {},
     "output_type": "execute_result"
    }
   ],
   "source": [
    "max_canopy_heights_4.isnull().sum()"
   ]
  },
  {
   "cell_type": "code",
   "execution_count": null,
   "metadata": {},
   "outputs": [],
   "source": []
  },
  {
   "cell_type": "code",
   "execution_count": null,
   "metadata": {},
   "outputs": [],
   "source": []
  },
  {
   "cell_type": "markdown",
   "metadata": {},
   "source": [
    "#### Last Steps"
   ]
  },
  {
   "cell_type": "code",
   "execution_count": 170,
   "metadata": {},
   "outputs": [],
   "source": [
    "need_to_create_csv = False\n",
    "\n",
    "if need_to_create_csv:\n",
    "\n",
    "    timestamp = datetime.datetime.now().replace(microsecond=0).isoformat()\n",
    "    output_filename = f'max_canopy_heights_{timestamp}.csv'.replace(':', '')\n",
    "    max_canopy_heights.to_csv(f'data/processed/{output_filename}')"
   ]
  },
  {
   "cell_type": "code",
   "execution_count": null,
   "metadata": {},
   "outputs": [],
   "source": []
  },
  {
   "cell_type": "markdown",
   "metadata": {},
   "source": [
    "#### Extract column and range values for additional columns"
   ]
  },
  {
   "cell_type": "code",
   "execution_count": 38,
   "metadata": {},
   "outputs": [],
   "source": [
    "# this needs to be a function. . . \n",
    "\n",
    "manual_df_3['range'] = manual_df_3['sitename'].str.extract(\"Range (\\d+)\").astype(int)\n",
    "manual_df_3['column'] = manual_df_3['sitename'].str.extract(\"Column (\\d+)\").astype(int)\n",
    "\n",
    "scanner_df_3['range'] = scanner_df_3['sitename'].str.extract(\"Range (\\d+)\").astype(int)\n",
    "scanner_df_3['column'] = scanner_df_3['sitename'].str.extract(\"Column (\\d+)\").astype(int)"
   ]
  },
  {
   "cell_type": "markdown",
   "metadata": {},
   "source": [
    "### For Future Tests"
   ]
  },
  {
   "cell_type": "code",
   "execution_count": 16,
   "metadata": {},
   "outputs": [
    {
     "name": "stdout",
     "output_type": "stream",
     "text": [
      "(4872, 18)\n",
      "(53184, 18)\n",
      "(58056, 18)\n"
     ]
    },
    {
     "data": {
      "text/plain": [
       "True"
      ]
     },
     "execution_count": 16,
     "metadata": {},
     "output_type": "execute_result"
    }
   ],
   "source": [
    "# if slicing df based on certain values, ensure that no rows were overlooked\n",
    "\n",
    "print(manual_df.shape)\n",
    "print(scanner_df.shape)\n",
    "print(df_3.shape)\n",
    "\n",
    "manual_df.shape[0] + scanner_df.shape[0] == df_3.shape[0]"
   ]
  },
  {
   "cell_type": "code",
   "execution_count": null,
   "metadata": {},
   "outputs": [],
   "source": [
    "# test for column and range extraction"
   ]
  },
  {
   "cell_type": "code",
   "execution_count": null,
   "metadata": {},
   "outputs": [],
   "source": []
  },
  {
   "cell_type": "code",
   "execution_count": null,
   "metadata": {},
   "outputs": [],
   "source": []
  },
  {
   "cell_type": "code",
   "execution_count": null,
   "metadata": {},
   "outputs": [],
   "source": []
  },
  {
   "cell_type": "code",
   "execution_count": null,
   "metadata": {},
   "outputs": [],
   "source": []
  },
  {
   "cell_type": "code",
   "execution_count": null,
   "metadata": {},
   "outputs": [],
   "source": []
  }
 ],
 "metadata": {
  "kernelspec": {
   "display_name": "Python 3",
   "language": "python",
   "name": "python3"
  },
  "language_info": {
   "codemirror_mode": {
    "name": "ipython",
    "version": 3
   },
   "file_extension": ".py",
   "mimetype": "text/x-python",
   "name": "python",
   "nbconvert_exporter": "python",
   "pygments_lexer": "ipython3",
   "version": "3.6.8"
  }
 },
 "nbformat": 4,
 "nbformat_minor": 2
}
