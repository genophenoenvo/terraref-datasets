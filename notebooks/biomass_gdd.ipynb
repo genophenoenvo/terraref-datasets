{
 "cells": [
  {
   "cell_type": "markdown",
   "metadata": {},
   "source": [
    "## Phenotype Table I\n",
    "December 2019\n",
    "#### Traits\n",
    "* Season 4 biomass at harvest\n",
    "    * `aboveground_dry_biomass`\n",
    "    * `aboveground_fresh_biomass`\n",
    "* Season 4 `growing_degree_days`\n",
    "\n",
    "#### Notes\n",
    "* one plot per row\n",
    "* 2017 daily weather station data downloaded from [MAC Weather Station](https://cals.arizona.edu/azmet/06.htm)\n",
    "    * raw data [description](https://cals.arizona.edu/azmet/raw2003.htm)\n",
    "    * `.csv` [gist](https://gist.github.com/MagicMilly/92785c81acdb703c40298230a7b84140)"
   ]
  },
  {
   "cell_type": "code",
   "execution_count": 1,
   "metadata": {},
   "outputs": [],
   "source": [
    "import datetime\n",
    "import pandas as pd\n",
    "import numpy as np"
   ]
  },
  {
   "cell_type": "code",
   "execution_count": 2,
   "metadata": {},
   "outputs": [
    {
     "name": "stdout",
     "output_type": "stream",
     "text": [
      "(372363, 39)\n"
     ]
    }
   ],
   "source": [
    "df_0 = pd.read_csv('../data/raw/mac_season_4.csv', low_memory=False)\n",
    "print(df_0.shape)\n",
    "# df_0.head()"
   ]
  },
  {
   "cell_type": "code",
   "execution_count": null,
   "metadata": {},
   "outputs": [],
   "source": []
  },
  {
   "cell_type": "markdown",
   "metadata": {},
   "source": [
    "### I. Set index to sitename \n",
    "* Maintain shape of dataframe\n",
    "* No grouping\n",
    "* Strip `E` and `W` from sitenames"
   ]
  },
  {
   "cell_type": "code",
   "execution_count": 3,
   "metadata": {},
   "outputs": [
    {
     "data": {
      "text/plain": [
       "(9460, 39)"
      ]
     },
     "execution_count": 3,
     "metadata": {},
     "output_type": "execute_result"
    }
   ],
   "source": [
    "e_w_subplots = df_0.loc[(df_0.sitename.str.endswith(' E')) | (df_0.sitename.str.endswith(' W'))]\n",
    "e_w_subplots.shape"
   ]
  },
  {
   "cell_type": "code",
   "execution_count": 4,
   "metadata": {},
   "outputs": [
    {
     "name": "stdout",
     "output_type": "stream",
     "text": [
      "Length of original sitename values list: 372363\n",
      "Length new sitename list: 372363\n",
      "Number of E and W subplots: 9460\n"
     ]
    }
   ],
   "source": [
    "new_sitenames = []\n",
    "e_w_counter = 0\n",
    "\n",
    "for site in df_0.sitename.values:\n",
    "    \n",
    "    if (site.endswith(' W')) | (site.endswith(' E')):\n",
    "        new_name = site[:-2]\n",
    "        new_sitenames.append(new_name)\n",
    "        e_w_counter += 1\n",
    "        \n",
    "    else:\n",
    "        new_sitenames.append(site)\n",
    "        \n",
    "print(f'Length of original sitename values list: {len(df_0.sitename.values)}')\n",
    "print(f'Length new sitename list: {len(new_sitenames)}')\n",
    "print(f'Number of E and W subplots: {e_w_counter}')"
   ]
  },
  {
   "cell_type": "code",
   "execution_count": 5,
   "metadata": {},
   "outputs": [
    {
     "name": "stdout",
     "output_type": "stream",
     "text": [
      "(372363, 40)\n"
     ]
    }
   ],
   "source": [
    "df_0['plot_name'] = new_sitenames\n",
    "print(df_0.shape)\n",
    "# df_0.head()"
   ]
  },
  {
   "cell_type": "code",
   "execution_count": 6,
   "metadata": {},
   "outputs": [
    {
     "name": "stdout",
     "output_type": "stream",
     "text": [
      "(372363, 39)\n"
     ]
    }
   ],
   "source": [
    "df_1 = df_0.set_index(keys='plot_name')\n",
    "print(df_1.shape)\n",
    "# df_1.head()"
   ]
  },
  {
   "cell_type": "code",
   "execution_count": 7,
   "metadata": {},
   "outputs": [
    {
     "name": "stdout",
     "output_type": "stream",
     "text": [
      "Number of unique plot names: 847\n"
     ]
    }
   ],
   "source": [
    "print(f'Number of unique plot names: {df_1.index.nunique()}')"
   ]
  },
  {
   "cell_type": "code",
   "execution_count": null,
   "metadata": {},
   "outputs": [],
   "source": []
  },
  {
   "cell_type": "markdown",
   "metadata": {},
   "source": [
    "### II. Biomass at harvest"
   ]
  },
  {
   "cell_type": "markdown",
   "metadata": {},
   "source": [
    "#### A. Aboveground dry biomass"
   ]
  },
  {
   "cell_type": "code",
   "execution_count": 85,
   "metadata": {},
   "outputs": [
    {
     "name": "stdout",
     "output_type": "stream",
     "text": [
      "Number of aboveground dry biomass values in dataset: 200\n",
      "Number of unique plots in biomass df: 199\n"
     ]
    }
   ],
   "source": [
    "dry_bio_values_only = df_1.loc[df_1.trait == 'aboveground_dry_biomass']\n",
    "print(f'Number of aboveground dry biomass values in dataset: {dry_bio_values_only.shape[0]}')\n",
    "print(f'Number of unique plots in biomass df: {dry_bio_values_only.index.nunique()}')"
   ]
  },
  {
   "cell_type": "code",
   "execution_count": 86,
   "metadata": {},
   "outputs": [],
   "source": [
    "# Identify the duplicate plot\n",
    "\n",
    "duplicates = bio_values_only[bio_values_only.index.duplicated(keep=False)]\n",
    "# duplicates"
   ]
  },
  {
   "cell_type": "code",
   "execution_count": 87,
   "metadata": {},
   "outputs": [
    {
     "name": "stdout",
     "output_type": "stream",
     "text": [
      "Index(['MAC Field Scanner Season 4 Range 20 Column 11'], dtype='object', name='plot_name')\n",
      "[10950.]\n"
     ]
    }
   ],
   "source": [
    "print(duplicates.index.unique())\n",
    "print(duplicates['mean'].unique())"
   ]
  },
  {
   "cell_type": "code",
   "execution_count": 88,
   "metadata": {},
   "outputs": [
    {
     "name": "stdout",
     "output_type": "stream",
     "text": [
      "Unnamed: 0: 72499\n",
      "Unnamed: 0: 279789\n",
      "n: nan\n",
      "n: nan\n",
      "statname: nan\n",
      "statname: nan\n",
      "stat: nan\n",
      "stat: nan\n",
      "notes: nan\n",
      "notes: nan\n",
      "entity: nan\n",
      "entity: nan\n"
     ]
    }
   ],
   "source": [
    "non_duplicate_columns = []\n",
    "\n",
    "for col in duplicates.columns:\n",
    "    \n",
    "    if duplicates.iloc[0][col] != duplicates.iloc[1][col]:\n",
    "        non_duplicate_columns.append(col)\n",
    "        \n",
    "# print(non_duplicate_columns)\n",
    "\n",
    "for col in non_duplicate_columns:\n",
    "    print(f'{col}: {duplicates.iloc[0][col]}')\n",
    "    print(f'{col}: {duplicates.iloc[1][col]}')"
   ]
  },
  {
   "cell_type": "markdown",
   "metadata": {},
   "source": [
    "#### Create new column `aboveground_dry_biomass` and populate with values\n",
    "* Null values will be represented by an empty string (after calculations)"
   ]
  },
  {
   "cell_type": "code",
   "execution_count": 13,
   "metadata": {},
   "outputs": [],
   "source": [
    "# Create new empty column\n",
    "\n",
    "df_1['aboveground_dry_biomass'] = np.nan"
   ]
  },
  {
   "cell_type": "code",
   "execution_count": 14,
   "metadata": {},
   "outputs": [],
   "source": [
    "df_2 = df_1.copy()\n",
    "# df_2.head()"
   ]
  },
  {
   "cell_type": "code",
   "execution_count": 15,
   "metadata": {},
   "outputs": [],
   "source": [
    "# for rows where trait == aboveground_dry_biomass, use that value to populate new aboveground_dry_biomass column\n",
    "\n",
    "for index, row in df_2.iterrows():            \n",
    "    \n",
    "        if row['trait'] == 'aboveground_dry_biomass':\n",
    "            df_2.loc[index, ['aboveground_dry_biomass']] = row['mean']"
   ]
  },
  {
   "cell_type": "markdown",
   "metadata": {},
   "source": [
    "#### B. Aboveground fresh biomass"
   ]
  },
  {
   "cell_type": "code",
   "execution_count": 89,
   "metadata": {},
   "outputs": [
    {
     "name": "stdout",
     "output_type": "stream",
     "text": [
      "Number of aboveground fresh biomass values in dataset: 543\n",
      "Number of unique plots in biomass df: 543\n"
     ]
    }
   ],
   "source": [
    "fresh_bio_values_only = df_1.loc[df_1.trait == 'aboveground_fresh_biomass']\n",
    "print(f'Number of aboveground fresh biomass values in dataset: {fresh_bio_values_only.shape[0]}')\n",
    "print(f'Number of unique plots in biomass df: {fresh_bio_values_only.index.nunique()}')"
   ]
  },
  {
   "cell_type": "markdown",
   "metadata": {},
   "source": [
    "#### Create new column `aboveground_fresh_biomass` and populate with values\n",
    "* Null values will be represented by an empty string (after calculations)"
   ]
  },
  {
   "cell_type": "code",
   "execution_count": 92,
   "metadata": {},
   "outputs": [],
   "source": [
    "# Create new empty column\n",
    "\n",
    "df_2['aboveground_fresh_biomass'] = np.nan"
   ]
  },
  {
   "cell_type": "code",
   "execution_count": 93,
   "metadata": {},
   "outputs": [],
   "source": [
    "df_3 = df_2.copy()"
   ]
  },
  {
   "cell_type": "code",
   "execution_count": 94,
   "metadata": {},
   "outputs": [],
   "source": [
    "# for rows where trait == aboveground_fresh_biomass, use that value to populate new aboveground_fresh_biomass column\n",
    "\n",
    "for index, row in df_3.iterrows():            \n",
    "    \n",
    "        if row['trait'] == 'aboveground_fresh_biomass':\n",
    "            df_3.loc[index, ['aboveground_fresh_biomass']] = row['mean']"
   ]
  },
  {
   "cell_type": "code",
   "execution_count": null,
   "metadata": {},
   "outputs": [],
   "source": []
  },
  {
   "cell_type": "markdown",
   "metadata": {},
   "source": [
    "### III. Drop columns"
   ]
  },
  {
   "cell_type": "code",
   "execution_count": 96,
   "metadata": {},
   "outputs": [
    {
     "data": {
      "text/plain": [
       "Index(['Unnamed: 0', 'checked', 'result_type', 'id', 'citation_id', 'site_id',\n",
       "       'treatment_id', 'sitename', 'city', 'lat', 'lon', 'scientificname',\n",
       "       'commonname', 'genus', 'species_id', 'cultivar_id', 'author',\n",
       "       'citation_year', 'treatment', 'date', 'time', 'raw_date', 'month',\n",
       "       'year', 'dateloc', 'trait', 'trait_description', 'mean', 'units', 'n',\n",
       "       'statname', 'stat', 'notes', 'access_level', 'cultivar', 'entity',\n",
       "       'method_name', 'view_url', 'edit_url', 'aboveground_dry_biomass',\n",
       "       'aboveground_fresh_biomass'],\n",
       "      dtype='object')"
      ]
     },
     "execution_count": 96,
     "metadata": {},
     "output_type": "execute_result"
    }
   ],
   "source": [
    "df_3.columns"
   ]
  },
  {
   "cell_type": "code",
   "execution_count": 97,
   "metadata": {},
   "outputs": [],
   "source": [
    "cols_to_drop = ['Unnamed: 0', 'checked', 'site_id', 'result_type', 'id', 'citation_id', 'treatment_id', 'sitename', 'city', \n",
    "                'lat', 'lon', 'scientificname', 'commonname', 'genus', 'species_id', 'author', 'citation_year', \n",
    "                'treatment', 'time', 'raw_date', 'month', 'year', 'dateloc', 'trait', 'trait_description', 'mean', \n",
    "                'units', 'n', 'statname', 'stat', 'notes', 'access_level', 'entity', 'method_name', 'view_url', \n",
    "                'edit_url',]"
   ]
  },
  {
   "cell_type": "code",
   "execution_count": 98,
   "metadata": {},
   "outputs": [
    {
     "data": {
      "text/html": [
       "<div>\n",
       "<style scoped>\n",
       "    .dataframe tbody tr th:only-of-type {\n",
       "        vertical-align: middle;\n",
       "    }\n",
       "\n",
       "    .dataframe tbody tr th {\n",
       "        vertical-align: top;\n",
       "    }\n",
       "\n",
       "    .dataframe thead th {\n",
       "        text-align: right;\n",
       "    }\n",
       "</style>\n",
       "<table border=\"1\" class=\"dataframe\">\n",
       "  <thead>\n",
       "    <tr style=\"text-align: right;\">\n",
       "      <th></th>\n",
       "      <th>cultivar_id</th>\n",
       "      <th>date</th>\n",
       "      <th>cultivar</th>\n",
       "      <th>aboveground_dry_biomass</th>\n",
       "      <th>aboveground_fresh_biomass</th>\n",
       "    </tr>\n",
       "    <tr>\n",
       "      <th>plot_name</th>\n",
       "      <th></th>\n",
       "      <th></th>\n",
       "      <th></th>\n",
       "      <th></th>\n",
       "      <th></th>\n",
       "    </tr>\n",
       "  </thead>\n",
       "  <tbody>\n",
       "    <tr>\n",
       "      <th>MAC Field Scanner Season 4 Range 11 Column 5</th>\n",
       "      <td>6000000730</td>\n",
       "      <td>2017 Jun 14 (America/Phoenix)</td>\n",
       "      <td>PI181083</td>\n",
       "      <td>NaN</td>\n",
       "      <td>NaN</td>\n",
       "    </tr>\n",
       "    <tr>\n",
       "      <th>MAC Field Scanner Season 4 Range 11 Column 6</th>\n",
       "      <td>6000000231</td>\n",
       "      <td>2017 Jun 14 (America/Phoenix)</td>\n",
       "      <td>PI564163</td>\n",
       "      <td>NaN</td>\n",
       "      <td>37520.0</td>\n",
       "    </tr>\n",
       "    <tr>\n",
       "      <th>MAC Field Scanner Season 4 Range 11 Column 9</th>\n",
       "      <td>6000000860</td>\n",
       "      <td>2017 Jun 14 (America/Phoenix)</td>\n",
       "      <td>PI52606</td>\n",
       "      <td>NaN</td>\n",
       "      <td>74180.0</td>\n",
       "    </tr>\n",
       "    <tr>\n",
       "      <th>MAC Field Scanner Season 4 Range 11 Column 11</th>\n",
       "      <td>6000000863</td>\n",
       "      <td>2017 Jun 14 (America/Phoenix)</td>\n",
       "      <td>PI533792</td>\n",
       "      <td>NaN</td>\n",
       "      <td>23020.0</td>\n",
       "    </tr>\n",
       "    <tr>\n",
       "      <th>MAC Field Scanner Season 4 Range 11 Column 14</th>\n",
       "      <td>6000000869</td>\n",
       "      <td>2017 Jun 14 (America/Phoenix)</td>\n",
       "      <td>PI535794</td>\n",
       "      <td>NaN</td>\n",
       "      <td>NaN</td>\n",
       "    </tr>\n",
       "  </tbody>\n",
       "</table>\n",
       "</div>"
      ],
      "text/plain": [
       "                                               cultivar_id  \\\n",
       "plot_name                                                    \n",
       "MAC Field Scanner Season 4 Range 11 Column 5    6000000730   \n",
       "MAC Field Scanner Season 4 Range 11 Column 6    6000000231   \n",
       "MAC Field Scanner Season 4 Range 11 Column 9    6000000860   \n",
       "MAC Field Scanner Season 4 Range 11 Column 11   6000000863   \n",
       "MAC Field Scanner Season 4 Range 11 Column 14   6000000869   \n",
       "\n",
       "                                                                        date  \\\n",
       "plot_name                                                                      \n",
       "MAC Field Scanner Season 4 Range 11 Column 5   2017 Jun 14 (America/Phoenix)   \n",
       "MAC Field Scanner Season 4 Range 11 Column 6   2017 Jun 14 (America/Phoenix)   \n",
       "MAC Field Scanner Season 4 Range 11 Column 9   2017 Jun 14 (America/Phoenix)   \n",
       "MAC Field Scanner Season 4 Range 11 Column 11  2017 Jun 14 (America/Phoenix)   \n",
       "MAC Field Scanner Season 4 Range 11 Column 14  2017 Jun 14 (America/Phoenix)   \n",
       "\n",
       "                                               cultivar  \\\n",
       "plot_name                                                 \n",
       "MAC Field Scanner Season 4 Range 11 Column 5   PI181083   \n",
       "MAC Field Scanner Season 4 Range 11 Column 6   PI564163   \n",
       "MAC Field Scanner Season 4 Range 11 Column 9    PI52606   \n",
       "MAC Field Scanner Season 4 Range 11 Column 11  PI533792   \n",
       "MAC Field Scanner Season 4 Range 11 Column 14  PI535794   \n",
       "\n",
       "                                               aboveground_dry_biomass  \\\n",
       "plot_name                                                                \n",
       "MAC Field Scanner Season 4 Range 11 Column 5                       NaN   \n",
       "MAC Field Scanner Season 4 Range 11 Column 6                       NaN   \n",
       "MAC Field Scanner Season 4 Range 11 Column 9                       NaN   \n",
       "MAC Field Scanner Season 4 Range 11 Column 11                      NaN   \n",
       "MAC Field Scanner Season 4 Range 11 Column 14                      NaN   \n",
       "\n",
       "                                               aboveground_fresh_biomass  \n",
       "plot_name                                                                 \n",
       "MAC Field Scanner Season 4 Range 11 Column 5                         NaN  \n",
       "MAC Field Scanner Season 4 Range 11 Column 6                     37520.0  \n",
       "MAC Field Scanner Season 4 Range 11 Column 9                     74180.0  \n",
       "MAC Field Scanner Season 4 Range 11 Column 11                    23020.0  \n",
       "MAC Field Scanner Season 4 Range 11 Column 14                        NaN  "
      ]
     },
     "execution_count": 98,
     "metadata": {},
     "output_type": "execute_result"
    }
   ],
   "source": [
    "df_4 = df_3.drop(labels=cols_to_drop, axis=1)\n",
    "# df_4.head()"
   ]
  },
  {
   "cell_type": "markdown",
   "metadata": {},
   "source": [
    "#### A. Sort by date so that only the first duplicate `plot_name` (latest date) will be kept"
   ]
  },
  {
   "cell_type": "code",
   "execution_count": 99,
   "metadata": {},
   "outputs": [
    {
     "data": {
      "text/plain": [
       "cultivar_id                    int64\n",
       "date                          object\n",
       "cultivar                      object\n",
       "aboveground_dry_biomass      float64\n",
       "aboveground_fresh_biomass    float64\n",
       "dtype: object"
      ]
     },
     "execution_count": 99,
     "metadata": {},
     "output_type": "execute_result"
    }
   ],
   "source": [
    "df_4.dtypes"
   ]
  },
  {
   "cell_type": "code",
   "execution_count": 101,
   "metadata": {},
   "outputs": [
    {
     "data": {
      "text/html": [
       "<div>\n",
       "<style scoped>\n",
       "    .dataframe tbody tr th:only-of-type {\n",
       "        vertical-align: middle;\n",
       "    }\n",
       "\n",
       "    .dataframe tbody tr th {\n",
       "        vertical-align: top;\n",
       "    }\n",
       "\n",
       "    .dataframe thead th {\n",
       "        text-align: right;\n",
       "    }\n",
       "</style>\n",
       "<table border=\"1\" class=\"dataframe\">\n",
       "  <thead>\n",
       "    <tr style=\"text-align: right;\">\n",
       "      <th></th>\n",
       "      <th>cultivar_id</th>\n",
       "      <th>date</th>\n",
       "      <th>cultivar</th>\n",
       "      <th>aboveground_dry_biomass</th>\n",
       "      <th>aboveground_fresh_biomass</th>\n",
       "    </tr>\n",
       "    <tr>\n",
       "      <th>plot_name</th>\n",
       "      <th></th>\n",
       "      <th></th>\n",
       "      <th></th>\n",
       "      <th></th>\n",
       "      <th></th>\n",
       "    </tr>\n",
       "  </thead>\n",
       "  <tbody>\n",
       "    <tr>\n",
       "      <th>MAC Field Scanner Season 4 Range 18 Column 13</th>\n",
       "      <td>6000000996</td>\n",
       "      <td>2017 Sep 15 (America/Phoenix)</td>\n",
       "      <td>PI641817</td>\n",
       "      <td>NaN</td>\n",
       "      <td>75880.0</td>\n",
       "    </tr>\n",
       "    <tr>\n",
       "      <th>MAC Field Scanner Season 4 Range 16 Column 13</th>\n",
       "      <td>6000000465</td>\n",
       "      <td>2017 Sep 15 (America/Phoenix)</td>\n",
       "      <td>PI146890</td>\n",
       "      <td>NaN</td>\n",
       "      <td>82700.0</td>\n",
       "    </tr>\n",
       "    <tr>\n",
       "      <th>MAC Field Scanner Season 4 Range 12 Column 14</th>\n",
       "      <td>6000000958</td>\n",
       "      <td>2017 Sep 15 (America/Phoenix)</td>\n",
       "      <td>PI570109</td>\n",
       "      <td>NaN</td>\n",
       "      <td>47750.0</td>\n",
       "    </tr>\n",
       "    <tr>\n",
       "      <th>MAC Field Scanner Season 4 Range 9 Column 13</th>\n",
       "      <td>6000000756</td>\n",
       "      <td>2017 Sep 15 (America/Phoenix)</td>\n",
       "      <td>PI276837</td>\n",
       "      <td>NaN</td>\n",
       "      <td>149200.0</td>\n",
       "    </tr>\n",
       "    <tr>\n",
       "      <th>MAC Field Scanner Season 4 Range 13 Column 12</th>\n",
       "      <td>6000000853</td>\n",
       "      <td>2017 Sep 15 (America/Phoenix)</td>\n",
       "      <td>PI514456</td>\n",
       "      <td>NaN</td>\n",
       "      <td>63950.0</td>\n",
       "    </tr>\n",
       "  </tbody>\n",
       "</table>\n",
       "</div>"
      ],
      "text/plain": [
       "                                               cultivar_id  \\\n",
       "plot_name                                                    \n",
       "MAC Field Scanner Season 4 Range 18 Column 13   6000000996   \n",
       "MAC Field Scanner Season 4 Range 16 Column 13   6000000465   \n",
       "MAC Field Scanner Season 4 Range 12 Column 14   6000000958   \n",
       "MAC Field Scanner Season 4 Range 9 Column 13    6000000756   \n",
       "MAC Field Scanner Season 4 Range 13 Column 12   6000000853   \n",
       "\n",
       "                                                                        date  \\\n",
       "plot_name                                                                      \n",
       "MAC Field Scanner Season 4 Range 18 Column 13  2017 Sep 15 (America/Phoenix)   \n",
       "MAC Field Scanner Season 4 Range 16 Column 13  2017 Sep 15 (America/Phoenix)   \n",
       "MAC Field Scanner Season 4 Range 12 Column 14  2017 Sep 15 (America/Phoenix)   \n",
       "MAC Field Scanner Season 4 Range 9 Column 13   2017 Sep 15 (America/Phoenix)   \n",
       "MAC Field Scanner Season 4 Range 13 Column 12  2017 Sep 15 (America/Phoenix)   \n",
       "\n",
       "                                               cultivar  \\\n",
       "plot_name                                                 \n",
       "MAC Field Scanner Season 4 Range 18 Column 13  PI641817   \n",
       "MAC Field Scanner Season 4 Range 16 Column 13  PI146890   \n",
       "MAC Field Scanner Season 4 Range 12 Column 14  PI570109   \n",
       "MAC Field Scanner Season 4 Range 9 Column 13   PI276837   \n",
       "MAC Field Scanner Season 4 Range 13 Column 12  PI514456   \n",
       "\n",
       "                                               aboveground_dry_biomass  \\\n",
       "plot_name                                                                \n",
       "MAC Field Scanner Season 4 Range 18 Column 13                      NaN   \n",
       "MAC Field Scanner Season 4 Range 16 Column 13                      NaN   \n",
       "MAC Field Scanner Season 4 Range 12 Column 14                      NaN   \n",
       "MAC Field Scanner Season 4 Range 9 Column 13                       NaN   \n",
       "MAC Field Scanner Season 4 Range 13 Column 12                      NaN   \n",
       "\n",
       "                                               aboveground_fresh_biomass  \n",
       "plot_name                                                                 \n",
       "MAC Field Scanner Season 4 Range 18 Column 13                    75880.0  \n",
       "MAC Field Scanner Season 4 Range 16 Column 13                    82700.0  \n",
       "MAC Field Scanner Season 4 Range 12 Column 14                    47750.0  \n",
       "MAC Field Scanner Season 4 Range 9 Column 13                    149200.0  \n",
       "MAC Field Scanner Season 4 Range 13 Column 12                    63950.0  "
      ]
     },
     "execution_count": 101,
     "metadata": {},
     "output_type": "execute_result"
    }
   ],
   "source": [
    "df_5 = df_4.sort_values(by=['date'], ascending=False)\n",
    "# df_5.head()"
   ]
  },
  {
   "cell_type": "code",
   "execution_count": 102,
   "metadata": {},
   "outputs": [
    {
     "name": "stdout",
     "output_type": "stream",
     "text": [
      "Number of unique plot names: 847\n",
      " \n",
      "Shape of original data: (372363, 40)\n",
      "Shape of current processed data with dropped columns: (372363, 5)\n"
     ]
    }
   ],
   "source": [
    "print(f'Number of unique plot names: {df_5.index.nunique()}')\n",
    "print(' ')\n",
    "print(f'Shape of original data: {df_0.shape}')\n",
    "print(f'Shape of current processed data with dropped columns: {df_5.shape}')"
   ]
  },
  {
   "cell_type": "markdown",
   "metadata": {},
   "source": [
    "#### B. Drop duplicates by\n",
    "* `plot_name`\n",
    "* `cultivar_id`\n",
    "* `cultivar`\n",
    "* `aboveground_dry_biomass`\n",
    "* `aboveground_fresh_biomass`\n",
    "\n",
    "#### Notes\n",
    "* Only the latest (harvest) date should be used since df sorted by descending date\n",
    "* reset index so that duplicates can be checked in axis 1 columns only, rather than having to check for both axes"
   ]
  },
  {
   "cell_type": "code",
   "execution_count": 103,
   "metadata": {},
   "outputs": [
    {
     "data": {
      "text/html": [
       "<div>\n",
       "<style scoped>\n",
       "    .dataframe tbody tr th:only-of-type {\n",
       "        vertical-align: middle;\n",
       "    }\n",
       "\n",
       "    .dataframe tbody tr th {\n",
       "        vertical-align: top;\n",
       "    }\n",
       "\n",
       "    .dataframe thead th {\n",
       "        text-align: right;\n",
       "    }\n",
       "</style>\n",
       "<table border=\"1\" class=\"dataframe\">\n",
       "  <thead>\n",
       "    <tr style=\"text-align: right;\">\n",
       "      <th></th>\n",
       "      <th>plot_name</th>\n",
       "      <th>cultivar_id</th>\n",
       "      <th>date</th>\n",
       "      <th>cultivar</th>\n",
       "      <th>aboveground_dry_biomass</th>\n",
       "      <th>aboveground_fresh_biomass</th>\n",
       "    </tr>\n",
       "  </thead>\n",
       "  <tbody>\n",
       "    <tr>\n",
       "      <th>0</th>\n",
       "      <td>MAC Field Scanner Season 4 Range 18 Column 13</td>\n",
       "      <td>6000000996</td>\n",
       "      <td>2017 Sep 15 (America/Phoenix)</td>\n",
       "      <td>PI641817</td>\n",
       "      <td>NaN</td>\n",
       "      <td>75880.0</td>\n",
       "    </tr>\n",
       "    <tr>\n",
       "      <th>1</th>\n",
       "      <td>MAC Field Scanner Season 4 Range 16 Column 13</td>\n",
       "      <td>6000000465</td>\n",
       "      <td>2017 Sep 15 (America/Phoenix)</td>\n",
       "      <td>PI146890</td>\n",
       "      <td>NaN</td>\n",
       "      <td>82700.0</td>\n",
       "    </tr>\n",
       "    <tr>\n",
       "      <th>2</th>\n",
       "      <td>MAC Field Scanner Season 4 Range 12 Column 14</td>\n",
       "      <td>6000000958</td>\n",
       "      <td>2017 Sep 15 (America/Phoenix)</td>\n",
       "      <td>PI570109</td>\n",
       "      <td>NaN</td>\n",
       "      <td>47750.0</td>\n",
       "    </tr>\n",
       "    <tr>\n",
       "      <th>3</th>\n",
       "      <td>MAC Field Scanner Season 4 Range 9 Column 13</td>\n",
       "      <td>6000000756</td>\n",
       "      <td>2017 Sep 15 (America/Phoenix)</td>\n",
       "      <td>PI276837</td>\n",
       "      <td>NaN</td>\n",
       "      <td>149200.0</td>\n",
       "    </tr>\n",
       "    <tr>\n",
       "      <th>4</th>\n",
       "      <td>MAC Field Scanner Season 4 Range 13 Column 12</td>\n",
       "      <td>6000000853</td>\n",
       "      <td>2017 Sep 15 (America/Phoenix)</td>\n",
       "      <td>PI514456</td>\n",
       "      <td>NaN</td>\n",
       "      <td>63950.0</td>\n",
       "    </tr>\n",
       "  </tbody>\n",
       "</table>\n",
       "</div>"
      ],
      "text/plain": [
       "                                       plot_name  cultivar_id  \\\n",
       "0  MAC Field Scanner Season 4 Range 18 Column 13   6000000996   \n",
       "1  MAC Field Scanner Season 4 Range 16 Column 13   6000000465   \n",
       "2  MAC Field Scanner Season 4 Range 12 Column 14   6000000958   \n",
       "3   MAC Field Scanner Season 4 Range 9 Column 13   6000000756   \n",
       "4  MAC Field Scanner Season 4 Range 13 Column 12   6000000853   \n",
       "\n",
       "                            date  cultivar  aboveground_dry_biomass  \\\n",
       "0  2017 Sep 15 (America/Phoenix)  PI641817                      NaN   \n",
       "1  2017 Sep 15 (America/Phoenix)  PI146890                      NaN   \n",
       "2  2017 Sep 15 (America/Phoenix)  PI570109                      NaN   \n",
       "3  2017 Sep 15 (America/Phoenix)  PI276837                      NaN   \n",
       "4  2017 Sep 15 (America/Phoenix)  PI514456                      NaN   \n",
       "\n",
       "   aboveground_fresh_biomass  \n",
       "0                    75880.0  \n",
       "1                    82700.0  \n",
       "2                    47750.0  \n",
       "3                   149200.0  \n",
       "4                    63950.0  "
      ]
     },
     "execution_count": 103,
     "metadata": {},
     "output_type": "execute_result"
    }
   ],
   "source": [
    "df_6 = df_5.reset_index()\n",
    "# df_6.head()"
   ]
  },
  {
   "cell_type": "code",
   "execution_count": 104,
   "metadata": {},
   "outputs": [
    {
     "data": {
      "text/html": [
       "<div>\n",
       "<style scoped>\n",
       "    .dataframe tbody tr th:only-of-type {\n",
       "        vertical-align: middle;\n",
       "    }\n",
       "\n",
       "    .dataframe tbody tr th {\n",
       "        vertical-align: top;\n",
       "    }\n",
       "\n",
       "    .dataframe thead th {\n",
       "        text-align: right;\n",
       "    }\n",
       "</style>\n",
       "<table border=\"1\" class=\"dataframe\">\n",
       "  <thead>\n",
       "    <tr style=\"text-align: right;\">\n",
       "      <th></th>\n",
       "      <th>plot_name</th>\n",
       "      <th>cultivar_id</th>\n",
       "      <th>date</th>\n",
       "      <th>cultivar</th>\n",
       "      <th>aboveground_dry_biomass</th>\n",
       "      <th>aboveground_fresh_biomass</th>\n",
       "    </tr>\n",
       "  </thead>\n",
       "  <tbody>\n",
       "    <tr>\n",
       "      <th>0</th>\n",
       "      <td>MAC Field Scanner Season 4 Range 18 Column 13</td>\n",
       "      <td>6000000996</td>\n",
       "      <td>2017 Sep 15 (America/Phoenix)</td>\n",
       "      <td>PI641817</td>\n",
       "      <td>NaN</td>\n",
       "      <td>75880.0</td>\n",
       "    </tr>\n",
       "    <tr>\n",
       "      <th>1</th>\n",
       "      <td>MAC Field Scanner Season 4 Range 16 Column 13</td>\n",
       "      <td>6000000465</td>\n",
       "      <td>2017 Sep 15 (America/Phoenix)</td>\n",
       "      <td>PI146890</td>\n",
       "      <td>NaN</td>\n",
       "      <td>82700.0</td>\n",
       "    </tr>\n",
       "    <tr>\n",
       "      <th>2</th>\n",
       "      <td>MAC Field Scanner Season 4 Range 12 Column 14</td>\n",
       "      <td>6000000958</td>\n",
       "      <td>2017 Sep 15 (America/Phoenix)</td>\n",
       "      <td>PI570109</td>\n",
       "      <td>NaN</td>\n",
       "      <td>47750.0</td>\n",
       "    </tr>\n",
       "    <tr>\n",
       "      <th>3</th>\n",
       "      <td>MAC Field Scanner Season 4 Range 9 Column 13</td>\n",
       "      <td>6000000756</td>\n",
       "      <td>2017 Sep 15 (America/Phoenix)</td>\n",
       "      <td>PI276837</td>\n",
       "      <td>NaN</td>\n",
       "      <td>149200.0</td>\n",
       "    </tr>\n",
       "    <tr>\n",
       "      <th>4</th>\n",
       "      <td>MAC Field Scanner Season 4 Range 13 Column 12</td>\n",
       "      <td>6000000853</td>\n",
       "      <td>2017 Sep 15 (America/Phoenix)</td>\n",
       "      <td>PI514456</td>\n",
       "      <td>NaN</td>\n",
       "      <td>63950.0</td>\n",
       "    </tr>\n",
       "  </tbody>\n",
       "</table>\n",
       "</div>"
      ],
      "text/plain": [
       "                                       plot_name  cultivar_id  \\\n",
       "0  MAC Field Scanner Season 4 Range 18 Column 13   6000000996   \n",
       "1  MAC Field Scanner Season 4 Range 16 Column 13   6000000465   \n",
       "2  MAC Field Scanner Season 4 Range 12 Column 14   6000000958   \n",
       "3   MAC Field Scanner Season 4 Range 9 Column 13   6000000756   \n",
       "4  MAC Field Scanner Season 4 Range 13 Column 12   6000000853   \n",
       "\n",
       "                            date  cultivar  aboveground_dry_biomass  \\\n",
       "0  2017 Sep 15 (America/Phoenix)  PI641817                      NaN   \n",
       "1  2017 Sep 15 (America/Phoenix)  PI146890                      NaN   \n",
       "2  2017 Sep 15 (America/Phoenix)  PI570109                      NaN   \n",
       "3  2017 Sep 15 (America/Phoenix)  PI276837                      NaN   \n",
       "4  2017 Sep 15 (America/Phoenix)  PI514456                      NaN   \n",
       "\n",
       "   aboveground_fresh_biomass  \n",
       "0                    75880.0  \n",
       "1                    82700.0  \n",
       "2                    47750.0  \n",
       "3                   149200.0  \n",
       "4                    63950.0  "
      ]
     },
     "execution_count": 104,
     "metadata": {},
     "output_type": "execute_result"
    }
   ],
   "source": [
    "df_7 = df_6.drop_duplicates(subset=['plot_name', 'cultivar_id', 'cultivar', 'aboveground_dry_biomass',\n",
    "                                   'aboveground_fresh_biomass'], keep='first')\n",
    "df_7.head()"
   ]
  },
  {
   "cell_type": "code",
   "execution_count": 105,
   "metadata": {},
   "outputs": [
    {
     "name": "stdout",
     "output_type": "stream",
     "text": [
      "Number of unique plot names: 847\n",
      "Number of rows after duplicates dropped: 847\n"
     ]
    }
   ],
   "source": [
    "print(f'Number of unique plot names: {df_4.index.nunique()}')\n",
    "print(f'Number of rows after duplicates dropped: {df_7.shape[0]}')"
   ]
  },
  {
   "cell_type": "code",
   "execution_count": 106,
   "metadata": {},
   "outputs": [
    {
     "data": {
      "text/plain": [
       "plot_name                      0\n",
       "cultivar_id                    0\n",
       "date                           0\n",
       "cultivar                       0\n",
       "aboveground_dry_biomass      648\n",
       "aboveground_fresh_biomass    304\n",
       "dtype: int64"
      ]
     },
     "execution_count": 106,
     "metadata": {},
     "output_type": "execute_result"
    }
   ],
   "source": [
    "# check number of null values\n",
    "\n",
    "df_7.isnull().sum()"
   ]
  },
  {
   "cell_type": "code",
   "execution_count": 108,
   "metadata": {},
   "outputs": [
    {
     "data": {
      "text/plain": [
       "(547, 6)"
      ]
     },
     "execution_count": 108,
     "metadata": {},
     "output_type": "execute_result"
    }
   ],
   "source": [
    "# check proper dates - harvest dates for non-null values should be between 2017-9-10 to 2017-9-15 (Arizona dates)\n",
    "# the raw harvest UTC dates in the metadata are between 2017-09-11 to 2017-9-16\n",
    "\n",
    "non_nulls = df_7.loc[(df_6.aboveground_dry_biomass.notna()) | (df_7.aboveground_fresh_biomass.notna())]\n",
    "non_nulls.shape"
   ]
  },
  {
   "cell_type": "code",
   "execution_count": 109,
   "metadata": {},
   "outputs": [
    {
     "name": "stdout",
     "output_type": "stream",
     "text": [
      "Earliest date for biomass harvest: 2017 Sep 10 (America/Phoenix)\n",
      "Latest date for biomass harvest: 2017 Sep 15 (America/Phoenix)\n"
     ]
    }
   ],
   "source": [
    "print(f'Earliest date for biomass harvest: {non_nulls.date.min()}')\n",
    "print(f'Latest date for biomass harvest: {non_nulls.date.max()}')"
   ]
  },
  {
   "cell_type": "markdown",
   "metadata": {},
   "source": [
    "#### C. Re-order columns\n",
    "* Uncomment line based on index as `plot_name` or not"
   ]
  },
  {
   "cell_type": "code",
   "execution_count": 168,
   "metadata": {},
   "outputs": [],
   "source": [
    "new_col_order = ['plot_name', 'cultivar', 'cultivar_id', 'date', 'aboveground_dry_biomass', 'aboveground_fresh_biomass']\n",
    "\n",
    "# to set plot_name as index\n",
    "# df_8 = pd.DataFrame(data=df_7, columns=new_col_order, index=df_7.plot_name)\n",
    "\n",
    "# to keep working with columns without setting index\n",
    "# df_8 = pd.DataFrame(data=df_7, columns=new_col_order)"
   ]
  },
  {
   "cell_type": "code",
   "execution_count": null,
   "metadata": {},
   "outputs": [],
   "source": []
  },
  {
   "cell_type": "markdown",
   "metadata": {},
   "source": [
    "### IV. Growing Degree Days\n",
    "* Air temperature values are in [Celsius](https://cals.arizona.edu/azmet/raw2003.htm)"
   ]
  },
  {
   "cell_type": "code",
   "execution_count": 113,
   "metadata": {},
   "outputs": [
    {
     "data": {
      "text/html": [
       "<div>\n",
       "<style scoped>\n",
       "    .dataframe tbody tr th:only-of-type {\n",
       "        vertical-align: middle;\n",
       "    }\n",
       "\n",
       "    .dataframe tbody tr th {\n",
       "        vertical-align: top;\n",
       "    }\n",
       "\n",
       "    .dataframe thead th {\n",
       "        text-align: right;\n",
       "    }\n",
       "</style>\n",
       "<table border=\"1\" class=\"dataframe\">\n",
       "  <thead>\n",
       "    <tr style=\"text-align: right;\">\n",
       "      <th></th>\n",
       "      <th>year</th>\n",
       "      <th>day_of_year</th>\n",
       "      <th>station_number</th>\n",
       "      <th>air_temp_max</th>\n",
       "      <th>air_temp_min</th>\n",
       "      <th>air_temp_mean</th>\n",
       "      <th>rh_max</th>\n",
       "      <th>rh_min</th>\n",
       "      <th>rh_mean</th>\n",
       "      <th>vpd_mean</th>\n",
       "      <th>...</th>\n",
       "      <th>wind_speed_mean</th>\n",
       "      <th>wind_vector_magnitude</th>\n",
       "      <th>wind_vector_direction</th>\n",
       "      <th>wind_direction_std</th>\n",
       "      <th>max_wind_speed</th>\n",
       "      <th>heat_units</th>\n",
       "      <th>eto_azmet</th>\n",
       "      <th>eto_p_m</th>\n",
       "      <th>vapor_pressure_mean</th>\n",
       "      <th>dewpoint_mean</th>\n",
       "    </tr>\n",
       "  </thead>\n",
       "  <tbody>\n",
       "    <tr>\n",
       "      <th>0</th>\n",
       "      <td>2017</td>\n",
       "      <td>1</td>\n",
       "      <td>6</td>\n",
       "      <td>13.6</td>\n",
       "      <td>9.3</td>\n",
       "      <td>11.8</td>\n",
       "      <td>92.7</td>\n",
       "      <td>69.2</td>\n",
       "      <td>83.5</td>\n",
       "      <td>0.23</td>\n",
       "      <td>...</td>\n",
       "      <td>3.5</td>\n",
       "      <td>2.6</td>\n",
       "      <td>188</td>\n",
       "      <td>43</td>\n",
       "      <td>10.9</td>\n",
       "      <td>0.2</td>\n",
       "      <td>1.0</td>\n",
       "      <td>1.2</td>\n",
       "      <td>1.16</td>\n",
       "      <td>9.0</td>\n",
       "    </tr>\n",
       "    <tr>\n",
       "      <th>1</th>\n",
       "      <td>2017</td>\n",
       "      <td>2</td>\n",
       "      <td>6</td>\n",
       "      <td>14.9</td>\n",
       "      <td>7.2</td>\n",
       "      <td>10.5</td>\n",
       "      <td>87.7</td>\n",
       "      <td>44.7</td>\n",
       "      <td>71.4</td>\n",
       "      <td>0.39</td>\n",
       "      <td>...</td>\n",
       "      <td>2.2</td>\n",
       "      <td>1.5</td>\n",
       "      <td>129</td>\n",
       "      <td>44</td>\n",
       "      <td>5.8</td>\n",
       "      <td>0.5</td>\n",
       "      <td>1.0</td>\n",
       "      <td>1.6</td>\n",
       "      <td>0.89</td>\n",
       "      <td>5.3</td>\n",
       "    </tr>\n",
       "    <tr>\n",
       "      <th>2</th>\n",
       "      <td>2017</td>\n",
       "      <td>3</td>\n",
       "      <td>6</td>\n",
       "      <td>13.9</td>\n",
       "      <td>3.2</td>\n",
       "      <td>9.0</td>\n",
       "      <td>97.0</td>\n",
       "      <td>60.6</td>\n",
       "      <td>81.9</td>\n",
       "      <td>0.24</td>\n",
       "      <td>...</td>\n",
       "      <td>1.0</td>\n",
       "      <td>0.1</td>\n",
       "      <td>349</td>\n",
       "      <td>78</td>\n",
       "      <td>3.3</td>\n",
       "      <td>0.2</td>\n",
       "      <td>0.6</td>\n",
       "      <td>0.9</td>\n",
       "      <td>0.93</td>\n",
       "      <td>5.8</td>\n",
       "    </tr>\n",
       "    <tr>\n",
       "      <th>3</th>\n",
       "      <td>2017</td>\n",
       "      <td>4</td>\n",
       "      <td>6</td>\n",
       "      <td>20.4</td>\n",
       "      <td>3.0</td>\n",
       "      <td>11.0</td>\n",
       "      <td>97.8</td>\n",
       "      <td>31.4</td>\n",
       "      <td>73.2</td>\n",
       "      <td>0.46</td>\n",
       "      <td>...</td>\n",
       "      <td>0.9</td>\n",
       "      <td>0.3</td>\n",
       "      <td>76</td>\n",
       "      <td>68</td>\n",
       "      <td>3.6</td>\n",
       "      <td>2.3</td>\n",
       "      <td>1.8</td>\n",
       "      <td>1.5</td>\n",
       "      <td>0.92</td>\n",
       "      <td>5.7</td>\n",
       "    </tr>\n",
       "    <tr>\n",
       "      <th>4</th>\n",
       "      <td>2017</td>\n",
       "      <td>5</td>\n",
       "      <td>6</td>\n",
       "      <td>20.9</td>\n",
       "      <td>4.0</td>\n",
       "      <td>12.3</td>\n",
       "      <td>95.5</td>\n",
       "      <td>39.8</td>\n",
       "      <td>71.0</td>\n",
       "      <td>0.53</td>\n",
       "      <td>...</td>\n",
       "      <td>1.5</td>\n",
       "      <td>0.8</td>\n",
       "      <td>253</td>\n",
       "      <td>54</td>\n",
       "      <td>7.1</td>\n",
       "      <td>2.5</td>\n",
       "      <td>2.2</td>\n",
       "      <td>1.8</td>\n",
       "      <td>0.98</td>\n",
       "      <td>6.6</td>\n",
       "    </tr>\n",
       "  </tbody>\n",
       "</table>\n",
       "<p>5 rows × 28 columns</p>\n",
       "</div>"
      ],
      "text/plain": [
       "   year  day_of_year  station_number  air_temp_max  air_temp_min  \\\n",
       "0  2017            1               6          13.6           9.3   \n",
       "1  2017            2               6          14.9           7.2   \n",
       "2  2017            3               6          13.9           3.2   \n",
       "3  2017            4               6          20.4           3.0   \n",
       "4  2017            5               6          20.9           4.0   \n",
       "\n",
       "   air_temp_mean  rh_max  rh_min  rh_mean  vpd_mean  ...  wind_speed_mean  \\\n",
       "0           11.8    92.7    69.2     83.5      0.23  ...              3.5   \n",
       "1           10.5    87.7    44.7     71.4      0.39  ...              2.2   \n",
       "2            9.0    97.0    60.6     81.9      0.24  ...              1.0   \n",
       "3           11.0    97.8    31.4     73.2      0.46  ...              0.9   \n",
       "4           12.3    95.5    39.8     71.0      0.53  ...              1.5   \n",
       "\n",
       "   wind_vector_magnitude  wind_vector_direction  wind_direction_std  \\\n",
       "0                    2.6                    188                  43   \n",
       "1                    1.5                    129                  44   \n",
       "2                    0.1                    349                  78   \n",
       "3                    0.3                     76                  68   \n",
       "4                    0.8                    253                  54   \n",
       "\n",
       "   max_wind_speed  heat_units  eto_azmet  eto_p_m  vapor_pressure_mean  \\\n",
       "0            10.9         0.2        1.0      1.2                 1.16   \n",
       "1             5.8         0.5        1.0      1.6                 0.89   \n",
       "2             3.3         0.2        0.6      0.9                 0.93   \n",
       "3             3.6         2.3        1.8      1.5                 0.92   \n",
       "4             7.1         2.5        2.2      1.8                 0.98   \n",
       "\n",
       "   dewpoint_mean  \n",
       "0            9.0  \n",
       "1            5.3  \n",
       "2            5.8  \n",
       "3            5.7  \n",
       "4            6.6  \n",
       "\n",
       "[5 rows x 28 columns]"
      ]
     },
     "execution_count": 113,
     "metadata": {},
     "output_type": "execute_result"
    }
   ],
   "source": [
    "weather_df_0 = pd.read_csv('data/raw/mac_weather_station_raw_daily_2017.csv')\n",
    "weather_df_0.head()"
   ]
  },
  {
   "cell_type": "code",
   "execution_count": 115,
   "metadata": {},
   "outputs": [
    {
     "data": {
      "text/html": [
       "<div>\n",
       "<style scoped>\n",
       "    .dataframe tbody tr th:only-of-type {\n",
       "        vertical-align: middle;\n",
       "    }\n",
       "\n",
       "    .dataframe tbody tr th {\n",
       "        vertical-align: top;\n",
       "    }\n",
       "\n",
       "    .dataframe thead th {\n",
       "        text-align: right;\n",
       "    }\n",
       "</style>\n",
       "<table border=\"1\" class=\"dataframe\">\n",
       "  <thead>\n",
       "    <tr style=\"text-align: right;\">\n",
       "      <th></th>\n",
       "      <th>day_of_year</th>\n",
       "      <th>air_temp_max</th>\n",
       "      <th>air_temp_min</th>\n",
       "      <th>air_temp_mean</th>\n",
       "    </tr>\n",
       "  </thead>\n",
       "  <tbody>\n",
       "    <tr>\n",
       "      <th>360</th>\n",
       "      <td>361</td>\n",
       "      <td>23.2</td>\n",
       "      <td>1.6</td>\n",
       "      <td>10.8</td>\n",
       "    </tr>\n",
       "    <tr>\n",
       "      <th>361</th>\n",
       "      <td>362</td>\n",
       "      <td>23.4</td>\n",
       "      <td>-0.6</td>\n",
       "      <td>10.5</td>\n",
       "    </tr>\n",
       "    <tr>\n",
       "      <th>362</th>\n",
       "      <td>363</td>\n",
       "      <td>24.4</td>\n",
       "      <td>-0.4</td>\n",
       "      <td>10.9</td>\n",
       "    </tr>\n",
       "    <tr>\n",
       "      <th>363</th>\n",
       "      <td>364</td>\n",
       "      <td>25.4</td>\n",
       "      <td>0.2</td>\n",
       "      <td>10.8</td>\n",
       "    </tr>\n",
       "    <tr>\n",
       "      <th>364</th>\n",
       "      <td>365</td>\n",
       "      <td>18.9</td>\n",
       "      <td>0.3</td>\n",
       "      <td>8.7</td>\n",
       "    </tr>\n",
       "  </tbody>\n",
       "</table>\n",
       "</div>"
      ],
      "text/plain": [
       "     day_of_year  air_temp_max  air_temp_min  air_temp_mean\n",
       "360          361          23.2           1.6           10.8\n",
       "361          362          23.4          -0.6           10.5\n",
       "362          363          24.4          -0.4           10.9\n",
       "363          364          25.4           0.2           10.8\n",
       "364          365          18.9           0.3            8.7"
      ]
     },
     "execution_count": 115,
     "metadata": {},
     "output_type": "execute_result"
    }
   ],
   "source": [
    "air_temps = weather_df_0[['day_of_year', 'air_temp_max', 'air_temp_min', 'air_temp_mean']]\n",
    "air_temps.tail()"
   ]
  },
  {
   "cell_type": "code",
   "execution_count": null,
   "metadata": {},
   "outputs": [],
   "source": []
  },
  {
   "cell_type": "markdown",
   "metadata": {},
   "source": [
    "### V. Final Steps before `.csv` conversion\n",
    "* Change `if` statements to `True` to run cells\n",
    "* Change names of dataframes as needed\n",
    "* Change name of output file as needed"
   ]
  },
  {
   "cell_type": "markdown",
   "metadata": {},
   "source": [
    "#### A. Fill NaN's with empty strings"
   ]
  },
  {
   "cell_type": "code",
   "execution_count": 163,
   "metadata": {},
   "outputs": [],
   "source": [
    "need_to_fill_nas = False\n",
    "\n",
    "if need_to_fill_nas:\n",
    "    \n",
    "    df_8 = df_7.fillna(value=' ', axis=1)\n",
    "    df_8.isnull().sum()"
   ]
  },
  {
   "cell_type": "markdown",
   "metadata": {},
   "source": [
    "#### B. Set `plot_name` as index"
   ]
  },
  {
   "cell_type": "code",
   "execution_count": 164,
   "metadata": {},
   "outputs": [],
   "source": [
    "need_to_set_index = False\n",
    "\n",
    "if need_to_set_index:\n",
    "    \n",
    "    df_9 = df_8.set_index(keys='plot_name')\n",
    "    df_9.head()"
   ]
  },
  {
   "cell_type": "markdown",
   "metadata": {},
   "source": [
    "#### C. Convert to `.csv`"
   ]
  },
  {
   "cell_type": "code",
   "execution_count": 165,
   "metadata": {},
   "outputs": [],
   "source": [
    "need_to_create_csv = False\n",
    "\n",
    "if need_to_create_csv:\n",
    "\n",
    "    timestamp = datetime.datetime.now().replace(microsecond=0).isoformat()\n",
    "    output_filename = f'aboveground_biomass_harvest_{timestamp}.csv'.replace(':', '')\n",
    "    df_8.to_csv(f'../data/processed/{output_filename}')"
   ]
  },
  {
   "cell_type": "code",
   "execution_count": null,
   "metadata": {},
   "outputs": [],
   "source": []
  },
  {
   "cell_type": "markdown",
   "metadata": {},
   "source": [
    "### VI. For Future Tests"
   ]
  },
  {
   "cell_type": "markdown",
   "metadata": {},
   "source": [
    "#### A. Determine number of rows for processed dataset"
   ]
  },
  {
   "cell_type": "code",
   "execution_count": null,
   "metadata": {},
   "outputs": [],
   "source": []
  },
  {
   "cell_type": "markdown",
   "metadata": {},
   "source": [
    "### VII. Code Keeping"
   ]
  },
  {
   "cell_type": "markdown",
   "metadata": {},
   "source": [
    "#### A. Extract Range and Column Values"
   ]
  },
  {
   "cell_type": "code",
   "execution_count": null,
   "metadata": {},
   "outputs": [],
   "source": [
    "# df_4['range'] = df_4['sitename'].str.extract(\"Range (\\d+)\").astype(int)\n",
    "# df_4['column'] = df_4['sitename'].str.extract(\"Column (\\d+)\").astype(int)"
   ]
  }
 ],
 "metadata": {
  "kernelspec": {
   "display_name": "Python 3",
   "language": "python",
   "name": "python3"
  },
  "language_info": {
   "codemirror_mode": {
    "name": "ipython",
    "version": 3
   },
   "file_extension": ".py",
   "mimetype": "text/x-python",
   "name": "python",
   "nbconvert_exporter": "python",
   "pygments_lexer": "ipython3",
   "version": "3.6.8"
  }
 },
 "nbformat": 4,
 "nbformat_minor": 2
}
