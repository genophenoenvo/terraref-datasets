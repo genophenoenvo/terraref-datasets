{
 "cells": [
  {
   "cell_type": "markdown",
   "metadata": {},
   "source": [
    "## Season 4 Site-specific Growing Degree Day Values\n",
    "* gdd to seedling emergence\n",
    "* gdd to flowering\n",
    "* gdd to flag leaf emergence"
   ]
  },
  {
   "cell_type": "code",
   "execution_count": null,
   "metadata": {},
   "outputs": [],
   "source": [
    "import datetime\n",
    "import numpy as np\n",
    "import pandas as pd"
   ]
  },
  {
   "cell_type": "code",
   "execution_count": null,
   "metadata": {},
   "outputs": [],
   "source": [
    "df_0 = pd.read_csv('data/raw/mac_season_4.csv', low_memory=False)\n",
    "print(df_0.shape)\n",
    "# df_0.head()"
   ]
  },
  {
   "cell_type": "code",
   "execution_count": null,
   "metadata": {},
   "outputs": [],
   "source": [
    "# df_0.columns"
   ]
  },
  {
   "cell_type": "code",
   "execution_count": null,
   "metadata": {},
   "outputs": [],
   "source": [
    "cols_to_drop = ['Unnamed: 0', 'checked', 'result_type', 'id', 'citation_id', 'site_id', 'treatment_id', 'city', \n",
    "                'scientificname', 'commonname', 'genus', 'species_id', 'cultivar_id', 'author', 'citation_year', \n",
    "                'treatment', 'time', 'raw_date', 'month', 'year', 'dateloc', 'trait_description', 'units', 'n',\n",
    "                'statname', 'stat', 'notes', 'access_level', 'entity', 'method_name', 'view_url', 'edit_url']"
   ]
  },
  {
   "cell_type": "code",
   "execution_count": null,
   "metadata": {},
   "outputs": [],
   "source": [
    "df_1 = df_0.drop(labels=cols_to_drop, axis=1)\n",
    "print(df_1.shape)\n",
    "# df_1.head()"
   ]
  },
  {
   "cell_type": "markdown",
   "metadata": {},
   "source": [
    "#### Convert dates from string to datetime"
   ]
  },
  {
   "cell_type": "code",
   "execution_count": null,
   "metadata": {},
   "outputs": [],
   "source": [
    "new_dates = []\n",
    "\n",
    "for d in df_1.date.values:\n",
    "    \n",
    "    if 'Phoenix' in d:\n",
    "        new_name = d[:-18]\n",
    "        new_dates.append(new_name)\n",
    "    \n",
    "    else:\n",
    "        new_name = d\n",
    "        new_dates.append(new_name)\n",
    "        \n",
    "print(df_1.shape[0])\n",
    "print(len(new_dates))"
   ]
  },
  {
   "cell_type": "code",
   "execution_count": null,
   "metadata": {},
   "outputs": [],
   "source": [
    "iso_format_dates = pd.to_datetime(new_dates)"
   ]
  },
  {
   "cell_type": "code",
   "execution_count": null,
   "metadata": {},
   "outputs": [],
   "source": [
    "df_2 = df_1.copy()\n",
    "\n",
    "df_2['date_1'] = iso_format_dates\n",
    "# df_2.head()"
   ]
  },
  {
   "cell_type": "markdown",
   "metadata": {},
   "source": [
    "#### Change sitenames to strip ` E` and ` W` subplot designations"
   ]
  },
  {
   "cell_type": "code",
   "execution_count": null,
   "metadata": {},
   "outputs": [],
   "source": [
    "sitename_values = df_2.sitename.values\n",
    "no_e_w_names = []\n",
    "\n",
    "for name in sitename_values:\n",
    "    \n",
    "    if name.endswith(' W') | name.endswith(' E'):\n",
    "        name = name[:-2]\n",
    "        no_e_w_names.append(name)\n",
    "        \n",
    "    else:\n",
    "        no_e_w_names.append(name)"
   ]
  },
  {
   "cell_type": "code",
   "execution_count": null,
   "metadata": {},
   "outputs": [],
   "source": [
    "df_3 = df_2.copy()\n",
    "df_3['sitename_1'] = no_e_w_names\n",
    "# df_3.head()"
   ]
  },
  {
   "cell_type": "markdown",
   "metadata": {},
   "source": [
    "#### Extra Range and Column Values"
   ]
  },
  {
   "cell_type": "code",
   "execution_count": null,
   "metadata": {},
   "outputs": [],
   "source": [
    "df_4 = df_3.copy()\n",
    "\n",
    "df_4['range'] = df_4['sitename_1'].str.extract(\"Range (\\d+)\").astype(int)\n",
    "df_4['column'] = df_4['sitename_1'].str.extract(\"Column (\\d+)\").astype(int)\n",
    "\n",
    "# df_4.sample(n=7)"
   ]
  },
  {
   "cell_type": "markdown",
   "metadata": {},
   "source": [
    "#### Select for traits to be used for `gdd_to_` calculations"
   ]
  },
  {
   "cell_type": "code",
   "execution_count": null,
   "metadata": {},
   "outputs": [],
   "source": [
    "traits_to_keep = ['seedling_emergence_rate', 'flag_leaf_emergence_time', 'flowering_time']\n",
    "df_5 = df_4.loc[df_4.trait.isin(traits_to_keep)]\n",
    "df_5.shape"
   ]
  },
  {
   "cell_type": "markdown",
   "metadata": {},
   "source": [
    "### I. Add date of emergence\n",
    "* Test with flag leaf emergence"
   ]
  },
  {
   "cell_type": "code",
   "execution_count": null,
   "metadata": {},
   "outputs": [],
   "source": [
    "flag_leaf_0 = df_5.loc[df_5.trait == 'flag_leaf_emergence_time']\n",
    "print(flag_leaf_0.shape)\n",
    "flag_leaf_0.head()"
   ]
  },
  {
   "cell_type": "code",
   "execution_count": null,
   "metadata": {},
   "outputs": [],
   "source": [
    "day_of_planting = datetime.date(2017,4,20)\n",
    "flag_leaf_1 = flag_leaf_0.copy()\n",
    "\n",
    "flag_leaf_1['date_of_planting'] = day_of_planting\n",
    "flag_leaf_1.head()"
   ]
  },
  {
   "cell_type": "code",
   "execution_count": null,
   "metadata": {},
   "outputs": [],
   "source": [
    "flag_leaf_2 = flag_leaf_1.copy()"
   ]
  },
  {
   "cell_type": "code",
   "execution_count": null,
   "metadata": {},
   "outputs": [],
   "source": [
    "timedelta_values = flag_leaf_2['mean'].values\n",
    "dates_of_emergence = []\n",
    "\n",
    "for val in timedelta_values:\n",
    "    \n",
    "    date_of_emergence = day_of_planting + datetime.timedelta(days=val)\n",
    "    dates_of_emergence.append(date_of_emergence)\n",
    "    \n",
    "print(flag_leaf_2.shape[0])\n",
    "print(len(dates_of_emergence))"
   ]
  },
  {
   "cell_type": "code",
   "execution_count": null,
   "metadata": {},
   "outputs": [],
   "source": [
    "flag_leaf_3 = flag_leaf_2.copy()\n",
    "flag_leaf_3['date_of_flag_leaf_emergence'] = dates_of_emergence\n",
    "# flag_leaf_3.head()"
   ]
  },
  {
   "cell_type": "markdown",
   "metadata": {},
   "source": [
    "### II. Add Growing Degree Days "
   ]
  },
  {
   "cell_type": "code",
   "execution_count": null,
   "metadata": {},
   "outputs": [],
   "source": [
    "season_4_weather_data = pd.read_csv('data/processed/weather_station_season_4_2019-12-20T190949.csv')\n",
    "# season_4_weather_data.head()"
   ]
  },
  {
   "cell_type": "code",
   "execution_count": null,
   "metadata": {},
   "outputs": [],
   "source": [
    "season_4_gdd = season_4_weather_data[['date', 'gdd']]\n",
    "print(season_4_gdd.shape)\n",
    "season_4_gdd.head()"
   ]
  },
  {
   "cell_type": "code",
   "execution_count": null,
   "metadata": {},
   "outputs": [],
   "source": [
    "season_4_gdd_1 = season_4_gdd.copy()\n",
    "season_4_gdd_1.date = pd.to_datetime(season_4_gdd_1.date)\n",
    "# season_4_gdd_1.head()"
   ]
  },
  {
   "cell_type": "code",
   "execution_count": null,
   "metadata": {},
   "outputs": [],
   "source": [
    "flag_leaf_4 = flag_leaf_3.copy()\n",
    "flag_leaf_4.date_of_flag_leaf_emergence = pd.to_datetime(flag_leaf_4.date_of_flag_leaf_emergence)\n",
    "flag_leaf_4.dtypes"
   ]
  },
  {
   "cell_type": "code",
   "execution_count": null,
   "metadata": {},
   "outputs": [],
   "source": [
    "flag_leaf_5 = flag_leaf_4.merge(season_4_gdd_1, how='left', left_on='date_of_flag_leaf_emergence', right_on='date')\n",
    "# flag_leaf_5.head()"
   ]
  },
  {
   "cell_type": "markdown",
   "metadata": {},
   "source": [
    "### III. Drop, Rename, and Reorder Columns"
   ]
  },
  {
   "cell_type": "code",
   "execution_count": null,
   "metadata": {},
   "outputs": [],
   "source": [
    "flag_leaf_5.columns"
   ]
  },
  {
   "cell_type": "code",
   "execution_count": null,
   "metadata": {},
   "outputs": [],
   "source": [
    "cols_to_drop = ['sitename', 'date_x', 'date_y', 'date_of_planting']\n",
    "flag_leaf_6 = flag_leaf_5.drop(labels=cols_to_drop, axis=1)\n",
    "print(flag_leaf_6.shape)\n",
    "# flag_leaf_6.head()"
   ]
  },
  {
   "cell_type": "code",
   "execution_count": null,
   "metadata": {},
   "outputs": [],
   "source": [
    "flag_leaf_7 = flag_leaf_6.rename({'date_1': 'date', 'sitename_1': 'sitename', 'mean': 'value',\n",
    "                                 'gdd': 'gdd_to_flag_leaf_emergence'}, axis=1)\n",
    "# flag_leaf_7.head()"
   ]
  },
  {
   "cell_type": "code",
   "execution_count": null,
   "metadata": {},
   "outputs": [],
   "source": [
    "new_col_order = ['sitename', 'range', 'column', 'lat', 'lon', 'cultivar', 'trait', 'value', 'date_of_flag_leaf_emergence', 'gdd_to_flag_leaf_emergence']\n",
    "flag_leaf_8 = pd.DataFrame(data=flag_leaf_7, columns=new_col_order, index=flag_leaf_7.index)\n",
    "print(flag_leaf_8.shape)\n",
    "# flag_leaf_8.head()"
   ]
  },
  {
   "cell_type": "code",
   "execution_count": null,
   "metadata": {},
   "outputs": [],
   "source": [
    "flag_leaf_9 = flag_leaf_8.set_index('sitename')\n",
    "# flag_leaf_9.head()"
   ]
  },
  {
   "cell_type": "code",
   "execution_count": null,
   "metadata": {},
   "outputs": [],
   "source": []
  },
  {
   "cell_type": "code",
   "execution_count": null,
   "metadata": {},
   "outputs": [],
   "source": []
  },
  {
   "cell_type": "code",
   "execution_count": null,
   "metadata": {},
   "outputs": [],
   "source": []
  },
  {
   "cell_type": "markdown",
   "metadata": {},
   "source": [
    "### Final Steps: Save as `.csv` file\n",
    "* Check output filename\n",
    "* Change name of df"
   ]
  },
  {
   "cell_type": "code",
   "execution_count": null,
   "metadata": {},
   "outputs": [],
   "source": [
    "need_to_create_csv = False\n",
    "\n",
    "if need_to_create_csv:\n",
    "\n",
    "    timestamp = datetime.datetime.now().replace(microsecond=0).isoformat()\n",
    "    output_filename = f'gdd_to_flag_leaf_emergence_season_4_{timestamp}.csv'.replace(':', '')\n",
    "    flag_leaf_9.to_csv(f'data/processed/{output_filename}')"
   ]
  },
  {
   "cell_type": "code",
   "execution_count": null,
   "metadata": {},
   "outputs": [],
   "source": []
  },
  {
   "cell_type": "code",
   "execution_count": null,
   "metadata": {},
   "outputs": [],
   "source": []
  },
  {
   "cell_type": "code",
   "execution_count": null,
   "metadata": {},
   "outputs": [],
   "source": []
  }
 ],
 "metadata": {
  "kernelspec": {
   "display_name": "Python 3",
   "language": "python",
   "name": "python3"
  },
  "language_info": {
   "codemirror_mode": {
    "name": "ipython",
    "version": 3
   },
   "file_extension": ".py",
   "mimetype": "text/x-python",
   "name": "python",
   "nbconvert_exporter": "python",
   "pygments_lexer": "ipython3",
   "version": "3.6.8"
  }
 },
 "nbformat": 4,
 "nbformat_minor": 2
}
