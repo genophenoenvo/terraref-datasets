{
 "cells": [
  {
   "cell_type": "markdown",
   "metadata": {},
   "source": [
    "### MAC Season 6"
   ]
  },
  {
   "cell_type": "code",
   "execution_count": 1,
   "metadata": {},
   "outputs": [],
   "source": [
    "import numpy as np\n",
    "import pandas as pd\n",
    "\n",
    "import matplotlib.pyplot as plt\n",
    "import seaborn as sns\n",
    "\n",
    "%matplotlib inline"
   ]
  },
  {
   "cell_type": "code",
   "execution_count": 4,
   "metadata": {},
   "outputs": [
    {
     "name": "stdout",
     "output_type": "stream",
     "text": [
      "3.7.4\n"
     ]
    }
   ],
   "source": [
    "# from platform import python_version\n",
    "# print(python_version())\n",
    "\n",
    "# %pwd\n",
    "# %cd '/Users/ejcain/Dev/UA-AG/phenotypes/terraref-datasets/'"
   ]
  },
  {
   "cell_type": "markdown",
   "metadata": {},
   "source": [
    "#### Read in csv downloaded from betydb API"
   ]
  },
  {
   "cell_type": "code",
   "execution_count": 5,
   "metadata": {},
   "outputs": [
    {
     "name": "stderr",
     "output_type": "stream",
     "text": [
      "/opt/miniconda3/envs/ua-ag/lib/python3.7/site-packages/IPython/core/interactiveshell.py:3058: DtypeWarning: Columns (16,18,32,35) have mixed types. Specify dtype option on import or set low_memory=False.\n",
      "  interactivity=interactivity, compiler=compiler, result=result)\n"
     ]
    },
    {
     "data": {
      "text/html": [
       "<div>\n",
       "<style scoped>\n",
       "    .dataframe tbody tr th:only-of-type {\n",
       "        vertical-align: middle;\n",
       "    }\n",
       "\n",
       "    .dataframe tbody tr th {\n",
       "        vertical-align: top;\n",
       "    }\n",
       "\n",
       "    .dataframe thead th {\n",
       "        text-align: right;\n",
       "    }\n",
       "</style>\n",
       "<table border=\"1\" class=\"dataframe\">\n",
       "  <thead>\n",
       "    <tr style=\"text-align: right;\">\n",
       "      <th></th>\n",
       "      <th>Unnamed: 0</th>\n",
       "      <th>checked</th>\n",
       "      <th>result_type</th>\n",
       "      <th>id</th>\n",
       "      <th>citation_id</th>\n",
       "      <th>site_id</th>\n",
       "      <th>treatment_id</th>\n",
       "      <th>sitename</th>\n",
       "      <th>city</th>\n",
       "      <th>lat</th>\n",
       "      <th>...</th>\n",
       "      <th>n</th>\n",
       "      <th>statname</th>\n",
       "      <th>stat</th>\n",
       "      <th>notes</th>\n",
       "      <th>access_level</th>\n",
       "      <th>cultivar</th>\n",
       "      <th>entity</th>\n",
       "      <th>method_name</th>\n",
       "      <th>view_url</th>\n",
       "      <th>edit_url</th>\n",
       "    </tr>\n",
       "  </thead>\n",
       "  <tbody>\n",
       "    <tr>\n",
       "      <th>0</th>\n",
       "      <td>1</td>\n",
       "      <td>0</td>\n",
       "      <td>traits</td>\n",
       "      <td>6.002768e+09</td>\n",
       "      <td>NaN</td>\n",
       "      <td>6000014370</td>\n",
       "      <td>NaN</td>\n",
       "      <td>MAC Field Scanner Season 6 Range 43 Column 9 E</td>\n",
       "      <td>Maricopa</td>\n",
       "      <td>33.076057</td>\n",
       "      <td>...</td>\n",
       "      <td>NaN</td>\n",
       "      <td>NaN</td>\n",
       "      <td>NaN</td>\n",
       "      <td>NaN</td>\n",
       "      <td>2</td>\n",
       "      <td>PI329319</td>\n",
       "      <td>NaN</td>\n",
       "      <td>Mean temperature from infrared images</td>\n",
       "      <td>https://terraref.ncsa.illinois.edu/bety/traits...</td>\n",
       "      <td>https://terraref.ncsa.illinois.edu/bety/traits...</td>\n",
       "    </tr>\n",
       "    <tr>\n",
       "      <th>1</th>\n",
       "      <td>2</td>\n",
       "      <td>0</td>\n",
       "      <td>traits</td>\n",
       "      <td>6.002768e+09</td>\n",
       "      <td>NaN</td>\n",
       "      <td>6000015458</td>\n",
       "      <td>NaN</td>\n",
       "      <td>MAC Field Scanner Season 6 Range 4 Column 3 W</td>\n",
       "      <td>Maricopa</td>\n",
       "      <td>33.074655</td>\n",
       "      <td>...</td>\n",
       "      <td>NaN</td>\n",
       "      <td>NaN</td>\n",
       "      <td>NaN</td>\n",
       "      <td>NaN</td>\n",
       "      <td>2</td>\n",
       "      <td>PI570031</td>\n",
       "      <td>NaN</td>\n",
       "      <td>Mean temperature from infrared images</td>\n",
       "      <td>https://terraref.ncsa.illinois.edu/bety/traits...</td>\n",
       "      <td>https://terraref.ncsa.illinois.edu/bety/traits...</td>\n",
       "    </tr>\n",
       "    <tr>\n",
       "      <th>2</th>\n",
       "      <td>3</td>\n",
       "      <td>0</td>\n",
       "      <td>traits</td>\n",
       "      <td>6.002768e+09</td>\n",
       "      <td>NaN</td>\n",
       "      <td>6000015470</td>\n",
       "      <td>NaN</td>\n",
       "      <td>MAC Field Scanner Season 6 Range 4 Column 16 W</td>\n",
       "      <td>Maricopa</td>\n",
       "      <td>33.074655</td>\n",
       "      <td>...</td>\n",
       "      <td>NaN</td>\n",
       "      <td>NaN</td>\n",
       "      <td>NaN</td>\n",
       "      <td>NaN</td>\n",
       "      <td>2</td>\n",
       "      <td>SP1516</td>\n",
       "      <td>NaN</td>\n",
       "      <td>Mean temperature from infrared images</td>\n",
       "      <td>https://terraref.ncsa.illinois.edu/bety/traits...</td>\n",
       "      <td>https://terraref.ncsa.illinois.edu/bety/traits...</td>\n",
       "    </tr>\n",
       "    <tr>\n",
       "      <th>3</th>\n",
       "      <td>4</td>\n",
       "      <td>0</td>\n",
       "      <td>traits</td>\n",
       "      <td>6.002768e+09</td>\n",
       "      <td>NaN</td>\n",
       "      <td>6000015493</td>\n",
       "      <td>NaN</td>\n",
       "      <td>MAC Field Scanner Season 6 Range 6 Column 10 W</td>\n",
       "      <td>Maricopa</td>\n",
       "      <td>33.074727</td>\n",
       "      <td>...</td>\n",
       "      <td>NaN</td>\n",
       "      <td>NaN</td>\n",
       "      <td>NaN</td>\n",
       "      <td>NaN</td>\n",
       "      <td>2</td>\n",
       "      <td>PI156217</td>\n",
       "      <td>NaN</td>\n",
       "      <td>Mean temperature from infrared images</td>\n",
       "      <td>https://terraref.ncsa.illinois.edu/bety/traits...</td>\n",
       "      <td>https://terraref.ncsa.illinois.edu/bety/traits...</td>\n",
       "    </tr>\n",
       "    <tr>\n",
       "      <th>4</th>\n",
       "      <td>5</td>\n",
       "      <td>0</td>\n",
       "      <td>traits</td>\n",
       "      <td>6.002768e+09</td>\n",
       "      <td>NaN</td>\n",
       "      <td>6000015657</td>\n",
       "      <td>NaN</td>\n",
       "      <td>MAC Field Scanner Season 6 Range 17 Column 12 W</td>\n",
       "      <td>Maricopa</td>\n",
       "      <td>33.075123</td>\n",
       "      <td>...</td>\n",
       "      <td>NaN</td>\n",
       "      <td>NaN</td>\n",
       "      <td>NaN</td>\n",
       "      <td>NaN</td>\n",
       "      <td>2</td>\n",
       "      <td>PI152651</td>\n",
       "      <td>NaN</td>\n",
       "      <td>Mean temperature from infrared images</td>\n",
       "      <td>https://terraref.ncsa.illinois.edu/bety/traits...</td>\n",
       "      <td>https://terraref.ncsa.illinois.edu/bety/traits...</td>\n",
       "    </tr>\n",
       "  </tbody>\n",
       "</table>\n",
       "<p>5 rows × 39 columns</p>\n",
       "</div>"
      ],
      "text/plain": [
       "   Unnamed: 0  checked result_type            id  citation_id     site_id  \\\n",
       "0           1        0      traits  6.002768e+09          NaN  6000014370   \n",
       "1           2        0      traits  6.002768e+09          NaN  6000015458   \n",
       "2           3        0      traits  6.002768e+09          NaN  6000015470   \n",
       "3           4        0      traits  6.002768e+09          NaN  6000015493   \n",
       "4           5        0      traits  6.002768e+09          NaN  6000015657   \n",
       "\n",
       "   treatment_id                                         sitename      city  \\\n",
       "0           NaN   MAC Field Scanner Season 6 Range 43 Column 9 E  Maricopa   \n",
       "1           NaN    MAC Field Scanner Season 6 Range 4 Column 3 W  Maricopa   \n",
       "2           NaN   MAC Field Scanner Season 6 Range 4 Column 16 W  Maricopa   \n",
       "3           NaN   MAC Field Scanner Season 6 Range 6 Column 10 W  Maricopa   \n",
       "4           NaN  MAC Field Scanner Season 6 Range 17 Column 12 W  Maricopa   \n",
       "\n",
       "         lat  ...   n statname stat notes  access_level  cultivar entity  \\\n",
       "0  33.076057  ... NaN      NaN  NaN   NaN             2  PI329319    NaN   \n",
       "1  33.074655  ... NaN      NaN  NaN   NaN             2  PI570031    NaN   \n",
       "2  33.074655  ... NaN      NaN  NaN   NaN             2    SP1516    NaN   \n",
       "3  33.074727  ... NaN      NaN  NaN   NaN             2  PI156217    NaN   \n",
       "4  33.075123  ... NaN      NaN  NaN   NaN             2  PI152651    NaN   \n",
       "\n",
       "                             method_name  \\\n",
       "0  Mean temperature from infrared images   \n",
       "1  Mean temperature from infrared images   \n",
       "2  Mean temperature from infrared images   \n",
       "3  Mean temperature from infrared images   \n",
       "4  Mean temperature from infrared images   \n",
       "\n",
       "                                            view_url  \\\n",
       "0  https://terraref.ncsa.illinois.edu/bety/traits...   \n",
       "1  https://terraref.ncsa.illinois.edu/bety/traits...   \n",
       "2  https://terraref.ncsa.illinois.edu/bety/traits...   \n",
       "3  https://terraref.ncsa.illinois.edu/bety/traits...   \n",
       "4  https://terraref.ncsa.illinois.edu/bety/traits...   \n",
       "\n",
       "                                            edit_url  \n",
       "0  https://terraref.ncsa.illinois.edu/bety/traits...  \n",
       "1  https://terraref.ncsa.illinois.edu/bety/traits...  \n",
       "2  https://terraref.ncsa.illinois.edu/bety/traits...  \n",
       "3  https://terraref.ncsa.illinois.edu/bety/traits...  \n",
       "4  https://terraref.ncsa.illinois.edu/bety/traits...  \n",
       "\n",
       "[5 rows x 39 columns]"
      ]
     },
     "execution_count": 5,
     "metadata": {},
     "output_type": "execute_result"
    }
   ],
   "source": [
    "season_six_all = pd.read_csv('mac_season_6.csv')\n",
    "season_six_all.head()"
   ]
  },
  {
   "cell_type": "code",
   "execution_count": 7,
   "metadata": {},
   "outputs": [
    {
     "name": "stdout",
     "output_type": "stream",
     "text": [
      "author treatment notes entity\n"
     ]
    }
   ],
   "source": [
    "print(season_six_all.columns[16], season_six_all.columns[18], season_six_all.columns[32], \n",
    "      season_six_all.columns[35])"
   ]
  },
  {
   "cell_type": "markdown",
   "metadata": {},
   "source": [
    "##### Pandas Warning: Columns with mixed dtypes (same as season 4)\n",
    "* author\n",
    "* treatment\n",
    "* notes\n",
    "* entity"
   ]
  },
  {
   "cell_type": "code",
   "execution_count": 6,
   "metadata": {},
   "outputs": [
    {
     "data": {
      "text/plain": [
       "Unnamed: 0             int64\n",
       "checked                int64\n",
       "result_type           object\n",
       "id                   float64\n",
       "citation_id          float64\n",
       "site_id                int64\n",
       "treatment_id         float64\n",
       "sitename              object\n",
       "city                  object\n",
       "lat                  float64\n",
       "lon                  float64\n",
       "scientificname        object\n",
       "commonname            object\n",
       "genus                 object\n",
       "species_id             int64\n",
       "cultivar_id          float64\n",
       "author                object\n",
       "citation_year        float64\n",
       "treatment             object\n",
       "date                  object\n",
       "time                  object\n",
       "raw_date              object\n",
       "month                  int64\n",
       "year                   int64\n",
       "dateloc              float64\n",
       "trait                 object\n",
       "trait_description     object\n",
       "mean                 float64\n",
       "units                 object\n",
       "n                    float64\n",
       "statname             float64\n",
       "stat                 float64\n",
       "notes                 object\n",
       "access_level           int64\n",
       "cultivar              object\n",
       "entity                object\n",
       "method_name           object\n",
       "view_url              object\n",
       "edit_url              object\n",
       "dtype: object"
      ]
     },
     "execution_count": 6,
     "metadata": {},
     "output_type": "execute_result"
    }
   ],
   "source": [
    "season_six_all.dtypes"
   ]
  },
  {
   "cell_type": "markdown",
   "metadata": {},
   "source": [
    "#### Check column names and compare to season 4 columns"
   ]
  },
  {
   "cell_type": "code",
   "execution_count": 9,
   "metadata": {},
   "outputs": [
    {
     "data": {
      "text/plain": [
       "['Unnamed: 0',\n",
       " 'checked',\n",
       " 'result_type',\n",
       " 'id',\n",
       " 'citation_id',\n",
       " 'site_id',\n",
       " 'treatment_id',\n",
       " 'sitename',\n",
       " 'city',\n",
       " 'lat',\n",
       " 'lon',\n",
       " 'scientificname',\n",
       " 'commonname',\n",
       " 'genus',\n",
       " 'species_id',\n",
       " 'cultivar_id',\n",
       " 'author',\n",
       " 'citation_year',\n",
       " 'treatment',\n",
       " 'date',\n",
       " 'time',\n",
       " 'raw_date',\n",
       " 'month',\n",
       " 'year',\n",
       " 'dateloc',\n",
       " 'trait',\n",
       " 'trait_description',\n",
       " 'mean',\n",
       " 'units',\n",
       " 'n',\n",
       " 'statname',\n",
       " 'stat',\n",
       " 'notes',\n",
       " 'access_level',\n",
       " 'cultivar',\n",
       " 'entity',\n",
       " 'method_name',\n",
       " 'view_url',\n",
       " 'edit_url']"
      ]
     },
     "execution_count": 9,
     "metadata": {},
     "output_type": "execute_result"
    }
   ],
   "source": [
    "season_six_cols = list(season_six_all.columns)\n",
    "season_six_cols"
   ]
  },
  {
   "cell_type": "code",
   "execution_count": 11,
   "metadata": {},
   "outputs": [],
   "source": [
    "season_four_cols = ['Unnamed: 0', 'checked', 'result_type', 'id', 'citation_id', 'site_id',\n",
    "       'treatment_id', 'sitename', 'city', 'lat', 'lon', 'scientificname',\n",
    "       'commonname', 'genus', 'species_id', 'cultivar_id', 'author',\n",
    "       'citation_year', 'treatment', 'date', 'time', 'raw_date', 'month',\n",
    "       'year', 'dateloc', 'trait', 'trait_description', 'mean', 'units', 'n',\n",
    "       'statname', 'stat', 'notes', 'access_level', 'cultivar', 'entity',\n",
    "       'method_name', 'view_url', 'edit_url']"
   ]
  },
  {
   "cell_type": "code",
   "execution_count": 17,
   "metadata": {},
   "outputs": [
    {
     "name": "stdout",
     "output_type": "stream",
     "text": [
      "39\n",
      "(925563, 39)\n",
      "39\n",
      "set()\n",
      "set()\n"
     ]
    }
   ],
   "source": [
    "# Check for differences\n",
    "\n",
    "print(len(season_four_cols))\n",
    "print(season_six_all.shape)\n",
    "print(len(set(season_six_cols) & set(season_four_cols)))\n",
    "\n",
    "print(set(season_four_cols) - set(season_six_cols))\n",
    "print(set(season_six_cols) - set(season_four_cols))"
   ]
  },
  {
   "cell_type": "markdown",
   "metadata": {},
   "source": [
    "#### Check traits\n",
    "* `canopy_height`\n",
    "* `flag_leaf_emergence`\n",
    "* `aboveground_dry_biomass`\n",
    "* `flowering_time`"
   ]
  },
  {
   "cell_type": "code",
   "execution_count": 18,
   "metadata": {},
   "outputs": [
    {
     "data": {
      "text/plain": [
       "array(['Surface temperature',\n",
       "       'Length of leaf from tip to stem along the midrib.',\n",
       "       'width of leaf at widest point along leaf',\n",
       "       'Fraction of ground covered by plant', nan,\n",
       "       'top of the general canopy of the plant, discounting any exceptional branches, leaves or photosynthetic portions of the inflorescence.',\n",
       "       'Aboveground Dry Biomass', 'Fresh Biomass',\n",
       "       'Diameter of the stalk in the internodal area nearest to the given measurement height',\n",
       "       'Whole above ground biomass moisture content'], dtype=object)"
      ]
     },
     "execution_count": 18,
     "metadata": {},
     "output_type": "execute_result"
    }
   ],
   "source": [
    "season_six_all.trait_description.unique()"
   ]
  },
  {
   "cell_type": "code",
   "execution_count": 19,
   "metadata": {},
   "outputs": [
    {
     "data": {
      "text/plain": [
       "array(['surface_temperature', 'leaf_length', 'leaf_width', 'canopy_cover',\n",
       "       'leaf_angle_alpha', 'leaf_angle_beta', 'leaf_angle_chi',\n",
       "       'leaf_angle_mean', 'canopy_height', 'panicle_surface_area',\n",
       "       'panicle_count', 'panicle_volume', 'aboveground_dry_biomass',\n",
       "       'aboveground_fresh_biomass', 'stalk_diameter_fixed_height',\n",
       "       'aboveground_biomass_moisture'], dtype=object)"
      ]
     },
     "execution_count": 19,
     "metadata": {},
     "output_type": "execute_result"
    }
   ],
   "source": [
    "season_six_all.trait.unique()"
   ]
  },
  {
   "cell_type": "code",
   "execution_count": 20,
   "metadata": {},
   "outputs": [
    {
     "name": "stderr",
     "output_type": "stream",
     "text": [
      "/opt/miniconda3/envs/ua-ag/lib/python3.7/site-packages/IPython/core/interactiveshell.py:3058: DtypeWarning: Columns (18,26,32,35) have mixed types. Specify dtype option on import or set low_memory=False.\n",
      "  interactivity=interactivity, compiler=compiler, result=result)\n"
     ]
    },
    {
     "data": {
      "text/plain": [
       "(372363, 39)"
      ]
     },
     "execution_count": 20,
     "metadata": {},
     "output_type": "execute_result"
    }
   ],
   "source": [
    "# where are. . . days to flowering and days to leaf emergence??\n",
    "\n",
    "season_four_all = pd.read_csv('mac_season_4.csv')\n",
    "season_four_all.shape"
   ]
  },
  {
   "cell_type": "code",
   "execution_count": 21,
   "metadata": {},
   "outputs": [
    {
     "data": {
      "text/plain": [
       "(925563, 39)"
      ]
     },
     "execution_count": 21,
     "metadata": {},
     "output_type": "execute_result"
    }
   ],
   "source": [
    "season_six_all.shape"
   ]
  },
  {
   "cell_type": "code",
   "execution_count": 22,
   "metadata": {},
   "outputs": [
    {
     "name": "stdout",
     "output_type": "stream",
     "text": [
      "75\n",
      "16\n"
     ]
    }
   ],
   "source": [
    "print(season_four_all.trait.nunique())\n",
    "print(season_six_all.trait.nunique())"
   ]
  },
  {
   "cell_type": "code",
   "execution_count": 23,
   "metadata": {},
   "outputs": [
    {
     "name": "stdout",
     "output_type": "stream",
     "text": [
      "[nan]\n"
     ]
    }
   ],
   "source": [
    "print(season_six_all.statname.unique())"
   ]
  },
  {
   "cell_type": "markdown",
   "metadata": {},
   "source": [
    "#### Strip any sitenames of trailing `_E` or `_W`"
   ]
  },
  {
   "cell_type": "code",
   "execution_count": 24,
   "metadata": {},
   "outputs": [
    {
     "name": "stdout",
     "output_type": "stream",
     "text": [
      "['MAC Field Scanner Season 6 Range 43 Column 9 E'\n",
      " 'MAC Field Scanner Season 6 Range 4 Column 3 W'\n",
      " 'MAC Field Scanner Season 6 Range 4 Column 16 W' ...\n",
      " 'MAC Field Scanner Season 6 Range 48 Column 3 E'\n",
      " 'MAC Field Scanner Season 6 Range 20 Column 1'\n",
      " 'MAC Field Scanner Season 6 Range 20 Column 8 W']\n"
     ]
    }
   ],
   "source": [
    "print(season_six_all.sitename.unique())"
   ]
  },
  {
   "cell_type": "code",
   "execution_count": null,
   "metadata": {},
   "outputs": [],
   "source": [
    "# code from season 4 notebook\n",
    "\n",
    "new_sitenames = []\n",
    "\n",
    "for site in sitenames:\n",
    "    if site.endswith(' W'):\n",
    "        site = site[:-2]\n",
    "        new_sitenames.append(site)\n",
    "        \n",
    "    elif site.endswith(' E'):\n",
    "        site = site[:-2]\n",
    "        new_sitenames.append(site)\n",
    "        \n",
    "    else:\n",
    "        new_sitenames.append(site)\n",
    "        \n",
    "new_sitenames[:10]"
   ]
  },
  {
   "cell_type": "code",
   "execution_count": 25,
   "metadata": {},
   "outputs": [],
   "source": [
    "# create original sitenames array with df.sitename.values\n",
    "\n",
    "def new_sitenames(original_sitenames_array):\n",
    "    \n",
    "    new_sitenames_list = []\n",
    "    \n",
    "    for site in original_sitenames_list:\n",
    "        \n",
    "        if site.endswith(' W'):\n",
    "            site = site[:-2]\n",
    "            new_sitenames_list.append(site)\n",
    "            \n",
    "        elif site.endswith(' E'):\n",
    "            site = site[:-2]\n",
    "            new_sitenames_list.append(site)\n",
    "            \n",
    "        else:\n",
    "            new_sitenames_list.append(site)\n",
    "            \n",
    "    return new_sitenames_list"
   ]
  },
  {
   "cell_type": "code",
   "execution_count": 29,
   "metadata": {},
   "outputs": [
    {
     "data": {
      "text/html": [
       "<div>\n",
       "<style scoped>\n",
       "    .dataframe tbody tr th:only-of-type {\n",
       "        vertical-align: middle;\n",
       "    }\n",
       "\n",
       "    .dataframe tbody tr th {\n",
       "        vertical-align: top;\n",
       "    }\n",
       "\n",
       "    .dataframe thead th {\n",
       "        text-align: right;\n",
       "    }\n",
       "</style>\n",
       "<table border=\"1\" class=\"dataframe\">\n",
       "  <thead>\n",
       "    <tr style=\"text-align: right;\">\n",
       "      <th></th>\n",
       "      <th>Unnamed: 0</th>\n",
       "      <th>checked</th>\n",
       "      <th>result_type</th>\n",
       "      <th>id</th>\n",
       "      <th>citation_id</th>\n",
       "      <th>site_id</th>\n",
       "      <th>treatment_id</th>\n",
       "      <th>sitename</th>\n",
       "      <th>city</th>\n",
       "      <th>lat</th>\n",
       "      <th>...</th>\n",
       "      <th>n</th>\n",
       "      <th>statname</th>\n",
       "      <th>stat</th>\n",
       "      <th>notes</th>\n",
       "      <th>access_level</th>\n",
       "      <th>cultivar</th>\n",
       "      <th>entity</th>\n",
       "      <th>method_name</th>\n",
       "      <th>view_url</th>\n",
       "      <th>edit_url</th>\n",
       "    </tr>\n",
       "  </thead>\n",
       "  <tbody>\n",
       "    <tr>\n",
       "      <th>169675</th>\n",
       "      <td>169676</td>\n",
       "      <td>0</td>\n",
       "      <td>traits</td>\n",
       "      <td>6.004294e+09</td>\n",
       "      <td>6.000000e+09</td>\n",
       "      <td>6000015280</td>\n",
       "      <td>NaN</td>\n",
       "      <td>MAC Field Scanner Season 6 Range 40 Column 4</td>\n",
       "      <td>Maricopa</td>\n",
       "      <td>33.075949</td>\n",
       "      <td>...</td>\n",
       "      <td>NaN</td>\n",
       "      <td>NaN</td>\n",
       "      <td>NaN</td>\n",
       "      <td>NaN</td>\n",
       "      <td>2</td>\n",
       "      <td>PI585406</td>\n",
       "      <td>NaN</td>\n",
       "      <td>Green Canopy Cover Estimation from Field Scann...</td>\n",
       "      <td>https://terraref.ncsa.illinois.edu/bety/traits...</td>\n",
       "      <td>https://terraref.ncsa.illinois.edu/bety/traits...</td>\n",
       "    </tr>\n",
       "    <tr>\n",
       "      <th>711756</th>\n",
       "      <td>711757</td>\n",
       "      <td>0</td>\n",
       "      <td>traits</td>\n",
       "      <td>6.003117e+09</td>\n",
       "      <td>NaN</td>\n",
       "      <td>6000016197</td>\n",
       "      <td>NaN</td>\n",
       "      <td>MAC Field Scanner Season 6 Range 52 Column 5 W</td>\n",
       "      <td>Maricopa</td>\n",
       "      <td>33.076380</td>\n",
       "      <td>...</td>\n",
       "      <td>NaN</td>\n",
       "      <td>NaN</td>\n",
       "      <td>NaN</td>\n",
       "      <td>NaN</td>\n",
       "      <td>2</td>\n",
       "      <td>SP1516</td>\n",
       "      <td>NaN</td>\n",
       "      <td>Mean temperature from infrared images</td>\n",
       "      <td>https://terraref.ncsa.illinois.edu/bety/traits...</td>\n",
       "      <td>https://terraref.ncsa.illinois.edu/bety/traits...</td>\n",
       "    </tr>\n",
       "    <tr>\n",
       "      <th>89982</th>\n",
       "      <td>89983</td>\n",
       "      <td>0</td>\n",
       "      <td>traits</td>\n",
       "      <td>6.004949e+09</td>\n",
       "      <td>6.000000e+09</td>\n",
       "      <td>6000014425</td>\n",
       "      <td>6.000000e+09</td>\n",
       "      <td>MAC Field Scanner Season 6 Range 47 Column 3 E</td>\n",
       "      <td>Maricopa</td>\n",
       "      <td>33.076201</td>\n",
       "      <td>...</td>\n",
       "      <td>NaN</td>\n",
       "      <td>NaN</td>\n",
       "      <td>NaN</td>\n",
       "      <td>NaN</td>\n",
       "      <td>2</td>\n",
       "      <td>PI570431</td>\n",
       "      <td>NaN</td>\n",
       "      <td>3D scanner to leaf length and width</td>\n",
       "      <td>https://terraref.ncsa.illinois.edu/bety/traits...</td>\n",
       "      <td>https://terraref.ncsa.illinois.edu/bety/traits...</td>\n",
       "    </tr>\n",
       "    <tr>\n",
       "      <th>82414</th>\n",
       "      <td>82415</td>\n",
       "      <td>0</td>\n",
       "      <td>traits</td>\n",
       "      <td>6.004276e+09</td>\n",
       "      <td>6.000000e+09</td>\n",
       "      <td>6000015314</td>\n",
       "      <td>NaN</td>\n",
       "      <td>MAC Field Scanner Season 6 Range 43 Column 2</td>\n",
       "      <td>Maricopa</td>\n",
       "      <td>33.076057</td>\n",
       "      <td>...</td>\n",
       "      <td>NaN</td>\n",
       "      <td>NaN</td>\n",
       "      <td>NaN</td>\n",
       "      <td>NaN</td>\n",
       "      <td>2</td>\n",
       "      <td>PI510757</td>\n",
       "      <td>NaN</td>\n",
       "      <td>Green Canopy Cover Estimation from Field Scann...</td>\n",
       "      <td>https://terraref.ncsa.illinois.edu/bety/traits...</td>\n",
       "      <td>https://terraref.ncsa.illinois.edu/bety/traits...</td>\n",
       "    </tr>\n",
       "    <tr>\n",
       "      <th>164588</th>\n",
       "      <td>164589</td>\n",
       "      <td>0</td>\n",
       "      <td>traits</td>\n",
       "      <td>6.004317e+09</td>\n",
       "      <td>6.000000e+09</td>\n",
       "      <td>6000014614</td>\n",
       "      <td>NaN</td>\n",
       "      <td>MAC Field Scanner Season 6 Range 21 Column 8</td>\n",
       "      <td>Maricopa</td>\n",
       "      <td>33.075266</td>\n",
       "      <td>...</td>\n",
       "      <td>NaN</td>\n",
       "      <td>NaN</td>\n",
       "      <td>NaN</td>\n",
       "      <td>NaN</td>\n",
       "      <td>2</td>\n",
       "      <td>PI329605</td>\n",
       "      <td>NaN</td>\n",
       "      <td>Green Canopy Cover Estimation from Field Scann...</td>\n",
       "      <td>https://terraref.ncsa.illinois.edu/bety/traits...</td>\n",
       "      <td>https://terraref.ncsa.illinois.edu/bety/traits...</td>\n",
       "    </tr>\n",
       "  </tbody>\n",
       "</table>\n",
       "<p>5 rows × 39 columns</p>\n",
       "</div>"
      ],
      "text/plain": [
       "        Unnamed: 0  checked result_type            id   citation_id  \\\n",
       "169675      169676        0      traits  6.004294e+09  6.000000e+09   \n",
       "711756      711757        0      traits  6.003117e+09           NaN   \n",
       "89982        89983        0      traits  6.004949e+09  6.000000e+09   \n",
       "82414        82415        0      traits  6.004276e+09  6.000000e+09   \n",
       "164588      164589        0      traits  6.004317e+09  6.000000e+09   \n",
       "\n",
       "           site_id  treatment_id  \\\n",
       "169675  6000015280           NaN   \n",
       "711756  6000016197           NaN   \n",
       "89982   6000014425  6.000000e+09   \n",
       "82414   6000015314           NaN   \n",
       "164588  6000014614           NaN   \n",
       "\n",
       "                                              sitename      city        lat  \\\n",
       "169675    MAC Field Scanner Season 6 Range 40 Column 4  Maricopa  33.075949   \n",
       "711756  MAC Field Scanner Season 6 Range 52 Column 5 W  Maricopa  33.076380   \n",
       "89982   MAC Field Scanner Season 6 Range 47 Column 3 E  Maricopa  33.076201   \n",
       "82414     MAC Field Scanner Season 6 Range 43 Column 2  Maricopa  33.076057   \n",
       "164588    MAC Field Scanner Season 6 Range 21 Column 8  Maricopa  33.075266   \n",
       "\n",
       "        ...   n statname stat notes  access_level  cultivar entity  \\\n",
       "169675  ... NaN      NaN  NaN   NaN             2  PI585406    NaN   \n",
       "711756  ... NaN      NaN  NaN   NaN             2    SP1516    NaN   \n",
       "89982   ... NaN      NaN  NaN   NaN             2  PI570431    NaN   \n",
       "82414   ... NaN      NaN  NaN   NaN             2  PI510757    NaN   \n",
       "164588  ... NaN      NaN  NaN   NaN             2  PI329605    NaN   \n",
       "\n",
       "                                              method_name  \\\n",
       "169675  Green Canopy Cover Estimation from Field Scann...   \n",
       "711756              Mean temperature from infrared images   \n",
       "89982                 3D scanner to leaf length and width   \n",
       "82414   Green Canopy Cover Estimation from Field Scann...   \n",
       "164588  Green Canopy Cover Estimation from Field Scann...   \n",
       "\n",
       "                                                 view_url  \\\n",
       "169675  https://terraref.ncsa.illinois.edu/bety/traits...   \n",
       "711756  https://terraref.ncsa.illinois.edu/bety/traits...   \n",
       "89982   https://terraref.ncsa.illinois.edu/bety/traits...   \n",
       "82414   https://terraref.ncsa.illinois.edu/bety/traits...   \n",
       "164588  https://terraref.ncsa.illinois.edu/bety/traits...   \n",
       "\n",
       "                                                 edit_url  \n",
       "169675  https://terraref.ncsa.illinois.edu/bety/traits...  \n",
       "711756  https://terraref.ncsa.illinois.edu/bety/traits...  \n",
       "89982   https://terraref.ncsa.illinois.edu/bety/traits...  \n",
       "82414   https://terraref.ncsa.illinois.edu/bety/traits...  \n",
       "164588  https://terraref.ncsa.illinois.edu/bety/traits...  \n",
       "\n",
       "[5 rows x 39 columns]"
      ]
     },
     "execution_count": 29,
     "metadata": {},
     "output_type": "execute_result"
    }
   ],
   "source": [
    "# test function on random sample df\n",
    "\n",
    "test_df = season_six_all.sample(n=200)\n",
    "test_df.head()"
   ]
  },
  {
   "cell_type": "code",
   "execution_count": 30,
   "metadata": {},
   "outputs": [
    {
     "data": {
      "text/plain": [
       "array(['MAC Field Scanner Season 6 Range 40 Column 4',\n",
       "       'MAC Field Scanner Season 6 Range 52 Column 5 W',\n",
       "       'MAC Field Scanner Season 6 Range 47 Column 3 E',\n",
       "       'MAC Field Scanner Season 6 Range 43 Column 2',\n",
       "       'MAC Field Scanner Season 6 Range 21 Column 8',\n",
       "       'MAC Field Scanner Season 6 Range 41 Column 3',\n",
       "       'MAC Field Scanner Season 6 Range 28 Column 16 E',\n",
       "       'MAC Field Scanner Season 6 Range 7 Column 13 W',\n",
       "       'MAC Field Scanner Season 6 Range 40 Column 2',\n",
       "       'MAC Field Scanner Season 6 Range 2 Column 11'], dtype=object)"
      ]
     },
     "execution_count": 30,
     "metadata": {},
     "output_type": "execute_result"
    }
   ],
   "source": [
    "test_df.sitename.unique()[:10]"
   ]
  },
  {
   "cell_type": "code",
   "execution_count": 31,
   "metadata": {},
   "outputs": [
    {
     "name": "stdout",
     "output_type": "stream",
     "text": [
      "200\n"
     ]
    }
   ],
   "source": [
    "test_df_sitenames_array = test_df.sitename.values\n",
    "print(len(test_df_sitenames_array))"
   ]
  },
  {
   "cell_type": "code",
   "execution_count": null,
   "metadata": {},
   "outputs": [],
   "source": []
  },
  {
   "cell_type": "code",
   "execution_count": null,
   "metadata": {},
   "outputs": [],
   "source": []
  },
  {
   "cell_type": "code",
   "execution_count": null,
   "metadata": {},
   "outputs": [],
   "source": []
  },
  {
   "cell_type": "code",
   "execution_count": null,
   "metadata": {},
   "outputs": [],
   "source": []
  },
  {
   "cell_type": "code",
   "execution_count": null,
   "metadata": {},
   "outputs": [],
   "source": []
  },
  {
   "cell_type": "markdown",
   "metadata": {},
   "source": [
    "#### Check for duplicate traits that should only have been measured once\n",
    "* `flag_leaf_emergence`\n",
    "* `aboveground_dry_biomass`\n",
    "* `flowering_time`"
   ]
  },
  {
   "cell_type": "code",
   "execution_count": null,
   "metadata": {},
   "outputs": [],
   "source": [
    "# example code from season 4\n",
    "\n",
    "# dry_biomass_trait = df2.loc[df2['trait'] == 'aboveground_dry_biomass']\n",
    "# dry_biomass_trait.duplicated(subset = 'sitename').value_counts()"
   ]
  },
  {
   "cell_type": "code",
   "execution_count": null,
   "metadata": {},
   "outputs": [],
   "source": [
    "def check_duplicate_traits(df, column_to_check, value_to_check, subset_column):\n",
    "    \n",
    "    \"\"\"\n",
    "    Subset column is needed for duplicated function. For these data it will be sitename.\n",
    "    Returns value counts for how many duplicates were found. \n",
    "    Any True values indicate a duplicate with the same subset_column and column_to_check.\n",
    "    \"\"\"\n",
    "    \n",
    "    val = df.loc[df[column_to_check] == value_to_check]\n",
    "    \n",
    "    return val.duplicated(subset = subset_column).value_counts()"
   ]
  },
  {
   "cell_type": "code",
   "execution_count": null,
   "metadata": {},
   "outputs": [],
   "source": []
  },
  {
   "cell_type": "code",
   "execution_count": null,
   "metadata": {},
   "outputs": [],
   "source": []
  },
  {
   "cell_type": "code",
   "execution_count": null,
   "metadata": {},
   "outputs": [],
   "source": []
  },
  {
   "cell_type": "code",
   "execution_count": null,
   "metadata": {},
   "outputs": [],
   "source": []
  },
  {
   "cell_type": "code",
   "execution_count": null,
   "metadata": {},
   "outputs": [],
   "source": []
  },
  {
   "cell_type": "code",
   "execution_count": null,
   "metadata": {},
   "outputs": [],
   "source": []
  },
  {
   "cell_type": "code",
   "execution_count": null,
   "metadata": {},
   "outputs": [],
   "source": []
  },
  {
   "cell_type": "code",
   "execution_count": null,
   "metadata": {},
   "outputs": [],
   "source": []
  },
  {
   "cell_type": "markdown",
   "metadata": {},
   "source": [
    "#### Canopy Height\n",
    "* Inspect date ranges\n",
    "* Check `canopy_height` values for outliers"
   ]
  },
  {
   "cell_type": "code",
   "execution_count": null,
   "metadata": {},
   "outputs": [],
   "source": []
  },
  {
   "cell_type": "code",
   "execution_count": null,
   "metadata": {},
   "outputs": [],
   "source": []
  },
  {
   "cell_type": "code",
   "execution_count": null,
   "metadata": {},
   "outputs": [],
   "source": []
  },
  {
   "cell_type": "code",
   "execution_count": null,
   "metadata": {},
   "outputs": [],
   "source": []
  },
  {
   "cell_type": "code",
   "execution_count": null,
   "metadata": {},
   "outputs": [],
   "source": []
  },
  {
   "cell_type": "markdown",
   "metadata": {},
   "source": [
    "#### Drop columns!"
   ]
  },
  {
   "cell_type": "code",
   "execution_count": null,
   "metadata": {},
   "outputs": [],
   "source": [
    "season_4_cols_to_drop = ['Unnamed: 0', 'checked', 'result_type', 'citation_id', 'scientificname', \\\n",
    "                         'species_id', 'author', 'citation_year', 'treatment', 'date', 'month', 'year', \\\n",
    "                         'dateloc', 'n', 'statname', 'stat', 'notes', 'access_level', 'entity', \\\n",
    "                         'method_name', 'view_url', 'edit_url', 'treatment_id', 'city', 'commonname', \\\n",
    "                         'genus', 'time']"
   ]
  },
  {
   "cell_type": "code",
   "execution_count": null,
   "metadata": {},
   "outputs": [],
   "source": []
  },
  {
   "cell_type": "code",
   "execution_count": null,
   "metadata": {},
   "outputs": [],
   "source": []
  },
  {
   "cell_type": "code",
   "execution_count": null,
   "metadata": {},
   "outputs": [],
   "source": []
  },
  {
   "cell_type": "code",
   "execution_count": null,
   "metadata": {},
   "outputs": [],
   "source": []
  },
  {
   "cell_type": "code",
   "execution_count": null,
   "metadata": {},
   "outputs": [],
   "source": []
  },
  {
   "cell_type": "markdown",
   "metadata": {},
   "source": [
    "#### Create pivot table with `sitename` and `cultivar` as indices"
   ]
  }
 ],
 "metadata": {
  "kernelspec": {
   "display_name": "Python 3",
   "language": "python",
   "name": "python3"
  },
  "language_info": {
   "codemirror_mode": {
    "name": "ipython",
    "version": 3
   },
   "file_extension": ".py",
   "mimetype": "text/x-python",
   "name": "python",
   "nbconvert_exporter": "python",
   "pygments_lexer": "ipython3",
   "version": "3.7.4"
  }
 },
 "nbformat": 4,
 "nbformat_minor": 4
}
