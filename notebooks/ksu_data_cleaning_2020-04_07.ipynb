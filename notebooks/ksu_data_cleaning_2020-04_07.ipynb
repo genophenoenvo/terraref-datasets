{
 "cells": [
  {
   "cell_type": "markdown",
   "metadata": {},
   "source": [
    "### Kansas Sorghum Experiments Data Cleaning Notebook\n",
    "#### Data from Kansas State University Sorghum Experiments\n",
    "- goal: to gather more cultivar data in addition to MAC Sorghum Seasons 4 & 6\n",
    "- please contact Emily Cain at ejcain@arizona.edu with any questions or feedback"
   ]
  },
  {
   "cell_type": "code",
   "execution_count": null,
   "metadata": {},
   "outputs": [],
   "source": [
    "import datetime\n",
    "import numpy as np\n",
    "import pandas as pd"
   ]
  },
  {
   "cell_type": "markdown",
   "metadata": {},
   "source": [
    "#### A. Read in data queried from betydb in `R` using this code:\n",
    "```\n",
    "library(traits)\n",
    "\n",
    "options(betydb_url = \"https://terraref.ncsa.illinois.edu/bety/\",\n",
    "        betydb_api_version = 'v1',\n",
    "        betydb_key = 'secret_api_key_123456_abcde')\n",
    "        \n",
    "kansas <- betydb_query(experiment  = \"~KSU\",\n",
    "                         limit     =  \"none\")\n",
    "                      \n",
    "write.csv(kansas, file = \"kansas_experiments_2020-03-24.csv\")\n",
    "```"
   ]
  },
  {
   "cell_type": "code",
   "execution_count": null,
   "metadata": {},
   "outputs": [],
   "source": [
    "df_0 = pd.read_csv('data/ksu_experiments_2020-03-24.csv', low_memory=False)\n",
    "print(df_0.shape)\n",
    "df_0.head(3)"
   ]
  },
  {
   "cell_type": "markdown",
   "metadata": {},
   "source": [
    "#### B. Find sitenames that do **not** start with `MAC`\n",
    "- Slice dataframe to only include sitenames that include `KSU`"
   ]
  },
  {
   "cell_type": "code",
   "execution_count": null,
   "metadata": {},
   "outputs": [],
   "source": [
    "non_mac_sites = df_0[~df_0.sitename.str.startswith('MAC')]\n",
    "print(non_mac_sites.shape)\n",
    "# non_mac_sites.head(3)"
   ]
  },
  {
   "cell_type": "code",
   "execution_count": null,
   "metadata": {},
   "outputs": [],
   "source": [
    "print(non_mac_sites.raw_date.min())\n",
    "print(non_mac_sites.raw_date.max())"
   ]
  },
  {
   "cell_type": "code",
   "execution_count": null,
   "metadata": {},
   "outputs": [],
   "source": [
    "ksu_0 = non_mac_sites[non_mac_sites.sitename.str.contains('KSU')]\n",
    "print(ksu_0.shape)\n",
    "# ksu_0.tail(3)"
   ]
  },
  {
   "cell_type": "markdown",
   "metadata": {},
   "source": [
    "#### C. Slice for selected traits\n",
    "- canopy height\n",
    "- days & GDD to flowering\n",
    "- may use other traits as needed for future models"
   ]
  },
  {
   "cell_type": "code",
   "execution_count": null,
   "metadata": {},
   "outputs": [],
   "source": [
    "ksu_0.trait.unique()"
   ]
  },
  {
   "cell_type": "code",
   "execution_count": null,
   "metadata": {},
   "outputs": [],
   "source": [
    "ksu_1 = ksu_0.loc[(ksu_0.trait == 'flowering_time') | (ksu_0.trait == 'canopy_height')]\n",
    "print(ksu_1.shape)\n",
    "# ksu_1.head(3)"
   ]
  },
  {
   "cell_type": "markdown",
   "metadata": {},
   "source": [
    "#### D. Drop & Rename Columns\n",
    "- rename `mean` to `value`\n",
    "- convert `raw_date` to new datetime object\n",
    "- new datetime object will be in `date` column"
   ]
  },
  {
   "cell_type": "code",
   "execution_count": null,
   "metadata": {},
   "outputs": [],
   "source": [
    "# ksu_1.columns"
   ]
  },
  {
   "cell_type": "code",
   "execution_count": null,
   "metadata": {},
   "outputs": [],
   "source": [
    "# Can drop most columns with only one value\n",
    "\n",
    "# for col in ksu_1.columns:\n",
    "    \n",
    "#     if ksu_1[col].nunique() < 5:\n",
    "#         print(f'Unique values for {col}: {ksu_1[col].unique()}')"
   ]
  },
  {
   "cell_type": "code",
   "execution_count": null,
   "metadata": {},
   "outputs": [],
   "source": [
    "cols_to_drop = ['Unnamed: 0', 'checked', 'result_type', 'id', 'citation_id', 'site_id', 'treatment_id', \n",
    "                'city', 'scientificname', 'commonname', 'genus', 'species_id', 'cultivar_id', 'author', \n",
    "                'citation_year', 'time', 'month', 'year', 'n', 'statname', 'stat', 'notes', 'access_level', \n",
    "                'entity', 'view_url', 'edit_url', 'treatment', 'date', 'dateloc']\n",
    "\n",
    "ksu_2 = ksu_1.drop(labels=cols_to_drop, axis=1)\n",
    "print(ksu_2.shape)\n",
    "# ksu_2.tail(3)"
   ]
  },
  {
   "cell_type": "markdown",
   "metadata": {},
   "source": [
    "#### Convert `raw_date` to datetime object"
   ]
  },
  {
   "cell_type": "code",
   "execution_count": null,
   "metadata": {},
   "outputs": [],
   "source": [
    "ksu_2.dtypes"
   ]
  },
  {
   "cell_type": "code",
   "execution_count": null,
   "metadata": {},
   "outputs": [],
   "source": [
    "new_dates = pd.to_datetime(ksu_2.raw_date)\n",
    "\n",
    "ksu_3 = ksu_2.copy()\n",
    "ksu_3['date'] = new_dates\n",
    "\n",
    "print(ksu_2.shape[0])\n",
    "print(ksu_3.shape[0])\n",
    "\n",
    "# ksu_3.head(3)"
   ]
  },
  {
   "cell_type": "code",
   "execution_count": null,
   "metadata": {},
   "outputs": [],
   "source": [
    "ksu_4 = ksu_3.rename({'mean': 'value'}, axis=1)\n",
    "print(ksu_4.shape)\n",
    "# ksu_4.tail(3)"
   ]
  },
  {
   "cell_type": "markdown",
   "metadata": {},
   "source": [
    "### E. Extract `Range` and `Pass` values\n",
    "- still need to determine how the field is structured\n",
    "- is `Pass` similar to `Column` in the MAC experiments?"
   ]
  },
  {
   "cell_type": "code",
   "execution_count": null,
   "metadata": {},
   "outputs": [],
   "source": [
    "ksu_5 = ksu_4.copy()\n",
    "\n",
    "ksu_5['range'] = ksu_5['sitename'].str.extract(\"Range (\\d+)\").astype(int)\n",
    "ksu_5['pass'] = ksu_5['sitename'].str.extract(\"Pass (\\d+)\").astype(int)\n",
    "\n",
    "# ksu_5.sample(n=5)"
   ]
  },
  {
   "cell_type": "markdown",
   "metadata": {},
   "source": [
    "### F. Growing Degree Days (GDD) to Flowering\n",
    "- Weather data taken from [KSU Weather Station](http://mesonet.k-state.edu/weather/historical/) in Manhattan\n",
    "- planting date: 2016-06-17\n",
    "- harvest date: 2016-10-21"
   ]
  },
  {
   "cell_type": "code",
   "execution_count": null,
   "metadata": {},
   "outputs": [],
   "source": [
    "manhattan_weather_0 = pd.read_csv('data/manhattan_weather_2016_daily.csv')\n",
    "print(manhattan_weather_0.shape)\n",
    "manhattan_weather_0.head(5)"
   ]
  },
  {
   "cell_type": "markdown",
   "metadata": {},
   "source": [
    "#### Change column names and drop first two rows\n",
    "- Add datetime column"
   ]
  },
  {
   "cell_type": "code",
   "execution_count": null,
   "metadata": {},
   "outputs": [],
   "source": [
    "manhattan_weather_1 = manhattan_weather_0.copy()\n",
    "\n",
    "datetimes = pd.to_datetime(manhattan_weather_1['Timestamp'])\n",
    "manhattan_weather_1['date'] = datetimes\n",
    "\n",
    "print(manhattan_weather_1.shape)\n",
    "# manhattan_weather_1.tail()"
   ]
  },
  {
   "cell_type": "code",
   "execution_count": null,
   "metadata": {},
   "outputs": [],
   "source": [
    "# manhattan_weather_1.columns"
   ]
  },
  {
   "cell_type": "code",
   "execution_count": null,
   "metadata": {},
   "outputs": [],
   "source": [
    "# Drop first 2 rows\n",
    "\n",
    "manhattan_weather_2 = manhattan_weather_1.iloc[2:]\n",
    "print(manhattan_weather_2.shape)\n",
    "# manhattan_weather_2.head()"
   ]
  },
  {
   "cell_type": "code",
   "execution_count": null,
   "metadata": {},
   "outputs": [],
   "source": [
    "# Drop `timestamp` column\n",
    "\n",
    "manhattan_weather_3 = manhattan_weather_2.drop(labels=['Timestamp'], axis=1)\n",
    "print(manhattan_weather_3.shape)\n",
    "# manhattan_weather_3.head()"
   ]
  },
  {
   "cell_type": "code",
   "execution_count": null,
   "metadata": {},
   "outputs": [],
   "source": [
    "manhattan_weather_4 = manhattan_weather_3.rename({'Station': 'station', 'AirTemperature': 'air_temp_max_F', \n",
    "                                                  'AirTemperature.1': 'air_temp_min_F', 'RelativeHumidity': 'avg_rh',\n",
    "                                                  'Precipitation': 'precip_total', 'WindSpeed2m': 'avg_wind_speed', \n",
    "                                                  'WindSpeed2m.1': 'max_wind_speed', 'SoilTemperature5cm': 'soil_temp_5cm_max',\n",
    "                                                  'SoilTemperature5cm.1': 'soil_temp_5cm_min', \n",
    "                                                  'SoilTemperature10cm': 'soil_temp_10cm_max', \n",
    "                                                  'SoilTemperature10cm.1': 'soil_temp_10cm_min', 'SolarRadiation': 'solar_rad',\n",
    "                                                  'ETo': 'eto_grass', 'ETo.1': 'eto_alfalfa'}, axis=1)\n",
    "print(manhattan_weather_4.shape)\n",
    "# manhattan_weather_4.head()\n"
   ]
  },
  {
   "cell_type": "markdown",
   "metadata": {},
   "source": [
    "#### Add Day-of-year (DOY) to Weather Dataframe\n",
    "- slice dataframe to only include season dates from planting to harvest\n",
    "- change `date` to index, but keep `date` column\n",
    "- use Pandas `PeriodIndex.dayofyear()`"
   ]
  },
  {
   "cell_type": "code",
   "execution_count": null,
   "metadata": {},
   "outputs": [],
   "source": [
    "manhattan_weather_5 = manhattan_weather_4.loc[(manhattan_weather_4['date'] >= '2016-06-17') & (manhattan_weather_4['date'] <= '2016-10-21')]"
   ]
  },
  {
   "cell_type": "code",
   "execution_count": null,
   "metadata": {},
   "outputs": [],
   "source": [
    "manhattan_weather_6 = manhattan_weather_5.set_index(keys=['date'], drop=False)\n",
    "print(manhattan_weather_6.shape)\n",
    "# manhattan_weather_6.tail(3)"
   ]
  },
  {
   "cell_type": "code",
   "execution_count": null,
   "metadata": {},
   "outputs": [],
   "source": [
    "manhattan_weather_7 = manhattan_weather_6.copy()\n",
    "\n",
    "manhattan_weather_7['day_of_year'] = manhattan_weather_7.index.dayofyear"
   ]
  },
  {
   "cell_type": "code",
   "execution_count": null,
   "metadata": {},
   "outputs": [],
   "source": [
    "# manhattan_weather_7.tail(3)"
   ]
  },
  {
   "cell_type": "markdown",
   "metadata": {},
   "source": [
    "#### Add Growing Degree Days (GDD)\n",
    "- convert all numeric columns from string `to_numeric`\n",
    "- add air temps in C\n",
    "- equation = (F - 32) x 0.5556 = C\n",
    "- daily gdd equation = ((max_air_temp + min_air_temp) / 2) - 10"
   ]
  },
  {
   "cell_type": "code",
   "execution_count": null,
   "metadata": {},
   "outputs": [],
   "source": [
    "cols_to_convert = ['air_temp_max_F', 'air_temp_min_F', 'avg_rh', 'precip_total', 'avg_wind_speed', 'max_wind_speed', \n",
    "                   'soil_temp_5cm_max', 'soil_temp_5cm_min', 'soil_temp_10cm_max', 'soil_temp_10cm_min', 'solar_rad', \n",
    "                   'eto_grass', 'eto_alfalfa']"
   ]
  },
  {
   "cell_type": "code",
   "execution_count": null,
   "metadata": {},
   "outputs": [],
   "source": [
    "manhattan_weather_7[cols_to_convert] = manhattan_weather_7[cols_to_convert].apply(pd.to_numeric)"
   ]
  },
  {
   "cell_type": "code",
   "execution_count": null,
   "metadata": {},
   "outputs": [],
   "source": [
    "manhattan_weather_7.dtypes"
   ]
  },
  {
   "cell_type": "code",
   "execution_count": null,
   "metadata": {},
   "outputs": [],
   "source": [
    "manhattan_weather_8 = manhattan_weather_7.copy()\n",
    "\n",
    "manhattan_weather_8['air_temp_max_C'] = round(((manhattan_weather_8['air_temp_max_F'] - 32) * 0.556), 1)\n",
    "print(manhattan_weather_8.shape)\n",
    "# manhattan_weather_8.tail(3)"
   ]
  },
  {
   "cell_type": "code",
   "execution_count": null,
   "metadata": {},
   "outputs": [],
   "source": [
    "manhattan_weather_9 = manhattan_weather_8.copy()\n",
    "\n",
    "manhattan_weather_9['air_temp_min_C'] = round(((manhattan_weather_9['air_temp_min_F'] - 32) * 0.556), 1)\n",
    "print(manhattan_weather_9.shape)\n",
    "# manhattan_weather_9.head(3)"
   ]
  },
  {
   "cell_type": "code",
   "execution_count": null,
   "metadata": {},
   "outputs": [],
   "source": [
    "manhattan_weather_10 = manhattan_weather_9.copy()\n",
    "\n",
    "manhattan_weather_10['daily_gdd'] = (((manhattan_weather_10['air_temp_max_C'] + manhattan_weather_10['air_temp_min_C'])) / 2) - 10\n",
    "\n",
    "print(manhattan_weather_10.shape)\n",
    "# manhattan_weather_10.sample(n=3)"
   ]
  },
  {
   "cell_type": "code",
   "execution_count": null,
   "metadata": {},
   "outputs": [],
   "source": [
    "# Check for any negative daily GDD values (if any, need to be converted to 0)\n",
    "\n",
    "manhattan_weather_10.loc[manhattan_weather_10.daily_gdd < 0]"
   ]
  },
  {
   "cell_type": "code",
   "execution_count": null,
   "metadata": {},
   "outputs": [],
   "source": [
    "# Assign negative daily gdd values to 0\n",
    "\n",
    "manhattan_weather_11 = manhattan_weather_10.copy()"
   ]
  },
  {
   "cell_type": "code",
   "execution_count": null,
   "metadata": {},
   "outputs": [],
   "source": [
    "# ignore SeetingWithCopyWarning\n",
    "\n",
    "manhattan_weather_11['daily_gdd']['2016-10-12'] = 0\n",
    "manhattan_weather_11['daily_gdd']['2016-10-13'] = 0"
   ]
  },
  {
   "cell_type": "code",
   "execution_count": null,
   "metadata": {},
   "outputs": [],
   "source": [
    "# Check to see that negative values were successfully converted to 0\n",
    "\n",
    "manhattan_weather_11.loc[manhattan_weather_11.daily_gdd <= 0]"
   ]
  },
  {
   "cell_type": "code",
   "execution_count": null,
   "metadata": {},
   "outputs": [],
   "source": [
    "# should now return an empty df\n",
    "\n",
    "manhattan_weather_11.loc[manhattan_weather_11.daily_gdd < 0]"
   ]
  },
  {
   "cell_type": "code",
   "execution_count": null,
   "metadata": {},
   "outputs": [],
   "source": [
    "# Add cumulative GDD, round to nearest integer\n",
    "\n",
    "manhattan_weather_12 = manhattan_weather_11.copy()\n",
    "\n",
    "manhattan_weather_12['gdd'] = np.rint(np.cumsum(manhattan_weather_12['daily_gdd']))\n",
    "print(manhattan_weather_12.shape)\n",
    "# manhattan_weather_12.tail()"
   ]
  },
  {
   "cell_type": "markdown",
   "metadata": {},
   "source": [
    "Drop `daily_gdd`"
   ]
  },
  {
   "cell_type": "code",
   "execution_count": null,
   "metadata": {},
   "outputs": [],
   "source": [
    "manhattan_weather_13 = manhattan_weather_12.drop(labels=['daily_gdd'], axis=1)\n",
    "print(manhattan_weather_13.shape)\n",
    "# manhattan_weather_13.head()"
   ]
  },
  {
   "cell_type": "markdown",
   "metadata": {},
   "source": [
    "#### Write Manhattan Weather Data to `.csv`"
   ]
  },
  {
   "cell_type": "code",
   "execution_count": null,
   "metadata": {},
   "outputs": [],
   "source": [
    "manhattan_weather_13.to_csv('data/processed/ksu_weather_2016_daily.csv')"
   ]
  },
  {
   "cell_type": "markdown",
   "metadata": {},
   "source": [
    "#### Add Day of Year & GDD to Days to Flowering DataFrame\n",
    "- slice trait data to only include `days_to_flowering`\n",
    "- merge DataFrames on `date_of_flowering`"
   ]
  },
  {
   "cell_type": "code",
   "execution_count": null,
   "metadata": {},
   "outputs": [],
   "source": [
    "ksu_5.trait.unique()"
   ]
  },
  {
   "cell_type": "code",
   "execution_count": null,
   "metadata": {},
   "outputs": [],
   "source": [
    "flowering_df_0 = ksu_5.loc[ksu_5.trait == 'flowering_time']\n",
    "print(flowering_df_0.shape)\n",
    "# flowering_df_0.head(3)"
   ]
  },
  {
   "cell_type": "code",
   "execution_count": null,
   "metadata": {},
   "outputs": [],
   "source": [
    "flowering_df_0.cultivar.nunique()"
   ]
  },
  {
   "cell_type": "markdown",
   "metadata": {},
   "source": [
    "#### Add `planting_date`\n",
    "- 2016-06-17"
   ]
  },
  {
   "cell_type": "code",
   "execution_count": null,
   "metadata": {},
   "outputs": [],
   "source": [
    "day_of_planting = datetime.date(2016,6,17)\n",
    "flowering_df_1 = flowering_df_0.copy()\n",
    "\n",
    "flowering_df_1['date_of_planting'] = day_of_planting\n",
    "print(flowering_df_1.shape)\n",
    "# flowering_df_1.head(3)"
   ]
  },
  {
   "cell_type": "markdown",
   "metadata": {},
   "source": [
    "#### Create timedelta using `flowering_time` values"
   ]
  },
  {
   "cell_type": "code",
   "execution_count": null,
   "metadata": {},
   "outputs": [],
   "source": [
    "timedelta_values = flowering_df_1['value'].values\n",
    "dates_of_flowering = []\n",
    "\n",
    "for val in timedelta_values:\n",
    "    \n",
    "    date_of_flowering = day_of_planting + datetime.timedelta(days=val)\n",
    "    dates_of_flowering.append(date_of_flowering)\n",
    "    \n",
    "print(flowering_df_1.shape[0])\n",
    "print(len(dates_of_flowering))"
   ]
  },
  {
   "cell_type": "code",
   "execution_count": null,
   "metadata": {},
   "outputs": [],
   "source": [
    "flowering_df_2 = flowering_df_1.copy()\n",
    "flowering_df_2['date_of_flowering'] = dates_of_flowering\n",
    "print(flowering_df_2.shape)\n",
    "# flowering_df_2.sample(n = 3)"
   ]
  },
  {
   "cell_type": "markdown",
   "metadata": {},
   "source": [
    "#### Add GDD and day_of_year to flowering DataFrame"
   ]
  },
  {
   "cell_type": "code",
   "execution_count": null,
   "metadata": {},
   "outputs": [],
   "source": [
    "ksu_gdd = manhattan_weather_13[['date', 'day_of_year', 'gdd']]"
   ]
  },
  {
   "cell_type": "code",
   "execution_count": null,
   "metadata": {},
   "outputs": [],
   "source": [
    "ksu_gdd.head()"
   ]
  },
  {
   "cell_type": "code",
   "execution_count": null,
   "metadata": {},
   "outputs": [],
   "source": [
    "flowering_df_3 = flowering_df_2.copy()\n",
    "flowering_df_3.date_of_flowering = pd.to_datetime(flowering_df_3.date_of_flowering)\n",
    "flowering_df_3.dtypes"
   ]
  },
  {
   "cell_type": "code",
   "execution_count": null,
   "metadata": {},
   "outputs": [],
   "source": [
    "flowering_df_4 = flowering_df_3.merge(ksu_gdd, how='left', left_on='date_of_flowering', right_on=ksu_gdd.index)\n",
    "print(flowering_df_4.shape)\n",
    "# flowering_df_4.head(3)"
   ]
  },
  {
   "cell_type": "markdown",
   "metadata": {},
   "source": [
    "#### Drop all date columns except `date_of_flowering`"
   ]
  },
  {
   "cell_type": "code",
   "execution_count": null,
   "metadata": {},
   "outputs": [],
   "source": [
    "date_cols_to_drop = ['date_x', 'raw_date', 'date_of_planting', 'date_y']\n",
    "flowering_df_5 = flowering_df_4.drop(labels=date_cols_to_drop, axis=1)\n",
    "print(flowering_df_5.shape)\n",
    "# flowering_df_5.tail(3)"
   ]
  },
  {
   "cell_type": "markdown",
   "metadata": {},
   "source": [
    "#### Check for duplicates"
   ]
  },
  {
   "cell_type": "code",
   "execution_count": null,
   "metadata": {},
   "outputs": [],
   "source": [
    "flowering_df_5.duplicated().value_counts()"
   ]
  },
  {
   "cell_type": "markdown",
   "metadata": {},
   "source": [
    "#### Sort flowering dataframe by `date`"
   ]
  },
  {
   "cell_type": "code",
   "execution_count": null,
   "metadata": {},
   "outputs": [],
   "source": [
    "flowering_df_6 = flowering_df_5.sort_values(by='date_of_flowering', ascending=True).reset_index(drop=True)\n",
    "# flowering_df_6.head()"
   ]
  },
  {
   "cell_type": "markdown",
   "metadata": {},
   "source": [
    "#### Write flowering dataframe to `.csv`"
   ]
  },
  {
   "cell_type": "code",
   "execution_count": null,
   "metadata": {},
   "outputs": [],
   "source": [
    "flowering_df_6.to_csv('data/processed/ksu_flowering_2020-04-06.csv', index=False)"
   ]
  },
  {
   "cell_type": "markdown",
   "metadata": {},
   "source": [
    "#### Canopy Height DataFrame"
   ]
  },
  {
   "cell_type": "code",
   "execution_count": null,
   "metadata": {},
   "outputs": [],
   "source": [
    "ksu_5.trait.value_counts()"
   ]
  },
  {
   "cell_type": "code",
   "execution_count": null,
   "metadata": {},
   "outputs": [],
   "source": [
    "canopy_0 = ksu_5.loc[ksu_5.trait == 'canopy_height']\n",
    "print(canopy_0.shape)\n",
    "# canopy_0.head(3)"
   ]
  },
  {
   "cell_type": "markdown",
   "metadata": {},
   "source": [
    "#### Drop `raw_date`"
   ]
  },
  {
   "cell_type": "code",
   "execution_count": null,
   "metadata": {},
   "outputs": [],
   "source": [
    "canopy_1 = canopy_0.drop(labels=['raw_date'], axis=1)\n",
    "print(canopy_1.shape)\n",
    "# canopy_1.head(3)"
   ]
  },
  {
   "cell_type": "markdown",
   "metadata": {},
   "source": [
    "#### Sort by Date"
   ]
  },
  {
   "cell_type": "code",
   "execution_count": null,
   "metadata": {},
   "outputs": [],
   "source": [
    "canopy_2 = canopy_1.copy()\n",
    "\n",
    "canopy_2['date'] = canopy_2['date'].astype('datetime64[ns]')\n",
    "canopy_2.dtypes"
   ]
  },
  {
   "cell_type": "code",
   "execution_count": null,
   "metadata": {},
   "outputs": [],
   "source": [
    "canopy_3 = canopy_2.set_index(keys=['date'], drop=True)\n",
    "print(canopy_3.shape)\n",
    "# canopy_3.head()"
   ]
  },
  {
   "cell_type": "code",
   "execution_count": null,
   "metadata": {},
   "outputs": [],
   "source": [
    "canopy_4 = canopy_3.sort_index()\n",
    "print(canopy_4.shape)\n",
    "# canopy_4.head()"
   ]
  },
  {
   "cell_type": "markdown",
   "metadata": {},
   "source": [
    "#### Write to `.csv`"
   ]
  },
  {
   "cell_type": "code",
   "execution_count": null,
   "metadata": {},
   "outputs": [],
   "source": [
    "canopy_4.to_csv('data/processed/ksu_canopy_heights_2020-04-07.csv')"
   ]
  }
 ],
 "metadata": {
  "kernelspec": {
   "display_name": "Python 3",
   "language": "python",
   "name": "python3"
  },
  "language_info": {
   "codemirror_mode": {
    "name": "ipython",
    "version": 3
   },
   "file_extension": ".py",
   "mimetype": "text/x-python",
   "name": "python",
   "nbconvert_exporter": "python",
   "pygments_lexer": "ipython3",
   "version": "3.7.5"
  }
 },
 "nbformat": 4,
 "nbformat_minor": 2
}
