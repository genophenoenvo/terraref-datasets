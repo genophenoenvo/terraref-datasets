{
 "cells": [
  {
   "cell_type": "markdown",
   "metadata": {},
   "source": [
    "## Code used to generate data for ontology annotations\n",
    "#### Values needed for ontology table:\n",
    "* `trait`\n",
    "* `trait_description`\n",
    "* `units`\n",
    "* `method_name`"
   ]
  },
  {
   "cell_type": "code",
   "execution_count": 1,
   "metadata": {},
   "outputs": [],
   "source": [
    "import pandas as pd"
   ]
  },
  {
   "cell_type": "code",
   "execution_count": 6,
   "metadata": {},
   "outputs": [
    {
     "name": "stdout",
     "output_type": "stream",
     "text": [
      "Shape of dataframe: (372363, 39)\n"
     ]
    }
   ],
   "source": [
    "df = pd.read_csv('data/raw/mac_season_4.csv')\n",
    "print(f'Shape of dataframe: {df.shape}')"
   ]
  },
  {
   "cell_type": "code",
   "execution_count": 7,
   "metadata": {},
   "outputs": [
    {
     "name": "stdout",
     "output_type": "stream",
     "text": [
      "75 unique traits within dataset\n"
     ]
    }
   ],
   "source": [
    "unique_traits = df.trait.unique()\n",
    "print(f'{df.trait.nunique()} unique traits within dataset')"
   ]
  },
  {
   "cell_type": "markdown",
   "metadata": {},
   "source": [
    "### I. Find all traits that have more than one unique value for \n",
    "* `trait_description`\n",
    "* `units`\n",
    "* `method_name`"
   ]
  },
  {
   "cell_type": "code",
   "execution_count": 25,
   "metadata": {},
   "outputs": [
    {
     "name": "stdout",
     "output_type": "stream",
     "text": [
      "Trait with more than one unique method name: canopy_height\n"
     ]
    }
   ],
   "source": [
    "for trait in unique_traits:\n",
    "    \n",
    "    if df.loc[df.trait == trait].trait_description.nunique() > 1:\n",
    "        print(f'Trait with more than one unique trait description: {trait}')\n",
    "        \n",
    "    if df.loc[df.trait == trait].units.nunique() > 1:\n",
    "        print(f'Trait with more than one unique value for units: {trait}')\n",
    "    \n",
    "    if df.loc[df.trait == trait].method_name.nunique() > 1:\n",
    "        print(f'Trait with more than one unique method name: {trait}')"
   ]
  },
  {
   "cell_type": "markdown",
   "metadata": {},
   "source": [
    "### II. Trait descriptions\n",
    "Four traits have ontology identifiers in their trait description:\n",
    "* `lodging_present`\n",
    "* `stem_elongated_internodes_number`\n",
    "* `emergence_count`\n",
    "* `plant_basal_tiller_number`"
   ]
  },
  {
   "cell_type": "code",
   "execution_count": 1,
   "metadata": {},
   "outputs": [],
   "source": [
    "want_to_print_unique_descriptions = False\n",
    "\n",
    "if want_to_print_unique_descriptions:\n",
    "\n",
    "    for trait in unique_traits:\n",
    "    \n",
    "        print(f'All unique descriptions for {trait}: {df.loc[df.trait == trait].trait_description.unique()}')"
   ]
  },
  {
   "cell_type": "markdown",
   "metadata": {},
   "source": [
    "#### Find all trait descriptions containing ontology identifiers\n",
    "* Search for string values containing `CO_`"
   ]
  },
  {
   "cell_type": "code",
   "execution_count": 20,
   "metadata": {},
   "outputs": [
    {
     "name": "stdout",
     "output_type": "stream",
     "text": [
      "Traits with ontology identifiers in trait description: ['lodging_present' 'stem_elongated_internodes_number' 'emergence_count'\n",
      " 'plant_basal_tiller_number']\n"
     ]
    }
   ],
   "source": [
    "ontology_identifiers = df.loc[df.trait_description.str.contains('CO_') == True]\n",
    "print(f'Traits with ontology identifiers in trait description: {ontology_identifiers.trait.unique()}')"
   ]
  },
  {
   "cell_type": "markdown",
   "metadata": {},
   "source": [
    "### III. Units"
   ]
  },
  {
   "cell_type": "code",
   "execution_count": 2,
   "metadata": {},
   "outputs": [],
   "source": [
    "want_to_print_unique_traits = False\n",
    "\n",
    "if want_to_print_unique_traits:\n",
    "\n",
    "    for trait in unique_traits:\n",
    "    \n",
    "        print(f'All unique units for {trait}: {df.loc[df.trait == trait].units.unique()}')"
   ]
  },
  {
   "cell_type": "markdown",
   "metadata": {},
   "source": [
    "#### Example exploration code for null values\n",
    "* View one complete row for more information"
   ]
  },
  {
   "cell_type": "code",
   "execution_count": 14,
   "metadata": {},
   "outputs": [
    {
     "data": {
      "text/plain": [
       "Unnamed: 0                                                           1\n",
       "checked                                                              0\n",
       "result_type                                                     traits\n",
       "id                                                          6001958927\n",
       "citation_id                                                      6e+09\n",
       "site_id                                                     6000005673\n",
       "treatment_id                                                     6e+09\n",
       "sitename                  MAC Field Scanner Season 4 Range 11 Column 5\n",
       "city                                                          Maricopa\n",
       "lat                                                            33.0749\n",
       "lon                                                           -111.975\n",
       "scientificname                                         Sorghum bicolor\n",
       "commonname                                                     sorghum\n",
       "genus                                                          Sorghum\n",
       "species_id                                                        2588\n",
       "cultivar_id                                                 6000000730\n",
       "author                                                  Newcomb, Maria\n",
       "citation_year                                                     2017\n",
       "treatment                      BAP 2017, water-deficit stress Aug 1-14\n",
       "date                                     2017 Jun 14 (America/Phoenix)\n",
       "time                                     [time unspecified or unknown]\n",
       "raw_date                                     2017-06-15 00:00:00 -0500\n",
       "month                                                                6\n",
       "year                                                              2017\n",
       "dateloc                                                              5\n",
       "trait                                         leaf_desiccation_present\n",
       "trait_description    Presence or absence of leaves showing desiccat...\n",
       "mean                                                                 0\n",
       "units                                                              NaN\n",
       "n                                                                  NaN\n",
       "statname                                                           NaN\n",
       "stat                                                               NaN\n",
       "notes                                                              NaN\n",
       "access_level                                                         2\n",
       "cultivar                                                      PI181083\n",
       "entity                                                             NaN\n",
       "method_name                      Visual assessment of leaf dessication\n",
       "view_url             https://terraref.ncsa.illinois.edu/bety/traits...\n",
       "edit_url             https://terraref.ncsa.illinois.edu/bety/traits...\n",
       "Name: 0, dtype: object"
      ]
     },
     "execution_count": 14,
     "metadata": {},
     "output_type": "execute_result"
    }
   ],
   "source": [
    "df.loc[df.trait == 'leaf_desiccation_present'].iloc[0]"
   ]
  },
  {
   "cell_type": "markdown",
   "metadata": {},
   "source": [
    "### IV. Method Name\n",
    "* `canopy_height` is the only trait with more than method"
   ]
  },
  {
   "cell_type": "code",
   "execution_count": 3,
   "metadata": {},
   "outputs": [],
   "source": [
    "want_to_print_methods = False\n",
    "\n",
    "if want_to_print_methods:\n",
    "\n",
    "    for trait in unique_traits:\n",
    "    \n",
    "        print(f'All unique method names for {trait}: {df.loc[df.trait == trait].method_name.unique()}')"
   ]
  },
  {
   "cell_type": "code",
   "execution_count": null,
   "metadata": {},
   "outputs": [],
   "source": []
  }
 ],
 "metadata": {
  "kernelspec": {
   "display_name": "Python 3",
   "language": "python",
   "name": "python3"
  },
  "language_info": {
   "codemirror_mode": {
    "name": "ipython",
    "version": 3
   },
   "file_extension": ".py",
   "mimetype": "text/x-python",
   "name": "python",
   "nbconvert_exporter": "python",
   "pygments_lexer": "ipython3",
   "version": "3.6.8"
  }
 },
 "nbformat": 4,
 "nbformat_minor": 2
}
